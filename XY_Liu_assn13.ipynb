{
 "cells": [
  {
   "cell_type": "markdown",
   "metadata": {},
   "source": [
    "# Liu Xingyu - DAV 6150 - Assignment 13\n",
    "\n",
    "## Introduction\n",
    "\n",
    "In this report, I will analyze on a data set consisting of physical characteristics and price of diamonds to compare the performance of Neural networks based on different hyperparameters and activation functions. I will construct three Neural networks using same explanatory variables but different hyperparameters and activation functions, and compare their performance using accuracy. This information could be used to learn how well could hyperparameters and activation functions could influnce the accuracy of the Neural Network model.\n",
    "\n",
    "To accomplish this, I will first perform an exploratory data analysis on each of the variables in an effort to discover any data integrity issues, uncover outliers, and see the distribution of the data. \n",
    "\n",
    "Then, based on the results of my EDA, I will perform the necessary data preparation and cleaning in order to prepare the data for use. This work will be guided by my domain knowledge and EDA, I will again perform an EDA on my transformed data, in order to see the effects of my transformations on the data. \n",
    "\n",
    "After the data preparation I will perform feature selection by calculating entropy and information gain.\n",
    "\n",
    "Then I will split the data into training and testing subsets, use the training subset to construct three Neural Networks using same combinations of four explanatory variables, fit models with the testing data to see how my model performs. \n",
    "\n",
    "Lastly, I will choose the best model from those I constructed based on accuracy and loss."
   ]
  },
  {
   "cell_type": "markdown",
   "metadata": {},
   "source": [
    "## Data Profiling & Domain Knowledge Development"
   ]
  },
  {
   "cell_type": "markdown",
   "metadata": {},
   "source": [
    "**price** - price in US dollars (326 dollars -- 18,823 dollars)\n",
    "\n",
    "**carat** - Carat is a unit of mass equal to 200 mg and is used for measuring gemstones and pearls, weight of the diamond (0.2--5.01)\n",
    "\n",
    "**cut** - Cut grade is is an objective measure of a diamond’s light performance, or, what we generally think of as sparkle, quality of the cut (Fair, Good, Very Good, Premium, Ideal)\n",
    "\n",
    "**color** - diamond colour, from D (best) to J (worst), 'D,E,F' are colorless, 'G,H,I,J' are near colorless.\n",
    "\n",
    "**clarity** - a measurement of how clear the diamond is (I1 (worst), SI2, SI1, VS2, VS1, VVS2, VVS1, IF (best))\n",
    "\n",
    "**x** - length in mm (0--10.74)\n",
    "\n",
    "**y** - width in mm (0--58.9)\n",
    "\n",
    "**z** - depth in mm (0--31.8)\n",
    "\n",
    "**depth** - total depth percentage = z / mean(x, y) = 2 * z / (x + y) (43--79)\n",
    "\n",
    "**table** - width of top of diamond relative to widest point (43--95)"
   ]
  },
  {
   "cell_type": "markdown",
   "metadata": {},
   "source": [
    "## Exploratory Data Analysis\n",
    "\n",
    "First I will read the data from github repository into python using pandas read csv function. Then I will look for missing and/or invalid data values and perform an exploratory data analysis on my dataset to determine what data need to be prepared for a future machine learning model. "
   ]
  },
  {
   "cell_type": "code",
   "execution_count": 2,
   "metadata": {},
   "outputs": [
    {
     "data": {
      "text/html": [
       "<div>\n",
       "<style scoped>\n",
       "    .dataframe tbody tr th:only-of-type {\n",
       "        vertical-align: middle;\n",
       "    }\n",
       "\n",
       "    .dataframe tbody tr th {\n",
       "        vertical-align: top;\n",
       "    }\n",
       "\n",
       "    .dataframe thead th {\n",
       "        text-align: right;\n",
       "    }\n",
       "</style>\n",
       "<table border=\"1\" class=\"dataframe\">\n",
       "  <thead>\n",
       "    <tr style=\"text-align: right;\">\n",
       "      <th></th>\n",
       "      <th>carat</th>\n",
       "      <th>cut</th>\n",
       "      <th>color</th>\n",
       "      <th>clarity</th>\n",
       "      <th>depth</th>\n",
       "      <th>table</th>\n",
       "      <th>price</th>\n",
       "      <th>x</th>\n",
       "      <th>y</th>\n",
       "      <th>z</th>\n",
       "    </tr>\n",
       "  </thead>\n",
       "  <tbody>\n",
       "    <tr>\n",
       "      <th>0</th>\n",
       "      <td>0.23</td>\n",
       "      <td>Ideal</td>\n",
       "      <td>E</td>\n",
       "      <td>SI2</td>\n",
       "      <td>61.5</td>\n",
       "      <td>55.0</td>\n",
       "      <td>326</td>\n",
       "      <td>3.95</td>\n",
       "      <td>3.98</td>\n",
       "      <td>2.43</td>\n",
       "    </tr>\n",
       "    <tr>\n",
       "      <th>1</th>\n",
       "      <td>0.21</td>\n",
       "      <td>Premium</td>\n",
       "      <td>E</td>\n",
       "      <td>SI1</td>\n",
       "      <td>59.8</td>\n",
       "      <td>61.0</td>\n",
       "      <td>326</td>\n",
       "      <td>3.89</td>\n",
       "      <td>3.84</td>\n",
       "      <td>2.31</td>\n",
       "    </tr>\n",
       "    <tr>\n",
       "      <th>2</th>\n",
       "      <td>0.23</td>\n",
       "      <td>Good</td>\n",
       "      <td>E</td>\n",
       "      <td>VS1</td>\n",
       "      <td>56.9</td>\n",
       "      <td>65.0</td>\n",
       "      <td>327</td>\n",
       "      <td>4.05</td>\n",
       "      <td>4.07</td>\n",
       "      <td>2.31</td>\n",
       "    </tr>\n",
       "    <tr>\n",
       "      <th>3</th>\n",
       "      <td>0.29</td>\n",
       "      <td>Premium</td>\n",
       "      <td>I</td>\n",
       "      <td>VS2</td>\n",
       "      <td>62.4</td>\n",
       "      <td>58.0</td>\n",
       "      <td>334</td>\n",
       "      <td>4.20</td>\n",
       "      <td>4.23</td>\n",
       "      <td>2.63</td>\n",
       "    </tr>\n",
       "    <tr>\n",
       "      <th>4</th>\n",
       "      <td>0.31</td>\n",
       "      <td>Good</td>\n",
       "      <td>J</td>\n",
       "      <td>SI2</td>\n",
       "      <td>63.3</td>\n",
       "      <td>58.0</td>\n",
       "      <td>335</td>\n",
       "      <td>4.34</td>\n",
       "      <td>4.35</td>\n",
       "      <td>2.75</td>\n",
       "    </tr>\n",
       "  </tbody>\n",
       "</table>\n",
       "</div>"
      ],
      "text/plain": [
       "   carat      cut color clarity  depth  table  price     x     y     z\n",
       "0   0.23    Ideal     E     SI2   61.5   55.0    326  3.95  3.98  2.43\n",
       "1   0.21  Premium     E     SI1   59.8   61.0    326  3.89  3.84  2.31\n",
       "2   0.23     Good     E     VS1   56.9   65.0    327  4.05  4.07  2.31\n",
       "3   0.29  Premium     I     VS2   62.4   58.0    334  4.20  4.23  2.63\n",
       "4   0.31     Good     J     SI2   63.3   58.0    335  4.34  4.35  2.75"
      ]
     },
     "execution_count": 2,
     "metadata": {},
     "output_type": "execute_result"
    }
   ],
   "source": [
    "#first import the necessary libraries and modules\n",
    "import pandas as pd\n",
    "import numpy as np\n",
    "import matplotlib.pyplot as plt\n",
    "import seaborn as sns\n",
    "\n",
    "#next read in the file\n",
    "filename = 'https://raw.githubusercontent.com/Bella1025/DAV6150./master/Project3_Data%20(1).csv'\n",
    "diamond = pd.read_csv(filename)\n",
    "\n",
    "#check results\n",
    "diamond.head()"
   ]
  },
  {
   "cell_type": "code",
   "execution_count": 3,
   "metadata": {},
   "outputs": [
    {
     "data": {
      "text/plain": [
       "carat      0\n",
       "cut        0\n",
       "color      0\n",
       "clarity    0\n",
       "depth      0\n",
       "table      0\n",
       "price      0\n",
       "x          0\n",
       "y          0\n",
       "z          0\n",
       "dtype: int64"
      ]
     },
     "execution_count": 3,
     "metadata": {},
     "output_type": "execute_result"
    }
   ],
   "source": [
    "# check the dataset for null values\n",
    "diamond.isnull().sum()"
   ]
  },
  {
   "cell_type": "markdown",
   "metadata": {},
   "source": [
    "I could see that there is no missing values in the diamond data set."
   ]
  },
  {
   "cell_type": "code",
   "execution_count": 4,
   "metadata": {},
   "outputs": [
    {
     "data": {
      "text/plain": [
       "carat      float64\n",
       "cut         object\n",
       "color       object\n",
       "clarity     object\n",
       "depth      float64\n",
       "table      float64\n",
       "price        int64\n",
       "x          float64\n",
       "y          float64\n",
       "z          float64\n",
       "dtype: object"
      ]
     },
     "execution_count": 4,
     "metadata": {},
     "output_type": "execute_result"
    }
   ],
   "source": [
    "## Check the types of the data\n",
    "diamond.dtypes"
   ]
  },
  {
   "cell_type": "markdown",
   "metadata": {},
   "source": [
    "From above, I see that variables carat, depth, table, price, x, y and z are numeric variables, while cut, color and clarity are categorical variables."
   ]
  },
  {
   "cell_type": "code",
   "execution_count": 5,
   "metadata": {},
   "outputs": [
    {
     "data": {
      "text/html": [
       "<div>\n",
       "<style scoped>\n",
       "    .dataframe tbody tr th:only-of-type {\n",
       "        vertical-align: middle;\n",
       "    }\n",
       "\n",
       "    .dataframe tbody tr th {\n",
       "        vertical-align: top;\n",
       "    }\n",
       "\n",
       "    .dataframe thead th {\n",
       "        text-align: right;\n",
       "    }\n",
       "</style>\n",
       "<table border=\"1\" class=\"dataframe\">\n",
       "  <thead>\n",
       "    <tr style=\"text-align: right;\">\n",
       "      <th></th>\n",
       "      <th>carat</th>\n",
       "      <th>depth</th>\n",
       "      <th>table</th>\n",
       "      <th>price</th>\n",
       "      <th>x</th>\n",
       "      <th>y</th>\n",
       "      <th>z</th>\n",
       "    </tr>\n",
       "  </thead>\n",
       "  <tbody>\n",
       "    <tr>\n",
       "      <th>count</th>\n",
       "      <td>53940.000000</td>\n",
       "      <td>53940.000000</td>\n",
       "      <td>53940.000000</td>\n",
       "      <td>53940.000000</td>\n",
       "      <td>53940.000000</td>\n",
       "      <td>53940.000000</td>\n",
       "      <td>53940.000000</td>\n",
       "    </tr>\n",
       "    <tr>\n",
       "      <th>mean</th>\n",
       "      <td>0.797940</td>\n",
       "      <td>61.749405</td>\n",
       "      <td>57.457184</td>\n",
       "      <td>3932.799722</td>\n",
       "      <td>5.731157</td>\n",
       "      <td>5.734526</td>\n",
       "      <td>3.538734</td>\n",
       "    </tr>\n",
       "    <tr>\n",
       "      <th>std</th>\n",
       "      <td>0.474011</td>\n",
       "      <td>1.432621</td>\n",
       "      <td>2.234491</td>\n",
       "      <td>3989.439738</td>\n",
       "      <td>1.121761</td>\n",
       "      <td>1.142135</td>\n",
       "      <td>0.705699</td>\n",
       "    </tr>\n",
       "    <tr>\n",
       "      <th>min</th>\n",
       "      <td>0.200000</td>\n",
       "      <td>43.000000</td>\n",
       "      <td>43.000000</td>\n",
       "      <td>326.000000</td>\n",
       "      <td>0.000000</td>\n",
       "      <td>0.000000</td>\n",
       "      <td>0.000000</td>\n",
       "    </tr>\n",
       "    <tr>\n",
       "      <th>25%</th>\n",
       "      <td>0.400000</td>\n",
       "      <td>61.000000</td>\n",
       "      <td>56.000000</td>\n",
       "      <td>950.000000</td>\n",
       "      <td>4.710000</td>\n",
       "      <td>4.720000</td>\n",
       "      <td>2.910000</td>\n",
       "    </tr>\n",
       "    <tr>\n",
       "      <th>50%</th>\n",
       "      <td>0.700000</td>\n",
       "      <td>61.800000</td>\n",
       "      <td>57.000000</td>\n",
       "      <td>2401.000000</td>\n",
       "      <td>5.700000</td>\n",
       "      <td>5.710000</td>\n",
       "      <td>3.530000</td>\n",
       "    </tr>\n",
       "    <tr>\n",
       "      <th>75%</th>\n",
       "      <td>1.040000</td>\n",
       "      <td>62.500000</td>\n",
       "      <td>59.000000</td>\n",
       "      <td>5324.250000</td>\n",
       "      <td>6.540000</td>\n",
       "      <td>6.540000</td>\n",
       "      <td>4.040000</td>\n",
       "    </tr>\n",
       "    <tr>\n",
       "      <th>max</th>\n",
       "      <td>5.010000</td>\n",
       "      <td>79.000000</td>\n",
       "      <td>95.000000</td>\n",
       "      <td>18823.000000</td>\n",
       "      <td>10.740000</td>\n",
       "      <td>58.900000</td>\n",
       "      <td>31.800000</td>\n",
       "    </tr>\n",
       "  </tbody>\n",
       "</table>\n",
       "</div>"
      ],
      "text/plain": [
       "              carat         depth         table         price             x  \\\n",
       "count  53940.000000  53940.000000  53940.000000  53940.000000  53940.000000   \n",
       "mean       0.797940     61.749405     57.457184   3932.799722      5.731157   \n",
       "std        0.474011      1.432621      2.234491   3989.439738      1.121761   \n",
       "min        0.200000     43.000000     43.000000    326.000000      0.000000   \n",
       "25%        0.400000     61.000000     56.000000    950.000000      4.710000   \n",
       "50%        0.700000     61.800000     57.000000   2401.000000      5.700000   \n",
       "75%        1.040000     62.500000     59.000000   5324.250000      6.540000   \n",
       "max        5.010000     79.000000     95.000000  18823.000000     10.740000   \n",
       "\n",
       "                  y             z  \n",
       "count  53940.000000  53940.000000  \n",
       "mean       5.734526      3.538734  \n",
       "std        1.142135      0.705699  \n",
       "min        0.000000      0.000000  \n",
       "25%        4.720000      2.910000  \n",
       "50%        5.710000      3.530000  \n",
       "75%        6.540000      4.040000  \n",
       "max       58.900000     31.800000  "
      ]
     },
     "execution_count": 5,
     "metadata": {},
     "output_type": "execute_result"
    }
   ],
   "source": [
    "#get summary statistics for each variable, including mean, standard deviation, median, quartiles, and range\n",
    "diamond.describe()"
   ]
  },
  {
   "cell_type": "markdown",
   "metadata": {},
   "source": [
    "I see from above that the range of data set do not contain negative values. From my domain knowledge and research, there should not be negative values for these attributes. So there is no need to deal with negative values.\n",
    "\n",
    "However, the minimum value of x, y and z is 0, in reality, the length, width and depth could not be 0, so these are invalid values which need to be dealt in the following section.\n",
    "\n",
    "The mean value of carat is 0.797940, the mean value of depth is 61.749405, the mean value of table is 57.457184, the mean value of price is 3932.788722, the mean value of x is 5.731157, the mean value of y is 5.734526, the mean value of z is 3.538734. The mean value of price is much bigger than other variables, the mean value of carat is much lower than other variables. Also, the std of price is much higher than other variables'std, the std of carat is much lower than other variables'std, So the data need to be normalized or standarized, I will demonstrate further to show how will I deal with this.\n",
    "\n",
    "Next I will look at the distributions of my data to identify the shape of the distribution as well as identify any potential outliers."
   ]
  },
  {
   "cell_type": "code",
   "execution_count": 6,
   "metadata": {},
   "outputs": [
    {
     "data": {
      "image/png": "[encoded data removed]",
      "text/plain": [
       "<Figure size 1080x1080 with 10 Axes>"
      ]
     },
     "metadata": {
      "needs_background": "light"
     },
     "output_type": "display_data"
    }
   ],
   "source": [
    "#define a figure to which we will add a histogram for each of our attributes\n",
    "plt.figure(figsize=(15,15))\n",
    "\n",
    "i=1\n",
    "columns=diamond.columns.tolist()\n",
    "for k in columns[0:] :  \n",
    "    plt.subplot(4,3,i) \n",
    "    plt.hist(diamond[k])\n",
    "    plt.title('%s' %k)\n",
    "    i=i+1\n",
    "\n",
    "#show results    \n",
    "plt.show()"
   ]
  },
  {
   "cell_type": "markdown",
   "metadata": {},
   "source": [
    "From the above histograms, I see that the majority of my attributes are of no pattern. The variables carat, price and y are approximately skewed distributions, the variables x is approximately normal distributed.\n",
    "\n",
    "Next I will look at boxplots of the numeric data to see if there are any outliers."
   ]
  },
  {
   "cell_type": "code",
   "execution_count": 7,
   "metadata": {},
   "outputs": [
    {
     "data": {
      "image/png": "[encoded data removed]",
      "text/plain": [
       "<Figure size 1440x1440 with 7 Axes>"
      ]
     },
     "metadata": {
      "needs_background": "light"
     },
     "output_type": "display_data"
    }
   ],
   "source": [
    "#define a figure to which we will add boxplots of each attribute.\n",
    "plt.figure(figsize=(20,20))\n",
    "\n",
    "diamondn = diamond[['carat','depth','table','price','x','y','z']]\n",
    "\n",
    "i=1\n",
    "columns=diamondn.columns.tolist()\n",
    "for k in columns[0:] :   \n",
    "    plt.subplot(4,3,i) \n",
    "    sns.boxplot(x=k,data=diamondn)\n",
    "    i=i+1 \n",
    "\n",
    "#show results\n",
    "plt.show()"
   ]
  },
  {
   "cell_type": "markdown",
   "metadata": {},
   "source": [
    "From the above boxplots I see that most of attributes have numerous outliers. I will discuss further below how I will deal with these outliers.\n",
    "\n",
    "I will also check a correlation matrix between the numeric variables before any transformation to see if my transformations have any effect on the correlation."
   ]
  },
  {
   "cell_type": "code",
   "execution_count": 8,
   "metadata": {},
   "outputs": [
    {
     "data": {
      "text/plain": [
       "<matplotlib.axes._subplots.AxesSubplot at 0x7fe050f448d0>"
      ]
     },
     "execution_count": 8,
     "metadata": {},
     "output_type": "execute_result"
    },
    {
     "data": {
      "image/png": "[encoded data removed]",
      "text/plain": [
       "<Figure size 1080x792 with 2 Axes>"
      ]
     },
     "metadata": {
      "needs_background": "light"
     },
     "output_type": "display_data"
    }
   ],
   "source": [
    "cor_matrix = diamondn.corr()\n",
    "# Generate a mask for the upper triangle\n",
    "mask = np.zeros_like(cor_matrix, dtype = np.bool)\n",
    "mask[np.triu_indices_from(mask)] = True\n",
    "# Set up the matplotlib figure\n",
    "f, ax = plt.subplots(figsize = (15, 11))\n",
    "sns.heatmap(cor_matrix, mask=mask, \n",
    "            square = True, linewidths = 0.5, ax = ax, cmap = \"PiYG\",annot=True)"
   ]
  },
  {
   "cell_type": "markdown",
   "metadata": {},
   "source": [
    "I see from correlation matrix that lots of attributes have a particularly strong correlation. \n",
    "\n",
    "- x and carat have correlation of 0.98\n",
    "- x and z have correlation of 0.97\n",
    "- x and y have correlation of 0.97\n",
    "- y and z have correlation of 0.95\n",
    "- y and carat have correlation of 0.95\n",
    "- z and carat have correlation of 0.95\n",
    "- price and carat have correlation of 0.92\n",
    "- price and x have correlation of 0.88\n",
    "- price and y have correlation od 0.87\n",
    "- price and z have correlation of 0.86. \n",
    "\n",
    "From my domain knowledge, sice z is calculated from x and y, so the correlations among x, y and z are reasonable."
   ]
  },
  {
   "cell_type": "code",
   "execution_count": 9,
   "metadata": {},
   "outputs": [
    {
     "name": "stdout",
     "output_type": "stream",
     "text": [
      "cut:\n",
      "\n",
      "['Ideal', 'Premium', 'Good', 'Very Good', 'Fair']\n",
      "\n",
      "\n",
      "color:\n",
      "\n",
      "['E', 'I', 'J', 'H', 'F', 'G', 'D']\n",
      "\n",
      "\n",
      "clarity:\n",
      "\n",
      "['SI2', 'SI1', 'VS1', 'VS2', 'VVS2', 'VVS1', 'I1', 'IF']\n",
      "\n",
      "\n"
     ]
    }
   ],
   "source": [
    "#Check whether there are mistakes and omissions on categorical variables.\n",
    "diamondc = ['cut', 'color','clarity']\n",
    "\n",
    "for each in diamondc:\n",
    "    print(each + ':\\n')\n",
    "    print(list(diamond[each].drop_duplicates()))\n",
    "    print('\\n')"
   ]
  },
  {
   "cell_type": "markdown",
   "metadata": {},
   "source": [
    "From above I see that, variable cut has five labels, color has seven labels, clarity has eight labels. \n",
    "\n",
    "Those are the same with the domain knowledge given."
   ]
  },
  {
   "cell_type": "code",
   "execution_count": 10,
   "metadata": {},
   "outputs": [
    {
     "data": {
      "text/plain": [
       "Ideal        21551\n",
       "Premium      13791\n",
       "Very Good    12082\n",
       "Good          4906\n",
       "Fair          1610\n",
       "Name: cut, dtype: int64"
      ]
     },
     "execution_count": 10,
     "metadata": {},
     "output_type": "execute_result"
    }
   ],
   "source": [
    "## Summarize the categorical data by using the function value_counts().\n",
    "diamond['cut'].value_counts()"
   ]
  },
  {
   "cell_type": "code",
   "execution_count": 11,
   "metadata": {},
   "outputs": [
    {
     "data": {
      "text/plain": [
       "G    11292\n",
       "E     9797\n",
       "F     9542\n",
       "H     8304\n",
       "D     6775\n",
       "I     5422\n",
       "J     2808\n",
       "Name: color, dtype: int64"
      ]
     },
     "execution_count": 11,
     "metadata": {},
     "output_type": "execute_result"
    }
   ],
   "source": [
    "## Summarize the categorical data by using the function value_counts().\n",
    "diamond['color'].value_counts()"
   ]
  },
  {
   "cell_type": "code",
   "execution_count": 12,
   "metadata": {},
   "outputs": [
    {
     "data": {
      "text/plain": [
       "SI1     13065\n",
       "VS2     12258\n",
       "SI2      9194\n",
       "VS1      8171\n",
       "VVS2     5066\n",
       "VVS1     3655\n",
       "IF       1790\n",
       "I1        741\n",
       "Name: clarity, dtype: int64"
      ]
     },
     "execution_count": 12,
     "metadata": {},
     "output_type": "execute_result"
    }
   ],
   "source": [
    "## Summarize the categorical data by using the function value_counts().\n",
    "diamond['clarity'].value_counts()"
   ]
  },
  {
   "cell_type": "markdown",
   "metadata": {},
   "source": [
    "I could see from above that the Ideal cut occupied large proportion of 'cut', while the Fair cut occupies the least proportion of 'cut', the colorless diamond occupies large proportion of 'color', the near colorless diamond occupies not that much proportion of 'color', SI2 occupies the largest proportion of 'clarity', while I1 occupies the least proportion of 'Clarity'."
   ]
  },
  {
   "cell_type": "code",
   "execution_count": 13,
   "metadata": {},
   "outputs": [
    {
     "data": {
      "text/plain": [
       "<matplotlib.axes._subplots.AxesSubplot at 0x7fe022cbe210>"
      ]
     },
     "execution_count": 13,
     "metadata": {},
     "output_type": "execute_result"
    },
    {
     "data": {
      "image/png": "[encoded data removed]",
      "text/plain": [
       "<Figure size 432x288 with 1 Axes>"
      ]
     },
     "metadata": {
      "needs_background": "light"
     },
     "output_type": "display_data"
    }
   ],
   "source": [
    "## plot boxplots with categorical variable cut\n",
    "sns.boxplot(x='cut',y='price',data = diamond)"
   ]
  },
  {
   "cell_type": "code",
   "execution_count": 14,
   "metadata": {},
   "outputs": [
    {
     "data": {
      "text/plain": [
       "<matplotlib.axes._subplots.AxesSubplot at 0x7fe000b864d0>"
      ]
     },
     "execution_count": 14,
     "metadata": {},
     "output_type": "execute_result"
    },
    {
     "data": {
      "image/png": "[encoded data removed]",
      "text/plain": [
       "<Figure size 432x288 with 1 Axes>"
      ]
     },
     "metadata": {
      "needs_background": "light"
     },
     "output_type": "display_data"
    }
   ],
   "source": [
    "## plot boxplots with categorical variable color\n",
    "sns.boxplot(x='color',y='price',data = diamond)"
   ]
  },
  {
   "cell_type": "code",
   "execution_count": 15,
   "metadata": {},
   "outputs": [
    {
     "data": {
      "text/plain": [
       "<matplotlib.axes._subplots.AxesSubplot at 0x7fe0410d6750>"
      ]
     },
     "execution_count": 15,
     "metadata": {},
     "output_type": "execute_result"
    },
    {
     "data": {
      "image/png": "[encoded data removed]",
      "text/plain": [
       "<Figure size 432x288 with 1 Axes>"
      ]
     },
     "metadata": {
      "needs_background": "light"
     },
     "output_type": "display_data"
    }
   ],
   "source": [
    "## plot boxplots with categorical variable cut\n",
    "sns.boxplot(x='clarity',y='price',data = diamond)"
   ]
  },
  {
   "cell_type": "markdown",
   "metadata": {},
   "source": [
    "From above I could see that the price of diamond with Fair cut has most outliers, the price of diamond with color E has most outliers, the price of diamond with clarity WS1 and IF has most outliers. Also, from the boxplot, I could also see that the diamond with Premium and Fair cut has highest mean of price, the diamond with Ideal cut has the lowest mean of price, the diamond with color J has highest mean of price, the diamond with color E has the lowest mean, the diamond with clarity SI2 has the highest mean of price, the diamond with clarity WS1 has the lowest mean of price."
   ]
  },
  {
   "cell_type": "code",
   "execution_count": 16,
   "metadata": {},
   "outputs": [
    {
     "data": {
      "text/html": [
       "<div>\n",
       "<style scoped>\n",
       "    .dataframe tbody tr th:only-of-type {\n",
       "        vertical-align: middle;\n",
       "    }\n",
       "\n",
       "    .dataframe tbody tr th {\n",
       "        vertical-align: top;\n",
       "    }\n",
       "\n",
       "    .dataframe thead th {\n",
       "        text-align: right;\n",
       "    }\n",
       "</style>\n",
       "<table border=\"1\" class=\"dataframe\">\n",
       "  <thead>\n",
       "    <tr style=\"text-align: right;\">\n",
       "      <th></th>\n",
       "      <th>cut</th>\n",
       "      <th>color</th>\n",
       "      <th>price</th>\n",
       "    </tr>\n",
       "  </thead>\n",
       "  <tbody>\n",
       "    <tr>\n",
       "      <th>0</th>\n",
       "      <td>Fair</td>\n",
       "      <td>D</td>\n",
       "      <td>4291.061350</td>\n",
       "    </tr>\n",
       "    <tr>\n",
       "      <th>1</th>\n",
       "      <td>Fair</td>\n",
       "      <td>E</td>\n",
       "      <td>3682.312500</td>\n",
       "    </tr>\n",
       "    <tr>\n",
       "      <th>2</th>\n",
       "      <td>Fair</td>\n",
       "      <td>F</td>\n",
       "      <td>3827.003205</td>\n",
       "    </tr>\n",
       "    <tr>\n",
       "      <th>3</th>\n",
       "      <td>Fair</td>\n",
       "      <td>G</td>\n",
       "      <td>4239.254777</td>\n",
       "    </tr>\n",
       "    <tr>\n",
       "      <th>4</th>\n",
       "      <td>Fair</td>\n",
       "      <td>H</td>\n",
       "      <td>5135.683168</td>\n",
       "    </tr>\n",
       "    <tr>\n",
       "      <th>5</th>\n",
       "      <td>Fair</td>\n",
       "      <td>I</td>\n",
       "      <td>4685.445714</td>\n",
       "    </tr>\n",
       "    <tr>\n",
       "      <th>6</th>\n",
       "      <td>Fair</td>\n",
       "      <td>J</td>\n",
       "      <td>4975.655462</td>\n",
       "    </tr>\n",
       "    <tr>\n",
       "      <th>7</th>\n",
       "      <td>Good</td>\n",
       "      <td>D</td>\n",
       "      <td>3405.382175</td>\n",
       "    </tr>\n",
       "    <tr>\n",
       "      <th>8</th>\n",
       "      <td>Good</td>\n",
       "      <td>E</td>\n",
       "      <td>3423.644159</td>\n",
       "    </tr>\n",
       "    <tr>\n",
       "      <th>9</th>\n",
       "      <td>Good</td>\n",
       "      <td>F</td>\n",
       "      <td>3495.750275</td>\n",
       "    </tr>\n",
       "    <tr>\n",
       "      <th>10</th>\n",
       "      <td>Good</td>\n",
       "      <td>G</td>\n",
       "      <td>4123.482204</td>\n",
       "    </tr>\n",
       "    <tr>\n",
       "      <th>11</th>\n",
       "      <td>Good</td>\n",
       "      <td>H</td>\n",
       "      <td>4276.254986</td>\n",
       "    </tr>\n",
       "    <tr>\n",
       "      <th>12</th>\n",
       "      <td>Good</td>\n",
       "      <td>I</td>\n",
       "      <td>5078.532567</td>\n",
       "    </tr>\n",
       "    <tr>\n",
       "      <th>13</th>\n",
       "      <td>Good</td>\n",
       "      <td>J</td>\n",
       "      <td>4574.172638</td>\n",
       "    </tr>\n",
       "    <tr>\n",
       "      <th>14</th>\n",
       "      <td>Ideal</td>\n",
       "      <td>D</td>\n",
       "      <td>2629.094566</td>\n",
       "    </tr>\n",
       "    <tr>\n",
       "      <th>15</th>\n",
       "      <td>Ideal</td>\n",
       "      <td>E</td>\n",
       "      <td>2597.550090</td>\n",
       "    </tr>\n",
       "    <tr>\n",
       "      <th>16</th>\n",
       "      <td>Ideal</td>\n",
       "      <td>F</td>\n",
       "      <td>3374.939362</td>\n",
       "    </tr>\n",
       "    <tr>\n",
       "      <th>17</th>\n",
       "      <td>Ideal</td>\n",
       "      <td>G</td>\n",
       "      <td>3720.706388</td>\n",
       "    </tr>\n",
       "    <tr>\n",
       "      <th>18</th>\n",
       "      <td>Ideal</td>\n",
       "      <td>H</td>\n",
       "      <td>3889.334831</td>\n",
       "    </tr>\n",
       "    <tr>\n",
       "      <th>19</th>\n",
       "      <td>Ideal</td>\n",
       "      <td>I</td>\n",
       "      <td>4451.970377</td>\n",
       "    </tr>\n",
       "    <tr>\n",
       "      <th>20</th>\n",
       "      <td>Ideal</td>\n",
       "      <td>J</td>\n",
       "      <td>4918.186384</td>\n",
       "    </tr>\n",
       "    <tr>\n",
       "      <th>21</th>\n",
       "      <td>Premium</td>\n",
       "      <td>D</td>\n",
       "      <td>3631.292576</td>\n",
       "    </tr>\n",
       "    <tr>\n",
       "      <th>22</th>\n",
       "      <td>Premium</td>\n",
       "      <td>E</td>\n",
       "      <td>3538.914420</td>\n",
       "    </tr>\n",
       "    <tr>\n",
       "      <th>23</th>\n",
       "      <td>Premium</td>\n",
       "      <td>F</td>\n",
       "      <td>4324.890176</td>\n",
       "    </tr>\n",
       "    <tr>\n",
       "      <th>24</th>\n",
       "      <td>Premium</td>\n",
       "      <td>G</td>\n",
       "      <td>4500.742134</td>\n",
       "    </tr>\n",
       "    <tr>\n",
       "      <th>25</th>\n",
       "      <td>Premium</td>\n",
       "      <td>H</td>\n",
       "      <td>5216.706780</td>\n",
       "    </tr>\n",
       "    <tr>\n",
       "      <th>26</th>\n",
       "      <td>Premium</td>\n",
       "      <td>I</td>\n",
       "      <td>5946.180672</td>\n",
       "    </tr>\n",
       "    <tr>\n",
       "      <th>27</th>\n",
       "      <td>Premium</td>\n",
       "      <td>J</td>\n",
       "      <td>6294.591584</td>\n",
       "    </tr>\n",
       "    <tr>\n",
       "      <th>28</th>\n",
       "      <td>Very Good</td>\n",
       "      <td>D</td>\n",
       "      <td>3470.467284</td>\n",
       "    </tr>\n",
       "    <tr>\n",
       "      <th>29</th>\n",
       "      <td>Very Good</td>\n",
       "      <td>E</td>\n",
       "      <td>3214.652083</td>\n",
       "    </tr>\n",
       "    <tr>\n",
       "      <th>30</th>\n",
       "      <td>Very Good</td>\n",
       "      <td>F</td>\n",
       "      <td>3778.820240</td>\n",
       "    </tr>\n",
       "    <tr>\n",
       "      <th>31</th>\n",
       "      <td>Very Good</td>\n",
       "      <td>G</td>\n",
       "      <td>3872.753806</td>\n",
       "    </tr>\n",
       "    <tr>\n",
       "      <th>32</th>\n",
       "      <td>Very Good</td>\n",
       "      <td>H</td>\n",
       "      <td>4535.390351</td>\n",
       "    </tr>\n",
       "    <tr>\n",
       "      <th>33</th>\n",
       "      <td>Very Good</td>\n",
       "      <td>I</td>\n",
       "      <td>5255.879568</td>\n",
       "    </tr>\n",
       "    <tr>\n",
       "      <th>34</th>\n",
       "      <td>Very Good</td>\n",
       "      <td>J</td>\n",
       "      <td>5103.513274</td>\n",
       "    </tr>\n",
       "  </tbody>\n",
       "</table>\n",
       "</div>"
      ],
      "text/plain": [
       "          cut color        price\n",
       "0        Fair     D  4291.061350\n",
       "1        Fair     E  3682.312500\n",
       "2        Fair     F  3827.003205\n",
       "3        Fair     G  4239.254777\n",
       "4        Fair     H  5135.683168\n",
       "5        Fair     I  4685.445714\n",
       "6        Fair     J  4975.655462\n",
       "7        Good     D  3405.382175\n",
       "8        Good     E  3423.644159\n",
       "9        Good     F  3495.750275\n",
       "10       Good     G  4123.482204\n",
       "11       Good     H  4276.254986\n",
       "12       Good     I  5078.532567\n",
       "13       Good     J  4574.172638\n",
       "14      Ideal     D  2629.094566\n",
       "15      Ideal     E  2597.550090\n",
       "16      Ideal     F  3374.939362\n",
       "17      Ideal     G  3720.706388\n",
       "18      Ideal     H  3889.334831\n",
       "19      Ideal     I  4451.970377\n",
       "20      Ideal     J  4918.186384\n",
       "21    Premium     D  3631.292576\n",
       "22    Premium     E  3538.914420\n",
       "23    Premium     F  4324.890176\n",
       "24    Premium     G  4500.742134\n",
       "25    Premium     H  5216.706780\n",
       "26    Premium     I  5946.180672\n",
       "27    Premium     J  6294.591584\n",
       "28  Very Good     D  3470.467284\n",
       "29  Very Good     E  3214.652083\n",
       "30  Very Good     F  3778.820240\n",
       "31  Very Good     G  3872.753806\n",
       "32  Very Good     H  4535.390351\n",
       "33  Very Good     I  5255.879568\n",
       "34  Very Good     J  5103.513274"
      ]
     },
     "execution_count": 16,
     "metadata": {},
     "output_type": "execute_result"
    }
   ],
   "source": [
    "## Group the numeric variables by categorical variables \n",
    "data_group = diamond[['cut','color','price']]\n",
    "grouped_avg = data_group.groupby(['cut','color'],as_index=False).mean()\n",
    "grouped_avg"
   ]
  },
  {
   "cell_type": "markdown",
   "metadata": {},
   "source": [
    "I see from above that the diamond with Premium cut and color J has the highest price 6294.591584, the diamond with Ideal Cut and color E has the lowest price 2597.550090."
   ]
  },
  {
   "cell_type": "code",
   "execution_count": 17,
   "metadata": {},
   "outputs": [
    {
     "data": {
      "text/html": [
       "<div>\n",
       "<style scoped>\n",
       "    .dataframe tbody tr th:only-of-type {\n",
       "        vertical-align: middle;\n",
       "    }\n",
       "\n",
       "    .dataframe tbody tr th {\n",
       "        vertical-align: top;\n",
       "    }\n",
       "\n",
       "    .dataframe thead th {\n",
       "        text-align: right;\n",
       "    }\n",
       "</style>\n",
       "<table border=\"1\" class=\"dataframe\">\n",
       "  <thead>\n",
       "    <tr style=\"text-align: right;\">\n",
       "      <th></th>\n",
       "      <th>clarity</th>\n",
       "      <th>color</th>\n",
       "      <th>price</th>\n",
       "    </tr>\n",
       "  </thead>\n",
       "  <tbody>\n",
       "    <tr>\n",
       "      <th>0</th>\n",
       "      <td>I1</td>\n",
       "      <td>D</td>\n",
       "      <td>3863.023810</td>\n",
       "    </tr>\n",
       "    <tr>\n",
       "      <th>1</th>\n",
       "      <td>I1</td>\n",
       "      <td>E</td>\n",
       "      <td>3488.421569</td>\n",
       "    </tr>\n",
       "    <tr>\n",
       "      <th>2</th>\n",
       "      <td>I1</td>\n",
       "      <td>F</td>\n",
       "      <td>3342.181818</td>\n",
       "    </tr>\n",
       "    <tr>\n",
       "      <th>3</th>\n",
       "      <td>I1</td>\n",
       "      <td>G</td>\n",
       "      <td>3545.693333</td>\n",
       "    </tr>\n",
       "    <tr>\n",
       "      <th>4</th>\n",
       "      <td>I1</td>\n",
       "      <td>H</td>\n",
       "      <td>4453.413580</td>\n",
       "    </tr>\n",
       "    <tr>\n",
       "      <th>5</th>\n",
       "      <td>I1</td>\n",
       "      <td>I</td>\n",
       "      <td>4302.184783</td>\n",
       "    </tr>\n",
       "    <tr>\n",
       "      <th>6</th>\n",
       "      <td>I1</td>\n",
       "      <td>J</td>\n",
       "      <td>5254.060000</td>\n",
       "    </tr>\n",
       "    <tr>\n",
       "      <th>7</th>\n",
       "      <td>IF</td>\n",
       "      <td>D</td>\n",
       "      <td>8307.369863</td>\n",
       "    </tr>\n",
       "    <tr>\n",
       "      <th>8</th>\n",
       "      <td>IF</td>\n",
       "      <td>E</td>\n",
       "      <td>3668.506329</td>\n",
       "    </tr>\n",
       "    <tr>\n",
       "      <th>9</th>\n",
       "      <td>IF</td>\n",
       "      <td>F</td>\n",
       "      <td>2750.836364</td>\n",
       "    </tr>\n",
       "    <tr>\n",
       "      <th>10</th>\n",
       "      <td>IF</td>\n",
       "      <td>G</td>\n",
       "      <td>2558.033774</td>\n",
       "    </tr>\n",
       "    <tr>\n",
       "      <th>11</th>\n",
       "      <td>IF</td>\n",
       "      <td>H</td>\n",
       "      <td>2287.869565</td>\n",
       "    </tr>\n",
       "    <tr>\n",
       "      <th>12</th>\n",
       "      <td>IF</td>\n",
       "      <td>I</td>\n",
       "      <td>1994.937063</td>\n",
       "    </tr>\n",
       "    <tr>\n",
       "      <th>13</th>\n",
       "      <td>IF</td>\n",
       "      <td>J</td>\n",
       "      <td>3363.882353</td>\n",
       "    </tr>\n",
       "    <tr>\n",
       "      <th>14</th>\n",
       "      <td>SI1</td>\n",
       "      <td>D</td>\n",
       "      <td>2976.146423</td>\n",
       "    </tr>\n",
       "    <tr>\n",
       "      <th>15</th>\n",
       "      <td>SI1</td>\n",
       "      <td>E</td>\n",
       "      <td>3161.838005</td>\n",
       "    </tr>\n",
       "    <tr>\n",
       "      <th>16</th>\n",
       "      <td>SI1</td>\n",
       "      <td>F</td>\n",
       "      <td>3714.225716</td>\n",
       "    </tr>\n",
       "    <tr>\n",
       "      <th>17</th>\n",
       "      <td>SI1</td>\n",
       "      <td>G</td>\n",
       "      <td>3774.787449</td>\n",
       "    </tr>\n",
       "    <tr>\n",
       "      <th>18</th>\n",
       "      <td>SI1</td>\n",
       "      <td>H</td>\n",
       "      <td>5032.414945</td>\n",
       "    </tr>\n",
       "    <tr>\n",
       "      <th>19</th>\n",
       "      <td>SI1</td>\n",
       "      <td>I</td>\n",
       "      <td>5355.019663</td>\n",
       "    </tr>\n",
       "    <tr>\n",
       "      <th>20</th>\n",
       "      <td>SI1</td>\n",
       "      <td>J</td>\n",
       "      <td>5186.048000</td>\n",
       "    </tr>\n",
       "    <tr>\n",
       "      <th>21</th>\n",
       "      <td>SI2</td>\n",
       "      <td>D</td>\n",
       "      <td>3931.101460</td>\n",
       "    </tr>\n",
       "    <tr>\n",
       "      <th>22</th>\n",
       "      <td>SI2</td>\n",
       "      <td>E</td>\n",
       "      <td>4173.826036</td>\n",
       "    </tr>\n",
       "    <tr>\n",
       "      <th>23</th>\n",
       "      <td>SI2</td>\n",
       "      <td>F</td>\n",
       "      <td>4472.625233</td>\n",
       "    </tr>\n",
       "    <tr>\n",
       "      <th>24</th>\n",
       "      <td>SI2</td>\n",
       "      <td>G</td>\n",
       "      <td>5021.684109</td>\n",
       "    </tr>\n",
       "    <tr>\n",
       "      <th>25</th>\n",
       "      <td>SI2</td>\n",
       "      <td>H</td>\n",
       "      <td>6099.895074</td>\n",
       "    </tr>\n",
       "    <tr>\n",
       "      <th>26</th>\n",
       "      <td>SI2</td>\n",
       "      <td>I</td>\n",
       "      <td>7002.649123</td>\n",
       "    </tr>\n",
       "    <tr>\n",
       "      <th>27</th>\n",
       "      <td>SI2</td>\n",
       "      <td>J</td>\n",
       "      <td>6520.958246</td>\n",
       "    </tr>\n",
       "    <tr>\n",
       "      <th>28</th>\n",
       "      <td>VS1</td>\n",
       "      <td>D</td>\n",
       "      <td>3030.158865</td>\n",
       "    </tr>\n",
       "    <tr>\n",
       "      <th>29</th>\n",
       "      <td>VS1</td>\n",
       "      <td>E</td>\n",
       "      <td>2856.294301</td>\n",
       "    </tr>\n",
       "    <tr>\n",
       "      <th>30</th>\n",
       "      <td>VS1</td>\n",
       "      <td>F</td>\n",
       "      <td>3796.717742</td>\n",
       "    </tr>\n",
       "    <tr>\n",
       "      <th>31</th>\n",
       "      <td>VS1</td>\n",
       "      <td>G</td>\n",
       "      <td>4131.362197</td>\n",
       "    </tr>\n",
       "    <tr>\n",
       "      <th>32</th>\n",
       "      <td>VS1</td>\n",
       "      <td>H</td>\n",
       "      <td>3780.688623</td>\n",
       "    </tr>\n",
       "    <tr>\n",
       "      <th>33</th>\n",
       "      <td>VS1</td>\n",
       "      <td>I</td>\n",
       "      <td>4633.183992</td>\n",
       "    </tr>\n",
       "    <tr>\n",
       "      <th>34</th>\n",
       "      <td>VS1</td>\n",
       "      <td>J</td>\n",
       "      <td>4884.461255</td>\n",
       "    </tr>\n",
       "    <tr>\n",
       "      <th>35</th>\n",
       "      <td>VS2</td>\n",
       "      <td>D</td>\n",
       "      <td>2587.225692</td>\n",
       "    </tr>\n",
       "    <tr>\n",
       "      <th>36</th>\n",
       "      <td>VS2</td>\n",
       "      <td>E</td>\n",
       "      <td>2750.941700</td>\n",
       "    </tr>\n",
       "    <tr>\n",
       "      <th>37</th>\n",
       "      <td>VS2</td>\n",
       "      <td>F</td>\n",
       "      <td>3756.795093</td>\n",
       "    </tr>\n",
       "    <tr>\n",
       "      <th>38</th>\n",
       "      <td>VS2</td>\n",
       "      <td>G</td>\n",
       "      <td>4416.256498</td>\n",
       "    </tr>\n",
       "    <tr>\n",
       "      <th>39</th>\n",
       "      <td>VS2</td>\n",
       "      <td>H</td>\n",
       "      <td>4722.414486</td>\n",
       "    </tr>\n",
       "    <tr>\n",
       "      <th>40</th>\n",
       "      <td>VS2</td>\n",
       "      <td>I</td>\n",
       "      <td>5690.505560</td>\n",
       "    </tr>\n",
       "    <tr>\n",
       "      <th>41</th>\n",
       "      <td>VS2</td>\n",
       "      <td>J</td>\n",
       "      <td>5311.058824</td>\n",
       "    </tr>\n",
       "    <tr>\n",
       "      <th>42</th>\n",
       "      <td>VVS1</td>\n",
       "      <td>D</td>\n",
       "      <td>2947.912698</td>\n",
       "    </tr>\n",
       "    <tr>\n",
       "      <th>43</th>\n",
       "      <td>VVS1</td>\n",
       "      <td>E</td>\n",
       "      <td>2219.820122</td>\n",
       "    </tr>\n",
       "    <tr>\n",
       "      <th>44</th>\n",
       "      <td>VVS1</td>\n",
       "      <td>F</td>\n",
       "      <td>2804.276567</td>\n",
       "    </tr>\n",
       "    <tr>\n",
       "      <th>45</th>\n",
       "      <td>VVS1</td>\n",
       "      <td>G</td>\n",
       "      <td>2866.820821</td>\n",
       "    </tr>\n",
       "    <tr>\n",
       "      <th>46</th>\n",
       "      <td>VVS1</td>\n",
       "      <td>H</td>\n",
       "      <td>1845.658120</td>\n",
       "    </tr>\n",
       "    <tr>\n",
       "      <th>47</th>\n",
       "      <td>VVS1</td>\n",
       "      <td>I</td>\n",
       "      <td>2034.861972</td>\n",
       "    </tr>\n",
       "    <tr>\n",
       "      <th>48</th>\n",
       "      <td>VVS1</td>\n",
       "      <td>J</td>\n",
       "      <td>4034.175676</td>\n",
       "    </tr>\n",
       "    <tr>\n",
       "      <th>49</th>\n",
       "      <td>VVS2</td>\n",
       "      <td>D</td>\n",
       "      <td>3351.128391</td>\n",
       "    </tr>\n",
       "    <tr>\n",
       "      <th>50</th>\n",
       "      <td>VVS2</td>\n",
       "      <td>E</td>\n",
       "      <td>2499.674067</td>\n",
       "    </tr>\n",
       "    <tr>\n",
       "      <th>51</th>\n",
       "      <td>VVS2</td>\n",
       "      <td>F</td>\n",
       "      <td>3475.512821</td>\n",
       "    </tr>\n",
       "    <tr>\n",
       "      <th>52</th>\n",
       "      <td>VVS2</td>\n",
       "      <td>G</td>\n",
       "      <td>3845.283437</td>\n",
       "    </tr>\n",
       "    <tr>\n",
       "      <th>53</th>\n",
       "      <td>VVS2</td>\n",
       "      <td>H</td>\n",
       "      <td>2649.067434</td>\n",
       "    </tr>\n",
       "    <tr>\n",
       "      <th>54</th>\n",
       "      <td>VVS2</td>\n",
       "      <td>I</td>\n",
       "      <td>2968.232877</td>\n",
       "    </tr>\n",
       "    <tr>\n",
       "      <th>55</th>\n",
       "      <td>VVS2</td>\n",
       "      <td>J</td>\n",
       "      <td>5142.396947</td>\n",
       "    </tr>\n",
       "  </tbody>\n",
       "</table>\n",
       "</div>"
      ],
      "text/plain": [
       "   clarity color        price\n",
       "0       I1     D  3863.023810\n",
       "1       I1     E  3488.421569\n",
       "2       I1     F  3342.181818\n",
       "3       I1     G  3545.693333\n",
       "4       I1     H  4453.413580\n",
       "5       I1     I  4302.184783\n",
       "6       I1     J  5254.060000\n",
       "7       IF     D  8307.369863\n",
       "8       IF     E  3668.506329\n",
       "9       IF     F  2750.836364\n",
       "10      IF     G  2558.033774\n",
       "11      IF     H  2287.869565\n",
       "12      IF     I  1994.937063\n",
       "13      IF     J  3363.882353\n",
       "14     SI1     D  2976.146423\n",
       "15     SI1     E  3161.838005\n",
       "16     SI1     F  3714.225716\n",
       "17     SI1     G  3774.787449\n",
       "18     SI1     H  5032.414945\n",
       "19     SI1     I  5355.019663\n",
       "20     SI1     J  5186.048000\n",
       "21     SI2     D  3931.101460\n",
       "22     SI2     E  4173.826036\n",
       "23     SI2     F  4472.625233\n",
       "24     SI2     G  5021.684109\n",
       "25     SI2     H  6099.895074\n",
       "26     SI2     I  7002.649123\n",
       "27     SI2     J  6520.958246\n",
       "28     VS1     D  3030.158865\n",
       "29     VS1     E  2856.294301\n",
       "30     VS1     F  3796.717742\n",
       "31     VS1     G  4131.362197\n",
       "32     VS1     H  3780.688623\n",
       "33     VS1     I  4633.183992\n",
       "34     VS1     J  4884.461255\n",
       "35     VS2     D  2587.225692\n",
       "36     VS2     E  2750.941700\n",
       "37     VS2     F  3756.795093\n",
       "38     VS2     G  4416.256498\n",
       "39     VS2     H  4722.414486\n",
       "40     VS2     I  5690.505560\n",
       "41     VS2     J  5311.058824\n",
       "42    VVS1     D  2947.912698\n",
       "43    VVS1     E  2219.820122\n",
       "44    VVS1     F  2804.276567\n",
       "45    VVS1     G  2866.820821\n",
       "46    VVS1     H  1845.658120\n",
       "47    VVS1     I  2034.861972\n",
       "48    VVS1     J  4034.175676\n",
       "49    VVS2     D  3351.128391\n",
       "50    VVS2     E  2499.674067\n",
       "51    VVS2     F  3475.512821\n",
       "52    VVS2     G  3845.283437\n",
       "53    VVS2     H  2649.067434\n",
       "54    VVS2     I  2968.232877\n",
       "55    VVS2     J  5142.396947"
      ]
     },
     "execution_count": 17,
     "metadata": {},
     "output_type": "execute_result"
    }
   ],
   "source": [
    "## Group the numeric variables by categorical variables \n",
    "data_group = diamond[['clarity','color','price']]\n",
    "grouped_avg = data_group.groupby(['clarity','color'],as_index=False).mean()\n",
    "grouped_avg"
   ]
  },
  {
   "cell_type": "markdown",
   "metadata": {},
   "source": [
    "I see from above that the diamond with Clarity SI2 and color I has the highest price 7002.649123, the diamond with Clarity VVS1 and color H has the lowest price 1845.658120."
   ]
  },
  {
   "cell_type": "code",
   "execution_count": 18,
   "metadata": {},
   "outputs": [
    {
     "data": {
      "text/html": [
       "<div>\n",
       "<style scoped>\n",
       "    .dataframe tbody tr th:only-of-type {\n",
       "        vertical-align: middle;\n",
       "    }\n",
       "\n",
       "    .dataframe tbody tr th {\n",
       "        vertical-align: top;\n",
       "    }\n",
       "\n",
       "    .dataframe thead th {\n",
       "        text-align: right;\n",
       "    }\n",
       "</style>\n",
       "<table border=\"1\" class=\"dataframe\">\n",
       "  <thead>\n",
       "    <tr style=\"text-align: right;\">\n",
       "      <th></th>\n",
       "      <th>cut</th>\n",
       "      <th>clarity</th>\n",
       "      <th>price</th>\n",
       "    </tr>\n",
       "  </thead>\n",
       "  <tbody>\n",
       "    <tr>\n",
       "      <th>0</th>\n",
       "      <td>Fair</td>\n",
       "      <td>I1</td>\n",
       "      <td>3703.533333</td>\n",
       "    </tr>\n",
       "    <tr>\n",
       "      <th>1</th>\n",
       "      <td>Fair</td>\n",
       "      <td>IF</td>\n",
       "      <td>1912.333333</td>\n",
       "    </tr>\n",
       "    <tr>\n",
       "      <th>2</th>\n",
       "      <td>Fair</td>\n",
       "      <td>SI1</td>\n",
       "      <td>4208.279412</td>\n",
       "    </tr>\n",
       "    <tr>\n",
       "      <th>3</th>\n",
       "      <td>Fair</td>\n",
       "      <td>SI2</td>\n",
       "      <td>5173.916309</td>\n",
       "    </tr>\n",
       "    <tr>\n",
       "      <th>4</th>\n",
       "      <td>Fair</td>\n",
       "      <td>VS1</td>\n",
       "      <td>4165.141176</td>\n",
       "    </tr>\n",
       "    <tr>\n",
       "      <th>5</th>\n",
       "      <td>Fair</td>\n",
       "      <td>VS2</td>\n",
       "      <td>4174.724138</td>\n",
       "    </tr>\n",
       "    <tr>\n",
       "      <th>6</th>\n",
       "      <td>Fair</td>\n",
       "      <td>VVS1</td>\n",
       "      <td>3871.352941</td>\n",
       "    </tr>\n",
       "    <tr>\n",
       "      <th>7</th>\n",
       "      <td>Fair</td>\n",
       "      <td>VVS2</td>\n",
       "      <td>3349.768116</td>\n",
       "    </tr>\n",
       "    <tr>\n",
       "      <th>8</th>\n",
       "      <td>Good</td>\n",
       "      <td>I1</td>\n",
       "      <td>3596.635417</td>\n",
       "    </tr>\n",
       "    <tr>\n",
       "      <th>9</th>\n",
       "      <td>Good</td>\n",
       "      <td>IF</td>\n",
       "      <td>4098.323944</td>\n",
       "    </tr>\n",
       "    <tr>\n",
       "      <th>10</th>\n",
       "      <td>Good</td>\n",
       "      <td>SI1</td>\n",
       "      <td>3689.533333</td>\n",
       "    </tr>\n",
       "    <tr>\n",
       "      <th>11</th>\n",
       "      <td>Good</td>\n",
       "      <td>SI2</td>\n",
       "      <td>4580.260870</td>\n",
       "    </tr>\n",
       "    <tr>\n",
       "      <th>12</th>\n",
       "      <td>Good</td>\n",
       "      <td>VS1</td>\n",
       "      <td>3801.445988</td>\n",
       "    </tr>\n",
       "    <tr>\n",
       "      <th>13</th>\n",
       "      <td>Good</td>\n",
       "      <td>VS2</td>\n",
       "      <td>4262.236196</td>\n",
       "    </tr>\n",
       "    <tr>\n",
       "      <th>14</th>\n",
       "      <td>Good</td>\n",
       "      <td>VVS1</td>\n",
       "      <td>2254.774194</td>\n",
       "    </tr>\n",
       "    <tr>\n",
       "      <th>15</th>\n",
       "      <td>Good</td>\n",
       "      <td>VVS2</td>\n",
       "      <td>3079.108392</td>\n",
       "    </tr>\n",
       "    <tr>\n",
       "      <th>16</th>\n",
       "      <td>Ideal</td>\n",
       "      <td>I1</td>\n",
       "      <td>4335.726027</td>\n",
       "    </tr>\n",
       "    <tr>\n",
       "      <th>17</th>\n",
       "      <td>Ideal</td>\n",
       "      <td>IF</td>\n",
       "      <td>2272.913366</td>\n",
       "    </tr>\n",
       "    <tr>\n",
       "      <th>18</th>\n",
       "      <td>Ideal</td>\n",
       "      <td>SI1</td>\n",
       "      <td>3752.118169</td>\n",
       "    </tr>\n",
       "    <tr>\n",
       "      <th>19</th>\n",
       "      <td>Ideal</td>\n",
       "      <td>SI2</td>\n",
       "      <td>4755.952656</td>\n",
       "    </tr>\n",
       "    <tr>\n",
       "      <th>20</th>\n",
       "      <td>Ideal</td>\n",
       "      <td>VS1</td>\n",
       "      <td>3489.744497</td>\n",
       "    </tr>\n",
       "    <tr>\n",
       "      <th>21</th>\n",
       "      <td>Ideal</td>\n",
       "      <td>VS2</td>\n",
       "      <td>3284.550385</td>\n",
       "    </tr>\n",
       "    <tr>\n",
       "      <th>22</th>\n",
       "      <td>Ideal</td>\n",
       "      <td>VVS1</td>\n",
       "      <td>2468.129458</td>\n",
       "    </tr>\n",
       "    <tr>\n",
       "      <th>23</th>\n",
       "      <td>Ideal</td>\n",
       "      <td>VVS2</td>\n",
       "      <td>3250.290100</td>\n",
       "    </tr>\n",
       "    <tr>\n",
       "      <th>24</th>\n",
       "      <td>Premium</td>\n",
       "      <td>I1</td>\n",
       "      <td>3947.331707</td>\n",
       "    </tr>\n",
       "    <tr>\n",
       "      <th>25</th>\n",
       "      <td>Premium</td>\n",
       "      <td>IF</td>\n",
       "      <td>3856.143478</td>\n",
       "    </tr>\n",
       "    <tr>\n",
       "      <th>26</th>\n",
       "      <td>Premium</td>\n",
       "      <td>SI1</td>\n",
       "      <td>4455.269371</td>\n",
       "    </tr>\n",
       "    <tr>\n",
       "      <th>27</th>\n",
       "      <td>Premium</td>\n",
       "      <td>SI2</td>\n",
       "      <td>5545.936928</td>\n",
       "    </tr>\n",
       "    <tr>\n",
       "      <th>28</th>\n",
       "      <td>Premium</td>\n",
       "      <td>VS1</td>\n",
       "      <td>4485.462041</td>\n",
       "    </tr>\n",
       "    <tr>\n",
       "      <th>29</th>\n",
       "      <td>Premium</td>\n",
       "      <td>VS2</td>\n",
       "      <td>4550.331248</td>\n",
       "    </tr>\n",
       "    <tr>\n",
       "      <th>30</th>\n",
       "      <td>Premium</td>\n",
       "      <td>VVS1</td>\n",
       "      <td>2831.206169</td>\n",
       "    </tr>\n",
       "    <tr>\n",
       "      <th>31</th>\n",
       "      <td>Premium</td>\n",
       "      <td>VVS2</td>\n",
       "      <td>3795.122989</td>\n",
       "    </tr>\n",
       "    <tr>\n",
       "      <th>32</th>\n",
       "      <td>Very Good</td>\n",
       "      <td>I1</td>\n",
       "      <td>4078.226190</td>\n",
       "    </tr>\n",
       "    <tr>\n",
       "      <th>33</th>\n",
       "      <td>Very Good</td>\n",
       "      <td>IF</td>\n",
       "      <td>4396.216418</td>\n",
       "    </tr>\n",
       "    <tr>\n",
       "      <th>34</th>\n",
       "      <td>Very Good</td>\n",
       "      <td>SI1</td>\n",
       "      <td>3932.391049</td>\n",
       "    </tr>\n",
       "    <tr>\n",
       "      <th>35</th>\n",
       "      <td>Very Good</td>\n",
       "      <td>SI2</td>\n",
       "      <td>4988.688095</td>\n",
       "    </tr>\n",
       "    <tr>\n",
       "      <th>36</th>\n",
       "      <td>Very Good</td>\n",
       "      <td>VS1</td>\n",
       "      <td>3805.353239</td>\n",
       "    </tr>\n",
       "    <tr>\n",
       "      <th>37</th>\n",
       "      <td>Very Good</td>\n",
       "      <td>VS2</td>\n",
       "      <td>4215.759552</td>\n",
       "    </tr>\n",
       "    <tr>\n",
       "      <th>38</th>\n",
       "      <td>Very Good</td>\n",
       "      <td>VVS1</td>\n",
       "      <td>2459.441065</td>\n",
       "    </tr>\n",
       "    <tr>\n",
       "      <th>39</th>\n",
       "      <td>Very Good</td>\n",
       "      <td>VVS2</td>\n",
       "      <td>3037.765182</td>\n",
       "    </tr>\n",
       "  </tbody>\n",
       "</table>\n",
       "</div>"
      ],
      "text/plain": [
       "          cut clarity        price\n",
       "0        Fair      I1  3703.533333\n",
       "1        Fair      IF  1912.333333\n",
       "2        Fair     SI1  4208.279412\n",
       "3        Fair     SI2  5173.916309\n",
       "4        Fair     VS1  4165.141176\n",
       "5        Fair     VS2  4174.724138\n",
       "6        Fair    VVS1  3871.352941\n",
       "7        Fair    VVS2  3349.768116\n",
       "8        Good      I1  3596.635417\n",
       "9        Good      IF  4098.323944\n",
       "10       Good     SI1  3689.533333\n",
       "11       Good     SI2  4580.260870\n",
       "12       Good     VS1  3801.445988\n",
       "13       Good     VS2  4262.236196\n",
       "14       Good    VVS1  2254.774194\n",
       "15       Good    VVS2  3079.108392\n",
       "16      Ideal      I1  4335.726027\n",
       "17      Ideal      IF  2272.913366\n",
       "18      Ideal     SI1  3752.118169\n",
       "19      Ideal     SI2  4755.952656\n",
       "20      Ideal     VS1  3489.744497\n",
       "21      Ideal     VS2  3284.550385\n",
       "22      Ideal    VVS1  2468.129458\n",
       "23      Ideal    VVS2  3250.290100\n",
       "24    Premium      I1  3947.331707\n",
       "25    Premium      IF  3856.143478\n",
       "26    Premium     SI1  4455.269371\n",
       "27    Premium     SI2  5545.936928\n",
       "28    Premium     VS1  4485.462041\n",
       "29    Premium     VS2  4550.331248\n",
       "30    Premium    VVS1  2831.206169\n",
       "31    Premium    VVS2  3795.122989\n",
       "32  Very Good      I1  4078.226190\n",
       "33  Very Good      IF  4396.216418\n",
       "34  Very Good     SI1  3932.391049\n",
       "35  Very Good     SI2  4988.688095\n",
       "36  Very Good     VS1  3805.353239\n",
       "37  Very Good     VS2  4215.759552\n",
       "38  Very Good    VVS1  2459.441065\n",
       "39  Very Good    VVS2  3037.765182"
      ]
     },
     "execution_count": 18,
     "metadata": {},
     "output_type": "execute_result"
    }
   ],
   "source": [
    "## Group the numeric variables by categorical variables \n",
    "data_group = diamond[['clarity','cut','price']]\n",
    "grouped_avg = data_group.groupby(['cut','clarity'],as_index=False).mean()\n",
    "grouped_avg"
   ]
  },
  {
   "cell_type": "markdown",
   "metadata": {},
   "source": [
    "I see from above that the diamond with Clarity SI2 and Premium cut has the highest price 5545.936928, the diamond with Clarity IF and Fair cut has the lowest price 1912.333333."
   ]
  },
  {
   "cell_type": "code",
   "execution_count": 19,
   "metadata": {},
   "outputs": [
    {
     "data": {
      "text/plain": [
       "<matplotlib.axes._subplots.AxesSubplot at 0x7fe05104f4d0>"
      ]
     },
     "execution_count": 19,
     "metadata": {},
     "output_type": "execute_result"
    },
    {
     "data": {
      "image/png": "[encoded data removed]",
      "text/plain": [
       "<Figure size 432x288 with 1 Axes>"
      ]
     },
     "metadata": {
      "needs_background": "light"
     },
     "output_type": "display_data"
    }
   ],
   "source": [
    "## plot boxplots with categorical variable cut\n",
    "sns.boxplot(x='cut',y='table',data = diamond)"
   ]
  },
  {
   "cell_type": "code",
   "execution_count": 20,
   "metadata": {},
   "outputs": [
    {
     "data": {
      "text/plain": [
       "<matplotlib.axes._subplots.AxesSubplot at 0x7fe041056510>"
      ]
     },
     "execution_count": 20,
     "metadata": {},
     "output_type": "execute_result"
    },
    {
     "data": {
      "image/png": "[encoded data removed]",
      "text/plain": [
       "<Figure size 432x288 with 1 Axes>"
      ]
     },
     "metadata": {
      "needs_background": "light"
     },
     "output_type": "display_data"
    }
   ],
   "source": [
    "## plot boxplots with categorical variable color\n",
    "sns.boxplot(x='color',y='table',data = diamond)"
   ]
  },
  {
   "cell_type": "code",
   "execution_count": 21,
   "metadata": {},
   "outputs": [
    {
     "data": {
      "text/plain": [
       "<matplotlib.axes._subplots.AxesSubplot at 0x7fe008aa5950>"
      ]
     },
     "execution_count": 21,
     "metadata": {},
     "output_type": "execute_result"
    },
    {
     "data": {
      "image/png": "[encoded data removed]",
      "text/plain": [
       "<Figure size 432x288 with 1 Axes>"
      ]
     },
     "metadata": {
      "needs_background": "light"
     },
     "output_type": "display_data"
    }
   ],
   "source": [
    "## plot boxplots with categorical variable clarity\n",
    "sns.boxplot(x='clarity',y='table',data = diamond)"
   ]
  },
  {
   "cell_type": "markdown",
   "metadata": {},
   "source": [
    "From above I could see that the table seems has no relation with color because different colors have almost the same table mean. The diamond with Premium cut has the highest mean of table, the diamond with Ideal cut has the lowest mean of table. And the diamond with I1 clarity has the highest mean of table."
   ]
  },
  {
   "cell_type": "code",
   "execution_count": 22,
   "metadata": {},
   "outputs": [
    {
     "data": {
      "text/html": [
       "<div>\n",
       "<style scoped>\n",
       "    .dataframe tbody tr th:only-of-type {\n",
       "        vertical-align: middle;\n",
       "    }\n",
       "\n",
       "    .dataframe tbody tr th {\n",
       "        vertical-align: top;\n",
       "    }\n",
       "\n",
       "    .dataframe thead th {\n",
       "        text-align: right;\n",
       "    }\n",
       "</style>\n",
       "<table border=\"1\" class=\"dataframe\">\n",
       "  <thead>\n",
       "    <tr style=\"text-align: right;\">\n",
       "      <th></th>\n",
       "      <th>cut</th>\n",
       "      <th>clarity</th>\n",
       "      <th>table</th>\n",
       "    </tr>\n",
       "  </thead>\n",
       "  <tbody>\n",
       "    <tr>\n",
       "      <th>0</th>\n",
       "      <td>Fair</td>\n",
       "      <td>I1</td>\n",
       "      <td>58.114286</td>\n",
       "    </tr>\n",
       "    <tr>\n",
       "      <th>1</th>\n",
       "      <td>Fair</td>\n",
       "      <td>IF</td>\n",
       "      <td>59.111111</td>\n",
       "    </tr>\n",
       "    <tr>\n",
       "      <th>2</th>\n",
       "      <td>Fair</td>\n",
       "      <td>SI1</td>\n",
       "      <td>59.126961</td>\n",
       "    </tr>\n",
       "    <tr>\n",
       "      <th>3</th>\n",
       "      <td>Fair</td>\n",
       "      <td>SI2</td>\n",
       "      <td>58.828326</td>\n",
       "    </tr>\n",
       "    <tr>\n",
       "      <th>4</th>\n",
       "      <td>Fair</td>\n",
       "      <td>VS1</td>\n",
       "      <td>60.365294</td>\n",
       "    </tr>\n",
       "    <tr>\n",
       "      <th>5</th>\n",
       "      <td>Fair</td>\n",
       "      <td>VS2</td>\n",
       "      <td>59.050958</td>\n",
       "    </tr>\n",
       "    <tr>\n",
       "      <th>6</th>\n",
       "      <td>Fair</td>\n",
       "      <td>VVS1</td>\n",
       "      <td>61.235294</td>\n",
       "    </tr>\n",
       "    <tr>\n",
       "      <th>7</th>\n",
       "      <td>Fair</td>\n",
       "      <td>VVS2</td>\n",
       "      <td>59.237681</td>\n",
       "    </tr>\n",
       "    <tr>\n",
       "      <th>8</th>\n",
       "      <td>Good</td>\n",
       "      <td>I1</td>\n",
       "      <td>59.497917</td>\n",
       "    </tr>\n",
       "    <tr>\n",
       "      <th>9</th>\n",
       "      <td>Good</td>\n",
       "      <td>IF</td>\n",
       "      <td>59.056338</td>\n",
       "    </tr>\n",
       "    <tr>\n",
       "      <th>10</th>\n",
       "      <td>Good</td>\n",
       "      <td>SI1</td>\n",
       "      <td>58.430962</td>\n",
       "    </tr>\n",
       "    <tr>\n",
       "      <th>11</th>\n",
       "      <td>Good</td>\n",
       "      <td>SI2</td>\n",
       "      <td>58.924977</td>\n",
       "    </tr>\n",
       "    <tr>\n",
       "      <th>12</th>\n",
       "      <td>Good</td>\n",
       "      <td>VS1</td>\n",
       "      <td>58.775772</td>\n",
       "    </tr>\n",
       "    <tr>\n",
       "      <th>13</th>\n",
       "      <td>Good</td>\n",
       "      <td>VS2</td>\n",
       "      <td>58.664826</td>\n",
       "    </tr>\n",
       "    <tr>\n",
       "      <th>14</th>\n",
       "      <td>Good</td>\n",
       "      <td>VVS1</td>\n",
       "      <td>58.922581</td>\n",
       "    </tr>\n",
       "    <tr>\n",
       "      <th>15</th>\n",
       "      <td>Good</td>\n",
       "      <td>VVS2</td>\n",
       "      <td>58.672727</td>\n",
       "    </tr>\n",
       "    <tr>\n",
       "      <th>16</th>\n",
       "      <td>Ideal</td>\n",
       "      <td>I1</td>\n",
       "      <td>56.102740</td>\n",
       "    </tr>\n",
       "    <tr>\n",
       "      <th>17</th>\n",
       "      <td>Ideal</td>\n",
       "      <td>IF</td>\n",
       "      <td>55.707013</td>\n",
       "    </tr>\n",
       "    <tr>\n",
       "      <th>18</th>\n",
       "      <td>Ideal</td>\n",
       "      <td>SI1</td>\n",
       "      <td>56.061023</td>\n",
       "    </tr>\n",
       "    <tr>\n",
       "      <th>19</th>\n",
       "      <td>Ideal</td>\n",
       "      <td>SI2</td>\n",
       "      <td>56.120516</td>\n",
       "    </tr>\n",
       "    <tr>\n",
       "      <th>20</th>\n",
       "      <td>Ideal</td>\n",
       "      <td>VS1</td>\n",
       "      <td>55.894037</td>\n",
       "    </tr>\n",
       "    <tr>\n",
       "      <th>21</th>\n",
       "      <td>Ideal</td>\n",
       "      <td>VS2</td>\n",
       "      <td>55.931256</td>\n",
       "    </tr>\n",
       "    <tr>\n",
       "      <th>22</th>\n",
       "      <td>Ideal</td>\n",
       "      <td>VVS1</td>\n",
       "      <td>55.839912</td>\n",
       "    </tr>\n",
       "    <tr>\n",
       "      <th>23</th>\n",
       "      <td>Ideal</td>\n",
       "      <td>VVS2</td>\n",
       "      <td>55.915848</td>\n",
       "    </tr>\n",
       "    <tr>\n",
       "      <th>24</th>\n",
       "      <td>Premium</td>\n",
       "      <td>I1</td>\n",
       "      <td>59.068293</td>\n",
       "    </tr>\n",
       "    <tr>\n",
       "      <th>25</th>\n",
       "      <td>Premium</td>\n",
       "      <td>IF</td>\n",
       "      <td>58.730435</td>\n",
       "    </tr>\n",
       "    <tr>\n",
       "      <th>26</th>\n",
       "      <td>Premium</td>\n",
       "      <td>SI1</td>\n",
       "      <td>58.758993</td>\n",
       "    </tr>\n",
       "    <tr>\n",
       "      <th>27</th>\n",
       "      <td>Premium</td>\n",
       "      <td>SI2</td>\n",
       "      <td>58.779654</td>\n",
       "    </tr>\n",
       "    <tr>\n",
       "      <th>28</th>\n",
       "      <td>Premium</td>\n",
       "      <td>VS1</td>\n",
       "      <td>58.690397</td>\n",
       "    </tr>\n",
       "    <tr>\n",
       "      <th>29</th>\n",
       "      <td>Premium</td>\n",
       "      <td>VS2</td>\n",
       "      <td>58.754155</td>\n",
       "    </tr>\n",
       "    <tr>\n",
       "      <th>30</th>\n",
       "      <td>Premium</td>\n",
       "      <td>VVS1</td>\n",
       "      <td>58.674513</td>\n",
       "    </tr>\n",
       "    <tr>\n",
       "      <th>31</th>\n",
       "      <td>Premium</td>\n",
       "      <td>VVS2</td>\n",
       "      <td>58.654483</td>\n",
       "    </tr>\n",
       "    <tr>\n",
       "      <th>32</th>\n",
       "      <td>Very Good</td>\n",
       "      <td>I1</td>\n",
       "      <td>59.372619</td>\n",
       "    </tr>\n",
       "    <tr>\n",
       "      <th>33</th>\n",
       "      <td>Very Good</td>\n",
       "      <td>IF</td>\n",
       "      <td>57.455224</td>\n",
       "    </tr>\n",
       "    <tr>\n",
       "      <th>34</th>\n",
       "      <td>Very Good</td>\n",
       "      <td>SI1</td>\n",
       "      <td>58.014907</td>\n",
       "    </tr>\n",
       "    <tr>\n",
       "      <th>35</th>\n",
       "      <td>Very Good</td>\n",
       "      <td>SI2</td>\n",
       "      <td>58.251571</td>\n",
       "    </tr>\n",
       "    <tr>\n",
       "      <th>36</th>\n",
       "      <td>Very Good</td>\n",
       "      <td>VS1</td>\n",
       "      <td>57.822197</td>\n",
       "    </tr>\n",
       "    <tr>\n",
       "      <th>37</th>\n",
       "      <td>Very Good</td>\n",
       "      <td>VS2</td>\n",
       "      <td>57.958665</td>\n",
       "    </tr>\n",
       "    <tr>\n",
       "      <th>38</th>\n",
       "      <td>Very Good</td>\n",
       "      <td>VVS1</td>\n",
       "      <td>57.622687</td>\n",
       "    </tr>\n",
       "    <tr>\n",
       "      <th>39</th>\n",
       "      <td>Very Good</td>\n",
       "      <td>VVS2</td>\n",
       "      <td>57.712308</td>\n",
       "    </tr>\n",
       "  </tbody>\n",
       "</table>\n",
       "</div>"
      ],
      "text/plain": [
       "          cut clarity      table\n",
       "0        Fair      I1  58.114286\n",
       "1        Fair      IF  59.111111\n",
       "2        Fair     SI1  59.126961\n",
       "3        Fair     SI2  58.828326\n",
       "4        Fair     VS1  60.365294\n",
       "5        Fair     VS2  59.050958\n",
       "6        Fair    VVS1  61.235294\n",
       "7        Fair    VVS2  59.237681\n",
       "8        Good      I1  59.497917\n",
       "9        Good      IF  59.056338\n",
       "10       Good     SI1  58.430962\n",
       "11       Good     SI2  58.924977\n",
       "12       Good     VS1  58.775772\n",
       "13       Good     VS2  58.664826\n",
       "14       Good    VVS1  58.922581\n",
       "15       Good    VVS2  58.672727\n",
       "16      Ideal      I1  56.102740\n",
       "17      Ideal      IF  55.707013\n",
       "18      Ideal     SI1  56.061023\n",
       "19      Ideal     SI2  56.120516\n",
       "20      Ideal     VS1  55.894037\n",
       "21      Ideal     VS2  55.931256\n",
       "22      Ideal    VVS1  55.839912\n",
       "23      Ideal    VVS2  55.915848\n",
       "24    Premium      I1  59.068293\n",
       "25    Premium      IF  58.730435\n",
       "26    Premium     SI1  58.758993\n",
       "27    Premium     SI2  58.779654\n",
       "28    Premium     VS1  58.690397\n",
       "29    Premium     VS2  58.754155\n",
       "30    Premium    VVS1  58.674513\n",
       "31    Premium    VVS2  58.654483\n",
       "32  Very Good      I1  59.372619\n",
       "33  Very Good      IF  57.455224\n",
       "34  Very Good     SI1  58.014907\n",
       "35  Very Good     SI2  58.251571\n",
       "36  Very Good     VS1  57.822197\n",
       "37  Very Good     VS2  57.958665\n",
       "38  Very Good    VVS1  57.622687\n",
       "39  Very Good    VVS2  57.712308"
      ]
     },
     "execution_count": 22,
     "metadata": {},
     "output_type": "execute_result"
    }
   ],
   "source": [
    "## Group the numeric variables by categorical variables \n",
    "data_group = diamond[['cut','clarity','table']]\n",
    "grouped_avg = data_group.groupby(['cut','clarity'],as_index=False).mean()\n",
    "grouped_avg"
   ]
  },
  {
   "cell_type": "markdown",
   "metadata": {},
   "source": [
    "I see from above that the diamond with Cut Fair and clarity VVS1 has the highest table 61.235294, the diamond with Cut Ideal and clarity IF has the lowest price 55.707013."
   ]
  },
  {
   "cell_type": "code",
   "execution_count": 23,
   "metadata": {},
   "outputs": [
    {
     "data": {
      "image/png": "[encoded data removed]",
      "text/plain": [
       "<Figure size 432x288 with 1 Axes>"
      ]
     },
     "metadata": {
      "needs_background": "light"
     },
     "output_type": "display_data"
    }
   ],
   "source": [
    "## Scatter plots between carat and depth\n",
    "x = diamond['carat']\n",
    "y = diamond['depth']\n",
    "plt.scatter(x,y)\n",
    "plt.title('Scatter between carat and depth')\n",
    "plt.xlabel('carat')\n",
    "plt.ylabel('depth')\n",
    "plt.show()"
   ]
  },
  {
   "cell_type": "code",
   "execution_count": 24,
   "metadata": {},
   "outputs": [
    {
     "data": {
      "image/png": "[encoded data removed]",
      "text/plain": [
       "<Figure size 432x288 with 1 Axes>"
      ]
     },
     "metadata": {
      "needs_background": "light"
     },
     "output_type": "display_data"
    }
   ],
   "source": [
    "## Scatter plots between carat and table\n",
    "x = diamond['carat']\n",
    "y = diamond['table']\n",
    "plt.scatter(x,y)\n",
    "plt.title('Scatter between carat and table')\n",
    "plt.xlabel('carat')\n",
    "plt.ylabel('table')\n",
    "plt.show()"
   ]
  },
  {
   "cell_type": "code",
   "execution_count": 25,
   "metadata": {},
   "outputs": [
    {
     "data": {
      "image/png": "[encoded data removed]",
      "text/plain": [
       "<Figure size 432x288 with 1 Axes>"
      ]
     },
     "metadata": {
      "needs_background": "light"
     },
     "output_type": "display_data"
    }
   ],
   "source": [
    "## Scatter plots between carat and price\n",
    "x = diamond['carat']\n",
    "y = diamond['price']\n",
    "plt.scatter(x,y)\n",
    "plt.title('Scatter between carat and price')\n",
    "plt.xlabel('carat')\n",
    "plt.ylabel('price')\n",
    "plt.show()"
   ]
  },
  {
   "cell_type": "code",
   "execution_count": 26,
   "metadata": {},
   "outputs": [
    {
     "data": {
      "image/png": "[encoded data removed]",
      "text/plain": [
       "<Figure size 432x288 with 1 Axes>"
      ]
     },
     "metadata": {
      "needs_background": "light"
     },
     "output_type": "display_data"
    }
   ],
   "source": [
    "## Scatter plots between depth and table\n",
    "x = diamond['depth']\n",
    "y = diamond['table']\n",
    "plt.scatter(x,y)\n",
    "plt.title('Scatter between depth and table')\n",
    "plt.xlabel('depth')\n",
    "plt.ylabel('table')\n",
    "plt.show()"
   ]
  },
  {
   "cell_type": "code",
   "execution_count": 27,
   "metadata": {},
   "outputs": [
    {
     "data": {
      "image/png": "[encoded data removed]",
      "text/plain": [
       "<Figure size 432x288 with 1 Axes>"
      ]
     },
     "metadata": {
      "needs_background": "light"
     },
     "output_type": "display_data"
    }
   ],
   "source": [
    "## Scatter plots between depth and price\n",
    "x = diamond['depth']\n",
    "y = diamond['price']\n",
    "plt.scatter(x,y)\n",
    "plt.title('Scatter between depth and price')\n",
    "plt.xlabel('depth')\n",
    "plt.ylabel('price')\n",
    "plt.show()"
   ]
  },
  {
   "cell_type": "code",
   "execution_count": 28,
   "metadata": {},
   "outputs": [
    {
     "data": {
      "image/png": "[encoded data removed]",
      "text/plain": [
       "<Figure size 432x288 with 1 Axes>"
      ]
     },
     "metadata": {
      "needs_background": "light"
     },
     "output_type": "display_data"
    }
   ],
   "source": [
    "## Scatter plots between table and price\n",
    "x = diamond['table']\n",
    "y = diamond['price']\n",
    "plt.scatter(x,y)\n",
    "plt.title('Scatter between table and price')\n",
    "plt.xlabel('table')\n",
    "plt.ylabel('price')\n",
    "plt.show()"
   ]
  },
  {
   "cell_type": "code",
   "execution_count": 29,
   "metadata": {},
   "outputs": [
    {
     "data": {
      "image/png": "[encoded data removed]",
      "text/plain": [
       "<Figure size 432x288 with 1 Axes>"
      ]
     },
     "metadata": {
      "needs_background": "light"
     },
     "output_type": "display_data"
    }
   ],
   "source": [
    "## Scatter plots between carat and z\n",
    "x = diamond['carat']\n",
    "y = diamond['z']\n",
    "plt.scatter(x,y)\n",
    "plt.title('Scatter between carat and z')\n",
    "plt.xlabel('carat')\n",
    "plt.ylabel('z')\n",
    "plt.show()"
   ]
  },
  {
   "cell_type": "code",
   "execution_count": 30,
   "metadata": {},
   "outputs": [
    {
     "data": {
      "image/png": "[encoded data removed]",
      "text/plain": [
       "<Figure size 432x288 with 1 Axes>"
      ]
     },
     "metadata": {
      "needs_background": "light"
     },
     "output_type": "display_data"
    }
   ],
   "source": [
    "## Scatter plots between depth and z\n",
    "x = diamond['depth']\n",
    "y = diamond['z']\n",
    "plt.scatter(x,y)\n",
    "plt.title('Scatter between carat and z')\n",
    "plt.xlabel('depth')\n",
    "plt.ylabel('z')\n",
    "plt.show()"
   ]
  },
  {
   "cell_type": "markdown",
   "metadata": {},
   "source": [
    "From the scatter plots, I found that Carat 1 and 2 have most depth of 55-65, carat 0-3 have most table of 50-70, carat 1 has largest range of price, with carat increasing, the range of price is decreasing, the bigger carat is, the higher the price is. There is a cluster between depth and table. All kinds of depth has the same range of price, all kinds of table has the same range of price. The relationship between carat and z is linear with lots of outliers. z between 2-6 has largest range of depth."
   ]
  },
  {
   "cell_type": "markdown",
   "metadata": {},
   "source": [
    "## Data Preparation and EDA Review - Deal with outliers, remove invalid values, transform the data"
   ]
  },
  {
   "cell_type": "code",
   "execution_count": 31,
   "metadata": {},
   "outputs": [
    {
     "name": "stdout",
     "output_type": "stream",
     "text": [
      "Number of outliers for variable carat: 1889\n",
      "Number of outliers for variable depth: 2545\n",
      "Number of outliers for variable table: 605\n",
      "Number of outliers for variable price: 3540\n",
      "Number of outliers for variable x: 32\n",
      "Number of outliers for variable y: 29\n",
      "Number of outliers for variable z: 49\n"
     ]
    }
   ],
   "source": [
    "#check for number of outliers in carat, depth and price:\n",
    "columns=diamondn.columns.tolist()\n",
    "#check for number of outliers per column\n",
    "for k in columns:\n",
    "    IQ3=diamondn[k].quantile(0.75)\n",
    "    IQ1=diamondn[k].quantile(0.25)\n",
    "    IQR=(IQ3-IQ1)*1.5\n",
    "    print('Number of outliers for variable %s:' %k, \n",
    "          diamondn.shape[0]-diamondn[((diamondn[k]>=(IQ1-IQR)) & (diamondn[k]<=(IQ3+IQR)))].shape[0])"
   ]
  },
  {
   "cell_type": "markdown",
   "metadata": {},
   "source": [
    "My idea is not to deal with outliers in this project, \n",
    "\n",
    "Because the largest proportion of outliers exist in variable \"price\", some diamonds may be very precious so as to have very high price, the outliers are reasonable. \n",
    "\n",
    "Other variables do not have such large proportion of outliers, they may not have hugh impact on the data."
   ]
  },
  {
   "cell_type": "markdown",
   "metadata": {},
   "source": [
    "#### I will now eliminate invalid data:"
   ]
  },
  {
   "cell_type": "code",
   "execution_count": 32,
   "metadata": {},
   "outputs": [
    {
     "data": {
      "text/plain": [
       "(53920, 10)"
      ]
     },
     "execution_count": 32,
     "metadata": {},
     "output_type": "execute_result"
    }
   ],
   "source": [
    "#copy the data frame \n",
    "diamond2=diamond.copy()\n",
    "\n",
    "#remove rows that have a x equals to 0\n",
    "diamond2=diamond2[diamond2['x']!=0]\n",
    "\n",
    "#remove rows that have a y equals to 0\n",
    "diamond2=diamond2[diamond2['y']!=0]\n",
    "\n",
    "#remove rows that have a z equals to 0\n",
    "diamond2=diamond2[diamond2['z']!=0]\n",
    "\n",
    "#check shape\n",
    "diamond2.shape"
   ]
  },
  {
   "cell_type": "markdown",
   "metadata": {},
   "source": [
    "Since most features are not normally distributed, I will convert them to log:"
   ]
  },
  {
   "cell_type": "code",
   "execution_count": 33,
   "metadata": {},
   "outputs": [
    {
     "data": {
      "text/plain": [
       "count    53920.000000\n",
       "mean         4.050291\n",
       "std          0.038402\n",
       "min          3.761200\n",
       "25%          4.025352\n",
       "50%          4.043051\n",
       "75%          4.077537\n",
       "max          4.553877\n",
       "Name: table, dtype: float64"
      ]
     },
     "execution_count": 33,
     "metadata": {},
     "output_type": "execute_result"
    }
   ],
   "source": [
    "diamond2['table'] = np.log(diamond2.table)\n",
    "diamond2['table'].describe()"
   ]
  },
  {
   "cell_type": "code",
   "execution_count": 34,
   "metadata": {},
   "outputs": [
    {
     "data": {
      "text/plain": [
       "count    53920.000000\n",
       "mean         4.122816\n",
       "std          0.023268\n",
       "min          3.761200\n",
       "25%          4.110874\n",
       "50%          4.123903\n",
       "75%          4.135167\n",
       "max          4.369448\n",
       "Name: depth, dtype: float64"
      ]
     },
     "execution_count": 34,
     "metadata": {},
     "output_type": "execute_result"
    }
   ],
   "source": [
    "diamond2['depth'] = np.log(diamond2.depth)\n",
    "diamond2['depth'].describe()"
   ]
  },
  {
   "cell_type": "code",
   "execution_count": 35,
   "metadata": {},
   "outputs": [
    {
     "data": {
      "text/plain": [
       "count    53920.000000\n",
       "mean         7.786393\n",
       "std          1.014540\n",
       "min          5.786897\n",
       "25%          6.855409\n",
       "50%          7.783641\n",
       "75%          8.579839\n",
       "max          9.842835\n",
       "Name: price, dtype: float64"
      ]
     },
     "execution_count": 35,
     "metadata": {},
     "output_type": "execute_result"
    }
   ],
   "source": [
    "diamond2['price'] = np.log(diamond2.price)\n",
    "diamond2['price'].describe()"
   ]
  },
  {
   "cell_type": "code",
   "execution_count": 36,
   "metadata": {},
   "outputs": [
    {
     "data": {
      "text/plain": [
       "count    53920.000000\n",
       "mean         1.727174\n",
       "std          0.193699\n",
       "min          1.316408\n",
       "25%          1.549688\n",
       "50%          1.740466\n",
       "75%          1.877937\n",
       "max          2.373975\n",
       "Name: x, dtype: float64"
      ]
     },
     "execution_count": 36,
     "metadata": {},
     "output_type": "execute_result"
    }
   ],
   "source": [
    "diamond2['x'] = np.log(diamond2.x)\n",
    "diamond2['x'].describe()"
   ]
  },
  {
   "cell_type": "code",
   "execution_count": 37,
   "metadata": {},
   "outputs": [
    {
     "data": {
      "text/plain": [
       "count    53920.000000\n",
       "mean         1.727840\n",
       "std          0.192686\n",
       "min          1.302913\n",
       "25%          1.551809\n",
       "50%          1.742219\n",
       "75%          1.877937\n",
       "max          4.075841\n",
       "Name: y, dtype: float64"
      ]
     },
     "execution_count": 37,
     "metadata": {},
     "output_type": "execute_result"
    }
   ],
   "source": [
    "diamond2['y'] = np.log(diamond2.y)\n",
    "diamond2['y'].describe()"
   ]
  },
  {
   "cell_type": "code",
   "execution_count": 38,
   "metadata": {},
   "outputs": [
    {
     "data": {
      "text/plain": [
       "count    53920.000000\n",
       "mean         1.245163\n",
       "std          0.194207\n",
       "min          0.067659\n",
       "25%          1.068153\n",
       "50%          1.261298\n",
       "75%          1.396245\n",
       "max          3.459466\n",
       "Name: z, dtype: float64"
      ]
     },
     "execution_count": 38,
     "metadata": {},
     "output_type": "execute_result"
    }
   ],
   "source": [
    "diamond2['z'] = np.log(diamond2.z)\n",
    "diamond2['z'].describe()"
   ]
  },
  {
   "cell_type": "markdown",
   "metadata": {},
   "source": [
    "Then I will plot histograms and boxplots again to check whether revomal of invalid data changed the distribution of the data:"
   ]
  },
  {
   "cell_type": "code",
   "execution_count": 39,
   "metadata": {},
   "outputs": [
    {
     "data": {
      "image/png": "[encoded data removed]",
      "text/plain": [
       "<Figure size 1080x1080 with 10 Axes>"
      ]
     },
     "metadata": {
      "needs_background": "light"
     },
     "output_type": "display_data"
    }
   ],
   "source": [
    "#define a figure to which we will add a histogram for each of our attributes\n",
    "plt.figure(figsize=(15,15))\n",
    "\n",
    "i=1\n",
    "columns=diamond2.columns.tolist()\n",
    "for k in columns[0:] :  \n",
    "    plt.subplot(4,3,i) \n",
    "    plt.hist(diamond2[k])\n",
    "    plt.title('%s' %k)\n",
    "    i=i+1\n",
    "\n",
    "#show results    \n",
    "plt.show()"
   ]
  },
  {
   "cell_type": "markdown",
   "metadata": {},
   "source": [
    "Some numeric variables have become normally distributed."
   ]
  },
  {
   "cell_type": "code",
   "execution_count": 40,
   "metadata": {},
   "outputs": [
    {
     "data": {
      "image/png": "[encoded data removed]",
      "text/plain": [
       "<Figure size 1440x1440 with 7 Axes>"
      ]
     },
     "metadata": {
      "needs_background": "light"
     },
     "output_type": "display_data"
    }
   ],
   "source": [
    "#define a figure to which we will add boxplots of each attribute.\n",
    "plt.figure(figsize=(20,20))\n",
    "\n",
    "diamond2n = diamond2[['carat','depth','table','price','x','y','z']]\n",
    "i=1\n",
    "columns=diamond2n.columns.tolist()\n",
    "for k in columns[0:] :   \n",
    "    plt.subplot(4,3,i) \n",
    "    sns.boxplot(x=k,data=diamond2n)\n",
    "    i=i+1 \n",
    "\n",
    "#show results\n",
    "plt.show()"
   ]
  },
  {
   "cell_type": "markdown",
   "metadata": {},
   "source": [
    "From boxplots I could see that transformations makes the boxplots better."
   ]
  },
  {
   "cell_type": "markdown",
   "metadata": {},
   "source": [
    "Next, I will convert cut column values from ['Ideal', 'Premium', 'Good', 'Very Good', 'Fair'] to [0,1,2,3,4], convert color column values from ['E', 'I', 'J', 'H', 'F', 'G', 'D'] to [0,1,2,3,4,5,6], convert clarity column values from ['SI2', 'SI1', 'VS2', 'VVS2', 'VVS1', 'VS1', 'I1', 'IF'] to [0,1,2,3,4,5,6,7]."
   ]
  },
  {
   "cell_type": "code",
   "execution_count": 41,
   "metadata": {},
   "outputs": [
    {
     "name": "stdout",
     "output_type": "stream",
     "text": [
      "0    0\n",
      "1    1\n",
      "2    2\n",
      "3    1\n",
      "4    2\n",
      "Name: cut, dtype: int64\n",
      "Index(['Ideal', 'Premium', 'Good', 'Very Good', 'Fair'], dtype='object')\n"
     ]
    }
   ],
   "source": [
    "#Creating the dependent variable class\n",
    "factor = pd.factorize(diamond2['cut'])\n",
    "diamond2.cut = factor[0]\n",
    "definitions = factor[1]\n",
    "print(diamond2.cut.head())\n",
    "print(definitions)"
   ]
  },
  {
   "cell_type": "code",
   "execution_count": 42,
   "metadata": {},
   "outputs": [
    {
     "name": "stdout",
     "output_type": "stream",
     "text": [
      "0    0\n",
      "1    0\n",
      "2    0\n",
      "3    1\n",
      "4    2\n",
      "Name: color, dtype: int64\n",
      "Index(['E', 'I', 'J', 'H', 'F', 'G', 'D'], dtype='object')\n"
     ]
    }
   ],
   "source": [
    "#Creating the dependent variable class\n",
    "factor = pd.factorize(diamond2['color'])\n",
    "diamond2.color = factor[0]\n",
    "definitions = factor[1]\n",
    "print(diamond2.color.head())\n",
    "print(definitions)"
   ]
  },
  {
   "cell_type": "code",
   "execution_count": 43,
   "metadata": {},
   "outputs": [
    {
     "name": "stdout",
     "output_type": "stream",
     "text": [
      "0    0\n",
      "1    1\n",
      "2    2\n",
      "3    3\n",
      "4    0\n",
      "Name: clarity, dtype: int64\n",
      "Index(['SI2', 'SI1', 'VS1', 'VS2', 'VVS2', 'VVS1', 'I1', 'IF'], dtype='object')\n"
     ]
    }
   ],
   "source": [
    "#Creating the dependent variable class\n",
    "factor = pd.factorize(diamond2['clarity'])\n",
    "diamond2.clarity = factor[0]\n",
    "definitions = factor[1]\n",
    "print(diamond2.clarity.head())\n",
    "print(definitions)"
   ]
  },
  {
   "cell_type": "markdown",
   "metadata": {},
   "source": [
    "Next I will create a dataset that is ready to be used for a model."
   ]
  },
  {
   "cell_type": "code",
   "execution_count": 44,
   "metadata": {},
   "outputs": [
    {
     "data": {
      "text/plain": [
       "(53920, 10)"
      ]
     },
     "execution_count": 44,
     "metadata": {},
     "output_type": "execute_result"
    }
   ],
   "source": [
    "#create a dataset that is ready to be used for a model\n",
    "target = diamond2['cut']\n",
    "explanatory=diamond2[['color','clarity','carat','depth','table','price','x','y','z']]\n",
    "diamondd=pd.concat([target,explanatory],axis=1)\n",
    "\n",
    "#check results\n",
    "diamondd.shape"
   ]
  },
  {
   "cell_type": "code",
   "execution_count": 45,
   "metadata": {},
   "outputs": [
    {
     "data": {
      "text/plain": [
       "cut        0\n",
       "color      0\n",
       "clarity    0\n",
       "carat      0\n",
       "depth      0\n",
       "table      0\n",
       "price      0\n",
       "x          0\n",
       "y          0\n",
       "z          0\n",
       "dtype: int64"
      ]
     },
     "execution_count": 45,
     "metadata": {},
     "output_type": "execute_result"
    }
   ],
   "source": [
    "#double check that there are no null values in these columns\n",
    "diamondd.isnull().sum()"
   ]
  },
  {
   "cell_type": "markdown",
   "metadata": {},
   "source": [
    "## Feature Selection"
   ]
  },
  {
   "cell_type": "markdown",
   "metadata": {},
   "source": [
    "### Does the cut attribute exhibit low entropy or high entropy?"
   ]
  },
  {
   "cell_type": "code",
   "execution_count": 46,
   "metadata": {},
   "outputs": [
    {
     "data": {
      "text/plain": [
       "0    21548\n",
       "1    13780\n",
       "3    12081\n",
       "2     4902\n",
       "4     1609\n",
       "Name: cut, dtype: int64"
      ]
     },
     "execution_count": 46,
     "metadata": {},
     "output_type": "execute_result"
    }
   ],
   "source": [
    "diamondd['cut'].value_counts() "
   ]
  },
  {
   "cell_type": "code",
   "execution_count": 47,
   "metadata": {},
   "outputs": [
    {
     "name": "stdout",
     "output_type": "stream",
     "text": [
      "entropy of cut: 1.981 bits\n"
     ]
    }
   ],
   "source": [
    "# calculate the entropy for cut\n",
    "from math import log2\n",
    "# proportion of examples in each class\n",
    "class0 = 21548/53920\n",
    "class1 = 13780/53920\n",
    "class2 = 12081/53920\n",
    "class3 = 4902/53920\n",
    "class4 = 1609/53920\n",
    "# calculate entropy\n",
    "entropy = -(class0 * log2(class0) + class1 * log2(class1) + class2 * log2(class2) + class3 * log2(class3) + class4 * log2(class4))\n",
    "# print the result\n",
    "print('entropy of cut: %.3f bits' % entropy)"
   ]
  },
  {
   "cell_type": "markdown",
   "metadata": {},
   "source": [
    "More than 39% of the values contained within the cut attribute are indicative of an \"Ideal\" cut. From calculation, it shows the target attribute has  __high entropy__.\n",
    "\n",
    "#### So which explanatory attributes offered high information gain + low entropy? I will use mutual information feature selection method and calculate entropy and gain information to find it:\n",
    "\n",
    "For convenience to calculate information gain for numeric variables, I will set the bin to 3."
   ]
  },
  {
   "cell_type": "code",
   "execution_count": 48,
   "metadata": {},
   "outputs": [
    {
     "data": {
      "text/plain": [
       "(4.025, 4.29]     34030\n",
       "(3.759, 4.025]    19883\n",
       "(4.29, 4.554]         7\n",
       "Name: table, dtype: int64"
      ]
     },
     "execution_count": 48,
     "metadata": {},
     "output_type": "execute_result"
    }
   ],
   "source": [
    "diamondd['table'].value_counts(bins=3)"
   ]
  },
  {
   "cell_type": "code",
   "execution_count": 49,
   "metadata": {},
   "outputs": [
    {
     "name": "stdout",
     "output_type": "stream",
     "text": [
      "entropy of table: 0.435 bits\n"
     ]
    }
   ],
   "source": [
    "# calculate the entropy for table\n",
    "from math import log2\n",
    "# proportion of examples in each class\n",
    "class0 = 49102/53920\n",
    "class1 = 4816/53920\n",
    "class2 = 2/53920\n",
    "# calculate entropy\n",
    "entropy = -(class0 * log2(class0) + class1 * log2(class1) + class2 * log2(class2))\n",
    "# print the result\n",
    "print('entropy of table: %.3f bits' % entropy)"
   ]
  },
  {
   "cell_type": "code",
   "execution_count": 50,
   "metadata": {},
   "outputs": [
    {
     "data": {
      "text/plain": [
       "(3.964, 4.167]                 52696\n",
       "(4.167, 4.369]                  1217\n",
       "(3.7600000000000002, 3.964]        7\n",
       "Name: depth, dtype: int64"
      ]
     },
     "execution_count": 50,
     "metadata": {},
     "output_type": "execute_result"
    }
   ],
   "source": [
    "diamondd['depth'].value_counts(bins=3)"
   ]
  },
  {
   "cell_type": "code",
   "execution_count": 51,
   "metadata": {},
   "outputs": [
    {
     "name": "stdout",
     "output_type": "stream",
     "text": [
      "entropy of depth: 0.036 bits\n"
     ]
    }
   ],
   "source": [
    "# calculate the entropy for depth\n",
    "from math import log2\n",
    "# proportion of examples in each class\n",
    "class0 = 53727/53920\n",
    "class1 = 169/53920\n",
    "class2 = 24/53920\n",
    "# calculate entropy\n",
    "entropy = -(class0 * log2(class0) + class1 * log2(class1) + class2 * log2(class2))\n",
    "# print the result\n",
    "print('entropy of depth: %.3f bits' % entropy)"
   ]
  },
  {
   "cell_type": "code",
   "execution_count": 52,
   "metadata": {},
   "outputs": [
    {
     "data": {
      "text/plain": [
       "(7.139, 8.491]    20490\n",
       "(5.782, 7.139]    18201\n",
       "(8.491, 9.843]    15229\n",
       "Name: price, dtype: int64"
      ]
     },
     "execution_count": 52,
     "metadata": {},
     "output_type": "execute_result"
    }
   ],
   "source": [
    "diamondd['price'].value_counts(bins=3)"
   ]
  },
  {
   "cell_type": "code",
   "execution_count": 53,
   "metadata": {},
   "outputs": [
    {
     "name": "stdout",
     "output_type": "stream",
     "text": [
      "entropy of price: 0.872 bits\n"
     ]
    }
   ],
   "source": [
    "# calculate the entropy for price\n",
    "from math import log2\n",
    "# proportion of examples in each class\n",
    "class0 = 43579/53920\n",
    "class1 = 7346/53920\n",
    "class2 = 2995/53920\n",
    "# calculate entropy\n",
    "entropy = -(class0 * log2(class0) + class1 * log2(class1) + class2 * log2(class2))\n",
    "# print the result\n",
    "print('entropy of price: %.3f bits' % entropy)"
   ]
  },
  {
   "cell_type": "code",
   "execution_count": 54,
   "metadata": {},
   "outputs": [
    {
     "data": {
      "text/plain": [
       "(1.669, 2.021]    27780\n",
       "(1.314, 1.669]    22893\n",
       "(2.021, 2.374]     3247\n",
       "Name: x, dtype: int64"
      ]
     },
     "execution_count": 54,
     "metadata": {},
     "output_type": "execute_result"
    }
   ],
   "source": [
    "diamondd['x'].value_counts(bins=3)"
   ]
  },
  {
   "cell_type": "code",
   "execution_count": 55,
   "metadata": {},
   "outputs": [
    {
     "name": "stdout",
     "output_type": "stream",
     "text": [
      "entropy of x: 1.030 bits\n"
     ]
    }
   ],
   "source": [
    "# calculate the entropy for x\n",
    "from math import log2\n",
    "# proportion of examples in each class\n",
    "class0 = 32152/53920\n",
    "class1 = 21336/53920\n",
    "class2 = 432/53920\n",
    "# calculate entropy\n",
    "entropy = -(class0 * log2(class0) + class1 * log2(class1) + class2 * log2(class2))\n",
    "# print the result\n",
    "print('entropy of x: %.3f bits' % entropy)"
   ]
  },
  {
   "cell_type": "code",
   "execution_count": 56,
   "metadata": {},
   "outputs": [
    {
     "data": {
      "text/plain": [
       "(1.2990000000000002, 2.227]    53898\n",
       "(2.227, 3.152]                    20\n",
       "(3.152, 4.076]                     2\n",
       "Name: y, dtype: int64"
      ]
     },
     "execution_count": 56,
     "metadata": {},
     "output_type": "execute_result"
    }
   ],
   "source": [
    "diamondd['y'].value_counts(bins=3)"
   ]
  },
  {
   "cell_type": "code",
   "execution_count": 57,
   "metadata": {},
   "outputs": [
    {
     "name": "stdout",
     "output_type": "stream",
     "text": [
      "entropy of y: 0.001 bits\n"
     ]
    }
   ],
   "source": [
    "# calculate the entropy for y\n",
    "from math import log2\n",
    "# proportion of examples in each class\n",
    "class0 = 53918/53920\n",
    "class1 = 1/53920\n",
    "class2 = 1/53920\n",
    "# calculate entropy\n",
    "entropy = -(class0 * log2(class0) + class1 * log2(class1) + class2 * log2(class2))\n",
    "# print the result\n",
    "print('entropy of y: %.3f bits' % entropy)"
   ]
  },
  {
   "cell_type": "code",
   "execution_count": 58,
   "metadata": {},
   "outputs": [
    {
     "data": {
      "text/plain": [
       "(1.198, 2.329]     29992\n",
       "(0.0633, 1.198]    23927\n",
       "(2.329, 3.459]         1\n",
       "Name: z, dtype: int64"
      ]
     },
     "execution_count": 58,
     "metadata": {},
     "output_type": "execute_result"
    }
   ],
   "source": [
    "diamondd['z'].value_counts(bins=3)"
   ]
  },
  {
   "cell_type": "code",
   "execution_count": 59,
   "metadata": {},
   "outputs": [
    {
     "name": "stdout",
     "output_type": "stream",
     "text": [
      "entropy of z: 0.000 bits\n"
     ]
    }
   ],
   "source": [
    "# calculate the entropy for z\n",
    "from math import log2\n",
    "# proportion of examples in each class\n",
    "class0 = 53919/53920\n",
    "class1 = 1/53920\n",
    "# calculate entropy\n",
    "entropy = -(class0 * log2(class0) + class1 * log2(class1))\n",
    "# print the result\n",
    "print('entropy of z: %.3f bits' % entropy)"
   ]
  },
  {
   "cell_type": "code",
   "execution_count": 60,
   "metadata": {},
   "outputs": [
    {
     "data": {
      "text/plain": [
       "(4.0, 6.0]       18058\n",
       "(-0.007, 2.0]    18026\n",
       "(2.0, 4.0]       17836\n",
       "Name: color, dtype: int64"
      ]
     },
     "execution_count": 60,
     "metadata": {},
     "output_type": "execute_result"
    }
   ],
   "source": [
    "diamondd['color'].value_counts(bins=3)"
   ]
  },
  {
   "cell_type": "code",
   "execution_count": 61,
   "metadata": {},
   "outputs": [
    {
     "name": "stdout",
     "output_type": "stream",
     "text": [
      "entropy of color: 1.585 bits\n"
     ]
    }
   ],
   "source": [
    "# calculate the entropy for color\n",
    "from math import log2\n",
    "# proportion of examples in each class\n",
    "class0 = 18058/53920\n",
    "class1 = 18026/53920\n",
    "class2 = 17836/53920\n",
    "# calculate entropy\n",
    "entropy = -(class0 * log2(class0) + class1 * log2(class1) + class2 * log2(class2))\n",
    "# print the result\n",
    "print('entropy of color: %.3f bits' % entropy)"
   ]
  },
  {
   "cell_type": "code",
   "execution_count": 62,
   "metadata": {},
   "outputs": [
    {
     "data": {
      "text/plain": [
       "(-0.008, 2.333]    30418\n",
       "(2.333, 4.667]     17320\n",
       "(4.667, 7.0]        6182\n",
       "Name: clarity, dtype: int64"
      ]
     },
     "execution_count": 62,
     "metadata": {},
     "output_type": "execute_result"
    }
   ],
   "source": [
    "diamondd['clarity'].value_counts(bins=3)"
   ]
  },
  {
   "cell_type": "code",
   "execution_count": 63,
   "metadata": {},
   "outputs": [
    {
     "name": "stdout",
     "output_type": "stream",
     "text": [
      "entropy of clarity: 1.350 bits\n"
     ]
    }
   ],
   "source": [
    "# calculate the entropy for clarity\n",
    "from math import log2\n",
    "# proportion of examples in each class\n",
    "class0 = 30418/53920\n",
    "class1 = 17320/53920\n",
    "class2 = 6182/53920\n",
    "# calculate entropy\n",
    "entropy = -(class0 * log2(class0) + class1 * log2(class1) + class2 * log2(class2))\n",
    "# print the result\n",
    "print('entropy of clarity: %.3f bits' % entropy)"
   ]
  },
  {
   "cell_type": "code",
   "execution_count": 64,
   "metadata": {},
   "outputs": [
    {
     "data": {
      "text/plain": [
       "(-0.005, 1.0]    35328\n",
       "(2.0, 3.0]       12081\n",
       "(1.0, 2.0]        4902\n",
       "(3.0, 4.0]        1609\n",
       "Name: cut, dtype: int64"
      ]
     },
     "execution_count": 64,
     "metadata": {},
     "output_type": "execute_result"
    }
   ],
   "source": [
    "diamondd['cut'].value_counts(bins=4)"
   ]
  },
  {
   "cell_type": "code",
   "execution_count": 65,
   "metadata": {},
   "outputs": [
    {
     "name": "stdout",
     "output_type": "stream",
     "text": [
      "entropy of cut: 1.349 bits\n"
     ]
    }
   ],
   "source": [
    "# calculate the entropy for cut\n",
    "from math import log2\n",
    "# proportion of examples in each class\n",
    "class0 = 35328/53920\n",
    "class1 = 12081/53920\n",
    "class2 = 4902/53920\n",
    "class3 = 1609/53920\n",
    "# calculate entropy\n",
    "entropy = -(class0 * log2(class0) + class1 * log2(class1) + class2 * log2(class2) + class3 * log2(class3))\n",
    "# print the result\n",
    "print('entropy of cut: %.3f bits' % entropy)"
   ]
  },
  {
   "cell_type": "markdown",
   "metadata": {},
   "source": [
    "Calculate information gain for each variables:"
   ]
  },
  {
   "cell_type": "code",
   "execution_count": 66,
   "metadata": {},
   "outputs": [],
   "source": [
    "## Calculate number of table in different categories\n",
    "def counttable1(s,t):\n",
    "    return ((s > 3.759) & (s <= 4.025) & (t > -0.005) & (t <= 1.0)).sum()\n",
    "def counttable2(s,t):\n",
    "    return ((s > 3.759) & (s <= 4.025) & (t > 1.0) & (t <= 2.0)).sum()\n",
    "def counttable3(s,t):\n",
    "    return ((s > 3.759) & (s <= 4.025) & (t > 2.0) & (t <= 3.0)).sum()\n",
    "def counttable4(s,t):\n",
    "    return ((s > 3.759) & (s <= 4.025) & (t > 3.0) & (t <= 4.0)).sum()\n",
    "def counttable11(s,t):\n",
    "    return ((s > 4.025) & (s <= 4.29) & (t > -0.005) & (t <= 1.0)).sum()\n",
    "def counttable22(s,t):\n",
    "    return ((s > 4.025) & (s <= 4.29) & (t > 1.0) & (t <= 2.0)).sum()\n",
    "def counttable33(s,t):\n",
    "    return ((s > 4.025) & (s <= 4.29) & (t > 2.0) & (t <= 3.0)).sum()\n",
    "def counttable44(s,t):\n",
    "    return ((s > 4.025) & (s <= 4.29) & (t > 3.0) & (t <= 4.0)).sum()\n",
    "def counttable111(s,t):\n",
    "    return ((s > 4.29) & (s <= 4.554) & (t > -0.005) & (t <= 1.0)).sum()\n",
    "def counttable222(s,t):\n",
    "    return ((s > 4.29) & (s <= 4.554) & (t > 1.0) & (t <= 2.0)).sum()\n",
    "def counttable333(s,t):\n",
    "    return ((s > 4.29) & (s <= 4.554) & (t > 2.0) & (t <= 3.0)).sum()\n",
    "def counttable444(s,t):\n",
    "    return ((s > 4.29) & (s <= 4.554) & (t > 3.0) & (t <= 4.0)).sum()"
   ]
  },
  {
   "cell_type": "code",
   "execution_count": 67,
   "metadata": {},
   "outputs": [
    {
     "data": {
      "text/plain": [
       "7748"
      ]
     },
     "execution_count": 67,
     "metadata": {},
     "output_type": "execute_result"
    }
   ],
   "source": [
    "counttable1(diamondd['table'],diamondd['cut'])"
   ]
  },
  {
   "cell_type": "code",
   "execution_count": 68,
   "metadata": {},
   "outputs": [
    {
     "data": {
      "text/plain": [
       "634"
      ]
     },
     "execution_count": 68,
     "metadata": {},
     "output_type": "execute_result"
    }
   ],
   "source": [
    "counttable2(diamondd['table'],diamondd['cut'])"
   ]
  },
  {
   "cell_type": "code",
   "execution_count": 69,
   "metadata": {},
   "outputs": [
    {
     "data": {
      "text/plain": [
       "1395"
      ]
     },
     "execution_count": 69,
     "metadata": {},
     "output_type": "execute_result"
    }
   ],
   "source": [
    "counttable3(diamondd['table'],diamondd['cut'])"
   ]
  },
  {
   "cell_type": "code",
   "execution_count": 70,
   "metadata": {},
   "outputs": [
    {
     "data": {
      "text/plain": [
       "227"
      ]
     },
     "execution_count": 70,
     "metadata": {},
     "output_type": "execute_result"
    }
   ],
   "source": [
    "counttable4(diamondd['table'],diamondd['cut'])"
   ]
  },
  {
   "cell_type": "code",
   "execution_count": 71,
   "metadata": {},
   "outputs": [
    {
     "data": {
      "text/plain": [
       "27580"
      ]
     },
     "execution_count": 71,
     "metadata": {},
     "output_type": "execute_result"
    }
   ],
   "source": [
    "counttable11(diamondd['table'],diamondd['cut'])"
   ]
  },
  {
   "cell_type": "code",
   "execution_count": 72,
   "metadata": {},
   "outputs": [
    {
     "data": {
      "text/plain": [
       "4268"
      ]
     },
     "execution_count": 72,
     "metadata": {},
     "output_type": "execute_result"
    }
   ],
   "source": [
    "counttable22(diamondd['table'],diamondd['cut'])"
   ]
  },
  {
   "cell_type": "code",
   "execution_count": 73,
   "metadata": {},
   "outputs": [
    {
     "data": {
      "text/plain": [
       "10686"
      ]
     },
     "execution_count": 73,
     "metadata": {},
     "output_type": "execute_result"
    }
   ],
   "source": [
    "counttable33(diamondd['table'],diamondd['cut'])"
   ]
  },
  {
   "cell_type": "code",
   "execution_count": 74,
   "metadata": {},
   "outputs": [
    {
     "data": {
      "text/plain": [
       "1375"
      ]
     },
     "execution_count": 74,
     "metadata": {},
     "output_type": "execute_result"
    }
   ],
   "source": [
    "counttable44(diamondd['table'],diamondd['cut'])"
   ]
  },
  {
   "cell_type": "code",
   "execution_count": 75,
   "metadata": {},
   "outputs": [
    {
     "data": {
      "text/plain": [
       "0"
      ]
     },
     "execution_count": 75,
     "metadata": {},
     "output_type": "execute_result"
    }
   ],
   "source": [
    "counttable111(diamondd['table'],diamondd['cut'])"
   ]
  },
  {
   "cell_type": "code",
   "execution_count": 76,
   "metadata": {},
   "outputs": [
    {
     "data": {
      "text/plain": [
       "0"
      ]
     },
     "execution_count": 76,
     "metadata": {},
     "output_type": "execute_result"
    }
   ],
   "source": [
    "counttable222(diamondd['table'],diamondd['cut'])"
   ]
  },
  {
   "cell_type": "code",
   "execution_count": 77,
   "metadata": {},
   "outputs": [
    {
     "data": {
      "text/plain": [
       "0"
      ]
     },
     "execution_count": 77,
     "metadata": {},
     "output_type": "execute_result"
    }
   ],
   "source": [
    "counttable333(diamondd['table'],diamondd['cut'])"
   ]
  },
  {
   "cell_type": "code",
   "execution_count": 78,
   "metadata": {},
   "outputs": [
    {
     "data": {
      "text/plain": [
       "7"
      ]
     },
     "execution_count": 78,
     "metadata": {},
     "output_type": "execute_result"
    }
   ],
   "source": [
    "counttable444(diamondd['table'],diamondd['cut'])"
   ]
  },
  {
   "cell_type": "code",
   "execution_count": 79,
   "metadata": {},
   "outputs": [],
   "source": [
    "## Calculate number of depth in different categories\n",
    "def countdepth1(a,b):\n",
    "    return ((a > 3.7600000000000002) & (a <= 3.964) & (b > -0.005) & (b <= 1.0)).sum()\n",
    "def countdepth2(a,b):\n",
    "    return ((a > 3.7600000000000002) & (a <= 3.964) & (b > 1.0) & (b <= 2.0)).sum()\n",
    "def countdepth3(a,b):\n",
    "    return ((a > 3.7600000000000002) & (a <= 3.964) & (b > 2.0) & (b <= 3.0)).sum()\n",
    "def countdepth4(a,b):\n",
    "    return ((a > 3.7600000000000002) & (a <= 3.964) & (b > 3.0) & (b <= 4.0)).sum()\n",
    "def countdepth11(a,b):\n",
    "    return ((a > 3.964) & (a <= 4.167) & (b > -0.005) & (b <= 1.0)).sum()\n",
    "def countdepth22(a,b):\n",
    "    return ((a > 3.964) & (a <= 4.167) & (b > 1.0) & (b <= 2.0)).sum()\n",
    "def countdepth33(a,b):\n",
    "    return ((a > 3.964) & (a <= 4.167) & (b > 2.0) & (b <= 3.0)).sum()\n",
    "def countdepth44(a,b):\n",
    "    return ((a > 3.964) & (a <= 4.167) & (b > 3.0) & (b <= 4.0)).sum()\n",
    "def countdepth111(a,b):\n",
    "    return ((a > 4.167) & (a <= 4.369) & (b > -0.005) & (b <= 1.0)).sum()\n",
    "def countdepth222(a,b):\n",
    "    return ((a > 4.167) & (a <= 4.369) & (b > 1.0) & (b <= 2.0)).sum()\n",
    "def countdepth333(a,b):\n",
    "    return ((a > 4.167) & (a <= 4.369) & (b > 2.0) & (b <= 3.0)).sum()\n",
    "def countdepth444(a,b):\n",
    "    return ((a > 4.167) & (a <= 4.369) & (b > 3.0) & (b <= 4.0)).sum()"
   ]
  },
  {
   "cell_type": "code",
   "execution_count": 80,
   "metadata": {},
   "outputs": [
    {
     "data": {
      "text/plain": [
       "1"
      ]
     },
     "execution_count": 80,
     "metadata": {},
     "output_type": "execute_result"
    }
   ],
   "source": [
    "countdepth1(diamondd['depth'],diamondd['cut'])"
   ]
  },
  {
   "cell_type": "code",
   "execution_count": 81,
   "metadata": {},
   "outputs": [
    {
     "data": {
      "text/plain": [
       "0"
      ]
     },
     "execution_count": 81,
     "metadata": {},
     "output_type": "execute_result"
    }
   ],
   "source": [
    "countdepth2(diamondd['depth'],diamondd['cut'])"
   ]
  },
  {
   "cell_type": "code",
   "execution_count": 82,
   "metadata": {},
   "outputs": [
    {
     "data": {
      "text/plain": [
       "0"
      ]
     },
     "execution_count": 82,
     "metadata": {},
     "output_type": "execute_result"
    }
   ],
   "source": [
    "countdepth3(diamondd['depth'],diamondd['cut'])"
   ]
  },
  {
   "cell_type": "code",
   "execution_count": 83,
   "metadata": {},
   "outputs": [
    {
     "data": {
      "text/plain": [
       "6"
      ]
     },
     "execution_count": 83,
     "metadata": {},
     "output_type": "execute_result"
    }
   ],
   "source": [
    "countdepth4(diamondd['depth'],diamondd['cut'])"
   ]
  },
  {
   "cell_type": "code",
   "execution_count": 84,
   "metadata": {},
   "outputs": [
    {
     "data": {
      "text/plain": [
       "35315"
      ]
     },
     "execution_count": 84,
     "metadata": {},
     "output_type": "execute_result"
    }
   ],
   "source": [
    "countdepth11(diamondd['depth'],diamondd['cut'])"
   ]
  },
  {
   "cell_type": "code",
   "execution_count": 85,
   "metadata": {},
   "outputs": [
    {
     "data": {
      "text/plain": [
       "4789"
      ]
     },
     "execution_count": 85,
     "metadata": {},
     "output_type": "execute_result"
    }
   ],
   "source": [
    "countdepth22(diamondd['depth'],diamondd['cut'])"
   ]
  },
  {
   "cell_type": "code",
   "execution_count": 86,
   "metadata": {},
   "outputs": [
    {
     "data": {
      "text/plain": [
       "12075"
      ]
     },
     "execution_count": 86,
     "metadata": {},
     "output_type": "execute_result"
    }
   ],
   "source": [
    "countdepth33(diamondd['depth'],diamondd['cut'])"
   ]
  },
  {
   "cell_type": "code",
   "execution_count": 87,
   "metadata": {},
   "outputs": [
    {
     "data": {
      "text/plain": [
       "517"
      ]
     },
     "execution_count": 87,
     "metadata": {},
     "output_type": "execute_result"
    }
   ],
   "source": [
    "countdepth44(diamondd['depth'],diamondd['cut'])"
   ]
  },
  {
   "cell_type": "code",
   "execution_count": 88,
   "metadata": {},
   "outputs": [
    {
     "data": {
      "text/plain": [
       "12"
      ]
     },
     "execution_count": 88,
     "metadata": {},
     "output_type": "execute_result"
    }
   ],
   "source": [
    "countdepth111(diamondd['depth'],diamondd['cut'])"
   ]
  },
  {
   "cell_type": "code",
   "execution_count": 89,
   "metadata": {},
   "outputs": [
    {
     "data": {
      "text/plain": [
       "113"
      ]
     },
     "execution_count": 89,
     "metadata": {},
     "output_type": "execute_result"
    }
   ],
   "source": [
    "countdepth222(diamondd['depth'],diamondd['cut'])"
   ]
  },
  {
   "cell_type": "code",
   "execution_count": 90,
   "metadata": {},
   "outputs": [
    {
     "data": {
      "text/plain": [
       "6"
      ]
     },
     "execution_count": 90,
     "metadata": {},
     "output_type": "execute_result"
    }
   ],
   "source": [
    "countdepth333(diamondd['depth'],diamondd['cut'])"
   ]
  },
  {
   "cell_type": "code",
   "execution_count": 91,
   "metadata": {},
   "outputs": [
    {
     "data": {
      "text/plain": [
       "1084"
      ]
     },
     "execution_count": 91,
     "metadata": {},
     "output_type": "execute_result"
    }
   ],
   "source": [
    "countdepth444(diamondd['depth'],diamondd['cut'])"
   ]
  },
  {
   "cell_type": "code",
   "execution_count": 92,
   "metadata": {},
   "outputs": [],
   "source": [
    "## Calculate number of price in different categories\n",
    "def countprice1(c,d):\n",
    "    return ((c > 5.782) & (c <= 7.139) & (d > -0.005) & (d <= 1.0)).sum()\n",
    "def countprice2(c,d):\n",
    "    return ((c > 5.782) & (c <= 7.139) & (d > 1.0) & (d <= 2.0)).sum()\n",
    "def countprice3(c,d):\n",
    "    return ((c > 5.782) & (c <= 7.139) & (d > 2.0) & (d <= 3.0)).sum()\n",
    "def countprice4(c,d):\n",
    "    return ((c > 5.782) & (c <= 7.139) & (d > 3.0) & (d <= 4.0)).sum()\n",
    "def countprice11(c,d):\n",
    "    return ((c > 7.139) & (c <= 8.491) & (d > -0.005) & (d <= 1.0)).sum()\n",
    "def countprice22(c,d):\n",
    "    return ((c > 7.139) & (c <= 8.491) & (d > 1.0) & (d <= 2.0)).sum()\n",
    "def countprice33(c,d):\n",
    "    return ((c > 7.139) & (c <= 8.491) & (d > 2.0) & (d <= 3.0)).sum()\n",
    "def countprice44(c,d):\n",
    "    return ((c > 7.139) & (c <= 8.491) & (d > 3.0) & (d <= 4.0)).sum()\n",
    "def countprice111(c,d):\n",
    "    return ((c > 8.491) & (c <= 9.843) & (d > -0.005) & (d <= 1.0)).sum()\n",
    "def countprice222(c,d):\n",
    "    return ((c > 8.491) & (c <= 9.843) & (d > 1.0) & (d <= 2.0)).sum()\n",
    "def countprice333(c,d):\n",
    "    return ((c > 8.491) & (c <= 9.843) & (d > 2.0) & (d <= 3.0)).sum()\n",
    "def countprice444(c,d):\n",
    "    return ((c > 8.491) & (c <= 9.843) & (d > 3.0) & (d <= 4.0)).sum()"
   ]
  },
  {
   "cell_type": "code",
   "execution_count": 93,
   "metadata": {},
   "outputs": [
    {
     "data": {
      "text/plain": [
       "12864"
      ]
     },
     "execution_count": 93,
     "metadata": {},
     "output_type": "execute_result"
    }
   ],
   "source": [
    "countprice1(diamondd['price'],diamondd['cut'])"
   ]
  },
  {
   "cell_type": "code",
   "execution_count": 94,
   "metadata": {},
   "outputs": [
    {
     "data": {
      "text/plain": [
       "1349"
      ]
     },
     "execution_count": 94,
     "metadata": {},
     "output_type": "execute_result"
    }
   ],
   "source": [
    "countprice2(diamondd['price'],diamondd['cut'])"
   ]
  },
  {
   "cell_type": "code",
   "execution_count": 95,
   "metadata": {},
   "outputs": [
    {
     "data": {
      "text/plain": [
       "3775"
      ]
     },
     "execution_count": 95,
     "metadata": {},
     "output_type": "execute_result"
    }
   ],
   "source": [
    "countprice3(diamondd['price'],diamondd['cut'])"
   ]
  },
  {
   "cell_type": "code",
   "execution_count": 96,
   "metadata": {},
   "outputs": [
    {
     "data": {
      "text/plain": [
       "213"
      ]
     },
     "execution_count": 96,
     "metadata": {},
     "output_type": "execute_result"
    }
   ],
   "source": [
    "countprice4(diamondd['price'],diamondd['cut'])"
   ]
  },
  {
   "cell_type": "code",
   "execution_count": 97,
   "metadata": {},
   "outputs": [
    {
     "data": {
      "text/plain": [
       "12446"
      ]
     },
     "execution_count": 97,
     "metadata": {},
     "output_type": "execute_result"
    }
   ],
   "source": [
    "countprice11(diamondd['price'],diamondd['cut'])"
   ]
  },
  {
   "cell_type": "code",
   "execution_count": 98,
   "metadata": {},
   "outputs": [
    {
     "data": {
      "text/plain": [
       "2261"
      ]
     },
     "execution_count": 98,
     "metadata": {},
     "output_type": "execute_result"
    }
   ],
   "source": [
    "countprice22(diamondd['price'],diamondd['cut'])"
   ]
  },
  {
   "cell_type": "code",
   "execution_count": 99,
   "metadata": {},
   "outputs": [
    {
     "data": {
      "text/plain": [
       "4833"
      ]
     },
     "execution_count": 99,
     "metadata": {},
     "output_type": "execute_result"
    }
   ],
   "source": [
    "countprice33(diamondd['price'],diamondd['cut'])"
   ]
  },
  {
   "cell_type": "code",
   "execution_count": 100,
   "metadata": {},
   "outputs": [
    {
     "data": {
      "text/plain": [
       "950"
      ]
     },
     "execution_count": 100,
     "metadata": {},
     "output_type": "execute_result"
    }
   ],
   "source": [
    "countprice44(diamondd['price'],diamondd['cut'])"
   ]
  },
  {
   "cell_type": "code",
   "execution_count": 101,
   "metadata": {},
   "outputs": [
    {
     "data": {
      "text/plain": [
       "10018"
      ]
     },
     "execution_count": 101,
     "metadata": {},
     "output_type": "execute_result"
    }
   ],
   "source": [
    "countprice111(diamondd['price'],diamondd['cut'])"
   ]
  },
  {
   "cell_type": "code",
   "execution_count": 102,
   "metadata": {},
   "outputs": [
    {
     "data": {
      "text/plain": [
       "1292"
      ]
     },
     "execution_count": 102,
     "metadata": {},
     "output_type": "execute_result"
    }
   ],
   "source": [
    "countprice222(diamondd['price'],diamondd['cut'])"
   ]
  },
  {
   "cell_type": "code",
   "execution_count": 103,
   "metadata": {},
   "outputs": [
    {
     "data": {
      "text/plain": [
       "3473"
      ]
     },
     "execution_count": 103,
     "metadata": {},
     "output_type": "execute_result"
    }
   ],
   "source": [
    "countprice333(diamondd['price'],diamondd['cut'])"
   ]
  },
  {
   "cell_type": "code",
   "execution_count": 104,
   "metadata": {},
   "outputs": [
    {
     "data": {
      "text/plain": [
       "446"
      ]
     },
     "execution_count": 104,
     "metadata": {},
     "output_type": "execute_result"
    }
   ],
   "source": [
    "countprice444(diamondd['price'],diamondd['cut'])"
   ]
  },
  {
   "cell_type": "code",
   "execution_count": 105,
   "metadata": {},
   "outputs": [],
   "source": [
    "## Calculate number of x in different categories\n",
    "def countx1(e,f):\n",
    "    return ((e > 1.314) & (e <= 1.669) & (f > -0.005) & (f <= 1.0)).sum()\n",
    "def countx2(e,f):\n",
    "    return ((e > 1.314) & (e <= 1.669) & (f > 1.0) & (f <= 2.0)).sum()\n",
    "def countx3(e,f):\n",
    "    return ((e > 1.314) & (e <= 1.669) & (f > 2.0) & (f <= 3.0)).sum()\n",
    "def countx4(e,f):\n",
    "    return ((e > 1.314) & (e <= 1.669) & (f > 3.0) & (f <= 4.0)).sum()\n",
    "def countx11(e,f):\n",
    "    return ((e > 1.669) & (e <= 2.021) & (f > -0.005) & (f <= 1.0)).sum()\n",
    "def countx22(e,f):\n",
    "    return ((e > 1.669) & (e <= 2.021) & (f > 1.0) & (f <= 2.0)).sum()\n",
    "def countx33(e,f):\n",
    "    return ((e > 1.669) & (e <= 2.021) & (f > 2.0) & (f <= 3.0)).sum()\n",
    "def countx44(e,f):\n",
    "    return ((e > 1.669) & (e <= 2.021) & (f > 3.0) & (f <= 4.0)).sum()\n",
    "def countx111(e,f):\n",
    "    return ((e > 2.021) & (e <= 2.374) & (f > -0.005) & (f <= 1.0)).sum()\n",
    "def countx222(e,f):\n",
    "    return ((e > 2.021) & (e <= 2.374) & (f > 1.0) & (f <= 2.0)).sum()\n",
    "def countx333(e,f):\n",
    "    return ((e > 2.021) & (e <= 2.374) & (f > 2.0) & (f <= 3.0)).sum()\n",
    "def countx444(e,f):\n",
    "    return ((e > 2.021) & (e <= 2.374) & (f > 3.0) & (f <= 4.0)).sum()"
   ]
  },
  {
   "cell_type": "code",
   "execution_count": 106,
   "metadata": {},
   "outputs": [
    {
     "data": {
      "text/plain": [
       "16331"
      ]
     },
     "execution_count": 106,
     "metadata": {},
     "output_type": "execute_result"
    }
   ],
   "source": [
    "countx1(diamondd['x'],diamondd['cut'])"
   ]
  },
  {
   "cell_type": "code",
   "execution_count": 107,
   "metadata": {},
   "outputs": [
    {
     "data": {
      "text/plain": [
       "1654"
      ]
     },
     "execution_count": 107,
     "metadata": {},
     "output_type": "execute_result"
    }
   ],
   "source": [
    "countx2(diamondd['x'],diamondd['cut'])"
   ]
  },
  {
   "cell_type": "code",
   "execution_count": 108,
   "metadata": {},
   "outputs": [
    {
     "data": {
      "text/plain": [
       "4681"
      ]
     },
     "execution_count": 108,
     "metadata": {},
     "output_type": "execute_result"
    }
   ],
   "source": [
    "countx3(diamondd['x'],diamondd['cut'])"
   ]
  },
  {
   "cell_type": "code",
   "execution_count": 109,
   "metadata": {},
   "outputs": [
    {
     "data": {
      "text/plain": [
       "227"
      ]
     },
     "execution_count": 109,
     "metadata": {},
     "output_type": "execute_result"
    }
   ],
   "source": [
    "countx4(diamondd['x'],diamondd['cut'])"
   ]
  },
  {
   "cell_type": "code",
   "execution_count": 110,
   "metadata": {},
   "outputs": [
    {
     "data": {
      "text/plain": [
       "16866"
      ]
     },
     "execution_count": 110,
     "metadata": {},
     "output_type": "execute_result"
    }
   ],
   "source": [
    "countx11(diamondd['x'],diamondd['cut'])"
   ]
  },
  {
   "cell_type": "code",
   "execution_count": 111,
   "metadata": {},
   "outputs": [
    {
     "data": {
      "text/plain": [
       "2969"
      ]
     },
     "execution_count": 111,
     "metadata": {},
     "output_type": "execute_result"
    }
   ],
   "source": [
    "countx22(diamondd['x'],diamondd['cut'])"
   ]
  },
  {
   "cell_type": "code",
   "execution_count": 112,
   "metadata": {},
   "outputs": [
    {
     "data": {
      "text/plain": [
       "6748"
      ]
     },
     "execution_count": 112,
     "metadata": {},
     "output_type": "execute_result"
    }
   ],
   "source": [
    "countx33(diamondd['x'],diamondd['cut'])"
   ]
  },
  {
   "cell_type": "code",
   "execution_count": 113,
   "metadata": {},
   "outputs": [
    {
     "data": {
      "text/plain": [
       "1197"
      ]
     },
     "execution_count": 113,
     "metadata": {},
     "output_type": "execute_result"
    }
   ],
   "source": [
    "countx44(diamondd['x'],diamondd['cut'])"
   ]
  },
  {
   "cell_type": "code",
   "execution_count": 114,
   "metadata": {},
   "outputs": [
    {
     "data": {
      "text/plain": [
       "2131"
      ]
     },
     "execution_count": 114,
     "metadata": {},
     "output_type": "execute_result"
    }
   ],
   "source": [
    "countx111(diamondd['x'],diamondd['cut'])"
   ]
  },
  {
   "cell_type": "code",
   "execution_count": 115,
   "metadata": {},
   "outputs": [
    {
     "data": {
      "text/plain": [
       "279"
      ]
     },
     "execution_count": 115,
     "metadata": {},
     "output_type": "execute_result"
    }
   ],
   "source": [
    "countx222(diamondd['x'],diamondd['cut'])"
   ]
  },
  {
   "cell_type": "code",
   "execution_count": 116,
   "metadata": {},
   "outputs": [
    {
     "data": {
      "text/plain": [
       "652"
      ]
     },
     "execution_count": 116,
     "metadata": {},
     "output_type": "execute_result"
    }
   ],
   "source": [
    "countx333(diamondd['x'],diamondd['cut'])"
   ]
  },
  {
   "cell_type": "code",
   "execution_count": 117,
   "metadata": {},
   "outputs": [
    {
     "data": {
      "text/plain": [
       "185"
      ]
     },
     "execution_count": 117,
     "metadata": {},
     "output_type": "execute_result"
    }
   ],
   "source": [
    "countx444(diamondd['x'],diamondd['cut'])"
   ]
  },
  {
   "cell_type": "code",
   "execution_count": 118,
   "metadata": {},
   "outputs": [],
   "source": [
    "## Calculate number of y in different categories\n",
    "def county1(g,h):\n",
    "    return ((g > 1.2990000000000002) & (g <= 2.227) & (h > -0.005) & (h <= 1.0)).sum()\n",
    "def county2(g,h):\n",
    "    return ((g > 1.2990000000000002) & (g <= 2.227) & (h > 1.0) & (h <= 2.0)).sum()\n",
    "def county3(g,h):\n",
    "    return ((g > 1.2990000000000002) & (g <= 2.227) & (h > 2.0) & (h <= 3.0)).sum()\n",
    "def county4(g,h):\n",
    "    return ((g > 1.2990000000000002) & (g <= 2.227) & (h > 3.0) & (h <= 4.0)).sum()\n",
    "def county11(g,h):\n",
    "    return ((g > 2.227) & (g <= 3.152) & (h > -0.005) & (h <= 1.0)).sum()\n",
    "def county22(g,h):\n",
    "    return ((g > 2.227) & (g <= 3.152) & (h > 1.0) & (h <= 2.0)).sum()\n",
    "def county33(g,h):\n",
    "    return ((g > 2.227) & (g <= 3.152) & (h > 2.0) & (h <= 3.0)).sum()\n",
    "def county44(g,h):\n",
    "    return ((g > 2.227) & (g <= 3.152) & (h > 3.0) & (h <= 4.0)).sum()\n",
    "def county111(g,h):\n",
    "    return ((g > 3.152) & (g <= 4.076) & (h > -0.005) & (h <= 1.0)).sum()\n",
    "def county222(g,h):\n",
    "    return ((g > 3.152) & (g <= 4.076) & (h > 1.0) & (h <= 2.0)).sum()\n",
    "def county333(g,h):\n",
    "    return ((g > 3.152) & (g <= 4.076) & (h > 2.0) & (h <= 3.0)).sum()\n",
    "def county444(g,h):\n",
    "    return ((g > 3.152) & (g <= 4.076) & (h > 3.0) & (h <= 4.0)).sum()"
   ]
  },
  {
   "cell_type": "code",
   "execution_count": 119,
   "metadata": {},
   "outputs": [
    {
     "data": {
      "text/plain": [
       "35315"
      ]
     },
     "execution_count": 119,
     "metadata": {},
     "output_type": "execute_result"
    }
   ],
   "source": [
    "county1(diamondd['y'],diamondd['cut'])"
   ]
  },
  {
   "cell_type": "code",
   "execution_count": 120,
   "metadata": {},
   "outputs": [
    {
     "data": {
      "text/plain": [
       "4900"
      ]
     },
     "execution_count": 120,
     "metadata": {},
     "output_type": "execute_result"
    }
   ],
   "source": [
    "county2(diamondd['y'],diamondd['cut'])"
   ]
  },
  {
   "cell_type": "code",
   "execution_count": 121,
   "metadata": {},
   "outputs": [
    {
     "data": {
      "text/plain": [
       "12080"
      ]
     },
     "execution_count": 121,
     "metadata": {},
     "output_type": "execute_result"
    }
   ],
   "source": [
    "county3(diamondd['y'],diamondd['cut'])"
   ]
  },
  {
   "cell_type": "code",
   "execution_count": 122,
   "metadata": {},
   "outputs": [
    {
     "data": {
      "text/plain": [
       "1603"
      ]
     },
     "execution_count": 122,
     "metadata": {},
     "output_type": "execute_result"
    }
   ],
   "source": [
    "county4(diamondd['y'],diamondd['cut'])"
   ]
  },
  {
   "cell_type": "code",
   "execution_count": 123,
   "metadata": {},
   "outputs": [
    {
     "data": {
      "text/plain": [
       "11"
      ]
     },
     "execution_count": 123,
     "metadata": {},
     "output_type": "execute_result"
    }
   ],
   "source": [
    "county11(diamondd['y'],diamondd['cut'])"
   ]
  },
  {
   "cell_type": "code",
   "execution_count": 124,
   "metadata": {},
   "outputs": [
    {
     "data": {
      "text/plain": [
       "2"
      ]
     },
     "execution_count": 124,
     "metadata": {},
     "output_type": "execute_result"
    }
   ],
   "source": [
    "county22(diamondd['y'],diamondd['cut'])"
   ]
  },
  {
   "cell_type": "code",
   "execution_count": 125,
   "metadata": {},
   "outputs": [
    {
     "data": {
      "text/plain": [
       "1"
      ]
     },
     "execution_count": 125,
     "metadata": {},
     "output_type": "execute_result"
    }
   ],
   "source": [
    "county33(diamondd['y'],diamondd['cut'])"
   ]
  },
  {
   "cell_type": "code",
   "execution_count": 126,
   "metadata": {},
   "outputs": [
    {
     "data": {
      "text/plain": [
       "6"
      ]
     },
     "execution_count": 126,
     "metadata": {},
     "output_type": "execute_result"
    }
   ],
   "source": [
    "county44(diamondd['y'],diamondd['cut'])"
   ]
  },
  {
   "cell_type": "code",
   "execution_count": 127,
   "metadata": {},
   "outputs": [
    {
     "data": {
      "text/plain": [
       "2"
      ]
     },
     "execution_count": 127,
     "metadata": {},
     "output_type": "execute_result"
    }
   ],
   "source": [
    "county111(diamondd['y'],diamondd['cut'])"
   ]
  },
  {
   "cell_type": "code",
   "execution_count": 128,
   "metadata": {},
   "outputs": [
    {
     "data": {
      "text/plain": [
       "0"
      ]
     },
     "execution_count": 128,
     "metadata": {},
     "output_type": "execute_result"
    }
   ],
   "source": [
    "county222(diamondd['y'],diamondd['cut'])"
   ]
  },
  {
   "cell_type": "code",
   "execution_count": 129,
   "metadata": {},
   "outputs": [
    {
     "data": {
      "text/plain": [
       "0"
      ]
     },
     "execution_count": 129,
     "metadata": {},
     "output_type": "execute_result"
    }
   ],
   "source": [
    "county333(diamondd['y'],diamondd['cut'])"
   ]
  },
  {
   "cell_type": "code",
   "execution_count": 130,
   "metadata": {},
   "outputs": [
    {
     "data": {
      "text/plain": [
       "0"
      ]
     },
     "execution_count": 130,
     "metadata": {},
     "output_type": "execute_result"
    }
   ],
   "source": [
    "county444(diamondd['y'],diamondd['cut'])"
   ]
  },
  {
   "cell_type": "code",
   "execution_count": 131,
   "metadata": {},
   "outputs": [],
   "source": [
    "## Calculate number of z in different categories\n",
    "def countz1(i,j):\n",
    "    return ((i > 0.0633) & (i <= 1.198) & (j > -0.005) & (j <= 1.0)).sum()\n",
    "def countz2(i,j):\n",
    "    return ((i > 0.0633) & (i <= 1.198) & (j > 1.0) & (j <= 2.0)).sum()\n",
    "def countz3(i,j):\n",
    "    return ((i > 0.0633) & (i <= 1.198) & (j > 2.0) & (j <= 3.0)).sum()\n",
    "def countz4(i,j):\n",
    "    return ((i > 0.0633) & (i <= 1.198) & (j > 3.0) & (j <= 4.0)).sum()\n",
    "def countz11(i,j):\n",
    "    return ((i > 1.198) & (i <= 2.329) & (j > -0.005) & (j <= 1.0)).sum()\n",
    "def countz22(i,j):\n",
    "    return ((i > 1.198) & (i <= 2.329) & (j > 1.0) & (j <= 2.0)).sum()\n",
    "def countz33(i,j):\n",
    "    return ((i > 1.198) & (i <= 2.329) & (j > 2.0) & (j <= 3.0)).sum()\n",
    "def countz44(i,j):\n",
    "    return ((i > 1.198) & (i <= 2.329) & (j > 3.0) & (j <= 4.0)).sum()\n",
    "def countz111(i,j):\n",
    "    return ((i > 2.329) & (i <= 3.459) & (j > -0.005) & (j <= 1.0)).sum()\n",
    "def countz222(i,j):\n",
    "    return ((i > 2.329) & (i <= 3.459) & (j > 1.0) & (j <= 2.0)).sum()\n",
    "def countz333(i,j):\n",
    "    return ((i > 2.329) & (i <= 3.459) & (j > 2.0) & (j <= 3.0)).sum()\n",
    "def countz444(i,j):\n",
    "    return ((i > 2.329) & (i <= 3.459) & (j > 3.0) & (j <= 4.0)).sum()"
   ]
  },
  {
   "cell_type": "code",
   "execution_count": 132,
   "metadata": {},
   "outputs": [
    {
     "data": {
      "text/plain": [
       "17165"
      ]
     },
     "execution_count": 132,
     "metadata": {},
     "output_type": "execute_result"
    }
   ],
   "source": [
    "countz1(diamondd['z'],diamondd['cut'])"
   ]
  },
  {
   "cell_type": "code",
   "execution_count": 133,
   "metadata": {},
   "outputs": [
    {
     "data": {
      "text/plain": [
       "1711"
      ]
     },
     "execution_count": 133,
     "metadata": {},
     "output_type": "execute_result"
    }
   ],
   "source": [
    "countz2(diamondd['z'],diamondd['cut'])"
   ]
  },
  {
   "cell_type": "code",
   "execution_count": 134,
   "metadata": {},
   "outputs": [
    {
     "data": {
      "text/plain": [
       "4813"
      ]
     },
     "execution_count": 134,
     "metadata": {},
     "output_type": "execute_result"
    }
   ],
   "source": [
    "countz3(diamondd['z'],diamondd['cut'])"
   ]
  },
  {
   "cell_type": "code",
   "execution_count": 135,
   "metadata": {},
   "outputs": [
    {
     "data": {
      "text/plain": [
       "238"
      ]
     },
     "execution_count": 135,
     "metadata": {},
     "output_type": "execute_result"
    }
   ],
   "source": [
    "countz4(diamondd['z'],diamondd['cut'])"
   ]
  },
  {
   "cell_type": "code",
   "execution_count": 136,
   "metadata": {},
   "outputs": [
    {
     "data": {
      "text/plain": [
       "18163"
      ]
     },
     "execution_count": 136,
     "metadata": {},
     "output_type": "execute_result"
    }
   ],
   "source": [
    "countz11(diamondd['z'],diamondd['cut'])"
   ]
  },
  {
   "cell_type": "code",
   "execution_count": 137,
   "metadata": {},
   "outputs": [
    {
     "data": {
      "text/plain": [
       "3191"
      ]
     },
     "execution_count": 137,
     "metadata": {},
     "output_type": "execute_result"
    }
   ],
   "source": [
    "countz22(diamondd['z'],diamondd['cut'])"
   ]
  },
  {
   "cell_type": "code",
   "execution_count": 138,
   "metadata": {},
   "outputs": [
    {
     "data": {
      "text/plain": [
       "7267"
      ]
     },
     "execution_count": 138,
     "metadata": {},
     "output_type": "execute_result"
    }
   ],
   "source": [
    "countz33(diamondd['z'],diamondd['cut'])"
   ]
  },
  {
   "cell_type": "code",
   "execution_count": 139,
   "metadata": {},
   "outputs": [
    {
     "data": {
      "text/plain": [
       "1371"
      ]
     },
     "execution_count": 139,
     "metadata": {},
     "output_type": "execute_result"
    }
   ],
   "source": [
    "countz44(diamondd['z'],diamondd['cut'])"
   ]
  },
  {
   "cell_type": "code",
   "execution_count": 140,
   "metadata": {},
   "outputs": [
    {
     "data": {
      "text/plain": [
       "0"
      ]
     },
     "execution_count": 140,
     "metadata": {},
     "output_type": "execute_result"
    }
   ],
   "source": [
    "countz111(diamondd['z'],diamondd['cut'])"
   ]
  },
  {
   "cell_type": "code",
   "execution_count": 141,
   "metadata": {},
   "outputs": [
    {
     "data": {
      "text/plain": [
       "0"
      ]
     },
     "execution_count": 141,
     "metadata": {},
     "output_type": "execute_result"
    }
   ],
   "source": [
    "countz222(diamondd['z'],diamondd['cut'])"
   ]
  },
  {
   "cell_type": "code",
   "execution_count": 142,
   "metadata": {},
   "outputs": [
    {
     "data": {
      "text/plain": [
       "0"
      ]
     },
     "execution_count": 142,
     "metadata": {},
     "output_type": "execute_result"
    }
   ],
   "source": [
    "countz333(diamondd['z'],diamondd['cut'])"
   ]
  },
  {
   "cell_type": "code",
   "execution_count": 143,
   "metadata": {},
   "outputs": [
    {
     "data": {
      "text/plain": [
       "0"
      ]
     },
     "execution_count": 143,
     "metadata": {},
     "output_type": "execute_result"
    }
   ],
   "source": [
    "countz444(diamondd['z'],diamondd['cut'])"
   ]
  },
  {
   "cell_type": "code",
   "execution_count": 144,
   "metadata": {},
   "outputs": [],
   "source": [
    "## Calculate number of color in different categories\n",
    "def countcolor1(k,l):\n",
    "    return ((k > -0.007) & (k <= 2.0) & (l > -0.005) & (l <= 1.0)).sum()\n",
    "def countcolor2(k,l):\n",
    "    return ((k > -0.007) & (k <= 2.0) & (l > 1.0) & (l <= 2.0)).sum()\n",
    "def countcolor3(k,l):\n",
    "    return ((k > -0.007) & (k <= 2.0) & (l > 2.0) & (l <= 3.0)).sum()\n",
    "def countcolor4(k,l):\n",
    "    return ((k > -0.007) & (k <= 2.0) & (l > 3.0) & (l <= 4.0)).sum()\n",
    "def countcolor11(k,l):\n",
    "    return ((k > 2.0) & (k <= 4.0) & (l > -0.005) & (l <= 1.0)).sum()\n",
    "def countcolor22(k,l):\n",
    "    return ((k > 2.0) & (k <= 4.0) & (l > 1.0) & (l <= 2.0)).sum()\n",
    "def countcolor33(k,l):\n",
    "    return ((k > 2.0) & (k <= 4.0) & (l > 2.0) & (l <= 3.0)).sum()\n",
    "def countcolor44(k,l):\n",
    "    return ((k > 2.0) & (k <= 4.0) & (l > 3.0) & (l <= 4.0)).sum()\n",
    "def countcolor111(k,l):\n",
    "    return ((k > 4.0) & (k <= 6.0) & (l > -0.005) & (l <= 1.0)).sum()\n",
    "def countcolor222(k,l):\n",
    "    return ((k > 4.0) & (k <= 6.0) & (l > 1.0) & (l <= 2.0)).sum()\n",
    "def countcolor333(k,l):\n",
    "    return ((k > 4.0) & (k <= 6.0) & (l > 2.0) & (l <= 3.0)).sum()\n",
    "def countcolor444(k,l):\n",
    "    return ((k > 4.0) & (k <= 6.0) & (l > 3.0) & (l <= 4.0)).sum()"
   ]
  },
  {
   "cell_type": "code",
   "execution_count": 145,
   "metadata": {},
   "outputs": [
    {
     "data": {
      "text/plain": [
       "11464"
      ]
     },
     "execution_count": 145,
     "metadata": {},
     "output_type": "execute_result"
    }
   ],
   "source": [
    "countcolor1(diamondd['color'],diamondd['cut'])"
   ]
  },
  {
   "cell_type": "code",
   "execution_count": 146,
   "metadata": {},
   "outputs": [
    {
     "data": {
      "text/plain": [
       "1762"
      ]
     },
     "execution_count": 146,
     "metadata": {},
     "output_type": "execute_result"
    }
   ],
   "source": [
    "countcolor2(diamondd['color'],diamondd['cut'])"
   ]
  },
  {
   "cell_type": "code",
   "execution_count": 147,
   "metadata": {},
   "outputs": [
    {
     "data": {
      "text/plain": [
       "4282"
      ]
     },
     "execution_count": 147,
     "metadata": {},
     "output_type": "execute_result"
    }
   ],
   "source": [
    "countcolor3(diamondd['color'],diamondd['cut'])"
   ]
  },
  {
   "cell_type": "code",
   "execution_count": 148,
   "metadata": {},
   "outputs": [
    {
     "data": {
      "text/plain": [
       "518"
      ]
     },
     "execution_count": 148,
     "metadata": {},
     "output_type": "execute_result"
    }
   ],
   "source": [
    "countcolor4(diamondd['color'],diamondd['cut'])"
   ]
  },
  {
   "cell_type": "code",
   "execution_count": 149,
   "metadata": {},
   "outputs": [
    {
     "data": {
      "text/plain": [
       "11625"
      ]
     },
     "execution_count": 149,
     "metadata": {},
     "output_type": "execute_result"
    }
   ],
   "source": [
    "countcolor11(diamondd['color'],diamondd['cut'])"
   ]
  },
  {
   "cell_type": "code",
   "execution_count": 150,
   "metadata": {},
   "outputs": [
    {
     "data": {
      "text/plain": [
       "1609"
      ]
     },
     "execution_count": 150,
     "metadata": {},
     "output_type": "execute_result"
    }
   ],
   "source": [
    "countcolor22(diamondd['color'],diamondd['cut'])"
   ]
  },
  {
   "cell_type": "code",
   "execution_count": 151,
   "metadata": {},
   "outputs": [
    {
     "data": {
      "text/plain": [
       "3987"
      ]
     },
     "execution_count": 151,
     "metadata": {},
     "output_type": "execute_result"
    }
   ],
   "source": [
    "countcolor33(diamondd['color'],diamondd['cut'])"
   ]
  },
  {
   "cell_type": "code",
   "execution_count": 152,
   "metadata": {},
   "outputs": [
    {
     "data": {
      "text/plain": [
       "615"
      ]
     },
     "execution_count": 152,
     "metadata": {},
     "output_type": "execute_result"
    }
   ],
   "source": [
    "countcolor44(diamondd['color'],diamondd['cut'])"
   ]
  },
  {
   "cell_type": "code",
   "execution_count": 153,
   "metadata": {},
   "outputs": [
    {
     "data": {
      "text/plain": [
       "12239"
      ]
     },
     "execution_count": 153,
     "metadata": {},
     "output_type": "execute_result"
    }
   ],
   "source": [
    "countcolor111(diamondd['color'],diamondd['cut'])"
   ]
  },
  {
   "cell_type": "code",
   "execution_count": 154,
   "metadata": {},
   "outputs": [
    {
     "data": {
      "text/plain": [
       "1531"
      ]
     },
     "execution_count": 154,
     "metadata": {},
     "output_type": "execute_result"
    }
   ],
   "source": [
    "countcolor222(diamondd['color'],diamondd['cut'])"
   ]
  },
  {
   "cell_type": "code",
   "execution_count": 155,
   "metadata": {},
   "outputs": [
    {
     "data": {
      "text/plain": [
       "3812"
      ]
     },
     "execution_count": 155,
     "metadata": {},
     "output_type": "execute_result"
    }
   ],
   "source": [
    "countcolor333(diamondd['color'],diamondd['cut'])"
   ]
  },
  {
   "cell_type": "code",
   "execution_count": 156,
   "metadata": {},
   "outputs": [
    {
     "data": {
      "text/plain": [
       "476"
      ]
     },
     "execution_count": 156,
     "metadata": {},
     "output_type": "execute_result"
    }
   ],
   "source": [
    "countcolor444(diamondd['color'],diamondd['cut'])"
   ]
  },
  {
   "cell_type": "code",
   "execution_count": 157,
   "metadata": {},
   "outputs": [],
   "source": [
    "## Calculate number of clarity in different categories\n",
    "def countclarity1(m,n):\n",
    "    return ((m > -0.008) & (m <= 2.333) & (n > -0.005) & (n <= 1.0)).sum()\n",
    "def countclarity2(m,n):\n",
    "    return ((m > -0.008) & (m <= 2.333) & (n > 1.0) & (n <= 2.0)).sum()\n",
    "def countclarity3(m,n):\n",
    "    return ((m > -0.008) & (m <= 2.333) & (n > 2.0) & (n <= 3.0)).sum()\n",
    "def countclarity4(m,n):\n",
    "    return ((m > -0.008) & (m <= 2.333) & (n > 3.0) & (n <= 4.0)).sum()\n",
    "def countclarity11(m,n):\n",
    "    return ((m > 2.333) & (m <= 4.667) & (n > -0.005) & (n <= 1.0)).sum()\n",
    "def countclarity22(m,n):\n",
    "    return ((m > 2.333) & (m <= 4.667) & (n > 1.0) & (n <= 2.0)).sum()\n",
    "def countclarity33(m,n):\n",
    "    return ((m > 2.333) & (m <= 4.667) & (n > 2.0) & (n <= 3.0)).sum()\n",
    "def countclarity44(m,n):\n",
    "    return ((m > 2.333) & (m <= 4.667) & (n > 3.0) & (n <= 4.0)).sum()\n",
    "def countclarity111(m,n):\n",
    "    return ((m > 4.667) & (m <= 7.0) & (n > -0.005) & (n <= 1.0)).sum()\n",
    "def countclarity222(m,n):\n",
    "    return ((m > 4.667) & (m <= 7.0) & (n > 1.0) & (n <= 2.0)).sum()\n",
    "def countclarity333(m,n):\n",
    "    return ((m > 4.667) & (m <= 7.0) & (n > 2.0) & (n <= 3.0)).sum()\n",
    "def countclarity444(m,n):\n",
    "    return ((m > 4.667) & (m <= 7.0) & (n > 3.0) & (n <= 4.0)).sum()"
   ]
  },
  {
   "cell_type": "code",
   "execution_count": 158,
   "metadata": {},
   "outputs": [
    {
     "data": {
      "text/plain": [
       "18974"
      ]
     },
     "execution_count": 158,
     "metadata": {},
     "output_type": "execute_result"
    }
   ],
   "source": [
    "countclarity1(diamondd['clarity'],diamondd['cut'])"
   ]
  },
  {
   "cell_type": "code",
   "execution_count": 159,
   "metadata": {},
   "outputs": [
    {
     "data": {
      "text/plain": [
       "3286"
      ]
     },
     "execution_count": 159,
     "metadata": {},
     "output_type": "execute_result"
    }
   ],
   "source": [
    "countclarity2(diamondd['clarity'],diamondd['cut'])"
   ]
  },
  {
   "cell_type": "code",
   "execution_count": 160,
   "metadata": {},
   "outputs": [
    {
     "data": {
      "text/plain": [
       "7115"
      ]
     },
     "execution_count": 160,
     "metadata": {},
     "output_type": "execute_result"
    }
   ],
   "source": [
    "countclarity3(diamondd['clarity'],diamondd['cut'])"
   ]
  },
  {
   "cell_type": "code",
   "execution_count": 161,
   "metadata": {},
   "outputs": [
    {
     "data": {
      "text/plain": [
       "1043"
      ]
     },
     "execution_count": 161,
     "metadata": {},
     "output_type": "execute_result"
    }
   ],
   "source": [
    "countclarity4(diamondd['clarity'],diamondd['cut'])"
   ]
  },
  {
   "cell_type": "code",
   "execution_count": 162,
   "metadata": {},
   "outputs": [
    {
     "data": {
      "text/plain": [
       "11901"
      ]
     },
     "execution_count": 162,
     "metadata": {},
     "output_type": "execute_result"
    }
   ],
   "source": [
    "countclarity11(diamondd['clarity'],diamondd['cut'])"
   ]
  },
  {
   "cell_type": "code",
   "execution_count": 163,
   "metadata": {},
   "outputs": [
    {
     "data": {
      "text/plain": [
       "1264"
      ]
     },
     "execution_count": 163,
     "metadata": {},
     "output_type": "execute_result"
    }
   ],
   "source": [
    "countclarity22(diamondd['clarity'],diamondd['cut'])"
   ]
  },
  {
   "cell_type": "code",
   "execution_count": 164,
   "metadata": {},
   "outputs": [
    {
     "data": {
      "text/plain": [
       "3825"
      ]
     },
     "execution_count": 164,
     "metadata": {},
     "output_type": "execute_result"
    }
   ],
   "source": [
    "countclarity33(diamondd['clarity'],diamondd['cut'])"
   ]
  },
  {
   "cell_type": "code",
   "execution_count": 165,
   "metadata": {},
   "outputs": [
    {
     "data": {
      "text/plain": [
       "330"
      ]
     },
     "execution_count": 165,
     "metadata": {},
     "output_type": "execute_result"
    }
   ],
   "source": [
    "countclarity44(diamondd['clarity'],diamondd['cut'])"
   ]
  },
  {
   "cell_type": "code",
   "execution_count": 166,
   "metadata": {},
   "outputs": [
    {
     "data": {
      "text/plain": [
       "4453"
      ]
     },
     "execution_count": 166,
     "metadata": {},
     "output_type": "execute_result"
    }
   ],
   "source": [
    "countclarity111(diamondd['clarity'],diamondd['cut'])"
   ]
  },
  {
   "cell_type": "code",
   "execution_count": 167,
   "metadata": {},
   "outputs": [
    {
     "data": {
      "text/plain": [
       "352"
      ]
     },
     "execution_count": 167,
     "metadata": {},
     "output_type": "execute_result"
    }
   ],
   "source": [
    "countclarity222(diamondd['clarity'],diamondd['cut'])"
   ]
  },
  {
   "cell_type": "code",
   "execution_count": 168,
   "metadata": {},
   "outputs": [
    {
     "data": {
      "text/plain": [
       "1141"
      ]
     },
     "execution_count": 168,
     "metadata": {},
     "output_type": "execute_result"
    }
   ],
   "source": [
    "countclarity333(diamondd['clarity'],diamondd['cut'])"
   ]
  },
  {
   "cell_type": "code",
   "execution_count": 169,
   "metadata": {},
   "outputs": [
    {
     "data": {
      "text/plain": [
       "236"
      ]
     },
     "execution_count": 169,
     "metadata": {},
     "output_type": "execute_result"
    }
   ],
   "source": [
    "countclarity444(diamondd['clarity'],diamondd['cut'])"
   ]
  },
  {
   "cell_type": "markdown",
   "metadata": {},
   "source": [
    "I can caculate the information gain of table:"
   ]
  },
  {
   "cell_type": "code",
   "execution_count": 170,
   "metadata": {},
   "outputs": [
    {
     "name": "stdout",
     "output_type": "stream",
     "text": [
      "entropy1: 1.058 bits\n",
      "entropy2: 1.461 bits\n",
      "entropy3: -0.000 bits\n",
      "information gain of table: 0.595 bits\n"
     ]
    }
   ],
   "source": [
    "# calculate the information gain for table\n",
    "from math import log2\n",
    "# proportion of examples in each class\n",
    "class1 = 7748/10004\n",
    "class2 = 634/10004\n",
    "class3 = 1395/10004\n",
    "class4 = 227/10004\n",
    "# calculate entropy\n",
    "entropy1 = -(class1 * log2(class1) + class2 * log2(class2) + class3 * log2(class3) + class4 * log2(class4))\n",
    "# print the result\n",
    "print('entropy1: %.3f bits' % entropy1)\n",
    "# proportion of examples in each class\n",
    "class11 = 27580/43909\n",
    "class22 = 4268/43909\n",
    "class33 = 10686/43909\n",
    "class44 = 1375/43909\n",
    "# calculate entropy\n",
    "entropy2 = -(class11 * log2(class11) + class22 * log2(class2) + class33 * log2(class33) + class44 * log2(class44))\n",
    "# print the result\n",
    "print('entropy2: %.3f bits' % entropy2)\n",
    "# proportion of examples in each class\n",
    "class444 = 7/7\n",
    "# calculate entropy\n",
    "entropy3 = -(class444 * log2(class444))\n",
    "# print the result\n",
    "print('entropy3: %.3f bits' % entropy3)\n",
    "final = 1.981 - (10004/53920)*entropy1 - (43909/53920)*entropy2 - (7/53920)*entropy3\n",
    "print('information gain of table: %.3f bits' % final)"
   ]
  },
  {
   "cell_type": "markdown",
   "metadata": {},
   "source": [
    "I can caculate the information gain of depth:"
   ]
  },
  {
   "cell_type": "code",
   "execution_count": 171,
   "metadata": {},
   "outputs": [
    {
     "name": "stdout",
     "output_type": "stream",
     "text": [
      "entropy1: 0.592 bits\n",
      "entropy2: 1.254 bits\n",
      "entropy3: 0.569 bits\n",
      "information gain of depth: 0.743 bits\n"
     ]
    }
   ],
   "source": [
    "# calculate the information gain for depth\n",
    "from math import log2\n",
    "# proportion of examples in each class\n",
    "class1 = 1/7\n",
    "class4 = 6/7\n",
    "# calculate entropy\n",
    "entropy1 = -(class1 * log2(class1) + class4 * log2(class4))\n",
    "# print the result\n",
    "print('entropy1: %.3f bits' % entropy1)\n",
    "# proportion of examples in each class\n",
    "class11 = 35315/52696\n",
    "class22 = 4789/52696\n",
    "class33 = 12075/52696\n",
    "class44 = 517/52696\n",
    "# calculate entropy\n",
    "entropy2 = -(class11 * log2(class11) + class22 * log2(class22) + class33 * log2(class33) + class44 * log2(class44))\n",
    "# print the result\n",
    "print('entropy2: %.3f bits' % entropy2)\n",
    "class111 = 12/1215\n",
    "class222 = 113/1215\n",
    "class333 = 6/1215\n",
    "class444 = 1084/1215\n",
    "# calculate entropy\n",
    "entropy3 = -(class111 * log2(class111) + class222 * log2(class222) + class333 * log2(class333) + class444 * log2(class444))\n",
    "# print the result\n",
    "print('entropy3: %.3f bits' % entropy3)\n",
    "final = 1.981 - (7/53920)*entropy1 - (52696/53920)*entropy2 - (1217/53920)*entropy3\n",
    "print('information gain of depth: %.3f bits' % final)"
   ]
  },
  {
   "cell_type": "markdown",
   "metadata": {},
   "source": [
    "I can caculate the information gain of price:"
   ]
  },
  {
   "cell_type": "code",
   "execution_count": 172,
   "metadata": {},
   "outputs": [
    {
     "name": "stdout",
     "output_type": "stream",
     "text": [
      "entropy1: 1.081 bits\n",
      "entropy2: 1.404 bits\n",
      "entropy3: -0.000 bits\n",
      "information gain of price: 0.598 bits\n"
     ]
    }
   ],
   "source": [
    "# calculate the information gain for price\n",
    "from math import log2\n",
    "# proportion of examples in each class\n",
    "class1 = 2687/3472\n",
    "class2 = 236/3472\n",
    "class3 = 446/3472\n",
    "class4 = 103/3472\n",
    "# calculate entropy\n",
    "entropy1 = -(class1 * log2(class1) + class2 * log2(class2) + class3 * log2(class3) + class4 * log2(class4))\n",
    "# print the result\n",
    "print('entropy1: %.3f bits' % entropy1)\n",
    "# proportion of examples in each class\n",
    "class11 = 32641/50440\n",
    "class22 = 4666/50440\n",
    "class33 = 11635/50440\n",
    "class44 = 1498/50440\n",
    "# calculate entropy\n",
    "entropy2 = -(class11 * log2(class11) + class22 * log2(class2) + class33 * log2(class33) + class44 * log2(class44))\n",
    "# print the result\n",
    "print('entropy2: %.3f bits' % entropy2)\n",
    "# proportion of examples in each class\n",
    "class444 = 7/7\n",
    "# calculate entropy\n",
    "entropy3 = -(class444 * log2(class444))\n",
    "# print the result\n",
    "print('entropy3: %.3f bits' % entropy3)\n",
    "final = 1.981 - (3472/53920)*entropy1 - (50440/53920)*entropy2 - (7/53920)*entropy3\n",
    "print('information gain of price: %.3f bits' % final)"
   ]
  },
  {
   "cell_type": "markdown",
   "metadata": {},
   "source": [
    "I can caculate the information gain of x:"
   ]
  },
  {
   "cell_type": "code",
   "execution_count": 173,
   "metadata": {},
   "outputs": [
    {
     "name": "stdout",
     "output_type": "stream",
     "text": [
      "entropy1: 1.156 bits\n",
      "entropy2: 1.534 bits\n",
      "entropy3: 1.404 bits\n",
      "information gain of x: 0.616 bits\n"
     ]
    }
   ],
   "source": [
    "# calculate the information gain for x\n",
    "from math import log2\n",
    "# proportion of examples in each class\n",
    "class1 = 16331/22893\n",
    "class2 = 1654/22893\n",
    "class3 = 4681/22893\n",
    "class4 = 227/22893\n",
    "# calculate entropy\n",
    "entropy1 = -(class1 * log2(class1) + class2 * log2(class2) + class3 * log2(class3) + class4 * log2(class4))\n",
    "# print the result\n",
    "print('entropy1: %.3f bits' % entropy1)\n",
    "# proportion of examples in each class\n",
    "class11 = 16866/27780\n",
    "class22 = 2969/27780\n",
    "class33 = 6748/27780\n",
    "class44 = 1197/27780\n",
    "# calculate entropy\n",
    "entropy2 = -(class11 * log2(class11) + class22 * log2(class2) + class33 * log2(class33) + class44 * log2(class44))\n",
    "# print the result\n",
    "print('entropy2: %.3f bits' % entropy2)\n",
    "# proportion of examples in each class\n",
    "class111 = 2131/3247\n",
    "class222 = 279/3247\n",
    "class333 = 652/3247\n",
    "class444 = 185/3247\n",
    "# calculate entropy\n",
    "entropy3 = -(class111 * log2(class111) + class222 * log2(class222) + class333 * log2(class333) + class444 * log2(class444))\n",
    "# print the result\n",
    "print('entropy3: %.3f bits' % entropy3)\n",
    "final = 1.981 - (22893/53920)*entropy1 - (27780/53920)*entropy2 - (3247/53920)*entropy3\n",
    "print('information gain of x: %.3f bits' % final)"
   ]
  },
  {
   "cell_type": "markdown",
   "metadata": {},
   "source": [
    "I can caculate the information gain of y:"
   ]
  },
  {
   "cell_type": "code",
   "execution_count": 174,
   "metadata": {},
   "outputs": [
    {
     "name": "stdout",
     "output_type": "stream",
     "text": [
      "entropy1: 1.349 bits\n",
      "entropy2: 1.557 bits\n",
      "entropy3: -0.000 bits\n",
      "information gain of y: 0.632 bits\n"
     ]
    }
   ],
   "source": [
    "# calculate the information gain for y\n",
    "from math import log2\n",
    "# proportion of examples in each class\n",
    "class1 = 35315/53898\n",
    "class2 = 4900/53898\n",
    "class3 = 12080/53898\n",
    "class4 = 1603/53898\n",
    "# calculate entropy\n",
    "entropy1 = -(class1 * log2(class1) + class2 * log2(class2) + class3 * log2(class3) + class4 * log2(class4))\n",
    "# print the result\n",
    "print('entropy1: %.3f bits' % entropy1)\n",
    "# proportion of examples in each class\n",
    "class11 = 11/20\n",
    "class22 = 2/20\n",
    "class33 = 1/20\n",
    "class44 = 6/20\n",
    "# calculate entropy\n",
    "entropy2 = -(class11 * log2(class11) + class22 * log2(class2) + class33 * log2(class33) + class44 * log2(class44))\n",
    "# print the result\n",
    "print('entropy2: %.3f bits' % entropy2)\n",
    "# proportion of examples in each class\n",
    "class111 = 2/2\n",
    "# calculate entropy\n",
    "entropy3 = -(class111 * log2(class111))\n",
    "# print the result\n",
    "print('entropy3: %.3f bits' % entropy3)\n",
    "final = 1.981 - (53898/53920)*entropy1 - (20/53920)*entropy2 - (2/53920)*entropy3\n",
    "print('information gain of y: %.3f bits' % final)"
   ]
  },
  {
   "cell_type": "markdown",
   "metadata": {},
   "source": [
    "I can caculate the information gain of z:"
   ]
  },
  {
   "cell_type": "code",
   "execution_count": 175,
   "metadata": {},
   "outputs": [
    {
     "name": "stdout",
     "output_type": "stream",
     "text": [
      "entropy1: 1.147 bits\n",
      "entropy2: 1.542 bits\n",
      "information gain of z: 0.614 bits\n"
     ]
    }
   ],
   "source": [
    "# calculate the information gain for z\n",
    "from math import log2\n",
    "# proportion of examples in each class\n",
    "class1 = 17165/23927\n",
    "class2 = 1711/23927\n",
    "class3 = 4813/23927\n",
    "class4 = 238/23927\n",
    "# calculate entropy\n",
    "entropy1 = -(class1 * log2(class1) + class2 * log2(class2) + class3 * log2(class3) + class4 * log2(class4))\n",
    "# print the result\n",
    "print('entropy1: %.3f bits' % entropy1)\n",
    "# proportion of examples in each class\n",
    "class11 = 18163/29992\n",
    "class22 = 3191/29992\n",
    "class33 = 7267/29992\n",
    "class44 = 1371/29992\n",
    "# calculate entropy\n",
    "entropy2 = -(class11 * log2(class11) + class22 * log2(class2) + class33 * log2(class33) + class44 * log2(class44))\n",
    "# print the result\n",
    "print('entropy2: %.3f bits' % entropy2)\n",
    "final = 1.981 - (23927/53920)*entropy1 - (29992/53920)*entropy2\n",
    "print('information gain of z: %.3f bits' % final)"
   ]
  },
  {
   "cell_type": "markdown",
   "metadata": {},
   "source": [
    "I can caculate the information gain of color:"
   ]
  },
  {
   "cell_type": "code",
   "execution_count": 176,
   "metadata": {},
   "outputs": [
    {
     "name": "stdout",
     "output_type": "stream",
     "text": [
      "entropy1: 1.383 bits\n",
      "entropy2: 1.356 bits\n",
      "entropy3: 1.292 bits\n",
      "information gain of color: 0.637 bits\n"
     ]
    }
   ],
   "source": [
    "# calculate the information gain for color\n",
    "from math import log2\n",
    "# proportion of examples in each class\n",
    "class1 = 11464/18058\n",
    "class2 = 1762/18058\n",
    "class3 = 4282/18058\n",
    "class4 = 518/18058\n",
    "# calculate entropy\n",
    "entropy1 = -(class1 * log2(class1) + class2 * log2(class2) + class3 * log2(class3) + class4 * log2(class4))\n",
    "# print the result\n",
    "print('entropy1: %.3f bits' % entropy1)\n",
    "# proportion of examples in each class\n",
    "class11 = 11625/18026\n",
    "class22 = 1609/18026\n",
    "class33 = 3987/18026\n",
    "class44 = 615/18026\n",
    "# calculate entropy\n",
    "entropy2 = -(class11 * log2(class11) + class22 * log2(class2) + class33 * log2(class33) + class44 * log2(class44))\n",
    "# print the result\n",
    "print('entropy2: %.3f bits' % entropy2)\n",
    "# proportion of examples in each class\n",
    "class111 = 12239/17836\n",
    "class222 = 1531/17836\n",
    "class333 = 3812/17836\n",
    "class444 = 476/17836\n",
    "# calculate entropy\n",
    "entropy3 = -(class111 * log2(class111) + class222 * log2(class222) + class333 * log2(class333) + class444 * log2(class444))\n",
    "# print the result\n",
    "print('entropy3: %.3f bits' % entropy3)\n",
    "final = 1.981 - (18058/53920)*entropy1 - (18026/53920)*entropy2 - (17836/53920)*entropy3\n",
    "print('information gain of color: %.3f bits' % final)"
   ]
  },
  {
   "cell_type": "markdown",
   "metadata": {},
   "source": [
    "I can caculate the information gain of clarity:"
   ]
  },
  {
   "cell_type": "code",
   "execution_count": 177,
   "metadata": {},
   "outputs": [
    {
     "name": "stdout",
     "output_type": "stream",
     "text": [
      "entropy1: 1.429 bits\n",
      "entropy2: 1.196 bits\n",
      "entropy3: 1.206 bits\n",
      "information gain of clarity: 0.652 bits\n"
     ]
    }
   ],
   "source": [
    "# calculate the information gain for clarity\n",
    "from math import log2\n",
    "# proportion of examples in each class\n",
    "class1 = 18974/30418\n",
    "class2 = 3286/30418\n",
    "class3 = 7115/30418\n",
    "class4 = 1043/30418\n",
    "# calculate entropy\n",
    "entropy1 = -(class1 * log2(class1) + class2 * log2(class2) + class3 * log2(class3) + class4 * log2(class4))\n",
    "# print the result\n",
    "print('entropy1: %.3f bits' % entropy1)\n",
    "# proportion of examples in each class\n",
    "class11 = 11901/17320\n",
    "class22 = 1264/17320\n",
    "class33 = 3825/17320\n",
    "class44 = 330/17320\n",
    "# calculate entropy\n",
    "entropy2 = -(class11 * log2(class11) + class22 * log2(class2) + class33 * log2(class33) + class44 * log2(class44))\n",
    "# print the result\n",
    "print('entropy2: %.3f bits' % entropy2)\n",
    "# proportion of examples in each class\n",
    "class111 = 4453/6182\n",
    "class222 = 352/6182\n",
    "class333 = 1141/6182\n",
    "class444 = 236/6182\n",
    "# calculate entropy\n",
    "entropy3 = -(class111 * log2(class111) + class222 * log2(class222) + class333 * log2(class333) + class444 * log2(class444))\n",
    "# print the result\n",
    "print('entropy3: %.3f bits' % entropy3)\n",
    "final = 1.981 - (30418/53920)*entropy1 - (17320/53920)*entropy2 - (6182/53920)*entropy3\n",
    "print('information gain of clarity: %.3f bits' % final)"
   ]
  },
  {
   "cell_type": "markdown",
   "metadata": {},
   "source": [
    "Then I would make a table to compare their entropy and information gain:"
   ]
  },
  {
   "cell_type": "markdown",
   "metadata": {},
   "source": [
    "<table>\n",
    "  <thead>\n",
    "    <tr>\n",
    "      <th>Comparative term</th>\n",
    "      <th>table </th>\n",
    "      <th>depth</th>\n",
    "      <th>price</th>\n",
    "      <th>x</th>\n",
    "      <th>y</th>\n",
    "      <th>z</th>\n",
    "      <th>color</th>\n",
    "      <th>clarity</th>\n",
    "    </tr>\n",
    "  </thead>\n",
    "  <tbody>\n",
    "    <tr>\n",
    "      <td>entropy</td>\n",
    "      <th>0.435</th>\n",
    "      <th>0.036</th>\n",
    "      <th>0.872</th>\n",
    "      <th>1.030</th>\n",
    "      <th>0.001</th>\n",
    "      <th>0.000</th>\n",
    "      <th>1.585</th>\n",
    "      <th>1.350</th>\n",
    "    </tr>\n",
    "    <tr>\n",
    "      <td>information gain</td>\n",
    "      <th>0.595</th>\n",
    "      <th>0.743</th>\n",
    "      <th>0.598</th>\n",
    "      <th>0.616</th>\n",
    "      <th>0.632</th>\n",
    "      <th>0.614</th>\n",
    "      <th>0.637</th>\n",
    "      <th>0.652</th>\n",
    "      </tr>\n",
    "  </tbody>\n",
    "</table>"
   ]
  },
  {
   "cell_type": "markdown",
   "metadata": {},
   "source": [
    "From the table, for entropy: z < y < depth < table < price < x < clarity < color, for information gain: depth > clarity > color > y > z > x > price > table. \n",
    "\n",
    "since my aim is to find the variables with low entropy and high information gain, therefore, the variables depth, y, z and price are suitable to construct the model."
   ]
  },
  {
   "cell_type": "markdown",
   "metadata": {},
   "source": [
    "## Building Neural Network\n",
    "\n",
    "After splitting the data into training and testing subsets, I will use the training subset to construct and train\n",
    "three different Python-based feed-forward, back propagating neural network models using the explanatory variables chose above for each model.\n",
    "\n",
    "The code and content is referenced from: [this link](https://github.com/ageron/handson-ml2/blob/master/10_neural_nets_with_keras.ipynb) and [this link](https://towardsdatascience.com/building-our-first-neural-network-in-keras-bdc8abbc17f5#:~:text=Keras%20is%20a%20simple%20tool,20%20and%204%20dimensions%20respectively.)\n",
    "\n",
    "How to choose the activation function, what is the advantages and disadvantages of different activation function, the reference is here [this link](https://missinglink.ai/guides/neural-network-concepts/7-types-neural-network-activation-functions-right/)\n",
    "\n",
    "### 1. The first Neural Network model with activation function ='relu'\n",
    "\n",
    "Activation function: ReLU (Rectified Linear Unit)\n",
    "\n",
    "**Advantages**\n",
    "- ReLU allows the network to converge very quickly, ReLU allows for backpropagation\n",
    "\n",
    "**Disadvantages**\n",
    "\n",
    "- When inputs approach zero, the gradient of the function becomes zero, the network cannot perform backpropagation and cannot learn."
   ]
  },
  {
   "cell_type": "code",
   "execution_count": 177,
   "metadata": {},
   "outputs": [],
   "source": [
    "## Import tensorflow package\n",
    "import tensorflow as tf\n",
    "assert tf.__version__ >= \"2.0\"\n",
    "from tensorflow import keras\n",
    "import os\n",
    "import warnings\n",
    "warnings.filterwarnings(action=\"ignore\")\n",
    "# To make the output stable across runs, set a seed\n",
    "np.random.seed(42)"
   ]
  },
  {
   "cell_type": "markdown",
   "metadata": {},
   "source": [
    "In the following code:\n",
    "\n",
    "- Sequential specifies to keras manifesting I am creating model sequentially, the output of each layer is the input to the next layer.\n",
    "\n",
    "- model.add is used to add a layer to neural network. \n",
    "\n",
    "- The Dense is used to specify the fully connected layer.\n",
    "\n",
    "Because there are 4 kinds of input explanatory variables, the input dimension I set is 4.\n",
    "\n",
    "More layers, more accurate the result will be, therefore, for the first layer, I want the output layer to be 100, for the second layer I want the output layer to be 50, for the third I want the layer to be 5, because there are 5 classes - Ideal, Premium, Very Good, Good, Fair in the response attribute \"cut\"."
   ]
  },
  {
   "cell_type": "code",
   "execution_count": 791,
   "metadata": {},
   "outputs": [],
   "source": [
    "#Dependencies\n",
    "import keras\n",
    "from keras.models import Sequential\n",
    "from keras.layers import Dense\n",
    "# Neural network\n",
    "model = Sequential()\n",
    "model.add(Dense(100, input_dim=(4), activation='relu'))\n",
    "model.add(Dense(50, activation='relu'))\n",
    "model.add(Dense(5, activation='relu'))"
   ]
  },
  {
   "cell_type": "markdown",
   "metadata": {},
   "source": [
    "Specifying the loss function and the optimizer is from compile function in keras.\n",
    "\n",
    "How to choose the optimizer function? According to [this link](https://ruder.io/optimizing-gradient-descent/):\n",
    "\n",
    "\"the adaptive learning-rate methods, i.e. Adagrad, Adadelta, RMSprop, and Adam are most suitable and provide the best convergence\"\n",
    "\n",
    "\"bias-correction helps Adam slightly outperform RMSprop towards the end of optimization as gradients become sparser. Insofar, Adam might be the best overall choice.\"\n",
    "\n",
    "Therefore, I will use Adam to be my optimizer function:"
   ]
  },
  {
   "cell_type": "code",
   "execution_count": 792,
   "metadata": {},
   "outputs": [],
   "source": [
    "model.compile(loss='categorical_crossentropy', optimizer='adam', metrics=['accuracy'])"
   ]
  },
  {
   "cell_type": "markdown",
   "metadata": {},
   "source": [
    "- Categorical_crossentropy specifies that I have multiple classes.\n",
    "\n",
    "- The optimizer is Adam. \n",
    "\n",
    "- The metrics here used is accuracy"
   ]
  },
  {
   "cell_type": "markdown",
   "metadata": {},
   "source": [
    "### Training model"
   ]
  },
  {
   "cell_type": "markdown",
   "metadata": {},
   "source": [
    "Reference from [this link](https://machinelearningmastery.com/how-to-control-the-speed-and-stability-of-training-neural-networks-with-gradient-descent-batch-size/)\n",
    "\"Neural networks are trained using the stochastic gradient descent optimization algorithm. The more training examples used in the estimate, the more accurate this estimate will be and the more likely that the weights of the network will be adjusted in a way that will improve the performance of the model.\"\n",
    "\n",
    "Therefore, for training the model, I will set the number of training examples as many as possible, such like 90% of the data are training samples, 10% of the data are testing samples:"
   ]
  },
  {
   "cell_type": "code",
   "execution_count": 797,
   "metadata": {},
   "outputs": [],
   "source": [
    "X = diamondd[['depth','price','y','z']].values\n",
    "y = diamondd['cut'].values\n",
    "# Partition data into training and test sets\n",
    "from sklearn.model_selection import train_test_split\n",
    "\n",
    "X_train, X_test, y_train, y_test = train_test_split(X, y, test_size=0.1, \n",
    "                                  random_state=0, stratify=y)\n",
    "y_train = keras.utils.to_categorical(y_train, 5)"
   ]
  },
  {
   "cell_type": "markdown",
   "metadata": {},
   "source": [
    "[This paper](https://arxiv.org/abs/1609.04836) says having large batch would reduce the generalization ability of the model, therefore, I would choose batch_size as small as possible.\n",
    "\n",
    "How to set epochs and batch_size? \n",
    "According to [this link](https://machinelearningmastery.com/difference-between-a-batch-and-an-epoch/) and [this link](https://machinelearningmastery.com/how-to-control-the-speed-and-stability-of-training-neural-networks-with-gradient-descent-batch-size/)\n",
    "\n",
    "The batch size is a hyperparameter of gradient descent that controls the number of training samples to work through before the model’s internal parameters are updated.\n",
    "\n",
    "- Batch Gradient Descent. Batch Size = Size of Training Set\n",
    "- Stochastic Gradient Descent. Batch Size = 1\n",
    "- Mini-Batch Gradient Descent. 1 < Batch Size < Size of Training Set\n",
    "\n",
    "The number of epochs is a hyperparameter of gradient descent that controls the number of complete passes through the training dataset.\n",
    "\n",
    "I will train the model using three different batches: Batch Gradient Descent, Stochastic Gradient Descent, Mini-Batch Gradient Descent, using the same number of epoch number, to see which one gives the highest accuracy \n",
    "\n",
    "#### 1. Stochastic Gradient Descent in Keras"
   ]
  },
  {
   "cell_type": "code",
   "execution_count": 798,
   "metadata": {},
   "outputs": [
    {
     "name": "stdout",
     "output_type": "stream",
     "text": [
      "Epoch 1/100\n",
      "48528/48528 [==============================] - 79s 2ms/step - loss: 11.8169 - accuracy: 0.2668\n",
      "Epoch 2/100\n",
      "48528/48528 [==============================] - 81s 2ms/step - loss: 9.6769 - accuracy: 0.3996\n",
      "Epoch 3/100\n",
      "48528/48528 [==============================] - 79s 2ms/step - loss: 9.6769 - accuracy: 0.3996\n",
      "Epoch 4/100\n",
      "48528/48528 [==============================] - 82s 2ms/step - loss: 9.6769 - accuracy: 0.3996\n",
      "Epoch 5/100\n",
      "48528/48528 [==============================] - 88s 2ms/step - loss: 9.6769 - accuracy: 0.3996\n",
      "Epoch 6/100\n",
      "48528/48528 [==============================] - 95s 2ms/step - loss: 9.6769 - accuracy: 0.3996\n",
      "Epoch 7/100\n",
      "48528/48528 [==============================] - 104s 2ms/step - loss: 9.6769 - accuracy: 0.3996\n",
      "Epoch 8/100\n",
      "48528/48528 [==============================] - 109s 2ms/step - loss: 9.6769 - accuracy: 0.3996\n",
      "Epoch 9/100\n",
      "48528/48528 [==============================] - 111s 2ms/step - loss: 9.6769 - accuracy: 0.3996\n",
      "Epoch 10/100\n",
      "48528/48528 [==============================] - 119s 2ms/step - loss: 9.6769 - accuracy: 0.3996\n",
      "Epoch 11/100\n",
      "48528/48528 [==============================] - 121s 2ms/step - loss: 9.6769 - accuracy: 0.3996\n",
      "Epoch 12/100\n",
      "48528/48528 [==============================] - 122s 3ms/step - loss: 9.6769 - accuracy: 0.3996\n",
      "Epoch 13/100\n",
      "48528/48528 [==============================] - 120s 2ms/step - loss: 9.6769 - accuracy: 0.3996\n",
      "Epoch 14/100\n",
      "48528/48528 [==============================] - 120s 2ms/step - loss: 9.6769 - accuracy: 0.3996\n",
      "Epoch 15/100\n",
      "48528/48528 [==============================] - 119s 2ms/step - loss: 9.6769 - accuracy: 0.3996\n",
      "Epoch 16/100\n",
      "48528/48528 [==============================] - 124s 3ms/step - loss: 9.6769 - accuracy: 0.3996\n",
      "Epoch 17/100\n",
      "48528/48528 [==============================] - 120s 2ms/step - loss: 9.6769 - accuracy: 0.3996\n",
      "Epoch 18/100\n",
      "48528/48528 [==============================] - 113s 2ms/step - loss: 9.6769 - accuracy: 0.3996\n",
      "Epoch 19/100\n",
      "48528/48528 [==============================] - 109s 2ms/step - loss: 9.6769 - accuracy: 0.3996\n",
      "Epoch 20/100\n",
      "48528/48528 [==============================] - 90s 2ms/step - loss: 9.6769 - accuracy: 0.3996\n",
      "Epoch 21/100\n",
      "48528/48528 [==============================] - 88s 2ms/step - loss: 9.6769 - accuracy: 0.3996\n",
      "Epoch 22/100\n",
      "48528/48528 [==============================] - 92s 2ms/step - loss: 9.6769 - accuracy: 0.3996\n",
      "Epoch 23/100\n",
      "48528/48528 [==============================] - 86s 2ms/step - loss: 9.6769 - accuracy: 0.3996\n",
      "Epoch 24/100\n",
      "48528/48528 [==============================] - 95s 2ms/step - loss: 9.6769 - accuracy: 0.3996\n",
      "Epoch 25/100\n",
      "48528/48528 [==============================] - 96s 2ms/step - loss: 9.6769 - accuracy: 0.3996\n",
      "Epoch 26/100\n",
      "48528/48528 [==============================] - 95s 2ms/step - loss: 9.6769 - accuracy: 0.3996\n",
      "Epoch 27/100\n",
      "48528/48528 [==============================] - 81s 2ms/step - loss: 9.6769 - accuracy: 0.3996\n",
      "Epoch 28/100\n",
      "48528/48528 [==============================] - 83s 2ms/step - loss: 9.6769 - accuracy: 0.3996\n",
      "Epoch 29/100\n",
      "48528/48528 [==============================] - 84s 2ms/step - loss: 9.6769 - accuracy: 0.3996\n",
      "Epoch 30/100\n",
      "48528/48528 [==============================] - 85s 2ms/step - loss: 9.6769 - accuracy: 0.3996\n",
      "Epoch 31/100\n",
      "48528/48528 [==============================] - 87s 2ms/step - loss: 9.6769 - accuracy: 0.3996\n",
      "Epoch 32/100\n",
      "48528/48528 [==============================] - 88s 2ms/step - loss: 9.6769 - accuracy: 0.3996\n",
      "Epoch 33/100\n",
      "48528/48528 [==============================] - 90s 2ms/step - loss: 9.6769 - accuracy: 0.3996\n",
      "Epoch 34/100\n",
      "48528/48528 [==============================] - 90s 2ms/step - loss: 9.6769 - accuracy: 0.3996\n",
      "Epoch 35/100\n",
      "48528/48528 [==============================] - 89s 2ms/step - loss: 9.6769 - accuracy: 0.3996\n",
      "Epoch 36/100\n",
      "48528/48528 [==============================] - 89s 2ms/step - loss: 9.6769 - accuracy: 0.3996\n",
      "Epoch 37/100\n",
      "48528/48528 [==============================] - 94s 2ms/step - loss: 9.6769 - accuracy: 0.3996\n",
      "Epoch 38/100\n",
      "48528/48528 [==============================] - 99s 2ms/step - loss: 9.6769 - accuracy: 0.3996\n",
      "Epoch 39/100\n",
      "48528/48528 [==============================] - 93s 2ms/step - loss: 9.6769 - accuracy: 0.3996\n",
      "Epoch 40/100\n",
      "48528/48528 [==============================] - 91s 2ms/step - loss: 9.6769 - accuracy: 0.3996\n",
      "Epoch 41/100\n",
      "48528/48528 [==============================] - 91s 2ms/step - loss: 9.6769 - accuracy: 0.3996\n",
      "Epoch 42/100\n",
      "48528/48528 [==============================] - 89s 2ms/step - loss: 9.6769 - accuracy: 0.3996\n",
      "Epoch 43/100\n",
      "48528/48528 [==============================] - 92s 2ms/step - loss: 9.6769 - accuracy: 0.3996\n",
      "Epoch 44/100\n",
      "48528/48528 [==============================] - 85s 2ms/step - loss: 9.6769 - accuracy: 0.3996\n",
      "Epoch 45/100\n",
      "48528/48528 [==============================] - 86s 2ms/step - loss: 9.6769 - accuracy: 0.3996\n",
      "Epoch 46/100\n",
      "48528/48528 [==============================] - 91s 2ms/step - loss: 9.6769 - accuracy: 0.3996\n",
      "Epoch 47/100\n",
      "48528/48528 [==============================] - 93s 2ms/step - loss: 9.6769 - accuracy: 0.3996\n",
      "Epoch 48/100\n",
      "48528/48528 [==============================] - 97s 2ms/step - loss: 9.6769 - accuracy: 0.3996\n",
      "Epoch 49/100\n",
      "48528/48528 [==============================] - 92s 2ms/step - loss: 9.6769 - accuracy: 0.3996\n",
      "Epoch 50/100\n",
      "48528/48528 [==============================] - 98s 2ms/step - loss: 9.6769 - accuracy: 0.3996\n",
      "Epoch 51/100\n",
      "48528/48528 [==============================] - 93s 2ms/step - loss: 9.6769 - accuracy: 0.3996\n",
      "Epoch 52/100\n",
      "48528/48528 [==============================] - 93s 2ms/step - loss: 9.6769 - accuracy: 0.3996\n",
      "Epoch 53/100\n",
      "48528/48528 [==============================] - 97s 2ms/step - loss: 9.6769 - accuracy: 0.3996\n",
      "Epoch 54/100\n",
      "48528/48528 [==============================] - 95s 2ms/step - loss: 9.6769 - accuracy: 0.3996\n",
      "Epoch 55/100\n",
      "48528/48528 [==============================] - 96s 2ms/step - loss: 9.6769 - accuracy: 0.3996\n",
      "Epoch 56/100\n",
      "48528/48528 [==============================] - 97s 2ms/step - loss: 9.6769 - accuracy: 0.3996\n",
      "Epoch 57/100\n",
      "48528/48528 [==============================] - 95s 2ms/step - loss: 9.6769 - accuracy: 0.3996\n",
      "Epoch 58/100\n",
      "48528/48528 [==============================] - 95s 2ms/step - loss: 9.6769 - accuracy: 0.3996\n",
      "Epoch 59/100\n",
      "48528/48528 [==============================] - 94s 2ms/step - loss: 9.6769 - accuracy: 0.3996\n",
      "Epoch 60/100\n",
      "48528/48528 [==============================] - 94s 2ms/step - loss: 9.6769 - accuracy: 0.3996\n",
      "Epoch 61/100\n",
      "48528/48528 [==============================] - 96s 2ms/step - loss: 9.6769 - accuracy: 0.3996\n",
      "Epoch 62/100\n",
      "48528/48528 [==============================] - 94s 2ms/step - loss: 9.6769 - accuracy: 0.3996\n",
      "Epoch 63/100\n",
      "48528/48528 [==============================] - 86s 2ms/step - loss: 9.6769 - accuracy: 0.3996\n",
      "Epoch 64/100\n",
      "48528/48528 [==============================] - 87s 2ms/step - loss: 9.6769 - accuracy: 0.3996\n",
      "Epoch 65/100\n",
      "48528/48528 [==============================] - 90s 2ms/step - loss: 9.6769 - accuracy: 0.3996\n",
      "Epoch 66/100\n",
      "48528/48528 [==============================] - 85s 2ms/step - loss: 9.6769 - accuracy: 0.3996\n",
      "Epoch 67/100\n",
      "48528/48528 [==============================] - 94s 2ms/step - loss: 9.6769 - accuracy: 0.3996\n",
      "Epoch 68/100\n",
      "48528/48528 [==============================] - 95s 2ms/step - loss: 9.6769 - accuracy: 0.3996\n",
      "Epoch 69/100\n",
      "48528/48528 [==============================] - 91s 2ms/step - loss: 9.6769 - accuracy: 0.3996\n",
      "Epoch 70/100\n",
      "48528/48528 [==============================] - 86s 2ms/step - loss: 9.6769 - accuracy: 0.3996\n",
      "Epoch 71/100\n",
      "48528/48528 [==============================] - 89s 2ms/step - loss: 9.6769 - accuracy: 0.3996\n",
      "Epoch 72/100\n",
      "48528/48528 [==============================] - 89s 2ms/step - loss: 9.6769 - accuracy: 0.3996\n",
      "Epoch 73/100\n",
      "48528/48528 [==============================] - 97s 2ms/step - loss: 9.6769 - accuracy: 0.3996\n",
      "Epoch 74/100\n",
      "48528/48528 [==============================] - 94s 2ms/step - loss: 9.6769 - accuracy: 0.3996\n",
      "Epoch 75/100\n",
      "48528/48528 [==============================] - 94s 2ms/step - loss: 9.6769 - accuracy: 0.3996\n",
      "Epoch 76/100\n",
      "48528/48528 [==============================] - 95s 2ms/step - loss: 9.6769 - accuracy: 0.3996\n",
      "Epoch 77/100\n",
      "48528/48528 [==============================] - 95s 2ms/step - loss: 9.6769 - accuracy: 0.3996\n",
      "Epoch 78/100\n",
      "48528/48528 [==============================] - 94s 2ms/step - loss: 9.6769 - accuracy: 0.3996\n",
      "Epoch 79/100\n",
      "48528/48528 [==============================] - 95s 2ms/step - loss: 9.6769 - accuracy: 0.3996\n",
      "Epoch 80/100\n",
      "48528/48528 [==============================] - 92s 2ms/step - loss: 9.6769 - accuracy: 0.3996\n",
      "Epoch 81/100\n",
      "48528/48528 [==============================] - 95s 2ms/step - loss: 9.6769 - accuracy: 0.3996\n",
      "Epoch 82/100\n",
      "48528/48528 [==============================] - 95s 2ms/step - loss: 9.6769 - accuracy: 0.3996\n",
      "Epoch 83/100\n",
      "48528/48528 [==============================] - 94s 2ms/step - loss: 9.6769 - accuracy: 0.3996\n",
      "Epoch 84/100\n",
      "48528/48528 [==============================] - 94s 2ms/step - loss: 9.6769 - accuracy: 0.3996\n",
      "Epoch 85/100\n",
      "48528/48528 [==============================] - 98s 2ms/step - loss: 9.6769 - accuracy: 0.3996\n",
      "Epoch 86/100\n",
      "48528/48528 [==============================] - 101s 2ms/step - loss: 9.6769 - accuracy: 0.3996\n",
      "Epoch 87/100\n",
      "48528/48528 [==============================] - 95s 2ms/step - loss: 9.6769 - accuracy: 0.3996\n",
      "Epoch 88/100\n",
      "48528/48528 [==============================] - 88s 2ms/step - loss: 9.6769 - accuracy: 0.3996\n",
      "Epoch 89/100\n",
      "48528/48528 [==============================] - 92s 2ms/step - loss: 9.6769 - accuracy: 0.3996\n",
      "Epoch 90/100\n",
      "48528/48528 [==============================] - 92s 2ms/step - loss: 9.6769 - accuracy: 0.3996\n",
      "Epoch 91/100\n",
      "48528/48528 [==============================] - 87s 2ms/step - loss: 9.6769 - accuracy: 0.3996\n",
      "Epoch 92/100\n",
      "48528/48528 [==============================] - 90s 2ms/step - loss: 9.6769 - accuracy: 0.3996\n",
      "Epoch 93/100\n",
      "48528/48528 [==============================] - 93s 2ms/step - loss: 9.6769 - accuracy: 0.3996\n",
      "Epoch 94/100\n",
      "48528/48528 [==============================] - 87s 2ms/step - loss: 9.6769 - accuracy: 0.3996\n",
      "Epoch 95/100\n",
      "48528/48528 [==============================] - 87s 2ms/step - loss: 9.6769 - accuracy: 0.3996\n",
      "Epoch 96/100\n",
      "48528/48528 [==============================] - 88s 2ms/step - loss: 9.6769 - accuracy: 0.3996\n",
      "Epoch 97/100\n",
      "48528/48528 [==============================] - 85s 2ms/step - loss: 9.6769 - accuracy: 0.3996\n",
      "Epoch 98/100\n",
      "48528/48528 [==============================] - 87s 2ms/step - loss: 9.6769 - accuracy: 0.3996\n",
      "Epoch 99/100\n",
      "48528/48528 [==============================] - 87s 2ms/step - loss: 9.6769 - accuracy: 0.3996\n",
      "Epoch 100/100\n",
      "48528/48528 [==============================] - 89s 2ms/step - loss: 9.6769 - accuracy: 0.3996\n"
     ]
    }
   ],
   "source": [
    "history = model.fit(X_train, y_train, epochs=100, batch_size=1)"
   ]
  },
  {
   "cell_type": "markdown",
   "metadata": {},
   "source": [
    "The entire process of training the neural network and evaluation of batch size of 1 took less than 90 seconds with each epoch to complete."
   ]
  },
  {
   "cell_type": "markdown",
   "metadata": {},
   "source": [
    "#### 2. Batch Gradient Descent in Keras"
   ]
  },
  {
   "cell_type": "code",
   "execution_count": 799,
   "metadata": {},
   "outputs": [
    {
     "name": "stdout",
     "output_type": "stream",
     "text": [
      "Epoch 1/100\n",
      "48528/48528 [==============================] - 0s 1us/step - loss: 9.6769 - accuracy: 0.3996\n",
      "Epoch 2/100\n",
      "48528/48528 [==============================] - 0s 1us/step - loss: 9.6769 - accuracy: 0.3996\n",
      "Epoch 3/100\n",
      "48528/48528 [==============================] - 0s 1us/step - loss: 9.6769 - accuracy: 0.3996\n",
      "Epoch 4/100\n",
      "48528/48528 [==============================] - 0s 1us/step - loss: 9.6769 - accuracy: 0.3996\n",
      "Epoch 5/100\n",
      "48528/48528 [==============================] - 0s 1us/step - loss: 9.6769 - accuracy: 0.3996\n",
      "Epoch 6/100\n",
      "48528/48528 [==============================] - 0s 1us/step - loss: 9.6769 - accuracy: 0.3996\n",
      "Epoch 7/100\n",
      "48528/48528 [==============================] - 0s 1us/step - loss: 9.6769 - accuracy: 0.3996\n",
      "Epoch 8/100\n",
      "48528/48528 [==============================] - 0s 1us/step - loss: 9.6769 - accuracy: 0.3996\n",
      "Epoch 9/100\n",
      "48528/48528 [==============================] - 0s 1us/step - loss: 9.6769 - accuracy: 0.3996\n",
      "Epoch 10/100\n",
      "48528/48528 [==============================] - 0s 1us/step - loss: 9.6769 - accuracy: 0.3996\n",
      "Epoch 11/100\n",
      "48528/48528 [==============================] - 0s 1us/step - loss: 9.6769 - accuracy: 0.3996\n",
      "Epoch 12/100\n",
      "48528/48528 [==============================] - 0s 1us/step - loss: 9.6769 - accuracy: 0.3996\n",
      "Epoch 13/100\n",
      "48528/48528 [==============================] - 0s 1us/step - loss: 9.6769 - accuracy: 0.3996\n",
      "Epoch 14/100\n",
      "48528/48528 [==============================] - 0s 1us/step - loss: 9.6769 - accuracy: 0.3996\n",
      "Epoch 15/100\n",
      "48528/48528 [==============================] - 0s 1us/step - loss: 9.6769 - accuracy: 0.3996\n",
      "Epoch 16/100\n",
      "48528/48528 [==============================] - 0s 1us/step - loss: 9.6769 - accuracy: 0.3996\n",
      "Epoch 17/100\n",
      "48528/48528 [==============================] - 0s 1us/step - loss: 9.6769 - accuracy: 0.3996\n",
      "Epoch 18/100\n",
      "48528/48528 [==============================] - 0s 1us/step - loss: 9.6769 - accuracy: 0.3996\n",
      "Epoch 19/100\n",
      "48528/48528 [==============================] - 0s 1us/step - loss: 9.6769 - accuracy: 0.3996\n",
      "Epoch 20/100\n",
      "48528/48528 [==============================] - 0s 1us/step - loss: 9.6769 - accuracy: 0.3996\n",
      "Epoch 21/100\n",
      "48528/48528 [==============================] - 0s 1us/step - loss: 9.6769 - accuracy: 0.3996\n",
      "Epoch 22/100\n",
      "48528/48528 [==============================] - 0s 1us/step - loss: 9.6769 - accuracy: 0.3996\n",
      "Epoch 23/100\n",
      "48528/48528 [==============================] - 0s 1us/step - loss: 9.6769 - accuracy: 0.3996\n",
      "Epoch 24/100\n",
      "48528/48528 [==============================] - 0s 2us/step - loss: 9.6769 - accuracy: 0.3996\n",
      "Epoch 25/100\n",
      "48528/48528 [==============================] - 0s 1us/step - loss: 9.6769 - accuracy: 0.3996\n",
      "Epoch 26/100\n",
      "48528/48528 [==============================] - 0s 1us/step - loss: 9.6769 - accuracy: 0.3996\n",
      "Epoch 27/100\n",
      "48528/48528 [==============================] - 0s 1us/step - loss: 9.6769 - accuracy: 0.3996\n",
      "Epoch 28/100\n",
      "48528/48528 [==============================] - 0s 1us/step - loss: 9.6769 - accuracy: 0.3996\n",
      "Epoch 29/100\n",
      "48528/48528 [==============================] - 0s 1us/step - loss: 9.6769 - accuracy: 0.3996\n",
      "Epoch 30/100\n",
      "48528/48528 [==============================] - 0s 1us/step - loss: 9.6769 - accuracy: 0.3996\n",
      "Epoch 31/100\n",
      "48528/48528 [==============================] - 0s 1us/step - loss: 9.6769 - accuracy: 0.3996\n",
      "Epoch 32/100\n",
      "48528/48528 [==============================] - 0s 1us/step - loss: 9.6769 - accuracy: 0.3996\n",
      "Epoch 33/100\n",
      "48528/48528 [==============================] - 0s 1us/step - loss: 9.6769 - accuracy: 0.3996\n",
      "Epoch 34/100\n",
      "48528/48528 [==============================] - 0s 1us/step - loss: 9.6769 - accuracy: 0.3996\n",
      "Epoch 35/100\n",
      "48528/48528 [==============================] - 0s 1us/step - loss: 9.6769 - accuracy: 0.3996\n",
      "Epoch 36/100\n",
      "48528/48528 [==============================] - 0s 1us/step - loss: 9.6769 - accuracy: 0.3996\n",
      "Epoch 37/100\n",
      "48528/48528 [==============================] - 0s 1us/step - loss: 9.6769 - accuracy: 0.3996\n",
      "Epoch 38/100\n",
      "48528/48528 [==============================] - 0s 1us/step - loss: 9.6769 - accuracy: 0.3996\n",
      "Epoch 39/100\n",
      "48528/48528 [==============================] - 0s 1us/step - loss: 9.6769 - accuracy: 0.3996\n",
      "Epoch 40/100\n",
      "48528/48528 [==============================] - 0s 1us/step - loss: 9.6769 - accuracy: 0.3996\n",
      "Epoch 41/100\n",
      "48528/48528 [==============================] - 0s 1us/step - loss: 9.6769 - accuracy: 0.3996\n",
      "Epoch 42/100\n",
      "48528/48528 [==============================] - 0s 1us/step - loss: 9.6769 - accuracy: 0.3996\n",
      "Epoch 43/100\n",
      "48528/48528 [==============================] - 0s 1us/step - loss: 9.6769 - accuracy: 0.3996\n",
      "Epoch 44/100\n",
      "48528/48528 [==============================] - 0s 1us/step - loss: 9.6769 - accuracy: 0.3996\n",
      "Epoch 45/100\n",
      "48528/48528 [==============================] - 0s 1us/step - loss: 9.6769 - accuracy: 0.3996\n",
      "Epoch 46/100\n",
      "48528/48528 [==============================] - 0s 1us/step - loss: 9.6769 - accuracy: 0.3996\n",
      "Epoch 47/100\n",
      "48528/48528 [==============================] - 0s 1us/step - loss: 9.6769 - accuracy: 0.3996\n",
      "Epoch 48/100\n",
      "48528/48528 [==============================] - 0s 1us/step - loss: 9.6769 - accuracy: 0.3996\n",
      "Epoch 49/100\n",
      "48528/48528 [==============================] - 0s 1us/step - loss: 9.6769 - accuracy: 0.3996\n",
      "Epoch 50/100\n",
      "48528/48528 [==============================] - 0s 1us/step - loss: 9.6769 - accuracy: 0.3996\n",
      "Epoch 51/100\n",
      "48528/48528 [==============================] - 0s 1us/step - loss: 9.6769 - accuracy: 0.3996\n",
      "Epoch 52/100\n",
      "48528/48528 [==============================] - 0s 1us/step - loss: 9.6769 - accuracy: 0.3996\n",
      "Epoch 53/100\n",
      "48528/48528 [==============================] - 0s 1us/step - loss: 9.6769 - accuracy: 0.3996\n",
      "Epoch 54/100\n",
      "48528/48528 [==============================] - 0s 1us/step - loss: 9.6769 - accuracy: 0.3996\n",
      "Epoch 55/100\n",
      "48528/48528 [==============================] - 0s 1us/step - loss: 9.6769 - accuracy: 0.3996\n",
      "Epoch 56/100\n",
      "48528/48528 [==============================] - 0s 1us/step - loss: 9.6769 - accuracy: 0.3996\n",
      "Epoch 57/100\n",
      "48528/48528 [==============================] - 0s 1us/step - loss: 9.6769 - accuracy: 0.3996\n",
      "Epoch 58/100\n",
      "48528/48528 [==============================] - 0s 1us/step - loss: 9.6769 - accuracy: 0.3996\n",
      "Epoch 59/100\n",
      "48528/48528 [==============================] - 0s 1us/step - loss: 9.6769 - accuracy: 0.3996\n",
      "Epoch 60/100\n",
      "48528/48528 [==============================] - 0s 1us/step - loss: 9.6769 - accuracy: 0.3996\n",
      "Epoch 61/100\n",
      "48528/48528 [==============================] - 0s 1us/step - loss: 9.6769 - accuracy: 0.3996\n",
      "Epoch 62/100\n",
      "48528/48528 [==============================] - 0s 1us/step - loss: 9.6769 - accuracy: 0.3996\n",
      "Epoch 63/100\n",
      "48528/48528 [==============================] - 0s 1us/step - loss: 9.6769 - accuracy: 0.3996\n",
      "Epoch 64/100\n",
      "48528/48528 [==============================] - 0s 1us/step - loss: 9.6769 - accuracy: 0.3996\n",
      "Epoch 65/100\n",
      "48528/48528 [==============================] - 0s 1us/step - loss: 9.6769 - accuracy: 0.3996\n",
      "Epoch 66/100\n",
      "48528/48528 [==============================] - 0s 1us/step - loss: 9.6769 - accuracy: 0.3996\n",
      "Epoch 67/100\n",
      "48528/48528 [==============================] - 0s 1us/step - loss: 9.6769 - accuracy: 0.3996\n",
      "Epoch 68/100\n",
      "48528/48528 [==============================] - 0s 1us/step - loss: 9.6769 - accuracy: 0.3996\n",
      "Epoch 69/100\n",
      "48528/48528 [==============================] - 0s 1us/step - loss: 9.6769 - accuracy: 0.3996\n",
      "Epoch 70/100\n",
      "48528/48528 [==============================] - 0s 1us/step - loss: 9.6769 - accuracy: 0.3996\n",
      "Epoch 71/100\n",
      "48528/48528 [==============================] - 0s 1us/step - loss: 9.6769 - accuracy: 0.3996\n",
      "Epoch 72/100\n",
      "48528/48528 [==============================] - 0s 1us/step - loss: 9.6769 - accuracy: 0.3996\n",
      "Epoch 73/100\n",
      "48528/48528 [==============================] - 0s 1us/step - loss: 9.6769 - accuracy: 0.3996\n",
      "Epoch 74/100\n",
      "48528/48528 [==============================] - 0s 1us/step - loss: 9.6769 - accuracy: 0.3996\n",
      "Epoch 75/100\n",
      "48528/48528 [==============================] - 0s 1us/step - loss: 9.6769 - accuracy: 0.3996\n",
      "Epoch 76/100\n",
      "48528/48528 [==============================] - 0s 1us/step - loss: 9.6769 - accuracy: 0.3996\n",
      "Epoch 77/100\n",
      "48528/48528 [==============================] - 0s 1us/step - loss: 9.6769 - accuracy: 0.3996\n",
      "Epoch 78/100\n",
      "48528/48528 [==============================] - 0s 1us/step - loss: 9.6769 - accuracy: 0.3996\n"
     ]
    },
    {
     "name": "stdout",
     "output_type": "stream",
     "text": [
      "Epoch 79/100\n",
      "48528/48528 [==============================] - 0s 1us/step - loss: 9.6769 - accuracy: 0.3996\n",
      "Epoch 80/100\n",
      "48528/48528 [==============================] - 0s 1us/step - loss: 9.6769 - accuracy: 0.3996\n",
      "Epoch 81/100\n",
      "48528/48528 [==============================] - 0s 1us/step - loss: 9.6769 - accuracy: 0.3996\n",
      "Epoch 82/100\n",
      "48528/48528 [==============================] - 0s 1us/step - loss: 9.6769 - accuracy: 0.3996\n",
      "Epoch 83/100\n",
      "48528/48528 [==============================] - 0s 1us/step - loss: 9.6769 - accuracy: 0.3996\n",
      "Epoch 84/100\n",
      "48528/48528 [==============================] - 0s 1us/step - loss: 9.6769 - accuracy: 0.3996\n",
      "Epoch 85/100\n",
      "48528/48528 [==============================] - 0s 1us/step - loss: 9.6769 - accuracy: 0.3996\n",
      "Epoch 86/100\n",
      "48528/48528 [==============================] - 0s 1us/step - loss: 9.6769 - accuracy: 0.3996\n",
      "Epoch 87/100\n",
      "48528/48528 [==============================] - 0s 1us/step - loss: 9.6769 - accuracy: 0.3996\n",
      "Epoch 88/100\n",
      "48528/48528 [==============================] - 0s 1us/step - loss: 9.6769 - accuracy: 0.3996\n",
      "Epoch 89/100\n",
      "48528/48528 [==============================] - 0s 1us/step - loss: 9.6769 - accuracy: 0.3996\n",
      "Epoch 90/100\n",
      "48528/48528 [==============================] - 0s 1us/step - loss: 9.6769 - accuracy: 0.3996\n",
      "Epoch 91/100\n",
      "48528/48528 [==============================] - 0s 1us/step - loss: 9.6769 - accuracy: 0.3996\n",
      "Epoch 92/100\n",
      "48528/48528 [==============================] - 0s 1us/step - loss: 9.6769 - accuracy: 0.3996\n",
      "Epoch 93/100\n",
      "48528/48528 [==============================] - 0s 1us/step - loss: 9.6769 - accuracy: 0.3996\n",
      "Epoch 94/100\n",
      "48528/48528 [==============================] - 0s 1us/step - loss: 9.6769 - accuracy: 0.3996\n",
      "Epoch 95/100\n",
      "48528/48528 [==============================] - 0s 1us/step - loss: 9.6769 - accuracy: 0.3996\n",
      "Epoch 96/100\n",
      "48528/48528 [==============================] - 0s 1us/step - loss: 9.6769 - accuracy: 0.3996\n",
      "Epoch 97/100\n",
      "48528/48528 [==============================] - 0s 1us/step - loss: 9.6769 - accuracy: 0.3996\n",
      "Epoch 98/100\n",
      "48528/48528 [==============================] - 0s 1us/step - loss: 9.6769 - accuracy: 0.3996\n",
      "Epoch 99/100\n",
      "48528/48528 [==============================] - 0s 1us/step - loss: 9.6769 - accuracy: 0.3996\n",
      "Epoch 100/100\n",
      "48528/48528 [==============================] - 0s 1us/step - loss: 9.6769 - accuracy: 0.3996\n"
     ]
    }
   ],
   "source": [
    "history = model.fit(X_train, y_train, epochs=100, batch_size=len(X_train))"
   ]
  },
  {
   "cell_type": "markdown",
   "metadata": {},
   "source": [
    "The entire process of training the neural network and evaluation of batch size of total example took less than 1 seconds with each epoch to complete."
   ]
  },
  {
   "cell_type": "markdown",
   "metadata": {},
   "source": [
    "#### 3. Minibatch Gradient Descent in Keras\n",
    "\n",
    "Since the shape of X_train is (48528,4), I would choose the mini batch size as a number which could be divided by 48528, such as 16."
   ]
  },
  {
   "cell_type": "code",
   "execution_count": 802,
   "metadata": {},
   "outputs": [
    {
     "name": "stdout",
     "output_type": "stream",
     "text": [
      "Epoch 1/100\n",
      "48528/48528 [==============================] - 6s 115us/step - loss: 9.6769 - accuracy: 0.3996\n",
      "Epoch 2/100\n",
      "48528/48528 [==============================] - 6s 118us/step - loss: 9.6769 - accuracy: 0.3996\n",
      "Epoch 3/100\n",
      "48528/48528 [==============================] - 6s 119us/step - loss: 9.6769 - accuracy: 0.3996\n",
      "Epoch 4/100\n",
      "48528/48528 [==============================] - 6s 118us/step - loss: 9.6769 - accuracy: 0.3996\n",
      "Epoch 5/100\n",
      "48528/48528 [==============================] - 6s 117us/step - loss: 9.6769 - accuracy: 0.3996\n",
      "Epoch 6/100\n",
      "48528/48528 [==============================] - 6s 118us/step - loss: 9.6769 - accuracy: 0.3996\n",
      "Epoch 7/100\n",
      "48528/48528 [==============================] - 6s 117us/step - loss: 9.6769 - accuracy: 0.3996\n",
      "Epoch 8/100\n",
      "48528/48528 [==============================] - 6s 119us/step - loss: 9.6769 - accuracy: 0.3996\n",
      "Epoch 9/100\n",
      "48528/48528 [==============================] - 6s 119us/step - loss: 9.6769 - accuracy: 0.3996\n",
      "Epoch 10/100\n",
      "48528/48528 [==============================] - 6s 123us/step - loss: 9.6769 - accuracy: 0.3996\n",
      "Epoch 11/100\n",
      "48528/48528 [==============================] - 6s 129us/step - loss: 9.6769 - accuracy: 0.3996\n",
      "Epoch 12/100\n",
      "48528/48528 [==============================] - 6s 127us/step - loss: 9.6769 - accuracy: 0.3996\n",
      "Epoch 13/100\n",
      "48528/48528 [==============================] - 7s 135us/step - loss: 9.6769 - accuracy: 0.3996\n",
      "Epoch 14/100\n",
      "48528/48528 [==============================] - 6s 130us/step - loss: 9.6769 - accuracy: 0.3996\n",
      "Epoch 15/100\n",
      "48528/48528 [==============================] - 6s 127us/step - loss: 9.6769 - accuracy: 0.3996\n",
      "Epoch 16/100\n",
      "48528/48528 [==============================] - 6s 127us/step - loss: 9.6769 - accuracy: 0.3996\n",
      "Epoch 17/100\n",
      "48528/48528 [==============================] - 6s 127us/step - loss: 9.6769 - accuracy: 0.3996\n",
      "Epoch 18/100\n",
      "48528/48528 [==============================] - 6s 127us/step - loss: 9.6769 - accuracy: 0.3996\n",
      "Epoch 19/100\n",
      "48528/48528 [==============================] - 6s 127us/step - loss: 9.6769 - accuracy: 0.3996\n",
      "Epoch 20/100\n",
      "48528/48528 [==============================] - 6s 124us/step - loss: 9.6769 - accuracy: 0.3996\n",
      "Epoch 21/100\n",
      "48528/48528 [==============================] - 6s 123us/step - loss: 9.6769 - accuracy: 0.3996\n",
      "Epoch 22/100\n",
      "48528/48528 [==============================] - 6s 125us/step - loss: 9.6769 - accuracy: 0.3996\n",
      "Epoch 23/100\n",
      "48528/48528 [==============================] - 6s 124us/step - loss: 9.6769 - accuracy: 0.3996\n",
      "Epoch 24/100\n",
      "48528/48528 [==============================] - 6s 123us/step - loss: 9.6769 - accuracy: 0.3996\n",
      "Epoch 25/100\n",
      "48528/48528 [==============================] - 6s 123us/step - loss: 9.6769 - accuracy: 0.3996\n",
      "Epoch 26/100\n",
      "48528/48528 [==============================] - 6s 122us/step - loss: 9.6769 - accuracy: 0.3996\n",
      "Epoch 27/100\n",
      "48528/48528 [==============================] - 6s 122us/step - loss: 9.6769 - accuracy: 0.3996\n",
      "Epoch 28/100\n",
      "48528/48528 [==============================] - 6s 122us/step - loss: 9.6769 - accuracy: 0.3996\n",
      "Epoch 29/100\n",
      "48528/48528 [==============================] - 6s 120us/step - loss: 9.6769 - accuracy: 0.3996\n",
      "Epoch 30/100\n",
      "48528/48528 [==============================] - 6s 123us/step - loss: 9.6769 - accuracy: 0.3996\n",
      "Epoch 31/100\n",
      "48528/48528 [==============================] - 6s 123us/step - loss: 9.6769 - accuracy: 0.3996\n",
      "Epoch 32/100\n",
      "48528/48528 [==============================] - 6s 126us/step - loss: 9.6769 - accuracy: 0.3996\n",
      "Epoch 33/100\n",
      "48528/48528 [==============================] - 6s 132us/step - loss: 9.6769 - accuracy: 0.3996\n",
      "Epoch 34/100\n",
      "48528/48528 [==============================] - 6s 127us/step - loss: 9.6769 - accuracy: 0.3996\n",
      "Epoch 35/100\n",
      "48528/48528 [==============================] - 6s 119us/step - loss: 9.6769 - accuracy: 0.3996\n",
      "Epoch 36/100\n",
      "48528/48528 [==============================] - 6s 113us/step - loss: 9.6769 - accuracy: 0.3996\n",
      "Epoch 37/100\n",
      "48528/48528 [==============================] - 6s 115us/step - loss: 9.6769 - accuracy: 0.3996\n",
      "Epoch 38/100\n",
      "48528/48528 [==============================] - 5s 113us/step - loss: 9.6769 - accuracy: 0.3996\n",
      "Epoch 39/100\n",
      "48528/48528 [==============================] - 6s 116us/step - loss: 9.6769 - accuracy: 0.3996\n",
      "Epoch 40/100\n",
      "48528/48528 [==============================] - 6s 115us/step - loss: 9.6769 - accuracy: 0.3996\n",
      "Epoch 41/100\n",
      "48528/48528 [==============================] - 6s 115us/step - loss: 9.6769 - accuracy: 0.3996\n",
      "Epoch 42/100\n",
      "48528/48528 [==============================] - 6s 114us/step - loss: 9.6769 - accuracy: 0.3996\n",
      "Epoch 43/100\n",
      "48528/48528 [==============================] - 6s 118us/step - loss: 9.6769 - accuracy: 0.3996\n",
      "Epoch 44/100\n",
      "48528/48528 [==============================] - 6s 119us/step - loss: 9.6769 - accuracy: 0.3996\n",
      "Epoch 45/100\n",
      "48528/48528 [==============================] - 6s 124us/step - loss: 9.6769 - accuracy: 0.3996\n",
      "Epoch 46/100\n",
      "48528/48528 [==============================] - 6s 128us/step - loss: 9.6769 - accuracy: 0.3996\n",
      "Epoch 47/100\n",
      "48528/48528 [==============================] - 6s 126us/step - loss: 9.6769 - accuracy: 0.3996\n",
      "Epoch 48/100\n",
      "48528/48528 [==============================] - 6s 121us/step - loss: 9.6769 - accuracy: 0.3996\n",
      "Epoch 49/100\n",
      "48528/48528 [==============================] - 5s 112us/step - loss: 9.6769 - accuracy: 0.3996\n",
      "Epoch 50/100\n",
      "48528/48528 [==============================] - 5s 112us/step - loss: 9.6769 - accuracy: 0.3996\n",
      "Epoch 51/100\n",
      "48528/48528 [==============================] - 5s 109us/step - loss: 9.6769 - accuracy: 0.3996\n",
      "Epoch 52/100\n",
      "48528/48528 [==============================] - 5s 109us/step - loss: 9.6769 - accuracy: 0.3996\n",
      "Epoch 53/100\n",
      "48528/48528 [==============================] - 5s 109us/step - loss: 9.6769 - accuracy: 0.3996\n",
      "Epoch 54/100\n",
      "48528/48528 [==============================] - 5s 107us/step - loss: 9.6769 - accuracy: 0.3996\n",
      "Epoch 55/100\n",
      "48528/48528 [==============================] - 5s 106us/step - loss: 9.6769 - accuracy: 0.3996\n",
      "Epoch 56/100\n",
      "48528/48528 [==============================] - 5s 106us/step - loss: 9.6769 - accuracy: 0.3996\n",
      "Epoch 57/100\n",
      "48528/48528 [==============================] - 5s 106us/step - loss: 9.6769 - accuracy: 0.3996\n",
      "Epoch 58/100\n",
      "48528/48528 [==============================] - 6s 117us/step - loss: 9.6769 - accuracy: 0.3996\n",
      "Epoch 59/100\n",
      "48528/48528 [==============================] - 6s 121us/step - loss: 9.6769 - accuracy: 0.3996\n",
      "Epoch 60/100\n",
      "48528/48528 [==============================] - 6s 127us/step - loss: 9.6769 - accuracy: 0.3996\n",
      "Epoch 61/100\n",
      "48528/48528 [==============================] - 6s 129us/step - loss: 9.6769 - accuracy: 0.3996\n",
      "Epoch 62/100\n",
      "48528/48528 [==============================] - 6s 126us/step - loss: 9.6769 - accuracy: 0.3996\n",
      "Epoch 63/100\n",
      "48528/48528 [==============================] - 6s 129us/step - loss: 9.6769 - accuracy: 0.3996\n",
      "Epoch 64/100\n",
      "48528/48528 [==============================] - 6s 125us/step - loss: 9.6769 - accuracy: 0.3996\n",
      "Epoch 65/100\n",
      "48528/48528 [==============================] - 6s 119us/step - loss: 9.6769 - accuracy: 0.3996\n",
      "Epoch 66/100\n",
      "48528/48528 [==============================] - 5s 112us/step - loss: 9.6769 - accuracy: 0.3996\n",
      "Epoch 67/100\n",
      "48528/48528 [==============================] - 5s 110us/step - loss: 9.6769 - accuracy: 0.3996\n",
      "Epoch 68/100\n",
      "48528/48528 [==============================] - 5s 109us/step - loss: 9.6769 - accuracy: 0.3996\n",
      "Epoch 69/100\n",
      "48528/48528 [==============================] - 5s 109us/step - loss: 9.6769 - accuracy: 0.3996\n",
      "Epoch 70/100\n",
      "48528/48528 [==============================] - 5s 109us/step - loss: 9.6769 - accuracy: 0.3996\n",
      "Epoch 71/100\n",
      "48528/48528 [==============================] - 5s 109us/step - loss: 9.6769 - accuracy: 0.3996\n",
      "Epoch 72/100\n",
      "48528/48528 [==============================] - 5s 109us/step - loss: 9.6769 - accuracy: 0.3996\n",
      "Epoch 73/100\n",
      "48528/48528 [==============================] - 5s 109us/step - loss: 9.6769 - accuracy: 0.3996\n",
      "Epoch 74/100\n",
      "48528/48528 [==============================] - 5s 109us/step - loss: 9.6769 - accuracy: 0.3996\n",
      "Epoch 75/100\n",
      "48528/48528 [==============================] - 5s 109us/step - loss: 9.6769 - accuracy: 0.3996\n",
      "Epoch 76/100\n",
      "48528/48528 [==============================] - 5s 112us/step - loss: 9.6769 - accuracy: 0.3996\n",
      "Epoch 77/100\n",
      "48528/48528 [==============================] - 5s 112us/step - loss: 9.6769 - accuracy: 0.3996\n",
      "Epoch 78/100\n",
      "48528/48528 [==============================] - 5s 112us/step - loss: 9.6769 - accuracy: 0.3996\n",
      "Epoch 79/100\n",
      "48528/48528 [==============================] - 5s 112us/step - loss: 9.6769 - accuracy: 0.3996\n",
      "Epoch 80/100\n",
      "48528/48528 [==============================] - 5s 112us/step - loss: 9.6769 - accuracy: 0.3996\n",
      "Epoch 81/100\n",
      "48528/48528 [==============================] - 5s 112us/step - loss: 9.6769 - accuracy: 0.3996\n",
      "Epoch 82/100\n",
      "48528/48528 [==============================] - 5s 112us/step - loss: 9.6769 - accuracy: 0.3996\n",
      "Epoch 83/100\n",
      "48528/48528 [==============================] - 5s 113us/step - loss: 9.6769 - accuracy: 0.3996\n",
      "Epoch 84/100\n",
      "48528/48528 [==============================] - 5s 112us/step - loss: 9.6769 - accuracy: 0.3996\n",
      "Epoch 85/100\n",
      "48528/48528 [==============================] - 5s 112us/step - loss: 9.6769 - accuracy: 0.3996\n",
      "Epoch 86/100\n",
      "48528/48528 [==============================] - 5s 112us/step - loss: 9.6769 - accuracy: 0.3996\n",
      "Epoch 87/100\n",
      "48528/48528 [==============================] - 6s 113us/step - loss: 9.6769 - accuracy: 0.3996\n",
      "Epoch 88/100\n",
      "48528/48528 [==============================] - 6s 123us/step - loss: 9.6769 - accuracy: 0.3996\n",
      "Epoch 89/100\n",
      "48528/48528 [==============================] - 6s 125us/step - loss: 9.6769 - accuracy: 0.3996\n",
      "Epoch 90/100\n",
      "48528/48528 [==============================] - 6s 122us/step - loss: 9.6769 - accuracy: 0.3996\n",
      "Epoch 91/100\n",
      "48528/48528 [==============================] - 5s 113us/step - loss: 9.6769 - accuracy: 0.3996\n",
      "Epoch 92/100\n",
      "48528/48528 [==============================] - 5s 113us/step - loss: 9.6769 - accuracy: 0.3996\n",
      "Epoch 93/100\n",
      "48528/48528 [==============================] - 5s 111us/step - loss: 9.6769 - accuracy: 0.3996\n",
      "Epoch 94/100\n",
      "48528/48528 [==============================] - 5s 108us/step - loss: 9.6769 - accuracy: 0.3996\n",
      "Epoch 95/100\n",
      "48528/48528 [==============================] - 5s 108us/step - loss: 9.6769 - accuracy: 0.3996\n",
      "Epoch 96/100\n",
      "48528/48528 [==============================] - 5s 108us/step - loss: 9.6769 - accuracy: 0.3996\n",
      "Epoch 97/100\n",
      "48528/48528 [==============================] - 5s 109us/step - loss: 9.6769 - accuracy: 0.3996\n",
      "Epoch 98/100\n",
      "48528/48528 [==============================] - 5s 108us/step - loss: 9.6769 - accuracy: 0.3996\n",
      "Epoch 99/100\n",
      "48528/48528 [==============================] - 5s 110us/step - loss: 9.6769 - accuracy: 0.3996\n",
      "Epoch 100/100\n",
      "48528/48528 [==============================] - 5s 111us/step - loss: 9.6769 - accuracy: 0.3996\n"
     ]
    }
   ],
   "source": [
    "history = model.fit(X_train, y_train, epochs=100, batch_size=16)"
   ]
  },
  {
   "cell_type": "markdown",
   "metadata": {},
   "source": [
    "The entire process of training the neural network and evaluation of batch size of 16 took less than 7 seconds with each epoch to complete.\n",
    "\n",
    "The result shows that either Stochastic Gradient Descent, Batch Gradient Descent or Minibatch Gradient Descent gives the same accuracy, therefore, in the further constructing and training, I will use minibatch gradient descent, because it has advantages of both time-efficient and keeps the batch size small."
   ]
  },
  {
   "cell_type": "markdown",
   "metadata": {},
   "source": [
    "### 2. The second Neural Network model with activation function ='softmax'"
   ]
  },
  {
   "cell_type": "markdown",
   "metadata": {},
   "source": [
    "Activation function: Softmax\n",
    "\n",
    "**Advantages**\n",
    "\n",
    "- Able to handle multiple classes\n",
    "- Normalizes the outputs for each class between 0 and 1, and divides by their sum, giving the probability of the input value being in a specific class.\n",
    "\n",
    "\n",
    "**Disadvantages**\n",
    "\n",
    "- Useful for output neurons—typically Softmax is used only for the output layer, for neural networks that need to classify inputs into multiple categories."
   ]
  },
  {
   "cell_type": "code",
   "execution_count": null,
   "metadata": {},
   "outputs": [],
   "source": [
    "from tensorflow.python.types import core as core_tf_types\n",
    "## Import tensorflow package\n",
    "import tensorflow as tf\n",
    "assert tf.__version__ >= \"2.0\"\n",
    "from tensorflow import keras\n",
    "import os\n",
    "import warnings\n",
    "warnings.filterwarnings(action=\"ignore\")\n",
    "# To make the output stable across runs, set a seed\n",
    "np.random.seed(42)\n",
    "#Dependencies\n",
    "from keras.models import Sequential\n",
    "from keras.layers import Dense\n",
    "# Neural network\n",
    "model = Sequential()\n",
    "model.add(Dense(100, input_dim=(4), activation='softmax'))\n",
    "model.add(Dense(50, activation='softmax'))\n",
    "model.add(Dense(5, activation='softmax'))"
   ]
  },
  {
   "cell_type": "code",
   "execution_count": 189,
   "metadata": {},
   "outputs": [],
   "source": [
    "X = diamondd[['depth','price','y','z']].values\n",
    "y = diamondd['cut'].values\n",
    "# Partition data into training and test sets\n",
    "from sklearn.model_selection import train_test_split\n",
    "\n",
    "X_train, X_test, y_train, y_test = train_test_split(X, y, test_size=0.1, \n",
    "                                  random_state=0, stratify=y)\n",
    "y_train = keras.utils.to_categorical(y_train, 5)"
   ]
  },
  {
   "cell_type": "markdown",
   "metadata": {},
   "source": [
    "This time, I will use Mini-batch Descent, softmax activation functions, but construct two different models by changing the values of epochs, to see whether larger value of epochs could help improve the accuracy or not:"
   ]
  },
  {
   "cell_type": "code",
   "execution_count": 815,
   "metadata": {},
   "outputs": [
    {
     "name": "stdout",
     "output_type": "stream",
     "text": [
      "Epoch 1/100\n",
      "48528/48528 [==============================] - 6s 124us/step - loss: 1.3922 - accuracy: 0.3976\n",
      "Epoch 2/100\n",
      "48528/48528 [==============================] - 5s 112us/step - loss: 1.3734 - accuracy: 0.3996\n",
      "Epoch 3/100\n",
      "48528/48528 [==============================] - 5s 113us/step - loss: 1.3734 - accuracy: 0.3996\n",
      "Epoch 4/100\n",
      "48528/48528 [==============================] - 5s 113us/step - loss: 1.3735 - accuracy: 0.3996\n",
      "Epoch 5/100\n",
      "48528/48528 [==============================] - 5s 111us/step - loss: 1.3735 - accuracy: 0.3996\n",
      "Epoch 6/100\n",
      "48528/48528 [==============================] - 5s 112us/step - loss: 1.3735 - accuracy: 0.3996\n",
      "Epoch 7/100\n",
      "48528/48528 [==============================] - 5s 111us/step - loss: 1.3734 - accuracy: 0.3996\n",
      "Epoch 8/100\n",
      "48528/48528 [==============================] - 5s 111us/step - loss: 1.3734 - accuracy: 0.3996\n",
      "Epoch 9/100\n",
      "48528/48528 [==============================] - 5s 110us/step - loss: 1.3735 - accuracy: 0.3996\n",
      "Epoch 10/100\n",
      "48528/48528 [==============================] - 5s 110us/step - loss: 1.3734 - accuracy: 0.3996\n",
      "Epoch 11/100\n",
      "48528/48528 [==============================] - 5s 109us/step - loss: 1.3734 - accuracy: 0.3996\n",
      "Epoch 12/100\n",
      "48528/48528 [==============================] - 5s 109us/step - loss: 1.3734 - accuracy: 0.3996\n",
      "Epoch 13/100\n",
      "48528/48528 [==============================] - 5s 109us/step - loss: 1.3734 - accuracy: 0.3996\n",
      "Epoch 14/100\n",
      "48528/48528 [==============================] - 5s 110us/step - loss: 1.3735 - accuracy: 0.3996\n",
      "Epoch 15/100\n",
      "48528/48528 [==============================] - 5s 110us/step - loss: 1.3734 - accuracy: 0.3996\n",
      "Epoch 16/100\n",
      "48528/48528 [==============================] - 5s 110us/step - loss: 1.3734 - accuracy: 0.3996\n",
      "Epoch 17/100\n",
      "48528/48528 [==============================] - 5s 109us/step - loss: 1.3734 - accuracy: 0.3996\n",
      "Epoch 18/100\n",
      "48528/48528 [==============================] - 5s 109us/step - loss: 1.3734 - accuracy: 0.3996\n",
      "Epoch 19/100\n",
      "48528/48528 [==============================] - 5s 110us/step - loss: 1.3734 - accuracy: 0.3996\n",
      "Epoch 20/100\n",
      "48528/48528 [==============================] - 5s 110us/step - loss: 1.3734 - accuracy: 0.3996\n",
      "Epoch 21/100\n",
      "48528/48528 [==============================] - 5s 111us/step - loss: 1.3733 - accuracy: 0.3996\n",
      "Epoch 22/100\n",
      "48528/48528 [==============================] - 5s 111us/step - loss: 1.3735 - accuracy: 0.3996\n",
      "Epoch 23/100\n",
      "48528/48528 [==============================] - 5s 112us/step - loss: 1.3733 - accuracy: 0.3996\n",
      "Epoch 24/100\n",
      "48528/48528 [==============================] - 5s 111us/step - loss: 1.3734 - accuracy: 0.3996\n",
      "Epoch 25/100\n",
      "48528/48528 [==============================] - 5s 111us/step - loss: 1.3734 - accuracy: 0.3996\n",
      "Epoch 26/100\n",
      "48528/48528 [==============================] - 5s 111us/step - loss: 1.3734 - accuracy: 0.3996\n",
      "Epoch 27/100\n",
      "48528/48528 [==============================] - 5s 111us/step - loss: 1.3735 - accuracy: 0.3996\n",
      "Epoch 28/100\n",
      "48528/48528 [==============================] - 5s 110us/step - loss: 1.3735 - accuracy: 0.3996\n",
      "Epoch 29/100\n",
      "48528/48528 [==============================] - 5s 111us/step - loss: 1.3734 - accuracy: 0.3996\n",
      "Epoch 30/100\n",
      "48528/48528 [==============================] - 5s 104us/step - loss: 1.3734 - accuracy: 0.3996\n",
      "Epoch 31/100\n",
      "48528/48528 [==============================] - 5s 105us/step - loss: 1.3735 - accuracy: 0.3996\n",
      "Epoch 32/100\n",
      "48528/48528 [==============================] - 5s 104us/step - loss: 1.3734 - accuracy: 0.3996\n",
      "Epoch 33/100\n",
      "48528/48528 [==============================] - 5s 104us/step - loss: 1.3734 - accuracy: 0.3996\n",
      "Epoch 34/100\n",
      "48528/48528 [==============================] - 5s 104us/step - loss: 1.3734 - accuracy: 0.3996\n",
      "Epoch 35/100\n",
      "48528/48528 [==============================] - 5s 104us/step - loss: 1.3734 - accuracy: 0.3996\n",
      "Epoch 36/100\n",
      "48528/48528 [==============================] - 5s 105us/step - loss: 1.3734 - accuracy: 0.3996\n",
      "Epoch 37/100\n",
      "48528/48528 [==============================] - 5s 111us/step - loss: 1.3735 - accuracy: 0.3996\n",
      "Epoch 38/100\n",
      "48528/48528 [==============================] - 5s 111us/step - loss: 1.3733 - accuracy: 0.3996\n",
      "Epoch 39/100\n",
      "48528/48528 [==============================] - 5s 111us/step - loss: 1.3734 - accuracy: 0.3996\n",
      "Epoch 40/100\n",
      "48528/48528 [==============================] - 5s 109us/step - loss: 1.3734 - accuracy: 0.3996\n",
      "Epoch 41/100\n",
      "48528/48528 [==============================] - 5s 103us/step - loss: 1.3734 - accuracy: 0.3996\n",
      "Epoch 42/100\n",
      "48528/48528 [==============================] - 5s 103us/step - loss: 1.3734 - accuracy: 0.3996\n",
      "Epoch 43/100\n",
      "48528/48528 [==============================] - 5s 105us/step - loss: 1.3734 - accuracy: 0.3996\n",
      "Epoch 44/100\n",
      "48528/48528 [==============================] - 5s 103us/step - loss: 1.3735 - accuracy: 0.3996\n",
      "Epoch 45/100\n",
      "48528/48528 [==============================] - 5s 107us/step - loss: 1.3734 - accuracy: 0.3996\n",
      "Epoch 46/100\n",
      "48528/48528 [==============================] - 5s 111us/step - loss: 1.3734 - accuracy: 0.3996\n",
      "Epoch 47/100\n",
      "48528/48528 [==============================] - 5s 111us/step - loss: 1.3734 - accuracy: 0.3996\n",
      "Epoch 48/100\n",
      "48528/48528 [==============================] - 5s 110us/step - loss: 1.3735 - accuracy: 0.3996\n",
      "Epoch 49/100\n",
      "48528/48528 [==============================] - 5s 104us/step - loss: 1.3734 - accuracy: 0.3996\n",
      "Epoch 50/100\n",
      "48528/48528 [==============================] - 5s 104us/step - loss: 1.3733 - accuracy: 0.3996\n",
      "Epoch 51/100\n",
      "48528/48528 [==============================] - 5s 104us/step - loss: 1.3734 - accuracy: 0.3996\n",
      "Epoch 52/100\n",
      "48528/48528 [==============================] - 5s 105us/step - loss: 1.3733 - accuracy: 0.3996\n",
      "Epoch 53/100\n",
      "48528/48528 [==============================] - 5s 106us/step - loss: 1.3734 - accuracy: 0.3996\n",
      "Epoch 54/100\n",
      "48528/48528 [==============================] - 5s 107us/step - loss: 1.3733 - accuracy: 0.3996\n",
      "Epoch 55/100\n",
      "48528/48528 [==============================] - 5s 104us/step - loss: 1.3734 - accuracy: 0.3996\n",
      "Epoch 56/100\n",
      "48528/48528 [==============================] - 5s 105us/step - loss: 1.3735 - accuracy: 0.3996\n",
      "Epoch 57/100\n",
      "48528/48528 [==============================] - 5s 107us/step - loss: 1.3734 - accuracy: 0.3996\n",
      "Epoch 58/100\n",
      "48528/48528 [==============================] - 5s 104us/step - loss: 1.3734 - accuracy: 0.3996\n",
      "Epoch 59/100\n",
      "48528/48528 [==============================] - 5s 103us/step - loss: 1.3735 - accuracy: 0.3996\n",
      "Epoch 60/100\n",
      "48528/48528 [==============================] - 5s 104us/step - loss: 1.3734 - accuracy: 0.3996\n",
      "Epoch 61/100\n",
      "48528/48528 [==============================] - 5s 103us/step - loss: 1.3734 - accuracy: 0.3996\n",
      "Epoch 62/100\n",
      "48528/48528 [==============================] - 5s 104us/step - loss: 1.3734 - accuracy: 0.3996\n",
      "Epoch 63/100\n",
      "48528/48528 [==============================] - 5s 105us/step - loss: 1.3734 - accuracy: 0.3996\n",
      "Epoch 64/100\n",
      "48528/48528 [==============================] - 5s 104us/step - loss: 1.3735 - accuracy: 0.3996\n",
      "Epoch 65/100\n",
      "48528/48528 [==============================] - 5s 104us/step - loss: 1.3735 - accuracy: 0.3996\n",
      "Epoch 66/100\n",
      "48528/48528 [==============================] - 5s 104us/step - loss: 1.3735 - accuracy: 0.3996\n",
      "Epoch 67/100\n",
      "48528/48528 [==============================] - 5s 104us/step - loss: 1.3734 - accuracy: 0.3996\n",
      "Epoch 68/100\n",
      "48528/48528 [==============================] - 5s 104us/step - loss: 1.3734 - accuracy: 0.3996\n",
      "Epoch 69/100\n",
      "48528/48528 [==============================] - 5s 105us/step - loss: 1.3735 - accuracy: 0.3996\n",
      "Epoch 70/100\n",
      "48528/48528 [==============================] - 5s 105us/step - loss: 1.3734 - accuracy: 0.3996\n",
      "Epoch 71/100\n",
      "48528/48528 [==============================] - 5s 104us/step - loss: 1.3734 - accuracy: 0.3996\n",
      "Epoch 72/100\n",
      "48528/48528 [==============================] - 5s 104us/step - loss: 1.3733 - accuracy: 0.3996\n",
      "Epoch 73/100\n",
      "48528/48528 [==============================] - 5s 105us/step - loss: 1.3734 - accuracy: 0.3996\n",
      "Epoch 74/100\n",
      "48528/48528 [==============================] - 5s 104us/step - loss: 1.3734 - accuracy: 0.3996\n",
      "Epoch 75/100\n",
      "48528/48528 [==============================] - 5s 103us/step - loss: 1.3735 - accuracy: 0.3996\n",
      "Epoch 76/100\n",
      "48528/48528 [==============================] - 5s 105us/step - loss: 1.3735 - accuracy: 0.3996\n",
      "Epoch 77/100\n",
      "48528/48528 [==============================] - 5s 104us/step - loss: 1.3735 - accuracy: 0.3996\n",
      "Epoch 78/100\n",
      "48528/48528 [==============================] - 5s 104us/step - loss: 1.3734 - accuracy: 0.3996\n",
      "Epoch 79/100\n",
      "48528/48528 [==============================] - 5s 105us/step - loss: 1.3735 - accuracy: 0.3996\n",
      "Epoch 80/100\n",
      "48528/48528 [==============================] - 5s 104us/step - loss: 1.3734 - accuracy: 0.3996\n",
      "Epoch 81/100\n",
      "48528/48528 [==============================] - 5s 104us/step - loss: 1.3734 - accuracy: 0.3996\n",
      "Epoch 82/100\n",
      "48528/48528 [==============================] - 5s 104us/step - loss: 1.3735 - accuracy: 0.3996\n",
      "Epoch 83/100\n",
      "48528/48528 [==============================] - 5s 107us/step - loss: 1.3733 - accuracy: 0.3996\n",
      "Epoch 84/100\n",
      "48528/48528 [==============================] - 5s 105us/step - loss: 1.3734 - accuracy: 0.3996\n",
      "Epoch 85/100\n",
      "48528/48528 [==============================] - 5s 104us/step - loss: 1.3734 - accuracy: 0.3996\n",
      "Epoch 86/100\n",
      "48528/48528 [==============================] - 5s 105us/step - loss: 1.3735 - accuracy: 0.3996\n",
      "Epoch 87/100\n",
      "48528/48528 [==============================] - 5s 107us/step - loss: 1.3735 - accuracy: 0.3996\n",
      "Epoch 88/100\n",
      "48528/48528 [==============================] - 5s 107us/step - loss: 1.3734 - accuracy: 0.3996\n",
      "Epoch 89/100\n",
      "48528/48528 [==============================] - 5s 107us/step - loss: 1.3735 - accuracy: 0.3996\n",
      "Epoch 90/100\n",
      "48528/48528 [==============================] - 5s 107us/step - loss: 1.3734 - accuracy: 0.3996\n",
      "Epoch 91/100\n",
      "48528/48528 [==============================] - 5s 104us/step - loss: 1.3734 - accuracy: 0.3996\n",
      "Epoch 92/100\n",
      "48528/48528 [==============================] - 5s 104us/step - loss: 1.3735 - accuracy: 0.3996\n",
      "Epoch 93/100\n",
      "48528/48528 [==============================] - 5s 103us/step - loss: 1.3735 - accuracy: 0.3996\n",
      "Epoch 94/100\n",
      "48528/48528 [==============================] - 5s 104us/step - loss: 1.3734 - accuracy: 0.3996\n",
      "Epoch 95/100\n",
      "48528/48528 [==============================] - 5s 104us/step - loss: 1.3734 - accuracy: 0.3996\n",
      "Epoch 96/100\n",
      "48528/48528 [==============================] - 5s 103us/step - loss: 1.3735 - accuracy: 0.3996\n",
      "Epoch 97/100\n",
      "48528/48528 [==============================] - 5s 103us/step - loss: 1.3735 - accuracy: 0.3996\n",
      "Epoch 98/100\n",
      "48528/48528 [==============================] - 5s 104us/step - loss: 1.3734 - accuracy: 0.3996\n",
      "Epoch 99/100\n",
      "48528/48528 [==============================] - 5s 103us/step - loss: 1.3734 - accuracy: 0.3996\n",
      "Epoch 100/100\n",
      "48528/48528 [==============================] - 5s 106us/step - loss: 1.3734 - accuracy: 0.3996\n"
     ]
    }
   ],
   "source": [
    "history = model.fit(X_train, y_train, epochs=100, batch_size=16)"
   ]
  },
  {
   "cell_type": "code",
   "execution_count": null,
   "metadata": {},
   "outputs": [
    {
     "name": "stdout",
     "output_type": "stream",
     "text": [
      "Epoch 1/10000\n",
      "48528/48528 [==============================] - 5s 111us/step - loss: 1.3734 - accuracy: 0.3996\n",
      "Epoch 2/10000\n",
      "48528/48528 [==============================] - 5s 112us/step - loss: 1.3734 - accuracy: 0.3996\n",
      "Epoch 3/10000\n",
      "48528/48528 [==============================] - 5s 112us/step - loss: 1.3735 - accuracy: 0.3996\n",
      "Epoch 4/10000\n",
      "48528/48528 [==============================] - 5s 112us/step - loss: 1.3735 - accuracy: 0.3996\n",
      "Epoch 5/10000\n",
      "48528/48528 [==============================] - 5s 111us/step - loss: 1.3734 - accuracy: 0.3996\n",
      "Epoch 6/10000\n",
      "48528/48528 [==============================] - 5s 112us/step - loss: 1.3735 - accuracy: 0.3996\n",
      "Epoch 7/10000\n",
      "48528/48528 [==============================] - 5s 112us/step - loss: 1.3734 - accuracy: 0.3996\n",
      "Epoch 8/10000\n",
      "48528/48528 [==============================] - 5s 112us/step - loss: 1.3733 - accuracy: 0.3996\n",
      "Epoch 9/10000\n",
      "48528/48528 [==============================] - 5s 111us/step - loss: 1.3734 - accuracy: 0.3996\n",
      "Epoch 10/10000\n",
      "48528/48528 [==============================] - 5s 111us/step - loss: 1.3734 - accuracy: 0.3996\n",
      "Epoch 11/10000\n",
      "48528/48528 [==============================] - 5s 110us/step - loss: 1.3735 - accuracy: 0.3996\n",
      "Epoch 12/10000\n",
      "48528/48528 [==============================] - 5s 112us/step - loss: 1.3734 - accuracy: 0.3996\n",
      "Epoch 13/10000\n",
      "48528/48528 [==============================] - 5s 110us/step - loss: 1.3734 - accuracy: 0.3996\n",
      "Epoch 14/10000\n",
      "48528/48528 [==============================] - 5s 111us/step - loss: 1.3734 - accuracy: 0.3996\n",
      "Epoch 15/10000\n",
      "48528/48528 [==============================] - 5s 111us/step - loss: 1.3734 - accuracy: 0.3996\n",
      "Epoch 16/10000\n",
      "48528/48528 [==============================] - 5s 111us/step - loss: 1.3734 - accuracy: 0.3996\n",
      "Epoch 17/10000\n",
      "48528/48528 [==============================] - 5s 111us/step - loss: 1.3734 - accuracy: 0.3996\n",
      "Epoch 18/10000\n",
      "48528/48528 [==============================] - 5s 111us/step - loss: 1.3734 - accuracy: 0.3996\n",
      "Epoch 19/10000\n",
      "48528/48528 [==============================] - 5s 106us/step - loss: 1.3734 - accuracy: 0.3996\n",
      "Epoch 20/10000\n",
      "48528/48528 [==============================] - 5s 104us/step - loss: 1.3734 - accuracy: 0.3996\n",
      "Epoch 21/10000\n",
      "48528/48528 [==============================] - 5s 104us/step - loss: 1.3735 - accuracy: 0.3996\n",
      "Epoch 22/10000\n",
      "48528/48528 [==============================] - 5s 104us/step - loss: 1.3735 - accuracy: 0.3996\n",
      "Epoch 23/10000\n",
      "48528/48528 [==============================] - 5s 104us/step - loss: 1.3734 - accuracy: 0.3996\n",
      "Epoch 24/10000\n",
      "48528/48528 [==============================] - 5s 105us/step - loss: 1.3734 - accuracy: 0.3996\n",
      "Epoch 25/10000\n",
      "48528/48528 [==============================] - 5s 104us/step - loss: 1.3734 - accuracy: 0.3996\n",
      "Epoch 26/10000\n",
      "48528/48528 [==============================] - 5s 105us/step - loss: 1.3735 - accuracy: 0.3996\n",
      "Epoch 27/10000\n",
      "48528/48528 [==============================] - 5s 104us/step - loss: 1.3734 - accuracy: 0.3996\n",
      "Epoch 28/10000\n",
      "48528/48528 [==============================] - 5s 104us/step - loss: 1.3734 - accuracy: 0.3996\n",
      "Epoch 29/10000\n",
      "48528/48528 [==============================] - 5s 104us/step - loss: 1.3734 - accuracy: 0.3996\n",
      "Epoch 30/10000\n",
      "48528/48528 [==============================] - 5s 104us/step - loss: 1.3734 - accuracy: 0.3996\n",
      "Epoch 31/10000\n",
      "48528/48528 [==============================] - 5s 105us/step - loss: 1.3735 - accuracy: 0.3996\n",
      "Epoch 32/10000\n",
      "48528/48528 [==============================] - 5s 104us/step - loss: 1.3735 - accuracy: 0.3996\n",
      "Epoch 33/10000\n",
      "48528/48528 [==============================] - 5s 104us/step - loss: 1.3735 - accuracy: 0.3996\n",
      "Epoch 34/10000\n",
      "48528/48528 [==============================] - 5s 104us/step - loss: 1.3735 - accuracy: 0.3996\n",
      "Epoch 35/10000\n",
      "48528/48528 [==============================] - 5s 104us/step - loss: 1.3735 - accuracy: 0.3996\n",
      "Epoch 36/10000\n",
      "48528/48528 [==============================] - 5s 105us/step - loss: 1.3734 - accuracy: 0.3996\n",
      "Epoch 37/10000\n",
      "48528/48528 [==============================] - 5s 107us/step - loss: 1.3735 - accuracy: 0.3996\n",
      "Epoch 38/10000\n",
      "48528/48528 [==============================] - 5s 107us/step - loss: 1.3734 - accuracy: 0.3996\n",
      "Epoch 39/10000\n",
      "48528/48528 [==============================] - 5s 107us/step - loss: 1.3734 - accuracy: 0.3996\n",
      "Epoch 40/10000\n",
      "48528/48528 [==============================] - 5s 107us/step - loss: 1.3734 - accuracy: 0.3996\n",
      "Epoch 41/10000\n",
      "48528/48528 [==============================] - 5s 107us/step - loss: 1.3734 - accuracy: 0.3996\n",
      "Epoch 42/10000\n",
      "48528/48528 [==============================] - 5s 107us/step - loss: 1.3734 - accuracy: 0.3996\n",
      "Epoch 43/10000\n",
      "48528/48528 [==============================] - 5s 110us/step - loss: 1.3734 - accuracy: 0.3996\n",
      "Epoch 44/10000\n",
      "48528/48528 [==============================] - 6s 118us/step - loss: 1.3734 - accuracy: 0.3996\n",
      "Epoch 45/10000\n",
      "48528/48528 [==============================] - 6s 122us/step - loss: 1.3734 - accuracy: 0.3996\n",
      "Epoch 46/10000\n",
      "48528/48528 [==============================] - 6s 126us/step - loss: 1.3734 - accuracy: 0.3996\n",
      "Epoch 47/10000\n",
      "48528/48528 [==============================] - 6s 126us/step - loss: 1.3735 - accuracy: 0.3996\n",
      "Epoch 48/10000\n",
      "48528/48528 [==============================] - 6s 131us/step - loss: 1.3734 - accuracy: 0.3996\n",
      "Epoch 49/10000\n",
      "48528/48528 [==============================] - 6s 127us/step - loss: 1.3734 - accuracy: 0.3996\n",
      "Epoch 50/10000\n",
      "48528/48528 [==============================] - 6s 115us/step - loss: 1.3734 - accuracy: 0.3996\n",
      "Epoch 51/10000\n",
      "48528/48528 [==============================] - 5s 109us/step - loss: 1.3734 - accuracy: 0.3996\n",
      "Epoch 52/10000\n",
      "48528/48528 [==============================] - 5s 107us/step - loss: 1.3733 - accuracy: 0.3996\n",
      "Epoch 53/10000\n",
      "48528/48528 [==============================] - 5s 107us/step - loss: 1.3734 - accuracy: 0.3996\n",
      "Epoch 54/10000\n",
      "48528/48528 [==============================] - 5s 108us/step - loss: 1.3733 - accuracy: 0.3996\n",
      "Epoch 55/10000\n",
      "48528/48528 [==============================] - 5s 107us/step - loss: 1.3734 - accuracy: 0.3996\n",
      "Epoch 56/10000\n",
      "48528/48528 [==============================] - 5s 106us/step - loss: 1.3734 - accuracy: 0.3996\n",
      "Epoch 57/10000\n",
      "48528/48528 [==============================] - 5s 107us/step - loss: 1.3734 - accuracy: 0.3996\n",
      "Epoch 58/10000\n",
      "48528/48528 [==============================] - 5s 107us/step - loss: 1.3733 - accuracy: 0.3996\n",
      "Epoch 59/10000\n",
      "48528/48528 [==============================] - 5s 106us/step - loss: 1.3735 - accuracy: 0.3996\n",
      "Epoch 60/10000\n",
      "48528/48528 [==============================] - 5s 104us/step - loss: 1.3734 - accuracy: 0.3996\n",
      "Epoch 61/10000\n",
      "48528/48528 [==============================] - 5s 104us/step - loss: 1.3734 - accuracy: 0.3996\n",
      "Epoch 62/10000\n",
      "48528/48528 [==============================] - 5s 106us/step - loss: 1.3735 - accuracy: 0.3996\n",
      "Epoch 63/10000\n",
      "48528/48528 [==============================] - 5s 106us/step - loss: 1.3734 - accuracy: 0.3996\n",
      "Epoch 64/10000\n",
      "48528/48528 [==============================] - 5s 107us/step - loss: 1.3734 - accuracy: 0.3996\n",
      "Epoch 65/10000\n",
      "48528/48528 [==============================] - 5s 107us/step - loss: 1.3735 - accuracy: 0.3996\n",
      "Epoch 66/10000\n",
      "48528/48528 [==============================] - 5s 109us/step - loss: 1.3734 - accuracy: 0.3996\n",
      "Epoch 67/10000\n",
      "48528/48528 [==============================] - 5s 110us/step - loss: 1.3734 - accuracy: 0.3996\n",
      "Epoch 68/10000\n",
      "48528/48528 [==============================] - 5s 110us/step - loss: 1.3734 - accuracy: 0.3996\n",
      "Epoch 69/10000\n",
      "48528/48528 [==============================] - 5s 110us/step - loss: 1.3735 - accuracy: 0.3996\n",
      "Epoch 70/10000\n",
      "48528/48528 [==============================] - 5s 110us/step - loss: 1.3734 - accuracy: 0.3996\n",
      "Epoch 71/10000\n",
      "48528/48528 [==============================] - 5s 110us/step - loss: 1.3735 - accuracy: 0.3996\n",
      "Epoch 72/10000\n",
      "48528/48528 [==============================] - 5s 110us/step - loss: 1.3734 - accuracy: 0.3996\n",
      "Epoch 73/10000\n",
      "48528/48528 [==============================] - 5s 109us/step - loss: 1.3733 - accuracy: 0.3996\n",
      "Epoch 74/10000\n",
      "48528/48528 [==============================] - 5s 107us/step - loss: 1.3734 - accuracy: 0.3996\n",
      "Epoch 75/10000\n",
      "48528/48528 [==============================] - 5s 107us/step - loss: 1.3734 - accuracy: 0.3996\n",
      "Epoch 76/10000\n",
      "48528/48528 [==============================] - 5s 107us/step - loss: 1.3734 - accuracy: 0.3996\n",
      "Epoch 77/10000\n",
      "48528/48528 [==============================] - 5s 107us/step - loss: 1.3735 - accuracy: 0.3996\n",
      "Epoch 78/10000\n",
      "48528/48528 [==============================] - 5s 107us/step - loss: 1.3734 - accuracy: 0.3996\n",
      "Epoch 79/10000\n",
      "48528/48528 [==============================] - 5s 107us/step - loss: 1.3734 - accuracy: 0.3996\n",
      "Epoch 80/10000\n",
      "48528/48528 [==============================] - 5s 107us/step - loss: 1.3734 - accuracy: 0.3996\n",
      "Epoch 81/10000\n",
      "48528/48528 [==============================] - 5s 107us/step - loss: 1.3734 - accuracy: 0.3996\n",
      "Epoch 82/10000\n",
      "48528/48528 [==============================] - 5s 107us/step - loss: 1.3734 - accuracy: 0.3996\n",
      "Epoch 83/10000\n",
      "48528/48528 [==============================] - 5s 109us/step - loss: 1.3734 - accuracy: 0.3996\n",
      "Epoch 84/10000\n",
      "48528/48528 [==============================] - 5s 110us/step - loss: 1.3735 - accuracy: 0.3996\n",
      "Epoch 85/10000\n",
      "48528/48528 [==============================] - 5s 111us/step - loss: 1.3734 - accuracy: 0.3996\n",
      "Epoch 86/10000\n",
      "48528/48528 [==============================] - 5s 110us/step - loss: 1.3735 - accuracy: 0.3996\n",
      "Epoch 87/10000\n",
      "48528/48528 [==============================] - 5s 110us/step - loss: 1.3735 - accuracy: 0.3996\n",
      "Epoch 88/10000\n",
      "48528/48528 [==============================] - 5s 110us/step - loss: 1.3735 - accuracy: 0.3996\n",
      "Epoch 89/10000\n",
      "48528/48528 [==============================] - 5s 110us/step - loss: 1.3735 - accuracy: 0.3996\n",
      "Epoch 90/10000\n",
      "48528/48528 [==============================] - 5s 110us/step - loss: 1.3735 - accuracy: 0.3996\n",
      "Epoch 91/10000\n",
      "48528/48528 [==============================] - 5s 108us/step - loss: 1.3734 - accuracy: 0.3996\n",
      "Epoch 92/10000\n",
      "48528/48528 [==============================] - 5s 107us/step - loss: 1.3734 - accuracy: 0.3996\n",
      "Epoch 93/10000\n",
      "48528/48528 [==============================] - 5s 107us/step - loss: 1.3735 - accuracy: 0.3996\n",
      "Epoch 94/10000\n",
      "48528/48528 [==============================] - 5s 107us/step - loss: 1.3734 - accuracy: 0.3996\n",
      "Epoch 95/10000\n",
      "48528/48528 [==============================] - 5s 107us/step - loss: 1.3734 - accuracy: 0.3996\n",
      "Epoch 96/10000\n",
      "48528/48528 [==============================] - 5s 106us/step - loss: 1.3735 - accuracy: 0.3996\n",
      "Epoch 97/10000\n",
      "48528/48528 [==============================] - 5s 106us/step - loss: 1.3734 - accuracy: 0.3996\n",
      "Epoch 98/10000\n",
      "48528/48528 [==============================] - 5s 107us/step - loss: 1.3735 - accuracy: 0.3996\n",
      "Epoch 99/10000\n",
      "48528/48528 [==============================] - 5s 109us/step - loss: 1.3734 - accuracy: 0.3996\n",
      "Epoch 100/10000\n",
      "48528/48528 [==============================] - 5s 110us/step - loss: 1.3734 - accuracy: 0.3996\n",
      "Epoch 101/10000\n",
      "48528/48528 [==============================] - 5s 110us/step - loss: 1.3734 - accuracy: 0.3996\n",
      "Epoch 102/10000\n",
      "48528/48528 [==============================] - 5s 110us/step - loss: 1.3734 - accuracy: 0.3996\n",
      "Epoch 103/10000\n",
      "48528/48528 [==============================] - 5s 109us/step - loss: 1.3734 - accuracy: 0.3996\n",
      "Epoch 104/10000\n",
      "48528/48528 [==============================] - 5s 110us/step - loss: 1.3734 - accuracy: 0.3996\n",
      "Epoch 105/10000\n",
      "48528/48528 [==============================] - 5s 110us/step - loss: 1.3734 - accuracy: 0.3996\n",
      "Epoch 106/10000\n",
      "48528/48528 [==============================] - 5s 112us/step - loss: 1.3735 - accuracy: 0.3996\n",
      "Epoch 107/10000\n",
      "48528/48528 [==============================] - 6s 120us/step - loss: 1.3735 - accuracy: 0.3996\n",
      "Epoch 108/10000\n",
      "48528/48528 [==============================] - 6s 129us/step - loss: 1.3734 - accuracy: 0.3996\n",
      "Epoch 109/10000\n",
      "48528/48528 [==============================] - 6s 125us/step - loss: 1.3734 - accuracy: 0.3996\n",
      "Epoch 110/10000\n",
      "48528/48528 [==============================] - 6s 117us/step - loss: 1.3734 - accuracy: 0.3996\n",
      "Epoch 111/10000\n",
      "48528/48528 [==============================] - 6s 114us/step - loss: 1.3735 - accuracy: 0.3996\n",
      "Epoch 112/10000\n",
      "48528/48528 [==============================] - 5s 110us/step - loss: 1.3734 - accuracy: 0.3996\n",
      "Epoch 113/10000\n",
      "48528/48528 [==============================] - 5s 109us/step - loss: 1.3735 - accuracy: 0.3996\n",
      "Epoch 114/10000\n",
      "48528/48528 [==============================] - 5s 107us/step - loss: 1.3734 - accuracy: 0.3996\n",
      "Epoch 115/10000\n",
      "48528/48528 [==============================] - 5s 107us/step - loss: 1.3733 - accuracy: 0.3996\n",
      "Epoch 116/10000\n",
      "48528/48528 [==============================] - 5s 106us/step - loss: 1.3734 - accuracy: 0.3996\n",
      "Epoch 117/10000\n",
      "48528/48528 [==============================] - 5s 107us/step - loss: 1.3735 - accuracy: 0.3996\n",
      "Epoch 118/10000\n",
      "48528/48528 [==============================] - 5s 110us/step - loss: 1.3734 - accuracy: 0.3996\n",
      "Epoch 119/10000\n",
      "48528/48528 [==============================] - 5s 110us/step - loss: 1.3734 - accuracy: 0.3996\n",
      "Epoch 120/10000\n",
      "48528/48528 [==============================] - 5s 110us/step - loss: 1.3735 - accuracy: 0.3996\n",
      "Epoch 121/10000\n",
      "48528/48528 [==============================] - 6s 113us/step - loss: 1.3735 - accuracy: 0.3996\n",
      "Epoch 122/10000\n",
      "48528/48528 [==============================] - 6s 114us/step - loss: 1.3734 - accuracy: 0.3996\n",
      "Epoch 123/10000\n",
      "48528/48528 [==============================] - 5s 113us/step - loss: 1.3734 - accuracy: 0.3996\n",
      "Epoch 124/10000\n",
      "48528/48528 [==============================] - 5s 112us/step - loss: 1.3733 - accuracy: 0.3996\n",
      "Epoch 125/10000\n",
      "48528/48528 [==============================] - 5s 111us/step - loss: 1.3735 - accuracy: 0.3996\n",
      "Epoch 126/10000\n",
      "48528/48528 [==============================] - 5s 111us/step - loss: 1.3734 - accuracy: 0.3996\n",
      "Epoch 127/10000\n",
      "48528/48528 [==============================] - 5s 110us/step - loss: 1.3735 - accuracy: 0.3996\n",
      "Epoch 128/10000\n",
      "48528/48528 [==============================] - 5s 108us/step - loss: 1.3735 - accuracy: 0.3996\n",
      "Epoch 129/10000\n",
      "48528/48528 [==============================] - 5s 107us/step - loss: 1.3735 - accuracy: 0.3996\n",
      "Epoch 130/10000\n",
      "48528/48528 [==============================] - 5s 106us/step - loss: 1.3734 - accuracy: 0.3996\n",
      "Epoch 131/10000\n",
      "48528/48528 [==============================] - 5s 107us/step - loss: 1.3734 - accuracy: 0.3996\n",
      "Epoch 132/10000\n",
      "48528/48528 [==============================] - 5s 107us/step - loss: 1.3735 - accuracy: 0.3996\n",
      "Epoch 133/10000\n",
      "48528/48528 [==============================] - 5s 107us/step - loss: 1.3734 - accuracy: 0.3996\n",
      "Epoch 134/10000\n",
      "48528/48528 [==============================] - 5s 107us/step - loss: 1.3734 - accuracy: 0.3996\n",
      "Epoch 135/10000\n",
      "48528/48528 [==============================] - 5s 110us/step - loss: 1.3734 - accuracy: 0.3996\n",
      "Epoch 136/10000\n",
      "48528/48528 [==============================] - 5s 110us/step - loss: 1.3735 - accuracy: 0.3996\n",
      "Epoch 137/10000\n",
      "48528/48528 [==============================] - 5s 110us/step - loss: 1.3735 - accuracy: 0.3996\n",
      "Epoch 138/10000\n",
      "48528/48528 [==============================] - 5s 110us/step - loss: 1.3734 - accuracy: 0.3996\n",
      "Epoch 139/10000\n",
      "48528/48528 [==============================] - 5s 110us/step - loss: 1.3734 - accuracy: 0.3996\n",
      "Epoch 140/10000\n",
      "48528/48528 [==============================] - 5s 110us/step - loss: 1.3733 - accuracy: 0.3996\n",
      "Epoch 141/10000\n",
      "48528/48528 [==============================] - 5s 108us/step - loss: 1.3735 - accuracy: 0.3996\n",
      "Epoch 142/10000\n",
      "48528/48528 [==============================] - 5s 106us/step - loss: 1.3734 - accuracy: 0.3996\n",
      "Epoch 143/10000\n",
      "48528/48528 [==============================] - 5s 107us/step - loss: 1.3734 - accuracy: 0.3996\n",
      "Epoch 144/10000\n",
      "48528/48528 [==============================] - 5s 108us/step - loss: 1.3734 - accuracy: 0.3996\n",
      "Epoch 145/10000\n",
      "48528/48528 [==============================] - 5s 108us/step - loss: 1.3734 - accuracy: 0.3996\n",
      "Epoch 146/10000\n",
      "48528/48528 [==============================] - 5s 110us/step - loss: 1.3734 - accuracy: 0.3996\n",
      "Epoch 147/10000\n",
      "48528/48528 [==============================] - 5s 113us/step - loss: 1.3734 - accuracy: 0.3996\n",
      "Epoch 148/10000\n",
      "48528/48528 [==============================] - 6s 120us/step - loss: 1.3735 - accuracy: 0.3996\n",
      "Epoch 149/10000\n"
     ]
    },
    {
     "name": "stdout",
     "output_type": "stream",
     "text": [
      "48528/48528 [==============================] - 6s 118us/step - loss: 1.3735 - accuracy: 0.3996\n",
      "Epoch 150/10000\n",
      "48528/48528 [==============================] - 6s 119us/step - loss: 1.3734 - accuracy: 0.3996\n",
      "Epoch 151/10000\n",
      "48528/48528 [==============================] - 6s 114us/step - loss: 1.3734 - accuracy: 0.3996\n",
      "Epoch 152/10000\n",
      "48528/48528 [==============================] - 6s 115us/step - loss: 1.3733 - accuracy: 0.3996\n",
      "Epoch 153/10000\n",
      "48528/48528 [==============================] - 6s 114us/step - loss: 1.3734 - accuracy: 0.3996\n",
      "Epoch 154/10000\n",
      "48528/48528 [==============================] - 6s 114us/step - loss: 1.3735 - accuracy: 0.3996\n",
      "Epoch 155/10000\n",
      "48528/48528 [==============================] - 6s 116us/step - loss: 1.3734 - accuracy: 0.3996\n",
      "Epoch 156/10000\n",
      "48528/48528 [==============================] - 6s 123us/step - loss: 1.3734 - accuracy: 0.3996\n",
      "Epoch 157/10000\n",
      "48528/48528 [==============================] - 6s 115us/step - loss: 1.3734 - accuracy: 0.3996\n",
      "Epoch 158/10000\n",
      "48528/48528 [==============================] - 6s 125us/step - loss: 1.3734 - accuracy: 0.3996\n",
      "Epoch 159/10000\n",
      "48528/48528 [==============================] - 6s 121us/step - loss: 1.3734 - accuracy: 0.3996\n",
      "Epoch 160/10000\n",
      "48528/48528 [==============================] - 6s 124us/step - loss: 1.3733 - accuracy: 0.3996\n",
      "Epoch 161/10000\n",
      "48528/48528 [==============================] - 6s 121us/step - loss: 1.3734 - accuracy: 0.3996\n",
      "Epoch 162/10000\n",
      "48528/48528 [==============================] - 6s 122us/step - loss: 1.3734 - accuracy: 0.3996\n",
      "Epoch 163/10000\n",
      "48528/48528 [==============================] - 6s 120us/step - loss: 1.3735 - accuracy: 0.3996\n",
      "Epoch 164/10000\n",
      "48528/48528 [==============================] - 6s 129us/step - loss: 1.3734 - accuracy: 0.3996\n",
      "Epoch 165/10000\n",
      "48528/48528 [==============================] - 6s 120us/step - loss: 1.3735 - accuracy: 0.3996\n",
      "Epoch 166/10000\n",
      "48528/48528 [==============================] - 6s 123us/step - loss: 1.3734 - accuracy: 0.3996\n",
      "Epoch 167/10000\n",
      "48528/48528 [==============================] - 6s 119us/step - loss: 1.3733 - accuracy: 0.3996\n",
      "Epoch 168/10000\n",
      "48528/48528 [==============================] - 6s 118us/step - loss: 1.3735 - accuracy: 0.3996\n",
      "Epoch 169/10000\n",
      "48528/48528 [==============================] - 6s 115us/step - loss: 1.3734 - accuracy: 0.3996\n",
      "Epoch 170/10000\n",
      "48528/48528 [==============================] - 6s 114us/step - loss: 1.3734 - accuracy: 0.3996\n",
      "Epoch 171/10000\n",
      "48528/48528 [==============================] - 5s 111us/step - loss: 1.3735 - accuracy: 0.3996\n",
      "Epoch 172/10000\n",
      "48528/48528 [==============================] - 5s 112us/step - loss: 1.3734 - accuracy: 0.3996\n",
      "Epoch 173/10000\n",
      "48528/48528 [==============================] - 5s 110us/step - loss: 1.3734 - accuracy: 0.3996\n",
      "Epoch 174/10000\n",
      "48528/48528 [==============================] - 5s 110us/step - loss: 1.3734 - accuracy: 0.3996\n",
      "Epoch 175/10000\n",
      "48528/48528 [==============================] - 5s 111us/step - loss: 1.3735 - accuracy: 0.3996\n",
      "Epoch 176/10000\n",
      "48528/48528 [==============================] - 5s 110us/step - loss: 1.3735 - accuracy: 0.3996\n",
      "Epoch 177/10000\n",
      "48528/48528 [==============================] - 5s 112us/step - loss: 1.3734 - accuracy: 0.3996\n",
      "Epoch 178/10000\n",
      "48528/48528 [==============================] - 5s 111us/step - loss: 1.3735 - accuracy: 0.3996\n",
      "Epoch 179/10000\n",
      "48528/48528 [==============================] - 5s 111us/step - loss: 1.3734 - accuracy: 0.3996\n",
      "Epoch 180/10000\n",
      "48528/48528 [==============================] - 5s 110us/step - loss: 1.3734 - accuracy: 0.3996\n",
      "Epoch 181/10000\n",
      "48528/48528 [==============================] - 5s 112us/step - loss: 1.3734 - accuracy: 0.3996\n",
      "Epoch 182/10000\n",
      "48528/48528 [==============================] - 5s 111us/step - loss: 1.3735 - accuracy: 0.3996\n",
      "Epoch 183/10000\n",
      "48528/48528 [==============================] - 6s 113us/step - loss: 1.3734 - accuracy: 0.3996\n",
      "Epoch 184/10000\n",
      "48528/48528 [==============================] - 6s 116us/step - loss: 1.3735 - accuracy: 0.3996\n",
      "Epoch 185/10000\n",
      "48528/48528 [==============================] - 6s 115us/step - loss: 1.3734 - accuracy: 0.3996\n",
      "Epoch 186/10000\n",
      "48528/48528 [==============================] - 6s 119us/step - loss: 1.3734 - accuracy: 0.3996\n",
      "Epoch 187/10000\n",
      "48528/48528 [==============================] - 6s 119us/step - loss: 1.3733 - accuracy: 0.3996\n",
      "Epoch 188/10000\n",
      "48528/48528 [==============================] - 6s 120us/step - loss: 1.3734 - accuracy: 0.3996\n",
      "Epoch 189/10000\n",
      "48528/48528 [==============================] - 6s 120us/step - loss: 1.3735 - accuracy: 0.3996\n",
      "Epoch 190/10000\n",
      "48528/48528 [==============================] - 6s 127us/step - loss: 1.3734 - accuracy: 0.3996\n",
      "Epoch 191/10000\n",
      "48528/48528 [==============================] - 6s 133us/step - loss: 1.3735 - accuracy: 0.3996\n",
      "Epoch 192/10000\n",
      "48528/48528 [==============================] - 7s 139us/step - loss: 1.3735 - accuracy: 0.3996\n",
      "Epoch 193/10000\n",
      "48528/48528 [==============================] - 7s 147us/step - loss: 1.3734 - accuracy: 0.3996\n",
      "Epoch 194/10000\n",
      "48528/48528 [==============================] - 7s 139us/step - loss: 1.3734 - accuracy: 0.3996\n",
      "Epoch 195/10000\n",
      "48528/48528 [==============================] - 6s 132us/step - loss: 1.3734 - accuracy: 0.3996\n",
      "Epoch 196/10000\n",
      "48528/48528 [==============================] - 6s 130us/step - loss: 1.3734 - accuracy: 0.3996\n",
      "Epoch 197/10000\n",
      "48528/48528 [==============================] - 6s 124us/step - loss: 1.3734 - accuracy: 0.3996\n",
      "Epoch 198/10000\n",
      "48528/48528 [==============================] - 6s 121us/step - loss: 1.3734 - accuracy: 0.3996\n",
      "Epoch 199/10000\n",
      "48528/48528 [==============================] - 6s 121us/step - loss: 1.3734 - accuracy: 0.3996\n",
      "Epoch 200/10000\n",
      "48528/48528 [==============================] - 6s 119us/step - loss: 1.3734 - accuracy: 0.3996\n",
      "Epoch 201/10000\n",
      "48528/48528 [==============================] - 6s 119us/step - loss: 1.3735 - accuracy: 0.3996\n",
      "Epoch 202/10000\n",
      "48528/48528 [==============================] - 6s 119us/step - loss: 1.3734 - accuracy: 0.3996\n",
      "Epoch 203/10000\n",
      "48528/48528 [==============================] - 6s 119us/step - loss: 1.3734 - accuracy: 0.3996\n",
      "Epoch 204/10000\n",
      "48528/48528 [==============================] - 6s 120us/step - loss: 1.3734 - accuracy: 0.3996\n",
      "Epoch 205/10000\n",
      "48528/48528 [==============================] - 6s 119us/step - loss: 1.3734 - accuracy: 0.3996\n",
      "Epoch 206/10000\n",
      "48528/48528 [==============================] - 6s 119us/step - loss: 1.3734 - accuracy: 0.3996\n",
      "Epoch 207/10000\n",
      "48528/48528 [==============================] - 6s 120us/step - loss: 1.3734 - accuracy: 0.3996\n",
      "Epoch 208/10000\n",
      "48528/48528 [==============================] - 6s 119us/step - loss: 1.3734 - accuracy: 0.3996\n",
      "Epoch 209/10000\n",
      "48528/48528 [==============================] - 6s 121us/step - loss: 1.3734 - accuracy: 0.3996\n",
      "Epoch 210/10000\n",
      "48528/48528 [==============================] - 6s 120us/step - loss: 1.3734 - accuracy: 0.3996\n",
      "Epoch 211/10000\n",
      "48528/48528 [==============================] - 6s 120us/step - loss: 1.3734 - accuracy: 0.3996\n",
      "Epoch 212/10000\n",
      "48528/48528 [==============================] - 6s 120us/step - loss: 1.3735 - accuracy: 0.3996\n",
      "Epoch 213/10000\n",
      "48528/48528 [==============================] - 6s 119us/step - loss: 1.3734 - accuracy: 0.3996\n",
      "Epoch 214/10000\n",
      "48528/48528 [==============================] - 6s 121us/step - loss: 1.3734 - accuracy: 0.3996\n",
      "Epoch 215/10000\n",
      "48528/48528 [==============================] - 6s 120us/step - loss: 1.3734 - accuracy: 0.3996\n",
      "Epoch 216/10000\n",
      "48528/48528 [==============================] - 6s 118us/step - loss: 1.3734 - accuracy: 0.3996\n",
      "Epoch 217/10000\n",
      "48528/48528 [==============================] - 6s 117us/step - loss: 1.3734 - accuracy: 0.3996\n",
      "Epoch 218/10000\n",
      "48528/48528 [==============================] - 5s 113us/step - loss: 1.3734 - accuracy: 0.3996\n",
      "Epoch 219/10000\n",
      "48528/48528 [==============================] - 5s 107us/step - loss: 1.3734 - accuracy: 0.3996\n",
      "Epoch 220/10000\n",
      "48528/48528 [==============================] - 5s 110us/step - loss: 1.3734 - accuracy: 0.3996\n",
      "Epoch 221/10000\n",
      "48528/48528 [==============================] - 5s 107us/step - loss: 1.3734 - accuracy: 0.3996\n",
      "Epoch 222/10000\n",
      "48528/48528 [==============================] - 5s 107us/step - loss: 1.3735 - accuracy: 0.3996\n"
     ]
    },
    {
     "name": "stdout",
     "output_type": "stream",
     "text": [
      "Epoch 223/10000\n",
      "48528/48528 [==============================] - 5s 107us/step - loss: 1.3734 - accuracy: 0.3996\n",
      "Epoch 224/10000\n",
      "48528/48528 [==============================] - 5s 107us/step - loss: 1.3734 - accuracy: 0.3996\n",
      "Epoch 225/10000\n",
      "48528/48528 [==============================] - 5s 107us/step - loss: 1.3734 - accuracy: 0.3996\n",
      "Epoch 226/10000\n",
      "48528/48528 [==============================] - 5s 108us/step - loss: 1.3734 - accuracy: 0.3996\n",
      "Epoch 227/10000\n",
      "48528/48528 [==============================] - 5s 107us/step - loss: 1.3734 - accuracy: 0.3996\n",
      "Epoch 228/10000\n",
      "48528/48528 [==============================] - 5s 107us/step - loss: 1.3734 - accuracy: 0.3996\n",
      "Epoch 229/10000\n",
      "48528/48528 [==============================] - 5s 107us/step - loss: 1.3734 - accuracy: 0.3996\n",
      "Epoch 230/10000\n",
      "48528/48528 [==============================] - 5s 107us/step - loss: 1.3735 - accuracy: 0.3996\n",
      "Epoch 231/10000\n",
      "48528/48528 [==============================] - 5s 106us/step - loss: 1.3734 - accuracy: 0.3996\n",
      "Epoch 232/10000\n",
      "48528/48528 [==============================] - 5s 107us/step - loss: 1.3734 - accuracy: 0.3996\n",
      "Epoch 233/10000\n",
      "48528/48528 [==============================] - 5s 110us/step - loss: 1.3735 - accuracy: 0.3996\n",
      "Epoch 234/10000\n",
      "48528/48528 [==============================] - 5s 110us/step - loss: 1.3734 - accuracy: 0.3996\n",
      "Epoch 235/10000\n",
      "48528/48528 [==============================] - 5s 110us/step - loss: 1.3734 - accuracy: 0.3996\n",
      "Epoch 236/10000\n",
      "48528/48528 [==============================] - 5s 110us/step - loss: 1.3734 - accuracy: 0.3996\n",
      "Epoch 237/10000\n",
      "48528/48528 [==============================] - 5s 112us/step - loss: 1.3735 - accuracy: 0.3996\n",
      "Epoch 238/10000\n",
      "48528/48528 [==============================] - 5s 110us/step - loss: 1.3734 - accuracy: 0.3996\n",
      "Epoch 239/10000\n",
      "48528/48528 [==============================] - 5s 109us/step - loss: 1.3734 - accuracy: 0.3996\n",
      "Epoch 240/10000\n",
      "48528/48528 [==============================] - 5s 107us/step - loss: 1.3734 - accuracy: 0.3996\n",
      "Epoch 241/10000\n",
      "48528/48528 [==============================] - 5s 107us/step - loss: 1.3734 - accuracy: 0.3996\n",
      "Epoch 242/10000\n",
      "48528/48528 [==============================] - 5s 107us/step - loss: 1.3735 - accuracy: 0.3996\n",
      "Epoch 243/10000\n",
      "48528/48528 [==============================] - 5s 109us/step - loss: 1.3734 - accuracy: 0.3996\n",
      "Epoch 244/10000\n",
      "48528/48528 [==============================] - 5s 109us/step - loss: 1.3734 - accuracy: 0.3996\n",
      "Epoch 245/10000\n",
      "48528/48528 [==============================] - 5s 107us/step - loss: 1.3734 - accuracy: 0.3996\n",
      "Epoch 246/10000\n",
      "48528/48528 [==============================] - 5s 107us/step - loss: 1.3735 - accuracy: 0.3996\n",
      "Epoch 247/10000\n",
      "48528/48528 [==============================] - 5s 106us/step - loss: 1.3735 - accuracy: 0.3996\n",
      "Epoch 248/10000\n",
      "48528/48528 [==============================] - 5s 107us/step - loss: 1.3734 - accuracy: 0.3996\n",
      "Epoch 249/10000\n",
      "48528/48528 [==============================] - 5s 108us/step - loss: 1.3735 - accuracy: 0.3996\n",
      "Epoch 250/10000\n",
      "48528/48528 [==============================] - 5s 107us/step - loss: 1.3734 - accuracy: 0.3996\n",
      "Epoch 251/10000\n",
      "48528/48528 [==============================] - 5s 107us/step - loss: 1.3734 - accuracy: 0.3996\n",
      "Epoch 252/10000\n",
      "48528/48528 [==============================] - 5s 107us/step - loss: 1.3734 - accuracy: 0.3996\n",
      "Epoch 253/10000\n",
      "48528/48528 [==============================] - 5s 107us/step - loss: 1.3734 - accuracy: 0.3996\n",
      "Epoch 254/10000\n",
      "48528/48528 [==============================] - 5s 109us/step - loss: 1.3733 - accuracy: 0.3996\n",
      "Epoch 255/10000\n",
      "48528/48528 [==============================] - 5s 111us/step - loss: 1.3734 - accuracy: 0.3996\n",
      "Epoch 256/10000\n",
      "48528/48528 [==============================] - 5s 110us/step - loss: 1.3735 - accuracy: 0.3996\n",
      "Epoch 257/10000\n",
      "48528/48528 [==============================] - 5s 110us/step - loss: 1.3734 - accuracy: 0.3996\n",
      "Epoch 258/10000\n",
      "48528/48528 [==============================] - 5s 110us/step - loss: 1.3735 - accuracy: 0.3996\n",
      "Epoch 259/10000\n",
      "48528/48528 [==============================] - 5s 107us/step - loss: 1.3735 - accuracy: 0.3996\n",
      "Epoch 260/10000\n",
      "48528/48528 [==============================] - 5s 106us/step - loss: 1.3734 - accuracy: 0.3996\n",
      "Epoch 261/10000\n",
      "48528/48528 [==============================] - 5s 108us/step - loss: 1.3734 - accuracy: 0.3996\n",
      "Epoch 262/10000\n",
      "48528/48528 [==============================] - 5s 107us/step - loss: 1.3733 - accuracy: 0.3996\n",
      "Epoch 263/10000\n",
      "48528/48528 [==============================] - 5s 106us/step - loss: 1.3734 - accuracy: 0.3996\n",
      "Epoch 264/10000\n",
      "48528/48528 [==============================] - 5s 107us/step - loss: 1.3734 - accuracy: 0.3996\n",
      "Epoch 265/10000\n",
      "48528/48528 [==============================] - 5s 104us/step - loss: 1.3734 - accuracy: 0.3996\n",
      "Epoch 266/10000\n",
      "48528/48528 [==============================] - 5s 104us/step - loss: 1.3735 - accuracy: 0.3996\n",
      "Epoch 267/10000\n",
      "48528/48528 [==============================] - 5s 105us/step - loss: 1.3734 - accuracy: 0.3996\n",
      "Epoch 268/10000\n",
      "48528/48528 [==============================] - 5s 106us/step - loss: 1.3734 - accuracy: 0.3996\n",
      "Epoch 269/10000\n",
      "48528/48528 [==============================] - 5s 106us/step - loss: 1.3734 - accuracy: 0.3996\n",
      "Epoch 270/10000\n",
      "48528/48528 [==============================] - 5s 107us/step - loss: 1.3734 - accuracy: 0.3996\n",
      "Epoch 271/10000\n",
      "48528/48528 [==============================] - 5s 108us/step - loss: 1.3734 - accuracy: 0.3996\n",
      "Epoch 272/10000\n",
      "48528/48528 [==============================] - 6s 115us/step - loss: 1.3734 - accuracy: 0.3996\n",
      "Epoch 273/10000\n",
      "48528/48528 [==============================] - 6s 117us/step - loss: 1.3735 - accuracy: 0.3996\n",
      "Epoch 274/10000\n",
      "48528/48528 [==============================] - 5s 113us/step - loss: 1.3734 - accuracy: 0.3996\n",
      "Epoch 275/10000\n",
      "48528/48528 [==============================] - 6s 115us/step - loss: 1.3733 - accuracy: 0.3996\n",
      "Epoch 276/10000\n",
      "48528/48528 [==============================] - 6s 114us/step - loss: 1.3733 - accuracy: 0.3996\n",
      "Epoch 277/10000\n",
      "48528/48528 [==============================] - 6s 115us/step - loss: 1.3734 - accuracy: 0.3996\n",
      "Epoch 278/10000\n",
      "48528/48528 [==============================] - 5s 112us/step - loss: 1.3735 - accuracy: 0.3996\n",
      "Epoch 279/10000\n",
      "48528/48528 [==============================] - 5s 113us/step - loss: 1.3735 - accuracy: 0.3996\n",
      "Epoch 280/10000\n",
      "48528/48528 [==============================] - 5s 113us/step - loss: 1.3734 - accuracy: 0.3996\n",
      "Epoch 281/10000\n",
      "48528/48528 [==============================] - 6s 114us/step - loss: 1.3734 - accuracy: 0.3996\n",
      "Epoch 282/10000\n",
      "48528/48528 [==============================] - 6s 117us/step - loss: 1.3734 - accuracy: 0.3996\n",
      "Epoch 283/10000\n",
      "48528/48528 [==============================] - 6s 127us/step - loss: 1.3734 - accuracy: 0.3996\n",
      "Epoch 284/10000\n",
      "19344/48528 [==========>...................] - ETA: 3s - loss: 1.3747 - accuracy: 0.3971"
     ]
    }
   ],
   "source": [
    "history = model.fit(X_train, y_train, epochs=284, batch_size=16)"
   ]
  },
  {
   "cell_type": "markdown",
   "metadata": {},
   "source": [
    "The result shows adding values of epoch did not improve the accuracy, therefore, I will stick to using epoch = 100 in the following training: "
   ]
  },
  {
   "cell_type": "markdown",
   "metadata": {},
   "source": [
    "### 3. The third Neural Network model with activation function mixed:"
   ]
  },
  {
   "cell_type": "markdown",
   "metadata": {},
   "source": [
    "In this session I will try to use a mixed activation function to train the model:\n",
    "\n",
    "For the first and second layer, I would use activation function \"relu\", for the third layer I would use activation function \"softmax\"."
   ]
  },
  {
   "cell_type": "code",
   "execution_count": 1,
   "metadata": {},
   "outputs": [
    {
     "name": "stderr",
     "output_type": "stream",
     "text": [
      "Using TensorFlow backend.\n"
     ]
    }
   ],
   "source": [
    "import numpy as np\n",
    "## Import tensorflow package\n",
    "import tensorflow as tf\n",
    "assert tf.__version__ >= \"2.0\"\n",
    "from tensorflow import keras\n",
    "import os\n",
    "import warnings\n",
    "warnings.filterwarnings(action=\"ignore\")\n",
    "# To make the output stable across runs, set a seed\n",
    "np.random.seed(42)\n",
    "#Dependencies\n",
    "from keras.models import Sequential\n",
    "from keras.layers import Dense\n",
    "# Neural network\n",
    "model = Sequential()\n",
    "model.add(Dense(100, input_dim=(4), activation='relu'))\n",
    "model.add(Dense(50, activation='relu'))\n",
    "model.add(Dense(5, activation='softmax'))\n",
    "model.compile(loss='categorical_crossentropy', optimizer='adam', metrics=['accuracy'])"
   ]
  },
  {
   "cell_type": "code",
   "execution_count": 178,
   "metadata": {},
   "outputs": [],
   "source": [
    "X = diamond2[['depth','price','y','z']].values\n",
    "y = diamond2['cut'].values\n",
    "# Partition data into training and test sets\n",
    "from sklearn.model_selection import train_test_split\n",
    "\n",
    "X_train, X_test, y_train, y_test = train_test_split(X, y, test_size=0.1, \n",
    "                                  random_state=0, stratify=y)\n",
    "y_train = keras.utils.to_categorical(y_train, 5)"
   ]
  },
  {
   "cell_type": "code",
   "execution_count": 179,
   "metadata": {},
   "outputs": [
    {
     "name": "stdout",
     "output_type": "stream",
     "text": [
      "Epoch 1/100\n",
      "3033/3033 [==============================] - 2s 665us/step - loss: 1.3720 - accuracy: 0.3990\n",
      "Epoch 2/100\n",
      "3033/3033 [==============================] - 2s 672us/step - loss: 1.3533 - accuracy: 0.4053\n",
      "Epoch 3/100\n",
      "3033/3033 [==============================] - 2s 677us/step - loss: 1.3379 - accuracy: 0.4093\n",
      "Epoch 4/100\n",
      "3033/3033 [==============================] - 2s 680us/step - loss: 1.3268 - accuracy: 0.4113\n",
      "Epoch 5/100\n",
      "3033/3033 [==============================] - 2s 669us/step - loss: 1.3199 - accuracy: 0.4117\n",
      "Epoch 6/100\n",
      "3033/3033 [==============================] - 2s 670us/step - loss: 1.3177 - accuracy: 0.4154\n",
      "Epoch 7/100\n",
      "3033/3033 [==============================] - 2s 674us/step - loss: 1.3140 - accuracy: 0.4150\n",
      "Epoch 8/100\n",
      "3033/3033 [==============================] - 2s 675us/step - loss: 1.3110 - accuracy: 0.4170\n",
      "Epoch 9/100\n",
      "3033/3033 [==============================] - 2s 674us/step - loss: 1.3079 - accuracy: 0.4170\n",
      "Epoch 10/100\n",
      "3033/3033 [==============================] - 2s 673us/step - loss: 1.3063 - accuracy: 0.4188\n",
      "Epoch 11/100\n",
      "3033/3033 [==============================] - 2s 674us/step - loss: 1.3028 - accuracy: 0.4218\n",
      "Epoch 12/100\n",
      "3033/3033 [==============================] - 2s 676us/step - loss: 1.3003 - accuracy: 0.4220\n",
      "Epoch 13/100\n",
      "3033/3033 [==============================] - 2s 674us/step - loss: 1.3003 - accuracy: 0.4221\n",
      "Epoch 14/100\n",
      "3033/3033 [==============================] - 2s 671us/step - loss: 1.2956 - accuracy: 0.4218\n",
      "Epoch 15/100\n",
      "3033/3033 [==============================] - 2s 672us/step - loss: 1.2935 - accuracy: 0.4235\n",
      "Epoch 16/100\n",
      "3033/3033 [==============================] - 2s 676us/step - loss: 1.2903 - accuracy: 0.4267\n",
      "Epoch 17/100\n",
      "3033/3033 [==============================] - 2s 672us/step - loss: 1.2855 - accuracy: 0.4252\n",
      "Epoch 18/100\n",
      "3033/3033 [==============================] - 2s 669us/step - loss: 1.2807 - accuracy: 0.4278\n",
      "Epoch 19/100\n",
      "3033/3033 [==============================] - 2s 669us/step - loss: 1.2754 - accuracy: 0.4300\n",
      "Epoch 20/100\n",
      "3033/3033 [==============================] - 2s 662us/step - loss: 1.2666 - accuracy: 0.4343\n",
      "Epoch 21/100\n",
      "3033/3033 [==============================] - 2s 667us/step - loss: 1.2497 - accuracy: 0.4418\n",
      "Epoch 22/100\n",
      "3033/3033 [==============================] - 2s 670us/step - loss: 1.2417 - accuracy: 0.4457\n",
      "Epoch 23/100\n",
      "3033/3033 [==============================] - 2s 671us/step - loss: 1.2092 - accuracy: 0.4625\n",
      "Epoch 24/100\n",
      "3033/3033 [==============================] - 2s 675us/step - loss: 1.1798 - accuracy: 0.4787\n",
      "Epoch 25/100\n",
      "3033/3033 [==============================] - 2s 677us/step - loss: 1.1666 - accuracy: 0.4841\n",
      "Epoch 26/100\n",
      "3033/3033 [==============================] - 2s 672us/step - loss: 1.1496 - accuracy: 0.4918\n",
      "Epoch 27/100\n",
      "3033/3033 [==============================] - 2s 672us/step - loss: 1.1389 - accuracy: 0.4982\n",
      "Epoch 28/100\n",
      "3033/3033 [==============================] - 2s 666us/step - loss: 1.1416 - accuracy: 0.4964\n",
      "Epoch 29/100\n",
      "3033/3033 [==============================] - 2s 662us/step - loss: 1.1293 - accuracy: 0.5017\n",
      "Epoch 30/100\n",
      "3033/3033 [==============================] - 2s 672us/step - loss: 1.1276 - accuracy: 0.5028\n",
      "Epoch 31/100\n",
      "3033/3033 [==============================] - 2s 671us/step - loss: 1.1316 - accuracy: 0.5010\n",
      "Epoch 32/100\n",
      "3033/3033 [==============================] - 2s 668us/step - loss: 1.1250 - accuracy: 0.5054\n",
      "Epoch 33/100\n",
      "3033/3033 [==============================] - 2s 668us/step - loss: 1.1239 - accuracy: 0.5060\n",
      "Epoch 34/100\n",
      "3033/3033 [==============================] - 2s 664us/step - loss: 1.1190 - accuracy: 0.5081\n",
      "Epoch 35/100\n",
      "3033/3033 [==============================] - 2s 668us/step - loss: 1.1208 - accuracy: 0.5073\n",
      "Epoch 36/100\n",
      "3033/3033 [==============================] - 2s 666us/step - loss: 1.1209 - accuracy: 0.5066\n",
      "Epoch 37/100\n",
      "3033/3033 [==============================] - 2s 665us/step - loss: 1.1248 - accuracy: 0.5054\n",
      "Epoch 38/100\n",
      "3033/3033 [==============================] - 2s 676us/step - loss: 1.1204 - accuracy: 0.5055\n",
      "Epoch 39/100\n",
      "3033/3033 [==============================] - 2s 671us/step - loss: 1.1185 - accuracy: 0.5083\n",
      "Epoch 40/100\n",
      "3033/3033 [==============================] - 2s 673us/step - loss: 1.1172 - accuracy: 0.5091\n",
      "Epoch 41/100\n",
      "3033/3033 [==============================] - 2s 660us/step - loss: 1.1127 - accuracy: 0.5105\n",
      "Epoch 42/100\n",
      "3033/3033 [==============================] - 2s 667us/step - loss: 1.1168 - accuracy: 0.5091\n",
      "Epoch 43/100\n",
      "3033/3033 [==============================] - 2s 673us/step - loss: 1.1143 - accuracy: 0.5100\n",
      "Epoch 44/100\n",
      "3033/3033 [==============================] - 2s 672us/step - loss: 1.1131 - accuracy: 0.5114\n",
      "Epoch 45/100\n",
      "3033/3033 [==============================] - 2s 669us/step - loss: 1.1190 - accuracy: 0.5060\n",
      "Epoch 46/100\n",
      "3033/3033 [==============================] - 2s 668us/step - loss: 1.1133 - accuracy: 0.5103\n",
      "Epoch 47/100\n",
      "3033/3033 [==============================] - 2s 666us/step - loss: 1.1096 - accuracy: 0.5120\n",
      "Epoch 48/100\n",
      "3033/3033 [==============================] - 2s 670us/step - loss: 1.1084 - accuracy: 0.5124\n",
      "Epoch 49/100\n",
      "3033/3033 [==============================] - 2s 668us/step - loss: 1.1132 - accuracy: 0.5108\n",
      "Epoch 50/100\n",
      "3033/3033 [==============================] - 2s 671us/step - loss: 1.1121 - accuracy: 0.5075\n",
      "Epoch 51/100\n",
      "3033/3033 [==============================] - 2s 672us/step - loss: 1.1036 - accuracy: 0.5151\n",
      "Epoch 52/100\n",
      "3033/3033 [==============================] - 2s 666us/step - loss: 1.1082 - accuracy: 0.5101\n",
      "Epoch 53/100\n",
      "3033/3033 [==============================] - 2s 668us/step - loss: 1.1094 - accuracy: 0.5108\n",
      "Epoch 54/100\n",
      "3033/3033 [==============================] - 2s 670us/step - loss: 1.1008 - accuracy: 0.5148\n",
      "Epoch 55/100\n",
      "3033/3033 [==============================] - 2s 673us/step - loss: 1.1028 - accuracy: 0.5157\n",
      "Epoch 56/100\n",
      "3033/3033 [==============================] - 2s 673us/step - loss: 1.1041 - accuracy: 0.5117\n",
      "Epoch 57/100\n",
      "3033/3033 [==============================] - 2s 673us/step - loss: 1.1028 - accuracy: 0.5115\n",
      "Epoch 58/100\n",
      "3033/3033 [==============================] - 2s 668us/step - loss: 1.1006 - accuracy: 0.5149\n",
      "Epoch 59/100\n",
      "3033/3033 [==============================] - 2s 668us/step - loss: 1.0995 - accuracy: 0.5145\n",
      "Epoch 60/100\n",
      "3033/3033 [==============================] - 2s 668us/step - loss: 1.1005 - accuracy: 0.5134\n",
      "Epoch 61/100\n",
      "3033/3033 [==============================] - 2s 667us/step - loss: 1.1036 - accuracy: 0.5112\n",
      "Epoch 62/100\n",
      "3033/3033 [==============================] - 2s 669us/step - loss: 1.0999 - accuracy: 0.5138\n",
      "Epoch 63/100\n",
      "3033/3033 [==============================] - 2s 665us/step - loss: 1.1002 - accuracy: 0.5120\n",
      "Epoch 64/100\n",
      "3033/3033 [==============================] - 2s 673us/step - loss: 1.0985 - accuracy: 0.5127\n",
      "Epoch 65/100\n",
      "3033/3033 [==============================] - 2s 668us/step - loss: 1.0995 - accuracy: 0.5134\n",
      "Epoch 66/100\n",
      "3033/3033 [==============================] - 2s 666us/step - loss: 1.0967 - accuracy: 0.5167\n",
      "Epoch 67/100\n",
      "3033/3033 [==============================] - 2s 671us/step - loss: 1.0936 - accuracy: 0.5174\n",
      "Epoch 68/100\n",
      "3033/3033 [==============================] - 2s 666us/step - loss: 1.0929 - accuracy: 0.5158\n",
      "Epoch 69/100\n",
      "3033/3033 [==============================] - 2s 663us/step - loss: 1.0914 - accuracy: 0.5166\n",
      "Epoch 70/100\n",
      "3033/3033 [==============================] - 2s 669us/step - loss: 1.0945 - accuracy: 0.5180\n",
      "Epoch 71/100\n",
      "3033/3033 [==============================] - 2s 668us/step - loss: 1.0913 - accuracy: 0.5206\n",
      "Epoch 72/100\n",
      "3033/3033 [==============================] - 2s 668us/step - loss: 1.0955 - accuracy: 0.5156\n",
      "Epoch 73/100\n",
      "3033/3033 [==============================] - 2s 655us/step - loss: 1.0906 - accuracy: 0.5163\n",
      "Epoch 74/100\n",
      "3033/3033 [==============================] - 2s 665us/step - loss: 1.0882 - accuracy: 0.5188\n",
      "Epoch 75/100\n",
      "3033/3033 [==============================] - 2s 669us/step - loss: 1.0906 - accuracy: 0.5150\n",
      "Epoch 76/100\n",
      "3033/3033 [==============================] - 2s 667us/step - loss: 1.0887 - accuracy: 0.5193\n",
      "Epoch 77/100\n",
      "3033/3033 [==============================] - 2s 665us/step - loss: 1.0941 - accuracy: 0.5173\n",
      "Epoch 78/100\n"
     ]
    },
    {
     "name": "stdout",
     "output_type": "stream",
     "text": [
      "3033/3033 [==============================] - 2s 671us/step - loss: 1.0887 - accuracy: 0.5178\n",
      "Epoch 79/100\n",
      "3033/3033 [==============================] - 2s 666us/step - loss: 1.0872 - accuracy: 0.5170\n",
      "Epoch 80/100\n",
      "3033/3033 [==============================] - 2s 668us/step - loss: 1.0885 - accuracy: 0.5162\n",
      "Epoch 81/100\n",
      "3033/3033 [==============================] - 2s 669us/step - loss: 1.0874 - accuracy: 0.51860s - loss: 1.0884 - accu\n",
      "Epoch 82/100\n",
      "3033/3033 [==============================] - 2s 666us/step - loss: 1.0863 - accuracy: 0.5203\n",
      "Epoch 83/100\n",
      "3033/3033 [==============================] - 2s 668us/step - loss: 1.0874 - accuracy: 0.5195\n",
      "Epoch 84/100\n",
      "3033/3033 [==============================] - 2s 668us/step - loss: 1.0863 - accuracy: 0.5186\n",
      "Epoch 85/100\n",
      "3033/3033 [==============================] - 2s 676us/step - loss: 1.0868 - accuracy: 0.5177\n",
      "Epoch 86/100\n",
      "3033/3033 [==============================] - 2s 672us/step - loss: 1.0834 - accuracy: 0.5217\n",
      "Epoch 87/100\n",
      "3033/3033 [==============================] - 2s 672us/step - loss: 1.0854 - accuracy: 0.5188\n",
      "Epoch 88/100\n",
      "3033/3033 [==============================] - 2s 672us/step - loss: 1.0869 - accuracy: 0.5191\n",
      "Epoch 89/100\n",
      "3033/3033 [==============================] - 2s 675us/step - loss: 1.0828 - accuracy: 0.5220\n",
      "Epoch 90/100\n",
      "3033/3033 [==============================] - 2s 676us/step - loss: 1.0847 - accuracy: 0.5195\n",
      "Epoch 91/100\n",
      "3033/3033 [==============================] - 2s 662us/step - loss: 1.0873 - accuracy: 0.5203\n",
      "Epoch 92/100\n",
      "3033/3033 [==============================] - 2s 663us/step - loss: 1.0797 - accuracy: 0.5230\n",
      "Epoch 93/100\n",
      "3033/3033 [==============================] - 2s 670us/step - loss: 1.0813 - accuracy: 0.5206\n",
      "Epoch 94/100\n",
      "3033/3033 [==============================] - 2s 673us/step - loss: 1.0799 - accuracy: 0.5196\n",
      "Epoch 95/100\n",
      "3033/3033 [==============================] - 2s 678us/step - loss: 1.0799 - accuracy: 0.5196\n",
      "Epoch 96/100\n",
      "3033/3033 [==============================] - 2s 661us/step - loss: 1.0797 - accuracy: 0.5225\n",
      "Epoch 97/100\n",
      "3033/3033 [==============================] - 2s 671us/step - loss: 1.0839 - accuracy: 0.5181\n",
      "Epoch 98/100\n",
      "3033/3033 [==============================] - 2s 670us/step - loss: 1.0770 - accuracy: 0.5235\n",
      "Epoch 99/100\n",
      "3033/3033 [==============================] - 2s 673us/step - loss: 1.0802 - accuracy: 0.5227\n",
      "Epoch 100/100\n",
      "3033/3033 [==============================] - 2s 669us/step - loss: 1.0798 - accuracy: 0.5193\n"
     ]
    }
   ],
   "source": [
    "history = model.fit(X_train, y_train, epochs=100, batch_size=16)"
   ]
  },
  {
   "cell_type": "markdown",
   "metadata": {},
   "source": [
    "The result shows the accuracy has been improved a lot after using the mixed activation function."
   ]
  },
  {
   "cell_type": "markdown",
   "metadata": {},
   "source": [
    "#### Make a table to compare their loss and accuracy:"
   ]
  },
  {
   "cell_type": "markdown",
   "metadata": {},
   "source": [
    "<table>\n",
    "  <thead>\n",
    "    <tr>\n",
    "      <th>Comparative term</th>\n",
    "      <th>loss </th>\n",
    "      <th>accuracy</th>\n",
    "    </tr>\n",
    "  </thead>\n",
    "  <tbody>\n",
    "    <tr>\n",
    "      <td>Activation function relu</td>\n",
    "      <th>9.6769</th>\n",
    "      <th>0.3996</th>\n",
    "    </tr>\n",
    "    <tr>\n",
    "      <td>Activation function softmax</td>\n",
    "      <th>1.3747</th>\n",
    "      <th>0.3996</th>\n",
    "      </tr>\n",
    "    <tr>\n",
    "      <td>Activation function mixed</td>\n",
    "      <th>1.0798</th>\n",
    "      <th>0.5193</th>\n",
    "      </tr>\n",
    "  </tbody>\n",
    "</table>"
   ]
  },
  {
   "cell_type": "markdown",
   "metadata": {},
   "source": [
    "The table shows in the three layers, if I use all the activation function as \"relu\", the loss is much higher than others, if I use all the activation function as \"softmax\", the loss is far lower than using all functions as \"relu\", but the accuracy did not improve, if I use the activation mixed (In the first and second layer I use \"relu\", in the third layer I use \"softmax\"), then the loss decreases and the accuracy improves much. \n",
    "\n",
    "Therefore, the one with mixed activation function is the best, I will use it to do the prediction."
   ]
  },
  {
   "cell_type": "code",
   "execution_count": 180,
   "metadata": {},
   "outputs": [],
   "source": [
    "y_pred = model.predict(X_test)"
   ]
  },
  {
   "cell_type": "code",
   "execution_count": 181,
   "metadata": {},
   "outputs": [
    {
     "data": {
      "text/plain": [
       "array([[6.63289309e-01, 2.08387285e-01, 8.04563332e-03, 1.20013177e-01,\n",
       "        2.64582952e-04],\n",
       "       [3.61200899e-01, 3.97252351e-01, 3.37301902e-02, 2.05168337e-01,\n",
       "        2.64814938e-03],\n",
       "       [2.39442103e-03, 4.08334367e-04, 1.75630562e-02, 4.93360730e-03,\n",
       "        9.74700511e-01],\n",
       "       ...,\n",
       "       [3.80426556e-01, 3.43920171e-01, 4.23682407e-02, 2.32082337e-01,\n",
       "        1.20265211e-03],\n",
       "       [6.04852021e-01, 2.62077332e-01, 8.71111080e-03, 1.23858765e-01,\n",
       "        5.00777795e-04],\n",
       "       [1.57965228e-01, 1.48055285e-01, 1.91116020e-01, 4.97290105e-01,\n",
       "        5.57332998e-03]], dtype=float32)"
      ]
     },
     "execution_count": 181,
     "metadata": {},
     "output_type": "execute_result"
    }
   ],
   "source": [
    "y_pred"
   ]
  },
  {
   "cell_type": "code",
   "execution_count": 191,
   "metadata": {},
   "outputs": [
    {
     "data": {
      "image/png": "[encoded data removed]",
      "text/plain": [
       "<Figure size 432x288 with 1 Axes>"
      ]
     },
     "metadata": {
      "needs_background": "light"
     },
     "output_type": "display_data"
    }
   ],
   "source": [
    "## Show the training plot\n",
    "plt.plot(pd.DataFrame(history.history))\n",
    "plt.grid(True)\n",
    "plt.gca().set_ylim(0, 1)\n",
    "plt.show()"
   ]
  },
  {
   "cell_type": "code",
   "execution_count": 208,
   "metadata": {},
   "outputs": [
    {
     "data": {
      "image/png": "[encoded data removed]",
      "text/plain": [
       "<Figure size 432x288 with 1 Axes>"
      ]
     },
     "metadata": {
      "needs_background": "light"
     },
     "output_type": "display_data"
    }
   ],
   "source": [
    "## Show the predictions plot\n",
    "plt.plot(pd.DataFrame(y_pred))\n",
    "plt.grid(True)\n",
    "plt.gca().set_ylim(0, 1)\n",
    "plt.show()"
   ]
  },
  {
   "cell_type": "markdown",
   "metadata": {},
   "source": [
    "## Conclusion\n",
    "\n",
    "1. After EDA, I found there are lots of outliers in price, but since there may be precious diamonds which have much high price, so the outliers of price are reasonable, I choose not to remove any outliers.\n",
    "\n",
    "2. There are some invalid values, such as zeros in length, width and depth, so I remove those rows containing invalid values.\n",
    "\n",
    "3. The data is not normally distributed, so I take the logarithms of numeric data to make them normally distributed.\n",
    "\n",
    "4. I label the categorical varibales.\n",
    "\n",
    "5. After calulating the entropy and information gain of each variables, I choose four explanatory variables which have low entropy and higher information gain, to construct the Neural Network.\n",
    "\n",
    "6. I choose three layers to be in Neural Network, one input layer, one hidden layer and one output layer. For comparison, every model uses the same number of layers.\n",
    "\n",
    "7. I tried different batch size when constructing Neural Network, when using batch size that is equal to 1 (stochastic gradient descent), the training and reporting time is pretty long, so fianlly I think mini-batch gradient descent is the best.\n",
    "\n",
    "8. When using different activation functions, the accuracy and loss are different. When using all three activation functions as \"relu\", the loss is much higher and the accuracy is low, when using all three activation functions as \"softmax\", the loss improves but the accuracy is still low. When using the input and hidden layers' activation function as \"relu\" and the output layer's activation fucntion as \"softmax\", the loss decreases and the accuracy improves.\n",
    "\n",
    "I think the reason for that is, as I mentioned and quoted above, \"Disadvantages of ReLU is, when inputs approach zero, the gradient of the function becomes zero, the network cannot perform backpropagation and cannot learn.\" my output layers contain lots of values which are approximate to zero, therefore, change the output layer's activation function to softmax would improve the result a lot. \n",
    "\n",
    "Therefore, the \"best\" model in my mind in this assignment is the third Neural Network I constructed above."
   ]
  }
 ],
 "metadata": {
  "kernelspec": {
   "display_name": "Python 3",
   "language": "python",
   "name": "python3"
  },
  "language_info": {
   "codemirror_mode": {
    "name": "ipython",
    "version": 3
   },
   "file_extension": ".py",
   "mimetype": "text/x-python",
   "name": "python",
   "nbconvert_exporter": "python",
   "pygments_lexer": "ipython3",
   "version": "3.7.6"
  }
 },
 "nbformat": 4,
 "nbformat_minor": 4
}
