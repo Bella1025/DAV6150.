{
 "cells": [
  {
   "cell_type": "markdown",
   "metadata": {},
   "source": [
    "## Introduction\n",
    "### This project is aimed to find a best regression model on dataset of wines. \"Target\" is the response variables, which is the number of cases of wine sold. The explanatory variables are:\n",
    "\n",
    "#### INDEX: The Unique ID of wine, it assigns unique codes to different wines. It's a lot like ISBN for books. Each wine has a unique numerical code and display name which can be shared automatically.\n",
    "#### AcidIndex: Measures total acidity of wine via a weighted average.\n",
    "#### Alcohol: Alcohol Content, the percent alcohol content of the wine\n",
    "#### Chlorides: Chloride content of the wine, the amount of salt in the wine\n",
    "#### CitricAcid: Citric Acid content of the wine, found in small quantities, citric acid can add ‘freshness’ and flavor to wines\n",
    "#### Density: Density of the wine, the density of water is close to that of water depending on the percent alcohol and sugar content\n",
    "#### FixedAcidity: FixedAcidity of the wine, do not evaporate readily\n",
    "#### FreeSulfurDioxide: Sulfur Dioxide content of the wine. the free form of SO2 exists in equilibrium between molecular SO2 (as a dissolved gas) and bisulfite ion; it prevents microbial growth and the oxidation of wine\n",
    "#### LabelAppeal: Subjective marketing score that indicates the appeal of the design of the label on the bottle\n",
    "#### ResidualSugar: Residual sugar content of the wine, the amount of sugar remaining after fermentation stops, it’s rare to find wines with less than 1 gram/liter and wines with greater than 45 grams/liter are considered sweet\n",
    "#### STARS: Wine rating as determined by experts (4 = excellent; 1 =Poor)\n",
    "#### Sulphates: Sulfate content of the wine, a wine additive which can contribute to sulfur dioxide gas (S02) levels, wich acts as an antimicrobial and antioxidant\n",
    "#### TotalSulfurDioxide: Total sulfur dioxide content of the wine, amount of free and bound forms of S02; in low concentrations, SO2 is mostly undetectable in wine, but at free SO2 concentrations over 50 ppm, SO2 becomes evident in the nose and taste of wine\n",
    "#### VolatileAcidity: Volatile acid content of the wine, the amount of acetic acid in wine, which at too high of levels can lead to an unpleasant, vinegar taste.\n",
    "#### pH: pH of the wine, describes how acidic or basic a wine is on a scale from 0 (very acidic) to 14 (very basic); most wines are between 3-4 on the pH scale\n",
    "\n",
    "### I would impute the missing values first, analyze single variable, check the correlations, then apply multiple linear regression model, poisson regression model and negative binomial regression model, to determine which model and what regressors are the best."
   ]
  },
  {
   "cell_type": "code",
   "execution_count": 138,
   "metadata": {},
   "outputs": [],
   "source": [
    "#import the file and important packages\n",
    "import matplotlib.pyplot as plt\n",
    "import numpy as np\n",
    "import pandas as pd \n",
    "import seaborn as sns\n",
    "\n",
    "import statsmodels.api as sm\n",
    "\n",
    "import pandas as pd\n",
    "data = pd.read_excel(\"M3_Data.xls\")\n",
    "datas = pd.read_excel(\"Project1_Eval.xls\")"
   ]
  },
  {
   "cell_type": "markdown",
   "metadata": {},
   "source": [
    "## Data preprocessing\n",
    "### To begin my data prepocessing, first I want to check what the types of data are in different features, check what are categorical variables, what are numeric variables, what type of numeric values are in numeric variables:"
   ]
  },
  {
   "cell_type": "code",
   "execution_count": 94,
   "metadata": {},
   "outputs": [
    {
     "data": {
      "text/plain": [
       "INDEX                   int64\n",
       "TARGET                  int64\n",
       "FixedAcidity          float64\n",
       "VolatileAcidity       float64\n",
       "CitricAcid            float64\n",
       "ResidualSugar         float64\n",
       "Chlorides             float64\n",
       "FreeSulfurDioxide     float64\n",
       "TotalSulfurDioxide    float64\n",
       "Density               float64\n",
       "pH                    float64\n",
       "Sulphates             float64\n",
       "Alcohol               float64\n",
       "LabelAppeal             int64\n",
       "AcidIndex               int64\n",
       "STARS                 float64\n",
       "dtype: object"
      ]
     },
     "execution_count": 94,
     "metadata": {},
     "output_type": "execute_result"
    }
   ],
   "source": [
    "#check the types of data \n",
    "data.dtypes"
   ]
  },
  {
   "cell_type": "markdown",
   "metadata": {},
   "source": [
    "### After checking data types, I found there are 16 objects, which are all numeric attributes, of which 12 are float types and 4 are int types."
   ]
  },
  {
   "cell_type": "code",
   "execution_count": null,
   "metadata": {},
   "outputs": [],
   "source": [
    "#Check the data shape\n",
    "print(data.shape)\n",
    "data.head(5)"
   ]
  },
  {
   "cell_type": "markdown",
   "metadata": {},
   "source": [
    "### After checking the data shape, I found there are 12795 rows and 16 columns in the whole data set, which means there should be 12795*16 = 204720 datas in whole if there are no missing values.\n",
    "\n",
    "### Next step, I will do a descriptive statistics check on data:"
   ]
  },
  {
   "cell_type": "code",
   "execution_count": 60,
   "metadata": {},
   "outputs": [
    {
     "data": {
      "text/html": [
       "<div>\n",
       "<style scoped>\n",
       "    .dataframe tbody tr th:only-of-type {\n",
       "        vertical-align: middle;\n",
       "    }\n",
       "\n",
       "    .dataframe tbody tr th {\n",
       "        vertical-align: top;\n",
       "    }\n",
       "\n",
       "    .dataframe thead th {\n",
       "        text-align: right;\n",
       "    }\n",
       "</style>\n",
       "<table border=\"1\" class=\"dataframe\">\n",
       "  <thead>\n",
       "    <tr style=\"text-align: right;\">\n",
       "      <th></th>\n",
       "      <th>INDEX</th>\n",
       "      <th>TARGET</th>\n",
       "      <th>FixedAcidity</th>\n",
       "      <th>VolatileAcidity</th>\n",
       "      <th>CitricAcid</th>\n",
       "      <th>ResidualSugar</th>\n",
       "      <th>Chlorides</th>\n",
       "      <th>FreeSulfurDioxide</th>\n",
       "      <th>TotalSulfurDioxide</th>\n",
       "      <th>Density</th>\n",
       "      <th>pH</th>\n",
       "      <th>Sulphates</th>\n",
       "      <th>Alcohol</th>\n",
       "      <th>LabelAppeal</th>\n",
       "      <th>AcidIndex</th>\n",
       "      <th>STARS</th>\n",
       "    </tr>\n",
       "  </thead>\n",
       "  <tbody>\n",
       "    <tr>\n",
       "      <th>count</th>\n",
       "      <td>12795.000000</td>\n",
       "      <td>12795.000000</td>\n",
       "      <td>12795.000000</td>\n",
       "      <td>12795.000000</td>\n",
       "      <td>12795.000000</td>\n",
       "      <td>12179.000000</td>\n",
       "      <td>12157.000000</td>\n",
       "      <td>12148.000000</td>\n",
       "      <td>12113.000000</td>\n",
       "      <td>12795.000000</td>\n",
       "      <td>12400.000000</td>\n",
       "      <td>11585.000000</td>\n",
       "      <td>12142.000000</td>\n",
       "      <td>12795.000000</td>\n",
       "      <td>12795.000000</td>\n",
       "      <td>9436.000000</td>\n",
       "    </tr>\n",
       "    <tr>\n",
       "      <th>mean</th>\n",
       "      <td>8069.980305</td>\n",
       "      <td>3.029074</td>\n",
       "      <td>7.075717</td>\n",
       "      <td>0.324104</td>\n",
       "      <td>0.308413</td>\n",
       "      <td>5.418733</td>\n",
       "      <td>0.054822</td>\n",
       "      <td>30.845571</td>\n",
       "      <td>120.714233</td>\n",
       "      <td>0.994203</td>\n",
       "      <td>3.207628</td>\n",
       "      <td>0.527112</td>\n",
       "      <td>10.489236</td>\n",
       "      <td>-0.009066</td>\n",
       "      <td>7.772724</td>\n",
       "      <td>2.041755</td>\n",
       "    </tr>\n",
       "    <tr>\n",
       "      <th>std</th>\n",
       "      <td>4656.905107</td>\n",
       "      <td>1.926368</td>\n",
       "      <td>6.317643</td>\n",
       "      <td>0.784014</td>\n",
       "      <td>0.862080</td>\n",
       "      <td>33.749379</td>\n",
       "      <td>0.318467</td>\n",
       "      <td>148.714558</td>\n",
       "      <td>231.913211</td>\n",
       "      <td>0.026538</td>\n",
       "      <td>0.679687</td>\n",
       "      <td>0.932129</td>\n",
       "      <td>3.727819</td>\n",
       "      <td>0.891089</td>\n",
       "      <td>1.323926</td>\n",
       "      <td>0.902540</td>\n",
       "    </tr>\n",
       "    <tr>\n",
       "      <th>min</th>\n",
       "      <td>1.000000</td>\n",
       "      <td>0.000000</td>\n",
       "      <td>-18.100000</td>\n",
       "      <td>-2.790000</td>\n",
       "      <td>-3.240000</td>\n",
       "      <td>-127.800000</td>\n",
       "      <td>-1.171000</td>\n",
       "      <td>-555.000000</td>\n",
       "      <td>-823.000000</td>\n",
       "      <td>0.888090</td>\n",
       "      <td>0.480000</td>\n",
       "      <td>-3.130000</td>\n",
       "      <td>-4.700000</td>\n",
       "      <td>-2.000000</td>\n",
       "      <td>4.000000</td>\n",
       "      <td>1.000000</td>\n",
       "    </tr>\n",
       "    <tr>\n",
       "      <th>25%</th>\n",
       "      <td>4037.500000</td>\n",
       "      <td>2.000000</td>\n",
       "      <td>5.200000</td>\n",
       "      <td>0.130000</td>\n",
       "      <td>0.030000</td>\n",
       "      <td>-2.000000</td>\n",
       "      <td>-0.031000</td>\n",
       "      <td>0.000000</td>\n",
       "      <td>27.000000</td>\n",
       "      <td>0.987720</td>\n",
       "      <td>2.960000</td>\n",
       "      <td>0.280000</td>\n",
       "      <td>9.000000</td>\n",
       "      <td>-1.000000</td>\n",
       "      <td>7.000000</td>\n",
       "      <td>1.000000</td>\n",
       "    </tr>\n",
       "    <tr>\n",
       "      <th>50%</th>\n",
       "      <td>8110.000000</td>\n",
       "      <td>3.000000</td>\n",
       "      <td>6.900000</td>\n",
       "      <td>0.280000</td>\n",
       "      <td>0.310000</td>\n",
       "      <td>3.900000</td>\n",
       "      <td>0.046000</td>\n",
       "      <td>30.000000</td>\n",
       "      <td>123.000000</td>\n",
       "      <td>0.994490</td>\n",
       "      <td>3.200000</td>\n",
       "      <td>0.500000</td>\n",
       "      <td>10.400000</td>\n",
       "      <td>0.000000</td>\n",
       "      <td>8.000000</td>\n",
       "      <td>2.000000</td>\n",
       "    </tr>\n",
       "    <tr>\n",
       "      <th>75%</th>\n",
       "      <td>12106.500000</td>\n",
       "      <td>4.000000</td>\n",
       "      <td>9.500000</td>\n",
       "      <td>0.640000</td>\n",
       "      <td>0.580000</td>\n",
       "      <td>15.900000</td>\n",
       "      <td>0.153000</td>\n",
       "      <td>70.000000</td>\n",
       "      <td>208.000000</td>\n",
       "      <td>1.000515</td>\n",
       "      <td>3.470000</td>\n",
       "      <td>0.860000</td>\n",
       "      <td>12.400000</td>\n",
       "      <td>1.000000</td>\n",
       "      <td>8.000000</td>\n",
       "      <td>3.000000</td>\n",
       "    </tr>\n",
       "    <tr>\n",
       "      <th>max</th>\n",
       "      <td>16129.000000</td>\n",
       "      <td>8.000000</td>\n",
       "      <td>34.400000</td>\n",
       "      <td>3.680000</td>\n",
       "      <td>3.860000</td>\n",
       "      <td>141.150000</td>\n",
       "      <td>1.351000</td>\n",
       "      <td>623.000000</td>\n",
       "      <td>1057.000000</td>\n",
       "      <td>1.099240</td>\n",
       "      <td>6.130000</td>\n",
       "      <td>4.240000</td>\n",
       "      <td>26.500000</td>\n",
       "      <td>2.000000</td>\n",
       "      <td>17.000000</td>\n",
       "      <td>4.000000</td>\n",
       "    </tr>\n",
       "  </tbody>\n",
       "</table>\n",
       "</div>"
      ],
      "text/plain": [
       "              INDEX        TARGET  FixedAcidity  VolatileAcidity  \\\n",
       "count  12795.000000  12795.000000  12795.000000     12795.000000   \n",
       "mean    8069.980305      3.029074      7.075717         0.324104   \n",
       "std     4656.905107      1.926368      6.317643         0.784014   \n",
       "min        1.000000      0.000000    -18.100000        -2.790000   \n",
       "25%     4037.500000      2.000000      5.200000         0.130000   \n",
       "50%     8110.000000      3.000000      6.900000         0.280000   \n",
       "75%    12106.500000      4.000000      9.500000         0.640000   \n",
       "max    16129.000000      8.000000     34.400000         3.680000   \n",
       "\n",
       "         CitricAcid  ResidualSugar     Chlorides  FreeSulfurDioxide  \\\n",
       "count  12795.000000   12179.000000  12157.000000       12148.000000   \n",
       "mean       0.308413       5.418733      0.054822          30.845571   \n",
       "std        0.862080      33.749379      0.318467         148.714558   \n",
       "min       -3.240000    -127.800000     -1.171000        -555.000000   \n",
       "25%        0.030000      -2.000000     -0.031000           0.000000   \n",
       "50%        0.310000       3.900000      0.046000          30.000000   \n",
       "75%        0.580000      15.900000      0.153000          70.000000   \n",
       "max        3.860000     141.150000      1.351000         623.000000   \n",
       "\n",
       "       TotalSulfurDioxide       Density            pH     Sulphates  \\\n",
       "count        12113.000000  12795.000000  12400.000000  11585.000000   \n",
       "mean           120.714233      0.994203      3.207628      0.527112   \n",
       "std            231.913211      0.026538      0.679687      0.932129   \n",
       "min           -823.000000      0.888090      0.480000     -3.130000   \n",
       "25%             27.000000      0.987720      2.960000      0.280000   \n",
       "50%            123.000000      0.994490      3.200000      0.500000   \n",
       "75%            208.000000      1.000515      3.470000      0.860000   \n",
       "max           1057.000000      1.099240      6.130000      4.240000   \n",
       "\n",
       "            Alcohol   LabelAppeal     AcidIndex        STARS  \n",
       "count  12142.000000  12795.000000  12795.000000  9436.000000  \n",
       "mean      10.489236     -0.009066      7.772724     2.041755  \n",
       "std        3.727819      0.891089      1.323926     0.902540  \n",
       "min       -4.700000     -2.000000      4.000000     1.000000  \n",
       "25%        9.000000     -1.000000      7.000000     1.000000  \n",
       "50%       10.400000      0.000000      8.000000     2.000000  \n",
       "75%       12.400000      1.000000      8.000000     3.000000  \n",
       "max       26.500000      2.000000     17.000000     4.000000  "
      ]
     },
     "execution_count": 60,
     "metadata": {},
     "output_type": "execute_result"
    }
   ],
   "source": [
    "#Do a descriptive statistics check on data\n",
    "data_desc = data.describe()\n",
    "data_desc"
   ]
  },
  {
   "cell_type": "markdown",
   "metadata": {},
   "source": [
    "## After descriptive statistic checking on data, I found:\n",
    "\n",
    "#### 1.There are 12157 counts in ResidualSugar, 12157 counts in Chlorides, 12148 counts in FreeSulfurDioxide, 12113 counts in TotalSulferDioxide, 12400 counts in pH, 11585 counts in Sulphates, 12142 counts in Alcohol, 9436 counts in STARS. From these information, I guessed that ResidualSugar has 12795 - 12157 = 638 missing values, Chlorides has 12795 - 12157 = 638 missing values, FreeSulfurDioxide has 12795 - 12148 = 647 missing values, Density has 12795 - 12113 = 682 missing values, pH has 12795 - 12400 = 395 missing values, Sulphates has 12795 - 11585 = 1210 missing values, Alcohol has 12795 - 12142 = 653 missing values, STARS has 12795 - 9436 = 3359 missing values.\n",
    "#### 2. Attribute LabelAppeal's mean is a negative value, which means there might be a lot of negative values in this attribute, the min value of FixedAcidity, VolatileAcidity, CitricAcid, ResidualSugar, Chlorides, FreeSulfurDioxide, TotalSulfurDioxide, Sulphates, Alcohol and LabelAppeal are negative values, which means these attributes have negative values. The min value of INDEX, Density, pH, AcidIndex, STARS are positve, which means those attributes do not have negative values.\n",
    "#### 3. The min value of TARGET 0.00, which means the response variables are non-negative values.\n",
    "#### 4. 25% of ResidualSugar values are -2.00, 25% of Chlorides values are -0.031, 25% of LabelAppeal values are -1.00, which means these attributes have the most numbers of negative values.\n",
    "\n",
    "## Check the proportion of missing values in each attribute:"
   ]
  },
  {
   "cell_type": "code",
   "execution_count": 3,
   "metadata": {},
   "outputs": [
    {
     "name": "stdout",
     "output_type": "stream",
     "text": [
      "ResidualSugar:0.04814380617428683\n",
      "Chlorides:0.0498632278233685\n",
      "FreeSulfurDioxide:0.050566627588901916\n",
      "TotalSulfurDioxide:0.05330207112153185\n",
      "pH:0.03087143415396639\n",
      "Sulphates:0.09456819069949199\n",
      "Alcohol:0.051035560765924186\n",
      "STARS:0.2625244236029699\n"
     ]
    }
   ],
   "source": [
    "null_cols = ['ResidualSugar', 'Chlorides', 'FreeSulfurDioxide', 'TotalSulfurDioxide', 'pH', 'Sulphates', 'Alcohol','STARS']\n",
    "total_rows = data.shape[0]\n",
    "for each_col in null_cols:\n",
    "    print('{}:{}'.format(each_col, data[pd.isnull(data[each_col])].shape[0] / total_rows))"
   ]
  },
  {
   "cell_type": "markdown",
   "metadata": {},
   "source": [
    "#### From the proportion of missing values in each attribute, I could see there are no attribute which has less than 1% missing values, which means I could not use Listwise or case deletion. \n",
    "\n",
    "\n",
    "\n",
    "## Mean substitution:\n",
    "### In a mean substitution, the mean value of a variable is used in place of the missing data value for that same variable. The theoretical background of the mean substitution is that the mean is a reasonable estimate for a randomly selected observation from a normal distribution. So let's check whether it is suitable to use mean substitution in ResidualSugar, Chlorides, FreeSulfurDioxide, TotalSulfurDioxide, pH, Sulphates, Alcohol, and STARS by checking their distributions in the following:"
   ]
  },
  {
   "cell_type": "code",
   "execution_count": 125,
   "metadata": {},
   "outputs": [
    {
     "data": {
      "text/plain": [
       "<matplotlib.axes._subplots.AxesSubplot at 0x7f974928df50>"
      ]
     },
     "execution_count": 125,
     "metadata": {},
     "output_type": "execute_result"
    },
    {
     "data": {
      "image/png": "[encoded data removed]",
      "text/plain": [
       "<Figure size 432x288 with 1 Axes>"
      ]
     },
     "metadata": {
      "needs_background": "light"
     },
     "output_type": "display_data"
    }
   ],
   "source": [
    "#histogram\n",
    "plt.subplot(122)\n",
    "x = data['ResidualSugar'].dropna()\n",
    "sns.distplot(x,hist=True,kde=True,kde_kws={\"color\":\"k\",\"lw\":3,\"label\":\"KDE\"},hist_kws={\"histtype\":\"step\",\"linewidth\":3,\"alpha\":1,\"color\":\"pink\"})"
   ]
  },
  {
   "cell_type": "code",
   "execution_count": 126,
   "metadata": {},
   "outputs": [
    {
     "data": {
      "text/plain": [
       "<matplotlib.axes._subplots.AxesSubplot at 0x7f974927a490>"
      ]
     },
     "execution_count": 126,
     "metadata": {},
     "output_type": "execute_result"
    },
    {
     "data": {
      "image/png": "[encoded data removed]",
      "text/plain": [
       "<Figure size 432x288 with 1 Axes>"
      ]
     },
     "metadata": {
      "needs_background": "light"
     },
     "output_type": "display_data"
    }
   ],
   "source": [
    "#histogram\n",
    "plt.subplot(122)\n",
    "x = data['Chlorides'].dropna()\n",
    "sns.distplot(x,hist=True,kde=True,kde_kws={\"color\":\"k\",\"lw\":3,\"label\":\"KDE\"},hist_kws={\"histtype\":\"step\",\"linewidth\":3,\"alpha\":1,\"color\":\"pink\"})"
   ]
  },
  {
   "cell_type": "code",
   "execution_count": 127,
   "metadata": {},
   "outputs": [
    {
     "data": {
      "text/plain": [
       "<matplotlib.axes._subplots.AxesSubplot at 0x7f96f07cc290>"
      ]
     },
     "execution_count": 127,
     "metadata": {},
     "output_type": "execute_result"
    },
    {
     "data": {
      "image/png": "[encoded data removed]",
      "text/plain": [
       "<Figure size 432x288 with 1 Axes>"
      ]
     },
     "metadata": {
      "needs_background": "light"
     },
     "output_type": "display_data"
    }
   ],
   "source": [
    "#histogram\n",
    "plt.subplot(122)\n",
    "x = data['FreeSulfurDioxide'].dropna()\n",
    "sns.distplot(x,hist=True,kde=True,kde_kws={\"color\":\"k\",\"lw\":3,\"label\":\"KDE\"},hist_kws={\"histtype\":\"step\",\"linewidth\":3,\"alpha\":1,\"color\":\"pink\"})"
   ]
  },
  {
   "cell_type": "code",
   "execution_count": 128,
   "metadata": {},
   "outputs": [
    {
     "data": {
      "text/plain": [
       "<matplotlib.axes._subplots.AxesSubplot at 0x7f96f07599d0>"
      ]
     },
     "execution_count": 128,
     "metadata": {},
     "output_type": "execute_result"
    },
    {
     "data": {
      "image/png": "[encoded data removed]",
      "text/plain": [
       "<Figure size 432x288 with 1 Axes>"
      ]
     },
     "metadata": {
      "needs_background": "light"
     },
     "output_type": "display_data"
    }
   ],
   "source": [
    "#histogram\n",
    "plt.subplot(122)\n",
    "x = data['TotalSulfurDioxide'].dropna()\n",
    "sns.distplot(x,hist=True,kde=True,kde_kws={\"color\":\"k\",\"lw\":3,\"label\":\"KDE\"},hist_kws={\"histtype\":\"step\",\"linewidth\":3,\"alpha\":1,\"color\":\"pink\"})"
   ]
  },
  {
   "cell_type": "code",
   "execution_count": 129,
   "metadata": {},
   "outputs": [
    {
     "data": {
      "text/plain": [
       "<matplotlib.axes._subplots.AxesSubplot at 0x7f96f0789f50>"
      ]
     },
     "execution_count": 129,
     "metadata": {},
     "output_type": "execute_result"
    },
    {
     "data": {
      "image/png": "[encoded data removed]",
      "text/plain": [
       "<Figure size 432x288 with 1 Axes>"
      ]
     },
     "metadata": {
      "needs_background": "light"
     },
     "output_type": "display_data"
    }
   ],
   "source": [
    "#histogram\n",
    "plt.subplot(122)\n",
    "x = data['pH'].dropna()\n",
    "sns.distplot(x,hist=True,kde=True,kde_kws={\"color\":\"k\",\"lw\":3,\"label\":\"KDE\"},hist_kws={\"histtype\":\"step\",\"linewidth\":3,\"alpha\":1,\"color\":\"pink\"})"
   ]
  },
  {
   "cell_type": "code",
   "execution_count": 130,
   "metadata": {},
   "outputs": [
    {
     "data": {
      "text/plain": [
       "<matplotlib.axes._subplots.AxesSubplot at 0x7f97493d8fd0>"
      ]
     },
     "execution_count": 130,
     "metadata": {},
     "output_type": "execute_result"
    },
    {
     "data": {
      "image/png": "[encoded data removed]",
      "text/plain": [
       "<Figure size 432x288 with 1 Axes>"
      ]
     },
     "metadata": {
      "needs_background": "light"
     },
     "output_type": "display_data"
    }
   ],
   "source": [
    "#histogram\n",
    "plt.subplot(122)\n",
    "x = data['Sulphates'].dropna()\n",
    "sns.distplot(x,hist=True,kde=True,kde_kws={\"color\":\"k\",\"lw\":3,\"label\":\"KDE\"},hist_kws={\"histtype\":\"step\",\"linewidth\":3,\"alpha\":1,\"color\":\"pink\"})"
   ]
  },
  {
   "cell_type": "code",
   "execution_count": 131,
   "metadata": {},
   "outputs": [
    {
     "data": {
      "text/plain": [
       "<matplotlib.axes._subplots.AxesSubplot at 0x7f974920a7d0>"
      ]
     },
     "execution_count": 131,
     "metadata": {},
     "output_type": "execute_result"
    },
    {
     "data": {
      "image/png": "[encoded data removed]",
      "text/plain": [
       "<Figure size 432x288 with 1 Axes>"
      ]
     },
     "metadata": {
      "needs_background": "light"
     },
     "output_type": "display_data"
    }
   ],
   "source": [
    "#histogram\n",
    "plt.subplot(122)\n",
    "x = data['Alcohol'].dropna()\n",
    "sns.distplot(x,hist=True,kde=True,kde_kws={\"color\":\"k\",\"lw\":3,\"label\":\"KDE\"},hist_kws={\"histtype\":\"step\",\"linewidth\":3,\"alpha\":1,\"color\":\"pink\"})"
   ]
  },
  {
   "cell_type": "code",
   "execution_count": 132,
   "metadata": {},
   "outputs": [
    {
     "data": {
      "text/plain": [
       "<matplotlib.axes._subplots.AxesSubplot at 0x7f9708d33650>"
      ]
     },
     "execution_count": 132,
     "metadata": {},
     "output_type": "execute_result"
    },
    {
     "data": {
      "image/png": "[encoded data removed]",
      "text/plain": [
       "<Figure size 432x288 with 1 Axes>"
      ]
     },
     "metadata": {
      "needs_background": "light"
     },
     "output_type": "display_data"
    }
   ],
   "source": [
    "#histogram\n",
    "plt.subplot(122)\n",
    "x = data['STARS'].dropna()\n",
    "sns.distplot(x,hist=True,kde=True,kde_kws={\"color\":\"k\",\"lw\":3,\"label\":\"KDE\"},hist_kws={\"histtype\":\"step\",\"linewidth\":3,\"alpha\":1,\"color\":\"pink\"})"
   ]
  },
  {
   "cell_type": "markdown",
   "metadata": {},
   "source": [
    "## The figures above manifests that except STARS, although others mimick the normal distribution, but none of those attributes perfectly satisfy the normal distribution, for safety, I would change to another method:\n",
    "\n",
    "### Filling in missing data using KNN method: \n",
    "\n",
    "#### I chose to use KNN imputer to fill in missing data:"
   ]
  },
  {
   "cell_type": "code",
   "execution_count": 139,
   "metadata": {},
   "outputs": [],
   "source": [
    "from sklearn.impute import KNNImputer\n",
    "df = data['ResidualSugar'].values.reshape(-1, 1)\n",
    "from sklearn.preprocessing import StandardScaler\n",
    "scaler = StandardScaler()\n",
    "scaler.fit(df)\n",
    "df = scaler.transform(df)\n",
    "imputer = KNNImputer(n_neighbors=2)\n",
    "data['ResidualSugar'] = imputer.fit_transform(df)\n",
    "from sklearn.impute import KNNImputer\n",
    "df = data['Chlorides'].values.reshape(-1, 1)\n",
    "from sklearn.preprocessing import StandardScaler\n",
    "scaler = StandardScaler()\n",
    "scaler.fit(df)\n",
    "df = scaler.transform(df)\n",
    "imputer = KNNImputer(n_neighbors=2)\n",
    "data['Chlorides'] = imputer.fit_transform(df)\n",
    "from sklearn.impute import KNNImputer\n",
    "df = data['pH'].values.reshape(-1, 1)\n",
    "from sklearn.preprocessing import StandardScaler\n",
    "scaler = StandardScaler()\n",
    "scaler.fit(df)\n",
    "df = scaler.transform(df)\n",
    "imputer = KNNImputer(n_neighbors=2)\n",
    "data['pH'] = imputer.fit_transform(df)\n",
    "from sklearn.impute import KNNImputer\n",
    "df = data['TotalSulfurDioxide'].values.reshape(-1, 1)\n",
    "from sklearn.preprocessing import StandardScaler\n",
    "scaler = StandardScaler()\n",
    "scaler.fit(df)\n",
    "df = scaler.transform(df)\n",
    "imputer = KNNImputer(n_neighbors=2)\n",
    "data['TotalSulfurDioxide'] = imputer.fit_transform(df)\n",
    "from sklearn.impute import KNNImputer\n",
    "df = data['Sulphates'].values.reshape(-1, 1)\n",
    "from sklearn.preprocessing import StandardScaler\n",
    "scaler = StandardScaler()\n",
    "scaler.fit(df)\n",
    "df = scaler.transform(df)\n",
    "imputer = KNNImputer(n_neighbors=2)\n",
    "data['Sulphates'] = imputer.fit_transform(df)\n",
    "from sklearn.impute import KNNImputer\n",
    "df = data['Alcohol'].values.reshape(-1, 1)\n",
    "from sklearn.preprocessing import StandardScaler\n",
    "scaler = StandardScaler()\n",
    "scaler.fit(df)\n",
    "df = scaler.transform(df)\n",
    "imputer = KNNImputer(n_neighbors=2)\n",
    "data['Alcohol'] = imputer.fit_transform(df)\n",
    "from sklearn.impute import KNNImputer\n",
    "df = data['STARS'].values.reshape(-1, 1)\n",
    "imputer = KNNImputer(n_neighbors=2)\n",
    "data['STARS'] = imputer.fit_transform(df)"
   ]
  },
  {
   "cell_type": "markdown",
   "metadata": {},
   "source": [
    "### After standarized and filled the missing values, Let's check the description of the data:"
   ]
  },
  {
   "cell_type": "code",
   "execution_count": 134,
   "metadata": {},
   "outputs": [
    {
     "data": {
      "text/html": [
       "<div>\n",
       "<style scoped>\n",
       "    .dataframe tbody tr th:only-of-type {\n",
       "        vertical-align: middle;\n",
       "    }\n",
       "\n",
       "    .dataframe tbody tr th {\n",
       "        vertical-align: top;\n",
       "    }\n",
       "\n",
       "    .dataframe thead th {\n",
       "        text-align: right;\n",
       "    }\n",
       "</style>\n",
       "<table border=\"1\" class=\"dataframe\">\n",
       "  <thead>\n",
       "    <tr style=\"text-align: right;\">\n",
       "      <th></th>\n",
       "      <th>INDEX</th>\n",
       "      <th>TARGET</th>\n",
       "      <th>FixedAcidity</th>\n",
       "      <th>VolatileAcidity</th>\n",
       "      <th>CitricAcid</th>\n",
       "      <th>ResidualSugar</th>\n",
       "      <th>Chlorides</th>\n",
       "      <th>FreeSulfurDioxide</th>\n",
       "      <th>TotalSulfurDioxide</th>\n",
       "      <th>Density</th>\n",
       "      <th>pH</th>\n",
       "      <th>Sulphates</th>\n",
       "      <th>Alcohol</th>\n",
       "      <th>LabelAppeal</th>\n",
       "      <th>AcidIndex</th>\n",
       "      <th>STARS</th>\n",
       "    </tr>\n",
       "  </thead>\n",
       "  <tbody>\n",
       "    <tr>\n",
       "      <th>count</th>\n",
       "      <td>12795.000000</td>\n",
       "      <td>12795.000000</td>\n",
       "      <td>12795.000000</td>\n",
       "      <td>12795.000000</td>\n",
       "      <td>12795.000000</td>\n",
       "      <td>1.279500e+04</td>\n",
       "      <td>1.279500e+04</td>\n",
       "      <td>12148.000000</td>\n",
       "      <td>1.279500e+04</td>\n",
       "      <td>12795.000000</td>\n",
       "      <td>1.279500e+04</td>\n",
       "      <td>1.279500e+04</td>\n",
       "      <td>1.279500e+04</td>\n",
       "      <td>12795.000000</td>\n",
       "      <td>12795.000000</td>\n",
       "      <td>12795.000000</td>\n",
       "    </tr>\n",
       "    <tr>\n",
       "      <th>mean</th>\n",
       "      <td>8069.980305</td>\n",
       "      <td>3.029074</td>\n",
       "      <td>7.075717</td>\n",
       "      <td>0.324104</td>\n",
       "      <td>0.308413</td>\n",
       "      <td>1.521947e-17</td>\n",
       "      <td>1.585073e-17</td>\n",
       "      <td>30.845571</td>\n",
       "      <td>2.226520e-17</td>\n",
       "      <td>0.994203</td>\n",
       "      <td>2.169772e-16</td>\n",
       "      <td>4.409655e-17</td>\n",
       "      <td>9.549046e-17</td>\n",
       "      <td>-0.009066</td>\n",
       "      <td>7.772724</td>\n",
       "      <td>2.041755</td>\n",
       "    </tr>\n",
       "    <tr>\n",
       "      <th>std</th>\n",
       "      <td>4656.905107</td>\n",
       "      <td>1.926368</td>\n",
       "      <td>6.317643</td>\n",
       "      <td>0.784014</td>\n",
       "      <td>0.862080</td>\n",
       "      <td>9.756693e-01</td>\n",
       "      <td>9.747877e-01</td>\n",
       "      <td>148.714558</td>\n",
       "      <td>9.730221e-01</td>\n",
       "      <td>0.026538</td>\n",
       "      <td>9.844817e-01</td>\n",
       "      <td>9.515790e-01</td>\n",
       "      <td>9.741861e-01</td>\n",
       "      <td>0.891089</td>\n",
       "      <td>1.323926</td>\n",
       "      <td>0.775058</td>\n",
       "    </tr>\n",
       "    <tr>\n",
       "      <th>min</th>\n",
       "      <td>1.000000</td>\n",
       "      <td>0.000000</td>\n",
       "      <td>-18.100000</td>\n",
       "      <td>-2.790000</td>\n",
       "      <td>-3.240000</td>\n",
       "      <td>-3.947456e+00</td>\n",
       "      <td>-3.849290e+00</td>\n",
       "      <td>-555.000000</td>\n",
       "      <td>-4.069424e+00</td>\n",
       "      <td>0.888090</td>\n",
       "      <td>-4.013227e+00</td>\n",
       "      <td>-3.923565e+00</td>\n",
       "      <td>-4.074732e+00</td>\n",
       "      <td>-2.000000</td>\n",
       "      <td>4.000000</td>\n",
       "      <td>1.000000</td>\n",
       "    </tr>\n",
       "    <tr>\n",
       "      <th>25%</th>\n",
       "      <td>4037.500000</td>\n",
       "      <td>2.000000</td>\n",
       "      <td>5.200000</td>\n",
       "      <td>0.130000</td>\n",
       "      <td>0.030000</td>\n",
       "      <td>-1.338963e-01</td>\n",
       "      <td>-1.721519e-01</td>\n",
       "      <td>0.000000</td>\n",
       "      <td>-3.739236e-01</td>\n",
       "      <td>0.987720</td>\n",
       "      <td>-3.496283e-01</td>\n",
       "      <td>-2.007445e-01</td>\n",
       "      <td>-3.726826e-01</td>\n",
       "      <td>-1.000000</td>\n",
       "      <td>7.000000</td>\n",
       "      <td>2.000000</td>\n",
       "    </tr>\n",
       "    <tr>\n",
       "      <th>50%</th>\n",
       "      <td>8110.000000</td>\n",
       "      <td>3.000000</td>\n",
       "      <td>6.900000</td>\n",
       "      <td>0.280000</td>\n",
       "      <td>0.310000</td>\n",
       "      <td>-1.537078e-02</td>\n",
       "      <td>-2.142377e-02</td>\n",
       "      <td>30.000000</td>\n",
       "      <td>3.402252e-17</td>\n",
       "      <td>0.994490</td>\n",
       "      <td>2.200390e-16</td>\n",
       "      <td>4.047978e-17</td>\n",
       "      <td>9.714223e-17</td>\n",
       "      <td>0.000000</td>\n",
       "      <td>8.000000</td>\n",
       "      <td>2.000000</td>\n",
       "    </tr>\n",
       "    <tr>\n",
       "      <th>75%</th>\n",
       "      <td>12106.500000</td>\n",
       "      <td>4.000000</td>\n",
       "      <td>9.500000</td>\n",
       "      <td>0.640000</td>\n",
       "      <td>0.580000</td>\n",
       "      <td>2.809431e-01</td>\n",
       "      <td>2.297898e-01</td>\n",
       "      <td>70.000000</td>\n",
       "      <td>3.332667e-01</td>\n",
       "      <td>1.000515</td>\n",
       "      <td>3.566076e-01</td>\n",
       "      <td>2.605848e-01</td>\n",
       "      <td>4.589370e-01</td>\n",
       "      <td>1.000000</td>\n",
       "      <td>8.000000</td>\n",
       "      <td>2.041755</td>\n",
       "    </tr>\n",
       "    <tr>\n",
       "      <th>max</th>\n",
       "      <td>16129.000000</td>\n",
       "      <td>8.000000</td>\n",
       "      <td>34.400000</td>\n",
       "      <td>3.680000</td>\n",
       "      <td>3.860000</td>\n",
       "      <td>4.021906e+00</td>\n",
       "      <td>4.070216e+00</td>\n",
       "      <td>623.000000</td>\n",
       "      <td>4.037391e+00</td>\n",
       "      <td>1.099240</td>\n",
       "      <td>4.299758e+00</td>\n",
       "      <td>3.983405e+00</td>\n",
       "      <td>4.295118e+00</td>\n",
       "      <td>2.000000</td>\n",
       "      <td>17.000000</td>\n",
       "      <td>4.000000</td>\n",
       "    </tr>\n",
       "  </tbody>\n",
       "</table>\n",
       "</div>"
      ],
      "text/plain": [
       "              INDEX        TARGET  FixedAcidity  VolatileAcidity  \\\n",
       "count  12795.000000  12795.000000  12795.000000     12795.000000   \n",
       "mean    8069.980305      3.029074      7.075717         0.324104   \n",
       "std     4656.905107      1.926368      6.317643         0.784014   \n",
       "min        1.000000      0.000000    -18.100000        -2.790000   \n",
       "25%     4037.500000      2.000000      5.200000         0.130000   \n",
       "50%     8110.000000      3.000000      6.900000         0.280000   \n",
       "75%    12106.500000      4.000000      9.500000         0.640000   \n",
       "max    16129.000000      8.000000     34.400000         3.680000   \n",
       "\n",
       "         CitricAcid  ResidualSugar     Chlorides  FreeSulfurDioxide  \\\n",
       "count  12795.000000   1.279500e+04  1.279500e+04       12148.000000   \n",
       "mean       0.308413   1.521947e-17  1.585073e-17          30.845571   \n",
       "std        0.862080   9.756693e-01  9.747877e-01         148.714558   \n",
       "min       -3.240000  -3.947456e+00 -3.849290e+00        -555.000000   \n",
       "25%        0.030000  -1.338963e-01 -1.721519e-01           0.000000   \n",
       "50%        0.310000  -1.537078e-02 -2.142377e-02          30.000000   \n",
       "75%        0.580000   2.809431e-01  2.297898e-01          70.000000   \n",
       "max        3.860000   4.021906e+00  4.070216e+00         623.000000   \n",
       "\n",
       "       TotalSulfurDioxide       Density            pH     Sulphates  \\\n",
       "count        1.279500e+04  12795.000000  1.279500e+04  1.279500e+04   \n",
       "mean         2.226520e-17      0.994203  2.169772e-16  4.409655e-17   \n",
       "std          9.730221e-01      0.026538  9.844817e-01  9.515790e-01   \n",
       "min         -4.069424e+00      0.888090 -4.013227e+00 -3.923565e+00   \n",
       "25%         -3.739236e-01      0.987720 -3.496283e-01 -2.007445e-01   \n",
       "50%          3.402252e-17      0.994490  2.200390e-16  4.047978e-17   \n",
       "75%          3.332667e-01      1.000515  3.566076e-01  2.605848e-01   \n",
       "max          4.037391e+00      1.099240  4.299758e+00  3.983405e+00   \n",
       "\n",
       "            Alcohol   LabelAppeal     AcidIndex         STARS  \n",
       "count  1.279500e+04  12795.000000  12795.000000  12795.000000  \n",
       "mean   9.549046e-17     -0.009066      7.772724      2.041755  \n",
       "std    9.741861e-01      0.891089      1.323926      0.775058  \n",
       "min   -4.074732e+00     -2.000000      4.000000      1.000000  \n",
       "25%   -3.726826e-01     -1.000000      7.000000      2.000000  \n",
       "50%    9.714223e-17      0.000000      8.000000      2.000000  \n",
       "75%    4.589370e-01      1.000000      8.000000      2.041755  \n",
       "max    4.295118e+00      2.000000     17.000000      4.000000  "
      ]
     },
     "execution_count": 134,
     "metadata": {},
     "output_type": "execute_result"
    }
   ],
   "source": [
    "#Do a descriptive statistics check on data\n",
    "data_desc = data.describe()\n",
    "data_desc"
   ]
  },
  {
   "cell_type": "markdown",
   "metadata": {},
   "source": [
    "## EDA(Exploratory Data Analysis )\n",
    "### Exploratory Data Analysis,is an approach to analyze data in order to:\n",
    "#### 1. summarize main characteristics of the data\n",
    "#### 2. gain better understanding of the data-set,\n",
    "#### 3. uncover relationships between different variables, and\n",
    "#### 4. extract important variables for the problem we are trying to solve\n",
    "\n",
    "### The question here is to find “ what sampling contribute more to cases of wine sold?\"\n",
    "\n",
    "## Single Variable Analysis"
   ]
  },
  {
   "cell_type": "code",
   "execution_count": 57,
   "metadata": {},
   "outputs": [
    {
     "data": {
      "image/png": "[encoded data removed]",
      "text/plain": [
       "<Figure size 432x288 with 1 Axes>"
      ]
     },
     "metadata": {
      "needs_background": "light"
     },
     "output_type": "display_data"
    }
   ],
   "source": [
    "import matplotlib.pyplot as plt\n",
    "\n",
    "data = data['AcidIndex']\n",
    "plt.hist(data, bins = 20)\n",
    "plt.show()"
   ]
  },
  {
   "cell_type": "code",
   "execution_count": 69,
   "metadata": {},
   "outputs": [
    {
     "data": {
      "image/png": "[encoded data removed]",
      "text/plain": [
       "<Figure size 432x288 with 1 Axes>"
      ]
     },
     "metadata": {
      "needs_background": "light"
     },
     "output_type": "display_data"
    }
   ],
   "source": [
    "import matplotlib.pyplot as plt\n",
    "\n",
    "data = data['FixedAcidity']\n",
    "plt.hist(data, bins = 35)\n",
    "plt.show()"
   ]
  },
  {
   "cell_type": "code",
   "execution_count": 75,
   "metadata": {},
   "outputs": [
    {
     "data": {
      "image/png": "[encoded data removed]",
      "text/plain": [
       "<Figure size 432x288 with 1 Axes>"
      ]
     },
     "metadata": {
      "needs_background": "light"
     },
     "output_type": "display_data"
    }
   ],
   "source": [
    "import matplotlib.pyplot as plt\n",
    "\n",
    "data = data['VolatileAcidity']\n",
    "plt.hist(data, bins = 4)\n",
    "plt.show()"
   ]
  },
  {
   "cell_type": "code",
   "execution_count": 77,
   "metadata": {},
   "outputs": [
    {
     "data": {
      "image/png": "[encoded data removed]",
      "text/plain": [
       "<Figure size 432x288 with 1 Axes>"
      ]
     },
     "metadata": {
      "needs_background": "light"
     },
     "output_type": "display_data"
    }
   ],
   "source": [
    "import matplotlib.pyplot as plt\n",
    "\n",
    "data = data['CitricAcid']\n",
    "plt.hist(data, bins = 4)\n",
    "plt.show()"
   ]
  },
  {
   "cell_type": "code",
   "execution_count": 90,
   "metadata": {},
   "outputs": [
    {
     "data": {
      "image/png": "[encoded data removed]",
      "text/plain": [
       "<Figure size 432x288 with 1 Axes>"
      ]
     },
     "metadata": {
      "needs_background": "light"
     },
     "output_type": "display_data"
    }
   ],
   "source": [
    "import matplotlib.pyplot as plt\n",
    "\n",
    "data = data['Density']\n",
    "plt.hist(data, bins = 4)\n",
    "plt.show()"
   ]
  },
  {
   "cell_type": "code",
   "execution_count": 92,
   "metadata": {},
   "outputs": [
    {
     "data": {
      "image/png": "[encoded data removed]",
      "text/plain": [
       "<Figure size 432x288 with 1 Axes>"
      ]
     },
     "metadata": {
      "needs_background": "light"
     },
     "output_type": "display_data"
    }
   ],
   "source": [
    "import matplotlib.pyplot as plt\n",
    "\n",
    "data = data['LabelAppeal']\n",
    "plt.hist(data, bins = 145)\n",
    "plt.show()"
   ]
  },
  {
   "cell_type": "markdown",
   "metadata": {},
   "source": [
    "### Most of the variables are normally distributed except STARS. These variables mentioned below are transformed to log scale for a normally distributed dataset:\n",
    "\n",
    "#### fixed acidity, volatile acidity, residual sugar, chlorides."
   ]
  },
  {
   "cell_type": "code",
   "execution_count": 138,
   "metadata": {},
   "outputs": [],
   "source": [
    "FixedAcidity = np.log(data['FixedAcidity'], dtype='float64')\n",
    "VolatileAcidity = np.log(data['VolatileAcidity'], dtype='float64')\n",
    "ResidualSugar = np.log(data['ResidualSugar'], dtype='float64')\n",
    "Chlorides = np.log(data['Chlorides'], dtype='float64')"
   ]
  },
  {
   "cell_type": "markdown",
   "metadata": {},
   "source": [
    "\n",
    "## Feature extraction:\n",
    "### In the dataset, I found Sulphates is Sulfate content of the wine, a wine additive which can contribute to sulfur dioxide gas (S02) levels, the more sulphates, there must be more FreeSulfurDioxide, also more TotalSulfurDioxide. Therefore, Sulphates, FreeSulfurDioxide and Total Sulfur Dioxide could be extracted as \" (Sulphate / Free Sulfur Dioxide) * (Free sulfur Dioxide / Total Sulfur Dioxide) = (Sulphate / Total Sulfur Dioxide)\" as how much Sulphate one unit of Sulfur Dioxidecould contribute, labeled as \"SUSD\", and drop the attribute \"FreeSulfurDioxide\""
   ]
  },
  {
   "cell_type": "code",
   "execution_count": 133,
   "metadata": {},
   "outputs": [],
   "source": [
    "data['SUSD']  = data.Sulphates / data.TotalSulfurDioxide \n",
    "data.drop(['TotalSulfurDioxide','Sulphates','FreeSulfurDioxide'],axis = 1, inplace = True)"
   ]
  },
  {
   "cell_type": "markdown",
   "metadata": {},
   "source": [
    "### Also, every wine has a unique INDEX which is useless to measure their contribution on wine sold, so I will drop this attribute:"
   ]
  },
  {
   "cell_type": "code",
   "execution_count": null,
   "metadata": {},
   "outputs": [],
   "source": [
    "data = data.drop('INDEX', axis=1)"
   ]
  },
  {
   "cell_type": "markdown",
   "metadata": {},
   "source": [
    "## Scatterplot\n",
    "\n",
    "### In a scatterplot, I set the predictor variable on the x-axis, or horizontal axis and I set the target variable on the y-axis or vertical axis.\n",
    "\n",
    "### Let's plot plenty of scatter point to see which features have more tendency to have better linear relationship with TARGET.\n",
    " \n",
    "#### I will do scatter plot with features in the following sequence: FixedAcidity, VolatileAcidity, CitricAcid, ResidualSugar, Chlorides, Density, pH, SUSD, Alcohol, LabelAppeal, AcidIndex, STARS. "
   ]
  },
  {
   "cell_type": "code",
   "execution_count": 139,
   "metadata": {},
   "outputs": [
    {
     "data": {
      "image/png": "[encoded data removed]",
      "text/plain": [
       "<Figure size 432x288 with 1 Axes>"
      ]
     },
     "metadata": {
      "needs_background": "light"
     },
     "output_type": "display_data"
    }
   ],
   "source": [
    "x = FixedAcidity\n",
    "y = data['TARGET']\n",
    "plt.scatter(x,y)\n",
    "plt.title('Scatter points between Fixed Acidity and TARGET')\n",
    "plt.xlabel('FixedAcidity')\n",
    "plt.ylabel('TARGET')\n",
    "plt.show()"
   ]
  },
  {
   "cell_type": "code",
   "execution_count": 107,
   "metadata": {},
   "outputs": [
    {
     "data": {
      "image/png": "[encoded data removed]",
      "text/plain": [
       "<Figure size 432x288 with 1 Axes>"
      ]
     },
     "metadata": {
      "needs_background": "light"
     },
     "output_type": "display_data"
    }
   ],
   "source": [
    "x = VolatileAcidity\n",
    "y = data['TARGET']\n",
    "plt.scatter(x,y)\n",
    "plt.title('Scatter points between Volatile Acidity and TARGET')\n",
    "plt.xlabel('Volatile Acidity')\n",
    "plt.ylabel('TARGET')\n",
    "plt.show()"
   ]
  },
  {
   "cell_type": "code",
   "execution_count": 108,
   "metadata": {},
   "outputs": [
    {
     "data": {
      "image/png": "[encoded data removed]",
      "text/plain": [
       "<Figure size 432x288 with 1 Axes>"
      ]
     },
     "metadata": {
      "needs_background": "light"
     },
     "output_type": "display_data"
    }
   ],
   "source": [
    "x = data['CitricAcid']\n",
    "y = data['TARGET']\n",
    "plt.scatter(x,y)\n",
    "plt.title('Scatter points between Citric Acid and TARGET')\n",
    "plt.xlabel('Citric Acid')\n",
    "plt.ylabel('TARGET')\n",
    "plt.show()"
   ]
  },
  {
   "cell_type": "code",
   "execution_count": 109,
   "metadata": {},
   "outputs": [
    {
     "data": {
      "image/png": "[encoded data removed]",
      "text/plain": [
       "<Figure size 432x288 with 1 Axes>"
      ]
     },
     "metadata": {
      "needs_background": "light"
     },
     "output_type": "display_data"
    }
   ],
   "source": [
    "x = ResidualSugar\n",
    "y = data['TARGET']\n",
    "plt.scatter(x,y)\n",
    "plt.title('Scatter points between Fixed Residual Sugar and TARGET')\n",
    "plt.xlabel('ResidualSugar')\n",
    "plt.ylabel('TARGET')\n",
    "plt.show()"
   ]
  },
  {
   "cell_type": "code",
   "execution_count": 110,
   "metadata": {},
   "outputs": [
    {
     "data": {
      "image/png": "[encoded data removed]",
      "text/plain": [
       "<Figure size 432x288 with 1 Axes>"
      ]
     },
     "metadata": {
      "needs_background": "light"
     },
     "output_type": "display_data"
    }
   ],
   "source": [
    "x = Chlorides\n",
    "y = data['TARGET']\n",
    "plt.scatter(x,y)\n",
    "plt.title('Scatter points between Chlorides and TARGET')\n",
    "plt.xlabel('Chlorides')\n",
    "plt.ylabel('TARGET')\n",
    "plt.show()"
   ]
  },
  {
   "cell_type": "code",
   "execution_count": 112,
   "metadata": {},
   "outputs": [
    {
     "data": {
      "image/png": "[encoded data removed]",
      "text/plain": [
       "<Figure size 432x288 with 1 Axes>"
      ]
     },
     "metadata": {
      "needs_background": "light"
     },
     "output_type": "display_data"
    }
   ],
   "source": [
    "x = data['Density']\n",
    "y = data['TARGET']\n",
    "plt.scatter(x,y)\n",
    "plt.title('Scatter points between Density and TARGET')\n",
    "plt.xlabel('Density')\n",
    "plt.ylabel('TARGET')\n",
    "plt.show()"
   ]
  },
  {
   "cell_type": "code",
   "execution_count": 113,
   "metadata": {},
   "outputs": [
    {
     "data": {
      "image/png": "[encoded data removed]",
      "text/plain": [
       "<Figure size 432x288 with 1 Axes>"
      ]
     },
     "metadata": {
      "needs_background": "light"
     },
     "output_type": "display_data"
    }
   ],
   "source": [
    "x = data['pH']\n",
    "y = data['TARGET']\n",
    "plt.scatter(x,y)\n",
    "plt.title('Scatter points between pH and TARGET')\n",
    "plt.xlabel('pH')\n",
    "plt.ylabel('TARGET')\n",
    "plt.show()"
   ]
  },
  {
   "cell_type": "code",
   "execution_count": 114,
   "metadata": {},
   "outputs": [
    {
     "data": {
      "image/png": "[encoded data removed]",
      "text/plain": [
       "<Figure size 432x288 with 1 Axes>"
      ]
     },
     "metadata": {
      "needs_background": "light"
     },
     "output_type": "display_data"
    }
   ],
   "source": [
    "x = data['SUSD']\n",
    "y = data['TARGET']\n",
    "plt.scatter(x,y)\n",
    "plt.title('Scatter points between SUSD and TARGET')\n",
    "plt.xlabel('SUSD')\n",
    "plt.ylabel('TARGET')\n",
    "plt.show()"
   ]
  },
  {
   "cell_type": "code",
   "execution_count": 115,
   "metadata": {},
   "outputs": [
    {
     "data": {
      "image/png": "[encoded data removed]",
      "text/plain": [
       "<Figure size 432x288 with 1 Axes>"
      ]
     },
     "metadata": {
      "needs_background": "light"
     },
     "output_type": "display_data"
    }
   ],
   "source": [
    "x = data['Alcohol']\n",
    "y = data['TARGET']\n",
    "plt.scatter(x,y)\n",
    "plt.title('Scatter points between Alcohol and TARGET')\n",
    "plt.xlabel('Alcohol')\n",
    "plt.ylabel('TARGET')\n",
    "plt.show()"
   ]
  },
  {
   "cell_type": "code",
   "execution_count": 116,
   "metadata": {},
   "outputs": [
    {
     "data": {
      "image/png": "[encoded data removed]",
      "text/plain": [
       "<Figure size 432x288 with 1 Axes>"
      ]
     },
     "metadata": {
      "needs_background": "light"
     },
     "output_type": "display_data"
    }
   ],
   "source": [
    "x = data['LabelAppeal']\n",
    "y = data['TARGET']\n",
    "plt.scatter(x,y)\n",
    "plt.title('Scatter points between Label Appeal and TARGET')\n",
    "plt.xlabel('LabelAppeal')\n",
    "plt.ylabel('TARGET')\n",
    "plt.show()"
   ]
  },
  {
   "cell_type": "code",
   "execution_count": 117,
   "metadata": {},
   "outputs": [
    {
     "data": {
      "image/png": "[encoded data removed]",
      "text/plain": [
       "<Figure size 432x288 with 1 Axes>"
      ]
     },
     "metadata": {
      "needs_background": "light"
     },
     "output_type": "display_data"
    }
   ],
   "source": [
    "x = data['AcidIndex']\n",
    "y = data['TARGET']\n",
    "plt.scatter(x,y)\n",
    "plt.title('Scatter points between Acid Index and TARGET')\n",
    "plt.xlabel('AcidIndex')\n",
    "plt.ylabel('TARGET')\n",
    "plt.show()"
   ]
  },
  {
   "cell_type": "code",
   "execution_count": 140,
   "metadata": {},
   "outputs": [
    {
     "data": {
      "image/png": "[encoded data removed]",
      "text/plain": [
       "<Figure size 432x288 with 1 Axes>"
      ]
     },
     "metadata": {
      "needs_background": "light"
     },
     "output_type": "display_data"
    }
   ],
   "source": [
    "x = data['STARS']\n",
    "y = data['TARGET']\n",
    "plt.scatter(x,y)\n",
    "plt.title('Scatter points between STARS and TARGET')\n",
    "plt.xlabel('STARS')\n",
    "plt.ylabel('TARGET')\n",
    "plt.show()"
   ]
  },
  {
   "cell_type": "markdown",
   "metadata": {},
   "source": [
    "### None of these pairs manifest the linear relationship with TARGET."
   ]
  },
  {
   "cell_type": "markdown",
   "metadata": {},
   "source": [
    "## Correlation\n",
    "\n",
    "### To check whether there are multicollinearities between dfferent independent variables, it is crucial to check the correlations.\n",
    "\n",
    "## For better analysis, Let's plot heatmap for correlation matrix"
   ]
  },
  {
   "cell_type": "code",
   "execution_count": 136,
   "metadata": {},
   "outputs": [
    {
     "data": {
      "text/plain": [
       "<matplotlib.axes._subplots.AxesSubplot at 0x7f96f0607ad0>"
      ]
     },
     "execution_count": 136,
     "metadata": {},
     "output_type": "execute_result"
    },
    {
     "data": {
      "image/png": "[encoded data removed]",
      "text/plain": [
       "<Figure size 792x648 with 2 Axes>"
      ]
     },
     "metadata": {
      "needs_background": "light"
     },
     "output_type": "display_data"
    }
   ],
   "source": [
    "cor_matrix = data.corr()\n",
    "#Generate a mask for the upper triangle\n",
    "mask = np.zeros_like(cor_matrix, dtype = np.bool)\n",
    "mask[np.triu_indices_from(mask)] = True\n",
    "#Set up the matplotlib figure\n",
    "f, ax = plt.subplots(figsize = (11, 9))\n",
    "#Draw the heatmap with the mask and correct aspect ratio,mask=True,upper triangular will be hide\n",
    "sns.heatmap(cor_matrix, mask=mask,\n",
    "            square = True, linewidths = .5, ax = ax, cmap = \"YlOrRd\")"
   ]
  },
  {
   "cell_type": "markdown",
   "metadata": {},
   "source": [
    "### The strongest correlation is found to be between LabelAppeal and TARGET, STARS and TARGET, FixedAcidity and AcidIndex, LabelAppeal and STARS.\n",
    "\n",
    "\n",
    "## Build Models\n",
    "### Since we are dealing with count variables, I will start with the classical Poisson regression; then I will enhance it using model Negative binominal model.\n",
    "\n",
    "### In addition, I will also create models using multiple linear regression.\n",
    "\n",
    "### Using original and transformed datasets, we will build at least six models as follow:\n",
    "#### - Two Linear regression models\n",
    "#### - Two Poisson models\n",
    "#### - Two Negative binomial models\n",
    "\n",
    "## 1.0 Multiple linear regression model 1:\n",
    "\n",
    "### Let's try to check multicollinearity of features, then apply for linear regression model:\n",
    "\n",
    "### Although correlation matrix and scatter plots can also be used to find multicollinearity, their findings only show the bivariate relationship between the independent variables. VIF is preferred as it can show the correlation of a variable with a group of other variables"
   ]
  },
  {
   "cell_type": "code",
   "execution_count": 99,
   "metadata": {},
   "outputs": [
    {
     "data": {
      "text/html": [
       "<div>\n",
       "<style scoped>\n",
       "    .dataframe tbody tr th:only-of-type {\n",
       "        vertical-align: middle;\n",
       "    }\n",
       "\n",
       "    .dataframe tbody tr th {\n",
       "        vertical-align: top;\n",
       "    }\n",
       "\n",
       "    .dataframe thead th {\n",
       "        text-align: right;\n",
       "    }\n",
       "</style>\n",
       "<table border=\"1\" class=\"dataframe\">\n",
       "  <thead>\n",
       "    <tr style=\"text-align: right;\">\n",
       "      <th></th>\n",
       "      <th>variables</th>\n",
       "      <th>VIF</th>\n",
       "    </tr>\n",
       "  </thead>\n",
       "  <tbody>\n",
       "    <tr>\n",
       "      <th>0</th>\n",
       "      <td>FixedAcidity</td>\n",
       "      <td>0.443611</td>\n",
       "    </tr>\n",
       "    <tr>\n",
       "      <th>1</th>\n",
       "      <td>VolatileAcidity</td>\n",
       "      <td>0.854046</td>\n",
       "    </tr>\n",
       "    <tr>\n",
       "      <th>2</th>\n",
       "      <td>CitricAcid</td>\n",
       "      <td>0.886570</td>\n",
       "    </tr>\n",
       "    <tr>\n",
       "      <th>3</th>\n",
       "      <td>ResidualSugar</td>\n",
       "      <td>1.000066</td>\n",
       "    </tr>\n",
       "    <tr>\n",
       "      <th>4</th>\n",
       "      <td>Chlorides</td>\n",
       "      <td>1.000024</td>\n",
       "    </tr>\n",
       "    <tr>\n",
       "      <th>5</th>\n",
       "      <td>pH</td>\n",
       "      <td>1.000002</td>\n",
       "    </tr>\n",
       "    <tr>\n",
       "      <th>6</th>\n",
       "      <td>Alcohol</td>\n",
       "      <td>1.000005</td>\n",
       "    </tr>\n",
       "    <tr>\n",
       "      <th>7</th>\n",
       "      <td>LabelAppeal</td>\n",
       "      <td>0.999976</td>\n",
       "    </tr>\n",
       "    <tr>\n",
       "      <th>8</th>\n",
       "      <td>AcidIndex</td>\n",
       "      <td>0.028196</td>\n",
       "    </tr>\n",
       "    <tr>\n",
       "      <th>9</th>\n",
       "      <td>STARS</td>\n",
       "      <td>0.125957</td>\n",
       "    </tr>\n",
       "    <tr>\n",
       "      <th>10</th>\n",
       "      <td>SUSD</td>\n",
       "      <td>1.000342</td>\n",
       "    </tr>\n",
       "  </tbody>\n",
       "</table>\n",
       "</div>"
      ],
      "text/plain": [
       "          variables       VIF\n",
       "0      FixedAcidity  0.443611\n",
       "1   VolatileAcidity  0.854046\n",
       "2        CitricAcid  0.886570\n",
       "3     ResidualSugar  1.000066\n",
       "4         Chlorides  1.000024\n",
       "5                pH  1.000002\n",
       "6           Alcohol  1.000005\n",
       "7       LabelAppeal  0.999976\n",
       "8         AcidIndex  0.028196\n",
       "9             STARS  0.125957\n",
       "10             SUSD  1.000342"
      ]
     },
     "execution_count": 99,
     "metadata": {},
     "output_type": "execute_result"
    }
   ],
   "source": [
    "from statsmodels.stats.outliers_influence import variance_inflation_factor\n",
    "def calc_vif(X):\n",
    "\n",
    "    # Calculating VIF\n",
    "    vif = pd.DataFrame()\n",
    "    vif[\"variables\"] = X.columns\n",
    "    vif[\"VIF\"] = [variance_inflation_factor(X.values, i) for i in range(X.shape[1])]\n",
    "\n",
    "    return(vif)\n",
    "\n",
    "X = data[['FixedAcidity','VolatileAcidity','CitricAcid','ResidualSugar',\n",
    "          'Chlorides','pH','Alcohol','LabelAppeal','AcidIndex','STARS','SUSD']]\n",
    "calc_vif(X)"
   ]
  },
  {
   "cell_type": "markdown",
   "metadata": {},
   "source": [
    "### From the VIF table I would see the values of VIF is pretty low, I would pick the lowest four of them to do multiple linear regression model: AcidIndex, STARS, FixedAcidity, VolatileAcidity."
   ]
  },
  {
   "cell_type": "code",
   "execution_count": 118,
   "metadata": {},
   "outputs": [],
   "source": [
    "import sklearn\n",
    "from sklearn import linear_model\n",
    "from sklearn.linear_model import LinearRegression\n",
    "regr = linear_model.LinearRegression() \n",
    "X = data[['FixedAcidity','VolatileAcidity',\n",
    "          'AcidIndex','STARS']]\n",
    "model = regr.fit(X, data[['TARGET']])"
   ]
  },
  {
   "cell_type": "code",
   "execution_count": 101,
   "metadata": {},
   "outputs": [
    {
     "name": "stdout",
     "output_type": "stream",
     "text": [
      "[3.67716702]\n",
      "[[-0.00222629 -0.16734058 -0.31615244  0.92041442]]\n"
     ]
    }
   ],
   "source": [
    "#To retrieve the intercept:\n",
    "print(regr.intercept_)\n",
    "#For retrieving the slope:\n",
    "print(regr.coef_)"
   ]
  },
  {
   "cell_type": "code",
   "execution_count": 121,
   "metadata": {},
   "outputs": [
    {
     "data": {
      "text/plain": [
       "0.20306931803519312"
      ]
     },
     "execution_count": 121,
     "metadata": {},
     "output_type": "execute_result"
    }
   ],
   "source": [
    "model.score(X, data[['TARGET']])"
   ]
  },
  {
   "cell_type": "markdown",
   "metadata": {},
   "source": [
    "### TARGET = 3.67716702 -0.00222629*FixedAcidity -0.16734058*VolatileAcidity -0.31615244*AcidIndex + 0.92041442*STARS\n",
    "\n",
    "\n",
    "## 1.1 Multiple linear regression model 2:\n",
    "\n",
    "### I would pick the another four of them to do multiple linear regression model: AcidIndex, CitricAcid, LabelAppeal, pH."
   ]
  },
  {
   "cell_type": "code",
   "execution_count": 122,
   "metadata": {},
   "outputs": [],
   "source": [
    "import sklearn\n",
    "from sklearn import linear_model\n",
    "from sklearn.linear_model import LinearRegression\n",
    "regr = linear_model.LinearRegression() \n",
    "X = data[['AcidIndex','CitricAcid',\n",
    "          'LabelAppeal','pH']]\n",
    "model = regr.fit(X, data[['TARGET']])"
   ]
  },
  {
   "cell_type": "code",
   "execution_count": 103,
   "metadata": {},
   "outputs": [
    {
     "name": "stdout",
     "output_type": "stream",
     "text": [
      "[5.93834724]\n",
      "[[-0.37535291  0.0497761   0.78430018 -0.04908511]]\n"
     ]
    }
   ],
   "source": [
    "#To retrieve the intercept:\n",
    "print(regr.intercept_)\n",
    "#For retrieving the slope:\n",
    "print(regr.coef_)"
   ]
  },
  {
   "cell_type": "code",
   "execution_count": 123,
   "metadata": {},
   "outputs": [
    {
     "data": {
      "text/plain": [
       "0.19324005627768046"
      ]
     },
     "execution_count": 123,
     "metadata": {},
     "output_type": "execute_result"
    }
   ],
   "source": [
    "model.score(X, data[['TARGET']])"
   ]
  },
  {
   "cell_type": "markdown",
   "metadata": {},
   "source": [
    "### TARGET = 5.93834724 - 0.37535291*AcidIndex + 0.0497761*CitricAcid + 0.78430018*LabelAppeal - 0.04908511*pH"
   ]
  },
  {
   "cell_type": "markdown",
   "metadata": {},
   "source": [
    "## Poisson Model 1\n",
    "### I will explore the Poisson regression model using original data with replacing all missing data with KNN method.\n",
    "\n",
    "#### First I will check Possion regression one regressor by one regressor to see which coefficient is highly significant."
   ]
  },
  {
   "cell_type": "code",
   "execution_count": 5,
   "metadata": {},
   "outputs": [
    {
     "name": "stdout",
     "output_type": "stream",
     "text": [
      "                 Generalized Linear Model Regression Results                  \n",
      "==============================================================================\n",
      "Dep. Variable:                 TARGET   No. Observations:                12795\n",
      "Model:                            GLM   Df Residuals:                    12793\n",
      "Model Family:                 Poisson   Df Model:                            1\n",
      "Link Function:                    log   Scale:                          1.0000\n",
      "Method:                          IRLS   Log-Likelihood:                -27383.\n",
      "Date:                Sat, 27 Jun 2020   Deviance:                       22823.\n",
      "Time:                        19:14:41   Pearson chi2:                 1.57e+04\n",
      "No. Iterations:                     5                                         \n",
      "Covariance Type:            nonrobust                                         \n",
      "================================================================================\n",
      "                   coef    std err          z      P>|z|      [0.025      0.975]\n",
      "--------------------------------------------------------------------------------\n",
      "Intercept        1.1427      0.008    152.223      0.000       1.128       1.157\n",
      "FixedAcidity    -0.0049      0.001     -6.137      0.000      -0.007      -0.003\n",
      "================================================================================\n"
     ]
    }
   ],
   "source": [
    "FixedAcidity = data['FixedAcidity']\n",
    "TARGET = data['TARGET']\n",
    "# Import libraries\n",
    "import statsmodels.api as sm\n",
    "from statsmodels.formula.api import glm\n",
    "\n",
    "# Fit Poisson regression of sat by width\n",
    "model = glm('TARGET ~ FixedAcidity', data = data, family = sm.families.Poisson()).fit()\n",
    "\n",
    "# Display model results\n",
    "print(model.summary())"
   ]
  },
  {
   "cell_type": "code",
   "execution_count": 6,
   "metadata": {},
   "outputs": [
    {
     "name": "stdout",
     "output_type": "stream",
     "text": [
      "                 Generalized Linear Model Regression Results                  \n",
      "==============================================================================\n",
      "Dep. Variable:                 TARGET   No. Observations:                12795\n",
      "Model:                            GLM   Df Residuals:                    12793\n",
      "Model Family:                 Poisson   Df Model:                            1\n",
      "Link Function:                    log   Scale:                          1.0000\n",
      "Method:                          IRLS   Log-Likelihood:                -27340.\n",
      "Date:                Sat, 27 Jun 2020   Deviance:                       22737.\n",
      "Time:                        19:14:49   Pearson chi2:                 1.56e+04\n",
      "No. Iterations:                     5                                         \n",
      "Covariance Type:            nonrobust                                         \n",
      "===================================================================================\n",
      "                      coef    std err          z      P>|z|      [0.025      0.975]\n",
      "-----------------------------------------------------------------------------------\n",
      "Intercept           1.1300      0.005    209.535      0.000       1.119       1.141\n",
      "VolatileAcidity    -0.0720      0.006    -11.122      0.000      -0.085      -0.059\n",
      "===================================================================================\n"
     ]
    }
   ],
   "source": [
    "VolatileAcidity = data['VolatileAcidity']\n",
    "TARGET = data['TARGET']\n",
    "# Import libraries\n",
    "import statsmodels.api as sm\n",
    "from statsmodels.formula.api import glm\n",
    "\n",
    "# Fit Poisson regression of sat by width\n",
    "model = glm('TARGET ~ VolatileAcidity', data = data, family = sm.families.Poisson()).fit()\n",
    "\n",
    "# Display model results\n",
    "print(model.summary())"
   ]
  },
  {
   "cell_type": "code",
   "execution_count": 7,
   "metadata": {},
   "outputs": [
    {
     "name": "stdout",
     "output_type": "stream",
     "text": [
      "                 Generalized Linear Model Regression Results                  \n",
      "==============================================================================\n",
      "Dep. Variable:                 TARGET   No. Observations:                12795\n",
      "Model:                            GLM   Df Residuals:                    12793\n",
      "Model Family:                 Poisson   Df Model:                            1\n",
      "Link Function:                    log   Scale:                          1.0000\n",
      "Method:                          IRLS   Log-Likelihood:                -27401.\n",
      "Date:                Sat, 27 Jun 2020   Deviance:                       22860.\n",
      "Time:                        19:14:53   Pearson chi2:                 1.57e+04\n",
      "No. Iterations:                     5                                         \n",
      "Covariance Type:            nonrobust                                         \n",
      "==============================================================================\n",
      "                 coef    std err          z      P>|z|      [0.025      0.975]\n",
      "------------------------------------------------------------------------------\n",
      "Intercept      1.1063      0.005    204.696      0.000       1.096       1.117\n",
      "CitricAcid     0.0064      0.006      1.087      0.277      -0.005       0.018\n",
      "==============================================================================\n"
     ]
    }
   ],
   "source": [
    "CitricAcid = data['CitricAcid']\n",
    "TARGET = data['TARGET']\n",
    "# Import libraries\n",
    "import statsmodels.api as sm\n",
    "from statsmodels.formula.api import glm\n",
    "\n",
    "# Fit Poisson regression of sat by width\n",
    "model = glm('TARGET ~ CitricAcid', data = data, family = sm.families.Poisson()).fit()\n",
    "\n",
    "# Display model results\n",
    "print(model.summary())"
   ]
  },
  {
   "cell_type": "code",
   "execution_count": 8,
   "metadata": {},
   "outputs": [
    {
     "name": "stdout",
     "output_type": "stream",
     "text": [
      "                 Generalized Linear Model Regression Results                  \n",
      "==============================================================================\n",
      "Dep. Variable:                 TARGET   No. Observations:                12795\n",
      "Model:                            GLM   Df Residuals:                    12793\n",
      "Model Family:                 Poisson   Df Model:                            1\n",
      "Link Function:                    log   Scale:                          1.0000\n",
      "Method:                          IRLS   Log-Likelihood:                -27399.\n",
      "Date:                Sat, 27 Jun 2020   Deviance:                       22857.\n",
      "Time:                        19:14:56   Pearson chi2:                 1.57e+04\n",
      "No. Iterations:                     5                                         \n",
      "Covariance Type:            nonrobust                                         \n",
      "=================================================================================\n",
      "                    coef    std err          z      P>|z|      [0.025      0.975]\n",
      "---------------------------------------------------------------------------------\n",
      "Intercept         1.1082      0.005    218.159      0.000       1.098       1.118\n",
      "ResidualSugar     0.0105      0.005      2.012      0.044       0.000       0.021\n",
      "=================================================================================\n"
     ]
    }
   ],
   "source": [
    "ResidualSugar = data['ResidualSugar']\n",
    "TARGET = data['TARGET']\n",
    "# Import libraries\n",
    "import statsmodels.api as sm\n",
    "from statsmodels.formula.api import glm\n",
    "\n",
    "# Fit Poisson regression of sat by width\n",
    "model = glm('TARGET ~ ResidualSugar', data = data, family = sm.families.Poisson()).fit()\n",
    "\n",
    "# Display model results\n",
    "print(model.summary())"
   ]
  },
  {
   "cell_type": "code",
   "execution_count": 9,
   "metadata": {},
   "outputs": [
    {
     "name": "stdout",
     "output_type": "stream",
     "text": [
      "                 Generalized Linear Model Regression Results                  \n",
      "==============================================================================\n",
      "Dep. Variable:                 TARGET   No. Observations:                12795\n",
      "Model:                            GLM   Df Residuals:                    12793\n",
      "Model Family:                 Poisson   Df Model:                            1\n",
      "Link Function:                    log   Scale:                          1.0000\n",
      "Method:                          IRLS   Log-Likelihood:                -27391.\n",
      "Date:                Sat, 27 Jun 2020   Deviance:                       22839.\n",
      "Time:                        19:14:59   Pearson chi2:                 1.57e+04\n",
      "No. Iterations:                     5                                         \n",
      "Covariance Type:            nonrobust                                         \n",
      "==============================================================================\n",
      "                 coef    std err          z      P>|z|      [0.025      0.975]\n",
      "------------------------------------------------------------------------------\n",
      "Intercept      1.1080      0.005    218.064      0.000       1.098       1.118\n",
      "Chlorides     -0.0243      0.005     -4.663      0.000      -0.035      -0.014\n",
      "==============================================================================\n"
     ]
    }
   ],
   "source": [
    "Chlorides = data['Chlorides']\n",
    "TARGET = data['TARGET']\n",
    "# Import libraries\n",
    "import statsmodels.api as sm\n",
    "from statsmodels.formula.api import glm\n",
    "\n",
    "# Fit Poisson regression of sat by width\n",
    "model = glm('TARGET ~ Chlorides', data = data, family = sm.families.Poisson()).fit()\n",
    "\n",
    "# Display model results\n",
    "print(model.summary())"
   ]
  },
  {
   "cell_type": "code",
   "execution_count": 10,
   "metadata": {},
   "outputs": [
    {
     "name": "stdout",
     "output_type": "stream",
     "text": [
      "                 Generalized Linear Model Regression Results                  \n",
      "==============================================================================\n",
      "Dep. Variable:                 TARGET   No. Observations:                12148\n",
      "Model:                            GLM   Df Residuals:                    12146\n",
      "Model Family:                 Poisson   Df Model:                            1\n",
      "Link Function:                    log   Scale:                          1.0000\n",
      "Method:                          IRLS   Log-Likelihood:                -25999.\n",
      "Date:                Sat, 27 Jun 2020   Deviance:                       21669.\n",
      "Time:                        19:15:03   Pearson chi2:                 1.49e+04\n",
      "No. Iterations:                     5                                         \n",
      "Covariance Type:            nonrobust                                         \n",
      "=====================================================================================\n",
      "                        coef    std err          z      P>|z|      [0.025      0.975]\n",
      "-------------------------------------------------------------------------------------\n",
      "Intercept             1.1021      0.005    205.802      0.000       1.092       1.113\n",
      "FreeSulfurDioxide     0.0002    3.5e-05      5.345      0.000       0.000       0.000\n",
      "=====================================================================================\n"
     ]
    }
   ],
   "source": [
    "FreeSulfurDioxide = data['FreeSulfurDioxide']\n",
    "TARGET = data['TARGET']\n",
    "# Import libraries\n",
    "import statsmodels.api as sm\n",
    "from statsmodels.formula.api import glm\n",
    "\n",
    "# Fit Poisson regression of sat by width\n",
    "model = glm('TARGET ~ FreeSulfurDioxide', data = data, family = sm.families.Poisson()).fit()\n",
    "\n",
    "# Display model results\n",
    "print(model.summary())"
   ]
  },
  {
   "cell_type": "code",
   "execution_count": 11,
   "metadata": {},
   "outputs": [
    {
     "name": "stdout",
     "output_type": "stream",
     "text": [
      "                 Generalized Linear Model Regression Results                  \n",
      "==============================================================================\n",
      "Dep. Variable:                 TARGET   No. Observations:                12795\n",
      "Model:                            GLM   Df Residuals:                    12793\n",
      "Model Family:                 Poisson   Df Model:                            1\n",
      "Link Function:                    log   Scale:                          1.0000\n",
      "Method:                          IRLS   Log-Likelihood:                -27382.\n",
      "Date:                Sat, 27 Jun 2020   Deviance:                       22822.\n",
      "Time:                        19:15:06   Pearson chi2:                 1.57e+04\n",
      "No. Iterations:                     5                                         \n",
      "Covariance Type:            nonrobust                                         \n",
      "======================================================================================\n",
      "                         coef    std err          z      P>|z|      [0.025      0.975]\n",
      "--------------------------------------------------------------------------------------\n",
      "Intercept              1.1077      0.005    217.970      0.000       1.098       1.118\n",
      "TotalSulfurDioxide     0.0327      0.005      6.273      0.000       0.023       0.043\n",
      "======================================================================================\n"
     ]
    }
   ],
   "source": [
    "TotalSulfurDioxide = data['TotalSulfurDioxide']\n",
    "TARGET = data['TARGET']\n",
    "# Import libraries\n",
    "import statsmodels.api as sm\n",
    "from statsmodels.formula.api import glm\n",
    "\n",
    "# Fit Poisson regression of sat by width\n",
    "model = glm('TARGET ~ TotalSulfurDioxide', data = data, family = sm.families.Poisson()).fit()\n",
    "\n",
    "# Display model results\n",
    "print(model.summary())"
   ]
  },
  {
   "cell_type": "code",
   "execution_count": 12,
   "metadata": {},
   "outputs": [
    {
     "name": "stdout",
     "output_type": "stream",
     "text": [
      "                 Generalized Linear Model Regression Results                  \n",
      "==============================================================================\n",
      "Dep. Variable:                 TARGET   No. Observations:                12795\n",
      "Model:                            GLM   Df Residuals:                    12793\n",
      "Model Family:                 Poisson   Df Model:                            1\n",
      "Link Function:                    log   Scale:                          1.0000\n",
      "Method:                          IRLS   Log-Likelihood:                -27392.\n",
      "Date:                Sat, 27 Jun 2020   Deviance:                       22841.\n",
      "Time:                        19:15:09   Pearson chi2:                 1.57e+04\n",
      "No. Iterations:                     5                                         \n",
      "Covariance Type:            nonrobust                                         \n",
      "==============================================================================\n",
      "                 coef    std err          z      P>|z|      [0.025      0.975]\n",
      "------------------------------------------------------------------------------\n",
      "Intercept      1.9539      0.190     10.274      0.000       1.581       2.327\n",
      "Density       -0.8508      0.191     -4.447      0.000      -1.226      -0.476\n",
      "==============================================================================\n"
     ]
    }
   ],
   "source": [
    "Density = data['Density']\n",
    "TARGET = data['TARGET']\n",
    "# Import libraries\n",
    "import statsmodels.api as sm\n",
    "from statsmodels.formula.api import glm\n",
    "\n",
    "# Fit Poisson regression of sat by width\n",
    "model = glm('TARGET ~ Density', data = data, family = sm.families.Poisson()).fit()\n",
    "\n",
    "# Display model results\n",
    "print(model.summary())"
   ]
  },
  {
   "cell_type": "code",
   "execution_count": 13,
   "metadata": {},
   "outputs": [
    {
     "name": "stdout",
     "output_type": "stream",
     "text": [
      "                 Generalized Linear Model Regression Results                  \n",
      "==============================================================================\n",
      "Dep. Variable:                 TARGET   No. Observations:                12795\n",
      "Model:                            GLM   Df Residuals:                    12793\n",
      "Model Family:                 Poisson   Df Model:                            1\n",
      "Link Function:                    log   Scale:                          1.0000\n",
      "Method:                          IRLS   Log-Likelihood:                -27401.\n",
      "Date:                Sat, 27 Jun 2020   Deviance:                       22860.\n",
      "Time:                        19:15:12   Pearson chi2:                 1.57e+04\n",
      "No. Iterations:                     5                                         \n",
      "Covariance Type:            nonrobust                                         \n",
      "==============================================================================\n",
      "                 coef    std err          z      P>|z|      [0.025      0.975]\n",
      "------------------------------------------------------------------------------\n",
      "Intercept      1.1082      0.005    218.173      0.000       1.098       1.118\n",
      "pH            -0.0060      0.005     -1.162      0.245      -0.016       0.004\n",
      "==============================================================================\n"
     ]
    }
   ],
   "source": [
    "pH = data['pH']\n",
    "TARGET = data['TARGET']\n",
    "# Import libraries\n",
    "import statsmodels.api as sm\n",
    "from statsmodels.formula.api import glm\n",
    "\n",
    "# Fit Poisson regression of sat by width\n",
    "model = glm('TARGET ~ pH', data = data, family = sm.families.Poisson()).fit()\n",
    "\n",
    "# Display model results\n",
    "print(model.summary())"
   ]
  },
  {
   "cell_type": "code",
   "execution_count": 14,
   "metadata": {},
   "outputs": [
    {
     "name": "stdout",
     "output_type": "stream",
     "text": [
      "                 Generalized Linear Model Regression Results                  \n",
      "==============================================================================\n",
      "Dep. Variable:                 TARGET   No. Observations:                12795\n",
      "Model:                            GLM   Df Residuals:                    12793\n",
      "Model Family:                 Poisson   Df Model:                            1\n",
      "Link Function:                    log   Scale:                          1.0000\n",
      "Method:                          IRLS   Log-Likelihood:                -27391.\n",
      "Date:                Sat, 27 Jun 2020   Deviance:                       22840.\n",
      "Time:                        19:15:16   Pearson chi2:                 1.57e+04\n",
      "No. Iterations:                     5                                         \n",
      "Covariance Type:            nonrobust                                         \n",
      "==============================================================================\n",
      "                 coef    std err          z      P>|z|      [0.025      0.975]\n",
      "------------------------------------------------------------------------------\n",
      "Intercept      1.1080      0.005    218.066      0.000       1.098       1.118\n",
      "Sulphates     -0.0247      0.005     -4.621      0.000      -0.035      -0.014\n",
      "==============================================================================\n"
     ]
    }
   ],
   "source": [
    "Sulphates = data['Sulphates']\n",
    "TARGET = data['TARGET']\n",
    "# Import libraries\n",
    "import statsmodels.api as sm\n",
    "from statsmodels.formula.api import glm\n",
    "\n",
    "# Fit Poisson regression of sat by width\n",
    "model = glm('TARGET ~ Sulphates', data = data, family = sm.families.Poisson()).fit()\n",
    "\n",
    "# Display model results\n",
    "print(model.summary())"
   ]
  },
  {
   "cell_type": "code",
   "execution_count": 15,
   "metadata": {},
   "outputs": [
    {
     "name": "stdout",
     "output_type": "stream",
     "text": [
      "                 Generalized Linear Model Regression Results                  \n",
      "==============================================================================\n",
      "Dep. Variable:                 TARGET   No. Observations:                12795\n",
      "Model:                            GLM   Df Residuals:                    12793\n",
      "Model Family:                 Poisson   Df Model:                            1\n",
      "Link Function:                    log   Scale:                          1.0000\n",
      "Method:                          IRLS   Log-Likelihood:                -27373.\n",
      "Date:                Sat, 27 Jun 2020   Deviance:                       22804.\n",
      "Time:                        19:15:19   Pearson chi2:                 1.56e+04\n",
      "No. Iterations:                     5                                         \n",
      "Covariance Type:            nonrobust                                         \n",
      "==============================================================================\n",
      "                 coef    std err          z      P>|z|      [0.025      0.975]\n",
      "------------------------------------------------------------------------------\n",
      "Intercept      1.1075      0.005    217.874      0.000       1.098       1.117\n",
      "Alcohol        0.0395      0.005      7.568      0.000       0.029       0.050\n",
      "==============================================================================\n"
     ]
    }
   ],
   "source": [
    "Alcohol = data['Alcohol']\n",
    "TARGET = data['TARGET']\n",
    "# Import libraries\n",
    "import statsmodels.api as sm\n",
    "from statsmodels.formula.api import glm\n",
    "\n",
    "# Fit Poisson regression of sat by width\n",
    "model = glm('TARGET ~ Alcohol', data = data, family = sm.families.Poisson()).fit()\n",
    "\n",
    "# Display model results\n",
    "print(model.summary())"
   ]
  },
  {
   "cell_type": "code",
   "execution_count": 16,
   "metadata": {},
   "outputs": [
    {
     "name": "stdout",
     "output_type": "stream",
     "text": [
      "                 Generalized Linear Model Regression Results                  \n",
      "==============================================================================\n",
      "Dep. Variable:                 TARGET   No. Observations:                12795\n",
      "Model:                            GLM   Df Residuals:                    12793\n",
      "Model Family:                 Poisson   Df Model:                            1\n",
      "Link Function:                    log   Scale:                          1.0000\n",
      "Method:                          IRLS   Log-Likelihood:                -26405.\n",
      "Date:                Sat, 27 Jun 2020   Deviance:                       20868.\n",
      "Time:                        19:15:22   Pearson chi2:                 1.33e+04\n",
      "No. Iterations:                     5                                         \n",
      "Covariance Type:            nonrobust                                         \n",
      "===============================================================================\n",
      "                  coef    std err          z      P>|z|      [0.025      0.975]\n",
      "-------------------------------------------------------------------------------\n",
      "Intercept       1.0848      0.005    208.705      0.000       1.075       1.095\n",
      "LabelAppeal     0.2548      0.006     44.581      0.000       0.244       0.266\n",
      "===============================================================================\n"
     ]
    }
   ],
   "source": [
    "LabelAppeal = data['LabelAppeal']\n",
    "TARGET = data['TARGET']\n",
    "# Import libraries\n",
    "import statsmodels.api as sm\n",
    "from statsmodels.formula.api import glm\n",
    "\n",
    "# Fit Poisson regression of sat by width\n",
    "model = glm('TARGET ~ LabelAppeal', data = data, family = sm.families.Poisson()).fit()\n",
    "\n",
    "# Display model results\n",
    "print(model.summary())"
   ]
  },
  {
   "cell_type": "code",
   "execution_count": 17,
   "metadata": {},
   "outputs": [
    {
     "name": "stdout",
     "output_type": "stream",
     "text": [
      "                 Generalized Linear Model Regression Results                  \n",
      "==============================================================================\n",
      "Dep. Variable:                 TARGET   No. Observations:                12795\n",
      "Model:                            GLM   Df Residuals:                    12793\n",
      "Model Family:                 Poisson   Df Model:                            1\n",
      "Link Function:                    log   Scale:                          1.0000\n",
      "Method:                          IRLS   Log-Likelihood:                -26883.\n",
      "Date:                Sat, 27 Jun 2020   Deviance:                       21825.\n",
      "Time:                        19:15:26   Pearson chi2:                 1.55e+04\n",
      "No. Iterations:                     5                                         \n",
      "Covariance Type:            nonrobust                                         \n",
      "==============================================================================\n",
      "                 coef    std err          z      P>|z|      [0.025      0.975]\n",
      "------------------------------------------------------------------------------\n",
      "Intercept      2.1416      0.033     64.144      0.000       2.076       2.207\n",
      "AcidIndex     -0.1348      0.004    -30.910      0.000      -0.143      -0.126\n",
      "==============================================================================\n"
     ]
    }
   ],
   "source": [
    "AcidIndex = data['AcidIndex']\n",
    "TARGET = data['TARGET']\n",
    "# Import libraries\n",
    "import statsmodels.api as sm\n",
    "from statsmodels.formula.api import glm\n",
    "\n",
    "# Fit Poisson regression of sat by width\n",
    "model = glm('TARGET ~ AcidIndex', data = data, family = sm.families.Poisson()).fit()\n",
    "\n",
    "# Display model results\n",
    "print(model.summary())"
   ]
  },
  {
   "cell_type": "code",
   "execution_count": 18,
   "metadata": {},
   "outputs": [
    {
     "name": "stdout",
     "output_type": "stream",
     "text": [
      "                 Generalized Linear Model Regression Results                  \n",
      "==============================================================================\n",
      "Dep. Variable:                 TARGET   No. Observations:                12795\n",
      "Model:                            GLM   Df Residuals:                    12793\n",
      "Model Family:                 Poisson   Df Model:                            1\n",
      "Link Function:                    log   Scale:                          1.0000\n",
      "Method:                          IRLS   Log-Likelihood:                -26276.\n",
      "Date:                Sat, 27 Jun 2020   Deviance:                       20609.\n",
      "Time:                        19:15:29   Pearson chi2:                 1.41e+04\n",
      "No. Iterations:                     5                                         \n",
      "Covariance Type:            nonrobust                                         \n",
      "==============================================================================\n",
      "                 coef    std err          z      P>|z|      [0.025      0.975]\n",
      "------------------------------------------------------------------------------\n",
      "Intercept      0.4697      0.015     31.913      0.000       0.441       0.499\n",
      "STARS          0.2991      0.006     48.331      0.000       0.287       0.311\n",
      "==============================================================================\n"
     ]
    }
   ],
   "source": [
    "STARS = data['STARS']\n",
    "TARGET = data['TARGET']\n",
    "# Import libraries\n",
    "import statsmodels.api as sm\n",
    "from statsmodels.formula.api import glm\n",
    "\n",
    "# Fit Poisson regression of sat by width\n",
    "model = glm('TARGET ~ STARS', data = data, family = sm.families.Poisson()).fit()\n",
    "\n",
    "# Display model results\n",
    "print(model.summary())"
   ]
  },
  {
   "cell_type": "markdown",
   "metadata": {},
   "source": [
    "### The coefficents of FixedAcidity, VolatileAcidity, Chlorides, FreeSulfurDioxide, TotalSulfurDioxide, Density, Sulphates, Alcohol, LabelAppeal, AcidIndex, STARS are highly significant checked by p-values.\n",
    "\n",
    "### Comparing from standard errors, FreeSulfurDioxide, FixedAcidity, AcidIndex have the smallest standard errors.\n",
    "\n",
    "### Therefore, I choose to construct poission regression models on those regressors:"
   ]
  },
  {
   "cell_type": "code",
   "execution_count": 140,
   "metadata": {},
   "outputs": [
    {
     "name": "stdout",
     "output_type": "stream",
     "text": [
      "                 Generalized Linear Model Regression Results                  \n",
      "==============================================================================\n",
      "Dep. Variable:                 TARGET   No. Observations:                12148\n",
      "Model:                            GLM   Df Residuals:                    12140\n",
      "Model Family:                 Poisson   Df Model:                            7\n",
      "Link Function:                    log   Scale:                          1.0000\n",
      "Method:                          IRLS   Log-Likelihood:                -25484.\n",
      "Date:                Sun, 28 Jun 2020   Deviance:                       20640.\n",
      "Time:                        21:40:02   Pearson chi2:                 1.47e+04\n",
      "No. Iterations:                     5                                         \n",
      "Covariance Type:            nonrobust                                         \n",
      "============================================================================================================\n",
      "                                               coef    std err          z      P>|z|      [0.025      0.975]\n",
      "------------------------------------------------------------------------------------------------------------\n",
      "Intercept                                    1.9510      0.056     35.052      0.000       1.842       2.060\n",
      "FreeSulfurDioxide                           -0.0012      0.000     -3.411      0.001      -0.002      -0.001\n",
      "FixedAcidity                                 0.0254      0.005      4.659      0.000       0.015       0.036\n",
      "FreeSulfurDioxide:FixedAcidity            5.393e-05   3.38e-05      1.596      0.110   -1.23e-05       0.000\n",
      "AcidIndex                                   -0.1093      0.007    -14.780      0.000      -0.124      -0.095\n",
      "FreeSulfurDioxide:AcidIndex                  0.0002   4.58e-05      3.949      0.000    9.12e-05       0.000\n",
      "FixedAcidity:AcidIndex                      -0.0034      0.001     -4.832      0.000      -0.005      -0.002\n",
      "FreeSulfurDioxide:FixedAcidity:AcidIndex -7.846e-06   4.37e-06     -1.796      0.073   -1.64e-05    7.18e-07\n",
      "============================================================================================================\n"
     ]
    }
   ],
   "source": [
    "FreeSulfurDioxide = data['FreeSulfurDioxide']\n",
    "FixedAcidity = data['FixedAcidity']\n",
    "AcidIndex = data['AcidIndex']\n",
    "TARGET = data['TARGET']\n",
    "# Import libraries\n",
    "import statsmodels.api as sm\n",
    "from statsmodels.formula.api import glm\n",
    "\n",
    "# Fit Poisson regression of sat by width\n",
    "model = glm('TARGET ~ FreeSulfurDioxide*FixedAcidity*AcidIndex', data = data, family = sm.families.Poisson()).fit()\n",
    "\n",
    "# Display model results\n",
    "print(model.summary())"
   ]
  },
  {
   "cell_type": "markdown",
   "metadata": {},
   "source": [
    "## Interpretation Poisson Model 1\n",
    "### From this output, we have the following estimated model:\n",
    "### $y = e^{B_{0}x_{0}+B_{1}x_{1}+B_{2}x_{2}+B_{3}x_{3}}$\n",
    "\n",
    "### where\n",
    "### $B_0=1.951$\n",
    "### $B_1=−0.0012$\n",
    "### $B_2=0.0254$\n",
    "### $B_3=-0.1093$\n",
    "\n",
    "\n",
    "### and\n",
    "\n",
    "### $x_0=1$\n",
    "### $x_1=FreeSulfurDioxide$\n",
    "### $x_2=FixedAcidity$\n",
    "### $x_3=AcidIndex$\n",
    "\n",
    "## Coefficient Analysis\n",
    "\n",
    "### Unlike the linear model, in order to interpret the slope coefficient in a Poisson regression, it makes better sense to look at the ratio of predicted responses (instead of the difference) for a unit increase in x. \n",
    "\n",
    "Hence, for a unit increase in our highly significant variables:\n",
    "- FreeSulfurDioxide, we expect a decrease of $e^{-0.0012}$=0.99880071971 the number of cases of wine that will be sold\n",
    "- TotalSulfurDioxide, we expect an increase of $e^{0.0254}$=1.02572532861 the number of cases of wine that will be sold\n",
    "- AcidIndex,we expect a decrease of $e^{-0.1093}$=0.89646143872 the number of cases of wine that will be sold\n",
    "\n",
    "\n",
    "## Poisson Model 2\n",
    "### I will explore the Poisson regression model using original data with replacing all missing data with KNN method.\n",
    "\n",
    "### Also, I would construct Poisson regression model on STARS and LabelAppeal since they have strong relation with TARGET when checked by correlation matrix. "
   ]
  },
  {
   "cell_type": "code",
   "execution_count": 20,
   "metadata": {},
   "outputs": [
    {
     "name": "stdout",
     "output_type": "stream",
     "text": [
      "                 Generalized Linear Model Regression Results                  \n",
      "==============================================================================\n",
      "Dep. Variable:                 TARGET   No. Observations:                12795\n",
      "Model:                            GLM   Df Residuals:                    12791\n",
      "Model Family:                 Poisson   Df Model:                            3\n",
      "Link Function:                    log   Scale:                          1.0000\n",
      "Method:                          IRLS   Log-Likelihood:                -25749.\n",
      "Date:                Sat, 27 Jun 2020   Deviance:                       19556.\n",
      "Time:                        20:59:55   Pearson chi2:                 1.26e+04\n",
      "No. Iterations:                     5                                         \n",
      "Covariance Type:            nonrobust                                         \n",
      "=====================================================================================\n",
      "                        coef    std err          z      P>|z|      [0.025      0.975]\n",
      "-------------------------------------------------------------------------------------\n",
      "Intercept             0.6132      0.016     39.345      0.000       0.583       0.644\n",
      "STARS                 0.2201      0.007     31.386      0.000       0.206       0.234\n",
      "LabelAppeal           0.1114      0.016      6.816      0.000       0.079       0.143\n",
      "STARS:LabelAppeal     0.0368      0.007      5.283      0.000       0.023       0.050\n",
      "=====================================================================================\n"
     ]
    }
   ],
   "source": [
    "STARS = data['STARS']\n",
    "LabelAppeal = data['LabelAppeal']\n",
    "TARGET = data['TARGET']\n",
    "# Import libraries\n",
    "import statsmodels.api as sm\n",
    "from statsmodels.formula.api import glm\n",
    "\n",
    "# Fit Poisson regression of sat by width\n",
    "model = glm('TARGET ~ STARS*LabelAppeal', data = data, family = sm.families.Poisson()).fit()\n",
    "\n",
    "# Display model results\n",
    "print(model.summary())"
   ]
  },
  {
   "cell_type": "markdown",
   "metadata": {},
   "source": [
    "## Interpretation Poisson Model 2\n",
    "### From this output, we have the following estimated model:\n",
    "### $y = e^{B_{0}x_{0}+B_{1}x_{1}+B_{2}x_{2}}$\n",
    "\n",
    "### where\n",
    "### $B_0=0.6132$\n",
    "### $B_1=0.2201$\n",
    "### $B_2=0.1114$\n",
    "\n",
    "\n",
    "### and\n",
    "\n",
    "### $x_0=1$\n",
    "### $x_1=STARS$\n",
    "### $x_2=LabelAppeal$\n",
    "\n",
    "\n",
    "## Coefficient Analysis\n",
    "\n",
    "### Unlike the linear model, in order to interpret the slope coefficient in a Poisson regression, it makes better sense to look at the ratio of predicted responses (instead of the difference) for a unit increase in x. \n",
    "\n",
    "Hence, for a unit increase in our highly significant variables:\n",
    "- STARS, we expect an increase of $e^{0.2201}$=1.24620134449 the number of cases of wine that will be sold\n",
    "- LabelAppeal, we expect an increase of $e^{0.1114}$=1.11784195422 the number of cases of wine that will be sold\n",
    "\n",
    "\n",
    "### The fixed acidity variable had a noticeable positive effect in my Poisson model but had a minor negative effect in my linear regression model.\n",
    "### The Acid Index variable had a noticeable negative effect in my Poisson model also had negative effect in my linear regression model.\n",
    "### The STARS and LabelAppeal variable had a noticeable positive effect in my Poisson model also had a positive effect in my linear regression model.\n",
    "\n",
    "\n",
    "\n",
    "## Negative Binomial Regression Model 1\n",
    "\n",
    "### The Negative Binomial regression model is one such model that does not make the variance = mean assumption about the data.\n",
    "\n",
    "## Step 1: Fit the Poisson regression model on the data set. This will give us the vector of fitted rates:"
   ]
  },
  {
   "cell_type": "code",
   "execution_count": 25,
   "metadata": {},
   "outputs": [],
   "source": [
    "import pandas as pd\n",
    "from patsy import dmatrices\n",
    "import numpy as np\n",
    "import statsmodels.api as sm\n",
    "import matplotlib.pyplot as plt\n",
    "STARS = data['STARS']\n",
    "LabelAppeal = data['LabelAppeal']\n",
    "TARGET = data['TARGET']\n",
    "AcidIndex = data['AcidIndex']"
   ]
  },
  {
   "cell_type": "code",
   "execution_count": 27,
   "metadata": {},
   "outputs": [],
   "source": [
    "expr = 'TARGET ~ STARS + LabelAppeal + AcidIndex'"
   ]
  },
  {
   "cell_type": "code",
   "execution_count": 76,
   "metadata": {},
   "outputs": [],
   "source": [
    "y_train, X_train = dmatrices(expr, data, return_type = 'dataframe')\n",
    "y_test, X_test = dmatrices(expr, data, return_type = 'dataframe')"
   ]
  },
  {
   "cell_type": "code",
   "execution_count": 29,
   "metadata": {},
   "outputs": [],
   "source": [
    "poisson_training_results = sm.GLM(y_train,X_train, family = sm.families.Poisson()).fit()"
   ]
  },
  {
   "cell_type": "code",
   "execution_count": 30,
   "metadata": {},
   "outputs": [
    {
     "name": "stdout",
     "output_type": "stream",
     "text": [
      "                 Generalized Linear Model Regression Results                  \n",
      "==============================================================================\n",
      "Dep. Variable:                 TARGET   No. Observations:                12795\n",
      "Model:                            GLM   Df Residuals:                    12791\n",
      "Model Family:                 Poisson   Df Model:                            3\n",
      "Link Function:                    log   Scale:                          1.0000\n",
      "Method:                          IRLS   Log-Likelihood:                -25310.\n",
      "Date:                Sat, 27 Jun 2020   Deviance:                       18678.\n",
      "Time:                        23:28:08   Pearson chi2:                 1.24e+04\n",
      "No. Iterations:                     5                                         \n",
      "Covariance Type:            nonrobust                                         \n",
      "===============================================================================\n",
      "                  coef    std err          z      P>|z|      [0.025      0.975]\n",
      "-------------------------------------------------------------------------------\n",
      "Intercept       1.5996      0.037     42.794      0.000       1.526       1.673\n",
      "STARS           0.2155      0.006     33.286      0.000       0.203       0.228\n",
      "LabelAppeal     0.1996      0.006     33.226      0.000       0.188       0.211\n",
      "AcidIndex      -0.1265      0.004    -28.967      0.000      -0.135      -0.118\n",
      "===============================================================================\n"
     ]
    }
   ],
   "source": [
    "print(poisson_training_results.summary())"
   ]
  },
  {
   "cell_type": "markdown",
   "metadata": {},
   "source": [
    "### My interest lies in the vector of fitted rates, produced by the training. This rate vector is contained in the parameter poisson_training_results.mu:"
   ]
  },
  {
   "cell_type": "code",
   "execution_count": 31,
   "metadata": {},
   "outputs": [
    {
     "name": "stdout",
     "output_type": "stream",
     "text": [
      "[2.76958629 3.19309092 2.81374239 ... 3.56671824 2.92123045 3.14298169]\n",
      "12795\n"
     ]
    }
   ],
   "source": [
    "print(poisson_training_results.mu)\n",
    "print(len(poisson_training_results.mu))"
   ]
  },
  {
   "cell_type": "markdown",
   "metadata": {},
   "source": [
    "### The outputs showed the first few and last few values of fitted vector. This completes the STEP 1: fitting the Poisson regression model.\n",
    "\n",
    "## Step 2: I will now fit the auxiliary OLS regression model on the data set and use the fitted model to get the value of a:"
   ]
  },
  {
   "cell_type": "code",
   "execution_count": 32,
   "metadata": {},
   "outputs": [],
   "source": [
    "import statsmodels.formula.api as smf"
   ]
  },
  {
   "cell_type": "markdown",
   "metadata": {},
   "source": [
    "### Add the fitted rates as a new column called \"lambda\" to the Data Frame of the training data set."
   ]
  },
  {
   "cell_type": "code",
   "execution_count": 53,
   "metadata": {},
   "outputs": [],
   "source": [
    "data['Lambda'] = poisson_training_results.mu"
   ]
  },
  {
   "cell_type": "markdown",
   "metadata": {},
   "source": [
    "### Next, Let's add a derived column called \"AUXOLS\" to the pandas Data Frame. This new column will store the values of the dependent variables of the OLS regression. "
   ]
  },
  {
   "cell_type": "code",
   "execution_count": 54,
   "metadata": {},
   "outputs": [],
   "source": [
    "data['AUXOLS'] = data.apply(lambda x: ((x['TARGET'] - x['Lambda'])**2 - x['TARGET'])/x['Lambda'], axis = 1)"
   ]
  },
  {
   "cell_type": "markdown",
   "metadata": {},
   "source": [
    "### I want to tell pasty AUXOLS is the dependent variable and it is explained by lambda, the -1 at the end of the expression is pasty syntax for saying: do not use an intercept of regression, just fit a straight line passing through the origin."
   ]
  },
  {
   "cell_type": "code",
   "execution_count": 55,
   "metadata": {},
   "outputs": [],
   "source": [
    "olsexpr = 'AUXOLS ~ Lambda - 1'"
   ]
  },
  {
   "cell_type": "markdown",
   "metadata": {},
   "source": [
    "### I am now ready to fit an OLSR model: "
   ]
  },
  {
   "cell_type": "code",
   "execution_count": 57,
   "metadata": {},
   "outputs": [],
   "source": [
    "import statsmodels.formula.api as smf\n",
    "result = smf.ols(olsexpr, data).fit()"
   ]
  },
  {
   "cell_type": "code",
   "execution_count": 58,
   "metadata": {},
   "outputs": [
    {
     "name": "stdout",
     "output_type": "stream",
     "text": [
      "Lambda   -0.03386\n",
      "dtype: float64\n"
     ]
    }
   ],
   "source": [
    "print(result.params)"
   ]
  },
  {
   "cell_type": "markdown",
   "metadata": {},
   "source": [
    "### I have seen a single coefficient being printed out corresponding to the single regression variable Lambda. This coefficent is $\\alpha$ that I am seeking.\n",
    "\n",
    "### Is $\\alpha$ statistically significant? The OLS results object contains the t-score of the regression coefficient $\\alpha$. Let's print it out:"
   ]
  },
  {
   "cell_type": "code",
   "execution_count": 59,
   "metadata": {},
   "outputs": [
    {
     "data": {
      "text/plain": [
       "Lambda   -8.142809\n",
       "dtype: float64"
      ]
     },
     "execution_count": 59,
     "metadata": {},
     "output_type": "execute_result"
    }
   ],
   "source": [
    "result.tvalues"
   ]
  },
  {
   "cell_type": "markdown",
   "metadata": {},
   "source": [
    "### From a t-value calculator, I can see that the critical t-value at a 99.9999% confidence level (right-tailed) qith degrees of freedom =  10, this is comfortably less than the t-statistic of $\\alpha$ which was  0.05. We conclude that $\\alpha$ is statistically significant. This completes STEP 2: The determination of $\\alpha$.\n",
    "\n",
    "\n",
    "## Step 3: We supply the value of alpha found in STEP 2 into the statsmodels.genmod.families.family.NegativeBinomial class, and train the Negative Binomial model on the training data set:"
   ]
  },
  {
   "cell_type": "code",
   "execution_count": 61,
   "metadata": {},
   "outputs": [],
   "source": [
    "nb2_training_result = sm.GLM(y_train, X_train, family = sm.families.NegativeBinomial(alpha = result.params[0])).fit()"
   ]
  },
  {
   "cell_type": "code",
   "execution_count": 64,
   "metadata": {},
   "outputs": [
    {
     "name": "stdout",
     "output_type": "stream",
     "text": [
      "                 Generalized Linear Model Regression Results                  \n",
      "==============================================================================\n",
      "Dep. Variable:                 TARGET   No. Observations:                12795\n",
      "Model:                            GLM   Df Residuals:                    12791\n",
      "Model Family:        NegativeBinomial   Df Model:                            3\n",
      "Link Function:                    log   Scale:                          1.0000\n",
      "Method:                          IRLS   Log-Likelihood:                    nan\n",
      "Date:                Sun, 28 Jun 2020   Deviance:                       19957.\n",
      "Time:                        00:09:55   Pearson chi2:                 1.37e+04\n",
      "No. Iterations:                     5                                         \n",
      "Covariance Type:            nonrobust                                         \n",
      "===============================================================================\n",
      "                  coef    std err          z      P>|z|      [0.025      0.975]\n",
      "-------------------------------------------------------------------------------\n",
      "Intercept       1.5750      0.035     44.524      0.000       1.506       1.644\n",
      "STARS           0.2177      0.006     36.061      0.000       0.206       0.229\n",
      "LabelAppeal     0.1981      0.006     35.043      0.000       0.187       0.209\n",
      "AcidIndex      -0.1239      0.004    -29.922      0.000      -0.132      -0.116\n",
      "===============================================================================\n"
     ]
    }
   ],
   "source": [
    "print(nb2_training_result.summary())"
   ]
  },
  {
   "cell_type": "markdown",
   "metadata": {},
   "source": [
    "## Step 4: Let's make some predictions using our model trained NB2 model:"
   ]
  },
  {
   "cell_type": "code",
   "execution_count": 77,
   "metadata": {},
   "outputs": [
    {
     "data": {
      "text/plain": [
       "<statsmodels.genmod._prediction.PredictionResults at 0x7f96a041a790>"
      ]
     },
     "execution_count": 77,
     "metadata": {},
     "output_type": "execute_result"
    }
   ],
   "source": [
    "nb2_predictions = nb2_training_result.get_prediction(X_test)\n",
    "nb2_predictions"
   ]
  },
  {
   "cell_type": "code",
   "execution_count": 78,
   "metadata": {},
   "outputs": [],
   "source": [
    "predictions_summary_frame = nb2_predictions.summary_frame()"
   ]
  },
  {
   "cell_type": "code",
   "execution_count": 79,
   "metadata": {},
   "outputs": [
    {
     "name": "stdout",
     "output_type": "stream",
     "text": [
      "           mean   mean_se  mean_ci_lower  mean_ci_upper\n",
      "0      2.771706  0.014858       2.742737       2.800980\n",
      "1      3.199205  0.033864       3.133517       3.266270\n",
      "2      2.826520  0.030419       2.767524       2.886774\n",
      "3      2.343032  0.027876       2.289029       2.398309\n",
      "4      2.448822  0.019056       2.411756       2.486457\n",
      "...         ...       ...            ...            ...\n",
      "12790  4.944085  0.063468       4.821242       5.070058\n",
      "12791  2.273658  0.018987       2.236748       2.311177\n",
      "12792  3.550807  0.029260       3.493920       3.608620\n",
      "12793  2.912763  0.029933       2.854682       2.972025\n",
      "12794  3.137163  0.017519       3.103014       3.171688\n",
      "\n",
      "[12795 rows x 4 columns]\n"
     ]
    }
   ],
   "source": [
    "print(nb2_predictions.summary_frame())"
   ]
  },
  {
   "cell_type": "markdown",
   "metadata": {},
   "source": [
    "## Negative Binomial Regression Model 2\n",
    "\n",
    "### Let me change the regressors to do another Negative Binomial Regression Model:\n",
    "\n",
    "## Step 1: Fit the Poisson regression model on the data set. This will give us the vector of fitted rates:"
   ]
  },
  {
   "cell_type": "code",
   "execution_count": 110,
   "metadata": {},
   "outputs": [
    {
     "name": "stdout",
     "output_type": "stream",
     "text": [
      "                 Generalized Linear Model Regression Results                  \n",
      "==============================================================================\n",
      "Dep. Variable:                 TARGET   No. Observations:                12795\n",
      "Model:                            GLM   Df Residuals:                    12791\n",
      "Model Family:                 Poisson   Df Model:                            3\n",
      "Link Function:                    log   Scale:                          1.0000\n",
      "Method:                          IRLS   Log-Likelihood:                -25744.\n",
      "Date:                Sun, 28 Jun 2020   Deviance:                       19546.\n",
      "Time:                        17:09:48   Pearson chi2:                 1.27e+04\n",
      "No. Iterations:                     5                                         \n",
      "Covariance Type:            nonrobust                                         \n",
      "======================================================================================\n",
      "                         coef    std err          z      P>|z|      [0.025      0.975]\n",
      "--------------------------------------------------------------------------------------\n",
      "Intercept              0.5918      0.015     39.411      0.000       0.562       0.621\n",
      "STARS                  0.2335      0.006     36.082      0.000       0.221       0.246\n",
      "LabelAppeal            0.1923      0.006     32.088      0.000       0.181       0.204\n",
      "TotalFulfurDioxide     0.0320      0.005      6.099      0.000       0.022       0.042\n",
      "======================================================================================\n"
     ]
    }
   ],
   "source": [
    "import pandas as pd\n",
    "from patsy import dmatrices\n",
    "import numpy as np\n",
    "import statsmodels.api as sm\n",
    "import matplotlib.pyplot as plt\n",
    "STARS = data['STARS']\n",
    "LabelAppeal = data['LabelAppeal']\n",
    "TARGET = data['TARGET']\n",
    "TotalFulfurDioxide = data['TotalSulfurDioxide']\n",
    "expr = 'TARGET ~ STARS + LabelAppeal + TotalFulfurDioxide'\n",
    "y_train, X_train = dmatrices(expr, data, return_type = 'dataframe')\n",
    "y_test, X_test = dmatrices(expr, data, return_type = 'dataframe')\n",
    "poisson_training_results = sm.GLM(y_train,X_train, family = sm.families.Poisson()).fit()\n",
    "print(poisson_training_results.summary())"
   ]
  },
  {
   "cell_type": "markdown",
   "metadata": {},
   "source": [
    "### Print out the vector of fitted rates:"
   ]
  },
  {
   "cell_type": "code",
   "execution_count": 111,
   "metadata": {},
   "outputs": [
    {
     "name": "stdout",
     "output_type": "stream",
     "text": [
      "[2.94168868 2.82409512 3.01263673 ... 2.87754061 2.42914415 2.93116814]\n",
      "12795\n"
     ]
    }
   ],
   "source": [
    "print(poisson_training_results.mu)\n",
    "print(len(poisson_training_results.mu))"
   ]
  },
  {
   "cell_type": "markdown",
   "metadata": {},
   "source": [
    "## Step 2: Fit the auxiliary OLS regression model on the data set and use the fitted model to get the value of $a$:"
   ]
  },
  {
   "cell_type": "code",
   "execution_count": 113,
   "metadata": {},
   "outputs": [
    {
     "name": "stdout",
     "output_type": "stream",
     "text": [
      "Lambda   -0.019305\n",
      "dtype: float64\n"
     ]
    }
   ],
   "source": [
    "import statsmodels.formula.api as smf\n",
    "data['Lambda'] = poisson_training_results.mu\n",
    "data['AUXOLS'] = data.apply(lambda x: ((x['TARGET'] - x['Lambda'])**2 - x['TARGET'])/x['Lambda'], axis = 1)\n",
    "olsexpr = 'AUXOLS ~ Lambda - 1'\n",
    "import statsmodels.formula.api as smf\n",
    "result = smf.ols(olsexpr, data).fit()\n",
    "print(result.params)"
   ]
  },
  {
   "cell_type": "markdown",
   "metadata": {},
   "source": [
    "### I have seen a single coefficient being printed out corresponding to the single regression variable Lambda. This coefficent is $\\alpha$ that I am seeking.\n",
    "\n",
    "### Is $\\alpha$ statistically significant? The OLS results object contains the t-score of the regression coefficient $\\alpha$. Let's print it out:"
   ]
  },
  {
   "cell_type": "code",
   "execution_count": 114,
   "metadata": {},
   "outputs": [
    {
     "data": {
      "text/plain": [
       "Lambda   -4.474213\n",
       "dtype: float64"
      ]
     },
     "execution_count": 114,
     "metadata": {},
     "output_type": "execute_result"
    }
   ],
   "source": [
    "result.tvalues"
   ]
  },
  {
   "cell_type": "markdown",
   "metadata": {},
   "source": [
    "### From a t-value calculator, I can see that the critical t-value at a 99.999% confidence level (right-tailed) with degrees of freedom 10, this is comfortably less than the t-statistic of $\\alpha$ which was 0.05. We conclude that $\\alpha$ is statistically significant. This completes STEP 2: The determination of $\\alpha$.\n",
    "\n",
    "\n",
    "## Step 3: We supply the value of alpha found in STEP 2 into the statsmodels.genmod.families.family.NegativeBinomial class, and train the Negative Binomial model on the training data set:"
   ]
  },
  {
   "cell_type": "code",
   "execution_count": 116,
   "metadata": {},
   "outputs": [
    {
     "name": "stdout",
     "output_type": "stream",
     "text": [
      "                 Generalized Linear Model Regression Results                  \n",
      "==============================================================================\n",
      "Dep. Variable:                 TARGET   No. Observations:                12795\n",
      "Model:                            GLM   Df Residuals:                    12791\n",
      "Model Family:        NegativeBinomial   Df Model:                            3\n",
      "Link Function:                    log   Scale:                          1.0000\n",
      "Method:                          IRLS   Log-Likelihood:                    nan\n",
      "Date:                Sun, 28 Jun 2020   Deviance:                       20284.\n",
      "Time:                        17:13:36   Pearson chi2:                 1.34e+04\n",
      "No. Iterations:                     5                                         \n",
      "Covariance Type:            nonrobust                                         \n",
      "======================================================================================\n",
      "                         coef    std err          z      P>|z|      [0.025      0.975]\n",
      "--------------------------------------------------------------------------------------\n",
      "Intercept              0.5877      0.015     40.442      0.000       0.559       0.616\n",
      "STARS                  0.2354      0.006     37.791      0.000       0.223       0.248\n",
      "LabelAppeal            0.1915      0.006     33.026      0.000       0.180       0.203\n",
      "TotalFulfurDioxide     0.0317      0.005      6.255      0.000       0.022       0.042\n",
      "======================================================================================\n"
     ]
    }
   ],
   "source": [
    "nb2_training_result = sm.GLM(y_train, X_train, family = sm.families.NegativeBinomial(alpha = result.params[0])).fit()\n",
    "print(nb2_training_result.summary())"
   ]
  },
  {
   "cell_type": "markdown",
   "metadata": {},
   "source": [
    "## Step 4: Let's make some predictions using our model trained NB2 model:"
   ]
  },
  {
   "cell_type": "code",
   "execution_count": 117,
   "metadata": {},
   "outputs": [
    {
     "name": "stdout",
     "output_type": "stream",
     "text": [
      "           mean   mean_se  mean_ci_lower  mean_ci_upper\n",
      "0      2.940726  0.017694       2.906251       2.975610\n",
      "1      2.832716  0.041806       2.751952       2.915850\n",
      "2      3.020327  0.032456       2.957379       3.084614\n",
      "3      1.879258  0.018760       1.842847       1.916388\n",
      "4      2.877088  0.014951       2.847934       2.906541\n",
      "...         ...       ...            ...            ...\n",
      "12790  3.515253  0.025077       3.466445       3.564749\n",
      "12791  2.379895  0.019738       2.341522       2.418896\n",
      "12792  2.877088  0.014951       2.847934       2.906541\n",
      "12793  2.430303  0.021531       2.388467       2.472872\n",
      "12794  2.930290  0.016844       2.897462       2.963490\n",
      "\n",
      "[12795 rows x 4 columns]\n"
     ]
    }
   ],
   "source": [
    "nb2_predictions = nb2_training_result.get_prediction(X_test)\n",
    "predictions_summary_frame = nb2_predictions.summary_frame()\n",
    "print(nb2_predictions.summary_frame())"
   ]
  },
  {
   "cell_type": "markdown",
   "metadata": {},
   "source": [
    "## Conclusion:\n",
    "\n",
    "### 1. When applying multiple linear regression model, if I chose FixedAcidity,VolatileAcidity, AcidIndex, STARS as regressors, then the regression score is 0.20306931803519312\n",
    "\n",
    "### When applying multiple linear regression model, if I chose AcidIndex,CitricAcid, LabelAppeal,pH as regressors, then the regression score is 0.19324005627768046\n",
    "\n",
    "### 2. When applying poisson regression model, if I chose FreeSulfurDioxide, FixedAcidity, AcidIndex as regressors, then the Deviance is 20640, the Pearson chi2 is 1.47e+04\n",
    "\n",
    "### When applying poisson regression model, if I chose STARS and LabelAppeal as regressors, then the Deviance is 19556,  the Pearson chi2 is 1.26e+04\n",
    "\n",
    "### 3. When applying negative binomial regression model, if I chose STARS, LabelAppeal, AcidIndex as regressors, then the Deviance is 19957, the Pearson chi2 is 1.37e+04\n",
    "\n",
    "### When applying negative binomial regression model, if I chose STARS, LabelAppeal, TotalFulfurDioxide as regressors, then the Deviance is 20284,  the Pearson chi2 is 1.34e+04\n",
    "\n",
    "### The score of multiple linear regression models are low, so I would reject the multiple linear regression model, for poisson regression model, I would choose model 2, for negative binomial regression model, I would choose model 1.\n",
    "\n",
    "### All those models showed, STARS, LabelAppeal and AcidIndex might be the best regressors for TARGET."
   ]
  },
  {
   "cell_type": "code",
   "execution_count": null,
   "metadata": {},
   "outputs": [],
   "source": []
  }
 ],
 "metadata": {
  "kernelspec": {
   "display_name": "Python 3",
   "language": "python",
   "name": "python3"
  },
  "language_info": {
   "codemirror_mode": {
    "name": "ipython",
    "version": 3
   },
   "file_extension": ".py",
   "mimetype": "text/x-python",
   "name": "python",
   "nbconvert_exporter": "python",
   "pygments_lexer": "ipython3",
   "version": "3.7.6"
  }
 },
 "nbformat": 4,
 "nbformat_minor": 4
}
