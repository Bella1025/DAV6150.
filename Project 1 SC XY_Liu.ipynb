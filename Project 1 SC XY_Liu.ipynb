{
 "cells": [
  {
   "cell_type": "code",
   "execution_count": 126,
   "metadata": {},
   "outputs": [],
   "source": []
  },
  {
   "cell_type": "code",
   "execution_count": null,
   "metadata": {},
   "outputs": [],
   "source": []
  },
  {
   "cell_type": "code",
   "execution_count": 271,
   "metadata": {},
   "outputs": [
    {
     "data": {
      "image/png": "[encoded data removed]",
      "text/plain": [
       "<Figure size 432x288 with 1 Axes>"
      ]
     },
     "metadata": {},
     "output_type": "display_data"
    }
   ],
   "source": [
    "import math\n",
    "import numpy as np\n",
    "from math import cos\n",
    "from math import sin\n",
    "def function(theta):\n",
    "    x1 = 5\n",
    "    x2 = 0\n",
    "    y2 = 6\n",
    "    L1 = 3\n",
    "    L2 = 3*np.sqrt(2)\n",
    "    L3 = 3\n",
    "    P1 = 5\n",
    "    P2 = 5\n",
    "    P3 = 5\n",
    "    delta = pi/4\n",
    "    A2 = (-x1) + (L3)*cos(theta)\n",
    "    B2 = (L3)*sin(theta)\n",
    "    A3 = (-x2) + (L2)*cos(theta)*cos(delta) - (L2)*sin(theta)*sin(delta)\n",
    "    B3 = (-y2) + (L2)*sin(theta)*cos(delta) + (L2)*cos(theta)*sin(delta)\n",
    "    D  = 2 * (A2*B3 - A3*B2)\n",
    "    N_1 = (B3) * (P2**2 - P1 **2 - A2 ** 2 - B2 ** 2) - (B2) * (P3**2 - P1 **2 - A3 ** 2 - B3 ** 2)\n",
    "    N_2 = (-A3) * (P2**2 - P1 **2 - A2 ** 2 - B2 ** 2) + (A2) * (P3**2 - P1 **2 - A3 ** 2 - B3 ** 2)\n",
    "    x = (N_1)/D\n",
    "    y = (N_2)/D\n",
    "    P_1 = (x**2) + (y**2)\n",
    "    final = (N_1**2 + N_2 ** 2) - ((P1**2) * (D**2))\n",
    "    return round(final)\n",
    "vecfunc = np.vectorize(function)\n",
    "d = np.arange(-pi, pi, 0.01)\n",
    "T = vecfunc(d)\n",
    "plt.plot (d, T, 'ro', d, T, 'k')\n",
    "plt.show()"
   ]
  },
  {
   "cell_type": "code",
   "execution_count": 256,
   "metadata": {},
   "outputs": [
    {
     "data": {
      "text/plain": [
       "0.0"
      ]
     },
     "execution_count": 256,
     "metadata": {},
     "output_type": "execute_result"
    }
   ],
   "source": [
    "function(-1.4625787758995266)"
   ]
  },
  {
   "cell_type": "code",
   "execution_count": 272,
   "metadata": {},
   "outputs": [],
   "source": [
    "def bisection(f, a, b, TOL):\n",
    "    if np.sign(f(a))*np.sign(f(b)) > 0:\n",
    "        print('f(a)f(b)<0 not satisfied') \n",
    "        return # stop execution\n",
    "    n=1\n",
    "    fa= f(a)\n",
    "    fb= f(b)            \n",
    "    while np.abs(a-b)>TOL:\n",
    "        c = (a+b)/2\n",
    "        fc=f(c)   \n",
    "        n=n+1\n",
    "        if np.isclose(f(c), 0):\n",
    "            print('Approximate  root', c, 'has been obtained in', n, 'steps')\n",
    "            return\n",
    "        if np.sign(fc)*np.sign(fa)<0:\n",
    "            b = c\n",
    "            fb=fc\n",
    "        else:\n",
    "            a = c\n",
    "            fa= fc\n",
    "    c=(a+b)/2\n",
    "    print('The final interval [', a, b, '] contains a root')\n",
    "    print('Approximate  root', c, 'has been obtained in', n, 'steps')"
   ]
  },
  {
   "cell_type": "code",
   "execution_count": 273,
   "metadata": {},
   "outputs": [
    {
     "name": "stdout",
     "output_type": "stream",
     "text": [
      "The final interval [ -1.46258544921875 -1.462554931640625 ] contains a root\n",
      "Approximate  root -1.4625701904296875 has been obtained in 16 steps\n"
     ]
    }
   ],
   "source": [
    "bisection(function,-2,-1,0.5e-4)"
   ]
  },
  {
   "cell_type": "code",
   "execution_count": 291,
   "metadata": {},
   "outputs": [],
   "source": [
    "def functionforxy(x1,x2,y2,L1,L2,L3,P1,P2,P3,delta,theta):\n",
    "    A2 = (-x1) + (L3)*cos(theta)\n",
    "    B2 = (L3)*sin(theta)\n",
    "    A3 = (-x2) + (L2)*cos(theta)*cos(delta) - (L2)*sin(theta)*sin(delta)\n",
    "    B3 = (-y2) + (L2)*sin(theta)*cos(delta) + (L2)*cos(theta)*sin(delta)\n",
    "    D  = 2 * (A2*B3 - A3*B2)\n",
    "    N_1 = (B3) * (P2**2 - P1 **2 - A2 ** 2 - B2 ** 2) - (B2) * (P3**2 - P1 **2 - A3 ** 2 - B3 ** 2)\n",
    "    N_2 = (-A3) * (P2**2 - P1 **2 - A2 ** 2 - B2 ** 2) + (A2) * (P3**2 - P1 **2 - A3 ** 2 - B3 ** 2)\n",
    "    x = (N_1)/D\n",
    "    y = (N_2)/D\n",
    "    return (round(x),round(y))"
   ]
  },
  {
   "cell_type": "code",
   "execution_count": 292,
   "metadata": {},
   "outputs": [
    {
     "data": {
      "text/plain": [
       "(-0.0, 3.0)"
      ]
     },
     "execution_count": 292,
     "metadata": {},
     "output_type": "execute_result"
    }
   ],
   "source": [
    "functionforxy(5,0,6,3,3,3*np.sqrt(2),3,5,5,pi/4,-1.4625701904296875)"
   ]
  },
  {
   "cell_type": "code",
   "execution_count": 293,
   "metadata": {},
   "outputs": [
    {
     "data": {
      "text/plain": [
       "(2.0, 1.0)"
      ]
     },
     "execution_count": 293,
     "metadata": {},
     "output_type": "execute_result"
    }
   ],
   "source": [
    "functionforxy(4,0,4,2,np.sqrt(2),np.sqrt(2),np.sqrt(5),np.sqrt(5),np.sqrt(5),pi/2,0.785)"
   ]
  },
  {
   "cell_type": "code",
   "execution_count": 211,
   "metadata": {},
   "outputs": [],
   "source": []
  },
  {
   "cell_type": "code",
   "execution_count": null,
   "metadata": {},
   "outputs": [],
   "source": []
  },
  {
   "cell_type": "code",
   "execution_count": 213,
   "metadata": {},
   "outputs": [],
   "source": []
  },
  {
   "cell_type": "code",
   "execution_count": null,
   "metadata": {},
   "outputs": [],
   "source": []
  },
  {
   "cell_type": "code",
   "execution_count": null,
   "metadata": {},
   "outputs": [],
   "source": []
  },
  {
   "cell_type": "code",
   "execution_count": null,
   "metadata": {},
   "outputs": [],
   "source": []
  },
  {
   "cell_type": "code",
   "execution_count": null,
   "metadata": {},
   "outputs": [],
   "source": []
  }
 ],
 "metadata": {
  "kernelspec": {
   "display_name": "Python 3",
   "language": "python",
   "name": "python3"
  },
  "language_info": {
   "codemirror_mode": {
    "name": "ipython",
    "version": 3
   },
   "file_extension": ".py",
   "mimetype": "text/x-python",
   "name": "python",
   "nbconvert_exporter": "python",
   "pygments_lexer": "ipython3",
   "version": "3.7.6"
  }
 },
 "nbformat": 4,
 "nbformat_minor": 4
}
