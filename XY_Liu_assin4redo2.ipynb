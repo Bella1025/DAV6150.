{
 "cells": [
  {
   "cell_type": "markdown",
   "metadata": {},
   "source": [
    "# Introduction\n",
    "### The data set is very messy with no exploratory name of attributes, so I add names on top of ever columns in according to the website in which data came from. The name of 26 attributes I added from left to right are: symboling,normalized-losses,make,fuel-type,aspiration,num-of-doors,body-style,drive-wheels,engine-location,wheel-base,length,width,height,curb-weight,engine-type,num-of-cylinders,engine-size,fuel-system,bore,stroke,compression,horsepower, peak-rpm,city-mpg,highway-mpg, price.  \n",
    "\n",
    "#### Symboling corresponds to the degree to which the auto is more risky than its price indicates. Cars are initially assigned a risk factor symbol associated with its price. Then, if it is more risky (or less), this symbol is adjusted by moving it up (or down) the scale. In  the dataset, it means the auto which has symboling 3 has highest risk while the auto which has symboling -3 has the lowest risk.\n",
    "\n",
    "#### Normalized-losses is the relative average loss payment per insured vehicle year. This value is normalized for all autos within a particular size classification, and represents the average loss per car per year. The values range from 65 to 256. \n",
    "\n",
    "#### A car's make is the brand of the vehicle\n",
    "\n",
    "#### A motor fuel is a fuel that is used to provide power to motor vehicles.\n",
    "\n",
    "#### A naturally-aspirated engine, also known as a normally-aspirated engine, is an internal combustion engine in which oxygen intake depends solely on atmospheric pressure and does not have forced induction through a turbocharger or a supercharger. The aspiration with turbo means there is a forced induction device in auto that increases an internal combustion engine's efficiency and power output by forcing extra compressed air into the combustion chamber.\n",
    "\n",
    "#### The fuel system is made up of the fuel tank, pump, filter, and injectors or carburetor, and is responsible for delivering fuel to the engine as needed.\n",
    "\n",
    "#### The bore  is the diameter of each cylinder.\n",
    "\n",
    "#### Horsepower is a unit of power used to measure the forcefulness of a vehicle's engine. The total number of miles the vehicle can go during its lifespan is also determined using horsepower.\n",
    "\n",
    "#### RPM stands for “Revolutions per Minute.” It’s a way of measuring the speed at which the engine revolves or spins.\n",
    "\n",
    "#### City MPG refers to driving with occasional stopping and braking, simulating the conditions you're likely to run into while driving on city streets. Miles per gallon (mpg) is the measurement of the distance in miles that a vehicle can travel using only one gallon of fuel. \n",
    "\n",
    "### In this project, city-mpg is the responsive variable which I want to predict. I try to predict city-mpg using linear regression model, it is my job to choose what exploratory variables are regressors. \n",
    "\n",
    "### The data has plenty of missing values, so I plan to try some methods to deal with missing values.\n",
    "\n",
    "### To simpliy the data without losing too much information, I did feature interaction by multiplying 'width' 'length' 'height' together as 'volume'.\n",
    "\n",
    "### I plotted some graphics to see the linear relationships between city-mpg and other attributes, to see which pairs have more possibility to have linear relationship which could be used as linear model to predict city-mpg.\n",
    "\n",
    "### I also checked the correlations between the regressors I choose to use. Since the multicollinearity exists, I choose to apply PCA on the sampling data to make the prediction, and check the regression score of my regression model to decide which models are the best.\n"
   ]
  },
  {
   "cell_type": "code",
   "execution_count": 207,
   "metadata": {
    "scrolled": true
   },
   "outputs": [],
   "source": [
    "#import the file and important packages\n",
    "import matplotlib.pyplot as plt\n",
    "import numpy as np\n",
    "import pandas as pd \n",
    "import seaborn as sns\n",
    "\n",
    "import statsmodels.api as sm\n",
    "\n",
    "from sklearn.preprocessing import StandardScaler\n",
    "from sklearn.linear_model import LinearRegression\n",
    "from sklearn import metrics\n",
    "\n",
    "from numpy import linalg as LA\n",
    "from sklearn.experimental import (\n",
    "    enable_iterative_imputer,\n",
    ")\n",
    "from statsmodels.distributions.empirical_distribution  import ECDF\n",
    "from sklearn.metrics import mean_squared_error, r2_score\n",
    "\n",
    "from sklearn.preprocessing import StandardScaler, OneHotEncoder\n",
    "from sklearn.linear_model import LinearRegression, Lasso, LassoCV\n",
    "from sklearn.model_selection import train_test_split, cross_val_score\n",
    "from sklearn.ensemble import RandomForestRegressor\n",
    "seed = 123\n",
    "\n",
    "import pandas as pd\n",
    "data = pd.read_excel(\"M4_Data.xls\")"
   ]
  },
  {
   "cell_type": "markdown",
   "metadata": {},
   "source": [
    "## Data preprocessing\n",
    "\n",
    "#### To begin my data prepocessing, first I want to check what the types of data are in different features, check what are categorical variables, what are numeric variables, what type of numeric values are in numeric variables:"
   ]
  },
  {
   "cell_type": "code",
   "execution_count": 54,
   "metadata": {
    "scrolled": true
   },
   "outputs": [
    {
     "data": {
      "text/plain": [
       "symboling              int64\n",
       "normalized-losses     object\n",
       "make                  object\n",
       "fuel-type             object\n",
       "aspiration            object\n",
       "num-of-doors          object\n",
       "body-style            object\n",
       "drive-wheels          object\n",
       "engine-location       object\n",
       "wheel-base           float64\n",
       "length               float64\n",
       "width                float64\n",
       "height               float64\n",
       "curb-weight            int64\n",
       "engine-type           object\n",
       "num-of-cylinders      object\n",
       "engine-size            int64\n",
       "fuel-system           object\n",
       "bore                  object\n",
       "stroke                object\n",
       "compression          float64\n",
       "horsepower            object\n",
       "peak-rpm              object\n",
       "city-mpg              object\n",
       "highway-mpg           object\n",
       "price                 object\n",
       "dtype: object"
      ]
     },
     "execution_count": 54,
     "metadata": {},
     "output_type": "execute_result"
    }
   ],
   "source": [
    " #check the types of data \n",
    "data.dtypes"
   ]
  },
  {
   "cell_type": "markdown",
   "metadata": {},
   "source": [
    "#### After checking data types, I found there are 11 objects, which are categorical attributes, and there are 11 float type and 4 int type, which are numeric attributes. 26 attributes in all."
   ]
  },
  {
   "cell_type": "code",
   "execution_count": 55,
   "metadata": {
    "scrolled": true
   },
   "outputs": [
    {
     "name": "stdout",
     "output_type": "stream",
     "text": [
      "(205, 26)\n"
     ]
    },
    {
     "data": {
      "text/html": [
       "<div>\n",
       "<style scoped>\n",
       "    .dataframe tbody tr th:only-of-type {\n",
       "        vertical-align: middle;\n",
       "    }\n",
       "\n",
       "    .dataframe tbody tr th {\n",
       "        vertical-align: top;\n",
       "    }\n",
       "\n",
       "    .dataframe thead th {\n",
       "        text-align: right;\n",
       "    }\n",
       "</style>\n",
       "<table border=\"1\" class=\"dataframe\">\n",
       "  <thead>\n",
       "    <tr style=\"text-align: right;\">\n",
       "      <th></th>\n",
       "      <th>symboling</th>\n",
       "      <th>normalized-losses</th>\n",
       "      <th>make</th>\n",
       "      <th>fuel-type</th>\n",
       "      <th>aspiration</th>\n",
       "      <th>num-of-doors</th>\n",
       "      <th>body-style</th>\n",
       "      <th>drive-wheels</th>\n",
       "      <th>engine-location</th>\n",
       "      <th>wheel-base</th>\n",
       "      <th>...</th>\n",
       "      <th>engine-size</th>\n",
       "      <th>fuel-system</th>\n",
       "      <th>bore</th>\n",
       "      <th>stroke</th>\n",
       "      <th>compression</th>\n",
       "      <th>horsepower</th>\n",
       "      <th>peak-rpm</th>\n",
       "      <th>city-mpg</th>\n",
       "      <th>highway-mpg</th>\n",
       "      <th>price</th>\n",
       "    </tr>\n",
       "  </thead>\n",
       "  <tbody>\n",
       "    <tr>\n",
       "      <th>0</th>\n",
       "      <td>3</td>\n",
       "      <td>?</td>\n",
       "      <td>alfa-romero</td>\n",
       "      <td>gas</td>\n",
       "      <td>std</td>\n",
       "      <td>two</td>\n",
       "      <td>convertible</td>\n",
       "      <td>rwd</td>\n",
       "      <td>front</td>\n",
       "      <td>88.6</td>\n",
       "      <td>...</td>\n",
       "      <td>130</td>\n",
       "      <td>mpfi</td>\n",
       "      <td>3.47</td>\n",
       "      <td>2.68</td>\n",
       "      <td>9.0</td>\n",
       "      <td>111</td>\n",
       "      <td>5000</td>\n",
       "      <td>21</td>\n",
       "      <td>27</td>\n",
       "      <td>13495</td>\n",
       "    </tr>\n",
       "    <tr>\n",
       "      <th>1</th>\n",
       "      <td>3</td>\n",
       "      <td>?</td>\n",
       "      <td>alfa-romero</td>\n",
       "      <td>gas</td>\n",
       "      <td>std</td>\n",
       "      <td>two</td>\n",
       "      <td>convertible</td>\n",
       "      <td>rwd</td>\n",
       "      <td>front</td>\n",
       "      <td>88.6</td>\n",
       "      <td>...</td>\n",
       "      <td>130</td>\n",
       "      <td>mpfi</td>\n",
       "      <td>3.47</td>\n",
       "      <td>2.68</td>\n",
       "      <td>9.0</td>\n",
       "      <td>111</td>\n",
       "      <td>5000</td>\n",
       "      <td>21</td>\n",
       "      <td>27</td>\n",
       "      <td>16500</td>\n",
       "    </tr>\n",
       "    <tr>\n",
       "      <th>2</th>\n",
       "      <td>1</td>\n",
       "      <td>?</td>\n",
       "      <td>alfa-romero</td>\n",
       "      <td>gas</td>\n",
       "      <td>std</td>\n",
       "      <td>two</td>\n",
       "      <td>hatchback</td>\n",
       "      <td>rwd</td>\n",
       "      <td>front</td>\n",
       "      <td>94.5</td>\n",
       "      <td>...</td>\n",
       "      <td>152</td>\n",
       "      <td>mpfi</td>\n",
       "      <td>2.68</td>\n",
       "      <td>3.47</td>\n",
       "      <td>9.0</td>\n",
       "      <td>154</td>\n",
       "      <td>5000</td>\n",
       "      <td>?</td>\n",
       "      <td>26</td>\n",
       "      <td>16500</td>\n",
       "    </tr>\n",
       "    <tr>\n",
       "      <th>3</th>\n",
       "      <td>2</td>\n",
       "      <td>164</td>\n",
       "      <td>audi</td>\n",
       "      <td>gas</td>\n",
       "      <td>std</td>\n",
       "      <td>four</td>\n",
       "      <td>sedan</td>\n",
       "      <td>fwd</td>\n",
       "      <td>front</td>\n",
       "      <td>99.8</td>\n",
       "      <td>...</td>\n",
       "      <td>109</td>\n",
       "      <td>mpfi</td>\n",
       "      <td>3.19</td>\n",
       "      <td>3.4</td>\n",
       "      <td>10.0</td>\n",
       "      <td>102</td>\n",
       "      <td>5500</td>\n",
       "      <td>24</td>\n",
       "      <td>30</td>\n",
       "      <td>13950</td>\n",
       "    </tr>\n",
       "    <tr>\n",
       "      <th>4</th>\n",
       "      <td>2</td>\n",
       "      <td>164</td>\n",
       "      <td>audi</td>\n",
       "      <td>gas</td>\n",
       "      <td>std</td>\n",
       "      <td>four</td>\n",
       "      <td>sedan</td>\n",
       "      <td>4wd</td>\n",
       "      <td>front</td>\n",
       "      <td>99.4</td>\n",
       "      <td>...</td>\n",
       "      <td>136</td>\n",
       "      <td>mpfi</td>\n",
       "      <td>3.19</td>\n",
       "      <td>3.4</td>\n",
       "      <td>8.0</td>\n",
       "      <td>115</td>\n",
       "      <td>5500</td>\n",
       "      <td>18</td>\n",
       "      <td>22</td>\n",
       "      <td>17450</td>\n",
       "    </tr>\n",
       "  </tbody>\n",
       "</table>\n",
       "<p>5 rows × 26 columns</p>\n",
       "</div>"
      ],
      "text/plain": [
       "   symboling normalized-losses         make fuel-type aspiration num-of-doors  \\\n",
       "0          3                 ?  alfa-romero       gas        std          two   \n",
       "1          3                 ?  alfa-romero       gas        std          two   \n",
       "2          1                 ?  alfa-romero       gas        std          two   \n",
       "3          2               164         audi       gas        std         four   \n",
       "4          2               164         audi       gas        std         four   \n",
       "\n",
       "    body-style drive-wheels engine-location  wheel-base  ...  engine-size  \\\n",
       "0  convertible          rwd           front        88.6  ...          130   \n",
       "1  convertible          rwd           front        88.6  ...          130   \n",
       "2    hatchback          rwd           front        94.5  ...          152   \n",
       "3        sedan          fwd           front        99.8  ...          109   \n",
       "4        sedan          4wd           front        99.4  ...          136   \n",
       "\n",
       "   fuel-system  bore  stroke compression horsepower  peak-rpm city-mpg  \\\n",
       "0         mpfi  3.47    2.68         9.0        111      5000       21   \n",
       "1         mpfi  3.47    2.68         9.0        111      5000       21   \n",
       "2         mpfi  2.68    3.47         9.0        154      5000        ?   \n",
       "3         mpfi  3.19     3.4        10.0        102      5500       24   \n",
       "4         mpfi  3.19     3.4         8.0        115      5500       18   \n",
       "\n",
       "  highway-mpg  price  \n",
       "0          27  13495  \n",
       "1          27  16500  \n",
       "2          26  16500  \n",
       "3          30  13950  \n",
       "4          22  17450  \n",
       "\n",
       "[5 rows x 26 columns]"
      ]
     },
     "execution_count": 55,
     "metadata": {},
     "output_type": "execute_result"
    }
   ],
   "source": [
    "#Check the data shape\n",
    "print(data.shape)\n",
    "data.head(5)"
   ]
  },
  {
   "cell_type": "markdown",
   "metadata": {},
   "source": [
    "#### After checking the data shape, I found there are 205 rows and 26 columns in the whole data set, which means there are 205*26 = 5330 datas in whole, it is pretty a lot.\n",
    "\n",
    "#### Next step, I will check whether there are mistakes and omissions on categorical variables:"
   ]
  },
  {
   "cell_type": "code",
   "execution_count": 56,
   "metadata": {
    "scrolled": true
   },
   "outputs": [
    {
     "name": "stdout",
     "output_type": "stream",
     "text": [
      "make:\n",
      "\n",
      "['alfa-romero', 'audi', 'bmw', 'chevrolet', 'dodge', 'honda', 'isuzu', 'jaguar', 'mazda', 'mercedes-benz', 'mercury', 'mitsubishi', 'nissan', 'peugot', 'plymouth', 'porsche', 'renault', 'saab', 'subaru', 'toyota', 'volkswagen', 'volvo']\n",
      "\n",
      "\n",
      "fuel-type:\n",
      "\n",
      "['gas', 'diesel']\n",
      "\n",
      "\n",
      "aspiration:\n",
      "\n",
      "['std', 'turbo']\n",
      "\n",
      "\n",
      "num-of-doors:\n",
      "\n",
      "['two', 'four', '?']\n",
      "\n",
      "\n",
      "body-style:\n",
      "\n",
      "['convertible', 'hatchback', 'sedan', 'wagon', 'hardtop']\n",
      "\n",
      "\n",
      "drive-wheels:\n",
      "\n",
      "['rwd', 'fwd', '4wd']\n",
      "\n",
      "\n",
      "engine-location:\n",
      "\n",
      "['front', 'rear']\n",
      "\n",
      "\n",
      "engine-type:\n",
      "\n",
      "['dohc', 'ohcv', 'ohc', 'l', 'rotor', 'ohcf', 'dohcv']\n",
      "\n",
      "\n",
      "num-of-cylinders:\n",
      "\n",
      "['four', 'six', 'five', 'three', 'twelve', 'two', 'eight']\n",
      "\n",
      "\n",
      "fuel-system:\n",
      "\n",
      "['mpfi', '2bbl', 'mfi', '1bbl', 'spfi', '4bbl', 'idi', 'spdi']\n",
      "\n",
      "\n"
     ]
    }
   ],
   "source": [
    "#Check whether there are mistakes and omissions on categorical variables.\n",
    "classes = ['make','fuel-type','aspiration','num-of-doors','body-style','drive-wheels','engine-location','engine-type','num-of-cylinders','fuel-system']\n",
    "\n",
    "for each in classes:\n",
    "    print(each + ':\\n')\n",
    "    print(list(data[each].drop_duplicates()))\n",
    "    print('\\n')"
   ]
  },
  {
   "cell_type": "markdown",
   "metadata": {},
   "source": [
    "#### The result shows there are no mistakes and omissions on categorical variables."
   ]
  },
  {
   "cell_type": "code",
   "execution_count": 57,
   "metadata": {},
   "outputs": [
    {
     "data": {
      "text/html": [
       "<div>\n",
       "<style scoped>\n",
       "    .dataframe tbody tr th:only-of-type {\n",
       "        vertical-align: middle;\n",
       "    }\n",
       "\n",
       "    .dataframe tbody tr th {\n",
       "        vertical-align: top;\n",
       "    }\n",
       "\n",
       "    .dataframe thead th {\n",
       "        text-align: right;\n",
       "    }\n",
       "</style>\n",
       "<table border=\"1\" class=\"dataframe\">\n",
       "  <thead>\n",
       "    <tr style=\"text-align: right;\">\n",
       "      <th></th>\n",
       "      <th>symboling</th>\n",
       "      <th>wheel-base</th>\n",
       "      <th>length</th>\n",
       "      <th>width</th>\n",
       "      <th>height</th>\n",
       "      <th>curb-weight</th>\n",
       "      <th>engine-size</th>\n",
       "      <th>compression</th>\n",
       "    </tr>\n",
       "  </thead>\n",
       "  <tbody>\n",
       "    <tr>\n",
       "      <th>count</th>\n",
       "      <td>205.000000</td>\n",
       "      <td>205.000000</td>\n",
       "      <td>205.000000</td>\n",
       "      <td>205.000000</td>\n",
       "      <td>205.000000</td>\n",
       "      <td>205.000000</td>\n",
       "      <td>205.000000</td>\n",
       "      <td>205.000000</td>\n",
       "    </tr>\n",
       "    <tr>\n",
       "      <th>mean</th>\n",
       "      <td>0.834146</td>\n",
       "      <td>98.756585</td>\n",
       "      <td>174.049268</td>\n",
       "      <td>65.907805</td>\n",
       "      <td>53.724878</td>\n",
       "      <td>2555.565854</td>\n",
       "      <td>126.907317</td>\n",
       "      <td>10.142537</td>\n",
       "    </tr>\n",
       "    <tr>\n",
       "      <th>std</th>\n",
       "      <td>1.245307</td>\n",
       "      <td>6.021776</td>\n",
       "      <td>12.337289</td>\n",
       "      <td>2.145204</td>\n",
       "      <td>2.443522</td>\n",
       "      <td>520.680204</td>\n",
       "      <td>41.642693</td>\n",
       "      <td>3.972040</td>\n",
       "    </tr>\n",
       "    <tr>\n",
       "      <th>min</th>\n",
       "      <td>-2.000000</td>\n",
       "      <td>86.600000</td>\n",
       "      <td>141.100000</td>\n",
       "      <td>60.300000</td>\n",
       "      <td>47.800000</td>\n",
       "      <td>1488.000000</td>\n",
       "      <td>61.000000</td>\n",
       "      <td>7.000000</td>\n",
       "    </tr>\n",
       "    <tr>\n",
       "      <th>25%</th>\n",
       "      <td>0.000000</td>\n",
       "      <td>94.500000</td>\n",
       "      <td>166.300000</td>\n",
       "      <td>64.100000</td>\n",
       "      <td>52.000000</td>\n",
       "      <td>2145.000000</td>\n",
       "      <td>97.000000</td>\n",
       "      <td>8.600000</td>\n",
       "    </tr>\n",
       "    <tr>\n",
       "      <th>50%</th>\n",
       "      <td>1.000000</td>\n",
       "      <td>97.000000</td>\n",
       "      <td>173.200000</td>\n",
       "      <td>65.500000</td>\n",
       "      <td>54.100000</td>\n",
       "      <td>2414.000000</td>\n",
       "      <td>120.000000</td>\n",
       "      <td>9.000000</td>\n",
       "    </tr>\n",
       "    <tr>\n",
       "      <th>75%</th>\n",
       "      <td>2.000000</td>\n",
       "      <td>102.400000</td>\n",
       "      <td>183.100000</td>\n",
       "      <td>66.900000</td>\n",
       "      <td>55.500000</td>\n",
       "      <td>2935.000000</td>\n",
       "      <td>141.000000</td>\n",
       "      <td>9.400000</td>\n",
       "    </tr>\n",
       "    <tr>\n",
       "      <th>max</th>\n",
       "      <td>3.000000</td>\n",
       "      <td>120.900000</td>\n",
       "      <td>208.100000</td>\n",
       "      <td>72.300000</td>\n",
       "      <td>59.800000</td>\n",
       "      <td>4066.000000</td>\n",
       "      <td>326.000000</td>\n",
       "      <td>23.000000</td>\n",
       "    </tr>\n",
       "  </tbody>\n",
       "</table>\n",
       "</div>"
      ],
      "text/plain": [
       "        symboling  wheel-base      length       width      height  \\\n",
       "count  205.000000  205.000000  205.000000  205.000000  205.000000   \n",
       "mean     0.834146   98.756585  174.049268   65.907805   53.724878   \n",
       "std      1.245307    6.021776   12.337289    2.145204    2.443522   \n",
       "min     -2.000000   86.600000  141.100000   60.300000   47.800000   \n",
       "25%      0.000000   94.500000  166.300000   64.100000   52.000000   \n",
       "50%      1.000000   97.000000  173.200000   65.500000   54.100000   \n",
       "75%      2.000000  102.400000  183.100000   66.900000   55.500000   \n",
       "max      3.000000  120.900000  208.100000   72.300000   59.800000   \n",
       "\n",
       "       curb-weight  engine-size  compression  \n",
       "count   205.000000   205.000000   205.000000  \n",
       "mean   2555.565854   126.907317    10.142537  \n",
       "std     520.680204    41.642693     3.972040  \n",
       "min    1488.000000    61.000000     7.000000  \n",
       "25%    2145.000000    97.000000     8.600000  \n",
       "50%    2414.000000   120.000000     9.000000  \n",
       "75%    2935.000000   141.000000     9.400000  \n",
       "max    4066.000000   326.000000    23.000000  "
      ]
     },
     "execution_count": 57,
     "metadata": {},
     "output_type": "execute_result"
    }
   ],
   "source": [
    "#Do a descriptive statistics check on data\n",
    "data_desc = data.describe()\n",
    "data_desc"
   ]
  },
  {
   "cell_type": "markdown",
   "metadata": {},
   "source": [
    "## After descriptive statistic checking on data, I found:\n",
    "\n",
    "#### 1.There are 205 counts in symboling, wheel-base, length, width, height,curb-weight,engine-size,compression,city-mpg, and 203 counts in horsepower,peak-rpm, 201 counts in bore, stroke, price, and 164 counts in normalized-losses, from these information, I realized that the attribute normalized-losses have the highest number of missing values, and bore, stroke, price rank second. When dealing with missing data, the attribute normalized-losses should be put in the most important one.\n",
    "#### 2. Symboling has the lowest mean, price has the highest mean value.\n",
    "#### 3. Price has the largest standard deviation, while bore has the smallest standard deviation. \n",
    "#### 4. Price has the highest min value and symboling has the lowest min value, while price has the highest max value while symboling has the lowest max value.¶\n",
    "\n",
    "#### From descriptive statistic checking, I found there are 6 attributes in numeric attributes which have missing values: horsepower, peak-rpm, bore, stroke, price and normalized-losses. Horsepower and peak-rpm have 2 missing values, bore, stroke and price have 4 missing values, while normalized-losses have 41 missing values."
   ]
  },
  {
   "cell_type": "markdown",
   "metadata": {},
   "source": [
    "## Handling the missing values\n",
    "\n",
    "### 1. Listwise or case deletion: \n",
    "#### the most common approach to the missing data is to simply omit those cases with the missing data and analyze the remaining data. In num-of-doors, horsepower and peak-rpm, the missing values occupy less than 1% of the whole data, though price has around 1.9512% missing values, but price has little predictale value in predicting city-mpg in reason, therefore, I choose to delete missing values in price, num-of-doors, horsepower and peak-rpm.\n",
    "\n",
    "#### Also, in the 9th row in highway-mpg term, there is a black space which makes the following analysis difficult, so I fill in blank with \"?\" by hand on csv file."
   ]
  },
  {
   "cell_type": "code",
   "execution_count": 209,
   "metadata": {},
   "outputs": [],
   "source": [
    "data = data.replace('?',np.nan)\n",
    "data.dropna(subset=['price'], axis=0,inplace=True)\n",
    "data.dropna(subset=['horsepower'], axis=0,inplace=True)\n",
    "data.dropna(subset=['peak-rpm'], axis=0,inplace=True)\n",
    "data.dropna(subset=['highway-mpg'],axis = 0,inplace = True)\n",
    "data.dropna(subset=['city-mpg'],axis = 0,inplace = True)"
   ]
  },
  {
   "cell_type": "markdown",
   "metadata": {},
   "source": [
    "### 2. Mean substitution: \n",
    "#### In a mean substitution, the mean value of a variable is used in place of the missing data value for that same variable. The theoretical background of the mean substitution is that the mean is a reasonable estimate for a randomly selected observation from a normal distribution. So let's check whether it is suitable to use mean substitution in normalized-losses, bore and stroke by checking their distributions in the following:"
   ]
  },
  {
   "cell_type": "code",
   "execution_count": 14,
   "metadata": {},
   "outputs": [
    {
     "data": {
      "text/plain": [
       "<matplotlib.axes._subplots.AxesSubplot at 0x7fce309dfcd0>"
      ]
     },
     "execution_count": 14,
     "metadata": {},
     "output_type": "execute_result"
    },
    {
     "data": {
      "image/png": "[encoded data removed]",
      "text/plain": [
       "<Figure size 432x288 with 1 Axes>"
      ]
     },
     "metadata": {
      "needs_background": "light"
     },
     "output_type": "display_data"
    }
   ],
   "source": [
    "#histogram\n",
    "plt.subplot(122)\n",
    "x = data['bore'].dropna()\n",
    "sns.distplot(x,hist=True,kde=True,kde_kws={\"color\":\"k\",\"lw\":3,\"label\":\"KDE\"},hist_kws={\"histtype\":\"step\",\"linewidth\":3,\"alpha\":1,\"color\":\"pink\"})"
   ]
  },
  {
   "cell_type": "code",
   "execution_count": 15,
   "metadata": {},
   "outputs": [
    {
     "data": {
      "text/plain": [
       "<matplotlib.axes._subplots.AxesSubplot at 0x7fce11830590>"
      ]
     },
     "execution_count": 15,
     "metadata": {},
     "output_type": "execute_result"
    },
    {
     "data": {
      "image/png": "[encoded data removed]",
      "text/plain": [
       "<Figure size 432x288 with 1 Axes>"
      ]
     },
     "metadata": {
      "needs_background": "light"
     },
     "output_type": "display_data"
    }
   ],
   "source": [
    "#histogram\n",
    "plt.subplot(122)\n",
    "x = data['stroke'].dropna()\n",
    "sns.distplot(x,hist=True,kde=True,kde_kws={\"color\":\"k\",\"lw\":3,\"label\":\"KDE\"},hist_kws={\"histtype\":\"step\",\"linewidth\":3,\"alpha\":1,\"color\":\"pink\"})"
   ]
  },
  {
   "cell_type": "code",
   "execution_count": 16,
   "metadata": {
    "scrolled": true
   },
   "outputs": [
    {
     "data": {
      "text/plain": [
       "<matplotlib.axes._subplots.AxesSubplot at 0x7fce00060cd0>"
      ]
     },
     "execution_count": 16,
     "metadata": {},
     "output_type": "execute_result"
    },
    {
     "data": {
      "image/png": "[encoded data removed]",
      "text/plain": [
       "<Figure size 432x288 with 1 Axes>"
      ]
     },
     "metadata": {
      "needs_background": "light"
     },
     "output_type": "display_data"
    }
   ],
   "source": [
    "#histogram\n",
    "plt.subplot(122)\n",
    "x = data['normalized-losses'].dropna()\n",
    "sns.distplot(x,hist=True,kde=True,kde_kws={\"color\":\"k\",\"lw\":3,\"label\":\"KDE\"},hist_kws={\"histtype\":\"step\",\"linewidth\":3,\"alpha\":1,\"color\":\"pink\"})"
   ]
  },
  {
   "cell_type": "markdown",
   "metadata": {},
   "source": [
    "#### From the histogram I plotted, I could see, bore has two peaks in distribution, which does not satisfy the condition to be normal distribtuion, stroke is pretty fit in normal distribution, and normalized-losses is more closed to skew distribution. Based on the plot I make the conclusion, that I will fill in the missing value of stroke with mean value:"
   ]
  },
  {
   "cell_type": "code",
   "execution_count": 17,
   "metadata": {},
   "outputs": [],
   "source": [
    "strokemean = data[['stroke']].mean()\n",
    "strokemean\n",
    "data[['stroke']] = data[['stroke']].replace(np.nan,strokemean)"
   ]
  },
  {
   "cell_type": "markdown",
   "metadata": {},
   "source": [
    "### 3. Filling in missing data using KNN method: \n",
    "\n",
    "#### When dealing with filling in missing values of normalized-losses, I noticed normalized-losses is a skew distribution, so I chose to use KNN imputer to fill in missing data:"
   ]
  },
  {
   "cell_type": "code",
   "execution_count": 20,
   "metadata": {},
   "outputs": [],
   "source": [
    "from sklearn.impute import KNNImputer\n",
    "df = data['normalized-losses'].values.reshape(-1, 1)\n",
    "from sklearn.preprocessing import StandardScaler\n",
    "scaler = StandardScaler()\n",
    "scaler.fit(df)\n",
    "df = scaler.transform(df)\n",
    "imputer = KNNImputer(n_neighbors=2)\n",
    "data['normalized-losses'] = imputer.fit_transform(df)"
   ]
  },
  {
   "cell_type": "markdown",
   "metadata": {},
   "source": [
    "#### For bore, I also use KNN imputer to fill in missing values:"
   ]
  },
  {
   "cell_type": "code",
   "execution_count": 220,
   "metadata": {},
   "outputs": [],
   "source": [
    "from sklearn.impute import KNNImputer\n",
    "df = data['bore'].values.reshape(-1, 1)\n",
    "from sklearn.preprocessing import StandardScaler\n",
    "scaler = StandardScaler()\n",
    "scaler.fit(df)\n",
    "df = scaler.transform(df)\n",
    "imputer = KNNImputer(n_neighbors=2)\n",
    "data['bore'] = imputer.fit_transform(df)"
   ]
  },
  {
   "cell_type": "markdown",
   "metadata": {},
   "source": [
    "#### Remember I have filled in black space of highway-mpg with \"?\", so I would also use KNN method to fill in this value:"
   ]
  },
  {
   "cell_type": "code",
   "execution_count": 218,
   "metadata": {},
   "outputs": [],
   "source": [
    "from sklearn.impute import KNNImputer\n",
    "df = data['highway-mpg'].values.reshape(-1, 1)\n",
    "from sklearn.preprocessing import StandardScaler\n",
    "scaler = StandardScaler()\n",
    "scaler.fit(df)\n",
    "df = scaler.transform(df)\n",
    "imputer = KNNImputer(n_neighbors=2)\n",
    "data['highway-mpg'] = imputer.fit_transform(df)"
   ]
  },
  {
   "cell_type": "markdown",
   "metadata": {},
   "source": [
    "#### Fill in missing value of city-mpg either:"
   ]
  },
  {
   "cell_type": "code",
   "execution_count": null,
   "metadata": {},
   "outputs": [],
   "source": [
    "from sklearn.impute import KNNImputer\n",
    "df = data['city-mpg'].values.reshape(-1, 1)\n",
    "from sklearn.preprocessing import StandardScaler\n",
    "scaler = StandardScaler()\n",
    "scaler.fit(df)\n",
    "df = scaler.transform(df)\n",
    "imputer = KNNImputer(n_neighbors=2)\n",
    "data['city-mpg'] = imputer.fit_transform(df)"
   ]
  },
  {
   "cell_type": "markdown",
   "metadata": {},
   "source": [
    "## Turning categorical variables into quantitative variables:\n",
    "\n",
    "#### Dummy variable is a numerical variable used to label categories. They are called ‘dummies’ because the numbers themselves don’t have inherent meaning. In the auto data-set, the “fuel-type” feature as a categorical variable has two values, “gas” or “diesel”, which are in String format. For further analysis, it has to convert into some form of numeric format. In the case where the feature “Fuel” has two unique values, gas and diesel, we create two new features ‘gas’ and ‘diesel.’ "
   ]
  },
  {
   "cell_type": "code",
   "execution_count": 63,
   "metadata": {
    "scrolled": true
   },
   "outputs": [],
   "source": [
    "dummy_fueltype = pd.get_dummies(data['fuel-type'])\n",
    "dummy_fueltype.rename(columns={'fuel-type':'gas','fuel-type':'diesel'},inplace = True)\n",
    "data = pd.concat([data,dummy_fueltype],axis = 1)\n",
    "data.drop('fuel-type',axis = 1, inplace = True)"
   ]
  },
  {
   "cell_type": "markdown",
   "metadata": {},
   "source": [
    "#### In the auto data-set, the “aspiration” feature as a categorical variable has two values, “std” or “turbo”, which are in String format. For further analysis, it has to convert into some form of numeric format. In the case where the feature “Aspiration” has two unique values, std and turbo, we create two new features ‘std’ and ‘turbo.’ "
   ]
  },
  {
   "cell_type": "code",
   "execution_count": 64,
   "metadata": {
    "scrolled": true
   },
   "outputs": [],
   "source": [
    "dummy_aspiration = pd.get_dummies(data['aspiration'])\n",
    "dummy_aspiration.rename(columns={'aspiration':'std','aspiration':'turbo'},inplace = True)\n",
    "data = pd.concat([data,dummy_aspiration],axis = 1)\n",
    "data.drop('aspiration',axis = 1, inplace = True)"
   ]
  },
  {
   "cell_type": "markdown",
   "metadata": {},
   "source": [
    "#### There are some features which have little significance for predictiong the city-mpg, such that: price, number of doors, engine location, so I decide to delete them:"
   ]
  },
  {
   "cell_type": "code",
   "execution_count": 65,
   "metadata": {
    "scrolled": true
   },
   "outputs": [],
   "source": [
    "data = data.drop('price', axis=1)\n",
    "data = data.drop('num-of-doors', axis=1)\n",
    "data = data.drop('engine-location', axis=1)"
   ]
  },
  {
   "cell_type": "markdown",
   "metadata": {},
   "source": [
    "## EDA(Exploratory Data Analysis )\n",
    "### Exploratory Data Analysis,is an approach to analyze data in order to:\n",
    "#### 1. summarize main characteristics of the data\n",
    "#### 2. gain better understanding of the data-set,\n",
    "#### 3. uncover relationships between different variables, and\n",
    "#### 4. extract important variables for the problem we are trying to solve\n",
    "\n",
    "### The question here is to find “What are the characteristics that have the most impact on the city-mpg?”\n",
    "##### We just go through a couple of different useful exploratory data analysis techniques in order to answer this question."
   ]
  },
  {
   "cell_type": "code",
   "execution_count": 66,
   "metadata": {
    "scrolled": true
   },
   "outputs": [
    {
     "data": {
      "text/html": [
       "<div>\n",
       "<style scoped>\n",
       "    .dataframe tbody tr th:only-of-type {\n",
       "        vertical-align: middle;\n",
       "    }\n",
       "\n",
       "    .dataframe tbody tr th {\n",
       "        vertical-align: top;\n",
       "    }\n",
       "\n",
       "    .dataframe thead th {\n",
       "        text-align: right;\n",
       "    }\n",
       "</style>\n",
       "<table border=\"1\" class=\"dataframe\">\n",
       "  <thead>\n",
       "    <tr style=\"text-align: right;\">\n",
       "      <th></th>\n",
       "      <th>symboling</th>\n",
       "      <th>normalized-losses</th>\n",
       "      <th>wheel-base</th>\n",
       "      <th>engine-size</th>\n",
       "      <th>bore</th>\n",
       "      <th>stroke</th>\n",
       "      <th>compression</th>\n",
       "      <th>horsepower</th>\n",
       "      <th>peak-rpm</th>\n",
       "      <th>city-mpg</th>\n",
       "      <th>highway-mpg</th>\n",
       "      <th>volume</th>\n",
       "      <th>diesel</th>\n",
       "      <th>gas</th>\n",
       "      <th>std</th>\n",
       "      <th>turbo</th>\n",
       "    </tr>\n",
       "  </thead>\n",
       "  <tbody>\n",
       "    <tr>\n",
       "      <th>count</th>\n",
       "      <td>199.000000</td>\n",
       "      <td>164.000000</td>\n",
       "      <td>199.000000</td>\n",
       "      <td>199.000000</td>\n",
       "      <td>195.000000</td>\n",
       "      <td>195.000000</td>\n",
       "      <td>199.000000</td>\n",
       "      <td>199.000000</td>\n",
       "      <td>199.000000</td>\n",
       "      <td>198.000000</td>\n",
       "      <td>1.990000e+02</td>\n",
       "      <td>199.00000</td>\n",
       "      <td>199.000000</td>\n",
       "      <td>199.000000</td>\n",
       "      <td>199.000000</td>\n",
       "      <td>199.000000</td>\n",
       "    </tr>\n",
       "    <tr>\n",
       "      <th>mean</th>\n",
       "      <td>0.839196</td>\n",
       "      <td>122.000000</td>\n",
       "      <td>98.824121</td>\n",
       "      <td>126.824121</td>\n",
       "      <td>3.329385</td>\n",
       "      <td>3.250308</td>\n",
       "      <td>10.178995</td>\n",
       "      <td>103.396985</td>\n",
       "      <td>5117.587940</td>\n",
       "      <td>25.232323</td>\n",
       "      <td>2.175814e-17</td>\n",
       "      <td>619470.81409</td>\n",
       "      <td>0.100503</td>\n",
       "      <td>0.899497</td>\n",
       "      <td>0.819095</td>\n",
       "      <td>0.180905</td>\n",
       "    </tr>\n",
       "    <tr>\n",
       "      <th>std</th>\n",
       "      <td>1.257009</td>\n",
       "      <td>35.442168</td>\n",
       "      <td>6.090838</td>\n",
       "      <td>41.752932</td>\n",
       "      <td>0.271866</td>\n",
       "      <td>0.314115</td>\n",
       "      <td>4.022424</td>\n",
       "      <td>37.553843</td>\n",
       "      <td>480.521824</td>\n",
       "      <td>6.452998</td>\n",
       "      <td>1.000000e+00</td>\n",
       "      <td>79876.37251</td>\n",
       "      <td>0.301427</td>\n",
       "      <td>0.301427</td>\n",
       "      <td>0.385910</td>\n",
       "      <td>0.385910</td>\n",
       "    </tr>\n",
       "    <tr>\n",
       "      <th>min</th>\n",
       "      <td>-2.000000</td>\n",
       "      <td>65.000000</td>\n",
       "      <td>86.600000</td>\n",
       "      <td>61.000000</td>\n",
       "      <td>2.540000</td>\n",
       "      <td>2.070000</td>\n",
       "      <td>7.000000</td>\n",
       "      <td>48.000000</td>\n",
       "      <td>4150.000000</td>\n",
       "      <td>13.000000</td>\n",
       "      <td>-2.165036e+00</td>\n",
       "      <td>452643.15600</td>\n",
       "      <td>0.000000</td>\n",
       "      <td>0.000000</td>\n",
       "      <td>0.000000</td>\n",
       "      <td>0.000000</td>\n",
       "    </tr>\n",
       "    <tr>\n",
       "      <th>25%</th>\n",
       "      <td>0.000000</td>\n",
       "      <td>94.000000</td>\n",
       "      <td>94.500000</td>\n",
       "      <td>97.500000</td>\n",
       "      <td>3.150000</td>\n",
       "      <td>3.110000</td>\n",
       "      <td>8.550000</td>\n",
       "      <td>70.000000</td>\n",
       "      <td>4800.000000</td>\n",
       "      <td>19.000000</td>\n",
       "      <td>-8.428654e-01</td>\n",
       "      <td>566490.60000</td>\n",
       "      <td>0.000000</td>\n",
       "      <td>1.000000</td>\n",
       "      <td>1.000000</td>\n",
       "      <td>0.000000</td>\n",
       "    </tr>\n",
       "    <tr>\n",
       "      <th>50%</th>\n",
       "      <td>1.000000</td>\n",
       "      <td>115.000000</td>\n",
       "      <td>97.000000</td>\n",
       "      <td>119.000000</td>\n",
       "      <td>3.310000</td>\n",
       "      <td>3.290000</td>\n",
       "      <td>9.000000</td>\n",
       "      <td>95.000000</td>\n",
       "      <td>5200.000000</td>\n",
       "      <td>24.500000</td>\n",
       "      <td>-1.083260e-01</td>\n",
       "      <td>601385.70000</td>\n",
       "      <td>0.000000</td>\n",
       "      <td>1.000000</td>\n",
       "      <td>1.000000</td>\n",
       "      <td>0.000000</td>\n",
       "    </tr>\n",
       "    <tr>\n",
       "      <th>75%</th>\n",
       "      <td>2.000000</td>\n",
       "      <td>150.000000</td>\n",
       "      <td>102.400000</td>\n",
       "      <td>143.000000</td>\n",
       "      <td>3.590000</td>\n",
       "      <td>3.410000</td>\n",
       "      <td>9.400000</td>\n",
       "      <td>116.000000</td>\n",
       "      <td>5500.000000</td>\n",
       "      <td>30.000000</td>\n",
       "      <td>4.793055e-01</td>\n",
       "      <td>674493.76800</td>\n",
       "      <td>0.000000</td>\n",
       "      <td>1.000000</td>\n",
       "      <td>1.000000</td>\n",
       "      <td>0.000000</td>\n",
       "    </tr>\n",
       "    <tr>\n",
       "      <th>max</th>\n",
       "      <td>3.000000</td>\n",
       "      <td>256.000000</td>\n",
       "      <td>120.900000</td>\n",
       "      <td>326.000000</td>\n",
       "      <td>3.940000</td>\n",
       "      <td>4.170000</td>\n",
       "      <td>23.000000</td>\n",
       "      <td>262.000000</td>\n",
       "      <td>6600.000000</td>\n",
       "      <td>49.000000</td>\n",
       "      <td>3.417463e+00</td>\n",
       "      <td>846007.65900</td>\n",
       "      <td>1.000000</td>\n",
       "      <td>1.000000</td>\n",
       "      <td>1.000000</td>\n",
       "      <td>1.000000</td>\n",
       "    </tr>\n",
       "  </tbody>\n",
       "</table>\n",
       "</div>"
      ],
      "text/plain": [
       "        symboling  normalized-losses  wheel-base  engine-size        bore  \\\n",
       "count  199.000000         164.000000  199.000000   199.000000  195.000000   \n",
       "mean     0.839196         122.000000   98.824121   126.824121    3.329385   \n",
       "std      1.257009          35.442168    6.090838    41.752932    0.271866   \n",
       "min     -2.000000          65.000000   86.600000    61.000000    2.540000   \n",
       "25%      0.000000          94.000000   94.500000    97.500000    3.150000   \n",
       "50%      1.000000         115.000000   97.000000   119.000000    3.310000   \n",
       "75%      2.000000         150.000000  102.400000   143.000000    3.590000   \n",
       "max      3.000000         256.000000  120.900000   326.000000    3.940000   \n",
       "\n",
       "           stroke  compression  horsepower     peak-rpm    city-mpg  \\\n",
       "count  195.000000   199.000000  199.000000   199.000000  198.000000   \n",
       "mean     3.250308    10.178995  103.396985  5117.587940   25.232323   \n",
       "std      0.314115     4.022424   37.553843   480.521824    6.452998   \n",
       "min      2.070000     7.000000   48.000000  4150.000000   13.000000   \n",
       "25%      3.110000     8.550000   70.000000  4800.000000   19.000000   \n",
       "50%      3.290000     9.000000   95.000000  5200.000000   24.500000   \n",
       "75%      3.410000     9.400000  116.000000  5500.000000   30.000000   \n",
       "max      4.170000    23.000000  262.000000  6600.000000   49.000000   \n",
       "\n",
       "        highway-mpg        volume      diesel         gas         std  \\\n",
       "count  1.990000e+02     199.00000  199.000000  199.000000  199.000000   \n",
       "mean   2.175814e-17  619470.81409    0.100503    0.899497    0.819095   \n",
       "std    1.000000e+00   79876.37251    0.301427    0.301427    0.385910   \n",
       "min   -2.165036e+00  452643.15600    0.000000    0.000000    0.000000   \n",
       "25%   -8.428654e-01  566490.60000    0.000000    1.000000    1.000000   \n",
       "50%   -1.083260e-01  601385.70000    0.000000    1.000000    1.000000   \n",
       "75%    4.793055e-01  674493.76800    0.000000    1.000000    1.000000   \n",
       "max    3.417463e+00  846007.65900    1.000000    1.000000    1.000000   \n",
       "\n",
       "            turbo  \n",
       "count  199.000000  \n",
       "mean     0.180905  \n",
       "std      0.385910  \n",
       "min      0.000000  \n",
       "25%      0.000000  \n",
       "50%      0.000000  \n",
       "75%      0.000000  \n",
       "max      1.000000  "
      ]
     },
     "execution_count": 66,
     "metadata": {},
     "output_type": "execute_result"
    }
   ],
   "source": [
    "#Do a descriptive statistics check on data\n",
    "data_desc = data.describe()\n",
    "data_desc"
   ]
  },
  {
   "cell_type": "markdown",
   "metadata": {},
   "source": [
    "## Summarize the categorical data by using the function value_counts()."
   ]
  },
  {
   "cell_type": "code",
   "execution_count": 26,
   "metadata": {},
   "outputs": [
    {
     "data": {
      "text/plain": [
       "fwd    116\n",
       "rwd     75\n",
       "4wd      8\n",
       "Name: drive-wheels, dtype: int64"
      ]
     },
     "execution_count": 26,
     "metadata": {},
     "output_type": "execute_result"
    }
   ],
   "source": [
    "drive_wheel_count = data['drive-wheels'].value_counts()\n",
    "drive_wheel_count"
   ]
  },
  {
   "cell_type": "markdown",
   "metadata": {},
   "source": [
    "#### There are 116 Front-wheel drives, 75 rear-wheel drives, 8 four-wheel drives."
   ]
  },
  {
   "cell_type": "code",
   "execution_count": 27,
   "metadata": {},
   "outputs": [
    {
     "data": {
      "text/plain": [
       "sedan          94\n",
       "hatchback      67\n",
       "wagon          24\n",
       "hardtop         8\n",
       "convertible     6\n",
       "Name: body-style, dtype: int64"
      ]
     },
     "execution_count": 27,
     "metadata": {},
     "output_type": "execute_result"
    }
   ],
   "source": [
    "body_style_count = data['body-style'].value_counts()\n",
    "body_style_count"
   ]
  },
  {
   "cell_type": "markdown",
   "metadata": {},
   "source": [
    "#### There are 94 sedan, 67 hatchback, 24 wagons, 8 hardtop and 6 convertibles body style."
   ]
  },
  {
   "cell_type": "code",
   "execution_count": 28,
   "metadata": {},
   "outputs": [
    {
     "data": {
      "text/plain": [
       "ohc      143\n",
       "ohcf      15\n",
       "ohcv      13\n",
       "l         12\n",
       "dohc      12\n",
       "rotor      4\n",
       "Name: engine-type, dtype: int64"
      ]
     },
     "execution_count": 28,
     "metadata": {},
     "output_type": "execute_result"
    }
   ],
   "source": [
    "engine_type_count = data['engine-type'].value_counts()\n",
    "engine_type_count"
   ]
  },
  {
   "cell_type": "markdown",
   "metadata": {},
   "source": [
    "#### There are 143 ohc, 15 ohcf, 13 ohcv, 12 dohc, 12 l and 4 rotor of engine-type"
   ]
  },
  {
   "cell_type": "code",
   "execution_count": 29,
   "metadata": {},
   "outputs": [
    {
     "data": {
      "text/plain": [
       "four      155\n",
       "six        24\n",
       "five       10\n",
       "eight       4\n",
       "two         4\n",
       "twelve      1\n",
       "three       1\n",
       "Name: num-of-cylinders, dtype: int64"
      ]
     },
     "execution_count": 29,
     "metadata": {},
     "output_type": "execute_result"
    }
   ],
   "source": [
    "numberof_cylinders_count = data['num-of-cylinders'].value_counts()\n",
    "numberof_cylinders_count"
   ]
  },
  {
   "cell_type": "markdown",
   "metadata": {},
   "source": [
    "#### There are 155 four cylinders, 24 six cylinders, 10 five cylinders, 4 eight cylinders, 4 two cylinders, 1 three cylinders and 1 twelve cylinders"
   ]
  },
  {
   "cell_type": "code",
   "execution_count": 30,
   "metadata": {},
   "outputs": [
    {
     "data": {
      "text/plain": [
       "mpfi    90\n",
       "2bbl    64\n",
       "idi     20\n",
       "1bbl    11\n",
       "spdi     9\n",
       "4bbl     3\n",
       "mfi      1\n",
       "spfi     1\n",
       "Name: fuel-system, dtype: int64"
      ]
     },
     "execution_count": 30,
     "metadata": {},
     "output_type": "execute_result"
    }
   ],
   "source": [
    "fuel_system_count = data['fuel-system'].value_counts()\n",
    "fuel_system_count"
   ]
  },
  {
   "cell_type": "markdown",
   "metadata": {},
   "source": [
    "#### There are 90 mpfi, 64 2bbl, 20 idi, 11 lbbl, 9 spdi, 3 4bbl, 1 spfi and 1 mfi"
   ]
  },
  {
   "cell_type": "markdown",
   "metadata": {},
   "source": [
    "## Boxplot\n",
    "### Boxplots are a great way to visualize numeric data,the boxplot shows the “median” of the data, which represents where the middle datapoint is. The Upper Quartile shows where the ”75th percentile” is, the Lower Quartile shows where the “25th percentile” is. The data between the Upper and Lower Quartile represents the Interquartile Range(IQR). There are also Lower and Upper Extremes. These are calculated as 1.5 times the interquartile range above the 75th percentile, and as 1.5 times the IQR below the 25th percentile.\n",
    "### Boxplots also display “outliers” as individual dots that occur outside the upper and lower extremes. With boxplots, I can easily spot outliers and also see the distribution and skewness of the data."
   ]
  },
  {
   "cell_type": "code",
   "execution_count": 31,
   "metadata": {},
   "outputs": [
    {
     "data": {
      "text/plain": [
       "<matplotlib.axes._subplots.AxesSubplot at 0x7fcde01d8cd0>"
      ]
     },
     "execution_count": 31,
     "metadata": {},
     "output_type": "execute_result"
    },
    {
     "data": {
      "image/png": "[encoded data removed]",
      "text/plain": [
       "<Figure size 432x288 with 1 Axes>"
      ]
     },
     "metadata": {
      "needs_background": "light"
     },
     "output_type": "display_data"
    }
   ],
   "source": [
    "sns.boxplot(x='drive-wheels',y='city-mpg',data = data)"
   ]
  },
  {
   "cell_type": "markdown",
   "metadata": {},
   "source": [
    "#### From boxplot with x-axis is drive-wheels and y-axis is city-mpg, I make a small conclusion that the auto has front-wheel-drives have highest mean of city-mpg, while the auto has rear-wheel-drives have lowest mean of city-mpg."
   ]
  },
  {
   "cell_type": "code",
   "execution_count": 32,
   "metadata": {},
   "outputs": [
    {
     "data": {
      "text/plain": [
       "<matplotlib.axes._subplots.AxesSubplot at 0x7fce000c5450>"
      ]
     },
     "execution_count": 32,
     "metadata": {},
     "output_type": "execute_result"
    },
    {
     "data": {
      "image/png": "[encoded data removed]",
      "text/plain": [
       "<Figure size 432x288 with 1 Axes>"
      ]
     },
     "metadata": {
      "needs_background": "light"
     },
     "output_type": "display_data"
    }
   ],
   "source": [
    "sns.boxplot(x='engine-type',y='city-mpg',data = data)"
   ]
  },
  {
   "cell_type": "markdown",
   "metadata": {},
   "source": [
    "#### From boxplot with x-axis is engine-type and y-axis is city-mpg, I make a small conclusion that the auto has ohc have highest mean of city-mpg, while the auto has rotor and ohcv have lowest mean of city-mpg."
   ]
  },
  {
   "cell_type": "code",
   "execution_count": 33,
   "metadata": {},
   "outputs": [
    {
     "data": {
      "text/plain": [
       "<matplotlib.axes._subplots.AxesSubplot at 0x7fce11859490>"
      ]
     },
     "execution_count": 33,
     "metadata": {},
     "output_type": "execute_result"
    },
    {
     "data": {
      "image/png": "[encoded data removed]",
      "text/plain": [
       "<Figure size 432x288 with 1 Axes>"
      ]
     },
     "metadata": {
      "needs_background": "light"
     },
     "output_type": "display_data"
    }
   ],
   "source": [
    "sns.boxplot(x='body-style',y='city-mpg',data = data)"
   ]
  },
  {
   "cell_type": "markdown",
   "metadata": {},
   "source": [
    "#### From boxplot with x-axis is body-style and y-axis is city-mpg, I make a small conclusion that the auto is hatchback has highest mean of city-mpg, while the auto is convertible has lowest mean of city-mpg."
   ]
  },
  {
   "cell_type": "code",
   "execution_count": 34,
   "metadata": {},
   "outputs": [
    {
     "data": {
      "text/plain": [
       "<matplotlib.axes._subplots.AxesSubplot at 0x7fce118c9b90>"
      ]
     },
     "execution_count": 34,
     "metadata": {},
     "output_type": "execute_result"
    },
    {
     "data": {
      "image/png": "[encoded data removed]",
      "text/plain": [
       "<Figure size 432x288 with 1 Axes>"
      ]
     },
     "metadata": {
      "needs_background": "light"
     },
     "output_type": "display_data"
    }
   ],
   "source": [
    "sns.boxplot(x='fuel-system',y='city-mpg',data = data)"
   ]
  },
  {
   "cell_type": "markdown",
   "metadata": {},
   "source": [
    "#### From boxplot with x-axis is fuel-system and y-axis is city-mpg, I make a small conclusion that the auto is 2bbl has highest mean of city-mpg, while the auto is 4bbl has lowest mean of city-mpg."
   ]
  },
  {
   "cell_type": "code",
   "execution_count": 35,
   "metadata": {},
   "outputs": [
    {
     "data": {
      "text/plain": [
       "<matplotlib.axes._subplots.AxesSubplot at 0x7fce40d6f650>"
      ]
     },
     "execution_count": 35,
     "metadata": {},
     "output_type": "execute_result"
    },
    {
     "data": {
      "image/png": "[encoded data removed]",
      "text/plain": [
       "<Figure size 432x288 with 1 Axes>"
      ]
     },
     "metadata": {
      "needs_background": "light"
     },
     "output_type": "display_data"
    }
   ],
   "source": [
    "sns.boxplot(x='symboling',y='city-mpg',data = data)"
   ]
  },
  {
   "cell_type": "markdown",
   "metadata": {},
   "source": [
    "#### From boxplot with x-axis is symboling and y-axis is city-mpg, I make a small conclusion that the auto has symboling 2 has highest mean of city-mpg, while the auto has symboling 3 has lowest mean of city-mpg."
   ]
  },
  {
   "cell_type": "markdown",
   "metadata": {},
   "source": [
    "## Feature extraction:\n",
    "### In the dataset, I found there are three features: length, width and height which could be extracted as volume just by multiplying length, width and height together, therefore, I will do feature extractiom in the following code:"
   ]
  },
  {
   "cell_type": "code",
   "execution_count": 223,
   "metadata": {},
   "outputs": [],
   "source": [
    "data['volume']  = data.length * data.width * data.height\n",
    "data.drop(['width','length','height','curb-weight'],axis = 1, inplace = True)"
   ]
  },
  {
   "cell_type": "markdown",
   "metadata": {},
   "source": [
    "### Then I want to make a boxplot with mixed features to get better macro visualization:\n",
    "#### Since volume, peak-rpm, normalized-losses, engine-size, wheel-base and horsepower have very large number, for better visualization, I kicked out volume and peak-rpm in the features:"
   ]
  },
  {
   "cell_type": "code",
   "execution_count": 67,
   "metadata": {},
   "outputs": [
    {
     "data": {
      "text/plain": [
       "<matplotlib.axes._subplots.AxesSubplot at 0x7fcdf05f2f90>"
      ]
     },
     "execution_count": 67,
     "metadata": {},
     "output_type": "execute_result"
    },
    {
     "data": {
      "image/png": "[encoded data removed]",
      "text/plain": [
       "<Figure size 432x288 with 1 Axes>"
      ]
     },
     "metadata": {
      "needs_background": "light"
     },
     "output_type": "display_data"
    },
    {
     "data": {
      "image/png": "[encoded data removed]",
      "text/plain": [
       "<Figure size 432x288 with 1 Axes>"
      ]
     },
     "metadata": {
      "needs_background": "light"
     },
     "output_type": "display_data"
    }
   ],
   "source": [
    "features = data.drop(columns=['city-mpg','volume','peak-rpm','normalized-losses','engine-size','horsepower','wheel-base','gas','diesel','turbo','std'])\n",
    "features.plot.box(title='Autocar',vert=False)\n",
    "plt.xticks(rotation = -20)\n",
    "plt.figure()\n",
    "sns.boxplot(data = features, linewidth = 4, orient = 'h')"
   ]
  },
  {
   "cell_type": "code",
   "execution_count": 68,
   "metadata": {},
   "outputs": [
    {
     "data": {
      "text/plain": [
       "<matplotlib.axes._subplots.AxesSubplot at 0x7fce41018890>"
      ]
     },
     "execution_count": 68,
     "metadata": {},
     "output_type": "execute_result"
    },
    {
     "data": {
      "image/png": "[encoded data removed]",
      "text/plain": [
       "<Figure size 432x288 with 1 Axes>"
      ]
     },
     "metadata": {
      "needs_background": "light"
     },
     "output_type": "display_data"
    },
    {
     "data": {
      "image/png": "[encoded data removed]",
      "text/plain": [
       "<Figure size 432x288 with 1 Axes>"
      ]
     },
     "metadata": {
      "needs_background": "light"
     },
     "output_type": "display_data"
    }
   ],
   "source": [
    "features = data.drop(columns=['city-mpg','normalized-losses','volume','peak-rpm','turbo','std','gas','diesel','turbo','std','horsepower','wheel-base','compression','stroke','bore','symboling'])\n",
    "features.plot.box(title='Autocar',vert=False)\n",
    "plt.xticks(rotation = -20)\n",
    "plt.figure()\n",
    "sns.boxplot(data = features, linewidth = 4, orient = 'h')"
   ]
  },
  {
   "cell_type": "markdown",
   "metadata": {},
   "source": [
    "### From the boxplot above, we could see compression, stroke and engine size have more outliers."
   ]
  },
  {
   "cell_type": "markdown",
   "metadata": {},
   "source": [
    "## Gropuby\n",
    "### The “groupby” method groups data by different categories. The data is grouped based on one or several variables and analysis is performed on the individual groups."
   ]
  },
  {
   "cell_type": "code",
   "execution_count": 89,
   "metadata": {},
   "outputs": [
    {
     "data": {
      "text/html": [
       "<div>\n",
       "<style scoped>\n",
       "    .dataframe tbody tr th:only-of-type {\n",
       "        vertical-align: middle;\n",
       "    }\n",
       "\n",
       "    .dataframe tbody tr th {\n",
       "        vertical-align: top;\n",
       "    }\n",
       "\n",
       "    .dataframe thead th {\n",
       "        text-align: right;\n",
       "    }\n",
       "</style>\n",
       "<table border=\"1\" class=\"dataframe\">\n",
       "  <thead>\n",
       "    <tr style=\"text-align: right;\">\n",
       "      <th></th>\n",
       "      <th>make</th>\n",
       "      <th>num-of-cylinders</th>\n",
       "      <th>city-mpg</th>\n",
       "    </tr>\n",
       "  </thead>\n",
       "  <tbody>\n",
       "    <tr>\n",
       "      <th>0</th>\n",
       "      <td>alfa-romero</td>\n",
       "      <td>four</td>\n",
       "      <td>21.0</td>\n",
       "    </tr>\n",
       "    <tr>\n",
       "      <th>1</th>\n",
       "      <td>alfa-romero</td>\n",
       "      <td>six</td>\n",
       "      <td>NaN</td>\n",
       "    </tr>\n",
       "    <tr>\n",
       "      <th>2</th>\n",
       "      <td>audi</td>\n",
       "      <td>five</td>\n",
       "      <td>18.4</td>\n",
       "    </tr>\n",
       "    <tr>\n",
       "      <th>3</th>\n",
       "      <td>audi</td>\n",
       "      <td>four</td>\n",
       "      <td>24.0</td>\n",
       "    </tr>\n",
       "    <tr>\n",
       "      <th>4</th>\n",
       "      <td>bmw</td>\n",
       "      <td>four</td>\n",
       "      <td>23.0</td>\n",
       "    </tr>\n",
       "  </tbody>\n",
       "</table>\n",
       "</div>"
      ],
      "text/plain": [
       "          make num-of-cylinders  city-mpg\n",
       "0  alfa-romero             four      21.0\n",
       "1  alfa-romero              six       NaN\n",
       "2         audi             five      18.4\n",
       "3         audi             four      24.0\n",
       "4          bmw             four      23.0"
      ]
     },
     "execution_count": 89,
     "metadata": {},
     "output_type": "execute_result"
    }
   ],
   "source": [
    "data_group = data[['make','num-of-cylinders','city-mpg']]\n",
    "grouped_avg = data_group.groupby(['make','num-of-cylinders'],as_index=False).mean()\n",
    "grouped_avg.head()"
   ]
  },
  {
   "cell_type": "code",
   "execution_count": 90,
   "metadata": {},
   "outputs": [
    {
     "data": {
      "image/png": "[encoded data removed]",
      "text/plain": [
       "<Figure size 432x288 with 2 Axes>"
      ]
     },
     "metadata": {
      "needs_background": "light"
     },
     "output_type": "display_data"
    }
   ],
   "source": [
    "pivot_table = grouped_avg.pivot(index = 'make',columns = 'num-of-cylinders')\n",
    "sns.heatmap(pivot_table)\n",
    "plt.show()"
   ]
  },
  {
   "cell_type": "markdown",
   "metadata": {},
   "source": [
    "### From our data, it seems the auto with three cylinders are, on average, the highest city-mpg, while bmw with three cylinders have highest city-mpg."
   ]
  },
  {
   "cell_type": "code",
   "execution_count": 91,
   "metadata": {},
   "outputs": [
    {
     "data": {
      "image/png": "[encoded data removed]",
      "text/plain": [
       "<Figure size 432x288 with 2 Axes>"
      ]
     },
     "metadata": {
      "needs_background": "light"
     },
     "output_type": "display_data"
    }
   ],
   "source": [
    "data_group = data[['body-style','engine-type','city-mpg']]\n",
    "grouped_avg = data_group.groupby(['body-style','engine-type'],as_index=False).mean()\n",
    "pivot_table = grouped_avg.pivot(index = 'body-style',columns = 'engine-type')\n",
    "sns.heatmap(pivot_table)\n",
    "plt.show()"
   ]
  },
  {
   "cell_type": "markdown",
   "metadata": {},
   "source": [
    "### From our data, it seems the auto is hardtop and convertible on average have the highest city-mpg, while the auto is hardtop and convertible with engine-type dohc and l have highest city-mpg."
   ]
  },
  {
   "cell_type": "markdown",
   "metadata": {},
   "source": [
    "## Scatterplot\n",
    "\n",
    "#### The predictor variable: is the variable I am using to predict an outcome. \n",
    "#### The target variable: is the variable I am trying to predict. \n",
    "\n",
    "### In a scatterplot, we typically set the predictor variable on the x-axis, or horizontal axis and we set the target variable on the y-axis or vertical axis.\n",
    "\n",
    "### Let's plot plenty of scatter point to see which features have more tendency to have better linear relationship with city-mpg.\n",
    " \n",
    "#### I will do scatter plot with features in the following sequence: symboling, normalized-losses, wheel-base, volume, curb-weight, engine-size, bore, stroke, compression, horsepower, peak-rpm, highway-mpg. "
   ]
  },
  {
   "cell_type": "code",
   "execution_count": 40,
   "metadata": {},
   "outputs": [
    {
     "data": {
      "image/png": "[encoded data removed]",
      "text/plain": [
       "<Figure size 432x288 with 1 Axes>"
      ]
     },
     "metadata": {
      "needs_background": "light"
     },
     "output_type": "display_data"
    }
   ],
   "source": [
    "x = data['symboling']\n",
    "y = data['city-mpg']\n",
    "plt.scatter(x,y)\n",
    "plt.title('Scatter between symboling and city-mpg')\n",
    "plt.xlabel('symboling')\n",
    "plt.ylabel('city-mpg')\n",
    "plt.show()"
   ]
  },
  {
   "cell_type": "markdown",
   "metadata": {},
   "source": [
    "### The scattor plot between symboling and city-mpg manifest there is hardly a linear relationship between them."
   ]
  },
  {
   "cell_type": "code",
   "execution_count": 41,
   "metadata": {
    "scrolled": true
   },
   "outputs": [
    {
     "data": {
      "image/png": "[encoded data removed]",
      "text/plain": [
       "<Figure size 432x288 with 1 Axes>"
      ]
     },
     "metadata": {
      "needs_background": "light"
     },
     "output_type": "display_data"
    }
   ],
   "source": [
    "x = data['normalized-losses']\n",
    "y = data['city-mpg']\n",
    "plt.scatter(x,y)\n",
    "plt.title('Scatter between normalized-losses and city-mpg')\n",
    "plt.xlabel('normalized-losses')\n",
    "plt.ylabel('city-mpg')\n",
    "plt.show()"
   ]
  },
  {
   "cell_type": "markdown",
   "metadata": {},
   "source": [
    "### The scattor plot between normalized-losses and city-mpg manifest there is hardly a linear relationship between them."
   ]
  },
  {
   "cell_type": "code",
   "execution_count": 42,
   "metadata": {},
   "outputs": [
    {
     "data": {
      "image/png": "[encoded data removed]",
      "text/plain": [
       "<Figure size 432x288 with 1 Axes>"
      ]
     },
     "metadata": {
      "needs_background": "light"
     },
     "output_type": "display_data"
    }
   ],
   "source": [
    "x = data['wheel-base']\n",
    "y = data['city-mpg']\n",
    "plt.scatter(x,y)\n",
    "plt.title('Scatter between wheel-base and city-mpg')\n",
    "plt.xlabel('wheel-base')\n",
    "plt.ylabel('city-mpg')\n",
    "plt.show()"
   ]
  },
  {
   "cell_type": "markdown",
   "metadata": {},
   "source": [
    "### The scattor plot between wheel-base and city-mpg manifest there may be a negative linear relationship between them, but the linear model is not so apparently."
   ]
  },
  {
   "cell_type": "code",
   "execution_count": 43,
   "metadata": {},
   "outputs": [
    {
     "data": {
      "image/png": "[encoded data removed]",
      "text/plain": [
       "<Figure size 432x288 with 1 Axes>"
      ]
     },
     "metadata": {
      "needs_background": "light"
     },
     "output_type": "display_data"
    }
   ],
   "source": [
    "x = data['volume']\n",
    "y = data['city-mpg']\n",
    "plt.scatter(x,y)\n",
    "plt.title('Scatter between volume and city-mpg')\n",
    "plt.xlabel('volume')\n",
    "plt.ylabel('city-mpg')\n",
    "plt.show()"
   ]
  },
  {
   "cell_type": "markdown",
   "metadata": {},
   "source": [
    "### The scattor plot between volume and city-mpg manifest there may be a negative linear relationship between them, but the points is a little disparse for a linear model."
   ]
  },
  {
   "cell_type": "code",
   "execution_count": 44,
   "metadata": {},
   "outputs": [
    {
     "data": {
      "image/png": "[encoded data removed]",
      "text/plain": [
       "<Figure size 432x288 with 1 Axes>"
      ]
     },
     "metadata": {
      "needs_background": "light"
     },
     "output_type": "display_data"
    }
   ],
   "source": [
    "x = data['engine-size']\n",
    "y = data['city-mpg']\n",
    "plt.scatter(x,y)\n",
    "plt.title('Scatter between engine-size and city-mpg')\n",
    "plt.xlabel('engine-size')\n",
    "plt.ylabel('city-mpg')\n",
    "plt.show()"
   ]
  },
  {
   "cell_type": "markdown",
   "metadata": {},
   "source": [
    "### The scattor plot between engine-size and city-mpg manifest there may be a linear relationship between them, with some outliers."
   ]
  },
  {
   "cell_type": "code",
   "execution_count": 45,
   "metadata": {},
   "outputs": [
    {
     "data": {
      "image/png": "[encoded data removed]",
      "text/plain": [
       "<Figure size 432x288 with 1 Axes>"
      ]
     },
     "metadata": {
      "needs_background": "light"
     },
     "output_type": "display_data"
    }
   ],
   "source": [
    "x = data['bore']\n",
    "y = data['city-mpg']\n",
    "plt.scatter(x,y)\n",
    "plt.title('Scatter between bore and city-mpg')\n",
    "plt.xlabel('bore')\n",
    "plt.ylabel('city-mpg')\n",
    "plt.show()"
   ]
  },
  {
   "cell_type": "markdown",
   "metadata": {},
   "source": [
    "### The scattor plot between bore and city-mpg manifest there may be a linear relationship between them, but the points are disparse, and outliers exist."
   ]
  },
  {
   "cell_type": "code",
   "execution_count": 46,
   "metadata": {},
   "outputs": [
    {
     "data": {
      "image/png": "[encoded data removed]",
      "text/plain": [
       "<Figure size 432x288 with 1 Axes>"
      ]
     },
     "metadata": {
      "needs_background": "light"
     },
     "output_type": "display_data"
    }
   ],
   "source": [
    "x = data['stroke']\n",
    "y = data['city-mpg']\n",
    "plt.scatter(x,y)\n",
    "plt.title('Scatter between stroke and city-mpg')\n",
    "plt.xlabel('stroke')\n",
    "plt.ylabel('city-mpg')\n",
    "plt.show()"
   ]
  },
  {
   "cell_type": "markdown",
   "metadata": {},
   "source": [
    "### The scattor plot between stroke and city-mpg manifest there is hardly a linear relationship between them."
   ]
  },
  {
   "cell_type": "code",
   "execution_count": 47,
   "metadata": {},
   "outputs": [
    {
     "data": {
      "image/png": "[encoded data removed]",
      "text/plain": [
       "<Figure size 432x288 with 1 Axes>"
      ]
     },
     "metadata": {
      "needs_background": "light"
     },
     "output_type": "display_data"
    }
   ],
   "source": [
    "x = data['compression']\n",
    "y = data['city-mpg']\n",
    "plt.scatter(x,y)\n",
    "plt.title('Scatter between compression and city-mpg')\n",
    "plt.xlabel('compression')\n",
    "plt.ylabel('city-mpg')\n",
    "plt.show()"
   ]
  },
  {
   "cell_type": "markdown",
   "metadata": {},
   "source": [
    "### The scattor plot between compression and city-mpg manifest there is hardly a linear relationship between them."
   ]
  },
  {
   "cell_type": "code",
   "execution_count": 48,
   "metadata": {},
   "outputs": [
    {
     "data": {
      "image/png": "[encoded data removed]",
      "text/plain": [
       "<Figure size 432x288 with 1 Axes>"
      ]
     },
     "metadata": {
      "needs_background": "light"
     },
     "output_type": "display_data"
    }
   ],
   "source": [
    "x = data['horsepower']\n",
    "y = data['city-mpg']\n",
    "plt.scatter(x,y)\n",
    "plt.title('Scatter between horsepower and city-mpg')\n",
    "plt.xlabel('horsepower')\n",
    "plt.ylabel('city-mpg')\n",
    "plt.show()"
   ]
  },
  {
   "cell_type": "markdown",
   "metadata": {},
   "source": [
    "### The scattor plot between horsepower and city-mpg manifest there may be a linear relationship between them."
   ]
  },
  {
   "cell_type": "code",
   "execution_count": 49,
   "metadata": {},
   "outputs": [
    {
     "data": {
      "image/png": "[encoded data removed]",
      "text/plain": [
       "<Figure size 432x288 with 1 Axes>"
      ]
     },
     "metadata": {
      "needs_background": "light"
     },
     "output_type": "display_data"
    }
   ],
   "source": [
    "x = data['peak-rpm']\n",
    "y = data['city-mpg']\n",
    "plt.scatter(x,y)\n",
    "plt.title('Scatter between peak-rpm and city-mpg')\n",
    "plt.xlabel('peak-rpm')\n",
    "plt.ylabel('city-mpg')\n",
    "plt.show()"
   ]
  },
  {
   "cell_type": "markdown",
   "metadata": {},
   "source": [
    "### The scattor plot between peak-rpm and city-mpg manifest there is hardly a linear relationship between them."
   ]
  },
  {
   "cell_type": "code",
   "execution_count": 73,
   "metadata": {},
   "outputs": [
    {
     "data": {
      "image/png": "[encoded data removed]",
      "text/plain": [
       "<Figure size 432x288 with 1 Axes>"
      ]
     },
     "metadata": {
      "needs_background": "light"
     },
     "output_type": "display_data"
    }
   ],
   "source": [
    "x = data['highway-mpg']\n",
    "y = data['city-mpg']\n",
    "plt.scatter(x,y)\n",
    "plt.title('Scatter between highway-mpg and city-mpg')\n",
    "plt.xlabel('highway-mpg')\n",
    "plt.ylabel('city-mpg')\n",
    "plt.show()"
   ]
  },
  {
   "cell_type": "markdown",
   "metadata": {},
   "source": [
    "### The scattor plot between highway-mpg and city-mpg manifest there is a strong positive linear relationship between them."
   ]
  },
  {
   "cell_type": "markdown",
   "metadata": {},
   "source": [
    "### From scatter plot above, we know that the possible linear relatioship pairs are: \n",
    "#### wheel-base and city-mpg\n",
    "#### volume and city-mpg\n",
    "#### engine-size and city-mpg\n",
    "#### bore and city-mpg\n",
    "#### horsepower and city-mpg\n",
    "#### highway-mpg and city-mpg. \n",
    "#### In these pairs, horsepower and city-mpg, highway-mpg and city-mpg are most appropriate for linear model because there are strong indication for linear relationship."
   ]
  },
  {
   "cell_type": "markdown",
   "metadata": {},
   "source": [
    "## Correlation\n",
    "\n",
    "### To do multiple linear regression model, it is very important to check whether there are multicollinearities between dfferent independent variables, therefore, it is crucial to check the correlations between feautures which are potential to be the regressors of the linear regression model. \n",
    "\n",
    "## For better analysis, Let's plot heatmap for correlation matrix"
   ]
  },
  {
   "cell_type": "code",
   "execution_count": 79,
   "metadata": {},
   "outputs": [
    {
     "data": {
      "text/plain": [
       "<matplotlib.axes._subplots.AxesSubplot at 0x7fce21d51b50>"
      ]
     },
     "execution_count": 79,
     "metadata": {},
     "output_type": "execute_result"
    },
    {
     "data": {
      "image/png": "[encoded data removed]",
      "text/plain": [
       "<Figure size 792x648 with 2 Axes>"
      ]
     },
     "metadata": {
      "needs_background": "light"
     },
     "output_type": "display_data"
    }
   ],
   "source": [
    "cor_matrix = data.corr()\n",
    "# Generate a mask for the upper triangle\n",
    "mask = np.zeros_like(cor_matrix, dtype = np.bool)\n",
    "mask[np.triu_indices_from(mask)] = True\n",
    "# Set up the matplotlib figure\n",
    "f, ax = plt.subplots(figsize = (11, 9))\n",
    "#Draw the heatmap with the mask and correct aspect ratio,mask=True,upper triangular will be hide\n",
    "sns.heatmap(cor_matrix, mask=mask,\n",
    "            square = True, linewidths = .5, ax = ax, cmap = \"YlOrRd\")"
   ]
  },
  {
   "cell_type": "markdown",
   "metadata": {},
   "source": [
    "### From the heatmap above, I could see, wheel-base has strong correlation with volume, horsepower has strong correlation with engine-size, compression has strong correlation with diesel, city-mpg has strong correlation with highway-mpg.\n",
    "\n",
    "### Since highway-mpg has strong linear relationship with city-mpg, but highway-mpg has weak correlation with wheel-base, engine-size, bore, horsepower and volume, I would consider to do linear regression model on these features."
   ]
  },
  {
   "cell_type": "markdown",
   "metadata": {},
   "source": [
    "## In the following, I will choose exactly what features I would choose to be regressors"
   ]
  },
  {
   "cell_type": "markdown",
   "metadata": {},
   "source": [
    "## Pearson Correlation\n",
    "### The Pearson Correlation measures the linear dependence between two variables X and Y. The resulting coefficient is a value between -1 and 1 inclusive, where:\n",
    "#### 1: total positive linear correlation,\n",
    "#### 0: no linear correlation, the two variables most likely do not affect each other\n",
    "#### -1: total negative linear correlation.\n",
    "\n",
    "#### The P-value is the probability value that the correlation between these two variables is statistically significant. Normally, we choose a significance level of 0.05, which means that we are 95% confident that the correlation between the variables is significant.\n",
    "#### By convention, when the\n",
    "##### p-value is < 0.001 we say there is strong evidence that the correlation is significant,\n",
    "##### the p-value is < 0.05; there is moderate evidence that the correlation is significant,\n",
    "##### the p-value is < 0.1; there is weak evidence that the correlation is significant, and\n",
    "##### the p-value is > 0.1; there is no evidence that the correlation is significant.\n"
   ]
  },
  {
   "cell_type": "markdown",
   "metadata": {},
   "source": [
    "### Let’s calculate the Pearson Correlation Coefficient and P-value of each pair."
   ]
  },
  {
   "cell_type": "code",
   "execution_count": 215,
   "metadata": {},
   "outputs": [
    {
     "name": "stdout",
     "output_type": "stream",
     "text": [
      "the Pearson Correlation Coefficient is -0.5435631765542899 with a P-value of P is 1.53728169824608e-16\n"
     ]
    }
   ],
   "source": [
    "pearson_coef,p_value = stats.pearsonr(data['highway-mpg'],data['wheel-base'])\n",
    "print(\"the Pearson Correlation Coefficient is\", pearson_coef, \"with a P-value of P is\",p_value)"
   ]
  },
  {
   "cell_type": "markdown",
   "metadata": {},
   "source": [
    "#### Since the p-value is < 0.001, the correlation between highway-mpg and wheel-base is statistically significant, although the linear relationship isn’t extremely strong (-0.543)"
   ]
  },
  {
   "cell_type": "code",
   "execution_count": 216,
   "metadata": {},
   "outputs": [
    {
     "name": "stdout",
     "output_type": "stream",
     "text": [
      "the Pearson Correlation Coefficient is -0.6824825444819698 with a P-value of P is 2.356694031793199e-28\n"
     ]
    }
   ],
   "source": [
    "pearson_coef,p_value = stats.pearsonr(data['highway-mpg'],data['engine-size'])\n",
    "print(\"the Pearson Correlation Coefficient is\", pearson_coef, \"with a P-value of P is\",p_value)"
   ]
  },
  {
   "cell_type": "markdown",
   "metadata": {},
   "source": [
    "#### Since the p-value is < 0.001, the correlation between highway-mpg and engine-size is statistically significant, although the linear relationship isn’t extremely strong (-0.682)"
   ]
  },
  {
   "cell_type": "code",
   "execution_count": 221,
   "metadata": {},
   "outputs": [
    {
     "name": "stdout",
     "output_type": "stream",
     "text": [
      "the Pearson Correlation Coefficient is -0.6216322767393639 with a P-value of P is 1.8896402854693365e-22\n"
     ]
    }
   ],
   "source": [
    "pearson_coef,p_value = stats.pearsonr(data['highway-mpg'],data['bore'])\n",
    "print(\"the Pearson Correlation Coefficient is\", pearson_coef, \"with a P-value of P is\",p_value)"
   ]
  },
  {
   "cell_type": "markdown",
   "metadata": {},
   "source": [
    "#### Since the p-value is < 0.001, the correlation between highway-mpg and bore is statistically significant, although the linear relationship isn’t extremely strong (-0.622)"
   ]
  },
  {
   "cell_type": "code",
   "execution_count": 222,
   "metadata": {},
   "outputs": [
    {
     "name": "stdout",
     "output_type": "stream",
     "text": [
      "the Pearson Correlation Coefficient is -0.8037386168104729 with a P-value of P is 7.557461756396094e-46\n"
     ]
    }
   ],
   "source": [
    "pearson_coef,p_value = stats.pearsonr(data['highway-mpg'],data['horsepower'])\n",
    "print(\"the Pearson Correlation Coefficient is\", pearson_coef, \"with a P-value of P is\",p_value)"
   ]
  },
  {
   "cell_type": "markdown",
   "metadata": {},
   "source": [
    "#### Since the p-value is < 0.001, the correlation between highway-mpg and horsepower is statistically significant, although the linear relationship isn’t extremely strong (-0.804)"
   ]
  },
  {
   "cell_type": "code",
   "execution_count": 224,
   "metadata": {},
   "outputs": [
    {
     "name": "stdout",
     "output_type": "stream",
     "text": [
      "the Pearson Correlation Coefficient is -0.5924259233237592 with a P-value of P is 4.738712847240091e-20\n"
     ]
    }
   ],
   "source": [
    "pearson_coef,p_value = stats.pearsonr(data['highway-mpg'],data['volume'])\n",
    "print(\"the Pearson Correlation Coefficient is\", pearson_coef, \"with a P-value of P is\",p_value)"
   ]
  },
  {
   "cell_type": "markdown",
   "metadata": {},
   "source": [
    "#### Since the p-value is < 0.001, the correlation between highway-mpg and volume is statistically significant, although the linear relationship isn’t extremely strong (-0.592)"
   ]
  },
  {
   "cell_type": "markdown",
   "metadata": {},
   "source": [
    "### Let's try to check multicollinearity of features, then apply for linear regression model:\n",
    "\n",
    "### Although correlation matrix and scatter plots can also be used to find multicollinearity, their findings only show the bivariate relationship between the independent variables. VIF is preferred as it can show the correlation of a variable with a group of other variables"
   ]
  },
  {
   "cell_type": "code",
   "execution_count": 225,
   "metadata": {},
   "outputs": [
    {
     "data": {
      "text/html": [
       "<div>\n",
       "<style scoped>\n",
       "    .dataframe tbody tr th:only-of-type {\n",
       "        vertical-align: middle;\n",
       "    }\n",
       "\n",
       "    .dataframe tbody tr th {\n",
       "        vertical-align: top;\n",
       "    }\n",
       "\n",
       "    .dataframe thead th {\n",
       "        text-align: right;\n",
       "    }\n",
       "</style>\n",
       "<table border=\"1\" class=\"dataframe\">\n",
       "  <thead>\n",
       "    <tr style=\"text-align: right;\">\n",
       "      <th></th>\n",
       "      <th>variables</th>\n",
       "      <th>VIF</th>\n",
       "    </tr>\n",
       "  </thead>\n",
       "  <tbody>\n",
       "    <tr>\n",
       "      <th>0</th>\n",
       "      <td>wheel-base</td>\n",
       "      <td>348.108489</td>\n",
       "    </tr>\n",
       "    <tr>\n",
       "      <th>1</th>\n",
       "      <td>engine-size</td>\n",
       "      <td>39.231397</td>\n",
       "    </tr>\n",
       "    <tr>\n",
       "      <th>2</th>\n",
       "      <td>bore</td>\n",
       "      <td>1.867650</td>\n",
       "    </tr>\n",
       "    <tr>\n",
       "      <th>3</th>\n",
       "      <td>volume</td>\n",
       "      <td>313.623037</td>\n",
       "    </tr>\n",
       "    <tr>\n",
       "      <th>4</th>\n",
       "      <td>horsepower</td>\n",
       "      <td>40.128321</td>\n",
       "    </tr>\n",
       "    <tr>\n",
       "      <th>5</th>\n",
       "      <td>highway-mpg</td>\n",
       "      <td>3.188894</td>\n",
       "    </tr>\n",
       "  </tbody>\n",
       "</table>\n",
       "</div>"
      ],
      "text/plain": [
       "     variables         VIF\n",
       "0   wheel-base  348.108489\n",
       "1  engine-size   39.231397\n",
       "2         bore    1.867650\n",
       "3       volume  313.623037\n",
       "4   horsepower   40.128321\n",
       "5  highway-mpg    3.188894"
      ]
     },
     "execution_count": 225,
     "metadata": {},
     "output_type": "execute_result"
    }
   ],
   "source": [
    "from statsmodels.stats.outliers_influence import variance_inflation_factor\n",
    "def calc_vif(X):\n",
    "\n",
    "    # Calculating VIF\n",
    "    vif = pd.DataFrame()\n",
    "    vif[\"variables\"] = X.columns\n",
    "    vif[\"VIF\"] = [variance_inflation_factor(X.values, i) for i in range(X.shape[1])]\n",
    "\n",
    "    return(vif)\n",
    "\n",
    "X = data[['wheel-base','engine-size','bore','volume','horsepower','highway-mpg']]\n",
    "calc_vif(X)"
   ]
  },
  {
   "cell_type": "markdown",
   "metadata": {},
   "source": [
    "#### The table says bore and highway-mpg has less correlation with other variables in features."
   ]
  },
  {
   "cell_type": "markdown",
   "metadata": {},
   "source": [
    "## Apply for PCA. \n",
    "\n",
    "### As wheel-base, engine-size, volume and horsepower have strong correlation with other features, I decide to apply PCA for these features.\n",
    "\n",
    "### PCA is effected by scale so I need to scale the features in data before applying PCA. Use StandardScaler to help me standardize the dataset’s features onto unit scale (mean = 0 and variance = 1) which is a requirement for the optimal performance of machine learning algorithms. \n",
    "\n",
    "### Code projects the original data which is 5 dimensional into 2 dimensions. After dimensionality reduction, there usually isn’t a particular meaning assigned to each principal component. The new components are just the two main dimensions of variation."
   ]
  },
  {
   "cell_type": "code",
   "execution_count": 303,
   "metadata": {},
   "outputs": [],
   "source": [
    "from sklearn.preprocessing import StandardScaler\n",
    "features = ['wheel-base', 'engine-size','volume','horsepower']\n",
    "# Separating out the features\n",
    "X = data.loc[:, features].values\n",
    "# Separating out the target\n",
    "Y = data.loc[:,['city-mpg']].values\n",
    "# Standardizing the features\n",
    "X = StandardScaler().fit_transform(X)\n",
    "\n",
    "from sklearn.decomposition import PCA\n",
    "pca = PCA(n_components=2)\n",
    "principalComponents = pca.fit_transform(x)\n",
    "principalDf = pd.DataFrame(data = principalComponents\n",
    "             , columns = ['principal component 1', 'principal component 2'])"
   ]
  },
  {
   "cell_type": "markdown",
   "metadata": {},
   "source": [
    "### Concatenating DataFrame along axis = 1. finalDf is the final DataFrame before plotting the data."
   ]
  },
  {
   "cell_type": "code",
   "execution_count": 304,
   "metadata": {},
   "outputs": [],
   "source": [
    "finalDf = pd.concat([principalDf, data[['city-mpg']]], axis = 1)"
   ]
  },
  {
   "cell_type": "markdown",
   "metadata": {},
   "source": [
    "## Explained Variance"
   ]
  },
  {
   "cell_type": "code",
   "execution_count": 305,
   "metadata": {},
   "outputs": [
    {
     "data": {
      "text/plain": [
       "array([0.71705144, 0.22500568])"
      ]
     },
     "execution_count": 305,
     "metadata": {},
     "output_type": "execute_result"
    }
   ],
   "source": [
    "pca.explained_variance_ratio_"
   ]
  },
  {
   "cell_type": "markdown",
   "metadata": {},
   "source": [
    "### By using the attribute explained_variance_ratio_, I can see that the first principal component contains 71.71% of the variance and the second principal component contains 22.50% of the variance. Together, the two components contain 94.21% of the information."
   ]
  },
  {
   "cell_type": "markdown",
   "metadata": {},
   "source": [
    "## PCA to Speed-up Machine Learning Algorithms\n",
    "\n",
    "### Split Data into Training and Test Sets\n",
    "#### In this case, I chose 80% of the data to be training and 20% of the data to be in the test set."
   ]
  },
  {
   "cell_type": "code",
   "execution_count": 306,
   "metadata": {},
   "outputs": [],
   "source": [
    "X = finalDf[['principal component 1','principal component 2']].iloc[0:197,:]\n",
    "Y = data['city-mpg']"
   ]
  },
  {
   "cell_type": "code",
   "execution_count": 232,
   "metadata": {},
   "outputs": [],
   "source": [
    "from sklearn.model_selection import train_test_split\n",
    "X_train, X_test, Y_train, Y_test = train_test_split(X,Y,test_size = 0.2,random_state = 10)"
   ]
  },
  {
   "cell_type": "markdown",
   "metadata": {},
   "source": [
    "### Standardize the Data"
   ]
  },
  {
   "cell_type": "code",
   "execution_count": 307,
   "metadata": {
    "scrolled": false
   },
   "outputs": [],
   "source": [
    "from sklearn.preprocessing import StandardScaler\n",
    "scaler = StandardScaler()\n",
    "# Fit on training set only.\n",
    "scaler.fit(X_train)\n",
    "# Apply transform to both the training set and the test set.\n",
    "X_train= scaler.transform(X_train)\n",
    "X_test= scaler.transform(X_test)"
   ]
  },
  {
   "cell_type": "markdown",
   "metadata": {},
   "source": [
    "### Fit PCA on training set."
   ]
  },
  {
   "cell_type": "code",
   "execution_count": 308,
   "metadata": {
    "scrolled": true
   },
   "outputs": [
    {
     "data": {
      "text/plain": [
       "PCA(copy=True, iterated_power='auto', n_components=2, random_state=None,\n",
       "    svd_solver='auto', tol=0.0, whiten=False)"
      ]
     },
     "execution_count": 308,
     "metadata": {},
     "output_type": "execute_result"
    }
   ],
   "source": [
    "pca.fit(X_train)"
   ]
  },
  {
   "cell_type": "markdown",
   "metadata": {},
   "source": [
    "### Apply the mapping (transform) to both the training set and the test set."
   ]
  },
  {
   "cell_type": "code",
   "execution_count": 309,
   "metadata": {},
   "outputs": [],
   "source": [
    "X_train = pca.transform(X_train)\n",
    "X_test = pca.transform(X_test)"
   ]
  },
  {
   "cell_type": "markdown",
   "metadata": {},
   "source": [
    "## Apply Linear Regression to the Transformed Data\n",
    "\n",
    "### Step 1: Import the model I want to use"
   ]
  },
  {
   "cell_type": "code",
   "execution_count": 310,
   "metadata": {},
   "outputs": [
    {
     "data": {
      "text/plain": [
       "LinearRegression(copy_X=True, fit_intercept=True, n_jobs=None, normalize=False)"
      ]
     },
     "execution_count": 310,
     "metadata": {},
     "output_type": "execute_result"
    }
   ],
   "source": [
    "from sklearn.linear_model import LinearRegression\n",
    "regr = linear_model.LinearRegression()  \n",
    "regr.fit(X_train, Y_train)"
   ]
  },
  {
   "cell_type": "markdown",
   "metadata": {},
   "source": [
    "### Step 2: To see the value of the intercept and slope calculated by the linear regression algorithm for our dataset, execute the following code:"
   ]
  },
  {
   "cell_type": "code",
   "execution_count": 311,
   "metadata": {},
   "outputs": [
    {
     "name": "stdout",
     "output_type": "stream",
     "text": [
      "0.03862052183496238\n",
      "[ 0.72814175 -0.69834179]\n"
     ]
    }
   ],
   "source": [
    "#To retrieve the intercept:\n",
    "print(regr.intercept_)\n",
    "#For retrieving the slope:\n",
    "print(regr.coef_)"
   ]
  },
  {
   "cell_type": "markdown",
   "metadata": {},
   "source": [
    "### Step 3: Training the model on the data, predict the value."
   ]
  },
  {
   "cell_type": "code",
   "execution_count": 312,
   "metadata": {},
   "outputs": [],
   "source": [
    "Y_pred = regr.predict(X_test)"
   ]
  },
  {
   "cell_type": "markdown",
   "metadata": {},
   "source": [
    "### Now compare the actual output values for X_test with the predicted values, execute the following script:"
   ]
  },
  {
   "cell_type": "code",
   "execution_count": 313,
   "metadata": {},
   "outputs": [
    {
     "data": {
      "text/html": [
       "<div>\n",
       "<style scoped>\n",
       "    .dataframe tbody tr th:only-of-type {\n",
       "        vertical-align: middle;\n",
       "    }\n",
       "\n",
       "    .dataframe tbody tr th {\n",
       "        vertical-align: top;\n",
       "    }\n",
       "\n",
       "    .dataframe thead th {\n",
       "        text-align: right;\n",
       "    }\n",
       "</style>\n",
       "<table border=\"1\" class=\"dataframe\">\n",
       "  <thead>\n",
       "    <tr style=\"text-align: right;\">\n",
       "      <th></th>\n",
       "      <th>Actual</th>\n",
       "      <th>Predicted</th>\n",
       "    </tr>\n",
       "  </thead>\n",
       "  <tbody>\n",
       "    <tr>\n",
       "      <th>64</th>\n",
       "      <td>0.112958</td>\n",
       "      <td>0.181051</td>\n",
       "    </tr>\n",
       "    <tr>\n",
       "      <th>6</th>\n",
       "      <td>-0.976340</td>\n",
       "      <td>-0.806762</td>\n",
       "    </tr>\n",
       "    <tr>\n",
       "      <th>23</th>\n",
       "      <td>-0.198270</td>\n",
       "      <td>-0.077753</td>\n",
       "    </tr>\n",
       "    <tr>\n",
       "      <th>199</th>\n",
       "      <td>-1.287569</td>\n",
       "      <td>-1.270005</td>\n",
       "    </tr>\n",
       "    <tr>\n",
       "      <th>57</th>\n",
       "      <td>-1.287569</td>\n",
       "      <td>-1.104538</td>\n",
       "    </tr>\n",
       "    <tr>\n",
       "      <th>22</th>\n",
       "      <td>0.891029</td>\n",
       "      <td>1.073500</td>\n",
       "    </tr>\n",
       "    <tr>\n",
       "      <th>167</th>\n",
       "      <td>-0.198270</td>\n",
       "      <td>-0.123394</td>\n",
       "    </tr>\n",
       "    <tr>\n",
       "      <th>60</th>\n",
       "      <td>0.112958</td>\n",
       "      <td>0.181051</td>\n",
       "    </tr>\n",
       "    <tr>\n",
       "      <th>74</th>\n",
       "      <td>-1.754411</td>\n",
       "      <td>-2.143888</td>\n",
       "    </tr>\n",
       "    <tr>\n",
       "      <th>3</th>\n",
       "      <td>-0.198270</td>\n",
       "      <td>-0.090130</td>\n",
       "    </tr>\n",
       "    <tr>\n",
       "      <th>110</th>\n",
       "      <td>-0.042656</td>\n",
       "      <td>-0.846215</td>\n",
       "    </tr>\n",
       "    <tr>\n",
       "      <th>13</th>\n",
       "      <td>-0.665112</td>\n",
       "      <td>-0.386066</td>\n",
       "    </tr>\n",
       "    <tr>\n",
       "      <th>80</th>\n",
       "      <td>-0.353884</td>\n",
       "      <td>-0.088583</td>\n",
       "    </tr>\n",
       "    <tr>\n",
       "      <th>168</th>\n",
       "      <td>-0.198270</td>\n",
       "      <td>-0.123394</td>\n",
       "    </tr>\n",
       "    <tr>\n",
       "      <th>183</th>\n",
       "      <td>0.268573</td>\n",
       "      <td>0.483176</td>\n",
       "    </tr>\n",
       "    <tr>\n",
       "      <th>68</th>\n",
       "      <td>-0.509498</td>\n",
       "      <td>-0.836932</td>\n",
       "    </tr>\n",
       "    <tr>\n",
       "      <th>184</th>\n",
       "      <td>1.824714</td>\n",
       "      <td>2.217018</td>\n",
       "    </tr>\n",
       "    <tr>\n",
       "      <th>83</th>\n",
       "      <td>-0.976340</td>\n",
       "      <td>-0.981032</td>\n",
       "    </tr>\n",
       "    <tr>\n",
       "      <th>124</th>\n",
       "      <td>-0.976340</td>\n",
       "      <td>-0.981032</td>\n",
       "    </tr>\n",
       "    <tr>\n",
       "      <th>100</th>\n",
       "      <td>0.268573</td>\n",
       "      <td>0.472346</td>\n",
       "    </tr>\n",
       "    <tr>\n",
       "      <th>156</th>\n",
       "      <td>0.735415</td>\n",
       "      <td>0.913155</td>\n",
       "    </tr>\n",
       "    <tr>\n",
       "      <th>136</th>\n",
       "      <td>-0.976340</td>\n",
       "      <td>-0.690511</td>\n",
       "    </tr>\n",
       "    <tr>\n",
       "      <th>66</th>\n",
       "      <td>0.891029</td>\n",
       "      <td>1.181242</td>\n",
       "    </tr>\n",
       "    <tr>\n",
       "      <th>191</th>\n",
       "      <td>-0.976340</td>\n",
       "      <td>-0.950089</td>\n",
       "    </tr>\n",
       "    <tr>\n",
       "      <th>132</th>\n",
       "      <td>-0.665112</td>\n",
       "      <td>-0.403858</td>\n",
       "    </tr>\n",
       "  </tbody>\n",
       "</table>\n",
       "</div>"
      ],
      "text/plain": [
       "       Actual  Predicted\n",
       "64   0.112958   0.181051\n",
       "6   -0.976340  -0.806762\n",
       "23  -0.198270  -0.077753\n",
       "199 -1.287569  -1.270005\n",
       "57  -1.287569  -1.104538\n",
       "22   0.891029   1.073500\n",
       "167 -0.198270  -0.123394\n",
       "60   0.112958   0.181051\n",
       "74  -1.754411  -2.143888\n",
       "3   -0.198270  -0.090130\n",
       "110 -0.042656  -0.846215\n",
       "13  -0.665112  -0.386066\n",
       "80  -0.353884  -0.088583\n",
       "168 -0.198270  -0.123394\n",
       "183  0.268573   0.483176\n",
       "68  -0.509498  -0.836932\n",
       "184  1.824714   2.217018\n",
       "83  -0.976340  -0.981032\n",
       "124 -0.976340  -0.981032\n",
       "100  0.268573   0.472346\n",
       "156  0.735415   0.913155\n",
       "136 -0.976340  -0.690511\n",
       "66   0.891029   1.181242\n",
       "191 -0.976340  -0.950089\n",
       "132 -0.665112  -0.403858"
      ]
     },
     "execution_count": 313,
     "metadata": {},
     "output_type": "execute_result"
    }
   ],
   "source": [
    "from sklearn import metrics\n",
    "dataprediction = pd.DataFrame({'Actual': Y_test, 'Predicted': Y_pred})\n",
    "dataprediction.head(25)"
   ]
  },
  {
   "cell_type": "markdown",
   "metadata": {},
   "source": [
    "### We can also visualize comparison result as a bar graph using the below script :"
   ]
  },
  {
   "cell_type": "code",
   "execution_count": 314,
   "metadata": {},
   "outputs": [
    {
     "data": {
      "image/png": "[encoded data removed]",
      "text/plain": [
       "<Figure size 1152x720 with 1 Axes>"
      ]
     },
     "metadata": {
      "needs_background": "light"
     },
     "output_type": "display_data"
    }
   ],
   "source": [
    "df1 = dataprediction.head(25)\n",
    "df1.plot(kind='bar',figsize=(16,10))\n",
    "plt.grid(which='major', linestyle='-', linewidth='0.5', color='green')\n",
    "plt.grid(which='minor', linestyle=':', linewidth='0.5', color='black')\n",
    "plt.show()"
   ]
  },
  {
   "cell_type": "markdown",
   "metadata": {},
   "source": [
    "### As we can observe here that our model has returned a good prediction results.\n",
    "### The final step is to evaluate the performance of the algorithm. We’ll do this by \n",
    "#### 1. Finding the regression score \n",
    "#### 2. Finding the values for MAE, MSE, and RMSE. "
   ]
  },
  {
   "cell_type": "code",
   "execution_count": 317,
   "metadata": {},
   "outputs": [
    {
     "data": {
      "text/plain": [
       "0.8953290149307512"
      ]
     },
     "execution_count": 317,
     "metadata": {},
     "output_type": "execute_result"
    }
   ],
   "source": [
    "regr.score(X_test, Y_test)"
   ]
  },
  {
   "cell_type": "code",
   "execution_count": 240,
   "metadata": {},
   "outputs": [
    {
     "name": "stdout",
     "output_type": "stream",
     "text": [
      "Mean Absolute Error: 0.7691372384967486\n",
      "Mean Squared Error: 1.2263676465535611\n",
      "Root Mean Squared Error: 1.10741484844369\n"
     ]
    }
   ],
   "source": [
    "print('Mean Absolute Error:', metrics.mean_absolute_error(Y_test, Y_pred))  \n",
    "print('Mean Squared Error:', metrics.mean_squared_error(Y_test, Y_pred))  \n",
    "print('Root Mean Squared Error:', np.sqrt(metrics.mean_squared_error(Y_test, Y_pred)))"
   ]
  },
  {
   "cell_type": "markdown",
   "metadata": {},
   "source": [
    "### So in this model, 89.53% of the variability in city-mpg can be explained using bore and highway-mpg.\n",
    "\n",
    "### The Mean Absolute Error is less than 1, Root mean Squareed Error is around 1,Mean squared error is a little bigger than 1, the model is not too accuracy but can still make reasonably good predictions.\n",
    "\n",
    "### In the above model, we regress our target \"city-mpg\" on PCA's component 1 and component 2, but do not forget there are two features, bore and highway-mpg which have low VIF,  so let's regress our target on those two regressors to see which regression model is better:"
   ]
  },
  {
   "cell_type": "code",
   "execution_count": 319,
   "metadata": {},
   "outputs": [],
   "source": [
    "X = data[['bore', 'highway-mpg']]\n",
    "Y = data['city-mpg']"
   ]
  },
  {
   "cell_type": "markdown",
   "metadata": {},
   "source": [
    "### Split Data into Training and Test Sets\n",
    "#### In this case, I chose 80% of the data to be training and 20% of the data to be in the test set."
   ]
  },
  {
   "cell_type": "code",
   "execution_count": 320,
   "metadata": {},
   "outputs": [],
   "source": [
    "from sklearn.model_selection import train_test_split\n",
    "X_train, X_test, Y_train, Y_test = train_test_split(X,Y,test_size = 0.2,random_state = 10)"
   ]
  },
  {
   "cell_type": "markdown",
   "metadata": {},
   "source": [
    "## Apply Linear Regression to the Standarized Data\n",
    "\n",
    "### Step 1: Import the model I want to use"
   ]
  },
  {
   "cell_type": "code",
   "execution_count": 321,
   "metadata": {},
   "outputs": [
    {
     "data": {
      "text/plain": [
       "LinearRegression(copy_X=True, fit_intercept=True, n_jobs=None, normalize=False)"
      ]
     },
     "execution_count": 321,
     "metadata": {},
     "output_type": "execute_result"
    }
   ],
   "source": [
    "from sklearn.linear_model import LinearRegression\n",
    "regr = linear_model.LinearRegression()  \n",
    "regr.fit(X_train, Y_train)"
   ]
  },
  {
   "cell_type": "markdown",
   "metadata": {},
   "source": [
    "### Step 2: To see the value of the intercept and slope calculated by the linear regression algorithm for our dataset, execute the following code:"
   ]
  },
  {
   "cell_type": "code",
   "execution_count": 322,
   "metadata": {},
   "outputs": [
    {
     "name": "stdout",
     "output_type": "stream",
     "text": [
      "0.007879201987931676\n",
      "[-0.02074058  0.97689108]\n"
     ]
    }
   ],
   "source": [
    "#To retrieve the intercept:\n",
    "print(regr.intercept_)\n",
    "#For retrieving the slope:\n",
    "print(regr.coef_)"
   ]
  },
  {
   "cell_type": "markdown",
   "metadata": {},
   "source": [
    "### Step 3: Training the model on the data, predict the value."
   ]
  },
  {
   "cell_type": "code",
   "execution_count": 323,
   "metadata": {},
   "outputs": [],
   "source": [
    "Y_pred = regr.predict(X_test)"
   ]
  },
  {
   "cell_type": "markdown",
   "metadata": {},
   "source": [
    "### Now compare the actual output values for X_test with the predicted values, execute the following script:"
   ]
  },
  {
   "cell_type": "code",
   "execution_count": 324,
   "metadata": {},
   "outputs": [
    {
     "data": {
      "text/html": [
       "<div>\n",
       "<style scoped>\n",
       "    .dataframe tbody tr th:only-of-type {\n",
       "        vertical-align: middle;\n",
       "    }\n",
       "\n",
       "    .dataframe tbody tr th {\n",
       "        vertical-align: top;\n",
       "    }\n",
       "\n",
       "    .dataframe thead th {\n",
       "        text-align: right;\n",
       "    }\n",
       "</style>\n",
       "<table border=\"1\" class=\"dataframe\">\n",
       "  <thead>\n",
       "    <tr style=\"text-align: right;\">\n",
       "      <th></th>\n",
       "      <th>Actual</th>\n",
       "      <th>Predicted</th>\n",
       "    </tr>\n",
       "  </thead>\n",
       "  <tbody>\n",
       "    <tr>\n",
       "      <th>64</th>\n",
       "      <td>0.112958</td>\n",
       "      <td>0.181051</td>\n",
       "    </tr>\n",
       "    <tr>\n",
       "      <th>6</th>\n",
       "      <td>-0.976340</td>\n",
       "      <td>-0.806762</td>\n",
       "    </tr>\n",
       "    <tr>\n",
       "      <th>23</th>\n",
       "      <td>-0.198270</td>\n",
       "      <td>-0.077753</td>\n",
       "    </tr>\n",
       "    <tr>\n",
       "      <th>199</th>\n",
       "      <td>-1.287569</td>\n",
       "      <td>-1.270005</td>\n",
       "    </tr>\n",
       "    <tr>\n",
       "      <th>57</th>\n",
       "      <td>-1.287569</td>\n",
       "      <td>-1.104538</td>\n",
       "    </tr>\n",
       "    <tr>\n",
       "      <th>22</th>\n",
       "      <td>0.891029</td>\n",
       "      <td>1.073500</td>\n",
       "    </tr>\n",
       "    <tr>\n",
       "      <th>167</th>\n",
       "      <td>-0.198270</td>\n",
       "      <td>-0.123394</td>\n",
       "    </tr>\n",
       "    <tr>\n",
       "      <th>60</th>\n",
       "      <td>0.112958</td>\n",
       "      <td>0.181051</td>\n",
       "    </tr>\n",
       "    <tr>\n",
       "      <th>74</th>\n",
       "      <td>-1.754411</td>\n",
       "      <td>-2.143888</td>\n",
       "    </tr>\n",
       "    <tr>\n",
       "      <th>3</th>\n",
       "      <td>-0.198270</td>\n",
       "      <td>-0.090130</td>\n",
       "    </tr>\n",
       "    <tr>\n",
       "      <th>110</th>\n",
       "      <td>-0.042656</td>\n",
       "      <td>-0.846215</td>\n",
       "    </tr>\n",
       "    <tr>\n",
       "      <th>13</th>\n",
       "      <td>-0.665112</td>\n",
       "      <td>-0.386066</td>\n",
       "    </tr>\n",
       "    <tr>\n",
       "      <th>80</th>\n",
       "      <td>-0.353884</td>\n",
       "      <td>-0.088583</td>\n",
       "    </tr>\n",
       "    <tr>\n",
       "      <th>168</th>\n",
       "      <td>-0.198270</td>\n",
       "      <td>-0.123394</td>\n",
       "    </tr>\n",
       "    <tr>\n",
       "      <th>183</th>\n",
       "      <td>0.268573</td>\n",
       "      <td>0.483176</td>\n",
       "    </tr>\n",
       "    <tr>\n",
       "      <th>68</th>\n",
       "      <td>-0.509498</td>\n",
       "      <td>-0.836932</td>\n",
       "    </tr>\n",
       "    <tr>\n",
       "      <th>184</th>\n",
       "      <td>1.824714</td>\n",
       "      <td>2.217018</td>\n",
       "    </tr>\n",
       "    <tr>\n",
       "      <th>83</th>\n",
       "      <td>-0.976340</td>\n",
       "      <td>-0.981032</td>\n",
       "    </tr>\n",
       "    <tr>\n",
       "      <th>124</th>\n",
       "      <td>-0.976340</td>\n",
       "      <td>-0.981032</td>\n",
       "    </tr>\n",
       "    <tr>\n",
       "      <th>100</th>\n",
       "      <td>0.268573</td>\n",
       "      <td>0.472346</td>\n",
       "    </tr>\n",
       "    <tr>\n",
       "      <th>156</th>\n",
       "      <td>0.735415</td>\n",
       "      <td>0.913155</td>\n",
       "    </tr>\n",
       "    <tr>\n",
       "      <th>136</th>\n",
       "      <td>-0.976340</td>\n",
       "      <td>-0.690511</td>\n",
       "    </tr>\n",
       "    <tr>\n",
       "      <th>66</th>\n",
       "      <td>0.891029</td>\n",
       "      <td>1.181242</td>\n",
       "    </tr>\n",
       "    <tr>\n",
       "      <th>191</th>\n",
       "      <td>-0.976340</td>\n",
       "      <td>-0.950089</td>\n",
       "    </tr>\n",
       "    <tr>\n",
       "      <th>132</th>\n",
       "      <td>-0.665112</td>\n",
       "      <td>-0.403858</td>\n",
       "    </tr>\n",
       "  </tbody>\n",
       "</table>\n",
       "</div>"
      ],
      "text/plain": [
       "       Actual  Predicted\n",
       "64   0.112958   0.181051\n",
       "6   -0.976340  -0.806762\n",
       "23  -0.198270  -0.077753\n",
       "199 -1.287569  -1.270005\n",
       "57  -1.287569  -1.104538\n",
       "22   0.891029   1.073500\n",
       "167 -0.198270  -0.123394\n",
       "60   0.112958   0.181051\n",
       "74  -1.754411  -2.143888\n",
       "3   -0.198270  -0.090130\n",
       "110 -0.042656  -0.846215\n",
       "13  -0.665112  -0.386066\n",
       "80  -0.353884  -0.088583\n",
       "168 -0.198270  -0.123394\n",
       "183  0.268573   0.483176\n",
       "68  -0.509498  -0.836932\n",
       "184  1.824714   2.217018\n",
       "83  -0.976340  -0.981032\n",
       "124 -0.976340  -0.981032\n",
       "100  0.268573   0.472346\n",
       "156  0.735415   0.913155\n",
       "136 -0.976340  -0.690511\n",
       "66   0.891029   1.181242\n",
       "191 -0.976340  -0.950089\n",
       "132 -0.665112  -0.403858"
      ]
     },
     "execution_count": 324,
     "metadata": {},
     "output_type": "execute_result"
    }
   ],
   "source": [
    "from sklearn import metrics\n",
    "dataprediction = pd.DataFrame({'Actual': Y_test, 'Predicted': Y_pred})\n",
    "dataprediction.head(25)"
   ]
  },
  {
   "cell_type": "markdown",
   "metadata": {},
   "source": [
    "### We can also visualize comparison result as a bar graph using the below script :"
   ]
  },
  {
   "cell_type": "code",
   "execution_count": 325,
   "metadata": {},
   "outputs": [
    {
     "data": {
      "image/png": "[encoded data removed]",
      "text/plain": [
       "<Figure size 1152x720 with 1 Axes>"
      ]
     },
     "metadata": {
      "needs_background": "light"
     },
     "output_type": "display_data"
    }
   ],
   "source": [
    "df1 = dataprediction.head(25)\n",
    "df1.plot(kind='bar',figsize=(16,10))\n",
    "plt.grid(which='major', linestyle='-', linewidth='0.5', color='green')\n",
    "plt.grid(which='minor', linestyle=':', linewidth='0.5', color='black')\n",
    "plt.show()"
   ]
  },
  {
   "cell_type": "markdown",
   "metadata": {},
   "source": [
    "### As we can observe here that our model has returned a good prediction results.\n",
    "\n",
    "### The final step is to evaluate the performance of the algorithm. We’ll do this by \n",
    "#### 1. Finding the regression score \n",
    "#### 2. Finding the values for MAE, MSE, and RMSE. "
   ]
  },
  {
   "cell_type": "code",
   "execution_count": 326,
   "metadata": {},
   "outputs": [
    {
     "data": {
      "text/plain": [
       "0.8953290149307513"
      ]
     },
     "execution_count": 326,
     "metadata": {},
     "output_type": "execute_result"
    }
   ],
   "source": [
    "regr.score(X_test, Y_test)"
   ]
  },
  {
   "cell_type": "code",
   "execution_count": 327,
   "metadata": {},
   "outputs": [
    {
     "name": "stdout",
     "output_type": "stream",
     "text": [
      "Mean Absolute Error: 0.18749697916445165\n",
      "Mean Squared Error: 0.06199845461200344\n",
      "Root Mean Squared Error: 0.2489948887266633\n"
     ]
    }
   ],
   "source": [
    "print('Mean Absolute Error:', metrics.mean_absolute_error(Y_test, Y_pred))  \n",
    "print('Mean Squared Error:', metrics.mean_squared_error(Y_test, Y_pred))  \n",
    "print('Root Mean Squared Error:', np.sqrt(metrics.mean_squared_error(Y_test, Y_pred)))"
   ]
  },
  {
   "cell_type": "markdown",
   "metadata": {},
   "source": [
    "### So in the second model, 89.53% of the variability in city-mpg can be explained using bore and highway-mpg.\n",
    "\n",
    "### Comparing MAE, MSE and RMSE of the first linear regression model and the second linear regression model, we could see the second linear regression model is better."
   ]
  },
  {
   "cell_type": "markdown",
   "metadata": {},
   "source": [
    "## Conclusion\n",
    "### From the long experiment, I can make the conclusions as the follow:\n",
    "### 1. In lots of features, bore and highway-mpg have less multicollinearity comparing with other features.\n",
    "### 2. All numeric features have correlations, which makes the simple linear regression model not the best.\n",
    "### 3. PCA linear regression model: \n",
    "#### city-mpg = 0.03862052183496238 + 0.72814175* first component -0.69834179* second component.\n",
    "### 4. Linear regression model regressed on bore and highway-mpg: \n",
    "#### city-mpg = 0.007879201987931676 -0.02074058* bore +  0.97689108 * highway-mpg\n",
    "### 5. the second model works better comparing with MAE, MSE and RMSE.\n",
    "### Both model nearly have the same regression score, the second is a little little higher.\n",
    "\n",
    "### There are many factors that may make the model better if solved, for example :\n",
    "#### Need more data:  A huge amount of data  could get the best possible prediction.\n",
    "#### Poor features: The features I used have had a high enough correlation to the values we were trying to predict.\n",
    "#### Other reasons: As I have tested, categorical features can make difference in city-mpg, but I did not take them into accounts in the model."
   ]
  },
  {
   "cell_type": "code",
   "execution_count": null,
   "metadata": {},
   "outputs": [],
   "source": []
  }
 ],
 "metadata": {
  "kernelspec": {
   "display_name": "Python 3",
   "language": "python",
   "name": "python3"
  },
  "language_info": {
   "codemirror_mode": {
    "name": "ipython",
    "version": 3
   },
   "file_extension": ".py",
   "mimetype": "text/x-python",
   "name": "python",
   "nbconvert_exporter": "python",
   "pygments_lexer": "ipython3",
   "version": "3.7.6"
  }
 },
 "nbformat": 4,
 "nbformat_minor": 4
}
