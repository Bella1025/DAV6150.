{
 "cells": [
  {
   "cell_type": "markdown",
   "metadata": {},
   "source": [
    "# Liu Xingyu - DAV 6150 - Module 11 assignment\n",
    "\n",
    "## Introduction\n",
    "\n",
    "In this report, I will analyze on a data set consisting of 22 characteristics of mushrooms to compare the performance of single decision tree and the performance of the random forest. This information could be used to learn the advantages and disadvantages of single decision tree and random forest. The target value in this report is \"veil-color\", and all the other varibales are exploratory variables which are different aspects of characteristics of mushrooms.\n",
    "\n",
    "To accomplish this, I will first perform an exploratory data analysis (\"EDA\") on each of the variables in an effort to discover any data integrity issues (i.e. missing or invalid values), uncover any outliers, and see the distribution of the data. \n",
    "\n",
    "Then, based on the results of my EDA, I will perform the necessary data preparation and cleaning in order to prepare the data for use in a machine learning model. This work will be guided by my domain knowledge and EDA, and will be explained further in that section. I will again perform an EDA on my transformed data, in order to see the effects of my transformations on the data. I will compare the results of our transformed data to those of the original data and discuss how my transformations will lead to a better machine learning model.\n",
    "\n",
    "After the data preparation I will perform feature selection and/or dimensionality reduction.\n",
    "\n",
    "Then I will split the data into training and testing subsets, use the training subset to construct at least\n",
    "two different decision tree models and two different random forest models using different\n",
    "combinations of the explanatory variables.\n",
    "\n",
    "Lastly, I will choose the best classification model from those I constructed using some metrics, fit this model with the testing data to see how my model performs. "
   ]
  },
  {
   "cell_type": "code",
   "execution_count": 9,
   "metadata": {},
   "outputs": [
    {
     "data": {
      "text/html": [
       "<img src=\"mushroom.jpeg\"/>"
      ],
      "text/plain": [
       "<IPython.core.display.Image object>"
      ]
     },
     "execution_count": 9,
     "metadata": {},
     "output_type": "execute_result"
    }
   ],
   "source": [
    "## Pictures of different mushrooms\n",
    "from IPython.display import Image\n",
    "img = 'mushroom.jpeg'\n",
    "Image(url=img)"
   ]
  },
  {
   "cell_type": "markdown",
   "metadata": {},
   "source": [
    "## Data Profiling & Domain Knowledge Development\n",
    "\n",
    "### Before importing the dataset to Jupyter notebook, I have labeled the columns in the following sequence:\n",
    "\n",
    "**PE** - This is a classification column to show whether the mushroom is poisonous or edible, p = poisonous, e = edible.\n",
    "\n",
    "**cap shape** - bell=b,conical=c,convex=x,flat=f, knobbed=k,sunken=s"
   ]
  },
  {
   "cell_type": "code",
   "execution_count": 14,
   "metadata": {},
   "outputs": [
    {
     "data": {
      "text/html": [
       "<img src=\"capshape.jpeg\"/>"
      ],
      "text/plain": [
       "<IPython.core.display.Image object>"
      ]
     },
     "execution_count": 14,
     "metadata": {},
     "output_type": "execute_result"
    }
   ],
   "source": [
    "## Pictures of different cap shapes of mushrooms\n",
    "from IPython.display import Image\n",
    "img = 'capshape.jpeg'\n",
    "Image(url=img)"
   ]
  },
  {
   "cell_type": "markdown",
   "metadata": {},
   "source": [
    "**cap surface** - fibrous=f,grooves=g,scaly=y,smooth=s"
   ]
  },
  {
   "cell_type": "code",
   "execution_count": 15,
   "metadata": {},
   "outputs": [
    {
     "data": {
      "text/html": [
       "<img src=\"capsurface.jpg\"/>"
      ],
      "text/plain": [
       "<IPython.core.display.Image object>"
      ]
     },
     "execution_count": 15,
     "metadata": {},
     "output_type": "execute_result"
    }
   ],
   "source": [
    "## Pictures of different cap surfaces of mushrooms\n",
    "from IPython.display import Image\n",
    "img = 'capsurface.jpg'\n",
    "Image(url=img)"
   ]
  },
  {
   "cell_type": "markdown",
   "metadata": {},
   "source": [
    "**cap color** - brown=n,buff=b,cinnamon=c,gray=g,green=r, pink=p,purple=u,red=e,white=w,yellow=y"
   ]
  },
  {
   "cell_type": "markdown",
   "metadata": {},
   "source": [
    "**bruises** -  bruises=t,no=f\n",
    "\n",
    "**odor** - almond=a,anise=l,creosote=c,fishy=y,foul=f, musty=m,none=n,pungent=p,spicy=s\n",
    "\n",
    "**gill attachment** - attached=a,descending=d,free=f,notched=n"
   ]
  },
  {
   "cell_type": "code",
   "execution_count": 17,
   "metadata": {},
   "outputs": [
    {
     "data": {
      "text/html": [
       "<img src=\"gillattachment.gif\"/>"
      ],
      "text/plain": [
       "<IPython.core.display.Image object>"
      ]
     },
     "execution_count": 17,
     "metadata": {},
     "output_type": "execute_result"
    }
   ],
   "source": [
    "## Pictures of different gill attachments of mushrooms\n",
    "## Adanate, Adbexed are attached\n",
    "## Decurrent is Descending \n",
    "## Sinuate is notched\n",
    "from IPython.display import Image\n",
    "img = 'gillattachment.gif'\n",
    "Image(url=img)"
   ]
  },
  {
   "cell_type": "markdown",
   "metadata": {},
   "source": [
    "**gill spacing** - close=c,crowded=w,distant=d"
   ]
  },
  {
   "cell_type": "code",
   "execution_count": 22,
   "metadata": {},
   "outputs": [
    {
     "data": {
      "text/html": [
       "<img src=\"gillspacing.jpg\"/>"
      ],
      "text/plain": [
       "<IPython.core.display.Image object>"
      ]
     },
     "execution_count": 22,
     "metadata": {},
     "output_type": "execute_result"
    }
   ],
   "source": [
    "## Pictures of different gill spacing of mushrooms\n",
    "from IPython.display import Image\n",
    "img = 'gillspacing.jpg'\n",
    "Image(url=img)"
   ]
  },
  {
   "cell_type": "markdown",
   "metadata": {},
   "source": [
    "**gill size** - broad=b,narrow=n"
   ]
  },
  {
   "cell_type": "code",
   "execution_count": 24,
   "metadata": {},
   "outputs": [
    {
     "data": {
      "text/html": [
       "<img src=\"gillsize.jpg\"/>"
      ],
      "text/plain": [
       "<IPython.core.display.Image object>"
      ]
     },
     "execution_count": 24,
     "metadata": {},
     "output_type": "execute_result"
    }
   ],
   "source": [
    "## Pictures of different gill sizes of mushrooms\n",
    "from IPython.display import Image\n",
    "img = 'gillsize.jpg'\n",
    "Image(url=img)"
   ]
  },
  {
   "cell_type": "markdown",
   "metadata": {},
   "source": [
    "**gill color** - black=k,brown=n,buff=b,chocolate=h,gray=g, green=r,orange=o,pink=p,purple=u,red=e, white=w,yellow=y\n",
    "\n",
    "**stalk shape** - enlarging=e,tapering=t"
   ]
  },
  {
   "cell_type": "code",
   "execution_count": 25,
   "metadata": {},
   "outputs": [
    {
     "data": {
      "text/html": [
       "<img src=\"stalkshapes.jpg\"/>"
      ],
      "text/plain": [
       "<IPython.core.display.Image object>"
      ]
     },
     "execution_count": 25,
     "metadata": {},
     "output_type": "execute_result"
    }
   ],
   "source": [
    "## Pictures of different stalk shapes of mushrooms\n",
    "from IPython.display import Image\n",
    "img = 'stalkshapes.jpg'\n",
    "Image(url=img)"
   ]
  },
  {
   "cell_type": "markdown",
   "metadata": {},
   "source": [
    "**stalk root** - bulbous=b,club=c,cup=u,equal=e, rhizomorphs=z,rooted=r,missing=?"
   ]
  },
  {
   "cell_type": "code",
   "execution_count": 26,
   "metadata": {},
   "outputs": [
    {
     "data": {
      "text/html": [
       "<img src=\"stalkrootshapes.jpg\"/>"
      ],
      "text/plain": [
       "<IPython.core.display.Image object>"
      ]
     },
     "execution_count": 26,
     "metadata": {},
     "output_type": "execute_result"
    }
   ],
   "source": [
    "## Pictures of different stalk roots of mushrooms\n",
    "from IPython.display import Image\n",
    "img = 'stalkrootshapes.jpg'\n",
    "Image(url=img)"
   ]
  },
  {
   "cell_type": "markdown",
   "metadata": {},
   "source": [
    "**stalk surface above ring** - fibrous=f,scaly=y,silky=k,smooth=s\n",
    "\n",
    "**stalk surface below ring** - fibrous=f,scaly=y,silky=k,smooth=s"
   ]
  },
  {
   "cell_type": "code",
   "execution_count": 28,
   "metadata": {},
   "outputs": [
    {
     "data": {
      "text/html": [
       "<img src=\"stalksurface.jpg\"/>"
      ],
      "text/plain": [
       "<IPython.core.display.Image object>"
      ]
     },
     "execution_count": 28,
     "metadata": {},
     "output_type": "execute_result"
    }
   ],
   "source": [
    "## Pictures of different stalk surfaces of mushrooms\n",
    "from IPython.display import Image\n",
    "img = 'stalksurface.jpg'\n",
    "Image(url=img)"
   ]
  },
  {
   "cell_type": "markdown",
   "metadata": {},
   "source": [
    "**stalk color above ring** -  brown=n,buff=b,cinnamon=c,gray=g,orange=o, pink=p,red=e,white=w,yellow=y\n",
    "\n",
    "**stalk color below ring** -  brown=n,buff=b,cinnamon=c,gray=g,orange=o, pink=p,red=e,white=w,yellow=y"
   ]
  },
  {
   "cell_type": "markdown",
   "metadata": {},
   "source": [
    "**veil type** - partial=p,universal=u. \n",
    "\n",
    "A partial veil (also called an inner veil, to differentiate it from the \"outer\" veil, or velum) is a temporary structure of tissue found on the fruiting bodies of some basidiomycete fungi, typically agarics. Its role is to isolate and protect the developing spore-producing surface, represented by gills or tubes, found on the lower surface of the cap. A partial veil, in contrast to a universal veil, extends from the stem surface to the cap edge. The partial veil later disintegrates, once the fruiting body has matured and the spores are ready for dispersal. It might then give rise to a stem ring, or fragments attached to the stem or cap edge. According to [this link](https://en.wikipedia.org/wiki/Partial_veil). A universal veil is a temporary membranous tissue that fully envelops immature fruiting bodies of certain gilled mushrooms. According to [this link](https://en.wikipedia.org/wiki/Universal_veil).\n",
    "\n",
    "**veil color** - brown=n,orange=o,white=w,yellow=y\n",
    "\n",
    "**ring number** - none=n,one=o,two=t\n",
    "\n",
    "**ring type** - cobwebby=c,evanescent=e,flaring=f,large=l, none=n,pendant=p,sheathing=s,zone=z"
   ]
  },
  {
   "cell_type": "code",
   "execution_count": 32,
   "metadata": {},
   "outputs": [
    {
     "data": {
      "text/html": [
       "<img src=\"ringtypes.jpg\"/>"
      ],
      "text/plain": [
       "<IPython.core.display.Image object>"
      ]
     },
     "execution_count": 32,
     "metadata": {},
     "output_type": "execute_result"
    }
   ],
   "source": [
    "## Pictures of different ring types of mushrooms\n",
    "from IPython.display import Image\n",
    "img = 'ringtypes.jpg'\n",
    "Image(url=img)"
   ]
  },
  {
   "cell_type": "markdown",
   "metadata": {},
   "source": [
    "**spore print color** - black=k,brown=n,buff=b,chocolate=h,green=r, orange=o,purple=u,white=w,yellow=y\n",
    "\n",
    "**population** -abundant=a,clustered=c,numerous=n, scattered=s,several=v,solitary=y \n",
    "\n",
    "**habitat** - grasses=g,leaves=l,meadows=m,paths=p, urban=u,waste=w,woods=d"
   ]
  },
  {
   "cell_type": "code",
   "execution_count": 30,
   "metadata": {},
   "outputs": [
    {
     "data": {
      "text/html": [
       "<img src=\"mushh.png\"/>"
      ],
      "text/plain": [
       "<IPython.core.display.Image object>"
      ]
     },
     "execution_count": 30,
     "metadata": {},
     "output_type": "execute_result"
    }
   ],
   "source": [
    "## Pictures of different parts of mushrooms\n",
    "from IPython.display import Image\n",
    "img = 'mushh.png'\n",
    "Image(url=img)"
   ]
  },
  {
   "cell_type": "markdown",
   "metadata": {},
   "source": [
    "## Exploratory Data Analysis\n",
    "\n",
    "First I will read the data into python using pandas read xls function. Then I will look for missing and/or invalid data values and perform an exploratory data analysis on my dataset to determine what data need to be prepared for a future machine learning model. "
   ]
  },
  {
   "cell_type": "code",
   "execution_count": 594,
   "metadata": {},
   "outputs": [],
   "source": [
    "#import the file and important packages\n",
    "import matplotlib.pyplot as plt\n",
    "import numpy as np\n",
    "import pandas as pd \n",
    "import seaborn as sns\n",
    "\n",
    "import statsmodels.api as sm\n",
    "\n",
    "import pandas as pd\n",
    "mushroom = pd.read_excel(\"M11_Data.xls\")"
   ]
  },
  {
   "cell_type": "code",
   "execution_count": 595,
   "metadata": {},
   "outputs": [
    {
     "data": {
      "text/html": [
       "<div>\n",
       "<style scoped>\n",
       "    .dataframe tbody tr th:only-of-type {\n",
       "        vertical-align: middle;\n",
       "    }\n",
       "\n",
       "    .dataframe tbody tr th {\n",
       "        vertical-align: top;\n",
       "    }\n",
       "\n",
       "    .dataframe thead th {\n",
       "        text-align: right;\n",
       "    }\n",
       "</style>\n",
       "<table border=\"1\" class=\"dataframe\">\n",
       "  <thead>\n",
       "    <tr style=\"text-align: right;\">\n",
       "      <th></th>\n",
       "      <th>PE</th>\n",
       "      <th>capshape</th>\n",
       "      <th>capsurface</th>\n",
       "      <th>capcolor</th>\n",
       "      <th>bruises</th>\n",
       "      <th>odor</th>\n",
       "      <th>gillattachment</th>\n",
       "      <th>gillspacing</th>\n",
       "      <th>gillsize</th>\n",
       "      <th>gillcolor</th>\n",
       "      <th>...</th>\n",
       "      <th>stalksurfacebelowring</th>\n",
       "      <th>stalkcolorabovering</th>\n",
       "      <th>stalkcolorbelowring</th>\n",
       "      <th>veiltype</th>\n",
       "      <th>veilcolor</th>\n",
       "      <th>ringnumber</th>\n",
       "      <th>ringtype</th>\n",
       "      <th>sporeprintcolor</th>\n",
       "      <th>population</th>\n",
       "      <th>habitat</th>\n",
       "    </tr>\n",
       "  </thead>\n",
       "  <tbody>\n",
       "    <tr>\n",
       "      <th>0</th>\n",
       "      <td>p</td>\n",
       "      <td>x</td>\n",
       "      <td>s</td>\n",
       "      <td>n</td>\n",
       "      <td>t</td>\n",
       "      <td>p</td>\n",
       "      <td>f</td>\n",
       "      <td>c</td>\n",
       "      <td>n</td>\n",
       "      <td>k</td>\n",
       "      <td>...</td>\n",
       "      <td>s</td>\n",
       "      <td>w</td>\n",
       "      <td>w</td>\n",
       "      <td>p</td>\n",
       "      <td>w</td>\n",
       "      <td>o</td>\n",
       "      <td>p</td>\n",
       "      <td>k</td>\n",
       "      <td>s</td>\n",
       "      <td>u</td>\n",
       "    </tr>\n",
       "    <tr>\n",
       "      <th>1</th>\n",
       "      <td>e</td>\n",
       "      <td>x</td>\n",
       "      <td>s</td>\n",
       "      <td>y</td>\n",
       "      <td>t</td>\n",
       "      <td>a</td>\n",
       "      <td>f</td>\n",
       "      <td>c</td>\n",
       "      <td>b</td>\n",
       "      <td>k</td>\n",
       "      <td>...</td>\n",
       "      <td>s</td>\n",
       "      <td>w</td>\n",
       "      <td>w</td>\n",
       "      <td>p</td>\n",
       "      <td>w</td>\n",
       "      <td>o</td>\n",
       "      <td>p</td>\n",
       "      <td>n</td>\n",
       "      <td>n</td>\n",
       "      <td>g</td>\n",
       "    </tr>\n",
       "    <tr>\n",
       "      <th>2</th>\n",
       "      <td>e</td>\n",
       "      <td>b</td>\n",
       "      <td>s</td>\n",
       "      <td>w</td>\n",
       "      <td>t</td>\n",
       "      <td>l</td>\n",
       "      <td>f</td>\n",
       "      <td>c</td>\n",
       "      <td>b</td>\n",
       "      <td>n</td>\n",
       "      <td>...</td>\n",
       "      <td>s</td>\n",
       "      <td>w</td>\n",
       "      <td>w</td>\n",
       "      <td>p</td>\n",
       "      <td>w</td>\n",
       "      <td>o</td>\n",
       "      <td>p</td>\n",
       "      <td>n</td>\n",
       "      <td>n</td>\n",
       "      <td>m</td>\n",
       "    </tr>\n",
       "    <tr>\n",
       "      <th>3</th>\n",
       "      <td>p</td>\n",
       "      <td>x</td>\n",
       "      <td>y</td>\n",
       "      <td>w</td>\n",
       "      <td>t</td>\n",
       "      <td>p</td>\n",
       "      <td>f</td>\n",
       "      <td>c</td>\n",
       "      <td>n</td>\n",
       "      <td>n</td>\n",
       "      <td>...</td>\n",
       "      <td>s</td>\n",
       "      <td>w</td>\n",
       "      <td>w</td>\n",
       "      <td>p</td>\n",
       "      <td>w</td>\n",
       "      <td>o</td>\n",
       "      <td>p</td>\n",
       "      <td>k</td>\n",
       "      <td>s</td>\n",
       "      <td>u</td>\n",
       "    </tr>\n",
       "    <tr>\n",
       "      <th>4</th>\n",
       "      <td>e</td>\n",
       "      <td>x</td>\n",
       "      <td>s</td>\n",
       "      <td>g</td>\n",
       "      <td>f</td>\n",
       "      <td>n</td>\n",
       "      <td>f</td>\n",
       "      <td>w</td>\n",
       "      <td>b</td>\n",
       "      <td>k</td>\n",
       "      <td>...</td>\n",
       "      <td>s</td>\n",
       "      <td>w</td>\n",
       "      <td>w</td>\n",
       "      <td>p</td>\n",
       "      <td>w</td>\n",
       "      <td>o</td>\n",
       "      <td>e</td>\n",
       "      <td>n</td>\n",
       "      <td>a</td>\n",
       "      <td>g</td>\n",
       "    </tr>\n",
       "  </tbody>\n",
       "</table>\n",
       "<p>5 rows × 23 columns</p>\n",
       "</div>"
      ],
      "text/plain": [
       "  PE capshape capsurface capcolor bruises odor gillattachment gillspacing  \\\n",
       "0  p        x          s        n       t    p              f           c   \n",
       "1  e        x          s        y       t    a              f           c   \n",
       "2  e        b          s        w       t    l              f           c   \n",
       "3  p        x          y        w       t    p              f           c   \n",
       "4  e        x          s        g       f    n              f           w   \n",
       "\n",
       "  gillsize gillcolor  ... stalksurfacebelowring stalkcolorabovering  \\\n",
       "0        n         k  ...                     s                   w   \n",
       "1        b         k  ...                     s                   w   \n",
       "2        b         n  ...                     s                   w   \n",
       "3        n         n  ...                     s                   w   \n",
       "4        b         k  ...                     s                   w   \n",
       "\n",
       "  stalkcolorbelowring veiltype veilcolor ringnumber ringtype sporeprintcolor  \\\n",
       "0                   w        p         w          o        p               k   \n",
       "1                   w        p         w          o        p               n   \n",
       "2                   w        p         w          o        p               n   \n",
       "3                   w        p         w          o        p               k   \n",
       "4                   w        p         w          o        e               n   \n",
       "\n",
       "  population habitat  \n",
       "0          s       u  \n",
       "1          n       g  \n",
       "2          n       m  \n",
       "3          s       u  \n",
       "4          a       g  \n",
       "\n",
       "[5 rows x 23 columns]"
      ]
     },
     "execution_count": 595,
     "metadata": {},
     "output_type": "execute_result"
    }
   ],
   "source": [
    "#check results\n",
    "mushroom.head()"
   ]
  },
  {
   "cell_type": "code",
   "execution_count": 596,
   "metadata": {},
   "outputs": [
    {
     "data": {
      "text/plain": [
       "PE                       0\n",
       "capshape                 0\n",
       "capsurface               0\n",
       "capcolor                 0\n",
       "bruises                  0\n",
       "odor                     0\n",
       "gillattachment           0\n",
       "gillspacing              0\n",
       "gillsize                 0\n",
       "gillcolor                0\n",
       "stalkshape               0\n",
       "stalkroot                0\n",
       "stalksurfaceabovering    0\n",
       "stalksurfacebelowring    0\n",
       "stalkcolorabovering      0\n",
       "stalkcolorbelowring      0\n",
       "veiltype                 0\n",
       "veilcolor                0\n",
       "ringnumber               0\n",
       "ringtype                 0\n",
       "sporeprintcolor          0\n",
       "population               0\n",
       "habitat                  0\n",
       "dtype: int64"
      ]
     },
     "execution_count": 596,
     "metadata": {},
     "output_type": "execute_result"
    }
   ],
   "source": [
    "# check the dataset for null values\n",
    "mushroom.isnull().sum()"
   ]
  },
  {
   "cell_type": "markdown",
   "metadata": {},
   "source": [
    "There are no missing values in the dataset."
   ]
  },
  {
   "cell_type": "code",
   "execution_count": 597,
   "metadata": {},
   "outputs": [
    {
     "data": {
      "text/html": [
       "<div>\n",
       "<style scoped>\n",
       "    .dataframe tbody tr th:only-of-type {\n",
       "        vertical-align: middle;\n",
       "    }\n",
       "\n",
       "    .dataframe tbody tr th {\n",
       "        vertical-align: top;\n",
       "    }\n",
       "\n",
       "    .dataframe thead th {\n",
       "        text-align: right;\n",
       "    }\n",
       "</style>\n",
       "<table border=\"1\" class=\"dataframe\">\n",
       "  <thead>\n",
       "    <tr style=\"text-align: right;\">\n",
       "      <th></th>\n",
       "      <th>PE</th>\n",
       "      <th>capshape</th>\n",
       "      <th>capsurface</th>\n",
       "      <th>capcolor</th>\n",
       "      <th>bruises</th>\n",
       "      <th>odor</th>\n",
       "      <th>gillattachment</th>\n",
       "      <th>gillspacing</th>\n",
       "      <th>gillsize</th>\n",
       "      <th>gillcolor</th>\n",
       "      <th>...</th>\n",
       "      <th>stalksurfacebelowring</th>\n",
       "      <th>stalkcolorabovering</th>\n",
       "      <th>stalkcolorbelowring</th>\n",
       "      <th>veiltype</th>\n",
       "      <th>veilcolor</th>\n",
       "      <th>ringnumber</th>\n",
       "      <th>ringtype</th>\n",
       "      <th>sporeprintcolor</th>\n",
       "      <th>population</th>\n",
       "      <th>habitat</th>\n",
       "    </tr>\n",
       "  </thead>\n",
       "  <tbody>\n",
       "    <tr>\n",
       "      <th>count</th>\n",
       "      <td>8124</td>\n",
       "      <td>8124</td>\n",
       "      <td>8124</td>\n",
       "      <td>8124</td>\n",
       "      <td>8124</td>\n",
       "      <td>8124</td>\n",
       "      <td>8124</td>\n",
       "      <td>8124</td>\n",
       "      <td>8124</td>\n",
       "      <td>8124</td>\n",
       "      <td>...</td>\n",
       "      <td>8124</td>\n",
       "      <td>8124</td>\n",
       "      <td>8124</td>\n",
       "      <td>8124</td>\n",
       "      <td>8124</td>\n",
       "      <td>8124</td>\n",
       "      <td>8124</td>\n",
       "      <td>8124</td>\n",
       "      <td>8124</td>\n",
       "      <td>8124</td>\n",
       "    </tr>\n",
       "    <tr>\n",
       "      <th>unique</th>\n",
       "      <td>2</td>\n",
       "      <td>6</td>\n",
       "      <td>4</td>\n",
       "      <td>10</td>\n",
       "      <td>2</td>\n",
       "      <td>9</td>\n",
       "      <td>2</td>\n",
       "      <td>2</td>\n",
       "      <td>2</td>\n",
       "      <td>12</td>\n",
       "      <td>...</td>\n",
       "      <td>4</td>\n",
       "      <td>9</td>\n",
       "      <td>9</td>\n",
       "      <td>1</td>\n",
       "      <td>4</td>\n",
       "      <td>3</td>\n",
       "      <td>5</td>\n",
       "      <td>9</td>\n",
       "      <td>6</td>\n",
       "      <td>7</td>\n",
       "    </tr>\n",
       "    <tr>\n",
       "      <th>top</th>\n",
       "      <td>e</td>\n",
       "      <td>x</td>\n",
       "      <td>y</td>\n",
       "      <td>n</td>\n",
       "      <td>f</td>\n",
       "      <td>n</td>\n",
       "      <td>f</td>\n",
       "      <td>c</td>\n",
       "      <td>b</td>\n",
       "      <td>b</td>\n",
       "      <td>...</td>\n",
       "      <td>s</td>\n",
       "      <td>w</td>\n",
       "      <td>w</td>\n",
       "      <td>p</td>\n",
       "      <td>w</td>\n",
       "      <td>o</td>\n",
       "      <td>p</td>\n",
       "      <td>w</td>\n",
       "      <td>v</td>\n",
       "      <td>d</td>\n",
       "    </tr>\n",
       "    <tr>\n",
       "      <th>freq</th>\n",
       "      <td>4208</td>\n",
       "      <td>3656</td>\n",
       "      <td>3244</td>\n",
       "      <td>2284</td>\n",
       "      <td>4748</td>\n",
       "      <td>3528</td>\n",
       "      <td>7914</td>\n",
       "      <td>6812</td>\n",
       "      <td>5612</td>\n",
       "      <td>1728</td>\n",
       "      <td>...</td>\n",
       "      <td>4936</td>\n",
       "      <td>4464</td>\n",
       "      <td>4384</td>\n",
       "      <td>8124</td>\n",
       "      <td>7924</td>\n",
       "      <td>7488</td>\n",
       "      <td>3968</td>\n",
       "      <td>2388</td>\n",
       "      <td>4040</td>\n",
       "      <td>3148</td>\n",
       "    </tr>\n",
       "  </tbody>\n",
       "</table>\n",
       "<p>4 rows × 23 columns</p>\n",
       "</div>"
      ],
      "text/plain": [
       "          PE capshape capsurface capcolor bruises  odor gillattachment  \\\n",
       "count   8124     8124       8124     8124    8124  8124           8124   \n",
       "unique     2        6          4       10       2     9              2   \n",
       "top        e        x          y        n       f     n              f   \n",
       "freq    4208     3656       3244     2284    4748  3528           7914   \n",
       "\n",
       "       gillspacing gillsize gillcolor  ... stalksurfacebelowring  \\\n",
       "count         8124     8124      8124  ...                  8124   \n",
       "unique           2        2        12  ...                     4   \n",
       "top              c        b         b  ...                     s   \n",
       "freq          6812     5612      1728  ...                  4936   \n",
       "\n",
       "       stalkcolorabovering stalkcolorbelowring veiltype veilcolor ringnumber  \\\n",
       "count                 8124                8124     8124      8124       8124   \n",
       "unique                   9                   9        1         4          3   \n",
       "top                      w                   w        p         w          o   \n",
       "freq                  4464                4384     8124      7924       7488   \n",
       "\n",
       "       ringtype sporeprintcolor population habitat  \n",
       "count      8124            8124       8124    8124  \n",
       "unique        5               9          6       7  \n",
       "top           p               w          v       d  \n",
       "freq       3968            2388       4040    3148  \n",
       "\n",
       "[4 rows x 23 columns]"
      ]
     },
     "execution_count": 597,
     "metadata": {},
     "output_type": "execute_result"
    }
   ],
   "source": [
    "#get summary statistics for each variable, including mean, standard deviation, median, quartiles, and range\n",
    "mushroom.describe()"
   ]
  },
  {
   "cell_type": "markdown",
   "metadata": {},
   "source": [
    "I see from above that most mushrooms in the dataset are edible, convex cap, scaly cap, cinnamon cap, without bruises, with no odor, free gill attachment, close gill spacing, broad gill size, buff gill color, the stalk surface below ring is smooth, the stalk color above ring is white, the stalk color below ring is white, partial veil type, white veil color, with one ring, with pendant ring type, spore print color is white, with several population, living in woods. Something similar like that with background to woods:"
   ]
  },
  {
   "cell_type": "code",
   "execution_count": 598,
   "metadata": {},
   "outputs": [
    {
     "data": {
      "text/html": [
       "<img src=\"images.jpeg\"/>"
      ],
      "text/plain": [
       "<IPython.core.display.Image object>"
      ]
     },
     "execution_count": 598,
     "metadata": {},
     "output_type": "execute_result"
    }
   ],
   "source": [
    "## Pictures of most mushrooms\n",
    "from IPython.display import Image\n",
    "img = 'images.jpeg'\n",
    "Image(url=img)"
   ]
  },
  {
   "cell_type": "markdown",
   "metadata": {},
   "source": [
    "Now I will investigate further to see if there are missing values which appear in form of strings, to do this, I will check the types of the data:"
   ]
  },
  {
   "cell_type": "code",
   "execution_count": 599,
   "metadata": {},
   "outputs": [
    {
     "data": {
      "text/plain": [
       "PE                       object\n",
       "capshape                 object\n",
       "capsurface               object\n",
       "capcolor                 object\n",
       "bruises                  object\n",
       "odor                     object\n",
       "gillattachment           object\n",
       "gillspacing              object\n",
       "gillsize                 object\n",
       "gillcolor                object\n",
       "stalkshape               object\n",
       "stalkroot                object\n",
       "stalksurfaceabovering    object\n",
       "stalksurfacebelowring    object\n",
       "stalkcolorabovering      object\n",
       "stalkcolorbelowring      object\n",
       "veiltype                 object\n",
       "veilcolor                object\n",
       "ringnumber               object\n",
       "ringtype                 object\n",
       "sporeprintcolor          object\n",
       "population               object\n",
       "habitat                  object\n",
       "dtype: object"
      ]
     },
     "execution_count": 599,
     "metadata": {},
     "output_type": "execute_result"
    }
   ],
   "source": [
    "#check the types of data \n",
    "mushroom.dtypes"
   ]
  },
  {
   "cell_type": "markdown",
   "metadata": {},
   "source": [
    "All the data are types of objects, then I will check whether there is \"?\" or \"na\" in dataset:"
   ]
  },
  {
   "cell_type": "code",
   "execution_count": 600,
   "metadata": {},
   "outputs": [
    {
     "name": "stdout",
     "output_type": "stream",
     "text": [
      "PE:\n",
      "\n",
      "['p', 'e']\n",
      "\n",
      "\n",
      "capshape:\n",
      "\n",
      "['x', 'b', 's', 'f', 'k', 'c']\n",
      "\n",
      "\n",
      "capsurface:\n",
      "\n",
      "['s', 'y', 'f', 'g']\n",
      "\n",
      "\n",
      "capcolor:\n",
      "\n",
      "['n', 'y', 'w', 'g', 'e', 'p', 'b', 'u', 'c', 'r']\n",
      "\n",
      "\n",
      "bruises:\n",
      "\n",
      "['t', 'f']\n",
      "\n",
      "\n",
      "odor:\n",
      "\n",
      "['p', 'a', 'l', 'n', 'f', 'c', 'y', 's', 'm']\n",
      "\n",
      "\n",
      "gillattachment:\n",
      "\n",
      "['f', 'a']\n",
      "\n",
      "\n",
      "gillspacing:\n",
      "\n",
      "['c', 'w']\n",
      "\n",
      "\n",
      "gillsize:\n",
      "\n",
      "['n', 'b']\n",
      "\n",
      "\n",
      "gillcolor:\n",
      "\n",
      "['k', 'n', 'g', 'p', 'w', 'h', 'u', 'e', 'b', 'r', 'y', 'o']\n",
      "\n",
      "\n",
      "stalkshape:\n",
      "\n",
      "['e', 't']\n",
      "\n",
      "\n",
      "stalkroot:\n",
      "\n",
      "['e', 'c', 'b', 'r', '?']\n",
      "\n",
      "\n",
      "stalksurfaceabovering:\n",
      "\n",
      "['s', 'f', 'k', 'y']\n",
      "\n",
      "\n",
      "stalksurfacebelowring:\n",
      "\n",
      "['s', 'f', 'y', 'k']\n",
      "\n",
      "\n",
      "stalkcolorabovering:\n",
      "\n",
      "['w', 'g', 'p', 'n', 'b', 'e', 'o', 'c', 'y']\n",
      "\n",
      "\n",
      "stalkcolorbelowring:\n",
      "\n",
      "['w', 'p', 'g', 'b', 'n', 'e', 'y', 'o', 'c']\n",
      "\n",
      "\n",
      "veiltype:\n",
      "\n",
      "['p']\n",
      "\n",
      "\n",
      "veilcolor:\n",
      "\n",
      "['w', 'n', 'o', 'y']\n",
      "\n",
      "\n",
      "ringnumber:\n",
      "\n",
      "['o', 't', 'n']\n",
      "\n",
      "\n",
      "ringtype:\n",
      "\n",
      "['p', 'e', 'l', 'f', 'n']\n",
      "\n",
      "\n",
      "sporeprintcolor:\n",
      "\n",
      "['k', 'n', 'u', 'h', 'w', 'r', 'o', 'y', 'b']\n",
      "\n",
      "\n",
      "population:\n",
      "\n",
      "['s', 'n', 'a', 'v', 'y', 'c']\n",
      "\n",
      "\n",
      "habitat:\n",
      "\n",
      "['u', 'g', 'm', 'd', 'p', 'w', 'l']\n",
      "\n",
      "\n"
     ]
    }
   ],
   "source": [
    "#Check whether there are mistakes and omissions on categorical variables.\n",
    "classes = ['PE','capshape','capsurface','capcolor','bruises','odor',\n",
    "           'gillattachment','gillspacing','gillsize','gillcolor',\n",
    "          'stalkshape','stalkroot','stalksurfaceabovering','stalksurfacebelowring',\n",
    "          'stalkcolorabovering','stalkcolorbelowring','veiltype','veilcolor','ringnumber','ringtype',\n",
    "          'sporeprintcolor','population','habitat']\n",
    "\n",
    "for each in classes:\n",
    "    print(each + ':\\n')\n",
    "    print(list(mushroom[each].drop_duplicates()))\n",
    "    print('\\n')"
   ]
  },
  {
   "cell_type": "markdown",
   "metadata": {},
   "source": [
    "From above, I found the columns do not have unusual symbols except the column 'stalkroot' has \"?\".\n",
    "\n",
    "Also, veil type has only one value, I will drop this variable from analysis because it does not provide any information."
   ]
  },
  {
   "cell_type": "code",
   "execution_count": 601,
   "metadata": {},
   "outputs": [],
   "source": [
    "## Drop the column veil type from the dataset\n",
    "mushroom = mushroom.drop('veiltype', axis=1)"
   ]
  },
  {
   "cell_type": "markdown",
   "metadata": {},
   "source": [
    "Next I will look at the distributions of our data to identify the shape of the distribution。"
   ]
  },
  {
   "cell_type": "code",
   "execution_count": 602,
   "metadata": {},
   "outputs": [
    {
     "data": {
      "image/png": "[encoded data removed]",
      "text/plain": [
       "<Figure size 1440x1800 with 22 Axes>"
      ]
     },
     "metadata": {
      "needs_background": "light"
     },
     "output_type": "display_data"
    }
   ],
   "source": [
    "#define a figure to which we will add a histogram for each of our attributes\n",
    "plt.figure(figsize=(20,25))\n",
    "\n",
    "#ignore warnings\n",
    "np.warnings.filterwarnings('ignore')\n",
    "\n",
    "#use an index to identify the spot of the subplot\n",
    "j=1\n",
    "columns=mushroom.columns.tolist()\n",
    "for k in columns[0:] :    \n",
    "    plt.subplot(5,5,j) \n",
    "    plt.hist(mushroom[k])\n",
    "    plt.title('%s' %k)\n",
    "    j=j+1 #add 1 to go to the next subplot space\n",
    "\n",
    "#show results    \n",
    "plt.show()"
   ]
  },
  {
   "cell_type": "markdown",
   "metadata": {},
   "source": [
    "From the above I could see that cap surface is almost normally distributed, stalk color above ring, stalk color below ring and ring tyoe are almost skewed distributed.\n",
    "\n",
    "For the target attribute 'veil color', the color white occupies the large proportion of veil color, while the color brown, orange and yellow occupy very small proportion of the veil color, which means the data is imbalanced. For the imbalanced issue, I would further demonstrate what I would do in the following section.\n",
    "\n",
    "Next, I will try to deal with \"?\" in stalk root attribute, first, let's see how many \"?\" exist in stalk root attribute:"
   ]
  },
  {
   "cell_type": "code",
   "execution_count": 603,
   "metadata": {},
   "outputs": [
    {
     "name": "stdout",
     "output_type": "stream",
     "text": [
      "\n",
      "Values classified as 'Missing' for stalk-root:  2480\n"
     ]
    }
   ],
   "source": [
    "print('\\nValues classified as \\'Missing\\' for stalk-root: ', (mushroom.iloc[:,11] == '?').sum())"
   ]
  },
  {
   "cell_type": "code",
   "execution_count": 604,
   "metadata": {},
   "outputs": [
    {
     "data": {
      "text/plain": [
       "b    3776\n",
       "?    2480\n",
       "e    1120\n",
       "c     556\n",
       "r     192\n",
       "Name: stalkroot, dtype: int64"
      ]
     },
     "execution_count": 604,
     "metadata": {},
     "output_type": "execute_result"
    }
   ],
   "source": [
    "#look at proportion of '?' values in the datset\n",
    "mushroom['stalkroot'].value_counts() "
   ]
  },
  {
   "cell_type": "markdown",
   "metadata": {},
   "source": [
    "There are (3776+2480+1120+556+192) = 8124 elements in column \"stalkcolor\", and 2480 of them are missing values, the missing values occupy 2480/8124 = 30.53% of the whole, which is not negligible, so it is not appropriate to delete rows which contain the missing values.\n",
    "\n",
    "Due to a large number of missing values in stalk-root, this feature has to be removed. "
   ]
  },
  {
   "cell_type": "code",
   "execution_count": 605,
   "metadata": {},
   "outputs": [],
   "source": [
    "## Drop the column stalk root from the dataset\n",
    "mushroom = mushroom.drop('stalkroot', axis=1)"
   ]
  },
  {
   "cell_type": "markdown",
   "metadata": {},
   "source": [
    "Extract the dependent variables out of the data set for further analysis:"
   ]
  },
  {
   "cell_type": "code",
   "execution_count": 606,
   "metadata": {},
   "outputs": [],
   "source": [
    "mushroom2 = mushroom.copy()\n",
    "## Extract the target column\n",
    "mushroom3 = mushroom2.loc[:, mushroom2.columns != 'veilcolor']"
   ]
  },
  {
   "cell_type": "markdown",
   "metadata": {},
   "source": [
    "For further analysis, The rest of the features and the target would be converted to dummies taking values of 0 and 1:"
   ]
  },
  {
   "cell_type": "code",
   "execution_count": 607,
   "metadata": {},
   "outputs": [],
   "source": [
    "mushroom3 = pd.get_dummies(mushroom3)"
   ]
  },
  {
   "cell_type": "code",
   "execution_count": 608,
   "metadata": {},
   "outputs": [
    {
     "data": {
      "text/html": [
       "<div>\n",
       "<style scoped>\n",
       "    .dataframe tbody tr th:only-of-type {\n",
       "        vertical-align: middle;\n",
       "    }\n",
       "\n",
       "    .dataframe tbody tr th {\n",
       "        vertical-align: top;\n",
       "    }\n",
       "\n",
       "    .dataframe thead th {\n",
       "        text-align: right;\n",
       "    }\n",
       "</style>\n",
       "<table border=\"1\" class=\"dataframe\">\n",
       "  <thead>\n",
       "    <tr style=\"text-align: right;\">\n",
       "      <th></th>\n",
       "      <th>PE_e</th>\n",
       "      <th>PE_p</th>\n",
       "      <th>capshape_b</th>\n",
       "      <th>capshape_c</th>\n",
       "      <th>capshape_f</th>\n",
       "      <th>capshape_k</th>\n",
       "      <th>capshape_s</th>\n",
       "      <th>capshape_x</th>\n",
       "      <th>capsurface_f</th>\n",
       "      <th>capsurface_g</th>\n",
       "      <th>...</th>\n",
       "      <th>population_s</th>\n",
       "      <th>population_v</th>\n",
       "      <th>population_y</th>\n",
       "      <th>habitat_d</th>\n",
       "      <th>habitat_g</th>\n",
       "      <th>habitat_l</th>\n",
       "      <th>habitat_m</th>\n",
       "      <th>habitat_p</th>\n",
       "      <th>habitat_u</th>\n",
       "      <th>habitat_w</th>\n",
       "    </tr>\n",
       "  </thead>\n",
       "  <tbody>\n",
       "    <tr>\n",
       "      <th>0</th>\n",
       "      <td>0</td>\n",
       "      <td>1</td>\n",
       "      <td>0</td>\n",
       "      <td>0</td>\n",
       "      <td>0</td>\n",
       "      <td>0</td>\n",
       "      <td>0</td>\n",
       "      <td>1</td>\n",
       "      <td>0</td>\n",
       "      <td>0</td>\n",
       "      <td>...</td>\n",
       "      <td>1</td>\n",
       "      <td>0</td>\n",
       "      <td>0</td>\n",
       "      <td>0</td>\n",
       "      <td>0</td>\n",
       "      <td>0</td>\n",
       "      <td>0</td>\n",
       "      <td>0</td>\n",
       "      <td>1</td>\n",
       "      <td>0</td>\n",
       "    </tr>\n",
       "    <tr>\n",
       "      <th>1</th>\n",
       "      <td>1</td>\n",
       "      <td>0</td>\n",
       "      <td>0</td>\n",
       "      <td>0</td>\n",
       "      <td>0</td>\n",
       "      <td>0</td>\n",
       "      <td>0</td>\n",
       "      <td>1</td>\n",
       "      <td>0</td>\n",
       "      <td>0</td>\n",
       "      <td>...</td>\n",
       "      <td>0</td>\n",
       "      <td>0</td>\n",
       "      <td>0</td>\n",
       "      <td>0</td>\n",
       "      <td>1</td>\n",
       "      <td>0</td>\n",
       "      <td>0</td>\n",
       "      <td>0</td>\n",
       "      <td>0</td>\n",
       "      <td>0</td>\n",
       "    </tr>\n",
       "    <tr>\n",
       "      <th>2</th>\n",
       "      <td>1</td>\n",
       "      <td>0</td>\n",
       "      <td>1</td>\n",
       "      <td>0</td>\n",
       "      <td>0</td>\n",
       "      <td>0</td>\n",
       "      <td>0</td>\n",
       "      <td>0</td>\n",
       "      <td>0</td>\n",
       "      <td>0</td>\n",
       "      <td>...</td>\n",
       "      <td>0</td>\n",
       "      <td>0</td>\n",
       "      <td>0</td>\n",
       "      <td>0</td>\n",
       "      <td>0</td>\n",
       "      <td>0</td>\n",
       "      <td>1</td>\n",
       "      <td>0</td>\n",
       "      <td>0</td>\n",
       "      <td>0</td>\n",
       "    </tr>\n",
       "    <tr>\n",
       "      <th>3</th>\n",
       "      <td>0</td>\n",
       "      <td>1</td>\n",
       "      <td>0</td>\n",
       "      <td>0</td>\n",
       "      <td>0</td>\n",
       "      <td>0</td>\n",
       "      <td>0</td>\n",
       "      <td>1</td>\n",
       "      <td>0</td>\n",
       "      <td>0</td>\n",
       "      <td>...</td>\n",
       "      <td>1</td>\n",
       "      <td>0</td>\n",
       "      <td>0</td>\n",
       "      <td>0</td>\n",
       "      <td>0</td>\n",
       "      <td>0</td>\n",
       "      <td>0</td>\n",
       "      <td>0</td>\n",
       "      <td>1</td>\n",
       "      <td>0</td>\n",
       "    </tr>\n",
       "    <tr>\n",
       "      <th>4</th>\n",
       "      <td>1</td>\n",
       "      <td>0</td>\n",
       "      <td>0</td>\n",
       "      <td>0</td>\n",
       "      <td>0</td>\n",
       "      <td>0</td>\n",
       "      <td>0</td>\n",
       "      <td>1</td>\n",
       "      <td>0</td>\n",
       "      <td>0</td>\n",
       "      <td>...</td>\n",
       "      <td>0</td>\n",
       "      <td>0</td>\n",
       "      <td>0</td>\n",
       "      <td>0</td>\n",
       "      <td>1</td>\n",
       "      <td>0</td>\n",
       "      <td>0</td>\n",
       "      <td>0</td>\n",
       "      <td>0</td>\n",
       "      <td>0</td>\n",
       "    </tr>\n",
       "  </tbody>\n",
       "</table>\n",
       "<p>5 rows × 109 columns</p>\n",
       "</div>"
      ],
      "text/plain": [
       "   PE_e  PE_p  capshape_b  capshape_c  capshape_f  capshape_k  capshape_s  \\\n",
       "0     0     1           0           0           0           0           0   \n",
       "1     1     0           0           0           0           0           0   \n",
       "2     1     0           1           0           0           0           0   \n",
       "3     0     1           0           0           0           0           0   \n",
       "4     1     0           0           0           0           0           0   \n",
       "\n",
       "   capshape_x  capsurface_f  capsurface_g  ...  population_s  population_v  \\\n",
       "0           1             0             0  ...             1             0   \n",
       "1           1             0             0  ...             0             0   \n",
       "2           0             0             0  ...             0             0   \n",
       "3           1             0             0  ...             1             0   \n",
       "4           1             0             0  ...             0             0   \n",
       "\n",
       "   population_y  habitat_d  habitat_g  habitat_l  habitat_m  habitat_p  \\\n",
       "0             0          0          0          0          0          0   \n",
       "1             0          0          1          0          0          0   \n",
       "2             0          0          0          0          1          0   \n",
       "3             0          0          0          0          0          0   \n",
       "4             0          0          1          0          0          0   \n",
       "\n",
       "   habitat_u  habitat_w  \n",
       "0          1          0  \n",
       "1          0          0  \n",
       "2          0          0  \n",
       "3          1          0  \n",
       "4          0          0  \n",
       "\n",
       "[5 rows x 109 columns]"
      ]
     },
     "execution_count": 608,
     "metadata": {},
     "output_type": "execute_result"
    }
   ],
   "source": [
    "## Check the result of conversion:\n",
    "mushroom3.head()"
   ]
  },
  {
   "cell_type": "markdown",
   "metadata": {},
   "source": [
    "Next step, I will remove uninformative features (either all values are 1, or all values are 0) from the data set:"
   ]
  },
  {
   "cell_type": "code",
   "execution_count": 609,
   "metadata": {},
   "outputs": [],
   "source": [
    "# Remove uninformative features (either all values are 1, or all values are 0)\n",
    "mushroom3 = mushroom3[(mushroom3.columns[mushroom3.mean() != 1]) & (mushroom3.columns[mushroom3.mean() != 0])]"
   ]
  },
  {
   "cell_type": "markdown",
   "metadata": {},
   "source": [
    "Check what is the summary statistics of the data set after converting the features to dummies:"
   ]
  },
  {
   "cell_type": "code",
   "execution_count": 610,
   "metadata": {},
   "outputs": [
    {
     "name": "stdout",
     "output_type": "stream",
     "text": [
      "\n",
      "Number of samples:  8124\n",
      "Number of attributes:  109\n",
      "\n",
      "Remaining missing values across all attributes and samples:  0\n",
      "\n",
      "Minimum value across all attributes and samples:  0\n",
      "Maximum value across all attributes and samples:  1\n",
      "\n",
      "Minimum fraction of '1'-s across all attributes: 0.00049\n",
      "Maximum fraction of '1'-s across all attributes: 0.97415\n"
     ]
    }
   ],
   "source": [
    "# Output summary statistics after converting the features to dummies\n",
    "\n",
    "print('\\nNumber of samples: ', mushroom3.shape[0])\n",
    "print('Number of attributes: ', mushroom3.shape[1])\n",
    "\n",
    "print('\\nRemaining missing values across all attributes and samples: ', mushroom3.isnull().sum().sum())\n",
    "\n",
    "print('\\nMinimum value across all attributes and samples: ', mushroom3.min().min())\n",
    "print('Maximum value across all attributes and samples: ', mushroom3.max().max())\n",
    "\n",
    "print('\\nMinimum fraction of \\'1\\'-s across all attributes: {:.5f}'.format(mushroom3.mean().min()))\n",
    "print('Maximum fraction of \\'1\\'-s across all attributes: {:.5f}'.format(mushroom3.mean().max()))"
   ]
  },
  {
   "cell_type": "markdown",
   "metadata": {},
   "source": [
    "## Creating the dependent variable class\n",
    "\n",
    "I have to convert species column values from ['w','n','o','y'] to [0,1,2,3]. This is an essential step as the scikit-learn's Random Forest can't predict text — it can only predict numbers.\n",
    "\n",
    "Also, I need to store the factor conversions to remember what number is substituting the text.\n",
    "The code below will perform the following:\n",
    "\n",
    "Use pandas factorize function to factorize the veil color column in the dataset. This will create both factors and the definitions for the factors.\n",
    "Store the factorized column as veilcolor.\n",
    "Store the definitions for the factors.\n",
    "Show the first five rows for the species column and the defintions array:"
   ]
  },
  {
   "cell_type": "code",
   "execution_count": 611,
   "metadata": {},
   "outputs": [
    {
     "name": "stdout",
     "output_type": "stream",
     "text": [
      "0    0\n",
      "1    0\n",
      "2    0\n",
      "3    0\n",
      "4    0\n",
      "Name: veilcolor, dtype: int64\n",
      "Index(['w', 'n', 'o', 'y'], dtype='object')\n"
     ]
    }
   ],
   "source": [
    "#Creating the dependent variable class\n",
    "factor = pd.factorize(mushroom2['veilcolor'])\n",
    "mushroom2.veilcolor = factor[0]\n",
    "definitions = factor[1]\n",
    "print(mushroom2.veilcolor.head())\n",
    "print(definitions)"
   ]
  },
  {
   "cell_type": "markdown",
   "metadata": {},
   "source": [
    "## Dimension Reduction 1: Principal component analysis (PCA) \n",
    "\n",
    "There are too many attributes after converting the features to dummies, therefore, I decide to use PCA method to reduce the dimension.\n",
    "\n",
    "I partition the data into training and test sets and reduce the dimensionality of the feature space from 109 attributes to two principal components. The plot of the target as a function of the principal components for the training data is presented in the following section.\n",
    "\n",
    "Scaling of features is not necessary in this analysis, because all the features are dummy variables that take values of either 0 or 1.\n",
    "\n",
    "PCA was fitted using the training data rather than the entire dataset in order to prevent leakage from the training data to the test data."
   ]
  },
  {
   "cell_type": "code",
   "execution_count": 612,
   "metadata": {},
   "outputs": [],
   "source": [
    "from sklearn.model_selection import train_test_split\n",
    "from sklearn.decomposition import PCA\n",
    "X = mushroom3\n",
    "y = mushroom2.veilcolor         \n",
    "\n",
    "# Partition data into training and test sets\n",
    "X_train, X_test, y_train, y_test = train_test_split(X, y, test_size = 0.2, random_state = 10)\n",
    "\n",
    "# Reduce dimensionality of the features from 113 to two principal components\n",
    "pca = PCA(n_components=2).fit(X_train)\n",
    "\n",
    "X_train = pca.transform(X_train)\n",
    "X_test = pca.transform(X_test)\n",
    "\n",
    "X = pca.transform(X)"
   ]
  },
  {
   "cell_type": "markdown",
   "metadata": {},
   "source": [
    "## Decision Tree Model's Fitting on data after converting to PCA\n",
    "Decision Tree classifier is fitted to the training data as shown in the code below. The performance of the classifier is then evaluated using the test data. The metrics I used to measure the performance of decision tree is: accuracy, precision, recall, specificity, f1 score and ROC curve.\n",
    "\n",
    "As mentioned above, the data set has imbalanced target (too many 'w's but seldom 'n','o','y's), SMOTE (Synthetic Minority Over-sampling Technique) is an over-sampling method, it creates synthetic samples of the minority class. Therefore, I would use SMOTE to resampling the dataset wile fitting the decision tree model:"
   ]
  },
  {
   "cell_type": "code",
   "execution_count": 613,
   "metadata": {},
   "outputs": [
    {
     "name": "stdout",
     "output_type": "stream",
     "text": [
      "[0 0 0 ... 0 0 0]\n"
     ]
    }
   ],
   "source": [
    "from imblearn.over_sampling import SMOTE\n",
    "smote = SMOTE('minority')\n",
    "X_sm, y_sm = smote.fit_sample(X_train,y_train)\n",
    "\n",
    "from sklearn.tree import DecisionTreeClassifier\n",
    "tree = DecisionTreeClassifier().fit(X_sm, y_sm)\n",
    "# Predicted class\n",
    "print(tree.predict(X_test))"
   ]
  },
  {
   "cell_type": "markdown",
   "metadata": {},
   "source": [
    "Print the multi-label confusion matrix:"
   ]
  },
  {
   "cell_type": "code",
   "execution_count": 614,
   "metadata": {},
   "outputs": [
    {
     "data": {
      "text/plain": [
       "array([[[  46,    1],\n",
       "        [   6, 1572]],\n",
       "\n",
       "       [[1577,   18],\n",
       "        [  29,    1]],\n",
       "\n",
       "       [[1579,   31],\n",
       "        [  14,    1]],\n",
       "\n",
       "       [[1623,    0],\n",
       "        [   1,    1]]])"
      ]
     },
     "execution_count": 614,
     "metadata": {},
     "output_type": "execute_result"
    }
   ],
   "source": [
    "predictions = tree.predict(X_test)\n",
    "from sklearn.metrics import multilabel_confusion_matrix\n",
    "multilabel_confusion_matrix(y_test, predictions)"
   ]
  },
  {
   "cell_type": "markdown",
   "metadata": {},
   "source": [
    "Calculating recall (also called the true positive rate or the sensitivity) for each class:"
   ]
  },
  {
   "cell_type": "code",
   "execution_count": 615,
   "metadata": {},
   "outputs": [
    {
     "data": {
      "text/plain": [
       "array([0.99619772, 0.03333333, 0.06666667, 0.5       ])"
      ]
     },
     "execution_count": 615,
     "metadata": {},
     "output_type": "execute_result"
    }
   ],
   "source": [
    "mcm = multilabel_confusion_matrix(y_test, predictions)\n",
    "tn = mcm[:, 0, 0]\n",
    "tp = mcm[:, 1, 1]\n",
    "fn = mcm[:, 1, 0]\n",
    "fp = mcm[:, 0, 1]\n",
    "tp / (tp + fn)"
   ]
  },
  {
   "cell_type": "markdown",
   "metadata": {},
   "source": [
    "Calculating specificity (also called the true negative rate) for each class:"
   ]
  },
  {
   "cell_type": "code",
   "execution_count": 616,
   "metadata": {},
   "outputs": [
    {
     "data": {
      "text/plain": [
       "array([0.9787234 , 0.98871473, 0.98074534, 1.        ])"
      ]
     },
     "execution_count": 616,
     "metadata": {},
     "output_type": "execute_result"
    }
   ],
   "source": [
    "tn / (tn + fp)"
   ]
  },
  {
   "cell_type": "markdown",
   "metadata": {},
   "source": [
    "Calculating accuracy for each class:"
   ]
  },
  {
   "cell_type": "code",
   "execution_count": 617,
   "metadata": {},
   "outputs": [
    {
     "data": {
      "text/plain": [
       "array([0.99569231, 0.97107692, 0.97230769, 0.99938462])"
      ]
     },
     "execution_count": 617,
     "metadata": {},
     "output_type": "execute_result"
    }
   ],
   "source": [
    "(tp + tn) / (tn + fp + tp + fn)"
   ]
  },
  {
   "cell_type": "markdown",
   "metadata": {},
   "source": [
    "Calculating precision for each class:"
   ]
  },
  {
   "cell_type": "code",
   "execution_count": 618,
   "metadata": {},
   "outputs": [
    {
     "data": {
      "text/plain": [
       "array([0.99936427, 0.05263158, 0.03125   , 1.        ])"
      ]
     },
     "execution_count": 618,
     "metadata": {},
     "output_type": "execute_result"
    }
   ],
   "source": [
    "tp / (tp + fp)"
   ]
  },
  {
   "cell_type": "markdown",
   "metadata": {},
   "source": [
    "Calculating f1 score for each class:"
   ]
  },
  {
   "cell_type": "code",
   "execution_count": 619,
   "metadata": {},
   "outputs": [
    {
     "data": {
      "text/plain": [
       "array([0.99777848, 0.04081633, 0.04255319, 0.66666667])"
      ]
     },
     "execution_count": 619,
     "metadata": {},
     "output_type": "execute_result"
    }
   ],
   "source": [
    "2 / ((1/(tp / (tp + fn))) + ((1/(tp / (tp + fp)))))"
   ]
  },
  {
   "cell_type": "markdown",
   "metadata": {},
   "source": [
    "### Plot the ROC curve:"
   ]
  },
  {
   "cell_type": "code",
   "execution_count": 620,
   "metadata": {},
   "outputs": [
    {
     "data": {
      "image/png": "[encoded data removed]",
      "text/plain": [
       "<Figure size 432x288 with 1 Axes>"
      ]
     },
     "metadata": {
      "needs_background": "light"
     },
     "output_type": "display_data"
    },
    {
     "data": {
      "image/png": "[encoded data removed]",
      "text/plain": [
       "<Figure size 432x288 with 1 Axes>"
      ]
     },
     "metadata": {
      "needs_background": "light"
     },
     "output_type": "display_data"
    },
    {
     "data": {
      "image/png": "[encoded data removed]",
      "text/plain": [
       "<Figure size 432x288 with 1 Axes>"
      ]
     },
     "metadata": {
      "needs_background": "light"
     },
     "output_type": "display_data"
    },
    {
     "data": {
      "image/png": "[encoded data removed]",
      "text/plain": [
       "<Figure size 432x288 with 1 Axes>"
      ]
     },
     "metadata": {
      "needs_background": "light"
     },
     "output_type": "display_data"
    }
   ],
   "source": [
    "from sklearn.metrics import roc_curve, auc\n",
    "from sklearn import datasets\n",
    "from sklearn.multiclass import OneVsRestClassifier\n",
    "from sklearn.svm import LinearSVC\n",
    "from sklearn.preprocessing import label_binarize\n",
    "import matplotlib.pyplot as plt\n",
    "\n",
    "X= mushroom3\n",
    "y = mushroom2.veilcolor   \n",
    "\n",
    "y = label_binarize(y, classes=[0,1,2,3])\n",
    "n_classes = 4\n",
    "\n",
    "# shuffle and split training and test sets\n",
    "X_train, X_test, y_train, y_test = train_test_split(X, y, test_size=0.2, random_state=0)\n",
    "\n",
    "from imblearn.over_sampling import SMOTE\n",
    "smote = SMOTE('minority')\n",
    "X_sm, y_sm = smote.fit_sample(X_train,y_train)\n",
    "\n",
    "from sklearn.tree import DecisionTreeClassifier\n",
    "tree = DecisionTreeClassifier().fit(X_sm, y_sm)\n",
    "predictions = tree.predict(X_test)\n",
    "# Predicted class\n",
    "\n",
    "# Compute ROC curve and ROC area for each class\n",
    "fpr = dict()\n",
    "tpr = dict()\n",
    "roc_auc = dict()\n",
    "for i in range(n_classes):\n",
    "    fpr[i], tpr[i], _ = roc_curve(y_test[:, i], predictions[:, i])\n",
    "    roc_auc[i] = auc(fpr[i], tpr[i])\n",
    "\n",
    "# Plot of a ROC curve for a specific class\n",
    "for i in range(n_classes):\n",
    "    plt.figure()\n",
    "    plt.plot(fpr[i], tpr[i], label='ROC curve (area = %0.2f)' % roc_auc[i])\n",
    "    plt.plot([0, 1], [0, 1], 'k--')\n",
    "    plt.xlim([0.0, 1.0])\n",
    "    plt.ylim([0.0, 1.05])\n",
    "    plt.xlabel('False Positive Rate')\n",
    "    plt.ylabel('True Positive Rate')\n",
    "    plt.title('Receiver operating characteristic example')\n",
    "    plt.legend(loc=\"lower right\")\n",
    "    plt.show()"
   ]
  },
  {
   "cell_type": "markdown",
   "metadata": {},
   "source": [
    "## Random Forest Model's Fitting on data after converting to PCA\n",
    "\n",
    "Random Forest classifier is fitted to the training data as shown in the code below. The performance of the classifier is then evaluated using the test data. The metrics I used to measure the performance of random forest model is: accuracy, precision, recall, specificity, f1 score and ROC curve.\n",
    "\n",
    "As mentioned above, the data set has imbalanced target (too many 'w's but seldom 'n','o','y's), SMOTE (Synthetic Minority Over-sampling Technique) is an over-sampling method, it creates synthetic samples of the minority class. Therefore, I would use SMOTE to resampling the dataset wile fitting the decision tree model:"
   ]
  },
  {
   "cell_type": "code",
   "execution_count": 621,
   "metadata": {},
   "outputs": [
    {
     "name": "stdout",
     "output_type": "stream",
     "text": [
      "[0 0 0 ... 0 0 0]\n"
     ]
    }
   ],
   "source": [
    "from sklearn.model_selection import train_test_split\n",
    "from sklearn.decomposition import PCA\n",
    "X = mushroom3\n",
    "y = mushroom2.veilcolor            \n",
    "\n",
    "# Partition data into training and test sets\n",
    "X_train, X_test, y_train, y_test = train_test_split(X, y, test_size = 0.2, random_state = 10)\n",
    "\n",
    "# Reduce dimensionality of the features from 113 to two principal components\n",
    "pca = PCA(n_components=2).fit(X_train)\n",
    "\n",
    "X_train = pca.transform(X_train)\n",
    "X_test = pca.transform(X_test)\n",
    "\n",
    "from imblearn.over_sampling import SMOTE\n",
    "smote = SMOTE('minority')\n",
    "X_sm, y_sm = smote.fit_sample(X_train,y_train)\n",
    "\n",
    "from sklearn.ensemble import RandomForestClassifier\n",
    "forest = RandomForestClassifier().fit(X_sm, y_sm)\n",
    "# Predicted class\n",
    "print(forest.predict(X_test))"
   ]
  },
  {
   "cell_type": "markdown",
   "metadata": {},
   "source": [
    "Print the multi-label confusion matrix:"
   ]
  },
  {
   "cell_type": "code",
   "execution_count": 622,
   "metadata": {},
   "outputs": [
    {
     "data": {
      "text/plain": [
       "array([[[  45,    2],\n",
       "        [   4, 1574]],\n",
       "\n",
       "       [[1581,   14],\n",
       "        [  30,    0]],\n",
       "\n",
       "       [[1577,   33],\n",
       "        [  13,    2]],\n",
       "\n",
       "       [[1623,    0],\n",
       "        [   2,    0]]])"
      ]
     },
     "execution_count": 622,
     "metadata": {},
     "output_type": "execute_result"
    }
   ],
   "source": [
    "predictions = forest.predict(X_test)\n",
    "from sklearn.metrics import multilabel_confusion_matrix\n",
    "multilabel_confusion_matrix(y_test, predictions)"
   ]
  },
  {
   "cell_type": "markdown",
   "metadata": {},
   "source": [
    "Calculating recall (also called the true positive rate or the sensitivity) for each class:"
   ]
  },
  {
   "cell_type": "code",
   "execution_count": 623,
   "metadata": {},
   "outputs": [
    {
     "data": {
      "text/plain": [
       "array([0.99746515, 0.        , 0.13333333, 0.        ])"
      ]
     },
     "execution_count": 623,
     "metadata": {},
     "output_type": "execute_result"
    }
   ],
   "source": [
    "mcm = multilabel_confusion_matrix(y_test, predictions)\n",
    "tn = mcm[:, 0, 0]\n",
    "tp = mcm[:, 1, 1]\n",
    "fn = mcm[:, 1, 0]\n",
    "fp = mcm[:, 0, 1]\n",
    "tp / (tp + fn)"
   ]
  },
  {
   "cell_type": "markdown",
   "metadata": {},
   "source": [
    "Calculating specificity (also called the true negative rate) for each class:"
   ]
  },
  {
   "cell_type": "code",
   "execution_count": 624,
   "metadata": {},
   "outputs": [
    {
     "data": {
      "text/plain": [
       "array([0.95744681, 0.99122257, 0.97950311, 1.        ])"
      ]
     },
     "execution_count": 624,
     "metadata": {},
     "output_type": "execute_result"
    }
   ],
   "source": [
    "tn / (tn + fp)"
   ]
  },
  {
   "cell_type": "markdown",
   "metadata": {},
   "source": [
    "Calculating accuracy for each class:"
   ]
  },
  {
   "cell_type": "code",
   "execution_count": 625,
   "metadata": {},
   "outputs": [
    {
     "data": {
      "text/plain": [
       "array([0.99630769, 0.97292308, 0.97169231, 0.99876923])"
      ]
     },
     "execution_count": 625,
     "metadata": {},
     "output_type": "execute_result"
    }
   ],
   "source": [
    "(tp + tn) / (tn + fp + tp + fn)"
   ]
  },
  {
   "cell_type": "markdown",
   "metadata": {},
   "source": [
    "Calculating precision for each class:"
   ]
  },
  {
   "cell_type": "code",
   "execution_count": 626,
   "metadata": {},
   "outputs": [
    {
     "data": {
      "text/plain": [
       "array([0.99873096, 0.        , 0.05714286,        nan])"
      ]
     },
     "execution_count": 626,
     "metadata": {},
     "output_type": "execute_result"
    }
   ],
   "source": [
    "tp / (tp + fp)"
   ]
  },
  {
   "cell_type": "markdown",
   "metadata": {},
   "source": [
    "Calculating f1 score for each class:"
   ]
  },
  {
   "cell_type": "code",
   "execution_count": 627,
   "metadata": {},
   "outputs": [
    {
     "data": {
      "text/plain": [
       "array([0.99809765, 0.        , 0.08      ,        nan])"
      ]
     },
     "execution_count": 627,
     "metadata": {},
     "output_type": "execute_result"
    }
   ],
   "source": [
    "2 / ((1/(tp / (tp + fn))) + ((1/(tp / (tp + fp)))))"
   ]
  },
  {
   "cell_type": "code",
   "execution_count": 628,
   "metadata": {},
   "outputs": [
    {
     "data": {
      "image/png": "[encoded data removed]",
      "text/plain": [
       "<Figure size 432x288 with 1 Axes>"
      ]
     },
     "metadata": {
      "needs_background": "light"
     },
     "output_type": "display_data"
    },
    {
     "data": {
      "image/png": "[encoded data removed]",
      "text/plain": [
       "<Figure size 432x288 with 1 Axes>"
      ]
     },
     "metadata": {
      "needs_background": "light"
     },
     "output_type": "display_data"
    },
    {
     "data": {
      "image/png": "[encoded data removed]",
      "text/plain": [
       "<Figure size 432x288 with 1 Axes>"
      ]
     },
     "metadata": {
      "needs_background": "light"
     },
     "output_type": "display_data"
    },
    {
     "data": {
      "image/png": "[encoded data removed]",
      "text/plain": [
       "<Figure size 432x288 with 1 Axes>"
      ]
     },
     "metadata": {
      "needs_background": "light"
     },
     "output_type": "display_data"
    }
   ],
   "source": [
    "from sklearn.metrics import roc_curve, auc\n",
    "from sklearn import datasets\n",
    "from sklearn.multiclass import OneVsRestClassifier\n",
    "from sklearn.svm import LinearSVC\n",
    "from sklearn.preprocessing import label_binarize\n",
    "import matplotlib.pyplot as plt\n",
    "\n",
    "X= mushroom3\n",
    "y = mushroom2.veilcolor   \n",
    "\n",
    "y = label_binarize(y, classes=[0,1,2,3])\n",
    "n_classes = 4\n",
    "\n",
    "# shuffle and split training and test sets\n",
    "X_train, X_test, y_train, y_test = train_test_split(X, y, test_size=0.2, random_state=0)\n",
    "\n",
    "from imblearn.over_sampling import SMOTE\n",
    "smote = SMOTE('minority')\n",
    "X_sm, y_sm = smote.fit_sample(X_train,y_train)\n",
    "\n",
    "from sklearn.ensemble import RandomForestClassifier\n",
    "forest = RandomForestClassifier().fit(X_sm, y_sm)\n",
    "predictions = forest.predict(X_test)\n",
    "# Predicted class\n",
    "\n",
    "# Compute ROC curve and ROC area for each class\n",
    "fpr = dict()\n",
    "tpr = dict()\n",
    "roc_auc = dict()\n",
    "for i in range(n_classes):\n",
    "    fpr[i], tpr[i], _ = roc_curve(y_test[:, i], predictions[:, i])\n",
    "    roc_auc[i] = auc(fpr[i], tpr[i])\n",
    "\n",
    "# Plot of a ROC curve for a specific class\n",
    "for i in range(n_classes):\n",
    "    plt.figure()\n",
    "    plt.plot(fpr[i], tpr[i], label='ROC curve (area = %0.2f)' % roc_auc[i])\n",
    "    plt.plot([0, 1], [0, 1], 'k--')\n",
    "    plt.xlim([0.0, 1.0])\n",
    "    plt.ylim([0.0, 1.05])\n",
    "    plt.xlabel('False Positive Rate')\n",
    "    plt.ylabel('True Positive Rate')\n",
    "    plt.title('Receiver operating characteristic example')\n",
    "    plt.legend(loc=\"lower right\")\n",
    "    plt.show()"
   ]
  },
  {
   "cell_type": "markdown",
   "metadata": {},
   "source": [
    "### Make a table to compare the metrics and ROC curve between Desicion Tree model and Random Forest model after coverting the data to PCA:"
   ]
  },
  {
   "cell_type": "markdown",
   "metadata": {},
   "source": [
    "<table>\n",
    "  <thead>\n",
    "    <tr>\n",
    "      <th>Metric score</th>\n",
    "      <th>white:w Decision Tree</th>\n",
    "      <th>white:w Random Forest</th>\n",
    "      <th>brown:n Decision Tree</th>\n",
    "      <th>brown:n Random Forest</th>\n",
    "      <th>orange:o Decision Tree</th>\n",
    "      <th>orange:o Random Forest</th>\n",
    "      <th>yellow:y Decision Tree</th>\n",
    "      <th>yellow:y Random Forest</th>\n",
    "    </tr>\n",
    "  </thead>\n",
    "  <tbody>\n",
    "    <tr>\n",
    "      <td>Accuracy</td>\n",
    "      <th>0.99569231</th>\n",
    "      <th>0.99876923</th>\n",
    "      <th>0.97169231</th>\n",
    "      <th>0.97353846</th>\n",
    "      <th>0.97169231</th>\n",
    "      <th>0.97353846</th>\n",
    "      <th>0.99938462</th>\n",
    "      <th>0.99876923</th>\n",
    "    </tr>\n",
    "    <tr>\n",
    "      <td>Precision</td>\n",
    "      <th>0.99936427</th>\n",
    "      <th>0.99873418</th>\n",
    "      <th>0</th>\n",
    "      <th>0</th>\n",
    "      <th>0.05714286</th>\n",
    "      <th>0.0625</th>\n",
    "      <th>1</th>\n",
    "      <th>nan</th>\n",
    "    </tr>\n",
    "      <tr>\n",
    "      <td>Recall</td>\n",
    "      <th>0.99619772</th>\n",
    "      <th>1</th>\n",
    "      <th>0</th>\n",
    "      <th>0</th>\n",
    "      <th>0.13333333</th>\n",
    "      <th>0.13333333</th>\n",
    "      <th>0.5 </th>\n",
    "      <th>0</th>\n",
    "    </tr>\n",
    "    <tr>\n",
    "      <td>Specificity</td>\n",
    "      <th>0.9787234</th>\n",
    "      <th>0.95744681</th>\n",
    "      <th>0.98996865</th>\n",
    "      <th>0.99184953</th>\n",
    "      <th>0.97950311</th>\n",
    "      <th>0.98136646</th>\n",
    "      <th>1</th>\n",
    "      <th>1</th>\n",
    "    </tr>\n",
    "      <tr>\n",
    "      <td>f1 score</td>\n",
    "      <th>0.99777848</th>\n",
    "      <th>0.99936669</th>\n",
    "      <th>0</th>\n",
    "      <th>0</th>\n",
    "      <th>0.08</th>\n",
    "      <th>0.08510638</th>\n",
    "      <th>0.66666667</th>\n",
    "      <th>nan</th>\n",
    "      </tr>\n",
    "     <tr>\n",
    "      <td>ROC curve area</td>\n",
    "      <th>1.0</th>\n",
    "      <th>1.0</th>\n",
    "      <th>0.51</th>\n",
    "      <th>0.59</th>\n",
    "      <th>0.53</th>\n",
    "      <th>0.55</th>\n",
    "      <th>1.0</th>\n",
    "      <th>1.0</th>\n",
    "    </tr>\n",
    "  </tbody>\n",
    "</table>"
   ]
  },
  {
   "cell_type": "markdown",
   "metadata": {},
   "source": [
    "### Temporary conclusion:\n",
    "\n",
    "- Random Forest model has a little higher accuracy than Decision Tree model in white(w), brown(n) and orange (o), but in predicting yellow, decision tree has a little higher accuracy than random forest.\n",
    "\n",
    "- Random Forest model has a little higher precision than Decision Tree model in predicting orange(o), but in predicting white(w), decision tree has a little higher precision than random forest model.\n",
    "\n",
    "- Random Forest model has a little higher recall than Decision Tree model in white(w), but in predicting yellow, decision tree has a little higher recall than random forest. In predicting orange(o), they have the same recall.\n",
    "\n",
    "- Random Forest model has a little higher specificity than Decision Tree model in predicting brown(n) and orange(o), but in predicting white(w), decision tree has a little higher precision than random forest model. In predicting yellow(y), they have the same specificity.\n",
    "\n",
    "- Random Forest model has a little higher ROC curve area than Decision Tree model in predicting brown(w) and orange(o). In predicting white(w) and yellow(y), they have the same ROC curve area.\n",
    "\n",
    "\n",
    "\n",
    "Based on those scores, Random forest model is a little better than Decision Tree model after converting all the features to PCA.\n",
    "\n",
    "In case the conclusion is not dependent on the dimension reduction method I choose, I would use another feature selection method to choose another set of independent variables again, to fit in Decision tree model and random forest model again and to measure the performance between them.\n",
    "\n",
    "## Dimension Reduction 2: Feature selection\n",
    "\n",
    "According to the below graph, since my input variables are categorical variables, my output variables are also categorical variables, it is better to choose Chi-Squared method and Mutual information method to do the feature selection.\n",
    "(According to [this link](https://machinelearningmastery.com/feature-selection-with-real-and-categorical-data/): How to choose a feature selection method for machine learning)."
   ]
  },
  {
   "cell_type": "code",
   "execution_count": 629,
   "metadata": {},
   "outputs": [
    {
     "data": {
      "text/html": [
       "<img src=\"featureselection.png\"/>"
      ],
      "text/plain": [
       "<IPython.core.display.Image object>"
      ]
     },
     "execution_count": 629,
     "metadata": {},
     "output_type": "execute_result"
    }
   ],
   "source": [
    "## Graph of how to choose a feature selection method\n",
    "from IPython.display import Image\n",
    "img = 'featureselection.png'\n",
    "Image(url=img)"
   ]
  },
  {
   "cell_type": "markdown",
   "metadata": {},
   "source": [
    "### 1. Chi-Squared Feature Selection"
   ]
  },
  {
   "cell_type": "code",
   "execution_count": 630,
   "metadata": {},
   "outputs": [],
   "source": [
    "#Splitting the data into independent and dependent variables\n",
    "X = mushroom[['PE','capshape','capsurface','capcolor','bruises','odor','gillattachment','gillspacing','gillsize',\n",
    "            'gillcolor','stalkshape','stalksurfaceabovering','stalksurfacebelowring','ringnumber',\n",
    "             'ringtype','sporeprintcolor','population','habitat']].values\n",
    "y = mushroom['veilcolor'].values"
   ]
  },
  {
   "cell_type": "markdown",
   "metadata": {},
   "source": [
    "I will use the train_test_split() function from scikit-learn and use 80% of the data for training and 20% for testing."
   ]
  },
  {
   "cell_type": "code",
   "execution_count": 631,
   "metadata": {},
   "outputs": [],
   "source": [
    "# split into train and test sets\n",
    "X_train, X_test, y_train, y_test = train_test_split(X, y, test_size=0.2, random_state=1)"
   ]
  },
  {
   "cell_type": "code",
   "execution_count": 632,
   "metadata": {},
   "outputs": [
    {
     "name": "stdout",
     "output_type": "stream",
     "text": [
      "Train (6499, 18) (6499,)\n",
      "Test (1625, 18) (1625,)\n"
     ]
    }
   ],
   "source": [
    "# summarize\n",
    "print('Train', X_train.shape, y_train.shape)\n",
    "print('Test', X_test.shape, y_test.shape)"
   ]
  },
  {
   "cell_type": "markdown",
   "metadata": {},
   "source": [
    "The function below named prepare_inputs() takes the input data for the train and test sets and encodes it using an ordinal encoding."
   ]
  },
  {
   "cell_type": "code",
   "execution_count": 633,
   "metadata": {},
   "outputs": [],
   "source": [
    "from sklearn.preprocessing import OrdinalEncoder\n",
    "# prepare input data\n",
    "def prepare_inputs(X_train, X_test):\n",
    "    oe = OrdinalEncoder()\n",
    "    oe.fit(X_train)\n",
    "    X_train_enc = oe.transform(X_train)\n",
    "    X_test_enc = oe.transform(X_test)\n",
    "    return X_train_enc, X_test_enc"
   ]
  },
  {
   "cell_type": "markdown",
   "metadata": {},
   "source": [
    "I also need to prepare the target variable."
   ]
  },
  {
   "cell_type": "code",
   "execution_count": 634,
   "metadata": {},
   "outputs": [],
   "source": [
    "from sklearn.preprocessing import LabelEncoder\n",
    "# prepare target\n",
    "def prepare_targets(y_train, y_test):\n",
    "    le = LabelEncoder()\n",
    "    le.fit(y_train)\n",
    "    y_train_enc = le.transform(y_train)\n",
    "    y_test_enc = le.transform(y_test)\n",
    "    return y_train_enc, y_test_enc"
   ]
  },
  {
   "cell_type": "markdown",
   "metadata": {},
   "source": [
    "We can call these functions to prepare our data."
   ]
  },
  {
   "cell_type": "code",
   "execution_count": 635,
   "metadata": {},
   "outputs": [],
   "source": [
    "# prepare input data\n",
    "X_train_enc, X_test_enc = prepare_inputs(X_train, X_test)\n",
    "# prepare output data\n",
    "y_train_enc, y_test_enc = prepare_targets(y_train, y_test)"
   ]
  },
  {
   "cell_type": "markdown",
   "metadata": {},
   "source": [
    "Now that I have loaded and prepared the dataset, I can explore feature selection.\n",
    "\n",
    "The scikit-learn machine library provides an implementation of the chi-squared test in the chi2() function. I can define the SelectKBest class to use the chi2() function and select all features, then transform the train and test sets."
   ]
  },
  {
   "cell_type": "code",
   "execution_count": 636,
   "metadata": {},
   "outputs": [],
   "source": [
    "from sklearn.feature_selection import SelectKBest\n",
    "from sklearn.feature_selection import chi2\n",
    "fs = SelectKBest(score_func=chi2, k='all')\n",
    "fs.fit(X_train_enc, y_train_enc)\n",
    "X_train_fs = fs.transform(X_train_enc)\n",
    "X_test_fs = fs.transform(X_test_enc)"
   ]
  },
  {
   "cell_type": "markdown",
   "metadata": {},
   "source": [
    "I can then print the scores for each variable (largest is better), and plot the scores for each variable as a bar graph to get an idea of how many features I should select."
   ]
  },
  {
   "cell_type": "code",
   "execution_count": 637,
   "metadata": {},
   "outputs": [
    {
     "name": "stdout",
     "output_type": "stream",
     "text": [
      "Feature 0: 75.762162\n",
      "Feature 1: 32.979415\n",
      "Feature 2: 6.842556\n",
      "Feature 3: 35.226522\n",
      "Feature 4: 65.628999\n",
      "Feature 5: 28.557834\n",
      "Feature 6: 147.627184\n",
      "Feature 7: 50.136742\n",
      "Feature 8: 55.882761\n",
      "Feature 9: 232.435594\n",
      "Feature 10: 89.778723\n",
      "Feature 11: 24.785194\n",
      "Feature 12: 22.053484\n",
      "Feature 13: 0.741108\n",
      "Feature 14: 205.435688\n",
      "Feature 15: 19.808170\n",
      "Feature 16: 58.681310\n",
      "Feature 17: 26.148292\n"
     ]
    },
    {
     "data": {
      "image/png": "[encoded data removed]",
      "text/plain": [
       "<Figure size 432x288 with 1 Axes>"
      ]
     },
     "metadata": {
      "needs_background": "light"
     },
     "output_type": "display_data"
    }
   ],
   "source": [
    "import matplotlib.pyplot as plt\n",
    "# what are scores for the features\n",
    "for i in range(len(fs.scores_)):\n",
    "    print('Feature %d: %f' % (i, fs.scores_[i]))\n",
    "# plot the scores\n",
    "plt.bar([i for i in range(len(fs.scores_))], fs.scores_)\n",
    "plt.show()"
   ]
  },
  {
   "cell_type": "markdown",
   "metadata": {},
   "source": [
    "The score shows that features 9, 14, 6, and 10 are most relevant to the target. The bar chart also shows the same result.\n",
    "\n",
    "- feature 9: gill color\n",
    "- feature 14: ring type\n",
    "- feature 6: gill attachment\n",
    "- feature 10: stalk shape"
   ]
  },
  {
   "cell_type": "markdown",
   "metadata": {},
   "source": [
    "### 2. Mutual Information Feature Selection\n",
    "\n",
    "Mutual information from the field of information theory is the application of information gain to feature selection.\n",
    "\n",
    "Mutual information is calculated between two variables and measures the reduction in uncertainty for one variable given a known value of the other variable.\n",
    "\n",
    "The scikit-learn machine learning library provides an implementation of mutual information for feature selection via the mutual_info_classif() function."
   ]
  },
  {
   "cell_type": "code",
   "execution_count": 638,
   "metadata": {},
   "outputs": [],
   "source": [
    "from sklearn.feature_selection import SelectKBest\n",
    "from sklearn.feature_selection import mutual_info_classif\n",
    "# feature selection\n",
    "def select_features(X_train, y_train, X_test):\n",
    "    fs = SelectKBest(score_func=mutual_info_classif, k='all')\n",
    "    fs.fit(X_train, y_train)\n",
    "    X_train_fs = fs.transform(X_train)\n",
    "    X_test_fs = fs.transform(X_test)\n",
    "    return X_train_fs, X_test_fs, fs"
   ]
  },
  {
   "cell_type": "code",
   "execution_count": 639,
   "metadata": {},
   "outputs": [
    {
     "name": "stdout",
     "output_type": "stream",
     "text": [
      "Feature 0: 0.023152\n",
      "Feature 1: 0.005674\n",
      "Feature 2: 0.034132\n",
      "Feature 3: 0.036906\n",
      "Feature 4: 0.011336\n",
      "Feature 5: 0.022996\n",
      "Feature 6: 0.112198\n",
      "Feature 7: 0.009070\n",
      "Feature 8: 0.016540\n",
      "Feature 9: 0.077578\n",
      "Feature 10: 0.023324\n",
      "Feature 11: 0.015165\n",
      "Feature 12: 0.016700\n",
      "Feature 13: 0.010655\n",
      "Feature 14: 0.017277\n",
      "Feature 15: 0.089211\n",
      "Feature 16: 0.038105\n",
      "Feature 17: 0.063061\n"
     ]
    },
    {
     "data": {
      "image/png": "[encoded data removed]",
      "text/plain": [
       "<Figure size 432x288 with 1 Axes>"
      ]
     },
     "metadata": {
      "needs_background": "light"
     },
     "output_type": "display_data"
    }
   ],
   "source": [
    "X_train, X_test, y_train, y_test = train_test_split(X, y, test_size=0.2, random_state=1)\n",
    "# prepare input data\n",
    "X_train_enc, X_test_enc = prepare_inputs(X_train, X_test)\n",
    "# prepare output data\n",
    "y_train_enc, y_test_enc = prepare_targets(y_train, y_test)\n",
    "# feature selection\n",
    "X_train_fs, X_test_fs, fs = select_features(X_train_enc, y_train_enc, X_test_enc)\n",
    "# what are scores for the features\n",
    "for i in range(len(fs.scores_)):\n",
    "    print('Feature %d: %f' % (i, fs.scores_[i]))\n",
    "# plot the scores\n",
    "plt.bar([i for i in range(len(fs.scores_))], fs.scores_)\n",
    "plt.show()"
   ]
  },
  {
   "cell_type": "markdown",
   "metadata": {},
   "source": [
    "The score shows that features 6, 15, 9, and 17 are most relevant to the target. The bar chart also shows the same result.\n",
    "\n",
    "- feature 6: gill attachment\n",
    "- feature 15: spore print color\n",
    "- feature 9: gill color\n",
    "- feature 17: habitat"
   ]
  },
  {
   "cell_type": "markdown",
   "metadata": {},
   "source": [
    "## Modeling With Selected Features\n",
    "\n",
    "I will construct four models in the following sequence:\n",
    "\n",
    "1. Decision Tree model with features selected by Chi-Square method.\n",
    "2. Random Forest model with features selected by Chi-Square method.\n",
    "\n",
    "Then comparing the performance of those two models through metrics and ROC curves.\n",
    "\n",
    "3. Decision Tree model with features selected by mutual information method.\n",
    "4. Random forest model with features selected by mutual informaton method.\n",
    "\n",
    "Then comparing the performance of those two models through metrics and ROC curves.\n",
    "\n",
    "Let me get started:\n",
    "###  1. Decision Tree model with features selected by Chi-Square method."
   ]
  },
  {
   "cell_type": "code",
   "execution_count": 713,
   "metadata": {},
   "outputs": [
    {
     "name": "stdout",
     "output_type": "stream",
     "text": [
      "[2 2 2 ... 2 2 2]\n"
     ]
    }
   ],
   "source": [
    "## Decision Tree model with features selected by Chi-Square method.\n",
    "X = mushroom[['gillcolor','ringtype','gillattachment','stalkshape']].values\n",
    "y = mushroom['veilcolor'].values\n",
    "\n",
    "# Partition data into training and test sets\n",
    "X_train, X_test, y_train, y_test = train_test_split(X, y, test_size = 0.2, random_state = 10)\n",
    "\n",
    "# prepare input data\n",
    "X_train_enc, X_test_enc = prepare_inputs(X_train, X_test)\n",
    "# prepare output data\n",
    "y_train_enc, y_test_enc = prepare_targets(y_train, y_test)\n",
    "\n",
    "from imblearn.over_sampling import SMOTE\n",
    "smote = SMOTE('minority')\n",
    "X_sm, y_sm = smote.fit_sample(X_train_enc,y_train_enc)\n",
    "\n",
    "from sklearn.tree import DecisionTreeClassifier\n",
    "tree = DecisionTreeClassifier().fit(X_sm, y_sm)\n",
    "# Predicted class\n",
    "print(tree.predict(X_test_enc))"
   ]
  },
  {
   "cell_type": "markdown",
   "metadata": {},
   "source": [
    "Print the multi-label confusion matrix:"
   ]
  },
  {
   "cell_type": "code",
   "execution_count": 714,
   "metadata": {},
   "outputs": [
    {
     "data": {
      "text/plain": [
       "array([[[1595,    0],\n",
       "        [  30,    0]],\n",
       "\n",
       "       [[1580,   30],\n",
       "        [   0,   15]],\n",
       "\n",
       "       [[  47,    0],\n",
       "        [  28, 1550]],\n",
       "\n",
       "       [[1595,   28],\n",
       "        [   0,    2]]])"
      ]
     },
     "execution_count": 714,
     "metadata": {},
     "output_type": "execute_result"
    }
   ],
   "source": [
    "predictions = tree.predict(X_test_enc)\n",
    "from sklearn.metrics import multilabel_confusion_matrix\n",
    "multilabel_confusion_matrix(y_test_enc, predictions)"
   ]
  },
  {
   "cell_type": "markdown",
   "metadata": {},
   "source": [
    "Calculating recall (also called the true positive rate or the sensitivity) for each class:"
   ]
  },
  {
   "cell_type": "code",
   "execution_count": 715,
   "metadata": {},
   "outputs": [
    {
     "data": {
      "text/plain": [
       "array([0.        , 1.        , 0.98225602, 1.        ])"
      ]
     },
     "execution_count": 715,
     "metadata": {},
     "output_type": "execute_result"
    }
   ],
   "source": [
    "mcm = multilabel_confusion_matrix(y_test_enc, predictions)\n",
    "tn = mcm[:, 0, 0]\n",
    "tp = mcm[:, 1, 1]\n",
    "fn = mcm[:, 1, 0]\n",
    "fp = mcm[:, 0, 1]\n",
    "tp / (tp + fn)"
   ]
  },
  {
   "cell_type": "markdown",
   "metadata": {},
   "source": [
    "Calculating specificity (also called the true negative rate) for each class:"
   ]
  },
  {
   "cell_type": "code",
   "execution_count": 716,
   "metadata": {},
   "outputs": [
    {
     "data": {
      "text/plain": [
       "array([1.        , 0.98136646, 1.        , 0.982748  ])"
      ]
     },
     "execution_count": 716,
     "metadata": {},
     "output_type": "execute_result"
    }
   ],
   "source": [
    "tn / (tn + fp)"
   ]
  },
  {
   "cell_type": "markdown",
   "metadata": {},
   "source": [
    "Calculating accuracy for each class:"
   ]
  },
  {
   "cell_type": "code",
   "execution_count": 717,
   "metadata": {},
   "outputs": [
    {
     "data": {
      "text/plain": [
       "array([0.98153846, 0.98153846, 0.98276923, 0.98276923])"
      ]
     },
     "execution_count": 717,
     "metadata": {},
     "output_type": "execute_result"
    }
   ],
   "source": [
    "(tp + tn) / (tn + fp + tp + fn)"
   ]
  },
  {
   "cell_type": "markdown",
   "metadata": {},
   "source": [
    "Calculating precision for each class:"
   ]
  },
  {
   "cell_type": "code",
   "execution_count": 718,
   "metadata": {},
   "outputs": [
    {
     "data": {
      "text/plain": [
       "array([       nan, 0.33333333, 1.        , 0.06666667])"
      ]
     },
     "execution_count": 718,
     "metadata": {},
     "output_type": "execute_result"
    }
   ],
   "source": [
    "tp / (tp + fp)"
   ]
  },
  {
   "cell_type": "markdown",
   "metadata": {},
   "source": [
    "Calculating f1 score for each class:"
   ]
  },
  {
   "cell_type": "code",
   "execution_count": 719,
   "metadata": {},
   "outputs": [
    {
     "data": {
      "text/plain": [
       "array([       nan, 0.5       , 0.99104859, 0.125     ])"
      ]
     },
     "execution_count": 719,
     "metadata": {},
     "output_type": "execute_result"
    }
   ],
   "source": [
    "2 / ((1/(tp / (tp + fn))) + ((1/(tp / (tp + fp)))))"
   ]
  },
  {
   "cell_type": "markdown",
   "metadata": {},
   "source": [
    "### Plot the ROC curve:"
   ]
  },
  {
   "cell_type": "code",
   "execution_count": 720,
   "metadata": {},
   "outputs": [
    {
     "data": {
      "image/png": "[encoded data removed]",
      "text/plain": [
       "<Figure size 432x288 with 1 Axes>"
      ]
     },
     "metadata": {
      "needs_background": "light"
     },
     "output_type": "display_data"
    },
    {
     "data": {
      "image/png": "[encoded data removed]",
      "text/plain": [
       "<Figure size 432x288 with 1 Axes>"
      ]
     },
     "metadata": {
      "needs_background": "light"
     },
     "output_type": "display_data"
    },
    {
     "data": {
      "image/png": "[encoded data removed]",
      "text/plain": [
       "<Figure size 432x288 with 1 Axes>"
      ]
     },
     "metadata": {
      "needs_background": "light"
     },
     "output_type": "display_data"
    },
    {
     "data": {
      "image/png": "[encoded data removed]",
      "text/plain": [
       "<Figure size 432x288 with 1 Axes>"
      ]
     },
     "metadata": {
      "needs_background": "light"
     },
     "output_type": "display_data"
    }
   ],
   "source": [
    "## The second plot\n",
    "from sklearn.metrics import roc_curve, auc\n",
    "from sklearn import datasets\n",
    "from sklearn.multiclass import OneVsRestClassifier\n",
    "from sklearn.svm import LinearSVC\n",
    "from sklearn.preprocessing import label_binarize\n",
    "import matplotlib.pyplot as plt\n",
    "\n",
    "X = mushroom[['gillcolor','ringtype','gillattachment','stalkshape']].values\n",
    "y = mushroom['veilcolor'].values    \n",
    "\n",
    "y = label_binarize(y, classes=['w','n','o','y'])\n",
    "n_classes = 4\n",
    "\n",
    "# shuffle and split training and test sets\n",
    "X_train, X_test, y_train, y_test = train_test_split(X, y, test_size=0.2, random_state=0)\n",
    "\n",
    "X_train_enc, X_test_enc = prepare_inputs(X_train, X_test)\n",
    "\n",
    "from imblearn.over_sampling import SMOTE\n",
    "smote = SMOTE('minority')\n",
    "X_sm, y_sm = smote.fit_sample(X_train_enc,y_train)\n",
    "\n",
    "from sklearn.tree import DecisionTreeClassifier\n",
    "tree = DecisionTreeClassifier().fit(X_sm, y_sm)\n",
    "predictions = tree.predict(X_test_enc)\n",
    "# Predicted class\n",
    "\n",
    "# Compute ROC curve and ROC area for each class\n",
    "fpr = dict()\n",
    "tpr = dict()\n",
    "roc_auc = dict()\n",
    "for i in range(n_classes):\n",
    "    fpr[i], tpr[i], _ = roc_curve(y_test[:, i], predictions[:, i])\n",
    "    roc_auc[i] = auc(fpr[i], tpr[i])\n",
    "\n",
    "# Plot of a ROC curve for a specific class\n",
    "for i in range(n_classes):\n",
    "    plt.figure()\n",
    "    plt.plot(fpr[i], tpr[i], label='ROC curve (area = %0.2f)' % roc_auc[i])\n",
    "    plt.plot([0, 1], [0, 1], 'k--')\n",
    "    plt.xlim([0.0, 1.0])\n",
    "    plt.ylim([0.0, 1.05])\n",
    "    plt.xlabel('False Positive Rate')\n",
    "    plt.ylabel('True Positive Rate')\n",
    "    plt.title('Receiver operating characteristic example')\n",
    "    plt.legend(loc=\"lower right\")\n",
    "    plt.show()"
   ]
  },
  {
   "cell_type": "markdown",
   "metadata": {},
   "source": [
    "###  2. Random Forest model with features selected by Chi-Square method."
   ]
  },
  {
   "cell_type": "code",
   "execution_count": 721,
   "metadata": {},
   "outputs": [
    {
     "name": "stdout",
     "output_type": "stream",
     "text": [
      "[2 2 2 ... 2 2 2]\n"
     ]
    }
   ],
   "source": [
    "## Random Forest model with features selected by Chi-Square method.\n",
    "X = mushroom[['gillcolor','ringtype','gillattachment','stalkshape']].values\n",
    "y = mushroom['veilcolor'].values\n",
    "\n",
    "# Partition data into training and test sets\n",
    "X_train, X_test, y_train, y_test = train_test_split(X, y, test_size = 0.2, random_state = 10)\n",
    "\n",
    "# prepare input data\n",
    "X_train_enc, X_test_enc = prepare_inputs(X_train, X_test)\n",
    "# prepare output data\n",
    "y_train_enc, y_test_enc = prepare_targets(y_train, y_test)\n",
    "\n",
    "from imblearn.over_sampling import SMOTE\n",
    "smote = SMOTE('minority')\n",
    "X_sm, y_sm = smote.fit_sample(X_train_enc,y_train_enc)\n",
    "\n",
    "from sklearn.ensemble import RandomForestClassifier\n",
    "forest = RandomForestClassifier().fit(X_sm, y_sm)\n",
    "# Predicted class\n",
    "print(forest.predict(X_test_enc))"
   ]
  },
  {
   "cell_type": "markdown",
   "metadata": {},
   "source": [
    "Print the multi-label confusion matrix:"
   ]
  },
  {
   "cell_type": "code",
   "execution_count": 722,
   "metadata": {},
   "outputs": [
    {
     "data": {
      "text/plain": [
       "array([[[1595,    0],\n",
       "        [  30,    0]],\n",
       "\n",
       "       [[1580,   30],\n",
       "        [   0,   15]],\n",
       "\n",
       "       [[  47,    0],\n",
       "        [  28, 1550]],\n",
       "\n",
       "       [[1595,   28],\n",
       "        [   0,    2]]])"
      ]
     },
     "execution_count": 722,
     "metadata": {},
     "output_type": "execute_result"
    }
   ],
   "source": [
    "predictions = forest.predict(X_test_enc)\n",
    "from sklearn.metrics import multilabel_confusion_matrix\n",
    "multilabel_confusion_matrix(y_test_enc, predictions)"
   ]
  },
  {
   "cell_type": "markdown",
   "metadata": {},
   "source": [
    "Calculating recall (also called the true positive rate or the sensitivity) for each class:"
   ]
  },
  {
   "cell_type": "code",
   "execution_count": 723,
   "metadata": {},
   "outputs": [
    {
     "data": {
      "text/plain": [
       "array([0.        , 1.        , 0.98225602, 1.        ])"
      ]
     },
     "execution_count": 723,
     "metadata": {},
     "output_type": "execute_result"
    }
   ],
   "source": [
    "mcm = multilabel_confusion_matrix(y_test_enc, predictions)\n",
    "tn = mcm[:, 0, 0]\n",
    "tp = mcm[:, 1, 1]\n",
    "fn = mcm[:, 1, 0]\n",
    "fp = mcm[:, 0, 1]\n",
    "tp / (tp + fn)"
   ]
  },
  {
   "cell_type": "markdown",
   "metadata": {},
   "source": [
    "Calculating specificity (also called the true negative rate) for each class:"
   ]
  },
  {
   "cell_type": "code",
   "execution_count": 724,
   "metadata": {},
   "outputs": [
    {
     "data": {
      "text/plain": [
       "array([1.        , 0.98136646, 1.        , 0.982748  ])"
      ]
     },
     "execution_count": 724,
     "metadata": {},
     "output_type": "execute_result"
    }
   ],
   "source": [
    "tn / (tn + fp)"
   ]
  },
  {
   "cell_type": "markdown",
   "metadata": {},
   "source": [
    "Calculating accuracy for each class:"
   ]
  },
  {
   "cell_type": "code",
   "execution_count": 725,
   "metadata": {},
   "outputs": [
    {
     "data": {
      "text/plain": [
       "array([0.98153846, 0.98153846, 0.98276923, 0.98276923])"
      ]
     },
     "execution_count": 725,
     "metadata": {},
     "output_type": "execute_result"
    }
   ],
   "source": [
    "(tp + tn) / (tn + fp + tp + fn)"
   ]
  },
  {
   "cell_type": "markdown",
   "metadata": {},
   "source": [
    "Calculating precision for each class:"
   ]
  },
  {
   "cell_type": "code",
   "execution_count": 726,
   "metadata": {},
   "outputs": [
    {
     "data": {
      "text/plain": [
       "array([       nan, 0.33333333, 1.        , 0.06666667])"
      ]
     },
     "execution_count": 726,
     "metadata": {},
     "output_type": "execute_result"
    }
   ],
   "source": [
    "tp / (tp + fp)"
   ]
  },
  {
   "cell_type": "markdown",
   "metadata": {},
   "source": [
    "Calculating f1 score for each class:"
   ]
  },
  {
   "cell_type": "code",
   "execution_count": 727,
   "metadata": {},
   "outputs": [
    {
     "data": {
      "text/plain": [
       "array([       nan, 0.5       , 0.99104859, 0.125     ])"
      ]
     },
     "execution_count": 727,
     "metadata": {},
     "output_type": "execute_result"
    }
   ],
   "source": [
    "2 / ((1/(tp / (tp + fn))) + ((1/(tp / (tp + fp)))))"
   ]
  },
  {
   "cell_type": "markdown",
   "metadata": {},
   "source": [
    "### Plot the ROC curve:"
   ]
  },
  {
   "cell_type": "code",
   "execution_count": 728,
   "metadata": {},
   "outputs": [
    {
     "data": {
      "image/png": "[encoded data removed]",
      "text/plain": [
       "<Figure size 432x288 with 1 Axes>"
      ]
     },
     "metadata": {
      "needs_background": "light"
     },
     "output_type": "display_data"
    },
    {
     "data": {
      "image/png": "[encoded data removed]",
      "text/plain": [
       "<Figure size 432x288 with 1 Axes>"
      ]
     },
     "metadata": {
      "needs_background": "light"
     },
     "output_type": "display_data"
    },
    {
     "data": {
      "image/png": "[encoded data removed]",
      "text/plain": [
       "<Figure size 432x288 with 1 Axes>"
      ]
     },
     "metadata": {
      "needs_background": "light"
     },
     "output_type": "display_data"
    },
    {
     "data": {
      "image/png": "[encoded data removed]",
      "text/plain": [
       "<Figure size 432x288 with 1 Axes>"
      ]
     },
     "metadata": {
      "needs_background": "light"
     },
     "output_type": "display_data"
    }
   ],
   "source": [
    "from sklearn.metrics import roc_curve, auc\n",
    "from sklearn import datasets\n",
    "from sklearn.multiclass import OneVsRestClassifier\n",
    "from sklearn.svm import LinearSVC\n",
    "from sklearn.preprocessing import label_binarize\n",
    "import matplotlib.pyplot as plt\n",
    "\n",
    "X = mushroom[['gillcolor','ringtype','gillattachment','stalkshape']].values\n",
    "y = mushroom['veilcolor'].values    \n",
    "\n",
    "y = label_binarize(y, classes=['w','n','o','y'])\n",
    "n_classes = 4\n",
    "\n",
    "# shuffle and split training and test sets\n",
    "X_train, X_test, y_train, y_test = train_test_split(X, y, test_size=0.2, random_state=0)\n",
    "\n",
    "X_train_enc, X_test_enc = prepare_inputs(X_train, X_test)\n",
    "\n",
    "from imblearn.over_sampling import SMOTE\n",
    "smote = SMOTE('minority')\n",
    "X_sm, y_sm = smote.fit_sample(X_train_enc,y_train)\n",
    "\n",
    "from sklearn.ensemble import RandomForestClassifier\n",
    "forest = RandomForestClassifier().fit(X_sm, y_sm)\n",
    "predictions = forest.predict(X_test_enc)\n",
    "# Predicted class\n",
    "\n",
    "# Compute ROC curve and ROC area for each class\n",
    "fpr = dict()\n",
    "tpr = dict()\n",
    "roc_auc = dict()\n",
    "for i in range(n_classes):\n",
    "    fpr[i], tpr[i], _ = roc_curve(y_test[:, i], predictions[:, i])\n",
    "    roc_auc[i] = auc(fpr[i], tpr[i])\n",
    "\n",
    "# Plot of a ROC curve for a specific class\n",
    "for i in range(n_classes):\n",
    "    plt.figure()\n",
    "    plt.plot(fpr[i], tpr[i], label='ROC curve (area = %0.2f)' % roc_auc[i])\n",
    "    plt.plot([0, 1], [0, 1], 'k--')\n",
    "    plt.xlim([0.0, 1.0])\n",
    "    plt.ylim([0.0, 1.05])\n",
    "    plt.xlabel('False Positive Rate')\n",
    "    plt.ylabel('True Positive Rate')\n",
    "    plt.title('Receiver operating characteristic example')\n",
    "    plt.legend(loc=\"lower right\")\n",
    "    plt.show()"
   ]
  },
  {
   "cell_type": "markdown",
   "metadata": {},
   "source": [
    "### 3. Decision Tree model with features selected by mutual information method."
   ]
  },
  {
   "cell_type": "code",
   "execution_count": 729,
   "metadata": {},
   "outputs": [
    {
     "name": "stdout",
     "output_type": "stream",
     "text": [
      "[2 2 2 ... 2 2 2]\n"
     ]
    }
   ],
   "source": [
    "## Decision Tree model with features selected by mutual information method.\n",
    "X = mushroom[['gillattachment','sporeprintcolor','gillcolor','habitat']].values\n",
    "y = mushroom['veilcolor'].values\n",
    "\n",
    "# Partition data into training and test sets\n",
    "X_train, X_test, y_train, y_test = train_test_split(X, y, test_size = 0.2, random_state = 10)\n",
    "\n",
    "# prepare input data\n",
    "X_train_enc, X_test_enc = prepare_inputs(X_train, X_test)\n",
    "# prepare output data\n",
    "y_train_enc, y_test_enc = prepare_targets(y_train, y_test)\n",
    "\n",
    "from imblearn.over_sampling import SMOTE\n",
    "smote = SMOTE('minority')\n",
    "X_sm, y_sm = smote.fit_sample(X_train_enc,y_train_enc)\n",
    "\n",
    "from sklearn.tree import DecisionTreeClassifier\n",
    "tree = DecisionTreeClassifier().fit(X_sm, y_sm)\n",
    "# Predicted class\n",
    "print(tree.predict(X_test_enc))"
   ]
  },
  {
   "cell_type": "markdown",
   "metadata": {},
   "source": [
    "Print the multi-label confusion matrix:"
   ]
  },
  {
   "cell_type": "code",
   "execution_count": 693,
   "metadata": {},
   "outputs": [
    {
     "data": {
      "text/plain": [
       "array([[[1587,    8],\n",
       "        [  26,    4]],\n",
       "\n",
       "       [[1584,   26],\n",
       "        [   8,    7]],\n",
       "\n",
       "       [[  47,    0],\n",
       "        [   6, 1572]],\n",
       "\n",
       "       [[1617,    6],\n",
       "        [   0,    2]]])"
      ]
     },
     "execution_count": 693,
     "metadata": {},
     "output_type": "execute_result"
    }
   ],
   "source": [
    "predictions = tree.predict(X_test_enc)\n",
    "from sklearn.metrics import multilabel_confusion_matrix\n",
    "multilabel_confusion_matrix(y_test_enc, predictions)"
   ]
  },
  {
   "cell_type": "markdown",
   "metadata": {},
   "source": [
    "Calculating recall (also called the true positive rate or the sensitivity) for each class:"
   ]
  },
  {
   "cell_type": "code",
   "execution_count": 694,
   "metadata": {},
   "outputs": [
    {
     "data": {
      "text/plain": [
       "array([0.13333333, 0.46666667, 0.99619772, 1.        ])"
      ]
     },
     "execution_count": 694,
     "metadata": {},
     "output_type": "execute_result"
    }
   ],
   "source": [
    "mcm = multilabel_confusion_matrix(y_test_enc, predictions)\n",
    "tn = mcm[:, 0, 0]\n",
    "tp = mcm[:, 1, 1]\n",
    "fn = mcm[:, 1, 0]\n",
    "fp = mcm[:, 0, 1]\n",
    "tp / (tp + fn)"
   ]
  },
  {
   "cell_type": "markdown",
   "metadata": {},
   "source": [
    "Calculating specificity (also called the true negative rate) for each class:"
   ]
  },
  {
   "cell_type": "code",
   "execution_count": 695,
   "metadata": {},
   "outputs": [
    {
     "data": {
      "text/plain": [
       "array([0.99498433, 0.98385093, 1.        , 0.99630314])"
      ]
     },
     "execution_count": 695,
     "metadata": {},
     "output_type": "execute_result"
    }
   ],
   "source": [
    "tn / (tn + fp)"
   ]
  },
  {
   "cell_type": "markdown",
   "metadata": {},
   "source": [
    "Calculating accuracy for each class:"
   ]
  },
  {
   "cell_type": "code",
   "execution_count": 696,
   "metadata": {},
   "outputs": [
    {
     "data": {
      "text/plain": [
       "array([0.97907692, 0.97907692, 0.99630769, 0.99630769])"
      ]
     },
     "execution_count": 696,
     "metadata": {},
     "output_type": "execute_result"
    }
   ],
   "source": [
    "(tp + tn) / (tn + fp + tp + fn)"
   ]
  },
  {
   "cell_type": "markdown",
   "metadata": {},
   "source": [
    "Calculating precision for each class:"
   ]
  },
  {
   "cell_type": "code",
   "execution_count": 697,
   "metadata": {},
   "outputs": [
    {
     "data": {
      "text/plain": [
       "array([0.33333333, 0.21212121, 1.        , 0.25      ])"
      ]
     },
     "execution_count": 697,
     "metadata": {},
     "output_type": "execute_result"
    }
   ],
   "source": [
    "tp / (tp + fp)"
   ]
  },
  {
   "cell_type": "markdown",
   "metadata": {},
   "source": [
    "Calculating f1 score for each class:"
   ]
  },
  {
   "cell_type": "code",
   "execution_count": 698,
   "metadata": {},
   "outputs": [
    {
     "data": {
      "text/plain": [
       "array([0.19047619, 0.29166667, 0.99809524, 0.4       ])"
      ]
     },
     "execution_count": 698,
     "metadata": {},
     "output_type": "execute_result"
    }
   ],
   "source": [
    "2 / ((1/(tp / (tp + fn))) + ((1/(tp / (tp + fp)))))"
   ]
  },
  {
   "cell_type": "markdown",
   "metadata": {},
   "source": [
    "### Plot the ROC curve:"
   ]
  },
  {
   "cell_type": "code",
   "execution_count": 699,
   "metadata": {},
   "outputs": [
    {
     "data": {
      "image/png": "[encoded data removed]",
      "text/plain": [
       "<Figure size 432x288 with 1 Axes>"
      ]
     },
     "metadata": {
      "needs_background": "light"
     },
     "output_type": "display_data"
    },
    {
     "data": {
      "image/png": "[encoded data removed]",
      "text/plain": [
       "<Figure size 432x288 with 1 Axes>"
      ]
     },
     "metadata": {
      "needs_background": "light"
     },
     "output_type": "display_data"
    },
    {
     "data": {
      "image/png": "[encoded data removed]",
      "text/plain": [
       "<Figure size 432x288 with 1 Axes>"
      ]
     },
     "metadata": {
      "needs_background": "light"
     },
     "output_type": "display_data"
    },
    {
     "data": {
      "image/png": "[encoded data removed]",
      "text/plain": [
       "<Figure size 432x288 with 1 Axes>"
      ]
     },
     "metadata": {
      "needs_background": "light"
     },
     "output_type": "display_data"
    }
   ],
   "source": [
    "from sklearn.metrics import roc_curve, auc\n",
    "from sklearn import datasets\n",
    "from sklearn.multiclass import OneVsRestClassifier\n",
    "from sklearn.svm import LinearSVC\n",
    "from sklearn.preprocessing import label_binarize\n",
    "import matplotlib.pyplot as plt\n",
    "\n",
    "X = mushroom[['gillattachment','sporeprintcolor','gillcolor','habitat']].values\n",
    "y = mushroom['veilcolor'].values    \n",
    "\n",
    "y = label_binarize(y, classes=['w','n','o','y'])\n",
    "n_classes = 4\n",
    "\n",
    "# shuffle and split training and test sets\n",
    "X_train, X_test, y_train, y_test = train_test_split(X, y, test_size=0.2, random_state=0)\n",
    "\n",
    "X_train_enc, X_test_enc = prepare_inputs(X_train, X_test)\n",
    "\n",
    "from imblearn.over_sampling import SMOTE\n",
    "smote = SMOTE('minority')\n",
    "X_sm, y_sm = smote.fit_sample(X_train_enc,y_train)\n",
    "\n",
    "from sklearn.tree import DecisionTreeClassifier\n",
    "tree = DecisionTreeClassifier().fit(X_sm, y_sm)\n",
    "predictions = tree.predict(X_test_enc)\n",
    "# Predicted class\n",
    "\n",
    "# Compute ROC curve and ROC area for each class\n",
    "fpr = dict()\n",
    "tpr = dict()\n",
    "roc_auc = dict()\n",
    "for i in range(n_classes):\n",
    "    fpr[i], tpr[i], _ = roc_curve(y_test[:, i], predictions[:, i])\n",
    "    roc_auc[i] = auc(fpr[i], tpr[i])\n",
    "\n",
    "# Plot of a ROC curve for a specific class\n",
    "for i in range(n_classes):\n",
    "    plt.figure()\n",
    "    plt.plot(fpr[i], tpr[i], label='ROC curve (area = %0.2f)' % roc_auc[i])\n",
    "    plt.plot([0, 1], [0, 1], 'k--')\n",
    "    plt.xlim([0.0, 1.0])\n",
    "    plt.ylim([0.0, 1.05])\n",
    "    plt.xlabel('False Positive Rate')\n",
    "    plt.ylabel('True Positive Rate')\n",
    "    plt.title('Receiver operating characteristic example')\n",
    "    plt.legend(loc=\"lower right\")\n",
    "    plt.show()"
   ]
  },
  {
   "cell_type": "markdown",
   "metadata": {},
   "source": [
    "### 4. Random Forest model with features selected by mutual information method."
   ]
  },
  {
   "cell_type": "code",
   "execution_count": 705,
   "metadata": {},
   "outputs": [
    {
     "name": "stdout",
     "output_type": "stream",
     "text": [
      "[2 2 2 ... 2 2 2]\n"
     ]
    }
   ],
   "source": [
    "## Random Forest model with features selected by mutual information method.\n",
    "X = mushroom[['gillattachment','sporeprintcolor','gillcolor','habitat']].values\n",
    "y = mushroom['veilcolor'].values\n",
    "\n",
    "# Partition data into training and test sets\n",
    "X_train, X_test, y_train, y_test = train_test_split(X, y, test_size = 0.2, random_state = 10)\n",
    "\n",
    "# prepare input data\n",
    "X_train_enc, X_test_enc = prepare_inputs(X_train, X_test)\n",
    "# prepare output data\n",
    "y_train_enc, y_test_enc = prepare_targets(y_train, y_test)\n",
    "\n",
    "from imblearn.over_sampling import SMOTE\n",
    "smote = SMOTE('minority')\n",
    "X_sm, y_sm = smote.fit_sample(X_train_enc,y_train_enc)\n",
    "\n",
    "from sklearn.ensemble import RandomForestClassifier\n",
    "tree = RandomForestClassifier().fit(X_sm, y_sm)\n",
    "# Predicted class\n",
    "print(tree.predict(X_test_enc))"
   ]
  },
  {
   "cell_type": "markdown",
   "metadata": {},
   "source": [
    "Print the multi-label confusion matrix:"
   ]
  },
  {
   "cell_type": "code",
   "execution_count": 706,
   "metadata": {},
   "outputs": [
    {
     "data": {
      "text/plain": [
       "array([[[1587,    8],\n",
       "        [  25,    5]],\n",
       "\n",
       "       [[1585,   25],\n",
       "        [   8,    7]],\n",
       "\n",
       "       [[  47,    0],\n",
       "        [   6, 1572]],\n",
       "\n",
       "       [[1617,    6],\n",
       "        [   0,    2]]])"
      ]
     },
     "execution_count": 706,
     "metadata": {},
     "output_type": "execute_result"
    }
   ],
   "source": [
    "predictions = tree.predict(X_test_enc)\n",
    "from sklearn.metrics import multilabel_confusion_matrix\n",
    "multilabel_confusion_matrix(y_test_enc, predictions)"
   ]
  },
  {
   "cell_type": "markdown",
   "metadata": {},
   "source": [
    "Calculating recall (also called the true positive rate or the sensitivity) for each class:"
   ]
  },
  {
   "cell_type": "code",
   "execution_count": 707,
   "metadata": {},
   "outputs": [
    {
     "data": {
      "text/plain": [
       "array([0.16666667, 0.46666667, 0.99619772, 1.        ])"
      ]
     },
     "execution_count": 707,
     "metadata": {},
     "output_type": "execute_result"
    }
   ],
   "source": [
    "mcm = multilabel_confusion_matrix(y_test_enc, predictions)\n",
    "tn = mcm[:, 0, 0]\n",
    "tp = mcm[:, 1, 1]\n",
    "fn = mcm[:, 1, 0]\n",
    "fp = mcm[:, 0, 1]\n",
    "tp / (tp + fn)"
   ]
  },
  {
   "cell_type": "markdown",
   "metadata": {},
   "source": [
    "Calculating specificity (also called the true negative rate) for each class:"
   ]
  },
  {
   "cell_type": "code",
   "execution_count": 708,
   "metadata": {},
   "outputs": [
    {
     "data": {
      "text/plain": [
       "array([0.99498433, 0.98447205, 1.        , 0.99630314])"
      ]
     },
     "execution_count": 708,
     "metadata": {},
     "output_type": "execute_result"
    }
   ],
   "source": [
    "tn / (tn + fp)"
   ]
  },
  {
   "cell_type": "markdown",
   "metadata": {},
   "source": [
    "Calculating accuracy for each class:"
   ]
  },
  {
   "cell_type": "code",
   "execution_count": 709,
   "metadata": {},
   "outputs": [
    {
     "data": {
      "text/plain": [
       "array([0.97969231, 0.97969231, 0.99630769, 0.99630769])"
      ]
     },
     "execution_count": 709,
     "metadata": {},
     "output_type": "execute_result"
    }
   ],
   "source": [
    "(tp + tn) / (tn + fp + tp + fn)"
   ]
  },
  {
   "cell_type": "markdown",
   "metadata": {},
   "source": [
    "Calculating precision for each class:"
   ]
  },
  {
   "cell_type": "code",
   "execution_count": 710,
   "metadata": {},
   "outputs": [
    {
     "data": {
      "text/plain": [
       "array([0.38461538, 0.21875   , 1.        , 0.25      ])"
      ]
     },
     "execution_count": 710,
     "metadata": {},
     "output_type": "execute_result"
    }
   ],
   "source": [
    "tp / (tp + fp)"
   ]
  },
  {
   "cell_type": "markdown",
   "metadata": {},
   "source": [
    "Calculating f1 score for each class:"
   ]
  },
  {
   "cell_type": "code",
   "execution_count": 711,
   "metadata": {},
   "outputs": [
    {
     "data": {
      "text/plain": [
       "array([0.23255814, 0.29787234, 0.99809524, 0.4       ])"
      ]
     },
     "execution_count": 711,
     "metadata": {},
     "output_type": "execute_result"
    }
   ],
   "source": [
    "2 / ((1/(tp / (tp + fn))) + ((1/(tp / (tp + fp)))))"
   ]
  },
  {
   "cell_type": "markdown",
   "metadata": {},
   "source": [
    "### Plot the ROC curve"
   ]
  },
  {
   "cell_type": "code",
   "execution_count": 712,
   "metadata": {},
   "outputs": [
    {
     "data": {
      "image/png": "[encoded data removed]",
      "text/plain": [
       "<Figure size 432x288 with 1 Axes>"
      ]
     },
     "metadata": {
      "needs_background": "light"
     },
     "output_type": "display_data"
    },
    {
     "data": {
      "image/png": "[encoded data removed]",
      "text/plain": [
       "<Figure size 432x288 with 1 Axes>"
      ]
     },
     "metadata": {
      "needs_background": "light"
     },
     "output_type": "display_data"
    },
    {
     "data": {
      "image/png": "[encoded data removed]",
      "text/plain": [
       "<Figure size 432x288 with 1 Axes>"
      ]
     },
     "metadata": {
      "needs_background": "light"
     },
     "output_type": "display_data"
    },
    {
     "data": {
      "image/png": "[encoded data removed]",
      "text/plain": [
       "<Figure size 432x288 with 1 Axes>"
      ]
     },
     "metadata": {
      "needs_background": "light"
     },
     "output_type": "display_data"
    }
   ],
   "source": [
    "from sklearn.metrics import roc_curve, auc\n",
    "from sklearn import datasets\n",
    "from sklearn.multiclass import OneVsRestClassifier\n",
    "from sklearn.svm import LinearSVC\n",
    "from sklearn.preprocessing import label_binarize\n",
    "import matplotlib.pyplot as plt\n",
    "from sklearn.ensemble import RandomForestClassifier\n",
    "\n",
    "X = mushroom[['gillattachment','sporeprintcolor','gillcolor','habitat']].values\n",
    "y = mushroom['veilcolor'].values    \n",
    "\n",
    "y = label_binarize(y, classes=['w','n','o','y'])\n",
    "n_classes = 4\n",
    "\n",
    "# shuffle and split training and test sets\n",
    "X_train, X_test, y_train, y_test = train_test_split(X, y, test_size=0.2, random_state=0)\n",
    "\n",
    "X_train_enc, X_test_enc = prepare_inputs(X_train, X_test)\n",
    "\n",
    "from imblearn.over_sampling import SMOTE\n",
    "smote = SMOTE('minority')\n",
    "X_sm, y_sm = smote.fit_sample(X_train_enc,y_train)\n",
    "\n",
    "forest = RandomForestClassifier().fit(X_sm, y_sm)\n",
    "predictions = forest.predict(X_test_enc)\n",
    "# Predicted class\n",
    "\n",
    "# Compute ROC curve and ROC area for each class\n",
    "fpr = dict()\n",
    "tpr = dict()\n",
    "roc_auc = dict()\n",
    "for i in range(n_classes):\n",
    "    fpr[i], tpr[i], _ = roc_curve(y_test[:, i], predictions[:, i])\n",
    "    roc_auc[i] = auc(fpr[i], tpr[i])\n",
    "\n",
    "# Plot of a ROC curve for a specific class\n",
    "for i in range(n_classes):\n",
    "    plt.figure()\n",
    "    plt.plot(fpr[i], tpr[i], label='ROC curve (area = %0.2f)' % roc_auc[i])\n",
    "    plt.plot([0, 1], [0, 1], 'k--')\n",
    "    plt.xlim([0.0, 1.0])\n",
    "    plt.ylim([0.0, 1.05])\n",
    "    plt.xlabel('False Positive Rate')\n",
    "    plt.ylabel('True Positive Rate')\n",
    "    plt.title('Receiver operating characteristic example')\n",
    "    plt.legend(loc=\"lower right\")\n",
    "    plt.show()"
   ]
  },
  {
   "cell_type": "markdown",
   "metadata": {},
   "source": [
    "### Make a table to compare the metrics and ROC curve between Desicion Tree model and Random Forest model using features selected by Chi-Square method and mutual information method:\n",
    "\n",
    "#### I would construct two tables：\n",
    "#### 1. The first one is comparing Decision tree model and Random Forest model with features selected by Chi-Square method\n",
    "#### 2. The second one is comparing Decision tree model and Random Forest model with features selected by mutual information method."
   ]
  },
  {
   "cell_type": "markdown",
   "metadata": {},
   "source": [
    "1. Comparing Decision tree model and Random Forest model with features selected by Chi-Square method\n",
    "\n",
    "\n",
    "<table>\n",
    "  <thead>\n",
    "    <tr>\n",
    "      <th>Metric score</th>\n",
    "      <th>white:w Decision Tree </th>\n",
    "      <th>white:w Random Forest</th>\n",
    "      <th>brown:n Decision Tree</th>\n",
    "      <th>brown:n Random Forest</th>\n",
    "      <th>orange:o Decision Tree</th>\n",
    "      <th>orange:o Random Forest</th>\n",
    "      <th>yellow:y Decision Tree</th>\n",
    "      <th>yellow:y Random Forest</th>\n",
    "    </tr>\n",
    "  </thead>\n",
    "  <tbody>\n",
    "    <tr>\n",
    "      <td>Accuracy</td>\n",
    "      <th>0.98153846</th>\n",
    "      <th>0.98153846</th>\n",
    "      <th>0.98153846</th>\n",
    "      <th>0.98153846</th>\n",
    "      <th>0.98276923</th>\n",
    "      <th>0.98276923</th>\n",
    "      <th>0.98276923</th>\n",
    "      <th>0.98276923</th>\n",
    "    </tr>\n",
    "    <tr>\n",
    "      <td>Precision</td>\n",
    "      <th>nan</th>\n",
    "      <th>nan</th>\n",
    "      <th>0.33333333</th>\n",
    "      <th>0.33333333</th>\n",
    "      <th>1.0</th>\n",
    "      <th>1.0</th>\n",
    "      <th>0.06666667</th>\n",
    "      <th>0.06666667</th>\n",
    "    </tr>\n",
    "      <tr>\n",
    "      <td>Recall</td>\n",
    "      <th>0</th>\n",
    "      <th>0</th>\n",
    "      <th>1.0</th>\n",
    "      <th>1.0</th>\n",
    "      <th>0.98225602</th>\n",
    "      <th>0.98225602</th>\n",
    "      <th>1.0 </th>\n",
    "      <th>1.0</th>\n",
    "    </tr>\n",
    "    <tr>\n",
    "      <td>Specificity</td>\n",
    "      <th>1.0</th>\n",
    "      <th>1.0</th>\n",
    "      <th>0.98136646</th>\n",
    "      <th>0.98136646</th>\n",
    "      <th>1.0</th>\n",
    "      <th>1.0</th>\n",
    "      <th>0.982748</th>\n",
    "      <th>0.982748</th>\n",
    "    </tr>\n",
    "      <tr>\n",
    "      <td>f1 score</td>\n",
    "      <th>nan</th>\n",
    "      <th>nan</th>\n",
    "      <th>0.5</th>\n",
    "      <th>0.5</th>\n",
    "      <th> 0.99104859</th>\n",
    "      <th>0.99104859</th>\n",
    "      <th>0.125</th>\n",
    "      <th>0.125</th>\n",
    "      </tr>\n",
    "      <tr>\n",
    "      <td>ROC curve area</td>\n",
    "      <th>0.99</th>\n",
    "      <th>0.99</th>\n",
    "      <th>0.81</th>\n",
    "      <th>0.91</th>\n",
    "      <th>0.61</th>\n",
    "      <th>0.61</th>\n",
    "      <th>0.99</th>\n",
    "      <th>0.99</th>\n",
    "    </tr>\n",
    "  </tbody>\n",
    "</table>"
   ]
  },
  {
   "cell_type": "markdown",
   "metadata": {},
   "source": [
    "2. Comparing Decision tree model and Random Forest model with features selected by mutual information method\n",
    "\n",
    "\n",
    "<table>\n",
    "  <thead>\n",
    "    <tr>\n",
    "      <th>Metric score</th>\n",
    "      <th>white:w Decision Tree Chi</th>\n",
    "      <th>white:w Random Forest</th>\n",
    "      <th>brown:n Decision Tree</th>\n",
    "      <th>brown:n Random Forest</th>\n",
    "      <th>orange:o Decision Tree</th>\n",
    "      <th>orange:o Random Forest</th>\n",
    "      <th>yellow:y Decision Tree</th>\n",
    "      <th>yellow:y Random Forest</th>\n",
    "    </tr>\n",
    "  </thead>\n",
    "  <tbody>\n",
    "    <tr>\n",
    "      <td>Accuracy</td>\n",
    "      <th>0.97907692</th>\n",
    "      <th>0.97969231</th>\n",
    "      <th>0.97907692</th>\n",
    "      <th>0.97969231</th>\n",
    "      <th>0.99630769</th>\n",
    "      <th>0.99630769</th>\n",
    "      <th>0.99630769</th>\n",
    "      <th>0.99630769</th>\n",
    "    </tr>\n",
    "    <tr>\n",
    "      <td>Precision</td>\n",
    "      <th>0.33333333</th>\n",
    "      <th>0.38461538</th>\n",
    "      <th>0.21212121</th>\n",
    "      <th>0.21875</th>\n",
    "      <th>1.0</th>\n",
    "      <th>1.0</th>\n",
    "      <th>0.25</th>\n",
    "      <th>0.25</th>\n",
    "    </tr>\n",
    "      <tr>\n",
    "      <td>Recall</td>\n",
    "      <th>0.13333333</th>\n",
    "      <th>0.16666667</th>\n",
    "      <th>0.46666667</th>\n",
    "      <th>0.46666667</th>\n",
    "      <th>0.99619772</th>\n",
    "      <th>0.99619772</th>\n",
    "      <th>1.0 </th>\n",
    "      <th>1.0</th>\n",
    "    </tr>\n",
    "    <tr>\n",
    "      <td>Specificity</td>\n",
    "      <th>0.99498433</th>\n",
    "      <th>0.99498433</th>\n",
    "      <th>0.98385093</th>\n",
    "      <th>0.98447205</th>\n",
    "      <th>1.0</th>\n",
    "      <th>1.0</th>\n",
    "      <th>0.99630314</th>\n",
    "      <th>0.99630314</th>\n",
    "    </tr>\n",
    "      <tr>\n",
    "      <td>f1 score</td>\n",
    "      <th>0.19047619</th>\n",
    "      <th>0.23255814</th>\n",
    "      <th>0.29166667</th>\n",
    "      <th>0.29787234</th>\n",
    "      <th>0.99809524</th>\n",
    "      <th>0.99809524</th>\n",
    "      <th>0.4</th>\n",
    "      <th>0.4</th>\n",
    "      </tr>\n",
    "      <tr>\n",
    "      <td>ROC curve area</td>\n",
    "      <th>1.0</th>\n",
    "      <th>1.0</th>\n",
    "      <th>0.61</th>\n",
    "      <th>0.73</th>\n",
    "      <th>0.61</th>\n",
    "      <th>0.61</th>\n",
    "      <th>1.0</th>\n",
    "      <th>1.0</th>\n",
    "    </tr>\n",
    "  </tbody>\n",
    "</table>"
   ]
  },
  {
   "cell_type": "markdown",
   "metadata": {},
   "source": [
    "### Temporary conclusion:\n",
    "\n",
    "- After selecting features using Chi-Square and Mutual information method and fit the features into Decision Tree model and Mutual information model, the results of the metrics from Decision Tree model and Random Forest Model are almost the same.\n",
    "\n",
    "- In comparison between Decision tree model and Random Forest model with features selected by mutual information method, Random Forest model has higher accuracy, higher precision, higher recall, higher specificity, higher f1 score and higher ROC curve area.\n",
    "\n",
    "- Therefore, Random Forest model is better than Decision Tree model in performace of the model with features selected by Mutual Information method."
   ]
  },
  {
   "cell_type": "markdown",
   "metadata": {},
   "source": [
    "#### Next I will construct a table to compare the Random Forest Tree model with the features seclected by Chi-Square method and the Random Forest Tree model with the features selected by mutual information method, to see which one is a better model:"
   ]
  },
  {
   "cell_type": "markdown",
   "metadata": {},
   "source": [
    "<table>\n",
    "  <thead>\n",
    "    <tr>\n",
    "      <th>Metric score</th>\n",
    "      <th>white:w Chi-Square </th>\n",
    "      <th>white:w Mutual Information</th>\n",
    "      <th>brown:n Chi-Square</th>\n",
    "      <th>brown:n Mutual Information</th>\n",
    "      <th>orange:o Chi-Square</th>\n",
    "      <th>orange:o Mutual Information</th>\n",
    "      <th>yellow:y Chi-Square</th>\n",
    "      <th>yellow:y Mutual Information</th>\n",
    "    </tr>\n",
    "  </thead>\n",
    "  <tbody>\n",
    "    <tr>\n",
    "      <td>Accuracy</td>\n",
    "      <th>0.98153846</th>\n",
    "      <th>0.97969231</th>\n",
    "      <th>0.98153846</th>\n",
    "      <th>0.97969231</th>\n",
    "      <th>0.98276923</th>\n",
    "      <th>0.99630769</th>\n",
    "      <th>0.98276923</th>\n",
    "      <th>0.99630769</th>\n",
    "    </tr>\n",
    "    <tr>\n",
    "      <td>Precision</td>\n",
    "      <th>nan</th>\n",
    "      <th>0.38461538</th>\n",
    "      <th>0.33333333</th>\n",
    "      <th>0.21875</th>\n",
    "      <th>1.0</th>\n",
    "      <th>1.0</th>\n",
    "      <th>0.06666667</th>\n",
    "      <th>0.25</th>\n",
    "    </tr>\n",
    "      <tr>\n",
    "      <td>Recall</td>\n",
    "      <th>0</th>\n",
    "      <th>0.16666667</th>\n",
    "      <th>1.0</th>\n",
    "      <th>0.46666667</th>\n",
    "      <th>0.98225602</th>\n",
    "      <th>0.99619772</th>\n",
    "      <th>1.0 </th>\n",
    "      <th>1.0</th>\n",
    "    </tr>\n",
    "    <tr>\n",
    "      <td>Specificity</td>\n",
    "      <th>1.0</th>\n",
    "      <th>0.99498433</th>\n",
    "      <th>0.98136646</th>\n",
    "      <th>0.98447205</th>\n",
    "      <th>1.0</th>\n",
    "      <th>1.0</th>\n",
    "      <th>0.982748</th>\n",
    "      <th>0.99630314</th>\n",
    "    </tr>\n",
    "      <tr>\n",
    "      <td>f1 score</td>\n",
    "      <th>nan</th>\n",
    "      <th>0.23255814</th>\n",
    "      <th>0.5</th>\n",
    "      <th>0.29787234</th>\n",
    "      <th>0.99104859</th>\n",
    "      <th>0.99809524</th>\n",
    "      <th>0.125</th>\n",
    "      <th>0.4</th>\n",
    "      </tr>\n",
    "      <tr>\n",
    "      <td>ROC curve area</td>\n",
    "      <th>0.99</th>\n",
    "      <th>1.0</th>\n",
    "      <th>0.91</th>\n",
    "      <th>0.73</th>\n",
    "      <th>0.61</th>\n",
    "      <th>0.61</th>\n",
    "      <th>0.99</th>\n",
    "      <th>1.0</th>\n",
    "    </tr>\n",
    "  </tbody>\n",
    "</table>"
   ]
  },
  {
   "cell_type": "markdown",
   "metadata": {},
   "source": [
    "### Temporary conclusion:\n",
    "- Mutual information method has higher accuracy than Chi-Square method in predicting orange(o) and yellow(y), while Chi-Square method has higher accuracy than Mutual information method in predicting white(w) and brown(n).\n",
    "\n",
    "- Chi-square method has higher precision than Mutual information method in predicting brown(n) and yellow(y), while they have same precision while in predicting orange(o).\n",
    "\n",
    "- Mutual information method has higher recall in predicting white(o) and orange(o), while Chi-Square method has higher recall in predicting brown(n), they have same recall in predicting yellow(y).\n",
    "\n",
    "- Mutual information method has higher specificity in predicting brown(n) and yellow(y), while Chi-Square method has higher specificity in predicting white(w), they have the same specificity in predicting oriange(o).\n",
    "\n",
    "- Mutual information method has higher f1 score in predicting orange(o) and yellow(y), while Chi-Square method has higher f1 score in predicting brown(n).\n",
    "\n",
    "- Mutual information method has higher ROC curve area than Chi-Square method in predicting white(w) and yellow(y), while Chi-Square method has higher ROC curve area in predicting brown(n).\n",
    "\n",
    "Chi-Square method has better prediction in veil color brown(n), overall, the features selected by Mutual Information method behaves better."
   ]
  },
  {
   "cell_type": "markdown",
   "metadata": {},
   "source": [
    "## What's the best model?\n",
    "\n",
    "I will make a table to compare the random forest tree model after converting data to PCA with random forest tree model with features selected by Mutual Information method, to choose the 'best' model:"
   ]
  },
  {
   "cell_type": "markdown",
   "metadata": {},
   "source": [
    "<table>\n",
    "  <thead>\n",
    "    <tr>\n",
    "      <th>Metric score</th>\n",
    "      <th>white:w PCA </th>\n",
    "      <th>white:w Mutual Information</th>\n",
    "      <th>brown:n PCA</th>\n",
    "      <th>brown:n Mutual Information</th>\n",
    "      <th>orange:o PCA</th>\n",
    "      <th>orange:o Mutual Information</th>\n",
    "      <th>yellow:y PCA</th>\n",
    "      <th>yellow:y Mutual Information</th>\n",
    "    </tr>\n",
    "  </thead>\n",
    "  <tbody>\n",
    "    <tr>\n",
    "      <td>Accuracy</td>\n",
    "      <th>0.99876923</th>\n",
    "      <th>0.97969231</th>\n",
    "      <th>0.97353846</th>\n",
    "      <th>0.97969231</th>\n",
    "      <th>0.97353846</th>\n",
    "      <th>0.99630769</th>\n",
    "      <th>0.99876923</th>\n",
    "      <th>0.99630769</th>\n",
    "    </tr>\n",
    "    <tr>\n",
    "      <td>Precision</td>\n",
    "      <th>0.99873418</th>\n",
    "      <th>0.38461538</th>\n",
    "      <th>0</th>\n",
    "      <th>0.21875</th>\n",
    "      <th>0.0625</th>\n",
    "      <th>1.0</th>\n",
    "      <th>nan</th>\n",
    "      <th>0.25</th>\n",
    "    </tr>\n",
    "      <tr>\n",
    "      <td>Recall</td>\n",
    "      <th>1</th>\n",
    "      <th>0.16666667</th>\n",
    "      <th>0</th>\n",
    "      <th>0.46666667</th>\n",
    "      <th>0.13333333</th>\n",
    "      <th>0.99619772</th>\n",
    "      <th>0 </th>\n",
    "      <th>1.0</th>\n",
    "    </tr>\n",
    "    <tr>\n",
    "      <td>Specificity</td>\n",
    "      <th>0.95744681</th>\n",
    "      <th>0.99498433</th>\n",
    "      <th>0.99184953</th>\n",
    "      <th>0.98447205</th>\n",
    "      <th>0.98136646</th>\n",
    "      <th>1.0</th>\n",
    "      <th>1.0</th>\n",
    "      <th>0.99630314</th>\n",
    "    </tr>\n",
    "      <tr>\n",
    "      <td>f1 score</td>\n",
    "      <th>0.99936669</th>\n",
    "      <th>0.23255814</th>\n",
    "      <th>0</th>\n",
    "      <th>0.29787234</th>\n",
    "      <th>0.08510638</th>\n",
    "      <th>0.99809524</th>\n",
    "      <th>nan</th>\n",
    "      <th>0.4</th>\n",
    "      </tr>\n",
    "      <tr>\n",
    "      <td>ROC curve area</td>\n",
    "      <th>1.0</th>\n",
    "      <th>1.0</th>\n",
    "      <th>0.59</th>\n",
    "      <th>0.73</th>\n",
    "      <th>0.55</th>\n",
    "      <th>0.61</th>\n",
    "      <th>1.0</th>\n",
    "      <th>1.0</th>\n",
    "    </tr>\n",
    "  </tbody>\n",
    "</table>"
   ]
  },
  {
   "cell_type": "markdown",
   "metadata": {},
   "source": [
    "### Temporary conclusion:\n",
    "- Mutual information method has higher accuracy than PCA model in predicting brown(n) and orange(o), while PCA model has higher accuracy than Mutual information method in predicting white(w) and yellow(y).\n",
    "\n",
    "- PCA model has higher precision than Mutual information method in predicting white(w), while Mutual information method has higher precision in predicting brown(n) and orange(o).\n",
    "\n",
    "- Mutual information method has higher recall in predicting brown(n), orange(o) and yellow(y),while PCA model has higher recall in predicting white(w).\n",
    "\n",
    "- Mutual information method has higher specificity in predicting white(w) and orange(o), while PCA model has higher specificity in predicting brown(n) and yellow(y).\n",
    "\n",
    "- Mutual information method has higher f1 score in predicting brown(n) and orange(o), while PCA model has higher f1 score in predicting white(w).\n",
    "\n",
    "- Mutual information method has higher ROC curve area than PCA model in predicting brown(n) and orange(o), they have same ROC Curve area in predicting white(w) and yellow(y).\n",
    "\n",
    "PCA model has better predictions in white(w), while Mutual information method model is better in average."
   ]
  },
  {
   "cell_type": "markdown",
   "metadata": {},
   "source": [
    "## Final Conclusion"
   ]
  },
  {
   "cell_type": "markdown",
   "metadata": {},
   "source": [
    "1. After EDA, I delete one column which is veil type, because it does not provide any information for the classifications. Also, I delete the column 'stalk root' because it has too many missing values.\n",
    "\n",
    "2. From EDA, I found the target variable 'veil color' is an imbalanced data, therefore I perform SMOTE to solve this problem.\n",
    "\n",
    "3. I choose three different method to reduce the dimension of the dataset, first is PCA, I converted the whole data into two principal components, train and test the converted data using Decision Tree model and Random Forest model, calculate the metrics and plot the ROC curve. Second is the model with features selected by Chi-Square Method, the third is the model with features selected by mutual information method.\n",
    "\n",
    "4. Comparing with Decision Tree model after converting data to PCA and Random Forest model after converting data to PCA, I found Random Forest model has higher predictibility by comparing their metrics.\n",
    "\n",
    "5. Comparing Decsion Tree model and Random Forest model with features selected by Chi-Square Method, there is not much difference.\n",
    "\n",
    "6. Comparing Decsion Tree model and Random Forest model with features selected by Mutual Information Method, Random Forest Model gives a better ROC curve area.\n",
    "\n",
    "7. Comparing with Random Forest model with features selected by Chi-Square Method and Random Forest model with features selected by mutual information method, I found the model with features selected by mutual information method has higher predictibility.\n",
    "\n",
    "8. Comparing with Random Forest model with PCA and Random Forest model with features selected by mutual information method, I found the model with PCA has a better predictility in predicting white(o) while model with features selected by mutual information method has better score of metrics in average.\n",
    "\n",
    "Therefore, Random Forest model with data converting to PCA is the best model in my mind. "
   ]
  }
 ],
 "metadata": {
  "kernelspec": {
   "display_name": "Python 3",
   "language": "python",
   "name": "python3"
  },
  "language_info": {
   "codemirror_mode": {
    "name": "ipython",
    "version": 3
   },
   "file_extension": ".py",
   "mimetype": "text/x-python",
   "name": "python",
   "nbconvert_exporter": "python",
   "pygments_lexer": "ipython3",
   "version": "3.7.6"
  }
 },
 "nbformat": 4,
 "nbformat_minor": 4
}
