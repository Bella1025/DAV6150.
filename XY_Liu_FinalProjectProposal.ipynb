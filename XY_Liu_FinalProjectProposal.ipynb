{
 "cells": [
  {
   "cell_type": "markdown",
   "metadata": {},
   "source": [
    "## DAV 6150 Final Project Proposal - Xingyu Liu\n",
    "\n",
    "## Introduction\n",
    "\n",
    "Over and over years, betting is a thing which charms people much, especially betting on sports. Betting on football is one of them. People either want to try whether he/she has good luck to win a huge amount of money, or just for fun. Some people won a lot of money in one night, then lost it another night. Some people suicided because of losing too much money. There is an idea popping out: the creator of the betting games's final aim is to earn the money, so he would not set the odds of one team to win the match too high if this team has more probability to win the game according to the past match results. But does it mean the team with low odds always win the game? Would the probabilty of winning money be higher if a person always bet on the team which has lower odds at the beginning? \n",
    "\n",
    "## Research Questions (8 Points)\n",
    "\n",
    "1. Does the team with lower odds always win the match?\n",
    "2. Is team with much lower odds has more probability to win the match? (I mean, although a team already has a lower odds comparing with its opposite team in a match, but the odds it has is still much lower than other teams in other matches.)\n",
    "3. If a person always bet on team with lower odds, what will happen?\n",
    "\n",
    "I try to find whether the result of the match could be derived from the odds and the past results, if the model shows there could be little relatonships, the project would remind the people of not betting on the fortune. If the model shows there could be some relatonship, the project would give the safe way of betting.\n",
    "\n",
    "\n",
    "## Data to be Used (4 Points)\n",
    "\n",
    "Data will need to be collected from this source via scraping of a web page：[this link].(https://www.sportdafa.net/en/sports-df/sports) I will use this website to collect matches'Odds, I will record the lower Odds of the matches I selected, also the team's countries, whether the match is Super League or non-Super League. \n",
    "\n",
    "Also, I will use other website (such as wikipedia) to record the team's winning rate in the past, and other details if are related with the result of the match. \n",
    "\n",
    "## Approach (10 Points)\n",
    "\n",
    "I will record 300 competitions, record the team with lower odds in the beginning, then I will record the final results, make the final result as a binary variable (the result is a Boolean value denoting whether the team with lower odds finally won the match).\n",
    "\n",
    "The statistical analysis I plan to use is Bayesian analysis.\n",
    "\n",
    "I will use the histograms and boxplots, correlation heatmap.\n",
    "\n",
    "- I will use logistic regression model: I will treat 'win(True)' and 'lose(False)' as binary response variables, determine the suitable exploratory variables to construct logistic regression models. I will measure the logistic regression model using metrics accuracy, precision, recall, specificity and f1 score, plotting ROC curve. Make a table to compare metrics of different logistic regression models with different exploratory variables, choose the best logistic regression model through analysis of the table.\n",
    "\n",
    "- I will use KNN model: I will treat 'win(True)' and 'lose(False)' as binary response variables, determine the suitable exploratory variables to construct KNN models.  I will measure the KNN model using metrics accuracy, precision, recall, specificity and f1 score, plotting ROC curve. Make a table to compare metrics of different KNN models with different exploratory variables, choose the best KNN model through analysis of the table.\n",
    "\n",
    "- I will use SVM model: I will treat 'win(True)' and 'lose(False)' as binary response variables, determine the suitable exploratory variables to construct SVM models. I will measure the SVM model using metrics accuracy, precision, recall, specificity and f1 score, plotting ROC curve. Make a table to compare metrics of different SVM models with different exploratory variables, choose the best SVM model through analysis of the table.\n",
    "\n",
    "I will use the bagging method - Random Tree model as an ensemble model, the idea of bagging is that I want to fit several independent models and “average” their predictions in order to obtain a model with a lower variance. Random forest algorithm could combins the concepts of bagging and random feature subspace selection to create more robust models.\n",
    "\n",
    "I will measure the Random Tree model using metrics accuracy, precision, recall, specificity and f1 score, plotting ROC curve. "
   ]
  }
 ],
 "metadata": {
  "kernelspec": {
   "display_name": "Python 3",
   "language": "python",
   "name": "python3"
  },
  "language_info": {
   "codemirror_mode": {
    "name": "ipython",
    "version": 3
   },
   "file_extension": ".py",
   "mimetype": "text/x-python",
   "name": "python",
   "nbconvert_exporter": "python",
   "pygments_lexer": "ipython3",
   "version": "3.7.6"
  }
 },
 "nbformat": 4,
 "nbformat_minor": 4
}
