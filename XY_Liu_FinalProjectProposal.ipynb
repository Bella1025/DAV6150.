{
 "cells": [
  {
   "cell_type": "markdown",
   "metadata": {},
   "source": [
    "## DAV 6150 Final Project Proposal - Xingyu Liu\n",
    "\n",
    "## Introduction\n",
    "\n",
    "Over and over years, betting is a thing which charms people much, especially betting on sports. Betting on football is one of them. People either want to try whether he/she has good luck to win a huge amount of money, or just for fun. Some people won a lot of money in one night, then lost it another night. Some people suicided because of losing too much money. There is an idea popping out: the creator of the betting games's final aim is to earn the money, so he would not set the odds of one team to win the match too high if this team has more probability to win the game according to the past match results. But does it mean the team with low odds always win the game? Would the probabilty of winning money be higher if a person always bet on the team which has lower odds at the beginning? \n",
    "\n",
    "## Research Questions (8 Points)\n",
    "\n",
    "1. Does the team with lower odds always win the match?\n",
    "2. Is team with much lower odds has more probability to win the match? (I mean, although a team already has a lower odds comparing with its opposite team in a match, but the odds it has is still much lower than other teams in other matches.)\n",
    "3. If a person always bet on team with lower odds, what will happen?\n",
    "\n",
    "I try to find whether the result of the match could be derived from the odds and the past results, if the model shows there could be little relatonships, the project would remind the people of not betting on the fortune. If the model shows there could be some relatonship, the project would give the safe way of betting.\n",
    "\n",
    "\n",
    "## Data to be Used (4 Points)\n",
    "\n",
    "Data will need to be collected from the betting website by my own. \n",
    "\n",
    "## Approach (10 Points)\n",
    "\n",
    "I will record 500 competitions, record the team with lower odds in the beginning, record its odds when winning, then I will record the final results.\n",
    "\n",
    "The statistical analysis I plan to use is bayesian method, I wil try to collect the history result of each team, treating it as prior information, then treat the data I collect as posterior information.\n",
    "\n",
    "I will use the histograms and boxplots.\n",
    "\n",
    "- I will use logistic regression model: treat 'win' and 'lose' as binary response variables (to answer the first research question)\n",
    "- I will use linear regression model: treat the odds as numeric response variables (to answer the second research question)\n",
    "- I will use KNN model.\n",
    "\n",
    "I will compare their performance using metrics, ROC curves and cross validaton scores.\n",
    "\n",
    "i will use the Latent class regression model to combine the logistic regression model and linear regression model, so I can predict the probability of class memberships and estimate the cluster-wise regression within a single model."
   ]
  },
  {
   "cell_type": "code",
   "execution_count": null,
   "metadata": {},
   "outputs": [],
   "source": []
  }
 ],
 "metadata": {
  "kernelspec": {
   "display_name": "Python 3",
   "language": "python",
   "name": "python3"
  },
  "language_info": {
   "codemirror_mode": {
    "name": "ipython",
    "version": 3
   },
   "file_extension": ".py",
   "mimetype": "text/x-python",
   "name": "python",
   "nbconvert_exporter": "python",
   "pygments_lexer": "ipython3",
   "version": "3.7.6"
  }
 },
 "nbformat": 4,
 "nbformat_minor": 4
}
