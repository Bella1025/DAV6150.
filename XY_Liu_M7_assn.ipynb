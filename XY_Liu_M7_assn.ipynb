{
 "cells": [
  {
   "cell_type": "markdown",
   "metadata": {},
   "source": [
    "## Xingyu Liu DAV 6150 - Assignment 7\n",
    "\n",
    "## Introduction\n",
    "\n",
    "In this report, I will be applying the full data science project lifecycle to the implementation of logistic regression model on a data set consisting of data on 12 different conditions on mortgage lender to find the best logistic regression model for the \"deny\" attribute. This information will be used by either a bank manager to judge whether the discrimination in mortage exists, or by the borrower who wants to loan from bank to predict the successful rate of the mortgage based on his private situation. borrowers will use these predictions to choose whether or not to loan from the bank, the bank manager will use the predictions to see whether the discrimination exists in working process, and then adjust the administration strategy. \n",
    "\n",
    "To accomplish this, I will first perform an exploratory data analysis (\"EDA\") on each of the variables in an effort to discover any data integrity issues (i.e. missing or invalid values), uncover any outliers, and see the distribution of our data. \n",
    "\n",
    "Then, based on the results of our EDA, I will perform the necessary data preparation and cleaning in order to prepare the data for use in a machine learning model. This work will be guided by our domain knowledge and our EDA. I will again perform an EDA on our transformed data, in order to see the effects of our transformations on the data. We will compare the results of our transformed data to those of the original data and discuss how our transformations will lead to a better machine learning model.\n",
    "\n",
    "After the data preparation I will perform feature selection and/or dimensionality reduction using a variety of methods that will be discussed further in that section. \n",
    "\n",
    "Then I will create different logistic regression models based on different exploratory variables,to see which model best predicts the \"deny\" attribute.\n",
    "\n",
    "Lastly, I will split the data into training and testing data set, choose the best model and fit this model with previously test data to see how our model performs on this test data. "
   ]
  },
  {
   "cell_type": "markdown",
   "metadata": {},
   "source": [
    "## Data Profiling & Domain Knowledge Development\n",
    "\n",
    "**dir** debt payments to total income ratio: Your debt-to-income ratio is all your monthly debt payments divided by your gross monthly income. This number is one way lenders measure your ability to manage the monthly payments to repay the money you plan to borrow. ... To calculate your debt-to-income ratio, you add up all your monthly debt payments and divide them by your gross monthly income. Evidence from studies of mortgage loans suggest that borrowers with a higher debt-to-income ratio are more likely to run into trouble making monthly payments. The 43 percent debt-to-income ratio is important because, in most cases, that is the highest ratio a borrower can have and still get a Qualified Mortgage. According to [this link](https://www.consumerfinance.gov/ask-cfpb/what-is-a-debt-to-income-ratio-why-is-the-43-debt-to-income-ratio-important-en-1791/#:~:text=Your%20debt%2Dto%2Dincome%20ratio,money%20you%20plan%20to%20borrow.&text=If%20your%20gross%20monthly%20income,income%20ratio%20is%2033%20percent.).\n",
    "\n",
    "**hir** housing expenses to income ratio，the housing expense ratio is the percentage of your gross monthly income devoted to housing expenses. Your lender uses a top ratio and a bottom ratio in deciding what you can afford in housing expenses. The top ratio is calculated by dividing your new monthly mortgage payment by your monthly gross income. Typically, this ratio should not exceed 28%. The bottom ratio is equal to your new monthly mortgage payment plus your monthly debt divided by your gross income per month. Typically, this ratio should not exceed 36%. According to [this link](https://www.quickenloans.com/mortgage-glossary/housing-expense-ratio)\n",
    "\n",
    "**lvr** ratio of size of loan to assessed value of property, loan to Value Ratio is calculated by dividing the loan amount by the actual purchase price or valuation of the property, then multiplying it by 100. Generally, full doc applicants (income evidence provided) can borrow up to 80% LVR. However, strong applicants can potentially borrow between 90% and 95% LVR! Low doc applicants (self employed with no income evidence) can borrow up to 60% and possibly up to 80% LVR, if they’re in a strong financial position. According to [this link](https://www.homeloanexperts.com.au/home-loan-articles/loan-to-value-ratio-lvr/#:~:text=Loan%20details-,How%20is%20LVR%20calculated%3F,security%20is%20valued%20at%20%24300%2C000.)\n",
    "\n",
    "**ccs** consumer credit score from 1 to 6 (a low value being a good score)\n",
    "\n",
    "**mcs** mortgage credit score from 1 to 4 (a low value being a good score)\n",
    "\n",
    "**pbcr** public bad credit record: Public records come from government documents. A public record with adverse information could indicate you stopped paying your debt, which could crush your credit.\n",
    "\n",
    "You may notice a “public record” on your credit reports after the following events:\n",
    "\n",
    "- You declare bankruptcy\n",
    "- You lose your home through foreclosure\n",
    "- You don’t pay your taxes\n",
    "- You’re sued and owe a debt through the court as a result\n",
    "\n",
    "According to [this link](https://www.creditkarma.com/advice/i/long-public-records-stay-credit-report#:~:text=Public%20records%20could%20plague%20your,your%20credit%20reports%20by%20mistake.)\n",
    "\n",
    "**dmi** denied mortgage insurance: Mortgage insurance is designed to protect your lender in case you default on your home loan. Whether you should get mortgage insurance or will be required to have it, depends on the terms of your loan. The actual premium you pay depends on the loan type, loan terms, and your risk level.\n",
    "\n",
    "**self** self employed: A self-employed person refers to any person who earns their living from any independent pursuit of economic activity as opposed to earning a living working for a company or another individual (an employer). In the United States, any person is considered self-employed for tax purposes if that person is running a business as a sole proprietorship, independent contractor, as a member of a partnership, or as a member of a limited liability company that does not elect to be treated as a corporation.\n",
    "\n",
    "**single** is the applicant single (unmarried)?\n",
    "\n",
    "**uria** 1989 Massachusetts unemployment rate in the applicant's industry\n",
    "\n",
    "**condominium**  is unit a condominium? A condominium, often shortened to condo in the United States and in most Canadian provinces, is a type of living space similar to an apartment but independently sellable and therefore regarded as real estate. According to [this link](https://en.wikipedia.org/wiki/Condominium)\n",
    "\n",
    "**black** is the applicant black?\n",
    "\n",
    "**deny** mortgage application denied?"
   ]
  },
  {
   "cell_type": "markdown",
   "metadata": {},
   "source": [
    "## Exploratory Data Analysis\n",
    "\n",
    "First I will read the data into python using pandas read xls function. Then we will look for missing and/or invalid data values and perform an exploratory data analysis on dataset to determine what data need to be prepared for a future machine learning model. "
   ]
  },
  {
   "cell_type": "code",
   "execution_count": 123,
   "metadata": {},
   "outputs": [
    {
     "data": {
      "text/html": [
       "<div>\n",
       "<style scoped>\n",
       "    .dataframe tbody tr th:only-of-type {\n",
       "        vertical-align: middle;\n",
       "    }\n",
       "\n",
       "    .dataframe tbody tr th {\n",
       "        vertical-align: top;\n",
       "    }\n",
       "\n",
       "    .dataframe thead th {\n",
       "        text-align: right;\n",
       "    }\n",
       "</style>\n",
       "<table border=\"1\" class=\"dataframe\">\n",
       "  <thead>\n",
       "    <tr style=\"text-align: right;\">\n",
       "      <th></th>\n",
       "      <th>Unnamed: 0</th>\n",
       "      <th>dir</th>\n",
       "      <th>hir</th>\n",
       "      <th>lvr</th>\n",
       "      <th>ccs</th>\n",
       "      <th>mcs</th>\n",
       "      <th>pbcr</th>\n",
       "      <th>dmi</th>\n",
       "      <th>self</th>\n",
       "      <th>single</th>\n",
       "      <th>uria</th>\n",
       "      <th>comdominiom</th>\n",
       "      <th>black</th>\n",
       "      <th>deny</th>\n",
       "    </tr>\n",
       "  </thead>\n",
       "  <tbody>\n",
       "    <tr>\n",
       "      <th>0</th>\n",
       "      <td>1</td>\n",
       "      <td>0.221</td>\n",
       "      <td>0.221</td>\n",
       "      <td>0.800000</td>\n",
       "      <td>5.0</td>\n",
       "      <td>2.0</td>\n",
       "      <td>no</td>\n",
       "      <td>no</td>\n",
       "      <td>no</td>\n",
       "      <td>no</td>\n",
       "      <td>3.9</td>\n",
       "      <td>0</td>\n",
       "      <td>no</td>\n",
       "      <td>no</td>\n",
       "    </tr>\n",
       "    <tr>\n",
       "      <th>1</th>\n",
       "      <td>2</td>\n",
       "      <td>0.265</td>\n",
       "      <td>0.265</td>\n",
       "      <td>0.921875</td>\n",
       "      <td>2.0</td>\n",
       "      <td>2.0</td>\n",
       "      <td>no</td>\n",
       "      <td>no</td>\n",
       "      <td>no</td>\n",
       "      <td>yes</td>\n",
       "      <td>3.2</td>\n",
       "      <td>0</td>\n",
       "      <td>no</td>\n",
       "      <td>no</td>\n",
       "    </tr>\n",
       "    <tr>\n",
       "      <th>2</th>\n",
       "      <td>3</td>\n",
       "      <td>0.372</td>\n",
       "      <td>0.248</td>\n",
       "      <td>0.920398</td>\n",
       "      <td>1.0</td>\n",
       "      <td>2.0</td>\n",
       "      <td>no</td>\n",
       "      <td>no</td>\n",
       "      <td>no</td>\n",
       "      <td>no</td>\n",
       "      <td>3.2</td>\n",
       "      <td>0</td>\n",
       "      <td>no</td>\n",
       "      <td>no</td>\n",
       "    </tr>\n",
       "    <tr>\n",
       "      <th>3</th>\n",
       "      <td>4</td>\n",
       "      <td>0.320</td>\n",
       "      <td>0.250</td>\n",
       "      <td>0.860465</td>\n",
       "      <td>1.0</td>\n",
       "      <td>2.0</td>\n",
       "      <td>no</td>\n",
       "      <td>no</td>\n",
       "      <td>no</td>\n",
       "      <td>no</td>\n",
       "      <td>4.3</td>\n",
       "      <td>0</td>\n",
       "      <td>no</td>\n",
       "      <td>no</td>\n",
       "    </tr>\n",
       "    <tr>\n",
       "      <th>4</th>\n",
       "      <td>5</td>\n",
       "      <td>0.360</td>\n",
       "      <td>0.350</td>\n",
       "      <td>0.600000</td>\n",
       "      <td>1.0</td>\n",
       "      <td>1.0</td>\n",
       "      <td>no</td>\n",
       "      <td>no</td>\n",
       "      <td>no</td>\n",
       "      <td>no</td>\n",
       "      <td>3.2</td>\n",
       "      <td>0</td>\n",
       "      <td>no</td>\n",
       "      <td>no</td>\n",
       "    </tr>\n",
       "  </tbody>\n",
       "</table>\n",
       "</div>"
      ],
      "text/plain": [
       "   Unnamed: 0    dir    hir       lvr  ccs  mcs pbcr dmi self single  uria  \\\n",
       "0           1  0.221  0.221  0.800000  5.0  2.0   no  no   no     no   3.9   \n",
       "1           2  0.265  0.265  0.921875  2.0  2.0   no  no   no    yes   3.2   \n",
       "2           3  0.372  0.248  0.920398  1.0  2.0   no  no   no     no   3.2   \n",
       "3           4  0.320  0.250  0.860465  1.0  2.0   no  no   no     no   4.3   \n",
       "4           5  0.360  0.350  0.600000  1.0  1.0   no  no   no     no   3.2   \n",
       "\n",
       "   comdominiom black deny  \n",
       "0            0    no   no  \n",
       "1            0    no   no  \n",
       "2            0    no   no  \n",
       "3            0    no   no  \n",
       "4            0    no   no  "
      ]
     },
     "execution_count": 123,
     "metadata": {},
     "output_type": "execute_result"
    }
   ],
   "source": [
    "#first import the necessary libraries and modules\n",
    "import pandas as pd\n",
    "import numpy as np\n",
    "import matplotlib.pyplot as plt\n",
    "import seaborn as sns\n",
    "import sklearn as metrics\n",
    "\n",
    "mortgage = pd.read_excel(\"M7_Data.xls\")\n",
    "\n",
    "#check results\n",
    "mortgage.head()"
   ]
  },
  {
   "cell_type": "code",
   "execution_count": 3,
   "metadata": {},
   "outputs": [
    {
     "data": {
      "text/plain": [
       "Unnamed: 0     0\n",
       "dir            0\n",
       "hir            0\n",
       "lvr            0\n",
       "ccs            0\n",
       "mcs            0\n",
       "pbcr           1\n",
       "dmi            0\n",
       "self           1\n",
       "single         0\n",
       "uria           0\n",
       "comdominiom    0\n",
       "black          0\n",
       "deny           0\n",
       "dtype: int64"
      ]
     },
     "execution_count": 3,
     "metadata": {},
     "output_type": "execute_result"
    }
   ],
   "source": [
    "#check the dataset for null values\n",
    "mortgage.isnull().sum()"
   ]
  },
  {
   "cell_type": "code",
   "execution_count": 4,
   "metadata": {},
   "outputs": [
    {
     "data": {
      "image/png": "[encoded data removed]",
      "text/plain": [
       "<Figure size 1728x720 with 3 Axes>"
      ]
     },
     "metadata": {
      "needs_background": "light"
     },
     "output_type": "display_data"
    }
   ],
   "source": [
    "#first import missingno after pip install\n",
    "import missingno as msno\n",
    "\n",
    "#visualize the amount of missing data using missingno's bar chart\n",
    "msno.bar(mortgage);"
   ]
  },
  {
   "cell_type": "markdown",
   "metadata": {},
   "source": [
    "I see that the variables pbcr, self having missing values of all variables. But very seldom.  "
   ]
  },
  {
   "cell_type": "code",
   "execution_count": 5,
   "metadata": {},
   "outputs": [
    {
     "data": {
      "text/html": [
       "<div>\n",
       "<style scoped>\n",
       "    .dataframe tbody tr th:only-of-type {\n",
       "        vertical-align: middle;\n",
       "    }\n",
       "\n",
       "    .dataframe tbody tr th {\n",
       "        vertical-align: top;\n",
       "    }\n",
       "\n",
       "    .dataframe thead th {\n",
       "        text-align: right;\n",
       "    }\n",
       "</style>\n",
       "<table border=\"1\" class=\"dataframe\">\n",
       "  <thead>\n",
       "    <tr style=\"text-align: right;\">\n",
       "      <th></th>\n",
       "      <th>Unnamed: 0</th>\n",
       "      <th>dir</th>\n",
       "      <th>hir</th>\n",
       "      <th>lvr</th>\n",
       "      <th>ccs</th>\n",
       "      <th>mcs</th>\n",
       "      <th>uria</th>\n",
       "      <th>comdominiom</th>\n",
       "    </tr>\n",
       "  </thead>\n",
       "  <tbody>\n",
       "    <tr>\n",
       "      <th>count</th>\n",
       "      <td>2381.000000</td>\n",
       "      <td>2381.000000</td>\n",
       "      <td>2381.000000</td>\n",
       "      <td>2381.000000</td>\n",
       "      <td>2381.000000</td>\n",
       "      <td>2381.000000</td>\n",
       "      <td>2381.000000</td>\n",
       "      <td>2381.000000</td>\n",
       "    </tr>\n",
       "    <tr>\n",
       "      <th>mean</th>\n",
       "      <td>1191.000000</td>\n",
       "      <td>0.330814</td>\n",
       "      <td>0.255346</td>\n",
       "      <td>0.737760</td>\n",
       "      <td>2.116387</td>\n",
       "      <td>1.721008</td>\n",
       "      <td>3.774496</td>\n",
       "      <td>0.288114</td>\n",
       "    </tr>\n",
       "    <tr>\n",
       "      <th>std</th>\n",
       "      <td>687.479818</td>\n",
       "      <td>0.107235</td>\n",
       "      <td>0.096635</td>\n",
       "      <td>0.178715</td>\n",
       "      <td>1.666370</td>\n",
       "      <td>0.537169</td>\n",
       "      <td>2.026636</td>\n",
       "      <td>0.452980</td>\n",
       "    </tr>\n",
       "    <tr>\n",
       "      <th>min</th>\n",
       "      <td>1.000000</td>\n",
       "      <td>0.000000</td>\n",
       "      <td>0.000000</td>\n",
       "      <td>0.020000</td>\n",
       "      <td>1.000000</td>\n",
       "      <td>1.000000</td>\n",
       "      <td>1.800000</td>\n",
       "      <td>0.000000</td>\n",
       "    </tr>\n",
       "    <tr>\n",
       "      <th>25%</th>\n",
       "      <td>596.000000</td>\n",
       "      <td>0.280000</td>\n",
       "      <td>0.214000</td>\n",
       "      <td>0.652850</td>\n",
       "      <td>1.000000</td>\n",
       "      <td>1.000000</td>\n",
       "      <td>3.100000</td>\n",
       "      <td>0.000000</td>\n",
       "    </tr>\n",
       "    <tr>\n",
       "      <th>50%</th>\n",
       "      <td>1191.000000</td>\n",
       "      <td>0.330000</td>\n",
       "      <td>0.260000</td>\n",
       "      <td>0.779412</td>\n",
       "      <td>1.000000</td>\n",
       "      <td>2.000000</td>\n",
       "      <td>3.200000</td>\n",
       "      <td>0.000000</td>\n",
       "    </tr>\n",
       "    <tr>\n",
       "      <th>75%</th>\n",
       "      <td>1786.000000</td>\n",
       "      <td>0.370000</td>\n",
       "      <td>0.298800</td>\n",
       "      <td>0.868421</td>\n",
       "      <td>2.000000</td>\n",
       "      <td>2.000000</td>\n",
       "      <td>3.900000</td>\n",
       "      <td>1.000000</td>\n",
       "    </tr>\n",
       "    <tr>\n",
       "      <th>max</th>\n",
       "      <td>2381.000000</td>\n",
       "      <td>3.000000</td>\n",
       "      <td>3.000000</td>\n",
       "      <td>1.950000</td>\n",
       "      <td>6.000000</td>\n",
       "      <td>4.000000</td>\n",
       "      <td>10.600000</td>\n",
       "      <td>1.000000</td>\n",
       "    </tr>\n",
       "  </tbody>\n",
       "</table>\n",
       "</div>"
      ],
      "text/plain": [
       "        Unnamed: 0          dir          hir          lvr          ccs  \\\n",
       "count  2381.000000  2381.000000  2381.000000  2381.000000  2381.000000   \n",
       "mean   1191.000000     0.330814     0.255346     0.737760     2.116387   \n",
       "std     687.479818     0.107235     0.096635     0.178715     1.666370   \n",
       "min       1.000000     0.000000     0.000000     0.020000     1.000000   \n",
       "25%     596.000000     0.280000     0.214000     0.652850     1.000000   \n",
       "50%    1191.000000     0.330000     0.260000     0.779412     1.000000   \n",
       "75%    1786.000000     0.370000     0.298800     0.868421     2.000000   \n",
       "max    2381.000000     3.000000     3.000000     1.950000     6.000000   \n",
       "\n",
       "               mcs         uria  comdominiom  \n",
       "count  2381.000000  2381.000000  2381.000000  \n",
       "mean      1.721008     3.774496     0.288114  \n",
       "std       0.537169     2.026636     0.452980  \n",
       "min       1.000000     1.800000     0.000000  \n",
       "25%       1.000000     3.100000     0.000000  \n",
       "50%       2.000000     3.200000     0.000000  \n",
       "75%       2.000000     3.900000     1.000000  \n",
       "max       4.000000    10.600000     1.000000  "
      ]
     },
     "execution_count": 5,
     "metadata": {},
     "output_type": "execute_result"
    }
   ],
   "source": [
    "#get summary statistics for each variable, including mean, standard deviation, median, quartiles, and range\n",
    "mortgage.describe()"
   ]
  },
  {
   "cell_type": "markdown",
   "metadata": {},
   "source": [
    "We see from above that the range of all variables are positive. \n",
    "\n",
    "Now we will investigate further to see if the locations of the missing data are correlated by using missingno library's heatmap function. This investigation will help us determine how to treat missing values in our data preparation phase. "
   ]
  },
  {
   "cell_type": "code",
   "execution_count": 8,
   "metadata": {},
   "outputs": [
    {
     "data": {
      "image/png": "[encoded data removed]",
      "text/plain": [
       "<Figure size 432x432 with 2 Axes>"
      ]
     },
     "metadata": {
      "needs_background": "light"
     },
     "output_type": "display_data"
    }
   ],
   "source": [
    "#graph a heat map of the missing data to see if the locations where the data are missing are correlated.\n",
    "#code as referenced in O'Reilley's Machine Learning Pocket Reference\n",
    "ax = msno.heatmap(mortgage, figsize = (6,6))\n",
    "ax.get_figure(); #add a ; at the end to prevent it from displaying twice"
   ]
  },
  {
   "cell_type": "markdown",
   "metadata": {},
   "source": [
    "I found the missing variables of self and pbcr have very strong correlation which equal to 1, that implies there may be causality between them. With my domian knowledge, self-employed persom has less stable income comparing with employed by others, self-employed person has more probability to delay the repayment of credit card loan, thus makes bad credit card record. Also, from data profiling, one person may notice a “public record” on credit reports after he declares bankruptcy and don’t pay taxes, the self-employed may have company, and he may have more invisible income which evades the taxes. In this case, the strong correlation may denote any situation. So I will fill in the missing values using my domian knowledge in the next section. That is, no self-employed made no public bad credit record."
   ]
  },
  {
   "cell_type": "code",
   "execution_count": 12,
   "metadata": {},
   "outputs": [],
   "source": [
    "#Fill in missing values \n",
    "mortgage = mortgage.replace(np.nan,'no')"
   ]
  },
  {
   "cell_type": "markdown",
   "metadata": {},
   "source": [
    "Then I will plot the histograms for numeric variables:"
   ]
  },
  {
   "cell_type": "code",
   "execution_count": 23,
   "metadata": {},
   "outputs": [
    {
     "data": {
      "image/png": "[encoded data removed]",
      "text/plain": [
       "<Figure size 432x288 with 1 Axes>"
      ]
     },
     "metadata": {
      "needs_background": "light"
     },
     "output_type": "display_data"
    }
   ],
   "source": [
    "## Histogram of dir\n",
    "plt.hist(mortgage['dir'], bins = 10)\n",
    "plt.show()"
   ]
  },
  {
   "cell_type": "code",
   "execution_count": 24,
   "metadata": {},
   "outputs": [
    {
     "data": {
      "image/png": "[encoded data removed]",
      "text/plain": [
       "<Figure size 432x288 with 1 Axes>"
      ]
     },
     "metadata": {
      "needs_background": "light"
     },
     "output_type": "display_data"
    }
   ],
   "source": [
    "## Histogram of hir\n",
    "plt.hist(mortgage['hir'], bins = 10)\n",
    "plt.show()"
   ]
  },
  {
   "cell_type": "code",
   "execution_count": 25,
   "metadata": {},
   "outputs": [
    {
     "data": {
      "image/png": "[encoded data removed]",
      "text/plain": [
       "<Figure size 432x288 with 1 Axes>"
      ]
     },
     "metadata": {
      "needs_background": "light"
     },
     "output_type": "display_data"
    }
   ],
   "source": [
    "## Histogram of lvr\n",
    "plt.hist(mortgage['lvr'], bins = 10)\n",
    "plt.show()"
   ]
  },
  {
   "cell_type": "code",
   "execution_count": 26,
   "metadata": {},
   "outputs": [
    {
     "data": {
      "image/png": "[encoded data removed]",
      "text/plain": [
       "<Figure size 432x288 with 1 Axes>"
      ]
     },
     "metadata": {
      "needs_background": "light"
     },
     "output_type": "display_data"
    }
   ],
   "source": [
    "## Histogram of ccs\n",
    "plt.hist(mortgage['ccs'], bins = 10)\n",
    "plt.show()"
   ]
  },
  {
   "cell_type": "code",
   "execution_count": 27,
   "metadata": {},
   "outputs": [
    {
     "data": {
      "image/png": "[encoded data removed]",
      "text/plain": [
       "<Figure size 432x288 with 1 Axes>"
      ]
     },
     "metadata": {
      "needs_background": "light"
     },
     "output_type": "display_data"
    }
   ],
   "source": [
    "## Histogram of mcs\n",
    "plt.hist(mortgage['mcs'], bins = 10)\n",
    "plt.show()"
   ]
  },
  {
   "cell_type": "code",
   "execution_count": 28,
   "metadata": {},
   "outputs": [
    {
     "data": {
      "image/png": "[encoded data removed]",
      "text/plain": [
       "<Figure size 432x288 with 1 Axes>"
      ]
     },
     "metadata": {
      "needs_background": "light"
     },
     "output_type": "display_data"
    }
   ],
   "source": [
    "## Histogram of uria\n",
    "plt.hist(mortgage['uria'], bins = 10)\n",
    "plt.show()"
   ]
  },
  {
   "cell_type": "code",
   "execution_count": 29,
   "metadata": {},
   "outputs": [
    {
     "data": {
      "image/png": "[encoded data removed]",
      "text/plain": [
       "<Figure size 432x288 with 1 Axes>"
      ]
     },
     "metadata": {
      "needs_background": "light"
     },
     "output_type": "display_data"
    }
   ],
   "source": [
    "## Histogram of comdominiom\n",
    "plt.hist(mortgage['comdominiom'], bins = 10)\n",
    "plt.show()"
   ]
  },
  {
   "cell_type": "markdown",
   "metadata": {},
   "source": [
    "From the above histograms, I see that the majority of our numeric attributes are with no specific distribution. Except dir, hir and lvr are a little skewed distributed.\n",
    "\n",
    "Next we will look at boxplots of our data to see if there are any outliers."
   ]
  },
  {
   "cell_type": "code",
   "execution_count": 30,
   "metadata": {},
   "outputs": [
    {
     "data": {
      "text/plain": [
       "<matplotlib.axes._subplots.AxesSubplot at 0x7fe282987cd0>"
      ]
     },
     "execution_count": 30,
     "metadata": {},
     "output_type": "execute_result"
    },
    {
     "data": {
      "image/png": "[encoded data removed]",
      "text/plain": [
       "<Figure size 432x288 with 1 Axes>"
      ]
     },
     "metadata": {
      "needs_background": "light"
     },
     "output_type": "display_data"
    }
   ],
   "source": [
    "## Boxplot of dir\n",
    "sns.boxplot(x='deny',y='dir',data = mortgage)"
   ]
  },
  {
   "cell_type": "code",
   "execution_count": 31,
   "metadata": {},
   "outputs": [
    {
     "data": {
      "text/plain": [
       "<matplotlib.axes._subplots.AxesSubplot at 0x7fe3f2ee6290>"
      ]
     },
     "execution_count": 31,
     "metadata": {},
     "output_type": "execute_result"
    },
    {
     "data": {
      "image/png": "[encoded data removed]",
      "text/plain": [
       "<Figure size 432x288 with 1 Axes>"
      ]
     },
     "metadata": {
      "needs_background": "light"
     },
     "output_type": "display_data"
    }
   ],
   "source": [
    "## Boxplot of dir\n",
    "sns.boxplot(x='deny',y='hir',data = mortgage)"
   ]
  },
  {
   "cell_type": "code",
   "execution_count": 32,
   "metadata": {},
   "outputs": [
    {
     "data": {
      "text/plain": [
       "<matplotlib.axes._subplots.AxesSubplot at 0x7fe2a10e3cd0>"
      ]
     },
     "execution_count": 32,
     "metadata": {},
     "output_type": "execute_result"
    },
    {
     "data": {
      "image/png": "[encoded data removed]",
      "text/plain": [
       "<Figure size 432x288 with 1 Axes>"
      ]
     },
     "metadata": {
      "needs_background": "light"
     },
     "output_type": "display_data"
    }
   ],
   "source": [
    "## Boxplot of lvr\n",
    "sns.boxplot(x='deny',y='lvr',data = mortgage)"
   ]
  },
  {
   "cell_type": "code",
   "execution_count": 33,
   "metadata": {},
   "outputs": [
    {
     "data": {
      "text/plain": [
       "<matplotlib.axes._subplots.AxesSubplot at 0x7fe2832dad50>"
      ]
     },
     "execution_count": 33,
     "metadata": {},
     "output_type": "execute_result"
    },
    {
     "data": {
      "image/png": "[encoded data removed]",
      "text/plain": [
       "<Figure size 432x288 with 1 Axes>"
      ]
     },
     "metadata": {
      "needs_background": "light"
     },
     "output_type": "display_data"
    }
   ],
   "source": [
    "## Boxplot of ccs\n",
    "sns.boxplot(x='deny',y='ccs',data = mortgage)"
   ]
  },
  {
   "cell_type": "code",
   "execution_count": 34,
   "metadata": {},
   "outputs": [
    {
     "data": {
      "text/plain": [
       "<matplotlib.axes._subplots.AxesSubplot at 0x7fe2a1088950>"
      ]
     },
     "execution_count": 34,
     "metadata": {},
     "output_type": "execute_result"
    },
    {
     "data": {
      "image/png": "[encoded data removed]",
      "text/plain": [
       "<Figure size 432x288 with 1 Axes>"
      ]
     },
     "metadata": {
      "needs_background": "light"
     },
     "output_type": "display_data"
    }
   ],
   "source": [
    "## Boxplot of mcs\n",
    "sns.boxplot(x='deny',y='mcs',data = mortgage)"
   ]
  },
  {
   "cell_type": "code",
   "execution_count": 36,
   "metadata": {},
   "outputs": [
    {
     "data": {
      "text/plain": [
       "<matplotlib.axes._subplots.AxesSubplot at 0x7fe2700c5250>"
      ]
     },
     "execution_count": 36,
     "metadata": {},
     "output_type": "execute_result"
    },
    {
     "data": {
      "image/png": "[encoded data removed]",
      "text/plain": [
       "<Figure size 432x288 with 1 Axes>"
      ]
     },
     "metadata": {
      "needs_background": "light"
     },
     "output_type": "display_data"
    }
   ],
   "source": [
    "## Boxplot of uria\n",
    "sns.boxplot(x='deny',y='uria',data = mortgage)"
   ]
  },
  {
   "cell_type": "code",
   "execution_count": 37,
   "metadata": {},
   "outputs": [
    {
     "data": {
      "text/plain": [
       "<matplotlib.axes._subplots.AxesSubplot at 0x7fe27003f090>"
      ]
     },
     "execution_count": 37,
     "metadata": {},
     "output_type": "execute_result"
    },
    {
     "data": {
      "image/png": "[encoded data removed]",
      "text/plain": [
       "<Figure size 432x288 with 1 Axes>"
      ]
     },
     "metadata": {
      "needs_background": "light"
     },
     "output_type": "display_data"
    }
   ],
   "source": [
    "## Boxplot of comdominiom\n",
    "sns.boxplot(x='deny',y='comdominiom',data = mortgage)"
   ]
  },
  {
   "cell_type": "markdown",
   "metadata": {},
   "source": [
    "From the above boxplots I see that most of attributes have numerous outliers. I will discuss further below how I will deal with these outliers.\n",
    "\n",
    "\n",
    "I will also check a correlation matrix between the variables before any transformation to see if my transformations have any effect on the correlation."
   ]
  },
  {
   "cell_type": "code",
   "execution_count": 43,
   "metadata": {},
   "outputs": [
    {
     "data": {
      "text/plain": [
       "<matplotlib.axes._subplots.AxesSubplot at 0x7fe2a50d47d0>"
      ]
     },
     "execution_count": 43,
     "metadata": {},
     "output_type": "execute_result"
    },
    {
     "data": {
      "image/png": "[encoded data removed]",
      "text/plain": [
       "<Figure size 864x864 with 2 Axes>"
      ]
     },
     "metadata": {
      "needs_background": "light"
     },
     "output_type": "display_data"
    }
   ],
   "source": [
    "cor_matrix = mortgage.corr()\n",
    "# Generate a mask for the upper triangle\n",
    "mask = np.zeros_like(cor_matrix, dtype = np.bool)\n",
    "mask[np.triu_indices_from(mask)] = True\n",
    "# Set up the matplotlib figure\n",
    "f, ax = plt.subplots(figsize = (12, 12))\n",
    "#Draw the heatmap with the mask and correct aspect ratio,mask=True,upper triangular will be hide\n",
    "sns.heatmap(cor_matrix, mask=mask,\n",
    "            square = True, linewidths = .5, ax = ax, cmap = \"YlOrRd\",annot=True)"
   ]
  },
  {
   "cell_type": "markdown",
   "metadata": {},
   "source": [
    "I see from our correlation matrix that the strongest correlation of 0.78 is between dir and hir. From the domian knowledge I know that the bottom ratio of hir is equal to your new monthly mortgage payment plus your monthly debt divided by your gross income per month. Typically, this ratio should not exceed 36%. Therefore, the correlation is reasonable in real life."
   ]
  },
  {
   "cell_type": "markdown",
   "metadata": {},
   "source": [
    "## Data Preparation and EDA Review - Eliminate invalid data using my domain knowledge.\n",
    "\n",
    "I will now eliminate invalid data using my domain knowledge."
   ]
  },
  {
   "cell_type": "code",
   "execution_count": 124,
   "metadata": {},
   "outputs": [
    {
     "data": {
      "text/plain": [
       "(1118, 14)"
      ]
     },
     "execution_count": 124,
     "metadata": {},
     "output_type": "execute_result"
    }
   ],
   "source": [
    "#copy the data frame \n",
    "mortgage2=mortgage.copy()\n",
    "\n",
    "#remove rows that have a dir above 0.43\n",
    "mortgage2=mortgage2[mortgage2.dir<0.43]\n",
    "\n",
    "#remove rows that have a hir above 0.28\n",
    "mortgage2=mortgage2[(mortgage2.hir<0.28)]\n",
    "\n",
    "#remove rows that have a lvr below 0.60\n",
    "mortgage2=mortgage2[(mortgage2.lvr>0.60)]\n",
    "\n",
    "#check shape\n",
    "mortgage2.shape"
   ]
  },
  {
   "cell_type": "markdown",
   "metadata": {},
   "source": [
    "### Plot the histograms again to see whether the distributions have been changed:"
   ]
  },
  {
   "cell_type": "code",
   "execution_count": 47,
   "metadata": {},
   "outputs": [
    {
     "data": {
      "image/png": "[encoded data removed]",
      "text/plain": [
       "<Figure size 432x288 with 1 Axes>"
      ]
     },
     "metadata": {
      "needs_background": "light"
     },
     "output_type": "display_data"
    }
   ],
   "source": [
    "## Histogram of dir\n",
    "plt.hist(mortgage2['dir'], bins = 10)\n",
    "plt.show()"
   ]
  },
  {
   "cell_type": "code",
   "execution_count": 48,
   "metadata": {},
   "outputs": [
    {
     "data": {
      "image/png": "[encoded data removed]",
      "text/plain": [
       "<Figure size 432x288 with 1 Axes>"
      ]
     },
     "metadata": {
      "needs_background": "light"
     },
     "output_type": "display_data"
    }
   ],
   "source": [
    "## Histogram of hir\n",
    "plt.hist(mortgage2['hir'], bins = 10)\n",
    "plt.show()"
   ]
  },
  {
   "cell_type": "code",
   "execution_count": 49,
   "metadata": {},
   "outputs": [
    {
     "data": {
      "image/png": "[encoded data removed]",
      "text/plain": [
       "<Figure size 432x288 with 1 Axes>"
      ]
     },
     "metadata": {
      "needs_background": "light"
     },
     "output_type": "display_data"
    }
   ],
   "source": [
    "## Histogram of lvr\n",
    "plt.hist(mortgage2['lvr'], bins = 10)\n",
    "plt.show()"
   ]
  },
  {
   "cell_type": "code",
   "execution_count": 50,
   "metadata": {},
   "outputs": [
    {
     "data": {
      "image/png": "[encoded data removed]",
      "text/plain": [
       "<Figure size 432x288 with 1 Axes>"
      ]
     },
     "metadata": {
      "needs_background": "light"
     },
     "output_type": "display_data"
    }
   ],
   "source": [
    "## Histogram of ccs\n",
    "plt.hist(mortgage2['ccs'], bins = 10)\n",
    "plt.show()"
   ]
  },
  {
   "cell_type": "code",
   "execution_count": 51,
   "metadata": {},
   "outputs": [
    {
     "data": {
      "image/png": "[encoded data removed]",
      "text/plain": [
       "<Figure size 432x288 with 1 Axes>"
      ]
     },
     "metadata": {
      "needs_background": "light"
     },
     "output_type": "display_data"
    }
   ],
   "source": [
    "## Histogram of mcs\n",
    "plt.hist(mortgage2['mcs'], bins = 10)\n",
    "plt.show()"
   ]
  },
  {
   "cell_type": "code",
   "execution_count": 52,
   "metadata": {},
   "outputs": [
    {
     "data": {
      "image/png": "[encoded data removed]",
      "text/plain": [
       "<Figure size 432x288 with 1 Axes>"
      ]
     },
     "metadata": {
      "needs_background": "light"
     },
     "output_type": "display_data"
    }
   ],
   "source": [
    "## Histogram of uria\n",
    "plt.hist(mortgage2['uria'], bins = 10)\n",
    "plt.show()"
   ]
  },
  {
   "cell_type": "code",
   "execution_count": 53,
   "metadata": {},
   "outputs": [
    {
     "data": {
      "image/png": "[encoded data removed]",
      "text/plain": [
       "<Figure size 432x288 with 1 Axes>"
      ]
     },
     "metadata": {
      "needs_background": "light"
     },
     "output_type": "display_data"
    }
   ],
   "source": [
    "## Histogram of comdominiom\n",
    "plt.hist(mortgage2['comdominiom'], bins = 10)\n",
    "plt.show()"
   ]
  },
  {
   "cell_type": "markdown",
   "metadata": {},
   "source": [
    "The histograms show dir and hir have been skewed left, lvr has been become normal distribution. Others remain the same.\n",
    "\n",
    "Also, I will plot the boxplots again:"
   ]
  },
  {
   "cell_type": "code",
   "execution_count": 54,
   "metadata": {},
   "outputs": [
    {
     "data": {
      "text/plain": [
       "<matplotlib.axes._subplots.AxesSubplot at 0x7fe28241c590>"
      ]
     },
     "execution_count": 54,
     "metadata": {},
     "output_type": "execute_result"
    },
    {
     "data": {
      "image/png": "[encoded data removed]",
      "text/plain": [
       "<Figure size 432x288 with 1 Axes>"
      ]
     },
     "metadata": {
      "needs_background": "light"
     },
     "output_type": "display_data"
    }
   ],
   "source": [
    "## Boxplot of dir\n",
    "sns.boxplot(x='deny',y='dir',data = mortgage2)"
   ]
  },
  {
   "cell_type": "code",
   "execution_count": 55,
   "metadata": {},
   "outputs": [
    {
     "data": {
      "text/plain": [
       "<matplotlib.axes._subplots.AxesSubplot at 0x7fe270082590>"
      ]
     },
     "execution_count": 55,
     "metadata": {},
     "output_type": "execute_result"
    },
    {
     "data": {
      "image/png": "[encoded data removed]",
      "text/plain": [
       "<Figure size 432x288 with 1 Axes>"
      ]
     },
     "metadata": {
      "needs_background": "light"
     },
     "output_type": "display_data"
    }
   ],
   "source": [
    "## Boxplot of dir\n",
    "sns.boxplot(x='deny',y='hir',data = mortgage2)"
   ]
  },
  {
   "cell_type": "code",
   "execution_count": 56,
   "metadata": {},
   "outputs": [
    {
     "data": {
      "text/plain": [
       "<matplotlib.axes._subplots.AxesSubplot at 0x7fe3f21f4f50>"
      ]
     },
     "execution_count": 56,
     "metadata": {},
     "output_type": "execute_result"
    },
    {
     "data": {
      "image/png": "[encoded data removed]",
      "text/plain": [
       "<Figure size 432x288 with 1 Axes>"
      ]
     },
     "metadata": {
      "needs_background": "light"
     },
     "output_type": "display_data"
    }
   ],
   "source": [
    "## Boxplot of lvr\n",
    "sns.boxplot(x='deny',y='lvr',data = mortgage2)"
   ]
  },
  {
   "cell_type": "code",
   "execution_count": 57,
   "metadata": {},
   "outputs": [
    {
     "data": {
      "text/plain": [
       "<matplotlib.axes._subplots.AxesSubplot at 0x7fe282790210>"
      ]
     },
     "execution_count": 57,
     "metadata": {},
     "output_type": "execute_result"
    },
    {
     "data": {
      "image/png": "[encoded data removed]",
      "text/plain": [
       "<Figure size 432x288 with 1 Axes>"
      ]
     },
     "metadata": {
      "needs_background": "light"
     },
     "output_type": "display_data"
    }
   ],
   "source": [
    "## Boxplot of ccs\n",
    "sns.boxplot(x='deny',y='ccs',data = mortgage2)"
   ]
  },
  {
   "cell_type": "code",
   "execution_count": 58,
   "metadata": {},
   "outputs": [
    {
     "data": {
      "text/plain": [
       "<matplotlib.axes._subplots.AxesSubplot at 0x7fe410cea190>"
      ]
     },
     "execution_count": 58,
     "metadata": {},
     "output_type": "execute_result"
    },
    {
     "data": {
      "image/png": "[encoded data removed]",
      "text/plain": [
       "<Figure size 432x288 with 1 Axes>"
      ]
     },
     "metadata": {
      "needs_background": "light"
     },
     "output_type": "display_data"
    }
   ],
   "source": [
    "## Boxplot of mcs\n",
    "sns.boxplot(x='deny',y='mcs',data = mortgage2)"
   ]
  },
  {
   "cell_type": "code",
   "execution_count": 59,
   "metadata": {},
   "outputs": [
    {
     "data": {
      "text/plain": [
       "<matplotlib.axes._subplots.AxesSubplot at 0x7fe2a562b190>"
      ]
     },
     "execution_count": 59,
     "metadata": {},
     "output_type": "execute_result"
    },
    {
     "data": {
      "image/png": "[encoded data removed]",
      "text/plain": [
       "<Figure size 432x288 with 1 Axes>"
      ]
     },
     "metadata": {
      "needs_background": "light"
     },
     "output_type": "display_data"
    }
   ],
   "source": [
    "## Boxplot of uria\n",
    "sns.boxplot(x='deny',y='uria',data = mortgage2)"
   ]
  },
  {
   "cell_type": "code",
   "execution_count": 60,
   "metadata": {},
   "outputs": [
    {
     "data": {
      "text/plain": [
       "<matplotlib.axes._subplots.AxesSubplot at 0x7fe430456650>"
      ]
     },
     "execution_count": 60,
     "metadata": {},
     "output_type": "execute_result"
    },
    {
     "data": {
      "image/png": "[encoded data removed]",
      "text/plain": [
       "<Figure size 432x288 with 1 Axes>"
      ]
     },
     "metadata": {
      "needs_background": "light"
     },
     "output_type": "display_data"
    }
   ],
   "source": [
    "## Boxplot of comdominiom\n",
    "sns.boxplot(x='deny',y='comdominiom',data = mortgage2)"
   ]
  },
  {
   "cell_type": "markdown",
   "metadata": {},
   "source": [
    "The boxplots show the outliers have been changed too much: the outliers of dir have been moved to the downside, so as hir. The outliers of lvr have been moved to the upside, the outliers of 'yes' of uria have been moved to the upside. That means the invalid values truly cause a lot of outliers. \n",
    "\n",
    "## Working with Outliers: Correcting or Removing\n",
    "\n",
    "### IQR score -\n",
    "- Box plot use the IQR method to display data and outliers(shape of the data) but in order to be get a list of identified outlier, we will need to use the mathematical formula and retrieve the outlier data.\n",
    "- The interquartile range (IQR), also called the midspread or middle 50%, or technically H-spread, is a measure of statistical dispersion, being equal to the difference between 75th and 25th percentiles, or between upper and lower quartiles, IQR = Q3 − Q1.\n",
    "- In other words, the IQR is the first quartile subtracted from the third quartile; these quartiles can be clearly seen on a box plot on the data.\n",
    "- It is a measure of the dispersion similar to standard deviation or variance, but is much more robust against outliers.\n",
    "- IQR is somewhat similar to Z-score in terms of finding the distribution of data and then keeping some threshold to identify the outlier.\n",
    "- First I will calculate IQR:"
   ]
  },
  {
   "cell_type": "code",
   "execution_count": 61,
   "metadata": {},
   "outputs": [
    {
     "name": "stdout",
     "output_type": "stream",
     "text": [
      "Unnamed: 0     1211.250000\n",
      "dir               0.096725\n",
      "hir               0.060600\n",
      "lvr               0.146109\n",
      "ccs               2.000000\n",
      "mcs               1.000000\n",
      "uria              0.800000\n",
      "comdominiom       1.000000\n",
      "dtype: float64\n"
     ]
    }
   ],
   "source": [
    "Q1 = mortgage2.quantile(0.25)\n",
    "Q3 = mortgage2.quantile(0.75)\n",
    "IQR = Q3 - Q1\n",
    "print(IQR)"
   ]
  },
  {
   "cell_type": "markdown",
   "metadata": {},
   "source": [
    "I got IQR for each column.\n",
    "As we now have the IQR scores, it’s time to get hold on outliers. The below code will give an output with some true and false values. The data point where we have False that means these values are valid whereas True indicates presence of an outlier."
   ]
  },
  {
   "cell_type": "code",
   "execution_count": 64,
   "metadata": {},
   "outputs": [
    {
     "name": "stdout",
     "output_type": "stream",
     "text": [
      "      Unnamed: 0  black    ccs  comdominiom   deny    dir    dmi    hir  \\\n",
      "0          False  False  False        False  False  False  False  False   \n",
      "1          False  False  False        False  False  False  False  False   \n",
      "2          False  False  False        False  False  False  False  False   \n",
      "3          False  False  False        False  False  False  False  False   \n",
      "4          False  False  False        False  False  False  False  False   \n",
      "...          ...    ...    ...          ...    ...    ...    ...    ...   \n",
      "2376       False  False  False        False  False  False  False  False   \n",
      "2377       False  False  False        False  False  False  False  False   \n",
      "2378       False  False  False        False  False  False  False  False   \n",
      "2379       False  False  False        False  False  False  False  False   \n",
      "2380       False  False  False        False  False  False  False  False   \n",
      "\n",
      "        lvr    mcs   pbcr   self  single   uria  \n",
      "0     False  False  False  False   False  False  \n",
      "1     False  False  False  False   False  False  \n",
      "2     False  False  False  False   False  False  \n",
      "3     False  False  False  False   False  False  \n",
      "4     False  False  False  False   False  False  \n",
      "...     ...    ...    ...    ...     ...    ...  \n",
      "2376  False  False  False  False   False  False  \n",
      "2377  False  False  False  False   False  False  \n",
      "2378  False  False  False  False   False  False  \n",
      "2379  False  False  False  False   False  False  \n",
      "2380  False  False  False  False   False  False  \n",
      "\n",
      "[2381 rows x 14 columns]\n"
     ]
    }
   ],
   "source": [
    "print (((mortgage2 < (Q1 - 1.5 * IQR)) | (mortgage > (Q3 + 1.5 * IQR))))"
   ]
  },
  {
   "cell_type": "markdown",
   "metadata": {},
   "source": [
    "### Filter out the outliers by keeping only valid values."
   ]
  },
  {
   "cell_type": "code",
   "execution_count": 125,
   "metadata": {},
   "outputs": [
    {
     "data": {
      "text/plain": [
       "(833, 14)"
      ]
     },
     "execution_count": 125,
     "metadata": {},
     "output_type": "execute_result"
    }
   ],
   "source": [
    "mortgage3 = mortgage2.copy()\n",
    "data_out = mortgage3[~((mortgage3 < (Q1 - 1.5 * IQR)) |(mortgage3 > (Q3 + 1.5 * IQR))).any(axis=1)]\n",
    "data_out.shape"
   ]
  },
  {
   "cell_type": "code",
   "execution_count": 66,
   "metadata": {},
   "outputs": [
    {
     "data": {
      "text/html": [
       "<div>\n",
       "<style scoped>\n",
       "    .dataframe tbody tr th:only-of-type {\n",
       "        vertical-align: middle;\n",
       "    }\n",
       "\n",
       "    .dataframe tbody tr th {\n",
       "        vertical-align: top;\n",
       "    }\n",
       "\n",
       "    .dataframe thead th {\n",
       "        text-align: right;\n",
       "    }\n",
       "</style>\n",
       "<table border=\"1\" class=\"dataframe\">\n",
       "  <thead>\n",
       "    <tr style=\"text-align: right;\">\n",
       "      <th></th>\n",
       "      <th>Unnamed: 0</th>\n",
       "      <th>dir</th>\n",
       "      <th>hir</th>\n",
       "      <th>lvr</th>\n",
       "      <th>ccs</th>\n",
       "      <th>mcs</th>\n",
       "      <th>pbcr</th>\n",
       "      <th>dmi</th>\n",
       "      <th>self</th>\n",
       "      <th>single</th>\n",
       "      <th>uria</th>\n",
       "      <th>comdominiom</th>\n",
       "      <th>black</th>\n",
       "      <th>deny</th>\n",
       "    </tr>\n",
       "  </thead>\n",
       "  <tbody>\n",
       "    <tr>\n",
       "      <th>0</th>\n",
       "      <td>1</td>\n",
       "      <td>0.221000</td>\n",
       "      <td>0.221000</td>\n",
       "      <td>0.800000</td>\n",
       "      <td>5.000000</td>\n",
       "      <td>2.000000</td>\n",
       "      <td>no</td>\n",
       "      <td>no</td>\n",
       "      <td>no</td>\n",
       "      <td>no</td>\n",
       "      <td>3.900000</td>\n",
       "      <td>0</td>\n",
       "      <td>no</td>\n",
       "      <td>no</td>\n",
       "    </tr>\n",
       "    <tr>\n",
       "      <th>1</th>\n",
       "      <td>2</td>\n",
       "      <td>0.265000</td>\n",
       "      <td>0.265000</td>\n",
       "      <td>0.921875</td>\n",
       "      <td>2.000000</td>\n",
       "      <td>2.000000</td>\n",
       "      <td>no</td>\n",
       "      <td>no</td>\n",
       "      <td>no</td>\n",
       "      <td>yes</td>\n",
       "      <td>3.200000</td>\n",
       "      <td>0</td>\n",
       "      <td>no</td>\n",
       "      <td>no</td>\n",
       "    </tr>\n",
       "    <tr>\n",
       "      <th>2</th>\n",
       "      <td>3</td>\n",
       "      <td>0.372000</td>\n",
       "      <td>0.248000</td>\n",
       "      <td>0.920398</td>\n",
       "      <td>1.000000</td>\n",
       "      <td>2.000000</td>\n",
       "      <td>no</td>\n",
       "      <td>no</td>\n",
       "      <td>no</td>\n",
       "      <td>no</td>\n",
       "      <td>3.200000</td>\n",
       "      <td>0</td>\n",
       "      <td>no</td>\n",
       "      <td>no</td>\n",
       "    </tr>\n",
       "    <tr>\n",
       "      <th>3</th>\n",
       "      <td>4</td>\n",
       "      <td>0.320000</td>\n",
       "      <td>0.250000</td>\n",
       "      <td>0.860465</td>\n",
       "      <td>1.000000</td>\n",
       "      <td>2.000000</td>\n",
       "      <td>no</td>\n",
       "      <td>no</td>\n",
       "      <td>no</td>\n",
       "      <td>no</td>\n",
       "      <td>4.300000</td>\n",
       "      <td>0</td>\n",
       "      <td>no</td>\n",
       "      <td>no</td>\n",
       "    </tr>\n",
       "    <tr>\n",
       "      <th>8</th>\n",
       "      <td>9</td>\n",
       "      <td>0.310000</td>\n",
       "      <td>0.240000</td>\n",
       "      <td>0.897260</td>\n",
       "      <td>2.000000</td>\n",
       "      <td>2.000000</td>\n",
       "      <td>no</td>\n",
       "      <td>yes</td>\n",
       "      <td>no</td>\n",
       "      <td>no</td>\n",
       "      <td>3.100000</td>\n",
       "      <td>0</td>\n",
       "      <td>no</td>\n",
       "      <td>yes</td>\n",
       "    </tr>\n",
       "    <tr>\n",
       "      <th>...</th>\n",
       "      <td>...</td>\n",
       "      <td>...</td>\n",
       "      <td>...</td>\n",
       "      <td>...</td>\n",
       "      <td>...</td>\n",
       "      <td>...</td>\n",
       "      <td>...</td>\n",
       "      <td>...</td>\n",
       "      <td>...</td>\n",
       "      <td>...</td>\n",
       "      <td>...</td>\n",
       "      <td>...</td>\n",
       "      <td>...</td>\n",
       "      <td>...</td>\n",
       "    </tr>\n",
       "    <tr>\n",
       "      <th>2374</th>\n",
       "      <td>2375</td>\n",
       "      <td>0.330000</td>\n",
       "      <td>0.160000</td>\n",
       "      <td>0.803030</td>\n",
       "      <td>5.000000</td>\n",
       "      <td>1.000000</td>\n",
       "      <td>no</td>\n",
       "      <td>no</td>\n",
       "      <td>no</td>\n",
       "      <td>no</td>\n",
       "      <td>3.200000</td>\n",
       "      <td>0</td>\n",
       "      <td>no</td>\n",
       "      <td>no</td>\n",
       "    </tr>\n",
       "    <tr>\n",
       "      <th>2375</th>\n",
       "      <td>2376</td>\n",
       "      <td>0.310000</td>\n",
       "      <td>0.250000</td>\n",
       "      <td>0.800000</td>\n",
       "      <td>1.000000</td>\n",
       "      <td>1.000000</td>\n",
       "      <td>no</td>\n",
       "      <td>no</td>\n",
       "      <td>yes</td>\n",
       "      <td>no</td>\n",
       "      <td>3.200000</td>\n",
       "      <td>0</td>\n",
       "      <td>no</td>\n",
       "      <td>no</td>\n",
       "    </tr>\n",
       "    <tr>\n",
       "      <th>2378</th>\n",
       "      <td>2379</td>\n",
       "      <td>0.320000</td>\n",
       "      <td>0.260000</td>\n",
       "      <td>0.753846</td>\n",
       "      <td>6.000000</td>\n",
       "      <td>1.000000</td>\n",
       "      <td>yes</td>\n",
       "      <td>no</td>\n",
       "      <td>no</td>\n",
       "      <td>yes</td>\n",
       "      <td>3.100000</td>\n",
       "      <td>1</td>\n",
       "      <td>yes</td>\n",
       "      <td>yes</td>\n",
       "    </tr>\n",
       "    <tr>\n",
       "      <th>2379</th>\n",
       "      <td>2380</td>\n",
       "      <td>0.350000</td>\n",
       "      <td>0.260000</td>\n",
       "      <td>0.813559</td>\n",
       "      <td>2.000000</td>\n",
       "      <td>2.000000</td>\n",
       "      <td>no</td>\n",
       "      <td>no</td>\n",
       "      <td>no</td>\n",
       "      <td>yes</td>\n",
       "      <td>4.300000</td>\n",
       "      <td>1</td>\n",
       "      <td>no</td>\n",
       "      <td>yes</td>\n",
       "    </tr>\n",
       "    <tr>\n",
       "      <th>2380</th>\n",
       "      <td>2381</td>\n",
       "      <td>0.330814</td>\n",
       "      <td>0.255346</td>\n",
       "      <td>0.700783</td>\n",
       "      <td>2.116387</td>\n",
       "      <td>1.721008</td>\n",
       "      <td>no</td>\n",
       "      <td>no</td>\n",
       "      <td>no</td>\n",
       "      <td>yes</td>\n",
       "      <td>3.774496</td>\n",
       "      <td>0</td>\n",
       "      <td>no</td>\n",
       "      <td>no</td>\n",
       "    </tr>\n",
       "  </tbody>\n",
       "</table>\n",
       "<p>833 rows × 14 columns</p>\n",
       "</div>"
      ],
      "text/plain": [
       "      Unnamed: 0       dir       hir       lvr       ccs       mcs pbcr  dmi  \\\n",
       "0              1  0.221000  0.221000  0.800000  5.000000  2.000000   no   no   \n",
       "1              2  0.265000  0.265000  0.921875  2.000000  2.000000   no   no   \n",
       "2              3  0.372000  0.248000  0.920398  1.000000  2.000000   no   no   \n",
       "3              4  0.320000  0.250000  0.860465  1.000000  2.000000   no   no   \n",
       "8              9  0.310000  0.240000  0.897260  2.000000  2.000000   no  yes   \n",
       "...          ...       ...       ...       ...       ...       ...  ...  ...   \n",
       "2374        2375  0.330000  0.160000  0.803030  5.000000  1.000000   no   no   \n",
       "2375        2376  0.310000  0.250000  0.800000  1.000000  1.000000   no   no   \n",
       "2378        2379  0.320000  0.260000  0.753846  6.000000  1.000000  yes   no   \n",
       "2379        2380  0.350000  0.260000  0.813559  2.000000  2.000000   no   no   \n",
       "2380        2381  0.330814  0.255346  0.700783  2.116387  1.721008   no   no   \n",
       "\n",
       "     self single      uria  comdominiom black deny  \n",
       "0      no     no  3.900000            0    no   no  \n",
       "1      no    yes  3.200000            0    no   no  \n",
       "2      no     no  3.200000            0    no   no  \n",
       "3      no     no  4.300000            0    no   no  \n",
       "8      no     no  3.100000            0    no  yes  \n",
       "...   ...    ...       ...          ...   ...  ...  \n",
       "2374   no     no  3.200000            0    no   no  \n",
       "2375  yes     no  3.200000            0    no   no  \n",
       "2378   no    yes  3.100000            1   yes  yes  \n",
       "2379   no    yes  4.300000            1    no  yes  \n",
       "2380   no    yes  3.774496            0    no   no  \n",
       "\n",
       "[833 rows x 14 columns]"
      ]
     },
     "execution_count": 66,
     "metadata": {},
     "output_type": "execute_result"
    }
   ],
   "source": [
    "data_out"
   ]
  },
  {
   "cell_type": "markdown",
   "metadata": {},
   "source": [
    "### From data_out and plot, I could see, the outliers really occupy large proportion of data, since I have already elimated lots of data before, If I decide to eliminate the outliers, the data set would be too parse to evaluate, therefore, I decide to subsitute the outliers by means."
   ]
  },
  {
   "cell_type": "code",
   "execution_count": 126,
   "metadata": {},
   "outputs": [],
   "source": [
    "def replace(group):\n",
    "    mean, std = group.mean(), group.std()\n",
    "    outliers = (group - mean).abs() > 3*std\n",
    "    group[outliers] = mean        \n",
    "    return group"
   ]
  },
  {
   "cell_type": "code",
   "execution_count": 127,
   "metadata": {},
   "outputs": [
    {
     "data": {
      "text/plain": [
       "0       0.221000\n",
       "1       0.265000\n",
       "2       0.372000\n",
       "3       0.320000\n",
       "7       0.280000\n",
       "          ...   \n",
       "2374    0.330000\n",
       "2375    0.310000\n",
       "2378    0.320000\n",
       "2379    0.350000\n",
       "2380    0.330814\n",
       "Name: dir, Length: 1118, dtype: float64"
      ]
     },
     "execution_count": 127,
     "metadata": {},
     "output_type": "execute_result"
    }
   ],
   "source": [
    "replace(mortgage3.dir)"
   ]
  },
  {
   "cell_type": "code",
   "execution_count": 128,
   "metadata": {},
   "outputs": [
    {
     "data": {
      "text/plain": [
       "0       0.221000\n",
       "1       0.265000\n",
       "2       0.248000\n",
       "3       0.250000\n",
       "7       0.220000\n",
       "          ...   \n",
       "2374    0.160000\n",
       "2375    0.250000\n",
       "2378    0.260000\n",
       "2379    0.260000\n",
       "2380    0.255346\n",
       "Name: hir, Length: 1118, dtype: float64"
      ]
     },
     "execution_count": 128,
     "metadata": {},
     "output_type": "execute_result"
    }
   ],
   "source": [
    "replace(mortgage3.hir)"
   ]
  },
  {
   "cell_type": "code",
   "execution_count": 129,
   "metadata": {},
   "outputs": [
    {
     "data": {
      "text/plain": [
       "0       0.800000\n",
       "1       0.921875\n",
       "2       0.920398\n",
       "3       0.860465\n",
       "7       0.850000\n",
       "          ...   \n",
       "2374    0.803030\n",
       "2375    0.800000\n",
       "2378    0.753846\n",
       "2379    0.813559\n",
       "2380    0.700783\n",
       "Name: lvr, Length: 1118, dtype: float64"
      ]
     },
     "execution_count": 129,
     "metadata": {},
     "output_type": "execute_result"
    }
   ],
   "source": [
    "replace(mortgage3.lvr)"
   ]
  },
  {
   "cell_type": "code",
   "execution_count": 130,
   "metadata": {},
   "outputs": [
    {
     "data": {
      "text/plain": [
       "0       3.900000\n",
       "1       3.200000\n",
       "2       3.200000\n",
       "3       4.300000\n",
       "7       1.800000\n",
       "          ...   \n",
       "2374    3.200000\n",
       "2375    3.200000\n",
       "2378    3.100000\n",
       "2379    4.300000\n",
       "2380    3.774496\n",
       "Name: uria, Length: 1118, dtype: float64"
      ]
     },
     "execution_count": 130,
     "metadata": {},
     "output_type": "execute_result"
    }
   ],
   "source": [
    "replace(mortgage3.uria)"
   ]
  },
  {
   "cell_type": "markdown",
   "metadata": {},
   "source": [
    "## Logistic Regression Modeling\n",
    "\n",
    "Now that I have our data prepared, I will begin building regression models to see which type of model as well as which features yield the best results. "
   ]
  },
  {
   "cell_type": "code",
   "execution_count": 131,
   "metadata": {},
   "outputs": [
    {
     "data": {
      "text/html": [
       "<div>\n",
       "<style scoped>\n",
       "    .dataframe tbody tr th:only-of-type {\n",
       "        vertical-align: middle;\n",
       "    }\n",
       "\n",
       "    .dataframe tbody tr th {\n",
       "        vertical-align: top;\n",
       "    }\n",
       "\n",
       "    .dataframe thead th {\n",
       "        text-align: right;\n",
       "    }\n",
       "</style>\n",
       "<table border=\"1\" class=\"dataframe\">\n",
       "  <thead>\n",
       "    <tr style=\"text-align: right;\">\n",
       "      <th></th>\n",
       "      <th>Unnamed: 0</th>\n",
       "      <th>dir</th>\n",
       "      <th>hir</th>\n",
       "      <th>lvr</th>\n",
       "      <th>ccs</th>\n",
       "      <th>mcs</th>\n",
       "      <th>pbcr</th>\n",
       "      <th>dmi</th>\n",
       "      <th>self</th>\n",
       "      <th>single</th>\n",
       "      <th>uria</th>\n",
       "      <th>comdominiom</th>\n",
       "      <th>black</th>\n",
       "      <th>deny</th>\n",
       "    </tr>\n",
       "  </thead>\n",
       "  <tbody>\n",
       "    <tr>\n",
       "      <th>0</th>\n",
       "      <td>1</td>\n",
       "      <td>0.221</td>\n",
       "      <td>0.221</td>\n",
       "      <td>0.800000</td>\n",
       "      <td>5.0</td>\n",
       "      <td>2.0</td>\n",
       "      <td>no</td>\n",
       "      <td>no</td>\n",
       "      <td>no</td>\n",
       "      <td>no</td>\n",
       "      <td>3.9</td>\n",
       "      <td>0</td>\n",
       "      <td>no</td>\n",
       "      <td>no</td>\n",
       "    </tr>\n",
       "    <tr>\n",
       "      <th>1</th>\n",
       "      <td>2</td>\n",
       "      <td>0.265</td>\n",
       "      <td>0.265</td>\n",
       "      <td>0.921875</td>\n",
       "      <td>2.0</td>\n",
       "      <td>2.0</td>\n",
       "      <td>no</td>\n",
       "      <td>no</td>\n",
       "      <td>no</td>\n",
       "      <td>yes</td>\n",
       "      <td>3.2</td>\n",
       "      <td>0</td>\n",
       "      <td>no</td>\n",
       "      <td>no</td>\n",
       "    </tr>\n",
       "    <tr>\n",
       "      <th>2</th>\n",
       "      <td>3</td>\n",
       "      <td>0.372</td>\n",
       "      <td>0.248</td>\n",
       "      <td>0.920398</td>\n",
       "      <td>1.0</td>\n",
       "      <td>2.0</td>\n",
       "      <td>no</td>\n",
       "      <td>no</td>\n",
       "      <td>no</td>\n",
       "      <td>no</td>\n",
       "      <td>3.2</td>\n",
       "      <td>0</td>\n",
       "      <td>no</td>\n",
       "      <td>no</td>\n",
       "    </tr>\n",
       "    <tr>\n",
       "      <th>3</th>\n",
       "      <td>4</td>\n",
       "      <td>0.320</td>\n",
       "      <td>0.250</td>\n",
       "      <td>0.860465</td>\n",
       "      <td>1.0</td>\n",
       "      <td>2.0</td>\n",
       "      <td>no</td>\n",
       "      <td>no</td>\n",
       "      <td>no</td>\n",
       "      <td>no</td>\n",
       "      <td>4.3</td>\n",
       "      <td>0</td>\n",
       "      <td>no</td>\n",
       "      <td>no</td>\n",
       "    </tr>\n",
       "    <tr>\n",
       "      <th>7</th>\n",
       "      <td>8</td>\n",
       "      <td>0.280</td>\n",
       "      <td>0.220</td>\n",
       "      <td>0.850000</td>\n",
       "      <td>2.0</td>\n",
       "      <td>2.0</td>\n",
       "      <td>no</td>\n",
       "      <td>no</td>\n",
       "      <td>no</td>\n",
       "      <td>no</td>\n",
       "      <td>1.8</td>\n",
       "      <td>0</td>\n",
       "      <td>no</td>\n",
       "      <td>no</td>\n",
       "    </tr>\n",
       "  </tbody>\n",
       "</table>\n",
       "</div>"
      ],
      "text/plain": [
       "   Unnamed: 0    dir    hir       lvr  ccs  mcs pbcr dmi self single  uria  \\\n",
       "0           1  0.221  0.221  0.800000  5.0  2.0   no  no   no     no   3.9   \n",
       "1           2  0.265  0.265  0.921875  2.0  2.0   no  no   no    yes   3.2   \n",
       "2           3  0.372  0.248  0.920398  1.0  2.0   no  no   no     no   3.2   \n",
       "3           4  0.320  0.250  0.860465  1.0  2.0   no  no   no     no   4.3   \n",
       "7           8  0.280  0.220  0.850000  2.0  2.0   no  no   no     no   1.8   \n",
       "\n",
       "   comdominiom black deny  \n",
       "0            0    no   no  \n",
       "1            0    no   no  \n",
       "2            0    no   no  \n",
       "3            0    no   no  \n",
       "7            0    no   no  "
      ]
     },
     "execution_count": 131,
     "metadata": {},
     "output_type": "execute_result"
    }
   ],
   "source": [
    "# Load the LogisticRegression() function from sklearn's 'linear_model' sub-library\n",
    "from sklearn.linear_model import LogisticRegression\n",
    "# Display the head of the data set\n",
    "mortgage3.head()"
   ]
  },
  {
   "cell_type": "markdown",
   "metadata": {},
   "source": [
    "Next, __we create a dummy indicator for the 'single' categorical variable__: the new dummy variable 'Issingle' contains a '1' if an applicator is 'single' and a '0' otherwise:"
   ]
  },
  {
   "cell_type": "code",
   "execution_count": 132,
   "metadata": {},
   "outputs": [],
   "source": [
    "# create a dummy variable for the 'single' attribute\n",
    "mortgage3['Issingle'] = (mortgage3['single'] == 'yes').astype(int)"
   ]
  },
  {
   "cell_type": "code",
   "execution_count": 133,
   "metadata": {},
   "outputs": [],
   "source": [
    "X = mortgage3[['dir','hir','lvr','Issingle']]\n",
    "Y = mortgage3['deny'].values\n",
    "from sklearn.model_selection import train_test_split\n",
    "X_train, X_test, Y_train, Y_test = train_test_split(X,Y,test_size = 0.2,random_state = 10)"
   ]
  },
  {
   "cell_type": "code",
   "execution_count": 134,
   "metadata": {},
   "outputs": [
    {
     "data": {
      "text/html": [
       "<div>\n",
       "<style scoped>\n",
       "    .dataframe tbody tr th:only-of-type {\n",
       "        vertical-align: middle;\n",
       "    }\n",
       "\n",
       "    .dataframe tbody tr th {\n",
       "        vertical-align: top;\n",
       "    }\n",
       "\n",
       "    .dataframe thead th {\n",
       "        text-align: right;\n",
       "    }\n",
       "</style>\n",
       "<table border=\"1\" class=\"dataframe\">\n",
       "  <thead>\n",
       "    <tr style=\"text-align: right;\">\n",
       "      <th></th>\n",
       "      <th>dir</th>\n",
       "      <th>hir</th>\n",
       "      <th>lvr</th>\n",
       "      <th>Issingle</th>\n",
       "    </tr>\n",
       "  </thead>\n",
       "  <tbody>\n",
       "    <tr>\n",
       "      <th>1884</th>\n",
       "      <td>0.21</td>\n",
       "      <td>0.217706</td>\n",
       "      <td>0.750000</td>\n",
       "      <td>1</td>\n",
       "    </tr>\n",
       "    <tr>\n",
       "      <th>1784</th>\n",
       "      <td>0.36</td>\n",
       "      <td>0.240000</td>\n",
       "      <td>0.800000</td>\n",
       "      <td>0</td>\n",
       "    </tr>\n",
       "    <tr>\n",
       "      <th>2143</th>\n",
       "      <td>0.36</td>\n",
       "      <td>0.250000</td>\n",
       "      <td>0.800000</td>\n",
       "      <td>0</td>\n",
       "    </tr>\n",
       "    <tr>\n",
       "      <th>1863</th>\n",
       "      <td>0.37</td>\n",
       "      <td>0.210000</td>\n",
       "      <td>0.770950</td>\n",
       "      <td>0</td>\n",
       "    </tr>\n",
       "    <tr>\n",
       "      <th>1564</th>\n",
       "      <td>0.26</td>\n",
       "      <td>0.220000</td>\n",
       "      <td>0.897436</td>\n",
       "      <td>1</td>\n",
       "    </tr>\n",
       "  </tbody>\n",
       "</table>\n",
       "</div>"
      ],
      "text/plain": [
       "       dir       hir       lvr  Issingle\n",
       "1884  0.21  0.217706  0.750000         1\n",
       "1784  0.36  0.240000  0.800000         0\n",
       "2143  0.36  0.250000  0.800000         0\n",
       "1863  0.37  0.210000  0.770950         0\n",
       "1564  0.26  0.220000  0.897436         1"
      ]
     },
     "execution_count": 134,
     "metadata": {},
     "output_type": "execute_result"
    }
   ],
   "source": [
    "# sanity check on training data\n",
    "X_train[:5]"
   ]
  },
  {
   "cell_type": "code",
   "execution_count": 135,
   "metadata": {},
   "outputs": [
    {
     "data": {
      "text/plain": [
       "array(['no', 'no', 'no', 'no', 'no'], dtype=object)"
      ]
     },
     "execution_count": 135,
     "metadata": {},
     "output_type": "execute_result"
    }
   ],
   "source": [
    "# sanity check on training data\n",
    "Y_train[:5]"
   ]
  },
  {
   "cell_type": "code",
   "execution_count": 136,
   "metadata": {},
   "outputs": [
    {
     "data": {
      "text/plain": [
       "LogisticRegression(C=1.0, class_weight=None, dual=False, fit_intercept=True,\n",
       "                   intercept_scaling=1, l1_ratio=None, max_iter=100,\n",
       "                   multi_class='auto', n_jobs=None, penalty='l2',\n",
       "                   random_state=None, solver='lbfgs', tol=0.0001, verbose=0,\n",
       "                   warm_start=False)"
      ]
     },
     "execution_count": 136,
     "metadata": {},
     "output_type": "execute_result"
    }
   ],
   "source": [
    "# We're using the LogisticRegression() method for this model\n",
    "model = LogisticRegression()\n",
    "\n",
    "# fit the model: X_train contains our explanatory variables while \n",
    "# Y_train contains the response variable\n",
    "model.fit(X_train, Y_train)"
   ]
  },
  {
   "cell_type": "code",
   "execution_count": 149,
   "metadata": {},
   "outputs": [
    {
     "data": {
      "text/plain": [
       "0.8881426150273052"
      ]
     },
     "execution_count": 149,
     "metadata": {},
     "output_type": "execute_result"
    }
   ],
   "source": [
    "from sklearn.model_selection import cross_val_score\n",
    "results1 = cross_val_score(model,X_train,Y_train,cv=5)\n",
    "results1.mean()"
   ]
  },
  {
   "cell_type": "code",
   "execution_count": 137,
   "metadata": {},
   "outputs": [
    {
     "data": {
      "text/plain": [
       "0.8881431767337807"
      ]
     },
     "execution_count": 137,
     "metadata": {},
     "output_type": "execute_result"
    }
   ],
   "source": [
    "# calculate the accuracy of the model relative to the training data set\n",
    "model.score(X_train, Y_train)"
   ]
  },
  {
   "cell_type": "markdown",
   "metadata": {},
   "source": [
    "### Let me calculate the assumed accuracy of the model:"
   ]
  },
  {
   "cell_type": "code",
   "execution_count": 175,
   "metadata": {},
   "outputs": [
    {
     "data": {
      "text/plain": [
       "no     794\n",
       "yes    100\n",
       "dtype: int64"
      ]
     },
     "execution_count": 175,
     "metadata": {},
     "output_type": "execute_result"
    }
   ],
   "source": [
    "series = pd.Series(Y_train)\n",
    "series.value_counts()"
   ]
  },
  {
   "cell_type": "markdown",
   "metadata": {},
   "source": [
    "NOTE: Since we know that 100/794+100 = 0.11185682326 of the people are not denied, we could achieve a training model accuracy of (1 - 0.11185682326) = 0.88814317673 by simply predicting \"Did not be denied\" for each person. This metric is referred to as the null error rate. When evaluating the performance of a binary logistic regression model, always check to see whether the accuracy you are attaining exceeds the null error rate. If not, your model is unlikely to be of any value.\n",
    "\n",
    "In this model, the score is just a little higher than null error rate, let's try to use other attributes:"
   ]
  },
  {
   "cell_type": "markdown",
   "metadata": {},
   "source": [
    "Next, __we create a dummy indicator for the 'pbcr' categorical variable__: the new dummy variable 'Isbad' contains a '1' if an applicator have 'pbcr' and a '0' otherwise:"
   ]
  },
  {
   "cell_type": "code",
   "execution_count": 176,
   "metadata": {},
   "outputs": [],
   "source": [
    "# create a dummy variable for the 'pbcr' attribute\n",
    "mortgage3['Isbad'] = (mortgage3['pbcr'] == 'yes').astype(int)"
   ]
  },
  {
   "cell_type": "code",
   "execution_count": 183,
   "metadata": {},
   "outputs": [],
   "source": [
    "X = mortgage3[['dir','hir','lvr','Isbad']]\n",
    "Y = mortgage3['deny'].values\n",
    "from sklearn.model_selection import train_test_split\n",
    "X_train, X_test, Y_train, Y_test = train_test_split(X,Y,test_size = 0.2,random_state = 10)"
   ]
  },
  {
   "cell_type": "code",
   "execution_count": 184,
   "metadata": {},
   "outputs": [
    {
     "data": {
      "text/html": [
       "<div>\n",
       "<style scoped>\n",
       "    .dataframe tbody tr th:only-of-type {\n",
       "        vertical-align: middle;\n",
       "    }\n",
       "\n",
       "    .dataframe tbody tr th {\n",
       "        vertical-align: top;\n",
       "    }\n",
       "\n",
       "    .dataframe thead th {\n",
       "        text-align: right;\n",
       "    }\n",
       "</style>\n",
       "<table border=\"1\" class=\"dataframe\">\n",
       "  <thead>\n",
       "    <tr style=\"text-align: right;\">\n",
       "      <th></th>\n",
       "      <th>dir</th>\n",
       "      <th>hir</th>\n",
       "      <th>lvr</th>\n",
       "      <th>Isbad</th>\n",
       "    </tr>\n",
       "  </thead>\n",
       "  <tbody>\n",
       "    <tr>\n",
       "      <th>1884</th>\n",
       "      <td>0.21</td>\n",
       "      <td>0.217706</td>\n",
       "      <td>0.750000</td>\n",
       "      <td>0</td>\n",
       "    </tr>\n",
       "    <tr>\n",
       "      <th>1784</th>\n",
       "      <td>0.36</td>\n",
       "      <td>0.240000</td>\n",
       "      <td>0.800000</td>\n",
       "      <td>0</td>\n",
       "    </tr>\n",
       "    <tr>\n",
       "      <th>2143</th>\n",
       "      <td>0.36</td>\n",
       "      <td>0.250000</td>\n",
       "      <td>0.800000</td>\n",
       "      <td>0</td>\n",
       "    </tr>\n",
       "    <tr>\n",
       "      <th>1863</th>\n",
       "      <td>0.37</td>\n",
       "      <td>0.210000</td>\n",
       "      <td>0.770950</td>\n",
       "      <td>0</td>\n",
       "    </tr>\n",
       "    <tr>\n",
       "      <th>1564</th>\n",
       "      <td>0.26</td>\n",
       "      <td>0.220000</td>\n",
       "      <td>0.897436</td>\n",
       "      <td>0</td>\n",
       "    </tr>\n",
       "  </tbody>\n",
       "</table>\n",
       "</div>"
      ],
      "text/plain": [
       "       dir       hir       lvr  Isbad\n",
       "1884  0.21  0.217706  0.750000      0\n",
       "1784  0.36  0.240000  0.800000      0\n",
       "2143  0.36  0.250000  0.800000      0\n",
       "1863  0.37  0.210000  0.770950      0\n",
       "1564  0.26  0.220000  0.897436      0"
      ]
     },
     "execution_count": 184,
     "metadata": {},
     "output_type": "execute_result"
    }
   ],
   "source": [
    "# sanity check on training data\n",
    "X_train[:5]"
   ]
  },
  {
   "cell_type": "code",
   "execution_count": 185,
   "metadata": {},
   "outputs": [
    {
     "data": {
      "text/plain": [
       "array(['no', 'no', 'no', 'no', 'no'], dtype=object)"
      ]
     },
     "execution_count": 185,
     "metadata": {},
     "output_type": "execute_result"
    }
   ],
   "source": [
    "# sanity check on training data\n",
    "Y_train[:5]"
   ]
  },
  {
   "cell_type": "code",
   "execution_count": 186,
   "metadata": {},
   "outputs": [
    {
     "data": {
      "text/plain": [
       "LogisticRegression(C=1.0, class_weight=None, dual=False, fit_intercept=True,\n",
       "                   intercept_scaling=1, l1_ratio=None, max_iter=100,\n",
       "                   multi_class='auto', n_jobs=None, penalty='l2',\n",
       "                   random_state=None, solver='lbfgs', tol=0.0001, verbose=0,\n",
       "                   warm_start=False)"
      ]
     },
     "execution_count": 186,
     "metadata": {},
     "output_type": "execute_result"
    }
   ],
   "source": [
    "# We're using the LogisticRegression() method for this model\n",
    "model = LogisticRegression()\n",
    "\n",
    "# fit the model: X_train contains our explanatory variables while \n",
    "# Y_train contains the response variable\n",
    "model.fit(X_train, Y_train)"
   ]
  },
  {
   "cell_type": "code",
   "execution_count": 187,
   "metadata": {},
   "outputs": [
    {
     "data": {
      "text/plain": [
       "0.8881426150273052"
      ]
     },
     "execution_count": 187,
     "metadata": {},
     "output_type": "execute_result"
    }
   ],
   "source": [
    "from sklearn.model_selection import cross_val_score\n",
    "results1 = cross_val_score(model,X_train,Y_train,cv=5)\n",
    "results1.mean()"
   ]
  },
  {
   "cell_type": "code",
   "execution_count": 188,
   "metadata": {},
   "outputs": [
    {
     "data": {
      "text/plain": [
       "0.8881431767337807"
      ]
     },
     "execution_count": 188,
     "metadata": {},
     "output_type": "execute_result"
    }
   ],
   "source": [
    "# calculate the accuracy of the model relative to the training data set\n",
    "model.score(X_train, Y_train)"
   ]
  },
  {
   "cell_type": "markdown",
   "metadata": {},
   "source": [
    "### In this model with exploratory variables 'dir', 'hir', 'lvr', 'Isbad', the accuracy of the model did not show any improvement.\n",
    "\n",
    "Next, __we create a dummy indicator for the 'dmi' categorical variable__: the new dummy variable 'Isi' contains a '1' if an applicator have 'dmi' and a '0' otherwise:"
   ]
  },
  {
   "cell_type": "code",
   "execution_count": 189,
   "metadata": {},
   "outputs": [],
   "source": [
    "# create a dummy variable for the 'dmi' attribute\n",
    "mortgage3['Isi'] = (mortgage3['dmi'] == 'yes').astype(int)"
   ]
  },
  {
   "cell_type": "code",
   "execution_count": 190,
   "metadata": {},
   "outputs": [],
   "source": [
    "X = mortgage3[['dir','hir','lvr','Isi']]\n",
    "Y = mortgage3['deny'].values\n",
    "from sklearn.model_selection import train_test_split\n",
    "X_train, X_test, Y_train, Y_test = train_test_split(X,Y,test_size = 0.2,random_state = 10)"
   ]
  },
  {
   "cell_type": "code",
   "execution_count": 191,
   "metadata": {},
   "outputs": [
    {
     "data": {
      "text/html": [
       "<div>\n",
       "<style scoped>\n",
       "    .dataframe tbody tr th:only-of-type {\n",
       "        vertical-align: middle;\n",
       "    }\n",
       "\n",
       "    .dataframe tbody tr th {\n",
       "        vertical-align: top;\n",
       "    }\n",
       "\n",
       "    .dataframe thead th {\n",
       "        text-align: right;\n",
       "    }\n",
       "</style>\n",
       "<table border=\"1\" class=\"dataframe\">\n",
       "  <thead>\n",
       "    <tr style=\"text-align: right;\">\n",
       "      <th></th>\n",
       "      <th>dir</th>\n",
       "      <th>hir</th>\n",
       "      <th>lvr</th>\n",
       "      <th>Isi</th>\n",
       "    </tr>\n",
       "  </thead>\n",
       "  <tbody>\n",
       "    <tr>\n",
       "      <th>1884</th>\n",
       "      <td>0.21</td>\n",
       "      <td>0.217706</td>\n",
       "      <td>0.750000</td>\n",
       "      <td>0</td>\n",
       "    </tr>\n",
       "    <tr>\n",
       "      <th>1784</th>\n",
       "      <td>0.36</td>\n",
       "      <td>0.240000</td>\n",
       "      <td>0.800000</td>\n",
       "      <td>0</td>\n",
       "    </tr>\n",
       "    <tr>\n",
       "      <th>2143</th>\n",
       "      <td>0.36</td>\n",
       "      <td>0.250000</td>\n",
       "      <td>0.800000</td>\n",
       "      <td>0</td>\n",
       "    </tr>\n",
       "    <tr>\n",
       "      <th>1863</th>\n",
       "      <td>0.37</td>\n",
       "      <td>0.210000</td>\n",
       "      <td>0.770950</td>\n",
       "      <td>0</td>\n",
       "    </tr>\n",
       "    <tr>\n",
       "      <th>1564</th>\n",
       "      <td>0.26</td>\n",
       "      <td>0.220000</td>\n",
       "      <td>0.897436</td>\n",
       "      <td>0</td>\n",
       "    </tr>\n",
       "  </tbody>\n",
       "</table>\n",
       "</div>"
      ],
      "text/plain": [
       "       dir       hir       lvr  Isi\n",
       "1884  0.21  0.217706  0.750000    0\n",
       "1784  0.36  0.240000  0.800000    0\n",
       "2143  0.36  0.250000  0.800000    0\n",
       "1863  0.37  0.210000  0.770950    0\n",
       "1564  0.26  0.220000  0.897436    0"
      ]
     },
     "execution_count": 191,
     "metadata": {},
     "output_type": "execute_result"
    }
   ],
   "source": [
    "# sanity check on training data\n",
    "X_train[:5]"
   ]
  },
  {
   "cell_type": "code",
   "execution_count": 192,
   "metadata": {},
   "outputs": [
    {
     "data": {
      "text/plain": [
       "array(['no', 'no', 'no', 'no', 'no'], dtype=object)"
      ]
     },
     "execution_count": 192,
     "metadata": {},
     "output_type": "execute_result"
    }
   ],
   "source": [
    "# sanity check on training data\n",
    "Y_train[:5]"
   ]
  },
  {
   "cell_type": "code",
   "execution_count": 193,
   "metadata": {},
   "outputs": [
    {
     "data": {
      "text/plain": [
       "LogisticRegression(C=1.0, class_weight=None, dual=False, fit_intercept=True,\n",
       "                   intercept_scaling=1, l1_ratio=None, max_iter=100,\n",
       "                   multi_class='auto', n_jobs=None, penalty='l2',\n",
       "                   random_state=None, solver='lbfgs', tol=0.0001, verbose=0,\n",
       "                   warm_start=False)"
      ]
     },
     "execution_count": 193,
     "metadata": {},
     "output_type": "execute_result"
    }
   ],
   "source": [
    "# We're using the LogisticRegression() method for this model\n",
    "model = LogisticRegression()\n",
    "\n",
    "# fit the model: X_train contains our explanatory variables while \n",
    "# Y_train contains the response variable\n",
    "model.fit(X_train, Y_train)"
   ]
  },
  {
   "cell_type": "code",
   "execution_count": 194,
   "metadata": {},
   "outputs": [
    {
     "data": {
      "text/plain": [
       "0.9060322641391"
      ]
     },
     "execution_count": 194,
     "metadata": {},
     "output_type": "execute_result"
    }
   ],
   "source": [
    "from sklearn.model_selection import cross_val_score\n",
    "results1 = cross_val_score(model,X_train,Y_train,cv=5)\n",
    "results1.mean()"
   ]
  },
  {
   "cell_type": "code",
   "execution_count": 195,
   "metadata": {},
   "outputs": [
    {
     "data": {
      "text/plain": [
       "0.9060402684563759"
      ]
     },
     "execution_count": 195,
     "metadata": {},
     "output_type": "execute_result"
    }
   ],
   "source": [
    "# calculate the accuracy of the model relative to the training data set\n",
    "model.score(X_train, Y_train)"
   ]
  },
  {
   "cell_type": "markdown",
   "metadata": {},
   "source": [
    "### In this model with exploratory variables 'dir', 'hir', 'lvr', 'Isi', the accuracy of the model has been increased apparantly.\n",
    "\n",
    "Next, __we create a dummy indicator for the 'self' categorical variable__: the new dummy variable 'Isself' contains a '1' if an applicator is self-employed' and a '0' otherwise:"
   ]
  },
  {
   "cell_type": "code",
   "execution_count": 196,
   "metadata": {},
   "outputs": [],
   "source": [
    "# create a dummy variable for the 'self' attribute\n",
    "mortgage3['Isself'] = (mortgage3['self'] == 'yes').astype(int)"
   ]
  },
  {
   "cell_type": "code",
   "execution_count": 197,
   "metadata": {},
   "outputs": [],
   "source": [
    "X = mortgage3[['dir','hir','lvr','Isself']]\n",
    "Y = mortgage3['deny'].values\n",
    "from sklearn.model_selection import train_test_split\n",
    "X_train, X_test, Y_train, Y_test = train_test_split(X,Y,test_size = 0.2,random_state = 10)"
   ]
  },
  {
   "cell_type": "code",
   "execution_count": 198,
   "metadata": {},
   "outputs": [
    {
     "data": {
      "text/html": [
       "<div>\n",
       "<style scoped>\n",
       "    .dataframe tbody tr th:only-of-type {\n",
       "        vertical-align: middle;\n",
       "    }\n",
       "\n",
       "    .dataframe tbody tr th {\n",
       "        vertical-align: top;\n",
       "    }\n",
       "\n",
       "    .dataframe thead th {\n",
       "        text-align: right;\n",
       "    }\n",
       "</style>\n",
       "<table border=\"1\" class=\"dataframe\">\n",
       "  <thead>\n",
       "    <tr style=\"text-align: right;\">\n",
       "      <th></th>\n",
       "      <th>dir</th>\n",
       "      <th>hir</th>\n",
       "      <th>lvr</th>\n",
       "      <th>Isself</th>\n",
       "    </tr>\n",
       "  </thead>\n",
       "  <tbody>\n",
       "    <tr>\n",
       "      <th>1884</th>\n",
       "      <td>0.21</td>\n",
       "      <td>0.217706</td>\n",
       "      <td>0.750000</td>\n",
       "      <td>1</td>\n",
       "    </tr>\n",
       "    <tr>\n",
       "      <th>1784</th>\n",
       "      <td>0.36</td>\n",
       "      <td>0.240000</td>\n",
       "      <td>0.800000</td>\n",
       "      <td>0</td>\n",
       "    </tr>\n",
       "    <tr>\n",
       "      <th>2143</th>\n",
       "      <td>0.36</td>\n",
       "      <td>0.250000</td>\n",
       "      <td>0.800000</td>\n",
       "      <td>1</td>\n",
       "    </tr>\n",
       "    <tr>\n",
       "      <th>1863</th>\n",
       "      <td>0.37</td>\n",
       "      <td>0.210000</td>\n",
       "      <td>0.770950</td>\n",
       "      <td>0</td>\n",
       "    </tr>\n",
       "    <tr>\n",
       "      <th>1564</th>\n",
       "      <td>0.26</td>\n",
       "      <td>0.220000</td>\n",
       "      <td>0.897436</td>\n",
       "      <td>0</td>\n",
       "    </tr>\n",
       "  </tbody>\n",
       "</table>\n",
       "</div>"
      ],
      "text/plain": [
       "       dir       hir       lvr  Isself\n",
       "1884  0.21  0.217706  0.750000       1\n",
       "1784  0.36  0.240000  0.800000       0\n",
       "2143  0.36  0.250000  0.800000       1\n",
       "1863  0.37  0.210000  0.770950       0\n",
       "1564  0.26  0.220000  0.897436       0"
      ]
     },
     "execution_count": 198,
     "metadata": {},
     "output_type": "execute_result"
    }
   ],
   "source": [
    "# sanity check on training data\n",
    "X_train[:5]"
   ]
  },
  {
   "cell_type": "code",
   "execution_count": 199,
   "metadata": {},
   "outputs": [
    {
     "data": {
      "text/plain": [
       "array(['no', 'no', 'no', 'no', 'no'], dtype=object)"
      ]
     },
     "execution_count": 199,
     "metadata": {},
     "output_type": "execute_result"
    }
   ],
   "source": [
    "# sanity check on training data\n",
    "Y_train[:5]"
   ]
  },
  {
   "cell_type": "code",
   "execution_count": 200,
   "metadata": {},
   "outputs": [
    {
     "data": {
      "text/plain": [
       "LogisticRegression(C=1.0, class_weight=None, dual=False, fit_intercept=True,\n",
       "                   intercept_scaling=1, l1_ratio=None, max_iter=100,\n",
       "                   multi_class='auto', n_jobs=None, penalty='l2',\n",
       "                   random_state=None, solver='lbfgs', tol=0.0001, verbose=0,\n",
       "                   warm_start=False)"
      ]
     },
     "execution_count": 200,
     "metadata": {},
     "output_type": "execute_result"
    }
   ],
   "source": [
    "# We're using the LogisticRegression() method for this model\n",
    "model = LogisticRegression()\n",
    "\n",
    "# fit the model: X_train contains our explanatory variables while \n",
    "# Y_train contains the response variable\n",
    "model.fit(X_train, Y_train)"
   ]
  },
  {
   "cell_type": "code",
   "execution_count": 201,
   "metadata": {},
   "outputs": [
    {
     "data": {
      "text/plain": [
       "0.8881426150273052"
      ]
     },
     "execution_count": 201,
     "metadata": {},
     "output_type": "execute_result"
    }
   ],
   "source": [
    "from sklearn.model_selection import cross_val_score\n",
    "results1 = cross_val_score(model,X_train,Y_train,cv=5)\n",
    "results1.mean()"
   ]
  },
  {
   "cell_type": "code",
   "execution_count": 202,
   "metadata": {},
   "outputs": [
    {
     "data": {
      "text/plain": [
       "0.8881431767337807"
      ]
     },
     "execution_count": 202,
     "metadata": {},
     "output_type": "execute_result"
    }
   ],
   "source": [
    "# calculate the accuracy of the model relative to the training data set\n",
    "model.score(X_train, Y_train)"
   ]
  },
  {
   "cell_type": "markdown",
   "metadata": {},
   "source": [
    "### In this model with exploratory variables 'dir', 'hir', 'lvr', 'Isself', the accuracy of the model did not show too much improvement:\n",
    "\n",
    "Next, __we create a dummy indicator for the 'black' categorical variable__: the new dummy variable 'Isblack' contains a '1' if an applicator is black and a '0' otherwise:"
   ]
  },
  {
   "cell_type": "code",
   "execution_count": 203,
   "metadata": {},
   "outputs": [],
   "source": [
    "# create a dummy variable for the 'black' attribute\n",
    "mortgage3['Isblack'] = (mortgage3['black'] == 'yes').astype(int)"
   ]
  },
  {
   "cell_type": "code",
   "execution_count": 204,
   "metadata": {},
   "outputs": [],
   "source": [
    "X = mortgage3[['dir','hir','lvr','Isblack']]\n",
    "Y = mortgage3['deny'].values\n",
    "from sklearn.model_selection import train_test_split\n",
    "X_train, X_test, Y_train, Y_test = train_test_split(X,Y,test_size = 0.2,random_state = 10)"
   ]
  },
  {
   "cell_type": "code",
   "execution_count": 205,
   "metadata": {},
   "outputs": [
    {
     "data": {
      "text/html": [
       "<div>\n",
       "<style scoped>\n",
       "    .dataframe tbody tr th:only-of-type {\n",
       "        vertical-align: middle;\n",
       "    }\n",
       "\n",
       "    .dataframe tbody tr th {\n",
       "        vertical-align: top;\n",
       "    }\n",
       "\n",
       "    .dataframe thead th {\n",
       "        text-align: right;\n",
       "    }\n",
       "</style>\n",
       "<table border=\"1\" class=\"dataframe\">\n",
       "  <thead>\n",
       "    <tr style=\"text-align: right;\">\n",
       "      <th></th>\n",
       "      <th>dir</th>\n",
       "      <th>hir</th>\n",
       "      <th>lvr</th>\n",
       "      <th>Isblack</th>\n",
       "    </tr>\n",
       "  </thead>\n",
       "  <tbody>\n",
       "    <tr>\n",
       "      <th>1884</th>\n",
       "      <td>0.21</td>\n",
       "      <td>0.217706</td>\n",
       "      <td>0.750000</td>\n",
       "      <td>0</td>\n",
       "    </tr>\n",
       "    <tr>\n",
       "      <th>1784</th>\n",
       "      <td>0.36</td>\n",
       "      <td>0.240000</td>\n",
       "      <td>0.800000</td>\n",
       "      <td>0</td>\n",
       "    </tr>\n",
       "    <tr>\n",
       "      <th>2143</th>\n",
       "      <td>0.36</td>\n",
       "      <td>0.250000</td>\n",
       "      <td>0.800000</td>\n",
       "      <td>1</td>\n",
       "    </tr>\n",
       "    <tr>\n",
       "      <th>1863</th>\n",
       "      <td>0.37</td>\n",
       "      <td>0.210000</td>\n",
       "      <td>0.770950</td>\n",
       "      <td>0</td>\n",
       "    </tr>\n",
       "    <tr>\n",
       "      <th>1564</th>\n",
       "      <td>0.26</td>\n",
       "      <td>0.220000</td>\n",
       "      <td>0.897436</td>\n",
       "      <td>0</td>\n",
       "    </tr>\n",
       "  </tbody>\n",
       "</table>\n",
       "</div>"
      ],
      "text/plain": [
       "       dir       hir       lvr  Isblack\n",
       "1884  0.21  0.217706  0.750000        0\n",
       "1784  0.36  0.240000  0.800000        0\n",
       "2143  0.36  0.250000  0.800000        1\n",
       "1863  0.37  0.210000  0.770950        0\n",
       "1564  0.26  0.220000  0.897436        0"
      ]
     },
     "execution_count": 205,
     "metadata": {},
     "output_type": "execute_result"
    }
   ],
   "source": [
    "# sanity check on training data\n",
    "X_train[:5]"
   ]
  },
  {
   "cell_type": "code",
   "execution_count": 206,
   "metadata": {},
   "outputs": [
    {
     "data": {
      "text/plain": [
       "array(['no', 'no', 'no', 'no', 'no'], dtype=object)"
      ]
     },
     "execution_count": 206,
     "metadata": {},
     "output_type": "execute_result"
    }
   ],
   "source": [
    "# sanity check on training data\n",
    "Y_train[:5]"
   ]
  },
  {
   "cell_type": "code",
   "execution_count": 207,
   "metadata": {},
   "outputs": [
    {
     "data": {
      "text/plain": [
       "LogisticRegression(C=1.0, class_weight=None, dual=False, fit_intercept=True,\n",
       "                   intercept_scaling=1, l1_ratio=None, max_iter=100,\n",
       "                   multi_class='auto', n_jobs=None, penalty='l2',\n",
       "                   random_state=None, solver='lbfgs', tol=0.0001, verbose=0,\n",
       "                   warm_start=False)"
      ]
     },
     "execution_count": 207,
     "metadata": {},
     "output_type": "execute_result"
    }
   ],
   "source": [
    "# We're using the LogisticRegression() method for this model\n",
    "model = LogisticRegression()\n",
    "\n",
    "# fit the model: X_train contains our explanatory variables while \n",
    "# Y_train contains the response variable\n",
    "model.fit(X_train, Y_train)"
   ]
  },
  {
   "cell_type": "code",
   "execution_count": 208,
   "metadata": {},
   "outputs": [
    {
     "data": {
      "text/plain": [
       "0.8881426150273052"
      ]
     },
     "execution_count": 208,
     "metadata": {},
     "output_type": "execute_result"
    }
   ],
   "source": [
    "from sklearn.model_selection import cross_val_score\n",
    "results1 = cross_val_score(model,X_train,Y_train,cv=5)\n",
    "results1.mean()"
   ]
  },
  {
   "cell_type": "code",
   "execution_count": 209,
   "metadata": {},
   "outputs": [
    {
     "data": {
      "text/plain": [
       "0.8881431767337807"
      ]
     },
     "execution_count": 209,
     "metadata": {},
     "output_type": "execute_result"
    }
   ],
   "source": [
    "# calculate the accuracy of the model relative to the training data set\n",
    "model.score(X_train, Y_train)"
   ]
  },
  {
   "cell_type": "markdown",
   "metadata": {},
   "source": [
    "### In this model with exploratory variables 'dir', 'hir', 'lvr', 'Isblack', the accuracy of the model did not show too much improvement.\n",
    "\n",
    "### The above models show, with the same numeric variables, the attribute \"dmi\" improves the accuracy of the model much more, therefore, using the attribute \"dmi\", I will try to use other numeric attributes to construct the model:"
   ]
  },
  {
   "cell_type": "code",
   "execution_count": 224,
   "metadata": {},
   "outputs": [],
   "source": [
    "X = mortgage3[['dir','hir','lvr','Isi','uria']]\n",
    "Y = mortgage3['deny'].values\n",
    "from sklearn.model_selection import train_test_split\n",
    "X_train, X_test, Y_train, Y_test = train_test_split(X,Y,test_size = 0.2,random_state = 10)"
   ]
  },
  {
   "cell_type": "code",
   "execution_count": 225,
   "metadata": {},
   "outputs": [
    {
     "data": {
      "text/html": [
       "<div>\n",
       "<style scoped>\n",
       "    .dataframe tbody tr th:only-of-type {\n",
       "        vertical-align: middle;\n",
       "    }\n",
       "\n",
       "    .dataframe tbody tr th {\n",
       "        vertical-align: top;\n",
       "    }\n",
       "\n",
       "    .dataframe thead th {\n",
       "        text-align: right;\n",
       "    }\n",
       "</style>\n",
       "<table border=\"1\" class=\"dataframe\">\n",
       "  <thead>\n",
       "    <tr style=\"text-align: right;\">\n",
       "      <th></th>\n",
       "      <th>dir</th>\n",
       "      <th>hir</th>\n",
       "      <th>lvr</th>\n",
       "      <th>Isi</th>\n",
       "      <th>uria</th>\n",
       "    </tr>\n",
       "  </thead>\n",
       "  <tbody>\n",
       "    <tr>\n",
       "      <th>1884</th>\n",
       "      <td>0.21</td>\n",
       "      <td>0.217706</td>\n",
       "      <td>0.750000</td>\n",
       "      <td>0</td>\n",
       "      <td>3.2</td>\n",
       "    </tr>\n",
       "    <tr>\n",
       "      <th>1784</th>\n",
       "      <td>0.36</td>\n",
       "      <td>0.240000</td>\n",
       "      <td>0.800000</td>\n",
       "      <td>0</td>\n",
       "      <td>2.0</td>\n",
       "    </tr>\n",
       "    <tr>\n",
       "      <th>2143</th>\n",
       "      <td>0.36</td>\n",
       "      <td>0.250000</td>\n",
       "      <td>0.800000</td>\n",
       "      <td>0</td>\n",
       "      <td>3.1</td>\n",
       "    </tr>\n",
       "    <tr>\n",
       "      <th>1863</th>\n",
       "      <td>0.37</td>\n",
       "      <td>0.210000</td>\n",
       "      <td>0.770950</td>\n",
       "      <td>0</td>\n",
       "      <td>3.1</td>\n",
       "    </tr>\n",
       "    <tr>\n",
       "      <th>1564</th>\n",
       "      <td>0.26</td>\n",
       "      <td>0.220000</td>\n",
       "      <td>0.897436</td>\n",
       "      <td>0</td>\n",
       "      <td>3.2</td>\n",
       "    </tr>\n",
       "  </tbody>\n",
       "</table>\n",
       "</div>"
      ],
      "text/plain": [
       "       dir       hir       lvr  Isi  uria\n",
       "1884  0.21  0.217706  0.750000    0   3.2\n",
       "1784  0.36  0.240000  0.800000    0   2.0\n",
       "2143  0.36  0.250000  0.800000    0   3.1\n",
       "1863  0.37  0.210000  0.770950    0   3.1\n",
       "1564  0.26  0.220000  0.897436    0   3.2"
      ]
     },
     "execution_count": 225,
     "metadata": {},
     "output_type": "execute_result"
    }
   ],
   "source": [
    "# sanity check on training data\n",
    "X_train[:5]"
   ]
  },
  {
   "cell_type": "code",
   "execution_count": 226,
   "metadata": {},
   "outputs": [
    {
     "data": {
      "text/plain": [
       "array(['no', 'no', 'no', 'no', 'no'], dtype=object)"
      ]
     },
     "execution_count": 226,
     "metadata": {},
     "output_type": "execute_result"
    }
   ],
   "source": [
    "# sanity check on training data\n",
    "Y_train[:5]"
   ]
  },
  {
   "cell_type": "code",
   "execution_count": 227,
   "metadata": {},
   "outputs": [
    {
     "data": {
      "text/plain": [
       "LogisticRegression(C=1.0, class_weight=None, dual=False, fit_intercept=True,\n",
       "                   intercept_scaling=1, l1_ratio=None, max_iter=100,\n",
       "                   multi_class='auto', n_jobs=None, penalty='l2',\n",
       "                   random_state=None, solver='lbfgs', tol=0.0001, verbose=0,\n",
       "                   warm_start=False)"
      ]
     },
     "execution_count": 227,
     "metadata": {},
     "output_type": "execute_result"
    }
   ],
   "source": [
    "# We're using the LogisticRegression() method for this model\n",
    "model = LogisticRegression()\n",
    "\n",
    "# fit the model: X_train contains our explanatory variables while \n",
    "# Y_train contains the response variable\n",
    "model.fit(X_train, Y_train)"
   ]
  },
  {
   "cell_type": "code",
   "execution_count": 228,
   "metadata": {},
   "outputs": [
    {
     "data": {
      "text/plain": [
       "0.9060322641391"
      ]
     },
     "execution_count": 228,
     "metadata": {},
     "output_type": "execute_result"
    }
   ],
   "source": [
    "from sklearn.model_selection import cross_val_score\n",
    "results1 = cross_val_score(model,X_train,Y_train,cv=5)\n",
    "results1.mean()"
   ]
  },
  {
   "cell_type": "code",
   "execution_count": 229,
   "metadata": {},
   "outputs": [
    {
     "data": {
      "text/plain": [
       "0.9060402684563759"
      ]
     },
     "execution_count": 229,
     "metadata": {},
     "output_type": "execute_result"
    }
   ],
   "source": [
    "# calculate the accuracy of the model relative to the training data set\n",
    "model.score(X_train, Y_train)"
   ]
  },
  {
   "cell_type": "markdown",
   "metadata": {},
   "source": [
    "### In this model with exploratory variables 'dir', 'hir', 'lvr', 'Isi', 'uria', the accuracy of the model show the same with the model with exploratory variables 'dir', 'hir', 'lvr', 'Isi'.\n",
    "\n",
    "### Try another model: with exploratory variables 'dir', 'hir', 'lvr', 'Isi', 'ccs','mcs'."
   ]
  },
  {
   "cell_type": "code",
   "execution_count": 231,
   "metadata": {},
   "outputs": [],
   "source": [
    "X = mortgage3[['dir','hir','lvr','Isi','ccs','mcs']]\n",
    "Y = mortgage3['deny'].values\n",
    "from sklearn.model_selection import train_test_split\n",
    "X_train, X_test, Y_train, Y_test = train_test_split(X,Y,test_size = 0.2,random_state = 10)"
   ]
  },
  {
   "cell_type": "code",
   "execution_count": 232,
   "metadata": {},
   "outputs": [
    {
     "data": {
      "text/html": [
       "<div>\n",
       "<style scoped>\n",
       "    .dataframe tbody tr th:only-of-type {\n",
       "        vertical-align: middle;\n",
       "    }\n",
       "\n",
       "    .dataframe tbody tr th {\n",
       "        vertical-align: top;\n",
       "    }\n",
       "\n",
       "    .dataframe thead th {\n",
       "        text-align: right;\n",
       "    }\n",
       "</style>\n",
       "<table border=\"1\" class=\"dataframe\">\n",
       "  <thead>\n",
       "    <tr style=\"text-align: right;\">\n",
       "      <th></th>\n",
       "      <th>dir</th>\n",
       "      <th>hir</th>\n",
       "      <th>lvr</th>\n",
       "      <th>Isi</th>\n",
       "      <th>ccs</th>\n",
       "      <th>mcs</th>\n",
       "    </tr>\n",
       "  </thead>\n",
       "  <tbody>\n",
       "    <tr>\n",
       "      <th>1884</th>\n",
       "      <td>0.21</td>\n",
       "      <td>0.217706</td>\n",
       "      <td>0.750000</td>\n",
       "      <td>0</td>\n",
       "      <td>2.0</td>\n",
       "      <td>3.0</td>\n",
       "    </tr>\n",
       "    <tr>\n",
       "      <th>1784</th>\n",
       "      <td>0.36</td>\n",
       "      <td>0.240000</td>\n",
       "      <td>0.800000</td>\n",
       "      <td>0</td>\n",
       "      <td>1.0</td>\n",
       "      <td>2.0</td>\n",
       "    </tr>\n",
       "    <tr>\n",
       "      <th>2143</th>\n",
       "      <td>0.36</td>\n",
       "      <td>0.250000</td>\n",
       "      <td>0.800000</td>\n",
       "      <td>0</td>\n",
       "      <td>3.0</td>\n",
       "      <td>2.0</td>\n",
       "    </tr>\n",
       "    <tr>\n",
       "      <th>1863</th>\n",
       "      <td>0.37</td>\n",
       "      <td>0.210000</td>\n",
       "      <td>0.770950</td>\n",
       "      <td>0</td>\n",
       "      <td>3.0</td>\n",
       "      <td>1.0</td>\n",
       "    </tr>\n",
       "    <tr>\n",
       "      <th>1564</th>\n",
       "      <td>0.26</td>\n",
       "      <td>0.220000</td>\n",
       "      <td>0.897436</td>\n",
       "      <td>0</td>\n",
       "      <td>1.0</td>\n",
       "      <td>2.0</td>\n",
       "    </tr>\n",
       "  </tbody>\n",
       "</table>\n",
       "</div>"
      ],
      "text/plain": [
       "       dir       hir       lvr  Isi  ccs  mcs\n",
       "1884  0.21  0.217706  0.750000    0  2.0  3.0\n",
       "1784  0.36  0.240000  0.800000    0  1.0  2.0\n",
       "2143  0.36  0.250000  0.800000    0  3.0  2.0\n",
       "1863  0.37  0.210000  0.770950    0  3.0  1.0\n",
       "1564  0.26  0.220000  0.897436    0  1.0  2.0"
      ]
     },
     "execution_count": 232,
     "metadata": {},
     "output_type": "execute_result"
    }
   ],
   "source": [
    "# sanity check on training data\n",
    "X_train[:5]"
   ]
  },
  {
   "cell_type": "code",
   "execution_count": 233,
   "metadata": {},
   "outputs": [
    {
     "data": {
      "text/plain": [
       "array(['no', 'no', 'no', 'no', 'no'], dtype=object)"
      ]
     },
     "execution_count": 233,
     "metadata": {},
     "output_type": "execute_result"
    }
   ],
   "source": [
    "# sanity check on training data\n",
    "Y_train[:5]"
   ]
  },
  {
   "cell_type": "code",
   "execution_count": 234,
   "metadata": {},
   "outputs": [
    {
     "data": {
      "text/plain": [
       "LogisticRegression(C=1.0, class_weight=None, dual=False, fit_intercept=True,\n",
       "                   intercept_scaling=1, l1_ratio=None, max_iter=100,\n",
       "                   multi_class='auto', n_jobs=None, penalty='l2',\n",
       "                   random_state=None, solver='lbfgs', tol=0.0001, verbose=0,\n",
       "                   warm_start=False)"
      ]
     },
     "execution_count": 234,
     "metadata": {},
     "output_type": "execute_result"
    }
   ],
   "source": [
    "# We're using the LogisticRegression() method for this model\n",
    "model = LogisticRegression()\n",
    "\n",
    "# fit the model: X_train contains our explanatory variables while \n",
    "# Y_train contains the response variable\n",
    "model.fit(X_train, Y_train)"
   ]
  },
  {
   "cell_type": "code",
   "execution_count": 235,
   "metadata": {},
   "outputs": [
    {
     "data": {
      "text/plain": [
       "0.9026803088318374"
      ]
     },
     "execution_count": 235,
     "metadata": {},
     "output_type": "execute_result"
    }
   ],
   "source": [
    "from sklearn.model_selection import cross_val_score\n",
    "results1 = cross_val_score(model,X_train,Y_train,cv=5)\n",
    "results1.mean()"
   ]
  },
  {
   "cell_type": "code",
   "execution_count": 236,
   "metadata": {},
   "outputs": [
    {
     "data": {
      "text/plain": [
       "0.9060402684563759"
      ]
     },
     "execution_count": 236,
     "metadata": {},
     "output_type": "execute_result"
    }
   ],
   "source": [
    "# calculate the accuracy of the model relative to the training data set\n",
    "model.score(X_train, Y_train)"
   ]
  },
  {
   "cell_type": "markdown",
   "metadata": {},
   "source": [
    "### In this model with exploratory variables 'dir', 'hir', 'lvr', 'Isi', 'ccs','mcs', the mean value of the accuracy of the model gets lower, which means ccs and mcs did not improve the accuracy of the logistic regression model.\n",
    "\n",
    "### Let me try the model with exploratory variables 'dir', 'hir', 'lvr', 'Isi', 'comdominiom':"
   ]
  },
  {
   "cell_type": "code",
   "execution_count": 237,
   "metadata": {},
   "outputs": [],
   "source": [
    "X = mortgage3[['dir','hir','lvr','Isi','comdominiom']]\n",
    "Y = mortgage3['deny'].values\n",
    "from sklearn.model_selection import train_test_split\n",
    "X_train, X_test, Y_train, Y_test = train_test_split(X,Y,test_size = 0.2,random_state = 10)"
   ]
  },
  {
   "cell_type": "code",
   "execution_count": 238,
   "metadata": {},
   "outputs": [
    {
     "data": {
      "text/html": [
       "<div>\n",
       "<style scoped>\n",
       "    .dataframe tbody tr th:only-of-type {\n",
       "        vertical-align: middle;\n",
       "    }\n",
       "\n",
       "    .dataframe tbody tr th {\n",
       "        vertical-align: top;\n",
       "    }\n",
       "\n",
       "    .dataframe thead th {\n",
       "        text-align: right;\n",
       "    }\n",
       "</style>\n",
       "<table border=\"1\" class=\"dataframe\">\n",
       "  <thead>\n",
       "    <tr style=\"text-align: right;\">\n",
       "      <th></th>\n",
       "      <th>dir</th>\n",
       "      <th>hir</th>\n",
       "      <th>lvr</th>\n",
       "      <th>Isi</th>\n",
       "      <th>comdominiom</th>\n",
       "    </tr>\n",
       "  </thead>\n",
       "  <tbody>\n",
       "    <tr>\n",
       "      <th>1884</th>\n",
       "      <td>0.21</td>\n",
       "      <td>0.217706</td>\n",
       "      <td>0.750000</td>\n",
       "      <td>0</td>\n",
       "      <td>0</td>\n",
       "    </tr>\n",
       "    <tr>\n",
       "      <th>1784</th>\n",
       "      <td>0.36</td>\n",
       "      <td>0.240000</td>\n",
       "      <td>0.800000</td>\n",
       "      <td>0</td>\n",
       "      <td>0</td>\n",
       "    </tr>\n",
       "    <tr>\n",
       "      <th>2143</th>\n",
       "      <td>0.36</td>\n",
       "      <td>0.250000</td>\n",
       "      <td>0.800000</td>\n",
       "      <td>0</td>\n",
       "      <td>0</td>\n",
       "    </tr>\n",
       "    <tr>\n",
       "      <th>1863</th>\n",
       "      <td>0.37</td>\n",
       "      <td>0.210000</td>\n",
       "      <td>0.770950</td>\n",
       "      <td>0</td>\n",
       "      <td>0</td>\n",
       "    </tr>\n",
       "    <tr>\n",
       "      <th>1564</th>\n",
       "      <td>0.26</td>\n",
       "      <td>0.220000</td>\n",
       "      <td>0.897436</td>\n",
       "      <td>0</td>\n",
       "      <td>1</td>\n",
       "    </tr>\n",
       "  </tbody>\n",
       "</table>\n",
       "</div>"
      ],
      "text/plain": [
       "       dir       hir       lvr  Isi  comdominiom\n",
       "1884  0.21  0.217706  0.750000    0            0\n",
       "1784  0.36  0.240000  0.800000    0            0\n",
       "2143  0.36  0.250000  0.800000    0            0\n",
       "1863  0.37  0.210000  0.770950    0            0\n",
       "1564  0.26  0.220000  0.897436    0            1"
      ]
     },
     "execution_count": 238,
     "metadata": {},
     "output_type": "execute_result"
    }
   ],
   "source": [
    "# sanity check on training data\n",
    "X_train[:5]"
   ]
  },
  {
   "cell_type": "code",
   "execution_count": 239,
   "metadata": {},
   "outputs": [
    {
     "data": {
      "text/plain": [
       "array(['no', 'no', 'no', 'no', 'no'], dtype=object)"
      ]
     },
     "execution_count": 239,
     "metadata": {},
     "output_type": "execute_result"
    }
   ],
   "source": [
    "# sanity check on training data\n",
    "Y_train[:5]"
   ]
  },
  {
   "cell_type": "code",
   "execution_count": 240,
   "metadata": {},
   "outputs": [
    {
     "data": {
      "text/plain": [
       "LogisticRegression(C=1.0, class_weight=None, dual=False, fit_intercept=True,\n",
       "                   intercept_scaling=1, l1_ratio=None, max_iter=100,\n",
       "                   multi_class='auto', n_jobs=None, penalty='l2',\n",
       "                   random_state=None, solver='lbfgs', tol=0.0001, verbose=0,\n",
       "                   warm_start=False)"
      ]
     },
     "execution_count": 240,
     "metadata": {},
     "output_type": "execute_result"
    }
   ],
   "source": [
    "# We're using the LogisticRegression() method for this model\n",
    "model = LogisticRegression()\n",
    "\n",
    "# fit the model: X_train contains our explanatory variables while \n",
    "# Y_train contains the response variable\n",
    "model.fit(X_train, Y_train)"
   ]
  },
  {
   "cell_type": "code",
   "execution_count": 241,
   "metadata": {},
   "outputs": [
    {
     "data": {
      "text/plain": [
       "0.9060322641391"
      ]
     },
     "execution_count": 241,
     "metadata": {},
     "output_type": "execute_result"
    }
   ],
   "source": [
    "from sklearn.model_selection import cross_val_score\n",
    "results1 = cross_val_score(model,X_train,Y_train,cv=5)\n",
    "results1.mean()"
   ]
  },
  {
   "cell_type": "code",
   "execution_count": 242,
   "metadata": {},
   "outputs": [
    {
     "data": {
      "text/plain": [
       "0.9060402684563759"
      ]
     },
     "execution_count": 242,
     "metadata": {},
     "output_type": "execute_result"
    }
   ],
   "source": [
    "# calculate the accuracy of the model relative to the training data set\n",
    "model.score(X_train, Y_train)"
   ]
  },
  {
   "cell_type": "markdown",
   "metadata": {},
   "source": [
    "### The score of the model did not show difference with the model with exploratory variables 'dir', 'hir', 'lvr', 'Isi'.\n",
    "\n",
    "### Therefore, I chose to use the logistic model with exploratory variables 'dir', 'hir', 'lvr', 'Isi'."
   ]
  },
  {
   "cell_type": "markdown",
   "metadata": {},
   "source": [
    "In this binary logistic regression model, the value of the response variable is the \"log odds\" of the binary outcome being either a '0' or '1' ('0' meaning the applicant was more likely to be denied while '1' indicates the applicant was more likely to be approved)."
   ]
  },
  {
   "cell_type": "code",
   "execution_count": 286,
   "metadata": {},
   "outputs": [
    {
     "name": "stdout",
     "output_type": "stream",
     "text": [
      "           dir       hir       lvr  Isi\n",
      "0     0.221000  0.221000  0.800000    0\n",
      "1     0.265000  0.265000  0.921875    0\n",
      "2     0.372000  0.248000  0.920398    0\n",
      "3     0.320000  0.250000  0.860465    0\n",
      "7     0.280000  0.220000  0.850000    0\n",
      "...        ...       ...       ...  ...\n",
      "2374  0.330000  0.160000  0.803030    0\n",
      "2375  0.310000  0.250000  0.800000    0\n",
      "2378  0.320000  0.260000  0.753846    0\n",
      "2379  0.350000  0.260000  0.813559    0\n",
      "2380  0.330814  0.255346  0.700783    0\n",
      "\n",
      "[1118 rows x 4 columns]\n"
     ]
    },
    {
     "data": {
      "text/plain": [
       "array([[-0.08636855, -0.78733972,  1.54862894,  3.09945012]])"
      ]
     },
     "execution_count": 286,
     "metadata": {},
     "output_type": "execute_result"
    }
   ],
   "source": [
    "# create a dummy variable for the 'dmi' attribute\n",
    "mortgage3['Isi'] = (mortgage3['dmi'] == 'yes').astype(int)\n",
    "X = mortgage3[['dir','hir','lvr','Isi']]\n",
    "Y = mortgage3['deny'].values\n",
    "from sklearn.model_selection import train_test_split\n",
    "X_train, X_test, Y_train, Y_test = train_test_split(X,Y,test_size = 0.2,random_state = 10)\n",
    "# We're using the LogisticRegression() method for this model\n",
    "model = LogisticRegression()\n",
    "# fit the model: X_train contains our explanatory variables while \n",
    "# Y_train contains the response variable\n",
    "model.fit(X_train, Y_train)\n",
    "print(X)\n",
    "model.coef_"
   ]
  },
  {
   "cell_type": "markdown",
   "metadata": {},
   "source": [
    "From the above we see that:\n",
    "\n",
    "- __dir__: An increase in the value of 'dir' is associated with a __decreased__ likelihood of being approved, i.e., applicants with higher dir were more likely to be denied than were applicants haveing relatively lower dir.\n",
    "\n",
    "\n",
    "- __hir__: An increase in the value of 'hir' is associated with a __decreased__ likelihood of being approved, i.e., applicants with higher hir were more likely to be denied than were applicants haveing relatively lower hir.\n",
    "\n",
    "\n",
    "- __lvr__: An increase in the value of 'lvr' is associated with a __increased__ likelihood of being approved, i.e., applicants with lower lvr were more likely to be denied than were applicants haveing relatively higher lvr.\n",
    "\n",
    "\n",
    "- __Isi__: Being insured __increased__ the likelihood of being approved.\n"
   ]
  },
  {
   "cell_type": "code",
   "execution_count": 287,
   "metadata": {},
   "outputs": [
    {
     "data": {
      "text/plain": [
       "array(['no', 'no', 'no', 'no', 'no', 'no', 'no', 'no', 'no', 'no', 'no',\n",
       "       'no', 'no', 'no', 'no', 'no', 'no', 'no', 'no', 'no', 'no', 'no',\n",
       "       'no', 'no', 'no', 'no', 'no', 'no', 'no', 'no', 'no', 'no', 'no',\n",
       "       'no', 'no', 'no', 'no', 'no', 'no', 'yes', 'no', 'no', 'no', 'no',\n",
       "       'no', 'no', 'no', 'no', 'no', 'no', 'no', 'no', 'no', 'no', 'no',\n",
       "       'no', 'no', 'no', 'no', 'no', 'no', 'no', 'no', 'no', 'no', 'no',\n",
       "       'no', 'no', 'no', 'no', 'no', 'no', 'no', 'no', 'no', 'no', 'no',\n",
       "       'no', 'no', 'no', 'no', 'no', 'no', 'no', 'no', 'no', 'no', 'no',\n",
       "       'no', 'no', 'no', 'no', 'no', 'no', 'no', 'no', 'no', 'no', 'no',\n",
       "       'no', 'no', 'no', 'no', 'no', 'no', 'no', 'no', 'no', 'no', 'no',\n",
       "       'no', 'no', 'no', 'no', 'no', 'no', 'no', 'no', 'no', 'no', 'no',\n",
       "       'no', 'no', 'no', 'no', 'no', 'no', 'no', 'no', 'no', 'yes', 'no',\n",
       "       'no', 'no', 'no', 'no', 'no', 'no', 'no', 'no', 'no', 'no', 'no',\n",
       "       'no', 'no', 'no', 'no', 'no', 'no', 'no', 'no', 'yes', 'no', 'no',\n",
       "       'no', 'no', 'no', 'no', 'no', 'no', 'no', 'no', 'no', 'no', 'no',\n",
       "       'no', 'no', 'no', 'no', 'no', 'no', 'no', 'no', 'no', 'no', 'no',\n",
       "       'no', 'no', 'no', 'no', 'no', 'no', 'no', 'no', 'no', 'no', 'no',\n",
       "       'no', 'no', 'no', 'no', 'no', 'no', 'no', 'no', 'no', 'no', 'no',\n",
       "       'no', 'no'], dtype=object)"
      ]
     },
     "execution_count": 287,
     "metadata": {},
     "output_type": "execute_result"
    }
   ],
   "source": [
    "# generate predictions for the test data using our new model\n",
    "y_predict = model.predict(X_test)\n",
    "y_predict[:200]"
   ]
  },
  {
   "cell_type": "markdown",
   "metadata": {},
   "source": [
    "The 'y_predict' array contains predictions that answer the question: \"__Was a given applicant being denied?__\"\n",
    "\n",
    "we could now check the performance of the model via a variety of error metrics (e.g., accuracy, specificity, precision, recall, AUC, etc.).\n",
    "\n",
    "## Check the performance of the model:"
   ]
  },
  {
   "cell_type": "markdown",
   "metadata": {},
   "source": [
    "### Use Pandas’ crosstab() function to calculate the contents of a confusion matrix for the data. "
   ]
  },
  {
   "cell_type": "code",
   "execution_count": 259,
   "metadata": {},
   "outputs": [
    {
     "data": {
      "text/html": [
       "<div>\n",
       "<style scoped>\n",
       "    .dataframe tbody tr th:only-of-type {\n",
       "        vertical-align: middle;\n",
       "    }\n",
       "\n",
       "    .dataframe tbody tr th {\n",
       "        vertical-align: top;\n",
       "    }\n",
       "\n",
       "    .dataframe thead th {\n",
       "        text-align: right;\n",
       "    }\n",
       "</style>\n",
       "<table border=\"1\" class=\"dataframe\">\n",
       "  <thead>\n",
       "    <tr style=\"text-align: right;\">\n",
       "      <th>Actual</th>\n",
       "      <th>no</th>\n",
       "      <th>yes</th>\n",
       "    </tr>\n",
       "    <tr>\n",
       "      <th>Predicted</th>\n",
       "      <th></th>\n",
       "      <th></th>\n",
       "    </tr>\n",
       "  </thead>\n",
       "  <tbody>\n",
       "    <tr>\n",
       "      <th>no</th>\n",
       "      <td>199</td>\n",
       "      <td>22</td>\n",
       "    </tr>\n",
       "    <tr>\n",
       "      <th>yes</th>\n",
       "      <td>0</td>\n",
       "      <td>3</td>\n",
       "    </tr>\n",
       "  </tbody>\n",
       "</table>\n",
       "</div>"
      ],
      "text/plain": [
       "Actual      no  yes\n",
       "Predicted          \n",
       "no         199   22\n",
       "yes          0    3"
      ]
     },
     "execution_count": 259,
     "metadata": {},
     "output_type": "execute_result"
    }
   ],
   "source": [
    "confusion_matrix = pd.crosstab(y_predict, Y_test, rownames=['Predicted'], colnames=['Actual'])\n",
    "confusion_matrix"
   ]
  },
  {
   "cell_type": "markdown",
   "metadata": {},
   "source": [
    "Treat actual no and predicted no as \"True Positive\", actual no and predicted yes as \"False Positive\",actual yes and predicted yes as \"True Negative\", actual yes and predicted no as \"False Positive\", \n",
    "\n",
    "so \n",
    "\n",
    "- TP is 199\n",
    "\n",
    "- FP is 0\n",
    "\n",
    "- TN is 3\n",
    "\n",
    "- FN is 22\n",
    "\n",
    "Then I could calculate the metrics: "
   ]
  },
  {
   "cell_type": "code",
   "execution_count": 275,
   "metadata": {},
   "outputs": [],
   "source": [
    "def metrics(TP,FP,TN,FN):\n",
    "        \n",
    "        Accuracy = (TP + TN)/(TP + TN + FP + FN)\n",
    "        Precision = (TP)/(TP + FP)\n",
    "        Sensitivity = (TP)/(TP + FN)\n",
    "        Specificity = (TN)/(TN + FP)\n",
    "        F1score = (2*TP)/(TP+FP+TP+FN)\n",
    "        \n",
    "        return(Accuracy,Precision,Sensitivity,Specificity)"
   ]
  },
  {
   "cell_type": "code",
   "execution_count": 276,
   "metadata": {},
   "outputs": [
    {
     "data": {
      "text/plain": [
       "(0.9017857142857143, 1.0, 0.9004524886877828, 1.0)"
      ]
     },
     "execution_count": 276,
     "metadata": {},
     "output_type": "execute_result"
    }
   ],
   "source": [
    "metrics(199,0,3,22)"
   ]
  },
  {
   "cell_type": "markdown",
   "metadata": {},
   "source": [
    "The metrics show the model I use is pretty good."
   ]
  },
  {
   "cell_type": "markdown",
   "metadata": {},
   "source": [
    "# Evaluate the model using 10-fold cross-validation"
   ]
  },
  {
   "cell_type": "code",
   "execution_count": 278,
   "metadata": {},
   "outputs": [
    {
     "name": "stdout",
     "output_type": "stream",
     "text": [
      "[0.92857143 0.91964286 0.92857143 0.91071429 0.89285714 0.88392857\n",
      " 0.91071429 0.88392857 0.9009009  0.89189189]\n",
      "0.9051721364221363\n"
     ]
    }
   ],
   "source": [
    "scores = cross_val_score(LogisticRegression(), X, Y, scoring='accuracy', cv=10)\n",
    "print (scores)\n",
    "print (scores.mean())"
   ]
  },
  {
   "cell_type": "markdown",
   "metadata": {},
   "source": [
    "# Generate class probabilities"
   ]
  },
  {
   "cell_type": "code",
   "execution_count": 282,
   "metadata": {},
   "outputs": [
    {
     "name": "stdout",
     "output_type": "stream",
     "text": [
      "[[0.88742287 0.11257713]\n",
      " [0.90812014 0.09187986]\n",
      " [0.91445498 0.08554502]\n",
      " [0.90897347 0.09102653]\n",
      " [0.89075933 0.10924067]\n",
      " [0.88404296 0.11595704]\n",
      " [0.88666254 0.11333746]\n",
      " [0.90168197 0.09831803]\n",
      " [0.90267798 0.09732202]\n",
      " [0.90841467 0.09158533]\n",
      " [0.9182531  0.0817469 ]\n",
      " [0.86901128 0.13098872]\n",
      " [0.90171761 0.09828239]\n",
      " [0.91366734 0.08633266]\n",
      " [0.90188275 0.09811725]\n",
      " [0.90693836 0.09306164]\n",
      " [0.904737   0.095263  ]\n",
      " [0.87326578 0.12673422]\n",
      " [0.90395055 0.09604945]\n",
      " [0.88907394 0.11092606]\n",
      " [0.90803411 0.09196589]\n",
      " [0.91120282 0.08879718]\n",
      " [0.91731955 0.08268045]\n",
      " [0.90842228 0.09157772]\n",
      " [0.91435961 0.08564039]\n",
      " [0.90457635 0.09542365]\n",
      " [0.91143329 0.08856671]\n",
      " [0.9150736  0.0849264 ]\n",
      " [0.90716748 0.09283252]\n",
      " [0.90985736 0.09014264]\n",
      " [0.87034034 0.12965966]\n",
      " [0.90211112 0.09788888]\n",
      " [0.8915142  0.1084858 ]\n",
      " [0.91235337 0.08764663]\n",
      " [0.8741127  0.1258873 ]\n",
      " [0.92071089 0.07928911]\n",
      " [0.90568723 0.09431277]\n",
      " [0.92378084 0.07621916]\n",
      " [0.90723743 0.09276257]\n",
      " [0.30784807 0.69215193]\n",
      " [0.87361387 0.12638613]\n",
      " [0.90546344 0.09453656]\n",
      " [0.88494928 0.11505072]\n",
      " [0.91931571 0.08068429]\n",
      " [0.92390605 0.07609395]\n",
      " [0.92208292 0.07791708]\n",
      " [0.91178056 0.08821944]\n",
      " [0.90802222 0.09197778]\n",
      " [0.908464   0.091536  ]\n",
      " [0.87921124 0.12078876]\n",
      " [0.91293634 0.08706366]\n",
      " [0.88887701 0.11112299]\n",
      " [0.92721505 0.07278495]\n",
      " [0.90783849 0.09216151]\n",
      " [0.89769506 0.10230494]\n",
      " [0.90825898 0.09174102]\n",
      " [0.91899467 0.08100533]\n",
      " [0.87765042 0.12234958]\n",
      " [0.90516468 0.09483532]\n",
      " [0.88543483 0.11456517]\n",
      " [0.9088227  0.0911773 ]\n",
      " [0.92393919 0.07606081]\n",
      " [0.90118572 0.09881428]\n",
      " [0.89557331 0.10442669]\n",
      " [0.90341005 0.09658995]\n",
      " [0.88526855 0.11473145]\n",
      " [0.9080827  0.0919173 ]\n",
      " [0.90808125 0.09191875]\n",
      " [0.90823902 0.09176098]\n",
      " [0.88779911 0.11220089]\n",
      " [0.9216426  0.0783574 ]\n",
      " [0.91318201 0.08681799]\n",
      " [0.89250254 0.10749746]\n",
      " [0.90304874 0.09695126]\n",
      " [0.9236507  0.0763493 ]\n",
      " [0.92162059 0.07837941]\n",
      " [0.89264476 0.10735524]\n",
      " [0.90473269 0.09526731]\n",
      " [0.89244823 0.10755177]\n",
      " [0.89796909 0.10203091]\n",
      " [0.89998472 0.10001528]\n",
      " [0.89929126 0.10070874]\n",
      " [0.88717405 0.11282595]\n",
      " [0.88734291 0.11265709]\n",
      " [0.92594261 0.07405739]\n",
      " [0.89551198 0.10448802]\n",
      " [0.9259149  0.0740851 ]\n",
      " [0.91727881 0.08272119]\n",
      " [0.89211473 0.10788527]\n",
      " [0.9183325  0.0816675 ]\n",
      " [0.88664027 0.11335973]\n",
      " [0.89477182 0.10522818]\n",
      " [0.91415056 0.08584944]\n",
      " [0.91339974 0.08660026]\n",
      " [0.90413982 0.09586018]\n",
      " [0.89434234 0.10565766]\n",
      " [0.91295654 0.08704346]\n",
      " [0.91604683 0.08395317]\n",
      " [0.89217201 0.10782799]\n",
      " [0.91235924 0.08764076]\n",
      " [0.90694926 0.09305074]\n",
      " [0.88580789 0.11419211]\n",
      " [0.91934523 0.08065477]\n",
      " [0.89696043 0.10303957]\n",
      " [0.91991198 0.08008802]\n",
      " [0.91384311 0.08615689]\n",
      " [0.89212912 0.10787088]\n",
      " [0.90043559 0.09956441]\n",
      " [0.91457743 0.08542257]\n",
      " [0.90692002 0.09307998]\n",
      " [0.91861841 0.08138159]\n",
      " [0.8956618  0.1043382 ]\n",
      " [0.91944134 0.08055866]\n",
      " [0.91239026 0.08760974]\n",
      " [0.89751425 0.10248575]\n",
      " [0.90278309 0.09721691]\n",
      " [0.90266159 0.09733841]\n",
      " [0.88886155 0.11113845]\n",
      " [0.90437282 0.09562718]\n",
      " [0.9139101  0.0860899 ]\n",
      " [0.90579301 0.09420699]\n",
      " [0.88941759 0.11058241]\n",
      " [0.90206414 0.09793586]\n",
      " [0.88799466 0.11200534]\n",
      " [0.92128638 0.07871362]\n",
      " [0.91527388 0.08472612]\n",
      " [0.90687871 0.09312129]\n",
      " [0.89502448 0.10497552]\n",
      " [0.8969392  0.1030608 ]\n",
      " [0.92949576 0.07050424]\n",
      " [0.25905251 0.74094749]\n",
      " [0.89227672 0.10772328]\n",
      " [0.91612333 0.08387667]\n",
      " [0.87793349 0.12206651]\n",
      " [0.92177712 0.07822288]\n",
      " [0.89351665 0.10648335]\n",
      " [0.91050109 0.08949891]\n",
      " [0.911843   0.088157  ]\n",
      " [0.90952971 0.09047029]\n",
      " [0.91899147 0.08100853]\n",
      " [0.91915394 0.08084606]\n",
      " [0.88532899 0.11467101]\n",
      " [0.90050276 0.09949724]\n",
      " [0.90245382 0.09754618]\n",
      " [0.91255149 0.08744851]\n",
      " [0.8921384  0.1078616 ]\n",
      " [0.89968072 0.10031928]\n",
      " [0.92419087 0.07580913]\n",
      " [0.87880721 0.12119279]\n",
      " [0.89443987 0.10556013]\n",
      " [0.90102682 0.09897318]\n",
      " [0.2818756  0.7181244 ]\n",
      " [0.89003611 0.10996389]\n",
      " [0.89665523 0.10334477]\n",
      " [0.89719212 0.10280788]\n",
      " [0.90806971 0.09193029]\n",
      " [0.89669601 0.10330399]\n",
      " [0.89242429 0.10757571]\n",
      " [0.89547513 0.10452487]\n",
      " [0.89584938 0.10415062]\n",
      " [0.91221678 0.08778322]\n",
      " [0.90791591 0.09208409]\n",
      " [0.88642407 0.11357593]\n",
      " [0.89385222 0.10614778]\n",
      " [0.92567865 0.07432135]\n",
      " [0.91443196 0.08556804]\n",
      " [0.91282728 0.08717272]\n",
      " [0.89146444 0.10853556]\n",
      " [0.8913471  0.1086529 ]\n",
      " [0.87768893 0.12231107]\n",
      " [0.88472944 0.11527056]\n",
      " [0.89656644 0.10343356]\n",
      " [0.92523394 0.07476606]\n",
      " [0.91337047 0.08662953]\n",
      " [0.90604861 0.09395139]\n",
      " [0.90928689 0.09071311]\n",
      " [0.90763867 0.09236133]\n",
      " [0.89143936 0.10856064]\n",
      " [0.91057333 0.08942667]\n",
      " [0.88154318 0.11845682]\n",
      " [0.90283665 0.09716335]\n",
      " [0.90837186 0.09162814]\n",
      " [0.90096443 0.09903557]\n",
      " [0.89673137 0.10326863]\n",
      " [0.8988832  0.1011168 ]\n",
      " [0.90593847 0.09406153]\n",
      " [0.89348751 0.10651249]\n",
      " [0.90544964 0.09455036]\n",
      " [0.8813676  0.1186324 ]\n",
      " [0.90144467 0.09855533]\n",
      " [0.90178665 0.09821335]\n",
      " [0.90694127 0.09305873]\n",
      " [0.90920378 0.09079622]\n",
      " [0.902073   0.097927  ]\n",
      " [0.90233017 0.09766983]\n",
      " [0.91819727 0.08180273]\n",
      " [0.90609409 0.09390591]\n",
      " [0.91992027 0.08007973]\n",
      " [0.90334019 0.09665981]\n",
      " [0.90332314 0.09667686]\n",
      " [0.92681229 0.07318771]\n",
      " [0.90767217 0.09232783]\n",
      " [0.90668121 0.09331879]\n",
      " [0.89416959 0.10583041]\n",
      " [0.92160523 0.07839477]\n",
      " [0.92792506 0.07207494]\n",
      " [0.89720112 0.10279888]\n",
      " [0.91672728 0.08327272]\n",
      " [0.90391501 0.09608499]\n",
      " [0.8776304  0.1223696 ]\n",
      " [0.90626574 0.09373426]\n",
      " [0.89058201 0.10941799]\n",
      " [0.89734154 0.10265846]\n",
      " [0.92047424 0.07952576]\n",
      " [0.92585828 0.07414172]\n",
      " [0.89552762 0.10447238]\n",
      " [0.89324468 0.10675532]\n",
      " [0.91690605 0.08309395]\n",
      " [0.86350884 0.13649116]\n",
      " [0.91305569 0.08694431]\n",
      " [0.91175214 0.08824786]\n",
      " [0.88525115 0.11474885]\n",
      " [0.89948999 0.10051001]\n",
      " [0.8990655  0.1009345 ]]\n"
     ]
    }
   ],
   "source": [
    "# generate class probabilities\n",
    "probs = model.predict_proba(X_test)\n",
    "print (probs)"
   ]
  },
  {
   "cell_type": "markdown",
   "metadata": {},
   "source": [
    "## Conclusion:\n",
    "\n",
    "- After using domain knowledge, I shrinked the size of data set\n",
    "\n",
    "- After thorough EDA, I substituted the outliers with their means\n",
    "\n",
    "- I have constructed several logistic regression model using different exploratory variables such as:\n",
    "1. 'dir','hir','lvr','Issingle'\n",
    "2. 'dir','hir','lvr','Isbad'\n",
    "3. 'dir','hir','lvr','Isi'\n",
    "4. 'dir','hir','lvr','Isself'\n",
    "5. 'dir','hir','lvr','Isblack'\n",
    "6. 'dir','hir','lvr','Isi','uria'\n",
    "7. 'dir','hir','lvr','Isi','ccs','mcs'\n",
    "8. 'dir','hir','lvr','Isi','comdominiom'\n",
    "\n",
    "- After trials, I found the logistic regression model with exploratory variables \"dir\",\"hir\" \"lvr\" and \"Isi\" made the highest score of the model, therefore, I chose this model as the best model to apply on logistic regression.\n",
    "\n",
    "- The model shows the approvement is related more with dir, hir, lvr and dmi, if an applicant has higher dir and hir, the probability for him to be denied will increase, if an applicant has higher lvr, the probability for him to be denied will decrease, if he has denied mortgage insurance, the probability for him to be denied will decrease. Except that, whether the applicant is single, self-employed, black and having bad credit record did not affect the score of the model. \n",
    "\n",
    "- The result did not show discrimination exists in mortgage, but the bank may have business cooperation with insurance company."
   ]
  }
 ],
 "metadata": {
  "kernelspec": {
   "display_name": "Python 3",
   "language": "python",
   "name": "python3"
  },
  "language_info": {
   "codemirror_mode": {
    "name": "ipython",
    "version": 3
   },
   "file_extension": ".py",
   "mimetype": "text/x-python",
   "name": "python",
   "nbconvert_exporter": "python",
   "pygments_lexer": "ipython3",
   "version": "3.7.6"
  }
 },
 "nbformat": 4,
 "nbformat_minor": 4
}
